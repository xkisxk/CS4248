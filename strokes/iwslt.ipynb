{
 "cells": [
  {
   "cell_type": "code",
   "execution_count": 1,
   "metadata": {},
   "outputs": [],
   "source": [
    "from datasets import load_dataset\n",
    "\n",
    "dataset_name = \"iwslt2017\"\n",
    "dataset = load_dataset(dataset_name, \"iwslt2017-zh-en\", cache_dir=\"./cache\")"
   ]
  },
  {
   "cell_type": "code",
   "execution_count": 2,
   "metadata": {},
   "outputs": [
    {
     "data": {
      "text/plain": [
       "DatasetDict({\n",
       "    train: Dataset({\n",
       "        features: ['translation'],\n",
       "        num_rows: 231266\n",
       "    })\n",
       "    test: Dataset({\n",
       "        features: ['translation'],\n",
       "        num_rows: 8549\n",
       "    })\n",
       "    validation: Dataset({\n",
       "        features: ['translation'],\n",
       "        num_rows: 879\n",
       "    })\n",
       "})"
      ]
     },
     "execution_count": 2,
     "metadata": {},
     "output_type": "execute_result"
    }
   ],
   "source": [
    "dataset"
   ]
  },
  {
   "cell_type": "code",
   "execution_count": 5,
   "metadata": {},
   "outputs": [],
   "source": [
    "# Adds traditional chinese\n",
    "import opencc\n",
    "converter = opencc.OpenCC('s2t.json')\n",
    "\n",
    "# Create dataset for BPE learning\n",
    "trad_chinese_list = []\n",
    "eng_list = []\n",
    "for pair in dataset[\"train\"][\"translation\"]:\n",
    "    trad_chinese_list.append(converter.convert(pair[\"zh\"]))\n",
    "    eng_list.append(pair[\"en\"])"
   ]
  },
  {
   "cell_type": "code",
   "execution_count": null,
   "metadata": {},
   "outputs": [],
   "source": [
    "# # Process it but also include other characters\n",
    "# def is_chinese_character(char):\n",
    "#     return 0x4e00 <= ord(char) <= 0x9fff\n",
    "\n",
    "# cnPunct2enPunct = {\n",
    "#     \"。\": '.', \n",
    "#     \"，\": ',', \n",
    "#     '？': '?', \n",
    "#     '‘': '\\'', \"’\": '\\'', \n",
    "#     '“': '\\\"', '”': '\\\"', \n",
    "#     '《': \"<\", \"》\": \">\", \n",
    "#     \"、\":',', \n",
    "#     \" ！\":\"!\",\n",
    "#     \"：\": \":\",\n",
    "#     \"；\": \";\",\n",
    "#     \"·\": \"`\",\n",
    "#     \"（\": \"(\",\n",
    "#     \"）\":\")\",\n",
    "# }\n",
    "\n",
    "# def strokify(text):\n",
    "#     new_text = str()\n",
    "#     is_english = False\n",
    "#     is_start = True\n",
    "#     for char in text:\n",
    "#         if not is_start and not is_english: new_text += \" \"\n",
    "#         is_start = False\n",
    "#         if is_chinese_character(char):\n",
    "#             if is_english: new_text += \" \"\n",
    "#             new_text += zh2letter[char]\n",
    "#             is_english = False\n",
    "#         elif char.isalpha() and ('A' <= char <= 'Z' or 'a' <= char <= 'z'):\n",
    "#             new_text += char\n",
    "#             is_english = True\n",
    "#         elif char in cnPunct2enPunct:\n",
    "#             new_text += cnPunct2enPunct[char]\n",
    "#         else:\n",
    "#             new_text += char\n",
    "#     return new_text"
   ]
  },
  {
   "cell_type": "code",
   "execution_count": 7,
   "metadata": {},
   "outputs": [],
   "source": [
    "# Take text that has only chinese characters\n",
    "import re\n",
    "all_text = []\n",
    "chinese_character_pattern = re.compile(r'[\\u4e00-\\u9fff]+')\n",
    "# Remove all non-chinese characters\n",
    "for text in trad_chinese_list:\n",
    "    for lines in text.splitlines():\n",
    "        if len(lines) == 0: continue\n",
    "        chinese_characters_only = chinese_character_pattern.findall(lines)\n",
    "        if len(chinese_characters_only) == 0: continue\n",
    "        chinese_text = ''.join(chinese_characters_only)\n",
    "        all_text.append(chinese_text)"
   ]
  },
  {
   "cell_type": "code",
   "execution_count": 9,
   "metadata": {},
   "outputs": [],
   "source": [
    "import json\n",
    "with open(f'./traditional_chinese_sentences_iwslt.json', 'w') as f:\n",
    "    json.dump(all_text, f)\n",
    "\n",
    "with open(f'./english_sentences_iwslt.json', 'w') as f:\n",
    "    json.dump(eng_list, f)"
   ]
  },
  {
   "cell_type": "code",
   "execution_count": null,
   "metadata": {},
   "outputs": [],
   "source": [
    "from collections import defaultdict\n",
    "# Create dict for text into strokes translation and vice versa\n",
    "with open(\"zh2letter.txt\", 'r', encoding=\"utf-8\") as f:\n",
    "    conversions = f.read()\n",
    "\n",
    "conversions = conversions.splitlines()\n",
    "zh2letter = defaultdict(str)\n",
    "letter2zh = defaultdict(str)\n",
    "for line in conversions:\n",
    "    chinese_char, strokes = line.split()\n",
    "    zh2letter[chinese_char] = strokes\n",
    "    letter2zh[strokes] = chinese_char"
   ]
  },
  {
   "cell_type": "code",
   "execution_count": 19,
   "metadata": {},
   "outputs": [],
   "source": [
    "def is_chinese_character(char):\n",
    "    return 0x4e00 <= ord(char) <= 0x9fff\n",
    "\n",
    "def strokify(text):\n",
    "    strokes = [zh2letter[x] for x in text if zh2letter[x] != []]\n",
    "    for stroke in strokes:\n",
    "        if len(stroke) == 0:\n",
    "            print(text)\n",
    "            print([zh2letter[x] for x in text])\n",
    "    return \" \".join(strokes)"
   ]
  },
  {
   "cell_type": "code",
   "execution_count": 20,
   "metadata": {},
   "outputs": [],
   "source": [
    "stroke_sentences = [strokify(sent) for sent in all_text]"
   ]
  },
  {
   "cell_type": "code",
   "execution_count": 21,
   "metadata": {},
   "outputs": [],
   "source": [
    "# Save stroke_sentences into txt\n",
    "filename = f\"./{dataset_name}_strokes.txt\"\n",
    "with open(filename, 'w', encoding=\"utf-8\") as f:\n",
    "    for string in stroke_sentences:\n",
    "        f.write(string + '\\n')"
   ]
  },
  {
   "cell_type": "code",
   "execution_count": 22,
   "metadata": {},
   "outputs": [],
   "source": [
    "from tokenizers import Tokenizer\n",
    "from tokenizers.models import BPE\n",
    "from tokenizers.trainers import BpeTrainer\n",
    "from tokenizers.pre_tokenizers import Whitespace"
   ]
  },
  {
   "cell_type": "code",
   "execution_count": 23,
   "metadata": {},
   "outputs": [],
   "source": [
    "import os\n",
    "\n",
    "save_path = f\"./{dataset_name}/\"\n",
    "if not os.path.exists(save_path):\n",
    "    os.makedirs(save_path)"
   ]
  },
  {
   "cell_type": "code",
   "execution_count": 24,
   "metadata": {},
   "outputs": [
    {
     "name": "stdout",
     "output_type": "stream",
     "text": [
      "500\n",
      "1000\n",
      "5000\n",
      "10000\n"
     ]
    }
   ],
   "source": [
    "vocab_sizes = [500, 1000, 5000, 10000]\n",
    "for vocab_size in vocab_sizes:\n",
    "    print(vocab_size)\n",
    "    tokenizer = Tokenizer(BPE(unk_token=\"[UNK]\", continuing_subword_prefix=\"##\", end_of_word_suffix=\"_\"))\n",
    "    trainer = BpeTrainer(special_tokens=[\"[UNK]\", \"[CLS]\", \"[SEP]\", \"[PAD]\", \"[MASK]\"], vocab_size=vocab_size)\n",
    "    tokenizer.pre_tokenizer = Whitespace()\n",
    "    tokenizer.train([filename], trainer)\n",
    "    tokenizer.save(f\"./{save_path}BPE_{vocab_size}.json\")"
   ]
  }
 ],
 "metadata": {
  "kernelspec": {
   "display_name": ".TFT_OCR_BOT",
   "language": "python",
   "name": "python3"
  },
  "language_info": {
   "codemirror_mode": {
    "name": "ipython",
    "version": 3
   },
   "file_extension": ".py",
   "mimetype": "text/x-python",
   "name": "python",
   "nbconvert_exporter": "python",
   "pygments_lexer": "ipython3",
   "version": "3.10.4"
  }
 },
 "nbformat": 4,
 "nbformat_minor": 2
}
