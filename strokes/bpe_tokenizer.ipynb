{
 "cells": [
  {
   "cell_type": "code",
   "execution_count": 71,
   "metadata": {},
   "outputs": [],
   "source": [
    "from tokenizers import Tokenizer\n",
    "from tokenizers.models import BPE\n",
    "from tokenizers.trainers import BpeTrainer\n",
    "from tokenizers.pre_tokenizers import Whitespace"
   ]
  },
  {
   "cell_type": "code",
   "execution_count": 82,
   "metadata": {},
   "outputs": [
    {
     "name": "stdout",
     "output_type": "stream",
     "text": [
      "1500\n"
     ]
    }
   ],
   "source": [
    "vocab_sizes = [1500]\n",
    "for vocab_size in vocab_sizes:\n",
    "    print(vocab_size)\n",
    "    tokenizer = Tokenizer(BPE(unk_token=\"[UNK]\", continuing_subword_prefix=\"##\", end_of_word_suffix=\"_\"))\n",
    "    trainer = BpeTrainer(special_tokens=[\"[UNK]\", \"[CLS]\", \"[SEP]\", \"[PAD]\", \"[MASK]\"], vocab_size=vocab_size)\n",
    "    tokenizer.pre_tokenizer = Whitespace()\n",
    "    tokenizer.train([\"./stroke_sentences.txt\"], trainer)\n",
    "    tokenizer.save(f\"./BPE_{vocab_size}.json\")"
   ]
  },
  {
   "cell_type": "code",
   "execution_count": 83,
   "metadata": {},
   "outputs": [],
   "source": [
    "from collections import defaultdict\n",
    "# Create dict for text into strokes translation and vice versa\n",
    "with open(\"zh2letter.txt\", 'r', encoding=\"utf-8\") as f:\n",
    "    conversions = f.read()\n",
    "\n",
    "conversions = conversions.splitlines()\n",
    "zh2letter = defaultdict(str)\n",
    "letter2zh = defaultdict(str)\n",
    "for line in conversions:\n",
    "    chinese_char, strokes = line.split()\n",
    "    zh2letter[chinese_char] = strokes\n",
    "    letter2zh[strokes] = chinese_char"
   ]
  },
  {
   "cell_type": "code",
   "execution_count": 94,
   "metadata": {},
   "outputs": [
    {
     "data": {
      "text/plain": [
       "'gteeaeeasoooo gteeaeeasoooo gtetbat gteeeatn0 gteoetodteetn'"
      ]
     },
     "execution_count": 94,
     "metadata": {},
     "output_type": "execute_result"
    }
   ],
   "source": [
    "text = \"我輸入\"\n",
    "text = \"媽媽姊妹嫉\"\n",
    "stroke_text = \" \".join([zh2letter[x] for x in text])\n",
    "stroke_text"
   ]
  },
  {
   "cell_type": "code",
   "execution_count": 80,
   "metadata": {},
   "outputs": [
    {
     "data": {
      "text/plain": [
       "'eaieeea'"
      ]
     },
     "execution_count": 80,
     "metadata": {},
     "output_type": "execute_result"
    }
   ],
   "source": [
    "zh2letter[\"車\"]"
   ]
  },
  {
   "cell_type": "code",
   "execution_count": 93,
   "metadata": {},
   "outputs": [
    {
     "data": {
      "text/plain": [
       "'eaieeeatneaseear'"
      ]
     },
     "execution_count": 93,
     "metadata": {},
     "output_type": "execute_result"
    }
   ],
   "source": [
    "zh2letter[\"輸\"]"
   ]
  },
  {
   "cell_type": "code",
   "execution_count": 96,
   "metadata": {},
   "outputs": [
    {
     "data": {
      "text/plain": [
       "['gteea',\n",
       " 'eeasoooo',\n",
       " 'gteea',\n",
       " 'eeasoooo',\n",
       " 'gtet',\n",
       " 'b',\n",
       " 'a',\n",
       " 't',\n",
       " 'g',\n",
       " 'tee',\n",
       " 'eatn',\n",
       " '0',\n",
       " 'gte',\n",
       " 'oetod',\n",
       " 'tee',\n",
       " 'tn']"
      ]
     },
     "execution_count": 96,
     "metadata": {},
     "output_type": "execute_result"
    }
   ],
   "source": [
    "BPE_file = \"./BPE_1000.json\"\n",
    "\n",
    "# Load the BPE tokenizer from the JSON file\n",
    "bpe_tokenizer = Tokenizer.from_file(BPE_file)\n",
    "tokens = bpe_tokenizer.encode(stroke_text)\n",
    "tokens.tokens"
   ]
  },
  {
   "cell_type": "code",
   "execution_count": 101,
   "metadata": {},
   "outputs": [
    {
     "data": {
      "text/plain": [
       "'女'"
      ]
     },
     "execution_count": 101,
     "metadata": {},
     "output_type": "execute_result"
    }
   ],
   "source": [
    "letter2zh[\"gte\"]"
   ]
  },
  {
   "cell_type": "code",
   "execution_count": 85,
   "metadata": {},
   "outputs": [
    {
     "name": "stdout",
     "output_type": "stream",
     "text": [
      "我\n",
      "[]\n",
      "[]\n",
      "入\n"
     ]
    }
   ],
   "source": [
    "for token in tokens.tokens:\n",
    "    print(letter2zh[token])"
   ]
  }
 ],
 "metadata": {
  "kernelspec": {
   "display_name": ".TFT_OCR_BOT",
   "language": "python",
   "name": "python3"
  },
  "language_info": {
   "codemirror_mode": {
    "name": "ipython",
    "version": 3
   },
   "file_extension": ".py",
   "mimetype": "text/x-python",
   "name": "python",
   "nbconvert_exporter": "python",
   "pygments_lexer": "ipython3",
   "version": "3.10.4"
  }
 },
 "nbformat": 4,
 "nbformat_minor": 2
}
