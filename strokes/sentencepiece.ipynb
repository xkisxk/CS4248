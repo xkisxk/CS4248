{
 "cells": [
  {
   "cell_type": "code",
   "execution_count": 1,
   "metadata": {},
   "outputs": [],
   "source": [
    "from tokenizers import SentencePieceBPETokenizer\n",
    "dataset = \"wikipedia\"\n",
    "with open(f\"./{dataset}_strokes.txt\", \"r\", encoding=\"utf-8\") as f:\n",
    "    text = f.readlines()"
   ]
  },
  {
   "cell_type": "code",
   "execution_count": 10,
   "metadata": {},
   "outputs": [
    {
     "name": "stdout",
     "output_type": "stream",
     "text": [
      "2000\n",
      "3000\n",
      "4000\n"
     ]
    }
   ],
   "source": [
    "tokenizer = SentencePieceBPETokenizer()\n",
    "vocab_sizes = [2000, 3000, 4000]\n",
    "for vocab_size in vocab_sizes:\n",
    "    print(vocab_size)\n",
    "    tokenizer.train_from_iterator(\n",
    "        text,\n",
    "        vocab_size=vocab_size,\n",
    "        min_frequency=5,\n",
    "        show_progress=True,\n",
    "        limit_alphabet=500,\n",
    "    )\n",
    "    tokenizer.save(f\"{dataset}/SentencePiece_{vocab_size}.json\")"
   ]
  },
  {
   "cell_type": "code",
   "execution_count": 11,
   "metadata": {},
   "outputs": [
    {
     "data": {
      "text/plain": [
       "['▁terduto', '▁eaieeeatn', 'easeear', '▁tn2']"
      ]
     },
     "execution_count": 11,
     "metadata": {},
     "output_type": "execute_result"
    }
   ],
   "source": [
    "from tokenizers import Tokenizer\n",
    "file = f\"{dataset}/SentencePiece_2000.json\"\n",
    "bpe_tokenizer = Tokenizer.from_file(file)\n",
    "stroke_text = 'terduto eaieeeatneaseear tn2'\n",
    "tokens = bpe_tokenizer.encode(stroke_text)\n",
    "tokens.tokens"
   ]
  },
  {
   "cell_type": "code",
   "execution_count": 12,
   "metadata": {},
   "outputs": [],
   "source": [
    "from collections import defaultdict\n",
    "# Create dict for text into strokes translation and vice versa\n",
    "with open(\"zh2letter.txt\", 'r', encoding=\"utf-8\") as f:\n",
    "    conversions = f.read()\n",
    "\n",
    "conversions = conversions.splitlines()\n",
    "zh2letter = defaultdict(str)\n",
    "letter2zh = defaultdict(str)\n",
    "for line in conversions:\n",
    "    chinese_char, strokes = line.split()\n",
    "    zh2letter[chinese_char] = strokes\n",
    "    letter2zh[strokes] = chinese_char"
   ]
  },
  {
   "cell_type": "code",
   "execution_count": 16,
   "metadata": {},
   "outputs": [
    {
     "data": {
      "text/plain": [
       "'車'"
      ]
     },
     "execution_count": 16,
     "metadata": {},
     "output_type": "execute_result"
    }
   ],
   "source": [
    "letter2zh[\"eaieeea\"]"
   ]
  },
  {
   "cell_type": "code",
   "execution_count": 31,
   "metadata": {},
   "outputs": [
    {
     "data": {
      "text/plain": [
       "['▁gteeaeeasoooo',\n",
       " '▁gteeaeeasoooo',\n",
       " '▁gtet',\n",
       " 'b',\n",
       " 'at',\n",
       " '▁gteeeatn0',\n",
       " '▁gteo',\n",
       " 'eto',\n",
       " 'd',\n",
       " 'teetn']"
      ]
     },
     "execution_count": 31,
     "metadata": {},
     "output_type": "execute_result"
    }
   ],
   "source": [
    "stroke_text = 'gteeaeeasoooo gteeaeeasoooo gtetbat gteeeatn0 gteoetodteetn'\n",
    "tokens = bpe_tokenizer.encode(stroke_text)\n",
    "tokens.tokens"
   ]
  },
  {
   "cell_type": "code",
   "execution_count": 40,
   "metadata": {},
   "outputs": [
    {
     "name": "stdout",
     "output_type": "stream",
     "text": [
      "gteeaeeasoooo 媽\n",
      "gteeaeeasoooo 媽\n",
      "gtet []\n",
      "b []\n",
      "at []\n",
      "gteeeatn0 妹\n",
      "gteo []\n",
      "eto []\n",
      "d []\n",
      "teetn []\n"
     ]
    }
   ],
   "source": [
    "for token in tokens.tokens:\n",
    "    if token[0] == '▁':\n",
    "        token = token[1:]    \n",
    "    print(token, letter2zh[token])"
   ]
  },
  {
   "cell_type": "code",
   "execution_count": 42,
   "metadata": {},
   "outputs": [
    {
     "data": {
      "text/plain": [
       "'馬'"
      ]
     },
     "execution_count": 42,
     "metadata": {},
     "output_type": "execute_result"
    }
   ],
   "source": [
    "letter2zh[\"eaeeasoooo\"]"
   ]
  },
  {
   "cell_type": "markdown",
   "metadata": {},
   "source": [
    "Train from T5 tokenizer"
   ]
  },
  {
   "cell_type": "code",
   "execution_count": 4,
   "metadata": {},
   "outputs": [
    {
     "name": "stderr",
     "output_type": "stream",
     "text": [
      "You are using the default legacy behaviour of the <class 'transformers.models.t5.tokenization_t5.T5Tokenizer'>. This is expected, and simply means that the `legacy` (previous) behavior will be used so nothing changes for you. If you want to use the new behaviour, set `legacy=False`. This should only be set if you understand what it means, and thoroughly read the reason why this was added as explained in https://github.com/huggingface/transformers/pull/24565\n",
      "c:\\Users\\xk_20\\Documents\\Code\\.TFT_OCR_BOT\\lib\\site-packages\\transformers\\convert_slow_tokenizer.py:550: UserWarning: The sentencepiece tokenizer that you are converting to a fast tokenizer uses the byte fallback option which is not implemented in the fast tokenizers. In practice this means that the fast version of the tokenizer can produce unknown tokens whereas the sentencepiece version would have converted these unknown tokens into a sequence of byte tokens matching the original piece of text.\n",
      "  warnings.warn(\n"
     ]
    }
   ],
   "source": [
    "from transformers import AutoTokenizer\n",
    "tokenizer = AutoTokenizer.from_pretrained(\"google/mt5-small\")"
   ]
  },
  {
   "cell_type": "code",
   "execution_count": 21,
   "metadata": {},
   "outputs": [],
   "source": [
    "new_tokenizer = tokenizer.train_new_from_iterator(text, 30000)"
   ]
  },
  {
   "cell_type": "code",
   "execution_count": 22,
   "metadata": {},
   "outputs": [
    {
     "data": {
      "text/plain": [
       "[179,\n",
       " 6,\n",
       " 8,\n",
       " 35,\n",
       " 3,\n",
       " 25,\n",
       " 334,\n",
       " 320,\n",
       " 37,\n",
       " 179,\n",
       " 6,\n",
       " 8,\n",
       " 315,\n",
       " 3,\n",
       " 3,\n",
       " 227,\n",
       " 331,\n",
       " 291,\n",
       " 4,\n",
       " 434,\n",
       " 4,\n",
       " 1851,\n",
       " 290,\n",
       " 167,\n",
       " 169,\n",
       " 10,\n",
       " 7,\n",
       " 331,\n",
       " 993,\n",
       " 705,\n",
       " 30,\n",
       " 4,\n",
       " 1851,\n",
       " 76,\n",
       " 4,\n",
       " 495,\n",
       " 1698,\n",
       " 1111,\n",
       " 4,\n",
       " 6,\n",
       " 18,\n",
       " 4,\n",
       " 3,\n",
       " 217,\n",
       " 35,\n",
       " 3,\n",
       " 145,\n",
       " 3,\n",
       " 5,\n",
       " 1354,\n",
       " 242,\n",
       " 31,\n",
       " 4,\n",
       " 3,\n",
       " 3,\n",
       " 6,\n",
       " 5,\n",
       " 6,\n",
       " 6,\n",
       " 6,\n",
       " 4,\n",
       " 3,\n",
       " 219,\n",
       " 145,\n",
       " 3,\n",
       " 5,\n",
       " 35,\n",
       " 3,\n",
       " 4,\n",
       " 6,\n",
       " 18,\n",
       " 4,\n",
       " 3,\n",
       " 188,\n",
       " 3,\n",
       " 5,\n",
       " 3,\n",
       " 179,\n",
       " 6,\n",
       " 8,\n",
       " 35,\n",
       " 3,\n",
       " 118,\n",
       " 237,\n",
       " 2253,\n",
       " 1116,\n",
       " 283,\n",
       " 1111,\n",
       " 32,\n",
       " 4,\n",
       " 5,\n",
       " 9,\n",
       " 5,\n",
       " 143,\n",
       " 23,\n",
       " 669,\n",
       " 5,\n",
       " 5,\n",
       " 3,\n",
       " 3,\n",
       " 3,\n",
       " 535,\n",
       " 144,\n",
       " 3,\n",
       " 3,\n",
       " 288,\n",
       " 204,\n",
       " 179,\n",
       " 6,\n",
       " 8,\n",
       " 204,\n",
       " 841,\n",
       " 5,\n",
       " 315,\n",
       " 3,\n",
       " 3,\n",
       " 153,\n",
       " 13,\n",
       " 8,\n",
       " 101,\n",
       " 99,\n",
       " 140,\n",
       " 146,\n",
       " 3,\n",
       " 4,\n",
       " 3,\n",
       " 3,\n",
       " 6,\n",
       " 5,\n",
       " 6,\n",
       " 6,\n",
       " 6,\n",
       " 871,\n",
       " 6,\n",
       " 8,\n",
       " 7,\n",
       " 4,\n",
       " 1851,\n",
       " 41,\n",
       " 23,\n",
       " 69,\n",
       " 4,\n",
       " 6,\n",
       " 18,\n",
       " 4,\n",
       " 3,\n",
       " 197,\n",
       " 141,\n",
       " 576,\n",
       " 7,\n",
       " 13,\n",
       " 645,\n",
       " 75,\n",
       " 58,\n",
       " 7,\n",
       " 638,\n",
       " 585,\n",
       " 108,\n",
       " 47,\n",
       " 179,\n",
       " 6,\n",
       " 8,\n",
       " 35,\n",
       " 3,\n",
       " 4,\n",
       " 7,\n",
       " 7,\n",
       " 61,\n",
       " 272,\n",
       " 1717,\n",
       " 638,\n",
       " 585,\n",
       " 28,\n",
       " 23,\n",
       " 487,\n",
       " 331,\n",
       " 993,\n",
       " 705,\n",
       " 30,\n",
       " 4,\n",
       " 434,\n",
       " 60,\n",
       " 4,\n",
       " 3,\n",
       " 219,\n",
       " 1111,\n",
       " 79,\n",
       " 6,\n",
       " 6,\n",
       " 3,\n",
       " 5,\n",
       " 4,\n",
       " 6,\n",
       " 18,\n",
       " 161,\n",
       " 433,\n",
       " 174,\n",
       " 30,\n",
       " 4,\n",
       " 434,\n",
       " 4,\n",
       " 1851,\n",
       " 288,\n",
       " 223,\n",
       " 23,\n",
       " 175,\n",
       " 8,\n",
       " 4,\n",
       " 6,\n",
       " 18,\n",
       " 60,\n",
       " 144,\n",
       " 3,\n",
       " 3,\n",
       " 4,\n",
       " 1851,\n",
       " 175,\n",
       " 8,\n",
       " 268,\n",
       " 72,\n",
       " 52,\n",
       " 75,\n",
       " 58,\n",
       " 7,\n",
       " 95,\n",
       " 733,\n",
       " 3327,\n",
       " 3,\n",
       " 5,\n",
       " 3,\n",
       " 40,\n",
       " 535,\n",
       " 71,\n",
       " 3,\n",
       " 10,\n",
       " 7,\n",
       " 52,\n",
       " 4,\n",
       " 3,\n",
       " 487,\n",
       " 175,\n",
       " 8,\n",
       " 144,\n",
       " 3,\n",
       " 3,\n",
       " 1]"
      ]
     },
     "execution_count": 22,
     "metadata": {},
     "output_type": "execute_result"
    }
   ],
   "source": [
    "new_tokenizer.encode(text[0])"
   ]
  },
  {
   "cell_type": "code",
   "execution_count": 23,
   "metadata": {},
   "outputs": [
    {
     "data": {
      "text/plain": [
       "('./sentencepiece/30000\\\\tokenizer_config.json',\n",
       " './sentencepiece/30000\\\\special_tokens_map.json',\n",
       " './sentencepiece/30000\\\\tokenizer.json')"
      ]
     },
     "execution_count": 23,
     "metadata": {},
     "output_type": "execute_result"
    }
   ],
   "source": [
    "new_tokenizer.save_pretrained(\"./sentencepiece/30000\")"
   ]
  }
 ],
 "metadata": {
  "kernelspec": {
   "display_name": ".TFT_OCR_BOT",
   "language": "python",
   "name": "python3"
  },
  "language_info": {
   "codemirror_mode": {
    "name": "ipython",
    "version": 3
   },
   "file_extension": ".py",
   "mimetype": "text/x-python",
   "name": "python",
   "nbconvert_exporter": "python",
   "pygments_lexer": "ipython3",
   "version": "3.10.4"
  }
 },
 "nbformat": 4,
 "nbformat_minor": 2
}
