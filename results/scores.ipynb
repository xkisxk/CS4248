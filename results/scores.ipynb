{
 "cells": [
  {
   "cell_type": "code",
   "execution_count": 3,
   "metadata": {},
   "outputs": [
    {
     "name": "stdout",
     "output_type": "stream",
     "text": [
      "./trad\\all\\generate-test.score\n"
     ]
    }
   ],
   "source": [
    "import os\n",
    "import fnmatch\n",
    "\n",
    "# Directory to search\n",
    "root_dir = './'\n",
    "\n",
    "pattern = '*score'\n",
    "matched_files = []\n",
    "\n",
    "# Walk through directory and subdirectories\n",
    "for root, dirs, files in os.walk(root_dir):\n",
    "    for filename in fnmatch.filter(files, pattern):\n",
    "        matched_files.append(os.path.join(root, filename))\n",
    "\n",
    "# Read contents of each matched file\n",
    "from collections import defaultdict\n",
    "BLEU_SCORES = []\n",
    "datasets = set()\n",
    "for file_path in matched_files:\n",
    "    if \"stroke_fine\" in file_path: continue\n",
    "    if \"trad\" not in file_path: continue\n",
    "    print(file_path)\n",
    "    with open(file_path, 'r') as f:\n",
    "        line = f.readline()\n",
    "        BLEU_SCORES.append(float(line.split()[2]))\n",
    "        if len(file_path.split(\"\\\\\")) > 3:\n",
    "            datasets.add(\"/\".join(file_path.split(\"\\\\\")[1:3]))\n",
    "        else:\n",
    "            datasets.add(file_path.split(\"\\\\\")[1])"
   ]
  },
  {
   "cell_type": "code",
   "execution_count": 4,
   "metadata": {},
   "outputs": [
    {
     "data": {
      "text/plain": [
       "['all']"
      ]
     },
     "execution_count": 4,
     "metadata": {},
     "output_type": "execute_result"
    }
   ],
   "source": [
    "columns = sorted(list(datasets))\n",
    "columns"
   ]
  },
  {
   "cell_type": "code",
   "execution_count": 5,
   "metadata": {},
   "outputs": [],
   "source": [
    "rows = [\"simp_cipher\", \"simp_nocipher\"]\n",
    "rows = [\"trad_cipher\"]"
   ]
  },
  {
   "cell_type": "code",
   "execution_count": 6,
   "metadata": {},
   "outputs": [],
   "source": [
    "import pandas as pd\n",
    "\n",
    "df = pd.DataFrame(index=rows, columns=columns)"
   ]
  },
  {
   "cell_type": "code",
   "execution_count": 7,
   "metadata": {},
   "outputs": [],
   "source": [
    "cnt = 0\n",
    "for row in rows:\n",
    "    for col in columns:\n",
    "        if row == \"simp_nocipher\" and col == \"news\": continue\n",
    "        df.loc[row, col] = BLEU_SCORES[cnt]\n",
    "        cnt += 1"
   ]
  },
  {
   "cell_type": "code",
   "execution_count": 13,
   "metadata": {},
   "outputs": [
    {
     "data": {
      "text/html": [
       "<div>\n",
       "<style scoped>\n",
       "    .dataframe tbody tr th:only-of-type {\n",
       "        vertical-align: middle;\n",
       "    }\n",
       "\n",
       "    .dataframe tbody tr th {\n",
       "        vertical-align: top;\n",
       "    }\n",
       "\n",
       "    .dataframe thead th {\n",
       "        text-align: right;\n",
       "    }\n",
       "</style>\n",
       "<table border=\"1\" class=\"dataframe\">\n",
       "  <thead>\n",
       "    <tr style=\"text-align: right;\">\n",
       "      <th></th>\n",
       "      <th>news_sent_sampled/short</th>\n",
       "      <th>news_sent_sampled/medium</th>\n",
       "      <th>news_sent_sampled/long</th>\n",
       "    </tr>\n",
       "  </thead>\n",
       "  <tbody>\n",
       "    <tr>\n",
       "      <th>simp_cipher</th>\n",
       "      <td>4.6</td>\n",
       "      <td>4.4</td>\n",
       "      <td>4.0</td>\n",
       "    </tr>\n",
       "    <tr>\n",
       "      <th>simp_nocipher</th>\n",
       "      <td>4.8</td>\n",
       "      <td>4.5</td>\n",
       "      <td>3.8</td>\n",
       "    </tr>\n",
       "  </tbody>\n",
       "</table>\n",
       "</div>"
      ],
      "text/plain": [
       "              news_sent_sampled/short news_sent_sampled/medium  \\\n",
       "simp_cipher                       4.6                      4.4   \n",
       "simp_nocipher                     4.8                      4.5   \n",
       "\n",
       "              news_sent_sampled/long  \n",
       "simp_cipher                      4.0  \n",
       "simp_nocipher                    3.8  "
      ]
     },
     "execution_count": 13,
     "metadata": {},
     "output_type": "execute_result"
    }
   ],
   "source": [
    "subset_df = df.loc[['simp_cipher', 'simp_nocipher'], ['news_sent_sampled/short', 'news_sent_sampled/medium', 'news_sent_sampled/long']]\n",
    "subset_df"
   ]
  },
  {
   "cell_type": "code",
   "execution_count": 14,
   "metadata": {},
   "outputs": [
    {
     "name": "stdout",
     "output_type": "stream",
     "text": [
      "\\begin{tabular}{llll}\n",
      "\\toprule\n",
      " & news_sent_sampled/short & news_sent_sampled/medium & news_sent_sampled/long \\\\\n",
      "\\midrule\n",
      "simp_cipher & 4.6 & 4.4 & 4.0 \\\\\n",
      "simp_nocipher & 4.8 & 4.5 & 3.8 \\\\\n",
      "\\bottomrule\n",
      "\\end{tabular}\n",
      "\n"
     ]
    }
   ],
   "source": [
    "print(subset_df.to_latex(float_format=\"%.1f\"))"
   ]
  },
  {
   "cell_type": "code",
   "execution_count": 15,
   "metadata": {},
   "outputs": [
    {
     "data": {
      "text/html": [
       "<div>\n",
       "<style scoped>\n",
       "    .dataframe tbody tr th:only-of-type {\n",
       "        vertical-align: middle;\n",
       "    }\n",
       "\n",
       "    .dataframe tbody tr th {\n",
       "        vertical-align: top;\n",
       "    }\n",
       "\n",
       "    .dataframe thead th {\n",
       "        text-align: right;\n",
       "    }\n",
       "</style>\n",
       "<table border=\"1\" class=\"dataframe\">\n",
       "  <thead>\n",
       "    <tr style=\"text-align: right;\">\n",
       "      <th></th>\n",
       "      <th>news_stroke/short</th>\n",
       "      <th>news_stroke/medium</th>\n",
       "      <th>news_stroke/long</th>\n",
       "    </tr>\n",
       "  </thead>\n",
       "  <tbody>\n",
       "    <tr>\n",
       "      <th>simp_cipher</th>\n",
       "      <td>4.0</td>\n",
       "      <td>4.2</td>\n",
       "      <td>3.9</td>\n",
       "    </tr>\n",
       "    <tr>\n",
       "      <th>simp_nocipher</th>\n",
       "      <td>3.9</td>\n",
       "      <td>4.0</td>\n",
       "      <td>3.6</td>\n",
       "    </tr>\n",
       "  </tbody>\n",
       "</table>\n",
       "</div>"
      ],
      "text/plain": [
       "              news_stroke/short news_stroke/medium news_stroke/long\n",
       "simp_cipher                 4.0                4.2              3.9\n",
       "simp_nocipher               3.9                4.0              3.6"
      ]
     },
     "execution_count": 15,
     "metadata": {},
     "output_type": "execute_result"
    }
   ],
   "source": [
    "subset_df = df.loc[['simp_cipher', 'simp_nocipher'], ['news_stroke/short', 'news_stroke/medium', 'news_stroke/long']]\n",
    "subset_df"
   ]
  },
  {
   "cell_type": "code",
   "execution_count": 16,
   "metadata": {},
   "outputs": [
    {
     "name": "stdout",
     "output_type": "stream",
     "text": [
      "\\begin{tabular}{llll}\n",
      "\\toprule\n",
      " & news_stroke/short & news_stroke/medium & news_stroke/long \\\\\n",
      "\\midrule\n",
      "simp_cipher & 4.0 & 4.2 & 3.9 \\\\\n",
      "simp_nocipher & 3.9 & 4.0 & 3.6 \\\\\n",
      "\\bottomrule\n",
      "\\end{tabular}\n",
      "\n"
     ]
    }
   ],
   "source": [
    "print(subset_df.to_latex(float_format=\"%.1f\"))"
   ]
  },
  {
   "cell_type": "code",
   "execution_count": null,
   "metadata": {},
   "outputs": [
    {
     "name": "stdout",
     "output_type": "stream",
     "text": [
      "\\begin{tabular}{lllllllllllllll}\n",
      "\\toprule\n",
      " & all & news & news_sent_sampled/long & news_sent_sampled/medium & news_sent_sampled/short & news_stroke/long & news_stroke/medium & news_stroke/short & sent/long & sent/medium & sent/short & stroke/long & stroke/medium & stroke/short \\\\\n",
      "\\midrule\n",
      "simp_cipher & 8.8 & 4.0 & 4.0 & 4.4 & 4.6 & 3.9 & 4.2 & 4.0 & 8.0 & 10.0 & 10.6 & 8.0 & 9.0 & 9.6 \\\\\n",
      "simp_nocipher & 8.7 & NaN & 3.8 & 4.5 & 4.8 & 3.6 & 4.0 & 3.9 & 7.8 & 9.7 & 10.9 & 7.8 & 8.8 & 9.5 \\\\\n",
      "\\bottomrule\n",
      "\\end{tabular}\n",
      "\n"
     ]
    }
   ],
   "source": [
    "print(df.to_latex(float_format=\"%.1f\"))"
   ]
  }
 ],
 "metadata": {
  "kernelspec": {
   "display_name": ".TFT_OCR_BOT",
   "language": "python",
   "name": "python3"
  },
  "language_info": {
   "codemirror_mode": {
    "name": "ipython",
    "version": 3
   },
   "file_extension": ".py",
   "mimetype": "text/x-python",
   "name": "python",
   "nbconvert_exporter": "python",
   "pygments_lexer": "ipython3",
   "version": "3.10.4"
  }
 },
 "nbformat": 4,
 "nbformat_minor": 2
}
