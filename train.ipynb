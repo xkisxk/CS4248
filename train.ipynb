{
 "cells": [
  {
   "cell_type": "code",
   "execution_count": 1,
   "metadata": {},
   "outputs": [],
   "source": [
    "import wandb\n",
    "import os\n",
    "import numpy as np\n",
    "from datasets import load_dataset\n",
    "from transformers import Seq2SeqTrainingArguments as TrainingArguments\n",
    "from transformers import Seq2SeqTrainer as Trainer\n",
    "from transformers import AutoTokenizer, AutoModelForSeq2SeqLM\n",
    "import evaluate\n",
    "import datetime"
   ]
  },
  {
   "cell_type": "code",
   "execution_count": 2,
   "metadata": {},
   "outputs": [
    {
     "name": "stderr",
     "output_type": "stream",
     "text": [
      "You are using the default legacy behaviour of the <class 'transformers.models.t5.tokenization_t5.T5Tokenizer'>. This is expected, and simply means that the `legacy` (previous) behavior will be used so nothing changes for you. If you want to use the new behaviour, set `legacy=False`. This should only be set if you understand what it means, and thoroughly read the reason why this was added as explained in https://github.com/huggingface/transformers/pull/24565\n",
      "c:\\Users\\xk_20\\Documents\\Code\\.TFT_OCR_BOT\\lib\\site-packages\\transformers\\convert_slow_tokenizer.py:550: UserWarning: The sentencepiece tokenizer that you are converting to a fast tokenizer uses the byte fallback option which is not implemented in the fast tokenizers. In practice this means that the fast version of the tokenizer can produce unknown tokens whereas the sentencepiece version would have converted these unknown tokens into a sequence of byte tokens matching the original piece of text.\n",
      "  warnings.warn(\n"
     ]
    }
   ],
   "source": [
    "source_lang = \"zh\"\n",
    "target_lang = \"en\"\n",
    "\n",
    "def preprocess_function(examples):\n",
    "    inputs = [example[source_lang] for example in examples[\"translation\"]]\n",
    "    targets = [example[target_lang] for example in examples[\"translation\"]]\n",
    "    model_inputs = tokenizer(inputs, text_target=targets, padding=\"max_length\", max_length=32, truncation=True)\n",
    "    model_inputs[\"labels\"] = [[-100 if token == tokenizer.pad_token_id else token for token in labels] for labels in model_inputs[\"labels\"]]\n",
    "    return model_inputs\n",
    "\n",
    "metric = evaluate.load(\"sacrebleu\")\n",
    "def postprocess_text(preds, labels):\n",
    "    preds = [pred.strip() for pred in preds]\n",
    "    labels = [[label.strip()] for label in labels]\n",
    "\n",
    "    return preds, labels\n",
    "\n",
    "\n",
    "def compute_metrics(eval_preds):\n",
    "    preds, labels = eval_preds\n",
    "    if isinstance(preds, tuple):\n",
    "        preds = preds[0]\n",
    "    decoded_preds = tokenizer.batch_decode(preds, skip_special_tokens=True)\n",
    "\n",
    "    labels = np.where(labels != -100, labels, tokenizer.pad_token_id)\n",
    "    decoded_labels = tokenizer.batch_decode(labels, skip_special_tokens=True)\n",
    "\n",
    "    decoded_preds, decoded_labels = postprocess_text(decoded_preds, decoded_labels)\n",
    "\n",
    "    result = metric.compute(predictions=decoded_preds, references=decoded_labels)\n",
    "    result = {\"bleu\": result[\"score\"]}\n",
    "\n",
    "    prediction_lens = [np.count_nonzero(pred != tokenizer.pad_token_id) for pred in preds]\n",
    "    result[\"gen_len\"] = np.mean(prediction_lens)\n",
    "    result = {k: round(v, 4) for k, v in result.items()}\n",
    "    return result\n",
    "\n",
    "# download prepare the data\n",
    "dataset = load_dataset(\"iwslt2017\", \"iwslt2017-zh-en\", cache_dir=\"./cache\") # optional\n",
    "checkpoint = \"google/mt5-small\"\n",
    "tokenizer = AutoTokenizer.from_pretrained(checkpoint)\n",
    "\n",
    "tokenized_sentences = dataset.map(preprocess_function, batched=True)"
   ]
  },
  {
   "cell_type": "code",
   "execution_count": 9,
   "metadata": {},
   "outputs": [],
   "source": [
    "model = AutoModelForSeq2SeqLM.from_pretrained(checkpoint)\n",
    "model.config.max_length = 32\n",
    "model.config.min_length = 8\n",
    "model.config.no_repeat_ngram_size = 3\n",
    "model.config.early_stopping = True\n",
    "model.config.length_penalty = 2.0\n",
    "model.config.num_beams = 4\n",
    "\n",
    "\n",
    "dt = datetime.datetime.now(datetime.timezone.utc)\n",
    "dt = dt.replace(microsecond=0, tzinfo=None)\n",
    "\n",
    "# set the wandb project where this run will be logged\n",
    "os.environ[\"WANDB_PROJECT\"]=\"MT5\"\n",
    "# save your trained model checkpoint to wandb\n",
    "os.environ[\"WANDB_LOG_MODEL\"]=\"true\"\n",
    "# turn off watch to log faster\n",
    "os.environ[\"WANDB_WATCH\"]=\"false\"\n",
    "os.environ[\"PYTORCH_CUDA_ALLOC_CONF\"] = \"max_split_size_mb:32\"\n",
    "os.environ[\"WANDB_NAME\"] = str(dt)\n",
    "\n",
    "# pass \"wandb\" to the 'report_to' parameter to turn on wandb logging\n",
    "training_args = TrainingArguments(\n",
    "    output_dir='wandb_mt5',\n",
    "    report_to=\"wandb\",\n",
    "    per_device_train_batch_size=16,\n",
    "    per_device_eval_batch_size=16,\n",
    "    evaluation_strategy=\"steps\",\n",
    "    logging_steps=2000,\n",
    "    eval_steps= 2000,\n",
    "    max_steps = 300000,\n",
    "    save_strategy=\"steps\",\n",
    "    save_steps = 5000,\n",
    "    learning_rate=1e-5,\n",
    "    weight_decay=0.005,\n",
    "    predict_with_generate=True,\n",
    ")\n",
    "\n",
    "# define the trainer and start training\n",
    "trainer = Trainer(\n",
    "    model=model,\n",
    "    args=training_args,\n",
    "    train_dataset=tokenized_sentences[\"train\"],\n",
    "    eval_dataset=tokenized_sentences[\"validation\"],\n",
    "    compute_metrics=compute_metrics,\n",
    ")"
   ]
  },
  {
   "cell_type": "code",
   "execution_count": 10,
   "metadata": {},
   "outputs": [
    {
     "name": "stderr",
     "output_type": "stream",
     "text": [
      "There were missing keys in the checkpoint model loaded: ['encoder.embed_tokens.weight', 'decoder.embed_tokens.weight'].\n"
     ]
    },
    {
     "data": {
      "text/html": [
       "Changes to your `wandb` environment variables will be ignored because your `wandb` session has already started. For more information on how to modify your settings with `wandb.init()` arguments, please refer to <a href='https://wandb.me/wandb-init' target=\"_blank\">the W&B docs</a>."
      ],
      "text/plain": [
       "<IPython.core.display.HTML object>"
      ]
     },
     "metadata": {},
     "output_type": "display_data"
    },
    {
     "data": {
      "application/vnd.jupyter.widget-view+json": {
       "model_id": "1a89401538584e039eb451faf3aea220",
       "version_major": 2,
       "version_minor": 0
      },
      "text/plain": [
       "VBox(children=(Label(value='Waiting for wandb.init()...\\r'), FloatProgress(value=0.011111111111111112, max=1.0…"
      ]
     },
     "metadata": {},
     "output_type": "display_data"
    },
    {
     "data": {
      "text/html": [
       "wandb version 0.16.4 is available!  To upgrade, please run:\n",
       " $ pip install wandb --upgrade"
      ],
      "text/plain": [
       "<IPython.core.display.HTML object>"
      ]
     },
     "metadata": {},
     "output_type": "display_data"
    },
    {
     "data": {
      "text/html": [
       "Tracking run with wandb version 0.16.3"
      ],
      "text/plain": [
       "<IPython.core.display.HTML object>"
      ]
     },
     "metadata": {},
     "output_type": "display_data"
    },
    {
     "data": {
      "text/html": [
       "Run data is saved locally in <code>c:\\Users\\xk_20\\Documents\\Code\\CS4248\\Project\\wandb\\run-20240310_234232-t3mbst5z</code>"
      ],
      "text/plain": [
       "<IPython.core.display.HTML object>"
      ]
     },
     "metadata": {},
     "output_type": "display_data"
    },
    {
     "data": {
      "text/html": [
       "Syncing run <strong><a href='https://wandb.ai/xkisxk/MT5/runs/t3mbst5z' target=\"_blank\">2024-03-10 11:12:53</a></strong> to <a href='https://wandb.ai/xkisxk/MT5' target=\"_blank\">Weights & Biases</a> (<a href='https://wandb.me/run' target=\"_blank\">docs</a>)<br/>"
      ],
      "text/plain": [
       "<IPython.core.display.HTML object>"
      ]
     },
     "metadata": {},
     "output_type": "display_data"
    },
    {
     "data": {
      "text/html": [
       " View project at <a href='https://wandb.ai/xkisxk/MT5' target=\"_blank\">https://wandb.ai/xkisxk/MT5</a>"
      ],
      "text/plain": [
       "<IPython.core.display.HTML object>"
      ]
     },
     "metadata": {},
     "output_type": "display_data"
    },
    {
     "data": {
      "text/html": [
       " View run at <a href='https://wandb.ai/xkisxk/MT5/runs/t3mbst5z' target=\"_blank\">https://wandb.ai/xkisxk/MT5/runs/t3mbst5z</a>"
      ],
      "text/plain": [
       "<IPython.core.display.HTML object>"
      ]
     },
     "metadata": {},
     "output_type": "display_data"
    },
    {
     "data": {
      "application/vnd.jupyter.widget-view+json": {
       "model_id": "c48a1fd84f794f509cd1d53eb2829caa",
       "version_major": 2,
       "version_minor": 0
      },
      "text/plain": [
       "  0%|          | 0/300000 [00:00<?, ?it/s]"
      ]
     },
     "metadata": {},
     "output_type": "display_data"
    },
    {
     "name": "stderr",
     "output_type": "stream",
     "text": [
      "c:\\Users\\xk_20\\Documents\\Code\\.TFT_OCR_BOT\\lib\\site-packages\\transformers\\generation\\utils.py:1339: UserWarning: You have modified the pretrained model configuration to control generation. This is a deprecated strategy to control generation and will be removed soon, in a future version. Please use and modify the model generation configuration (see https://huggingface.co/docs/transformers/generation_strategies#default-text-generation-configuration )\n",
      "  warnings.warn(\n"
     ]
    },
    {
     "data": {
      "application/vnd.jupyter.widget-view+json": {
       "model_id": "11045fded350433d94d6889e795f6412",
       "version_major": 2,
       "version_minor": 0
      },
      "text/plain": [
       "  0%|          | 0/55 [00:00<?, ?it/s]"
      ]
     },
     "metadata": {},
     "output_type": "display_data"
    },
    {
     "name": "stdout",
     "output_type": "stream",
     "text": [
      "{'eval_loss': 2.1504266262054443, 'eval_bleu': 13.223, 'eval_gen_len': 23.8589, 'eval_runtime': 59.9964, 'eval_samples_per_second': 14.651, 'eval_steps_per_second': 0.917, 'epoch': 6.93}\n"
     ]
    },
    {
     "data": {
      "application/vnd.jupyter.widget-view+json": {
       "model_id": "59deac24f40f4f09abb2a172edf721e1",
       "version_major": 2,
       "version_minor": 0
      },
      "text/plain": [
       "  0%|          | 0/55 [00:00<?, ?it/s]"
      ]
     },
     "metadata": {},
     "output_type": "display_data"
    },
    {
     "name": "stdout",
     "output_type": "stream",
     "text": [
      "{'eval_loss': 2.165928840637207, 'eval_bleu': 12.9764, 'eval_gen_len': 23.4448, 'eval_runtime': 75.7278, 'eval_samples_per_second': 11.607, 'eval_steps_per_second': 0.726, 'epoch': 6.95}\n"
     ]
    },
    {
     "data": {
      "application/vnd.jupyter.widget-view+json": {
       "model_id": "54a275fb355f4fcc95da5d93069acc33",
       "version_major": 2,
       "version_minor": 0
      },
      "text/plain": [
       "  0%|          | 0/55 [00:00<?, ?it/s]"
      ]
     },
     "metadata": {},
     "output_type": "display_data"
    },
    {
     "name": "stdout",
     "output_type": "stream",
     "text": [
      "{'eval_loss': 2.192328929901123, 'eval_bleu': 12.7061, 'eval_gen_len': 23.7782, 'eval_runtime': 44.1176, 'eval_samples_per_second': 19.924, 'eval_steps_per_second': 1.247, 'epoch': 6.96}\n"
     ]
    },
    {
     "data": {
      "application/vnd.jupyter.widget-view+json": {
       "model_id": "b786657d9d364c4fbac3b21aa2cef14e",
       "version_major": 2,
       "version_minor": 0
      },
      "text/plain": [
       "  0%|          | 0/55 [00:00<?, ?it/s]"
      ]
     },
     "metadata": {},
     "output_type": "display_data"
    },
    {
     "name": "stdout",
     "output_type": "stream",
     "text": [
      "{'eval_loss': 2.1959340572357178, 'eval_bleu': 13.0156, 'eval_gen_len': 23.8305, 'eval_runtime': 44.849, 'eval_samples_per_second': 19.599, 'eval_steps_per_second': 1.226, 'epoch': 6.97}\n",
      "{'loss': 1.8254, 'grad_norm': 1.1842527389526367, 'learning_rate': 0.0006633333333333334, 'epoch': 6.99}\n"
     ]
    },
    {
     "data": {
      "application/vnd.jupyter.widget-view+json": {
       "model_id": "979440b79c024a86b0c0be4dc54a9539",
       "version_major": 2,
       "version_minor": 0
      },
      "text/plain": [
       "  0%|          | 0/55 [00:00<?, ?it/s]"
      ]
     },
     "metadata": {},
     "output_type": "display_data"
    },
    {
     "name": "stdout",
     "output_type": "stream",
     "text": [
      "{'eval_loss': 2.1877317428588867, 'eval_bleu': 12.0581, 'eval_gen_len': 23.7395, 'eval_runtime': 44.4861, 'eval_samples_per_second': 19.759, 'eval_steps_per_second': 1.236, 'epoch': 6.99}\n"
     ]
    },
    {
     "data": {
      "application/vnd.jupyter.widget-view+json": {
       "model_id": "e7d368decd794cf28deded9a2f7c2196",
       "version_major": 2,
       "version_minor": 0
      },
      "text/plain": [
       "  0%|          | 0/55 [00:00<?, ?it/s]"
      ]
     },
     "metadata": {},
     "output_type": "display_data"
    },
    {
     "name": "stdout",
     "output_type": "stream",
     "text": [
      "{'eval_loss': 2.186307907104492, 'eval_bleu': 12.5302, 'eval_gen_len': 23.7725, 'eval_runtime': 46.067, 'eval_samples_per_second': 19.081, 'eval_steps_per_second': 1.194, 'epoch': 7.0}\n"
     ]
    },
    {
     "data": {
      "application/vnd.jupyter.widget-view+json": {
       "model_id": "c573449401ec4f4daac797dd5e5e7ac0",
       "version_major": 2,
       "version_minor": 0
      },
      "text/plain": [
       "  0%|          | 0/55 [00:00<?, ?it/s]"
      ]
     },
     "metadata": {},
     "output_type": "display_data"
    },
    {
     "name": "stdout",
     "output_type": "stream",
     "text": [
      "{'eval_loss': 2.2012596130371094, 'eval_bleu': 12.1818, 'eval_gen_len': 23.8896, 'eval_runtime': 45.1159, 'eval_samples_per_second': 19.483, 'eval_steps_per_second': 1.219, 'epoch': 7.01}\n"
     ]
    },
    {
     "data": {
      "application/vnd.jupyter.widget-view+json": {
       "model_id": "9836b8d683f34bfa90125fbf8e1a9aa0",
       "version_major": 2,
       "version_minor": 0
      },
      "text/plain": [
       "  0%|          | 0/55 [00:00<?, ?it/s]"
      ]
     },
     "metadata": {},
     "output_type": "display_data"
    },
    {
     "name": "stdout",
     "output_type": "stream",
     "text": [
      "{'eval_loss': 2.2071115970611572, 'eval_bleu': 12.3895, 'eval_gen_len': 23.6985, 'eval_runtime': 46.0256, 'eval_samples_per_second': 19.098, 'eval_steps_per_second': 1.195, 'epoch': 7.03}\n"
     ]
    },
    {
     "data": {
      "application/vnd.jupyter.widget-view+json": {
       "model_id": "c7b3fc1e265749668712df5a94df8a78",
       "version_major": 2,
       "version_minor": 0
      },
      "text/plain": [
       "  0%|          | 0/55 [00:00<?, ?it/s]"
      ]
     },
     "metadata": {},
     "output_type": "display_data"
    },
    {
     "name": "stdout",
     "output_type": "stream",
     "text": [
      "{'eval_loss': 2.2166519165039062, 'eval_bleu': 12.2415, 'eval_gen_len': 23.215, 'eval_runtime': 46.289, 'eval_samples_per_second': 18.989, 'eval_steps_per_second': 1.188, 'epoch': 7.04}\n",
      "{'loss': 1.8373, 'grad_norm': 1.516446590423584, 'learning_rate': 0.00066, 'epoch': 7.06}\n"
     ]
    },
    {
     "data": {
      "application/vnd.jupyter.widget-view+json": {
       "model_id": "0bce96ebe9244bd89084ea93a4d712a7",
       "version_major": 2,
       "version_minor": 0
      },
      "text/plain": [
       "  0%|          | 0/55 [00:00<?, ?it/s]"
      ]
     },
     "metadata": {},
     "output_type": "display_data"
    },
    {
     "name": "stdout",
     "output_type": "stream",
     "text": [
      "{'eval_loss': 2.196681022644043, 'eval_bleu': 12.5012, 'eval_gen_len': 23.9317, 'eval_runtime': 45.2994, 'eval_samples_per_second': 19.404, 'eval_steps_per_second': 1.214, 'epoch': 7.06}\n"
     ]
    },
    {
     "data": {
      "application/vnd.jupyter.widget-view+json": {
       "model_id": "d3f2ba22024a4128afe548d371046502",
       "version_major": 2,
       "version_minor": 0
      },
      "text/plain": [
       "  0%|          | 0/55 [00:00<?, ?it/s]"
      ]
     },
     "metadata": {},
     "output_type": "display_data"
    },
    {
     "name": "stdout",
     "output_type": "stream",
     "text": [
      "{'eval_loss': 2.21464204788208, 'eval_bleu': 12.5265, 'eval_gen_len': 23.7747, 'eval_runtime': 44.1486, 'eval_samples_per_second': 19.91, 'eval_steps_per_second': 1.246, 'epoch': 7.07}\n"
     ]
    },
    {
     "data": {
      "application/vnd.jupyter.widget-view+json": {
       "model_id": "0feeb384b0dd426c98bced99d5aaf7b2",
       "version_major": 2,
       "version_minor": 0
      },
      "text/plain": [
       "  0%|          | 0/55 [00:00<?, ?it/s]"
      ]
     },
     "metadata": {},
     "output_type": "display_data"
    },
    {
     "name": "stdout",
     "output_type": "stream",
     "text": [
      "{'eval_loss': 2.2152256965637207, 'eval_bleu': 12.3077, 'eval_gen_len': 23.8237, 'eval_runtime': 46.4999, 'eval_samples_per_second': 18.903, 'eval_steps_per_second': 1.183, 'epoch': 7.08}\n"
     ]
    },
    {
     "data": {
      "application/vnd.jupyter.widget-view+json": {
       "model_id": "cd519f38ef674ca682fc48f5a863732b",
       "version_major": 2,
       "version_minor": 0
      },
      "text/plain": [
       "  0%|          | 0/55 [00:00<?, ?it/s]"
      ]
     },
     "metadata": {},
     "output_type": "display_data"
    },
    {
     "name": "stdout",
     "output_type": "stream",
     "text": [
      "{'eval_loss': 2.206073045730591, 'eval_bleu': 12.1442, 'eval_gen_len': 24.058, 'eval_runtime': 44.8867, 'eval_samples_per_second': 19.583, 'eval_steps_per_second': 1.225, 'epoch': 7.1}\n"
     ]
    },
    {
     "data": {
      "application/vnd.jupyter.widget-view+json": {
       "model_id": "21047a16b583462bab50c84da35bc34d",
       "version_major": 2,
       "version_minor": 0
      },
      "text/plain": [
       "  0%|          | 0/55 [00:00<?, ?it/s]"
      ]
     },
     "metadata": {},
     "output_type": "display_data"
    },
    {
     "name": "stdout",
     "output_type": "stream",
     "text": [
      "{'eval_loss': 2.202686309814453, 'eval_bleu': 12.3263, 'eval_gen_len': 24.0637, 'eval_runtime': 44.213, 'eval_samples_per_second': 19.881, 'eval_steps_per_second': 1.244, 'epoch': 7.11}\n",
      "{'loss': 1.8553, 'grad_norm': 1.324501872062683, 'learning_rate': 0.0006566666666666666, 'epoch': 7.13}\n"
     ]
    },
    {
     "data": {
      "application/vnd.jupyter.widget-view+json": {
       "model_id": "0b65698bdd1043b29091e9c2ef5aa7dd",
       "version_major": 2,
       "version_minor": 0
      },
      "text/plain": [
       "  0%|          | 0/55 [00:00<?, ?it/s]"
      ]
     },
     "metadata": {},
     "output_type": "display_data"
    },
    {
     "name": "stdout",
     "output_type": "stream",
     "text": [
      "{'eval_loss': 2.217543363571167, 'eval_bleu': 12.3533, 'eval_gen_len': 23.8828, 'eval_runtime': 43.5027, 'eval_samples_per_second': 20.206, 'eval_steps_per_second': 1.264, 'epoch': 7.13}\n"
     ]
    },
    {
     "data": {
      "application/vnd.jupyter.widget-view+json": {
       "model_id": "02ff2116610545f994995b5cf4d52b0f",
       "version_major": 2,
       "version_minor": 0
      },
      "text/plain": [
       "  0%|          | 0/55 [00:00<?, ?it/s]"
      ]
     },
     "metadata": {},
     "output_type": "display_data"
    },
    {
     "name": "stdout",
     "output_type": "stream",
     "text": [
      "{'eval_loss': 2.2124671936035156, 'eval_bleu': 12.5383, 'eval_gen_len': 23.8635, 'eval_runtime': 43.9514, 'eval_samples_per_second': 19.999, 'eval_steps_per_second': 1.251, 'epoch': 7.14}\n"
     ]
    },
    {
     "data": {
      "application/vnd.jupyter.widget-view+json": {
       "model_id": "b047211b1b0d43d1b764e7ec5661eebe",
       "version_major": 2,
       "version_minor": 0
      },
      "text/plain": [
       "  0%|          | 0/55 [00:00<?, ?it/s]"
      ]
     },
     "metadata": {},
     "output_type": "display_data"
    },
    {
     "name": "stdout",
     "output_type": "stream",
     "text": [
      "{'eval_loss': 2.222832202911377, 'eval_bleu': 12.1605, 'eval_gen_len': 24.0239, 'eval_runtime': 44.6229, 'eval_samples_per_second': 19.698, 'eval_steps_per_second': 1.233, 'epoch': 7.15}\n"
     ]
    },
    {
     "data": {
      "application/vnd.jupyter.widget-view+json": {
       "model_id": "d82d9478c74b47f0a01d67246bb50004",
       "version_major": 2,
       "version_minor": 0
      },
      "text/plain": [
       "  0%|          | 0/55 [00:00<?, ?it/s]"
      ]
     },
     "metadata": {},
     "output_type": "display_data"
    },
    {
     "name": "stdout",
     "output_type": "stream",
     "text": [
      "{'eval_loss': 2.2046616077423096, 'eval_bleu': 12.4679, 'eval_gen_len': 24.0694, 'eval_runtime': 44.2735, 'eval_samples_per_second': 19.854, 'eval_steps_per_second': 1.242, 'epoch': 7.17}\n"
     ]
    },
    {
     "data": {
      "application/vnd.jupyter.widget-view+json": {
       "model_id": "8f310f8fcabf484aa72aba04555c6d27",
       "version_major": 2,
       "version_minor": 0
      },
      "text/plain": [
       "  0%|          | 0/55 [00:00<?, ?it/s]"
      ]
     },
     "metadata": {},
     "output_type": "display_data"
    },
    {
     "name": "stdout",
     "output_type": "stream",
     "text": [
      "{'eval_loss': 2.197195529937744, 'eval_bleu': 12.5597, 'eval_gen_len': 23.8862, 'eval_runtime': 45.0832, 'eval_samples_per_second': 19.497, 'eval_steps_per_second': 1.22, 'epoch': 7.18}\n",
      "{'loss': 1.863, 'grad_norm': 1.0741591453552246, 'learning_rate': 0.0006533333333333333, 'epoch': 7.19}\n"
     ]
    },
    {
     "data": {
      "application/vnd.jupyter.widget-view+json": {
       "model_id": "79f9c9c2aeb64e1081a7342cf7c964a9",
       "version_major": 2,
       "version_minor": 0
      },
      "text/plain": [
       "  0%|          | 0/55 [00:00<?, ?it/s]"
      ]
     },
     "metadata": {},
     "output_type": "display_data"
    },
    {
     "name": "stdout",
     "output_type": "stream",
     "text": [
      "{'eval_loss': 2.218447208404541, 'eval_bleu': 12.8397, 'eval_gen_len': 24.1684, 'eval_runtime': 45.4458, 'eval_samples_per_second': 19.342, 'eval_steps_per_second': 1.21, 'epoch': 7.19}\n"
     ]
    },
    {
     "data": {
      "application/vnd.jupyter.widget-view+json": {
       "model_id": "01b742d3c6364b08aa4531bddf3e7108",
       "version_major": 2,
       "version_minor": 0
      },
      "text/plain": [
       "  0%|          | 0/55 [00:00<?, ?it/s]"
      ]
     },
     "metadata": {},
     "output_type": "display_data"
    },
    {
     "name": "stdout",
     "output_type": "stream",
     "text": [
      "{'eval_loss': 2.217489719390869, 'eval_bleu': 12.9641, 'eval_gen_len': 23.3993, 'eval_runtime': 45.0512, 'eval_samples_per_second': 19.511, 'eval_steps_per_second': 1.221, 'epoch': 7.21}\n"
     ]
    },
    {
     "data": {
      "application/vnd.jupyter.widget-view+json": {
       "model_id": "01f3ede5491842a2ac1b1f1dccdae049",
       "version_major": 2,
       "version_minor": 0
      },
      "text/plain": [
       "  0%|          | 0/55 [00:00<?, ?it/s]"
      ]
     },
     "metadata": {},
     "output_type": "display_data"
    },
    {
     "name": "stdout",
     "output_type": "stream",
     "text": [
      "{'eval_loss': 2.201611280441284, 'eval_bleu': 12.3279, 'eval_gen_len': 23.6314, 'eval_runtime': 45.557, 'eval_samples_per_second': 19.294, 'eval_steps_per_second': 1.207, 'epoch': 7.22}\n"
     ]
    },
    {
     "data": {
      "application/vnd.jupyter.widget-view+json": {
       "model_id": "a9a1a7820bb0420cb2237142039f50e8",
       "version_major": 2,
       "version_minor": 0
      },
      "text/plain": [
       "  0%|          | 0/55 [00:00<?, ?it/s]"
      ]
     },
     "metadata": {},
     "output_type": "display_data"
    },
    {
     "name": "stdout",
     "output_type": "stream",
     "text": [
      "{'eval_loss': 2.217944383621216, 'eval_bleu': 12.3215, 'eval_gen_len': 23.7736, 'eval_runtime': 45.2942, 'eval_samples_per_second': 19.406, 'eval_steps_per_second': 1.214, 'epoch': 7.24}\n"
     ]
    },
    {
     "data": {
      "application/vnd.jupyter.widget-view+json": {
       "model_id": "d02db93a950c4c5a809af7c7661d805a",
       "version_major": 2,
       "version_minor": 0
      },
      "text/plain": [
       "  0%|          | 0/55 [00:00<?, ?it/s]"
      ]
     },
     "metadata": {},
     "output_type": "display_data"
    },
    {
     "name": "stdout",
     "output_type": "stream",
     "text": [
      "{'eval_loss': 2.2151737213134766, 'eval_bleu': 12.6679, 'eval_gen_len': 23.8646, 'eval_runtime': 47.4432, 'eval_samples_per_second': 18.527, 'eval_steps_per_second': 1.159, 'epoch': 7.25}\n",
      "{'loss': 1.8864, 'grad_norm': 1.229161262512207, 'learning_rate': 0.0006500000000000001, 'epoch': 7.26}\n"
     ]
    },
    {
     "data": {
      "application/vnd.jupyter.widget-view+json": {
       "model_id": "c811bd6923184345bcee3902a3a58d71",
       "version_major": 2,
       "version_minor": 0
      },
      "text/plain": [
       "  0%|          | 0/55 [00:00<?, ?it/s]"
      ]
     },
     "metadata": {},
     "output_type": "display_data"
    },
    {
     "name": "stdout",
     "output_type": "stream",
     "text": [
      "{'eval_loss': 2.1962292194366455, 'eval_bleu': 12.7894, 'eval_gen_len': 23.7122, 'eval_runtime': 46.3328, 'eval_samples_per_second': 18.971, 'eval_steps_per_second': 1.187, 'epoch': 7.26}\n"
     ]
    },
    {
     "data": {
      "application/vnd.jupyter.widget-view+json": {
       "model_id": "c9efbfb6c39c49fc955b2e0112d73563",
       "version_major": 2,
       "version_minor": 0
      },
      "text/plain": [
       "  0%|          | 0/55 [00:00<?, ?it/s]"
      ]
     },
     "metadata": {},
     "output_type": "display_data"
    },
    {
     "name": "stdout",
     "output_type": "stream",
     "text": [
      "{'eval_loss': 2.2046897411346436, 'eval_bleu': 12.5104, 'eval_gen_len': 23.8737, 'eval_runtime': 45.3474, 'eval_samples_per_second': 19.384, 'eval_steps_per_second': 1.213, 'epoch': 7.28}\n"
     ]
    },
    {
     "data": {
      "application/vnd.jupyter.widget-view+json": {
       "model_id": "93cbaa10f54b4fc7a22ee1f6dea1720f",
       "version_major": 2,
       "version_minor": 0
      },
      "text/plain": [
       "  0%|          | 0/55 [00:00<?, ?it/s]"
      ]
     },
     "metadata": {},
     "output_type": "display_data"
    },
    {
     "name": "stdout",
     "output_type": "stream",
     "text": [
      "{'eval_loss': 2.1956377029418945, 'eval_bleu': 12.4678, 'eval_gen_len': 23.554, 'eval_runtime': 45.0839, 'eval_samples_per_second': 19.497, 'eval_steps_per_second': 1.22, 'epoch': 7.29}\n"
     ]
    },
    {
     "data": {
      "application/vnd.jupyter.widget-view+json": {
       "model_id": "8de08060030a43568d6772c75b2dcd92",
       "version_major": 2,
       "version_minor": 0
      },
      "text/plain": [
       "  0%|          | 0/55 [00:00<?, ?it/s]"
      ]
     },
     "metadata": {},
     "output_type": "display_data"
    },
    {
     "name": "stdout",
     "output_type": "stream",
     "text": [
      "{'eval_loss': 2.2192437648773193, 'eval_bleu': 12.696, 'eval_gen_len': 23.9898, 'eval_runtime': 45.529, 'eval_samples_per_second': 19.306, 'eval_steps_per_second': 1.208, 'epoch': 7.31}\n"
     ]
    },
    {
     "data": {
      "application/vnd.jupyter.widget-view+json": {
       "model_id": "91aeb391055a41b98fa2b34feb18f8ae",
       "version_major": 2,
       "version_minor": 0
      },
      "text/plain": [
       "  0%|          | 0/55 [00:00<?, ?it/s]"
      ]
     },
     "metadata": {},
     "output_type": "display_data"
    },
    {
     "name": "stdout",
     "output_type": "stream",
     "text": [
      "{'eval_loss': 2.2186923027038574, 'eval_bleu': 12.4846, 'eval_gen_len': 24.0887, 'eval_runtime': 45.6904, 'eval_samples_per_second': 19.238, 'eval_steps_per_second': 1.204, 'epoch': 7.32}\n",
      "{'loss': 1.89, 'grad_norm': 1.1173967123031616, 'learning_rate': 0.0006466666666666666, 'epoch': 7.33}\n"
     ]
    },
    {
     "data": {
      "application/vnd.jupyter.widget-view+json": {
       "model_id": "04805473a707471e9a4a7ba7784395ce",
       "version_major": 2,
       "version_minor": 0
      },
      "text/plain": [
       "  0%|          | 0/55 [00:00<?, ?it/s]"
      ]
     },
     "metadata": {},
     "output_type": "display_data"
    },
    {
     "name": "stdout",
     "output_type": "stream",
     "text": [
      "{'eval_loss': 2.2051126956939697, 'eval_bleu': 12.7778, 'eval_gen_len': 23.8476, 'eval_runtime': 44.9528, 'eval_samples_per_second': 19.554, 'eval_steps_per_second': 1.224, 'epoch': 7.33}\n"
     ]
    },
    {
     "data": {
      "application/vnd.jupyter.widget-view+json": {
       "model_id": "74746fdd8d82403a95db784eb4883f89",
       "version_major": 2,
       "version_minor": 0
      },
      "text/plain": [
       "  0%|          | 0/55 [00:00<?, ?it/s]"
      ]
     },
     "metadata": {},
     "output_type": "display_data"
    },
    {
     "name": "stdout",
     "output_type": "stream",
     "text": [
      "{'eval_loss': 2.2044777870178223, 'eval_bleu': 12.679, 'eval_gen_len': 24.1217, 'eval_runtime': 47.4357, 'eval_samples_per_second': 18.53, 'eval_steps_per_second': 1.159, 'epoch': 7.35}\n"
     ]
    },
    {
     "data": {
      "application/vnd.jupyter.widget-view+json": {
       "model_id": "2521c6140e5c42df88a44f72107af181",
       "version_major": 2,
       "version_minor": 0
      },
      "text/plain": [
       "  0%|          | 0/55 [00:00<?, ?it/s]"
      ]
     },
     "metadata": {},
     "output_type": "display_data"
    },
    {
     "name": "stdout",
     "output_type": "stream",
     "text": [
      "{'eval_loss': 2.2014734745025635, 'eval_bleu': 12.8466, 'eval_gen_len': 23.7804, 'eval_runtime': 44.5969, 'eval_samples_per_second': 19.71, 'eval_steps_per_second': 1.233, 'epoch': 7.36}\n"
     ]
    },
    {
     "data": {
      "application/vnd.jupyter.widget-view+json": {
       "model_id": "1945367bdae64060bd8d2fdfdb67e4fd",
       "version_major": 2,
       "version_minor": 0
      },
      "text/plain": [
       "  0%|          | 0/55 [00:00<?, ?it/s]"
      ]
     },
     "metadata": {},
     "output_type": "display_data"
    },
    {
     "name": "stdout",
     "output_type": "stream",
     "text": [
      "{'eval_loss': 2.1957802772521973, 'eval_bleu': 12.7577, 'eval_gen_len': 23.8225, 'eval_runtime': 46.9883, 'eval_samples_per_second': 18.707, 'eval_steps_per_second': 1.171, 'epoch': 7.37}\n"
     ]
    },
    {
     "data": {
      "application/vnd.jupyter.widget-view+json": {
       "model_id": "c68cba6cec2144b9a97b1ba5aff667ec",
       "version_major": 2,
       "version_minor": 0
      },
      "text/plain": [
       "  0%|          | 0/55 [00:00<?, ?it/s]"
      ]
     },
     "metadata": {},
     "output_type": "display_data"
    },
    {
     "name": "stdout",
     "output_type": "stream",
     "text": [
      "{'eval_loss': 2.195293664932251, 'eval_bleu': 12.5919, 'eval_gen_len': 24.1763, 'eval_runtime': 45.4387, 'eval_samples_per_second': 19.345, 'eval_steps_per_second': 1.21, 'epoch': 7.39}\n",
      "{'loss': 1.9023, 'grad_norm': 1.194529414176941, 'learning_rate': 0.0006433333333333333, 'epoch': 7.4}\n"
     ]
    },
    {
     "data": {
      "application/vnd.jupyter.widget-view+json": {
       "model_id": "eab8d88852314d30b127cd4b1889f137",
       "version_major": 2,
       "version_minor": 0
      },
      "text/plain": [
       "  0%|          | 0/55 [00:00<?, ?it/s]"
      ]
     },
     "metadata": {},
     "output_type": "display_data"
    },
    {
     "name": "stdout",
     "output_type": "stream",
     "text": [
      "{'eval_loss': 2.204763174057007, 'eval_bleu': 13.1388, 'eval_gen_len': 23.6507, 'eval_runtime': 44.7282, 'eval_samples_per_second': 19.652, 'eval_steps_per_second': 1.23, 'epoch': 7.4}\n"
     ]
    },
    {
     "data": {
      "application/vnd.jupyter.widget-view+json": {
       "model_id": "7adea1ff032746cdaad4f4c12b4fd36b",
       "version_major": 2,
       "version_minor": 0
      },
      "text/plain": [
       "  0%|          | 0/55 [00:00<?, ?it/s]"
      ]
     },
     "metadata": {},
     "output_type": "display_data"
    },
    {
     "name": "stdout",
     "output_type": "stream",
     "text": [
      "{'eval_loss': 2.1978602409362793, 'eval_bleu': 12.942, 'eval_gen_len': 23.9898, 'eval_runtime': 45.8839, 'eval_samples_per_second': 19.157, 'eval_steps_per_second': 1.199, 'epoch': 7.42}\n"
     ]
    },
    {
     "data": {
      "application/vnd.jupyter.widget-view+json": {
       "model_id": "46e2f2d243e0449c8bbbaa971b2f07b2",
       "version_major": 2,
       "version_minor": 0
      },
      "text/plain": [
       "  0%|          | 0/55 [00:00<?, ?it/s]"
      ]
     },
     "metadata": {},
     "output_type": "display_data"
    },
    {
     "name": "stdout",
     "output_type": "stream",
     "text": [
      "{'eval_loss': 2.2034618854522705, 'eval_bleu': 12.6955, 'eval_gen_len': 24.0421, 'eval_runtime': 44.0156, 'eval_samples_per_second': 19.97, 'eval_steps_per_second': 1.25, 'epoch': 7.43}\n"
     ]
    },
    {
     "data": {
      "application/vnd.jupyter.widget-view+json": {
       "model_id": "d3e04f3bf9d24c659ea7d2651288bc9b",
       "version_major": 2,
       "version_minor": 0
      },
      "text/plain": [
       "  0%|          | 0/55 [00:00<?, ?it/s]"
      ]
     },
     "metadata": {},
     "output_type": "display_data"
    },
    {
     "name": "stdout",
     "output_type": "stream",
     "text": [
      "{'eval_loss': 2.198448657989502, 'eval_bleu': 12.9142, 'eval_gen_len': 23.6792, 'eval_runtime': 45.7531, 'eval_samples_per_second': 19.212, 'eval_steps_per_second': 1.202, 'epoch': 7.44}\n"
     ]
    },
    {
     "data": {
      "application/vnd.jupyter.widget-view+json": {
       "model_id": "99b2133465244d839f54e5176cb21e13",
       "version_major": 2,
       "version_minor": 0
      },
      "text/plain": [
       "  0%|          | 0/55 [00:00<?, ?it/s]"
      ]
     },
     "metadata": {},
     "output_type": "display_data"
    },
    {
     "name": "stdout",
     "output_type": "stream",
     "text": [
      "{'eval_loss': 2.2019002437591553, 'eval_bleu': 12.7183, 'eval_gen_len': 24.2025, 'eval_runtime': 44.6392, 'eval_samples_per_second': 19.691, 'eval_steps_per_second': 1.232, 'epoch': 7.46}\n",
      "{'loss': 1.9069, 'grad_norm': 1.3244589567184448, 'learning_rate': 0.00064, 'epoch': 7.47}\n"
     ]
    },
    {
     "data": {
      "application/vnd.jupyter.widget-view+json": {
       "model_id": "83d5129aae6548aca398f7c4e9ef52fe",
       "version_major": 2,
       "version_minor": 0
      },
      "text/plain": [
       "  0%|          | 0/55 [00:00<?, ?it/s]"
      ]
     },
     "metadata": {},
     "output_type": "display_data"
    },
    {
     "name": "stdout",
     "output_type": "stream",
     "text": [
      "{'eval_loss': 2.2048282623291016, 'eval_bleu': 12.7994, 'eval_gen_len': 23.9272, 'eval_runtime': 45.9588, 'eval_samples_per_second': 19.126, 'eval_steps_per_second': 1.197, 'epoch': 7.47}\n"
     ]
    },
    {
     "data": {
      "application/vnd.jupyter.widget-view+json": {
       "model_id": "9e1eb7b2c6df4df4a0a1bad9fa8bc605",
       "version_major": 2,
       "version_minor": 0
      },
      "text/plain": [
       "  0%|          | 0/55 [00:00<?, ?it/s]"
      ]
     },
     "metadata": {},
     "output_type": "display_data"
    },
    {
     "name": "stdout",
     "output_type": "stream",
     "text": [
      "{'eval_loss': 2.1937057971954346, 'eval_bleu': 12.6832, 'eval_gen_len': 23.6177, 'eval_runtime': 46.8619, 'eval_samples_per_second': 18.757, 'eval_steps_per_second': 1.174, 'epoch': 7.49}\n"
     ]
    },
    {
     "data": {
      "application/vnd.jupyter.widget-view+json": {
       "model_id": "d99cae2c76874817b66ee56b45cf2481",
       "version_major": 2,
       "version_minor": 0
      },
      "text/plain": [
       "  0%|          | 0/55 [00:00<?, ?it/s]"
      ]
     },
     "metadata": {},
     "output_type": "display_data"
    },
    {
     "name": "stdout",
     "output_type": "stream",
     "text": [
      "{'eval_loss': 2.2041683197021484, 'eval_bleu': 12.422, 'eval_gen_len': 24.0819, 'eval_runtime': 44.7518, 'eval_samples_per_second': 19.642, 'eval_steps_per_second': 1.229, 'epoch': 7.5}\n"
     ]
    },
    {
     "data": {
      "application/vnd.jupyter.widget-view+json": {
       "model_id": "1978adc81ccf4eabb6558410cfd49e27",
       "version_major": 2,
       "version_minor": 0
      },
      "text/plain": [
       "  0%|          | 0/55 [00:00<?, ?it/s]"
      ]
     },
     "metadata": {},
     "output_type": "display_data"
    },
    {
     "name": "stdout",
     "output_type": "stream",
     "text": [
      "{'eval_loss': 2.2008376121520996, 'eval_bleu': 13.2527, 'eval_gen_len': 23.9909, 'eval_runtime': 45.9103, 'eval_samples_per_second': 19.146, 'eval_steps_per_second': 1.198, 'epoch': 7.51}\n"
     ]
    },
    {
     "data": {
      "application/vnd.jupyter.widget-view+json": {
       "model_id": "40dd48d51fcc4eefa91b0aa5681ac6ce",
       "version_major": 2,
       "version_minor": 0
      },
      "text/plain": [
       "  0%|          | 0/55 [00:00<?, ?it/s]"
      ]
     },
     "metadata": {},
     "output_type": "display_data"
    },
    {
     "name": "stdout",
     "output_type": "stream",
     "text": [
      "{'eval_loss': 2.187385082244873, 'eval_bleu': 12.7148, 'eval_gen_len': 24.215, 'eval_runtime': 43.3499, 'eval_samples_per_second': 20.277, 'eval_steps_per_second': 1.269, 'epoch': 7.53}\n",
      "{'loss': 1.8988, 'grad_norm': 1.0979771614074707, 'learning_rate': 0.0006366666666666667, 'epoch': 7.54}\n"
     ]
    },
    {
     "data": {
      "application/vnd.jupyter.widget-view+json": {
       "model_id": "f3d2695d6faa4752ba11ca6b5a831041",
       "version_major": 2,
       "version_minor": 0
      },
      "text/plain": [
       "  0%|          | 0/55 [00:00<?, ?it/s]"
      ]
     },
     "metadata": {},
     "output_type": "display_data"
    },
    {
     "name": "stdout",
     "output_type": "stream",
     "text": [
      "{'eval_loss': 2.1891679763793945, 'eval_bleu': 12.6669, 'eval_gen_len': 23.9852, 'eval_runtime': 44.5101, 'eval_samples_per_second': 19.748, 'eval_steps_per_second': 1.236, 'epoch': 7.54}\n"
     ]
    },
    {
     "data": {
      "application/vnd.jupyter.widget-view+json": {
       "model_id": "e04be30deb5449f2abffbab8d4e9d5c5",
       "version_major": 2,
       "version_minor": 0
      },
      "text/plain": [
       "  0%|          | 0/55 [00:00<?, ?it/s]"
      ]
     },
     "metadata": {},
     "output_type": "display_data"
    },
    {
     "name": "stdout",
     "output_type": "stream",
     "text": [
      "{'eval_loss': 2.1927263736724854, 'eval_bleu': 12.8393, 'eval_gen_len': 23.9397, 'eval_runtime': 45.8305, 'eval_samples_per_second': 19.179, 'eval_steps_per_second': 1.2, 'epoch': 7.55}\n"
     ]
    },
    {
     "data": {
      "application/vnd.jupyter.widget-view+json": {
       "model_id": "d55b46ea9fa6405f9f0497a75d1795b3",
       "version_major": 2,
       "version_minor": 0
      },
      "text/plain": [
       "  0%|          | 0/55 [00:00<?, ?it/s]"
      ]
     },
     "metadata": {},
     "output_type": "display_data"
    },
    {
     "name": "stdout",
     "output_type": "stream",
     "text": [
      "{'eval_loss': 2.188312292098999, 'eval_bleu': 12.891, 'eval_gen_len': 23.7497, 'eval_runtime': 89.0222, 'eval_samples_per_second': 9.874, 'eval_steps_per_second': 0.618, 'epoch': 7.57}\n"
     ]
    },
    {
     "data": {
      "application/vnd.jupyter.widget-view+json": {
       "model_id": "af613891e20a433289fd7b9db83cc2c2",
       "version_major": 2,
       "version_minor": 0
      },
      "text/plain": [
       "  0%|          | 0/55 [00:00<?, ?it/s]"
      ]
     },
     "metadata": {},
     "output_type": "display_data"
    },
    {
     "name": "stdout",
     "output_type": "stream",
     "text": [
      "{'eval_loss': 2.1845996379852295, 'eval_bleu': 12.5747, 'eval_gen_len': 23.9761, 'eval_runtime': 88.5994, 'eval_samples_per_second': 9.921, 'eval_steps_per_second': 0.621, 'epoch': 7.58}\n"
     ]
    },
    {
     "data": {
      "application/vnd.jupyter.widget-view+json": {
       "model_id": "a4099103d94649c5969bd1e53f217c38",
       "version_major": 2,
       "version_minor": 0
      },
      "text/plain": [
       "  0%|          | 0/55 [00:00<?, ?it/s]"
      ]
     },
     "metadata": {},
     "output_type": "display_data"
    },
    {
     "name": "stdout",
     "output_type": "stream",
     "text": [
      "{'eval_loss': 2.2079355716705322, 'eval_bleu': 12.5529, 'eval_gen_len': 23.8134, 'eval_runtime': 87.6612, 'eval_samples_per_second': 10.027, 'eval_steps_per_second': 0.627, 'epoch': 7.6}\n",
      "{'loss': 1.9017, 'grad_norm': 1.2584043741226196, 'learning_rate': 0.0006333333333333333, 'epoch': 7.61}\n"
     ]
    },
    {
     "data": {
      "application/vnd.jupyter.widget-view+json": {
       "model_id": "e6baeba4e6b0486287eae314d04c7e88",
       "version_major": 2,
       "version_minor": 0
      },
      "text/plain": [
       "  0%|          | 0/55 [00:00<?, ?it/s]"
      ]
     },
     "metadata": {},
     "output_type": "display_data"
    },
    {
     "name": "stdout",
     "output_type": "stream",
     "text": [
      "{'eval_loss': 2.193101167678833, 'eval_bleu': 13.0025, 'eval_gen_len': 23.9067, 'eval_runtime': 89.1782, 'eval_samples_per_second': 9.857, 'eval_steps_per_second': 0.617, 'epoch': 7.61}\n"
     ]
    },
    {
     "data": {
      "application/vnd.jupyter.widget-view+json": {
       "model_id": "41bb439da2a14fa1a3505deb72e62c2e",
       "version_major": 2,
       "version_minor": 0
      },
      "text/plain": [
       "  0%|          | 0/55 [00:00<?, ?it/s]"
      ]
     },
     "metadata": {},
     "output_type": "display_data"
    },
    {
     "name": "stdout",
     "output_type": "stream",
     "text": [
      "{'eval_loss': 2.204484224319458, 'eval_bleu': 12.8093, 'eval_gen_len': 23.8658, 'eval_runtime': 87.7672, 'eval_samples_per_second': 10.015, 'eval_steps_per_second': 0.627, 'epoch': 7.62}\n"
     ]
    },
    {
     "data": {
      "application/vnd.jupyter.widget-view+json": {
       "model_id": "b1642ec7ebb84c1dbc43223e1767e719",
       "version_major": 2,
       "version_minor": 0
      },
      "text/plain": [
       "  0%|          | 0/55 [00:00<?, ?it/s]"
      ]
     },
     "metadata": {},
     "output_type": "display_data"
    },
    {
     "name": "stdout",
     "output_type": "stream",
     "text": [
      "{'eval_loss': 2.2226123809814453, 'eval_bleu': 12.7897, 'eval_gen_len': 23.8749, 'eval_runtime': 89.2698, 'eval_samples_per_second': 9.847, 'eval_steps_per_second': 0.616, 'epoch': 7.64}\n"
     ]
    },
    {
     "data": {
      "application/vnd.jupyter.widget-view+json": {
       "model_id": "079fb97fcb3a4377a8a51decc23bdac7",
       "version_major": 2,
       "version_minor": 0
      },
      "text/plain": [
       "  0%|          | 0/55 [00:00<?, ?it/s]"
      ]
     },
     "metadata": {},
     "output_type": "display_data"
    },
    {
     "name": "stdout",
     "output_type": "stream",
     "text": [
      "{'eval_loss': 2.1969563961029053, 'eval_bleu': 12.8773, 'eval_gen_len': 23.6257, 'eval_runtime': 88.1155, 'eval_samples_per_second': 9.976, 'eval_steps_per_second': 0.624, 'epoch': 7.65}\n"
     ]
    },
    {
     "data": {
      "application/vnd.jupyter.widget-view+json": {
       "model_id": "95d53d03cdb647e5bf808c8eb0a201d8",
       "version_major": 2,
       "version_minor": 0
      },
      "text/plain": [
       "  0%|          | 0/55 [00:00<?, ?it/s]"
      ]
     },
     "metadata": {},
     "output_type": "display_data"
    },
    {
     "name": "stdout",
     "output_type": "stream",
     "text": [
      "{'eval_loss': 2.1949119567871094, 'eval_bleu': 12.207, 'eval_gen_len': 24.165, 'eval_runtime': 88.1357, 'eval_samples_per_second': 9.973, 'eval_steps_per_second': 0.624, 'epoch': 7.67}\n",
      "{'loss': 1.9034, 'grad_norm': 1.2199145555496216, 'learning_rate': 0.00063, 'epoch': 7.68}\n"
     ]
    },
    {
     "data": {
      "application/vnd.jupyter.widget-view+json": {
       "model_id": "52e77abfb73a4921855b599cd1766a90",
       "version_major": 2,
       "version_minor": 0
      },
      "text/plain": [
       "  0%|          | 0/55 [00:00<?, ?it/s]"
      ]
     },
     "metadata": {},
     "output_type": "display_data"
    },
    {
     "name": "stdout",
     "output_type": "stream",
     "text": [
      "{'eval_loss': 2.204676866531372, 'eval_bleu': 12.2216, 'eval_gen_len': 24.0353, 'eval_runtime': 87.848, 'eval_samples_per_second': 10.006, 'eval_steps_per_second': 0.626, 'epoch': 7.68}\n"
     ]
    },
    {
     "data": {
      "application/vnd.jupyter.widget-view+json": {
       "model_id": "528b3e2051a5497183f4678d344b826e",
       "version_major": 2,
       "version_minor": 0
      },
      "text/plain": [
       "  0%|          | 0/55 [00:00<?, ?it/s]"
      ]
     },
     "metadata": {},
     "output_type": "display_data"
    },
    {
     "name": "stdout",
     "output_type": "stream",
     "text": [
      "{'eval_loss': 2.1761767864227295, 'eval_bleu': 12.6456, 'eval_gen_len': 24.1024, 'eval_runtime': 87.9212, 'eval_samples_per_second': 9.998, 'eval_steps_per_second': 0.626, 'epoch': 7.69}\n"
     ]
    },
    {
     "data": {
      "application/vnd.jupyter.widget-view+json": {
       "model_id": "270aa28dc25349ea8a77c6f06667224c",
       "version_major": 2,
       "version_minor": 0
      },
      "text/plain": [
       "  0%|          | 0/55 [00:00<?, ?it/s]"
      ]
     },
     "metadata": {},
     "output_type": "display_data"
    },
    {
     "name": "stdout",
     "output_type": "stream",
     "text": [
      "{'eval_loss': 2.1884443759918213, 'eval_bleu': 12.7353, 'eval_gen_len': 23.9317, 'eval_runtime': 88.1272, 'eval_samples_per_second': 9.974, 'eval_steps_per_second': 0.624, 'epoch': 7.71}\n"
     ]
    },
    {
     "data": {
      "application/vnd.jupyter.widget-view+json": {
       "model_id": "9844969c489f4d1cbd786325890d888e",
       "version_major": 2,
       "version_minor": 0
      },
      "text/plain": [
       "  0%|          | 0/55 [00:00<?, ?it/s]"
      ]
     },
     "metadata": {},
     "output_type": "display_data"
    },
    {
     "name": "stdout",
     "output_type": "stream",
     "text": [
      "{'eval_loss': 2.200662851333618, 'eval_bleu': 13.0985, 'eval_gen_len': 23.9716, 'eval_runtime': 87.5664, 'eval_samples_per_second': 10.038, 'eval_steps_per_second': 0.628, 'epoch': 7.72}\n"
     ]
    },
    {
     "data": {
      "application/vnd.jupyter.widget-view+json": {
       "model_id": "1cc5ef874b2b48b5a7b6324a4cca6d36",
       "version_major": 2,
       "version_minor": 0
      },
      "text/plain": [
       "  0%|          | 0/55 [00:00<?, ?it/s]"
      ]
     },
     "metadata": {},
     "output_type": "display_data"
    },
    {
     "name": "stdout",
     "output_type": "stream",
     "text": [
      "{'eval_loss': 2.1798245906829834, 'eval_bleu': 12.8636, 'eval_gen_len': 24.0432, 'eval_runtime': 88.7623, 'eval_samples_per_second': 9.903, 'eval_steps_per_second': 0.62, 'epoch': 7.73}\n",
      "{'loss': 1.8967, 'grad_norm': 1.1623622179031372, 'learning_rate': 0.0006266666666666668, 'epoch': 7.75}\n"
     ]
    },
    {
     "data": {
      "application/vnd.jupyter.widget-view+json": {
       "model_id": "6c1e070026f045b6958382df9e4811dc",
       "version_major": 2,
       "version_minor": 0
      },
      "text/plain": [
       "  0%|          | 0/55 [00:00<?, ?it/s]"
      ]
     },
     "metadata": {},
     "output_type": "display_data"
    },
    {
     "name": "stdout",
     "output_type": "stream",
     "text": [
      "{'eval_loss': 2.182363986968994, 'eval_bleu': 12.9675, 'eval_gen_len': 23.9192, 'eval_runtime': 87.9202, 'eval_samples_per_second': 9.998, 'eval_steps_per_second': 0.626, 'epoch': 7.75}\n"
     ]
    },
    {
     "data": {
      "application/vnd.jupyter.widget-view+json": {
       "model_id": "dbe2733e3dd94c1395c0f8d3572f6b9e",
       "version_major": 2,
       "version_minor": 0
      },
      "text/plain": [
       "  0%|          | 0/55 [00:00<?, ?it/s]"
      ]
     },
     "metadata": {},
     "output_type": "display_data"
    },
    {
     "name": "stdout",
     "output_type": "stream",
     "text": [
      "{'eval_loss': 2.1951193809509277, 'eval_bleu': 12.9253, 'eval_gen_len': 23.975, 'eval_runtime': 88.3764, 'eval_samples_per_second': 9.946, 'eval_steps_per_second': 0.622, 'epoch': 7.76}\n"
     ]
    },
    {
     "data": {
      "application/vnd.jupyter.widget-view+json": {
       "model_id": "5fdd1b8dc5ee4d1887fecef8996996d9",
       "version_major": 2,
       "version_minor": 0
      },
      "text/plain": [
       "  0%|          | 0/55 [00:00<?, ?it/s]"
      ]
     },
     "metadata": {},
     "output_type": "display_data"
    },
    {
     "name": "stdout",
     "output_type": "stream",
     "text": [
      "{'eval_loss': 2.1939914226531982, 'eval_bleu': 12.8714, 'eval_gen_len': 23.9841, 'eval_runtime': 88.8662, 'eval_samples_per_second': 9.891, 'eval_steps_per_second': 0.619, 'epoch': 7.78}\n"
     ]
    },
    {
     "data": {
      "application/vnd.jupyter.widget-view+json": {
       "model_id": "48376cd6684049c5be81593e6750b31e",
       "version_major": 2,
       "version_minor": 0
      },
      "text/plain": [
       "  0%|          | 0/55 [00:00<?, ?it/s]"
      ]
     },
     "metadata": {},
     "output_type": "display_data"
    },
    {
     "name": "stdout",
     "output_type": "stream",
     "text": [
      "{'eval_loss': 2.190626859664917, 'eval_bleu': 12.8473, 'eval_gen_len': 23.818, 'eval_runtime': 87.5942, 'eval_samples_per_second': 10.035, 'eval_steps_per_second': 0.628, 'epoch': 7.79}\n"
     ]
    },
    {
     "data": {
      "application/vnd.jupyter.widget-view+json": {
       "model_id": "fd81c49ed1f643fb9cd4c47379290eea",
       "version_major": 2,
       "version_minor": 0
      },
      "text/plain": [
       "  0%|          | 0/55 [00:00<?, ?it/s]"
      ]
     },
     "metadata": {},
     "output_type": "display_data"
    },
    {
     "name": "stdout",
     "output_type": "stream",
     "text": [
      "{'eval_loss': 2.1893720626831055, 'eval_bleu': 12.8543, 'eval_gen_len': 24.0046, 'eval_runtime': 88.0605, 'eval_samples_per_second': 9.982, 'eval_steps_per_second': 0.625, 'epoch': 7.8}\n",
      "{'loss': 1.9077, 'grad_norm': 1.3289134502410889, 'learning_rate': 0.0006233333333333333, 'epoch': 7.82}\n"
     ]
    },
    {
     "data": {
      "application/vnd.jupyter.widget-view+json": {
       "model_id": "a08679fb75a64bcdaf57321a77bc6d0c",
       "version_major": 2,
       "version_minor": 0
      },
      "text/plain": [
       "  0%|          | 0/55 [00:00<?, ?it/s]"
      ]
     },
     "metadata": {},
     "output_type": "display_data"
    },
    {
     "name": "stdout",
     "output_type": "stream",
     "text": [
      "{'eval_loss': 2.1920042037963867, 'eval_bleu': 13.0175, 'eval_gen_len': 23.7497, 'eval_runtime': 88.3759, 'eval_samples_per_second': 9.946, 'eval_steps_per_second': 0.622, 'epoch': 7.82}\n"
     ]
    },
    {
     "data": {
      "application/vnd.jupyter.widget-view+json": {
       "model_id": "5faedf641c8648288290accb9136a688",
       "version_major": 2,
       "version_minor": 0
      },
      "text/plain": [
       "  0%|          | 0/55 [00:00<?, ?it/s]"
      ]
     },
     "metadata": {},
     "output_type": "display_data"
    },
    {
     "name": "stdout",
     "output_type": "stream",
     "text": [
      "{'eval_loss': 2.1780126094818115, 'eval_bleu': 12.8634, 'eval_gen_len': 24.1092, 'eval_runtime': 88.625, 'eval_samples_per_second': 9.918, 'eval_steps_per_second': 0.621, 'epoch': 7.83}\n"
     ]
    },
    {
     "data": {
      "application/vnd.jupyter.widget-view+json": {
       "model_id": "e02f93b8c91d42a2b3081702fdb4ea6a",
       "version_major": 2,
       "version_minor": 0
      },
      "text/plain": [
       "  0%|          | 0/55 [00:00<?, ?it/s]"
      ]
     },
     "metadata": {},
     "output_type": "display_data"
    },
    {
     "name": "stdout",
     "output_type": "stream",
     "text": [
      "{'eval_loss': 2.169506788253784, 'eval_bleu': 12.5177, 'eval_gen_len': 24.1092, 'eval_runtime': 89.2574, 'eval_samples_per_second': 9.848, 'eval_steps_per_second': 0.616, 'epoch': 7.85}\n"
     ]
    },
    {
     "data": {
      "application/vnd.jupyter.widget-view+json": {
       "model_id": "de8a6228ce03480ab596f67e8637891f",
       "version_major": 2,
       "version_minor": 0
      },
      "text/plain": [
       "  0%|          | 0/55 [00:00<?, ?it/s]"
      ]
     },
     "metadata": {},
     "output_type": "display_data"
    },
    {
     "name": "stdout",
     "output_type": "stream",
     "text": [
      "{'eval_loss': 2.1805026531219482, 'eval_bleu': 13.01, 'eval_gen_len': 23.9704, 'eval_runtime': 89.3535, 'eval_samples_per_second': 9.837, 'eval_steps_per_second': 0.616, 'epoch': 7.86}\n"
     ]
    },
    {
     "data": {
      "application/vnd.jupyter.widget-view+json": {
       "model_id": "1a4c7270151d4563a6c6db1feefb0efc",
       "version_major": 2,
       "version_minor": 0
      },
      "text/plain": [
       "  0%|          | 0/55 [00:00<?, ?it/s]"
      ]
     },
     "metadata": {},
     "output_type": "display_data"
    },
    {
     "name": "stdout",
     "output_type": "stream",
     "text": [
      "{'eval_loss': 2.190020799636841, 'eval_bleu': 12.5785, 'eval_gen_len': 24.0637, 'eval_runtime': 90.959, 'eval_samples_per_second': 9.664, 'eval_steps_per_second': 0.605, 'epoch': 7.87}\n",
      "{'loss': 1.9019, 'grad_norm': 1.055449366569519, 'learning_rate': 0.00062, 'epoch': 7.89}\n"
     ]
    },
    {
     "data": {
      "application/vnd.jupyter.widget-view+json": {
       "model_id": "dd76b3cc516b4499a119e16c937fe78d",
       "version_major": 2,
       "version_minor": 0
      },
      "text/plain": [
       "  0%|          | 0/55 [00:00<?, ?it/s]"
      ]
     },
     "metadata": {},
     "output_type": "display_data"
    },
    {
     "name": "stdout",
     "output_type": "stream",
     "text": [
      "{'eval_loss': 2.1839826107025146, 'eval_bleu': 13.2552, 'eval_gen_len': 23.9158, 'eval_runtime': 87.5841, 'eval_samples_per_second': 10.036, 'eval_steps_per_second': 0.628, 'epoch': 7.89}\n"
     ]
    },
    {
     "data": {
      "application/vnd.jupyter.widget-view+json": {
       "model_id": "c3d3931549894e2494ebe51c2aee9d09",
       "version_major": 2,
       "version_minor": 0
      },
      "text/plain": [
       "  0%|          | 0/55 [00:00<?, ?it/s]"
      ]
     },
     "metadata": {},
     "output_type": "display_data"
    },
    {
     "name": "stdout",
     "output_type": "stream",
     "text": [
      "{'eval_loss': 2.1704301834106445, 'eval_bleu': 12.8167, 'eval_gen_len': 24.0592, 'eval_runtime': 88.495, 'eval_samples_per_second': 9.933, 'eval_steps_per_second': 0.622, 'epoch': 7.9}\n"
     ]
    },
    {
     "data": {
      "application/vnd.jupyter.widget-view+json": {
       "model_id": "c5ab66d258e74924a46dc6116fbd29cc",
       "version_major": 2,
       "version_minor": 0
      },
      "text/plain": [
       "  0%|          | 0/55 [00:00<?, ?it/s]"
      ]
     },
     "metadata": {},
     "output_type": "display_data"
    },
    {
     "name": "stdout",
     "output_type": "stream",
     "text": [
      "{'eval_loss': 2.1797397136688232, 'eval_bleu': 12.7962, 'eval_gen_len': 23.9693, 'eval_runtime': 88.2951, 'eval_samples_per_second': 9.955, 'eval_steps_per_second': 0.623, 'epoch': 7.91}\n"
     ]
    },
    {
     "data": {
      "application/vnd.jupyter.widget-view+json": {
       "model_id": "01d366469f104e1083fa0be8854fc270",
       "version_major": 2,
       "version_minor": 0
      },
      "text/plain": [
       "  0%|          | 0/55 [00:00<?, ?it/s]"
      ]
     },
     "metadata": {},
     "output_type": "display_data"
    },
    {
     "name": "stdout",
     "output_type": "stream",
     "text": [
      "{'eval_loss': 2.1890993118286133, 'eval_bleu': 13.2197, 'eval_gen_len': 23.9738, 'eval_runtime': 88.6641, 'eval_samples_per_second': 9.914, 'eval_steps_per_second': 0.62, 'epoch': 7.93}\n"
     ]
    },
    {
     "data": {
      "application/vnd.jupyter.widget-view+json": {
       "model_id": "3157ad92f8f247fcb0220c51415ccfa9",
       "version_major": 2,
       "version_minor": 0
      },
      "text/plain": [
       "  0%|          | 0/55 [00:00<?, ?it/s]"
      ]
     },
     "metadata": {},
     "output_type": "display_data"
    },
    {
     "name": "stdout",
     "output_type": "stream",
     "text": [
      "{'eval_loss': 2.193145513534546, 'eval_bleu': 13.1292, 'eval_gen_len': 24.0808, 'eval_runtime': 89.2151, 'eval_samples_per_second': 9.853, 'eval_steps_per_second': 0.616, 'epoch': 7.94}\n",
      "{'loss': 1.898, 'grad_norm': 1.1108272075653076, 'learning_rate': 0.0006166666666666667, 'epoch': 7.96}\n"
     ]
    },
    {
     "data": {
      "application/vnd.jupyter.widget-view+json": {
       "model_id": "061b8fce9beb4eb8be3e2db7b43a4687",
       "version_major": 2,
       "version_minor": 0
      },
      "text/plain": [
       "  0%|          | 0/55 [00:00<?, ?it/s]"
      ]
     },
     "metadata": {},
     "output_type": "display_data"
    },
    {
     "name": "stdout",
     "output_type": "stream",
     "text": [
      "{'eval_loss': 2.177680015563965, 'eval_bleu': 12.8281, 'eval_gen_len': 24.1456, 'eval_runtime': 88.4903, 'eval_samples_per_second': 9.933, 'eval_steps_per_second': 0.622, 'epoch': 7.96}\n"
     ]
    },
    {
     "data": {
      "application/vnd.jupyter.widget-view+json": {
       "model_id": "9c5973bd88e54d549e4e0bb28c9613ff",
       "version_major": 2,
       "version_minor": 0
      },
      "text/plain": [
       "  0%|          | 0/55 [00:00<?, ?it/s]"
      ]
     },
     "metadata": {},
     "output_type": "display_data"
    },
    {
     "name": "stdout",
     "output_type": "stream",
     "text": [
      "{'eval_loss': 2.1907401084899902, 'eval_bleu': 12.8038, 'eval_gen_len': 23.967, 'eval_runtime': 87.8691, 'eval_samples_per_second': 10.004, 'eval_steps_per_second': 0.626, 'epoch': 7.97}\n"
     ]
    },
    {
     "data": {
      "application/vnd.jupyter.widget-view+json": {
       "model_id": "89c86ef774ff4f1ba9ded63ad54acc70",
       "version_major": 2,
       "version_minor": 0
      },
      "text/plain": [
       "  0%|          | 0/55 [00:00<?, ?it/s]"
      ]
     },
     "metadata": {},
     "output_type": "display_data"
    },
    {
     "name": "stdout",
     "output_type": "stream",
     "text": [
      "{'eval_loss': 2.180034637451172, 'eval_bleu': 13.234, 'eval_gen_len': 23.8714, 'eval_runtime': 88.5311, 'eval_samples_per_second': 9.929, 'eval_steps_per_second': 0.621, 'epoch': 7.98}\n"
     ]
    },
    {
     "data": {
      "application/vnd.jupyter.widget-view+json": {
       "model_id": "50a01e4d0f1e4b89be4ec79ea11ee51e",
       "version_major": 2,
       "version_minor": 0
      },
      "text/plain": [
       "  0%|          | 0/55 [00:00<?, ?it/s]"
      ]
     },
     "metadata": {},
     "output_type": "display_data"
    },
    {
     "name": "stdout",
     "output_type": "stream",
     "text": [
      "{'eval_loss': 2.178515911102295, 'eval_bleu': 12.8833, 'eval_gen_len': 23.8885, 'eval_runtime': 88.3429, 'eval_samples_per_second': 9.95, 'eval_steps_per_second': 0.623, 'epoch': 8.0}\n"
     ]
    },
    {
     "data": {
      "application/vnd.jupyter.widget-view+json": {
       "model_id": "6e13ecc4e41c472c8d779d2d350aaca8",
       "version_major": 2,
       "version_minor": 0
      },
      "text/plain": [
       "  0%|          | 0/55 [00:00<?, ?it/s]"
      ]
     },
     "metadata": {},
     "output_type": "display_data"
    },
    {
     "name": "stdout",
     "output_type": "stream",
     "text": [
      "{'eval_loss': 2.183622360229492, 'eval_bleu': 13.3678, 'eval_gen_len': 23.7691, 'eval_runtime': 88.4499, 'eval_samples_per_second': 9.938, 'eval_steps_per_second': 0.622, 'epoch': 8.01}\n",
      "{'loss': 1.8378, 'grad_norm': 1.4863662719726562, 'learning_rate': 0.0006133333333333334, 'epoch': 8.02}\n"
     ]
    },
    {
     "data": {
      "application/vnd.jupyter.widget-view+json": {
       "model_id": "09dfb8fca0444c258cfffe0f1fe83fef",
       "version_major": 2,
       "version_minor": 0
      },
      "text/plain": [
       "  0%|          | 0/55 [00:00<?, ?it/s]"
      ]
     },
     "metadata": {},
     "output_type": "display_data"
    },
    {
     "name": "stdout",
     "output_type": "stream",
     "text": [
      "{'eval_loss': 2.192103624343872, 'eval_bleu': 13.4509, 'eval_gen_len': 23.7941, 'eval_runtime': 88.4212, 'eval_samples_per_second': 9.941, 'eval_steps_per_second': 0.622, 'epoch': 8.02}\n"
     ]
    },
    {
     "data": {
      "application/vnd.jupyter.widget-view+json": {
       "model_id": "c106701f3c8147e2bdc47ed726a12d6e",
       "version_major": 2,
       "version_minor": 0
      },
      "text/plain": [
       "  0%|          | 0/55 [00:00<?, ?it/s]"
      ]
     },
     "metadata": {},
     "output_type": "display_data"
    },
    {
     "name": "stdout",
     "output_type": "stream",
     "text": [
      "{'eval_loss': 2.18326997756958, 'eval_bleu': 13.3499, 'eval_gen_len': 23.7258, 'eval_runtime': 88.0638, 'eval_samples_per_second': 9.981, 'eval_steps_per_second': 0.625, 'epoch': 8.04}\n"
     ]
    },
    {
     "data": {
      "application/vnd.jupyter.widget-view+json": {
       "model_id": "9a9c38908d47440bb12bf5959faa467e",
       "version_major": 2,
       "version_minor": 0
      },
      "text/plain": [
       "  0%|          | 0/55 [00:00<?, ?it/s]"
      ]
     },
     "metadata": {},
     "output_type": "display_data"
    },
    {
     "name": "stdout",
     "output_type": "stream",
     "text": [
      "{'eval_loss': 2.194843292236328, 'eval_bleu': 13.3972, 'eval_gen_len': 23.876, 'eval_runtime': 88.8875, 'eval_samples_per_second': 9.889, 'eval_steps_per_second': 0.619, 'epoch': 8.05}\n"
     ]
    },
    {
     "data": {
      "application/vnd.jupyter.widget-view+json": {
       "model_id": "a271dae7b77f408e86ab2fc3d8d52605",
       "version_major": 2,
       "version_minor": 0
      },
      "text/plain": [
       "  0%|          | 0/55 [00:00<?, ?it/s]"
      ]
     },
     "metadata": {},
     "output_type": "display_data"
    },
    {
     "name": "stdout",
     "output_type": "stream",
     "text": [
      "{'eval_loss': 2.1862714290618896, 'eval_bleu': 12.9243, 'eval_gen_len': 24.0853, 'eval_runtime': 89.028, 'eval_samples_per_second': 9.873, 'eval_steps_per_second': 0.618, 'epoch': 8.07}\n"
     ]
    },
    {
     "data": {
      "application/vnd.jupyter.widget-view+json": {
       "model_id": "13206604ea654a35aaec2c93020e0b80",
       "version_major": 2,
       "version_minor": 0
      },
      "text/plain": [
       "  0%|          | 0/55 [00:00<?, ?it/s]"
      ]
     },
     "metadata": {},
     "output_type": "display_data"
    },
    {
     "name": "stdout",
     "output_type": "stream",
     "text": [
      "{'eval_loss': 2.1832447052001953, 'eval_bleu': 12.7399, 'eval_gen_len': 24.1479, 'eval_runtime': 88.999, 'eval_samples_per_second': 9.877, 'eval_steps_per_second': 0.618, 'epoch': 8.08}\n",
      "{'loss': 1.7703, 'grad_norm': 1.1195236444473267, 'learning_rate': 0.00061, 'epoch': 8.09}\n"
     ]
    },
    {
     "data": {
      "application/vnd.jupyter.widget-view+json": {
       "model_id": "aece4cdba1c44aea9b305520b2e9bb4c",
       "version_major": 2,
       "version_minor": 0
      },
      "text/plain": [
       "  0%|          | 0/55 [00:00<?, ?it/s]"
      ]
     },
     "metadata": {},
     "output_type": "display_data"
    },
    {
     "name": "stdout",
     "output_type": "stream",
     "text": [
      "{'eval_loss': 2.197089910507202, 'eval_bleu': 12.7717, 'eval_gen_len': 23.8009, 'eval_runtime': 88.4499, 'eval_samples_per_second': 9.938, 'eval_steps_per_second': 0.622, 'epoch': 8.09}\n"
     ]
    },
    {
     "data": {
      "application/vnd.jupyter.widget-view+json": {
       "model_id": "6d592deb346d4170b3886c53d8ab7223",
       "version_major": 2,
       "version_minor": 0
      },
      "text/plain": [
       "  0%|          | 0/55 [00:00<?, ?it/s]"
      ]
     },
     "metadata": {},
     "output_type": "display_data"
    },
    {
     "name": "stdout",
     "output_type": "stream",
     "text": [
      "{'eval_loss': 2.1923086643218994, 'eval_bleu': 13.357, 'eval_gen_len': 23.6325, 'eval_runtime': 88.4608, 'eval_samples_per_second': 9.937, 'eval_steps_per_second': 0.622, 'epoch': 8.11}\n"
     ]
    },
    {
     "data": {
      "application/vnd.jupyter.widget-view+json": {
       "model_id": "4fe3a62525f84cb59de170be7ab7553f",
       "version_major": 2,
       "version_minor": 0
      },
      "text/plain": [
       "  0%|          | 0/55 [00:00<?, ?it/s]"
      ]
     },
     "metadata": {},
     "output_type": "display_data"
    },
    {
     "name": "stdout",
     "output_type": "stream",
     "text": [
      "{'eval_loss': 2.191666603088379, 'eval_bleu': 13.2097, 'eval_gen_len': 23.785, 'eval_runtime': 88.2761, 'eval_samples_per_second': 9.957, 'eval_steps_per_second': 0.623, 'epoch': 8.12}\n"
     ]
    },
    {
     "data": {
      "application/vnd.jupyter.widget-view+json": {
       "model_id": "19711e9a8d754a63b78459beb560d969",
       "version_major": 2,
       "version_minor": 0
      },
      "text/plain": [
       "  0%|          | 0/55 [00:00<?, ?it/s]"
      ]
     },
     "metadata": {},
     "output_type": "display_data"
    },
    {
     "name": "stdout",
     "output_type": "stream",
     "text": [
      "{'eval_loss': 2.1952173709869385, 'eval_bleu': 13.2256, 'eval_gen_len': 23.7736, 'eval_runtime': 88.4271, 'eval_samples_per_second': 9.94, 'eval_steps_per_second': 0.622, 'epoch': 8.14}\n"
     ]
    },
    {
     "data": {
      "application/vnd.jupyter.widget-view+json": {
       "model_id": "2e360ba72e834633be9c5d1a6f76cacc",
       "version_major": 2,
       "version_minor": 0
      },
      "text/plain": [
       "  0%|          | 0/55 [00:00<?, ?it/s]"
      ]
     },
     "metadata": {},
     "output_type": "display_data"
    },
    {
     "name": "stdout",
     "output_type": "stream",
     "text": [
      "{'eval_loss': 2.181628704071045, 'eval_bleu': 13.554, 'eval_gen_len': 23.7076, 'eval_runtime': 91.3875, 'eval_samples_per_second': 9.618, 'eval_steps_per_second': 0.602, 'epoch': 8.15}\n",
      "{'loss': 1.7732, 'grad_norm': 1.1469320058822632, 'learning_rate': 0.0006066666666666667, 'epoch': 8.16}\n"
     ]
    },
    {
     "data": {
      "application/vnd.jupyter.widget-view+json": {
       "model_id": "6db1296b4a9d4f72b85db8c91880ddfb",
       "version_major": 2,
       "version_minor": 0
      },
      "text/plain": [
       "  0%|          | 0/55 [00:00<?, ?it/s]"
      ]
     },
     "metadata": {},
     "output_type": "display_data"
    },
    {
     "name": "stdout",
     "output_type": "stream",
     "text": [
      "{'eval_loss': 2.2000043392181396, 'eval_bleu': 13.0246, 'eval_gen_len': 23.711, 'eval_runtime': 88.382, 'eval_samples_per_second': 9.945, 'eval_steps_per_second': 0.622, 'epoch': 8.16}\n"
     ]
    },
    {
     "data": {
      "application/vnd.jupyter.widget-view+json": {
       "model_id": "3ede0af3a3be4f5fa7d166081bc264d6",
       "version_major": 2,
       "version_minor": 0
      },
      "text/plain": [
       "  0%|          | 0/55 [00:00<?, ?it/s]"
      ]
     },
     "metadata": {},
     "output_type": "display_data"
    },
    {
     "name": "stdout",
     "output_type": "stream",
     "text": [
      "{'eval_loss': 2.1832308769226074, 'eval_bleu': 12.8801, 'eval_gen_len': 24.0569, 'eval_runtime': 89.1412, 'eval_samples_per_second': 9.861, 'eval_steps_per_second': 0.617, 'epoch': 8.18}\n"
     ]
    },
    {
     "data": {
      "application/vnd.jupyter.widget-view+json": {
       "model_id": "4b8c8f57ac0d4316b999f6d32753679e",
       "version_major": 2,
       "version_minor": 0
      },
      "text/plain": [
       "  0%|          | 0/55 [00:00<?, ?it/s]"
      ]
     },
     "metadata": {},
     "output_type": "display_data"
    },
    {
     "name": "stdout",
     "output_type": "stream",
     "text": [
      "{'eval_loss': 2.179612636566162, 'eval_bleu': 12.7131, 'eval_gen_len': 23.9613, 'eval_runtime': 88.6472, 'eval_samples_per_second': 9.916, 'eval_steps_per_second': 0.62, 'epoch': 8.19}\n"
     ]
    },
    {
     "data": {
      "application/vnd.jupyter.widget-view+json": {
       "model_id": "883ca715bc7d479782e67e7ff71b77ee",
       "version_major": 2,
       "version_minor": 0
      },
      "text/plain": [
       "  0%|          | 0/55 [00:00<?, ?it/s]"
      ]
     },
     "metadata": {},
     "output_type": "display_data"
    },
    {
     "name": "stdout",
     "output_type": "stream",
     "text": [
      "{'eval_loss': 2.191411018371582, 'eval_bleu': 12.677, 'eval_gen_len': 23.9647, 'eval_runtime': 88.5529, 'eval_samples_per_second': 9.926, 'eval_steps_per_second': 0.621, 'epoch': 8.2}\n"
     ]
    },
    {
     "data": {
      "application/vnd.jupyter.widget-view+json": {
       "model_id": "677a74f4034c44f585dcd0200b1635fd",
       "version_major": 2,
       "version_minor": 0
      },
      "text/plain": [
       "  0%|          | 0/55 [00:00<?, ?it/s]"
      ]
     },
     "metadata": {},
     "output_type": "display_data"
    },
    {
     "name": "stdout",
     "output_type": "stream",
     "text": [
      "{'eval_loss': 2.1937122344970703, 'eval_bleu': 13.1875, 'eval_gen_len': 23.7099, 'eval_runtime': 88.8371, 'eval_samples_per_second': 9.895, 'eval_steps_per_second': 0.619, 'epoch': 8.22}\n",
      "{'loss': 1.7774, 'grad_norm': 1.4353588819503784, 'learning_rate': 0.0006033333333333334, 'epoch': 8.23}\n"
     ]
    },
    {
     "data": {
      "application/vnd.jupyter.widget-view+json": {
       "model_id": "f0123b1633174506a9912ed22671b077",
       "version_major": 2,
       "version_minor": 0
      },
      "text/plain": [
       "  0%|          | 0/55 [00:00<?, ?it/s]"
      ]
     },
     "metadata": {},
     "output_type": "display_data"
    },
    {
     "name": "stdout",
     "output_type": "stream",
     "text": [
      "{'eval_loss': 2.1755530834198, 'eval_bleu': 13.3619, 'eval_gen_len': 24.1354, 'eval_runtime': 88.8407, 'eval_samples_per_second': 9.894, 'eval_steps_per_second': 0.619, 'epoch': 8.23}\n"
     ]
    },
    {
     "data": {
      "application/vnd.jupyter.widget-view+json": {
       "model_id": "40845d6c5f0b4d83a3997e503ca9cb28",
       "version_major": 2,
       "version_minor": 0
      },
      "text/plain": [
       "  0%|          | 0/55 [00:00<?, ?it/s]"
      ]
     },
     "metadata": {},
     "output_type": "display_data"
    },
    {
     "name": "stdout",
     "output_type": "stream",
     "text": [
      "{'eval_loss': 2.180590867996216, 'eval_bleu': 13.2591, 'eval_gen_len': 24.0239, 'eval_runtime': 88.319, 'eval_samples_per_second': 9.953, 'eval_steps_per_second': 0.623, 'epoch': 8.25}\n"
     ]
    },
    {
     "data": {
      "application/vnd.jupyter.widget-view+json": {
       "model_id": "39e4f729f8f948c6a50088e60c10b7f3",
       "version_major": 2,
       "version_minor": 0
      },
      "text/plain": [
       "  0%|          | 0/55 [00:00<?, ?it/s]"
      ]
     },
     "metadata": {},
     "output_type": "display_data"
    },
    {
     "name": "stdout",
     "output_type": "stream",
     "text": [
      "{'eval_loss': 2.1748604774475098, 'eval_bleu': 12.9753, 'eval_gen_len': 23.8931, 'eval_runtime': 88.1381, 'eval_samples_per_second': 9.973, 'eval_steps_per_second': 0.624, 'epoch': 8.26}\n"
     ]
    },
    {
     "data": {
      "application/vnd.jupyter.widget-view+json": {
       "model_id": "13fe1e4a6d134d1db6fbc196dfe05750",
       "version_major": 2,
       "version_minor": 0
      },
      "text/plain": [
       "  0%|          | 0/55 [00:00<?, ?it/s]"
      ]
     },
     "metadata": {},
     "output_type": "display_data"
    },
    {
     "name": "stdout",
     "output_type": "stream",
     "text": [
      "{'eval_loss': 2.1812281608581543, 'eval_bleu': 13.5192, 'eval_gen_len': 23.7759, 'eval_runtime': 94.8586, 'eval_samples_per_second': 9.266, 'eval_steps_per_second': 0.58, 'epoch': 8.27}\n"
     ]
    },
    {
     "data": {
      "application/vnd.jupyter.widget-view+json": {
       "model_id": "d4b08fe4aee646e88e390cd7c89a35e9",
       "version_major": 2,
       "version_minor": 0
      },
      "text/plain": [
       "  0%|          | 0/55 [00:00<?, ?it/s]"
      ]
     },
     "metadata": {},
     "output_type": "display_data"
    },
    {
     "name": "stdout",
     "output_type": "stream",
     "text": [
      "{'eval_loss': 2.1911416053771973, 'eval_bleu': 13.2295, 'eval_gen_len': 23.8134, 'eval_runtime': 89.6638, 'eval_samples_per_second': 9.803, 'eval_steps_per_second': 0.613, 'epoch': 8.29}\n",
      "{'loss': 1.7924, 'grad_norm': 1.1201565265655518, 'learning_rate': 0.0006, 'epoch': 8.3}\n"
     ]
    },
    {
     "data": {
      "application/vnd.jupyter.widget-view+json": {
       "model_id": "baea785ce81e4b5d9b9fd7f342d2b960",
       "version_major": 2,
       "version_minor": 0
      },
      "text/plain": [
       "  0%|          | 0/55 [00:00<?, ?it/s]"
      ]
     },
     "metadata": {},
     "output_type": "display_data"
    },
    {
     "name": "stdout",
     "output_type": "stream",
     "text": [
      "{'eval_loss': 2.178586006164551, 'eval_bleu': 13.1497, 'eval_gen_len': 23.9261, 'eval_runtime': 88.2788, 'eval_samples_per_second': 9.957, 'eval_steps_per_second': 0.623, 'epoch': 8.3}\n"
     ]
    },
    {
     "data": {
      "application/vnd.jupyter.widget-view+json": {
       "model_id": "644cb0eb494c41c4aba96810cfb8db08",
       "version_major": 2,
       "version_minor": 0
      },
      "text/plain": [
       "  0%|          | 0/55 [00:00<?, ?it/s]"
      ]
     },
     "metadata": {},
     "output_type": "display_data"
    },
    {
     "name": "stdout",
     "output_type": "stream",
     "text": [
      "{'eval_loss': 2.17160701751709, 'eval_bleu': 13.268, 'eval_gen_len': 24.0091, 'eval_runtime': 88.4876, 'eval_samples_per_second': 9.934, 'eval_steps_per_second': 0.622, 'epoch': 8.32}\n"
     ]
    },
    {
     "data": {
      "application/vnd.jupyter.widget-view+json": {
       "model_id": "c0d2b3809156470caf479bc4d793b1f5",
       "version_major": 2,
       "version_minor": 0
      },
      "text/plain": [
       "  0%|          | 0/55 [00:00<?, ?it/s]"
      ]
     },
     "metadata": {},
     "output_type": "display_data"
    },
    {
     "name": "stdout",
     "output_type": "stream",
     "text": [
      "{'eval_loss': 2.1648576259613037, 'eval_bleu': 12.8679, 'eval_gen_len': 24.0705, 'eval_runtime': 88.7079, 'eval_samples_per_second': 9.909, 'eval_steps_per_second': 0.62, 'epoch': 8.33}\n"
     ]
    },
    {
     "data": {
      "application/vnd.jupyter.widget-view+json": {
       "model_id": "eb0f4ffde62a482a9bbab7546f5185d0",
       "version_major": 2,
       "version_minor": 0
      },
      "text/plain": [
       "  0%|          | 0/55 [00:00<?, ?it/s]"
      ]
     },
     "metadata": {},
     "output_type": "display_data"
    },
    {
     "name": "stdout",
     "output_type": "stream",
     "text": [
      "{'eval_loss': 2.180579423904419, 'eval_bleu': 13.3332, 'eval_gen_len': 23.719, 'eval_runtime': 87.6806, 'eval_samples_per_second': 10.025, 'eval_steps_per_second': 0.627, 'epoch': 8.34}\n"
     ]
    },
    {
     "data": {
      "application/vnd.jupyter.widget-view+json": {
       "model_id": "a4f0b363ac9548c9baa4cc4ffb202432",
       "version_major": 2,
       "version_minor": 0
      },
      "text/plain": [
       "  0%|          | 0/55 [00:00<?, ?it/s]"
      ]
     },
     "metadata": {},
     "output_type": "display_data"
    },
    {
     "name": "stdout",
     "output_type": "stream",
     "text": [
      "{'eval_loss': 2.176403760910034, 'eval_bleu': 13.5698, 'eval_gen_len': 23.9863, 'eval_runtime': 89.4175, 'eval_samples_per_second': 9.83, 'eval_steps_per_second': 0.615, 'epoch': 8.36}\n",
      "{'loss': 1.7888, 'grad_norm': 1.0543534755706787, 'learning_rate': 0.0005966666666666667, 'epoch': 8.37}\n"
     ]
    },
    {
     "data": {
      "application/vnd.jupyter.widget-view+json": {
       "model_id": "98a2b4fee61f491fb953080f432f96db",
       "version_major": 2,
       "version_minor": 0
      },
      "text/plain": [
       "  0%|          | 0/55 [00:00<?, ?it/s]"
      ]
     },
     "metadata": {},
     "output_type": "display_data"
    },
    {
     "name": "stdout",
     "output_type": "stream",
     "text": [
      "{'eval_loss': 2.1704864501953125, 'eval_bleu': 13.3229, 'eval_gen_len': 23.9067, 'eval_runtime': 88.1438, 'eval_samples_per_second': 9.972, 'eval_steps_per_second': 0.624, 'epoch': 8.37}\n"
     ]
    },
    {
     "data": {
      "application/vnd.jupyter.widget-view+json": {
       "model_id": "fbc6b7cac21a4e3bbb3e6098a75bd6ee",
       "version_major": 2,
       "version_minor": 0
      },
      "text/plain": [
       "  0%|          | 0/55 [00:00<?, ?it/s]"
      ]
     },
     "metadata": {},
     "output_type": "display_data"
    },
    {
     "name": "stdout",
     "output_type": "stream",
     "text": [
      "{'eval_loss': 2.1662356853485107, 'eval_bleu': 13.3143, 'eval_gen_len': 23.7884, 'eval_runtime': 88.1473, 'eval_samples_per_second': 9.972, 'eval_steps_per_second': 0.624, 'epoch': 8.38}\n"
     ]
    },
    {
     "data": {
      "application/vnd.jupyter.widget-view+json": {
       "model_id": "f06c59ef160f4fc0b503615cc5de4192",
       "version_major": 2,
       "version_minor": 0
      },
      "text/plain": [
       "  0%|          | 0/55 [00:00<?, ?it/s]"
      ]
     },
     "metadata": {},
     "output_type": "display_data"
    },
    {
     "name": "stdout",
     "output_type": "stream",
     "text": [
      "{'eval_loss': 2.1839935779571533, 'eval_bleu': 12.95, 'eval_gen_len': 23.5904, 'eval_runtime': 88.1053, 'eval_samples_per_second': 9.977, 'eval_steps_per_second': 0.624, 'epoch': 8.4}\n"
     ]
    },
    {
     "data": {
      "application/vnd.jupyter.widget-view+json": {
       "model_id": "a7b242eed9324031ba86f1e5614fc9a6",
       "version_major": 2,
       "version_minor": 0
      },
      "text/plain": [
       "  0%|          | 0/55 [00:00<?, ?it/s]"
      ]
     },
     "metadata": {},
     "output_type": "display_data"
    },
    {
     "name": "stdout",
     "output_type": "stream",
     "text": [
      "{'eval_loss': 2.165977716445923, 'eval_bleu': 13.3601, 'eval_gen_len': 23.9033, 'eval_runtime': 88.2732, 'eval_samples_per_second': 9.958, 'eval_steps_per_second': 0.623, 'epoch': 8.41}\n"
     ]
    },
    {
     "data": {
      "application/vnd.jupyter.widget-view+json": {
       "model_id": "f8a39c5819dc4dae9f341d910d0f1282",
       "version_major": 2,
       "version_minor": 0
      },
      "text/plain": [
       "  0%|          | 0/55 [00:00<?, ?it/s]"
      ]
     },
     "metadata": {},
     "output_type": "display_data"
    },
    {
     "name": "stdout",
     "output_type": "stream",
     "text": [
      "{'eval_loss': 2.1685492992401123, 'eval_bleu': 13.1086, 'eval_gen_len': 23.7736, 'eval_runtime': 88.2397, 'eval_samples_per_second': 9.962, 'eval_steps_per_second': 0.623, 'epoch': 8.43}\n",
      "{'loss': 1.7969, 'grad_norm': 1.1885004043579102, 'learning_rate': 0.0005933333333333334, 'epoch': 8.44}\n"
     ]
    },
    {
     "data": {
      "application/vnd.jupyter.widget-view+json": {
       "model_id": "40c41f54869b40c28098f266709daa4a",
       "version_major": 2,
       "version_minor": 0
      },
      "text/plain": [
       "  0%|          | 0/55 [00:00<?, ?it/s]"
      ]
     },
     "metadata": {},
     "output_type": "display_data"
    },
    {
     "name": "stdout",
     "output_type": "stream",
     "text": [
      "{'eval_loss': 2.169006586074829, 'eval_bleu': 13.1091, 'eval_gen_len': 23.8896, 'eval_runtime': 87.9096, 'eval_samples_per_second': 9.999, 'eval_steps_per_second': 0.626, 'epoch': 8.44}\n"
     ]
    },
    {
     "data": {
      "application/vnd.jupyter.widget-view+json": {
       "model_id": "903f7703c4d541aba60c057462b03d89",
       "version_major": 2,
       "version_minor": 0
      },
      "text/plain": [
       "  0%|          | 0/55 [00:00<?, ?it/s]"
      ]
     },
     "metadata": {},
     "output_type": "display_data"
    },
    {
     "name": "stdout",
     "output_type": "stream",
     "text": [
      "{'eval_loss': 2.170658826828003, 'eval_bleu': 13.0787, 'eval_gen_len': 23.8498, 'eval_runtime': 88.6256, 'eval_samples_per_second': 9.918, 'eval_steps_per_second': 0.621, 'epoch': 8.45}\n"
     ]
    },
    {
     "data": {
      "application/vnd.jupyter.widget-view+json": {
       "model_id": "a933899baefc4f149db36b3f6d8c26c7",
       "version_major": 2,
       "version_minor": 0
      },
      "text/plain": [
       "  0%|          | 0/55 [00:00<?, ?it/s]"
      ]
     },
     "metadata": {},
     "output_type": "display_data"
    },
    {
     "name": "stdout",
     "output_type": "stream",
     "text": [
      "{'eval_loss': 2.162078619003296, 'eval_bleu': 13.0302, 'eval_gen_len': 24.0091, 'eval_runtime': 88.0438, 'eval_samples_per_second': 9.984, 'eval_steps_per_second': 0.625, 'epoch': 8.47}\n"
     ]
    },
    {
     "data": {
      "application/vnd.jupyter.widget-view+json": {
       "model_id": "cb04af04c3c14d519c634b5860a916f5",
       "version_major": 2,
       "version_minor": 0
      },
      "text/plain": [
       "  0%|          | 0/55 [00:00<?, ?it/s]"
      ]
     },
     "metadata": {},
     "output_type": "display_data"
    },
    {
     "name": "stdout",
     "output_type": "stream",
     "text": [
      "{'eval_loss': 2.173826217651367, 'eval_bleu': 12.8615, 'eval_gen_len': 23.7702, 'eval_runtime': 88.2275, 'eval_samples_per_second': 9.963, 'eval_steps_per_second': 0.623, 'epoch': 8.48}\n"
     ]
    },
    {
     "data": {
      "application/vnd.jupyter.widget-view+json": {
       "model_id": "1370fbc58e6e4d50a33969eeee2a458d",
       "version_major": 2,
       "version_minor": 0
      },
      "text/plain": [
       "  0%|          | 0/55 [00:00<?, ?it/s]"
      ]
     },
     "metadata": {},
     "output_type": "display_data"
    },
    {
     "name": "stdout",
     "output_type": "stream",
     "text": [
      "{'eval_loss': 2.168449878692627, 'eval_bleu': 13.0267, 'eval_gen_len': 23.9158, 'eval_runtime': 88.3001, 'eval_samples_per_second': 9.955, 'eval_steps_per_second': 0.623, 'epoch': 8.5}\n",
      "{'loss': 1.8023, 'grad_norm': 1.3921595811843872, 'learning_rate': 0.00059, 'epoch': 8.51}\n"
     ]
    },
    {
     "data": {
      "application/vnd.jupyter.widget-view+json": {
       "model_id": "ab1dfb16e6504b65a36004aea8bd0d6a",
       "version_major": 2,
       "version_minor": 0
      },
      "text/plain": [
       "  0%|          | 0/55 [00:00<?, ?it/s]"
      ]
     },
     "metadata": {},
     "output_type": "display_data"
    },
    {
     "name": "stdout",
     "output_type": "stream",
     "text": [
      "{'eval_loss': 2.1789674758911133, 'eval_bleu': 13.0308, 'eval_gen_len': 24.0193, 'eval_runtime': 88.2626, 'eval_samples_per_second': 9.959, 'eval_steps_per_second': 0.623, 'epoch': 8.51}\n"
     ]
    },
    {
     "data": {
      "application/vnd.jupyter.widget-view+json": {
       "model_id": "08a7ee641e2f49808d8f02b69d79e18e",
       "version_major": 2,
       "version_minor": 0
      },
      "text/plain": [
       "  0%|          | 0/55 [00:00<?, ?it/s]"
      ]
     },
     "metadata": {},
     "output_type": "display_data"
    },
    {
     "name": "stdout",
     "output_type": "stream",
     "text": [
      "{'eval_loss': 2.173570394515991, 'eval_bleu': 13.1801, 'eval_gen_len': 23.9556, 'eval_runtime': 88.5632, 'eval_samples_per_second': 9.925, 'eval_steps_per_second': 0.621, 'epoch': 8.52}\n"
     ]
    },
    {
     "data": {
      "application/vnd.jupyter.widget-view+json": {
       "model_id": "0d03ca9b6c6747d789be80aa956e447c",
       "version_major": 2,
       "version_minor": 0
      },
      "text/plain": [
       "  0%|          | 0/55 [00:00<?, ?it/s]"
      ]
     },
     "metadata": {},
     "output_type": "display_data"
    },
    {
     "name": "stdout",
     "output_type": "stream",
     "text": [
      "{'eval_loss': 2.176147222518921, 'eval_bleu': 13.227, 'eval_gen_len': 23.562, 'eval_runtime': 89.1176, 'eval_samples_per_second': 9.863, 'eval_steps_per_second': 0.617, 'epoch': 8.54}\n"
     ]
    },
    {
     "data": {
      "application/vnd.jupyter.widget-view+json": {
       "model_id": "1594040a831746a2b990e5b7b8a11ce9",
       "version_major": 2,
       "version_minor": 0
      },
      "text/plain": [
       "  0%|          | 0/55 [00:00<?, ?it/s]"
      ]
     },
     "metadata": {},
     "output_type": "display_data"
    },
    {
     "name": "stdout",
     "output_type": "stream",
     "text": [
      "{'eval_loss': 2.1742348670959473, 'eval_bleu': 13.0115, 'eval_gen_len': 23.7452, 'eval_runtime': 88.7944, 'eval_samples_per_second': 9.899, 'eval_steps_per_second': 0.619, 'epoch': 8.55}\n"
     ]
    },
    {
     "data": {
      "application/vnd.jupyter.widget-view+json": {
       "model_id": "2faea8174f7b4cf1b50ec898ea96c4de",
       "version_major": 2,
       "version_minor": 0
      },
      "text/plain": [
       "  0%|          | 0/55 [00:00<?, ?it/s]"
      ]
     },
     "metadata": {},
     "output_type": "display_data"
    },
    {
     "name": "stdout",
     "output_type": "stream",
     "text": [
      "{'eval_loss': 2.170694589614868, 'eval_bleu': 12.678, 'eval_gen_len': 23.876, 'eval_runtime': 88.2776, 'eval_samples_per_second': 9.957, 'eval_steps_per_second': 0.623, 'epoch': 8.56}\n",
      "{'loss': 1.8086, 'grad_norm': 1.2329318523406982, 'learning_rate': 0.0005866666666666667, 'epoch': 8.58}\n"
     ]
    },
    {
     "data": {
      "application/vnd.jupyter.widget-view+json": {
       "model_id": "0daf01fe46c14ae9b261e827519cb509",
       "version_major": 2,
       "version_minor": 0
      },
      "text/plain": [
       "  0%|          | 0/55 [00:00<?, ?it/s]"
      ]
     },
     "metadata": {},
     "output_type": "display_data"
    },
    {
     "name": "stdout",
     "output_type": "stream",
     "text": [
      "{'eval_loss': 2.1725521087646484, 'eval_bleu': 12.8091, 'eval_gen_len': 24.0421, 'eval_runtime': 88.5317, 'eval_samples_per_second': 9.929, 'eval_steps_per_second': 0.621, 'epoch': 8.58}\n"
     ]
    },
    {
     "data": {
      "application/vnd.jupyter.widget-view+json": {
       "model_id": "06f2df636063412fbcaae3646b8c6931",
       "version_major": 2,
       "version_minor": 0
      },
      "text/plain": [
       "  0%|          | 0/55 [00:00<?, ?it/s]"
      ]
     },
     "metadata": {},
     "output_type": "display_data"
    },
    {
     "name": "stdout",
     "output_type": "stream",
     "text": [
      "{'eval_loss': 2.17716121673584, 'eval_bleu': 12.817, 'eval_gen_len': 23.9943, 'eval_runtime': 88.5638, 'eval_samples_per_second': 9.925, 'eval_steps_per_second': 0.621, 'epoch': 8.59}\n"
     ]
    },
    {
     "data": {
      "application/vnd.jupyter.widget-view+json": {
       "model_id": "cfdf5080bbc341d09368c6a4988375bb",
       "version_major": 2,
       "version_minor": 0
      },
      "text/plain": [
       "  0%|          | 0/55 [00:00<?, ?it/s]"
      ]
     },
     "metadata": {},
     "output_type": "display_data"
    },
    {
     "name": "stdout",
     "output_type": "stream",
     "text": [
      "{'eval_loss': 2.179380178451538, 'eval_bleu': 12.8058, 'eval_gen_len': 23.868, 'eval_runtime': 88.6768, 'eval_samples_per_second': 9.912, 'eval_steps_per_second': 0.62, 'epoch': 8.61}\n"
     ]
    },
    {
     "data": {
      "application/vnd.jupyter.widget-view+json": {
       "model_id": "41658e89d54043cab1cf4ba7af45473c",
       "version_major": 2,
       "version_minor": 0
      },
      "text/plain": [
       "  0%|          | 0/55 [00:00<?, ?it/s]"
      ]
     },
     "metadata": {},
     "output_type": "display_data"
    },
    {
     "name": "stdout",
     "output_type": "stream",
     "text": [
      "{'eval_loss': 2.165086269378662, 'eval_bleu': 12.932, 'eval_gen_len': 23.8635, 'eval_runtime': 88.4321, 'eval_samples_per_second': 9.94, 'eval_steps_per_second': 0.622, 'epoch': 8.62}\n"
     ]
    },
    {
     "data": {
      "application/vnd.jupyter.widget-view+json": {
       "model_id": "288ca04f9a8b43518fc6a0eb003403b6",
       "version_major": 2,
       "version_minor": 0
      },
      "text/plain": [
       "  0%|          | 0/55 [00:00<?, ?it/s]"
      ]
     },
     "metadata": {},
     "output_type": "display_data"
    },
    {
     "name": "stdout",
     "output_type": "stream",
     "text": [
      "{'eval_loss': 2.164734125137329, 'eval_bleu': 13.2916, 'eval_gen_len': 23.9113, 'eval_runtime': 88.3728, 'eval_samples_per_second': 9.947, 'eval_steps_per_second': 0.622, 'epoch': 8.63}\n",
      "{'loss': 1.7944, 'grad_norm': 1.448270559310913, 'learning_rate': 0.0005833333333333334, 'epoch': 8.65}\n"
     ]
    },
    {
     "data": {
      "application/vnd.jupyter.widget-view+json": {
       "model_id": "5cf5e2f2e66a4eac84e83cfe8ac721d2",
       "version_major": 2,
       "version_minor": 0
      },
      "text/plain": [
       "  0%|          | 0/55 [00:00<?, ?it/s]"
      ]
     },
     "metadata": {},
     "output_type": "display_data"
    },
    {
     "name": "stdout",
     "output_type": "stream",
     "text": [
      "{'eval_loss': 2.1703810691833496, 'eval_bleu': 13.0587, 'eval_gen_len': 23.8589, 'eval_runtime': 88.036, 'eval_samples_per_second': 9.985, 'eval_steps_per_second': 0.625, 'epoch': 8.65}\n"
     ]
    },
    {
     "data": {
      "application/vnd.jupyter.widget-view+json": {
       "model_id": "6e8a00c61ec54ee0b24867314e1d5780",
       "version_major": 2,
       "version_minor": 0
      },
      "text/plain": [
       "  0%|          | 0/55 [00:00<?, ?it/s]"
      ]
     },
     "metadata": {},
     "output_type": "display_data"
    },
    {
     "name": "stdout",
     "output_type": "stream",
     "text": [
      "{'eval_loss': 2.185676336288452, 'eval_bleu': 13.3249, 'eval_gen_len': 23.6849, 'eval_runtime': 88.6311, 'eval_samples_per_second': 9.918, 'eval_steps_per_second': 0.621, 'epoch': 8.66}\n"
     ]
    },
    {
     "data": {
      "application/vnd.jupyter.widget-view+json": {
       "model_id": "c4699858c3f14a6ea290872e6ed17dd2",
       "version_major": 2,
       "version_minor": 0
      },
      "text/plain": [
       "  0%|          | 0/55 [00:00<?, ?it/s]"
      ]
     },
     "metadata": {},
     "output_type": "display_data"
    },
    {
     "name": "stdout",
     "output_type": "stream",
     "text": [
      "{'eval_loss': 2.1739091873168945, 'eval_bleu': 13.0395, 'eval_gen_len': 23.9352, 'eval_runtime': 87.6917, 'eval_samples_per_second': 10.024, 'eval_steps_per_second': 0.627, 'epoch': 8.68}\n"
     ]
    },
    {
     "data": {
      "application/vnd.jupyter.widget-view+json": {
       "model_id": "6e7b26e9cf464cd9a151452508937d6a",
       "version_major": 2,
       "version_minor": 0
      },
      "text/plain": [
       "  0%|          | 0/55 [00:00<?, ?it/s]"
      ]
     },
     "metadata": {},
     "output_type": "display_data"
    },
    {
     "name": "stdout",
     "output_type": "stream",
     "text": [
      "{'eval_loss': 2.157632827758789, 'eval_bleu': 13.2774, 'eval_gen_len': 23.9317, 'eval_runtime': 88.2182, 'eval_samples_per_second': 9.964, 'eval_steps_per_second': 0.623, 'epoch': 8.69}\n"
     ]
    },
    {
     "data": {
      "application/vnd.jupyter.widget-view+json": {
       "model_id": "83ded2da1d1d40509dd4fcc61192f5de",
       "version_major": 2,
       "version_minor": 0
      },
      "text/plain": [
       "  0%|          | 0/55 [00:00<?, ?it/s]"
      ]
     },
     "metadata": {},
     "output_type": "display_data"
    },
    {
     "name": "stdout",
     "output_type": "stream",
     "text": [
      "{'eval_loss': 2.16994571685791, 'eval_bleu': 12.6773, 'eval_gen_len': 23.9078, 'eval_runtime': 88.0631, 'eval_samples_per_second': 9.981, 'eval_steps_per_second': 0.625, 'epoch': 8.7}\n",
      "{'loss': 1.8074, 'grad_norm': 1.4406707286834717, 'learning_rate': 0.00058, 'epoch': 8.72}\n"
     ]
    },
    {
     "data": {
      "application/vnd.jupyter.widget-view+json": {
       "model_id": "32b3d417e46747ec8d135af31a46a5eb",
       "version_major": 2,
       "version_minor": 0
      },
      "text/plain": [
       "  0%|          | 0/55 [00:00<?, ?it/s]"
      ]
     },
     "metadata": {},
     "output_type": "display_data"
    },
    {
     "name": "stdout",
     "output_type": "stream",
     "text": [
      "{'eval_loss': 2.168020009994507, 'eval_bleu': 13.0798, 'eval_gen_len': 23.8908, 'eval_runtime': 88.3537, 'eval_samples_per_second': 9.949, 'eval_steps_per_second': 0.622, 'epoch': 8.72}\n"
     ]
    },
    {
     "data": {
      "application/vnd.jupyter.widget-view+json": {
       "model_id": "abb3d356734b45e685a4e5e1157510cf",
       "version_major": 2,
       "version_minor": 0
      },
      "text/plain": [
       "  0%|          | 0/55 [00:00<?, ?it/s]"
      ]
     },
     "metadata": {},
     "output_type": "display_data"
    },
    {
     "name": "stdout",
     "output_type": "stream",
     "text": [
      "{'eval_loss': 2.161839723587036, 'eval_bleu': 13.0696, 'eval_gen_len': 24.0296, 'eval_runtime': 91.0782, 'eval_samples_per_second': 9.651, 'eval_steps_per_second': 0.604, 'epoch': 8.73}\n"
     ]
    },
    {
     "data": {
      "application/vnd.jupyter.widget-view+json": {
       "model_id": "784853239fb64e99be4aedf76e433b5f",
       "version_major": 2,
       "version_minor": 0
      },
      "text/plain": [
       "  0%|          | 0/55 [00:00<?, ?it/s]"
      ]
     },
     "metadata": {},
     "output_type": "display_data"
    },
    {
     "name": "stdout",
     "output_type": "stream",
     "text": [
      "{'eval_loss': 2.1747045516967773, 'eval_bleu': 13.0159, 'eval_gen_len': 23.9363, 'eval_runtime': 87.4404, 'eval_samples_per_second': 10.053, 'eval_steps_per_second': 0.629, 'epoch': 8.74}\n"
     ]
    },
    {
     "data": {
      "application/vnd.jupyter.widget-view+json": {
       "model_id": "eb0c6a0c403442f7996191bff91af397",
       "version_major": 2,
       "version_minor": 0
      },
      "text/plain": [
       "  0%|          | 0/55 [00:00<?, ?it/s]"
      ]
     },
     "metadata": {},
     "output_type": "display_data"
    },
    {
     "name": "stdout",
     "output_type": "stream",
     "text": [
      "{'eval_loss': 2.1552722454071045, 'eval_bleu': 13.2529, 'eval_gen_len': 23.8931, 'eval_runtime': 88.5122, 'eval_samples_per_second': 9.931, 'eval_steps_per_second': 0.621, 'epoch': 8.76}\n"
     ]
    },
    {
     "data": {
      "application/vnd.jupyter.widget-view+json": {
       "model_id": "996837ac8e744f7e91c57ce4ab2a7875",
       "version_major": 2,
       "version_minor": 0
      },
      "text/plain": [
       "  0%|          | 0/55 [00:00<?, ?it/s]"
      ]
     },
     "metadata": {},
     "output_type": "display_data"
    },
    {
     "name": "stdout",
     "output_type": "stream",
     "text": [
      "{'eval_loss': 2.1524572372436523, 'eval_bleu': 12.8143, 'eval_gen_len': 23.9431, 'eval_runtime': 87.9543, 'eval_samples_per_second': 9.994, 'eval_steps_per_second': 0.625, 'epoch': 8.77}\n",
      "{'loss': 1.8089, 'grad_norm': 1.1115697622299194, 'learning_rate': 0.0005766666666666666, 'epoch': 8.79}\n"
     ]
    },
    {
     "data": {
      "application/vnd.jupyter.widget-view+json": {
       "model_id": "f2c43fcab6684ddbbc7137530fa88e9f",
       "version_major": 2,
       "version_minor": 0
      },
      "text/plain": [
       "  0%|          | 0/55 [00:00<?, ?it/s]"
      ]
     },
     "metadata": {},
     "output_type": "display_data"
    },
    {
     "name": "stdout",
     "output_type": "stream",
     "text": [
      "{'eval_loss': 2.1592578887939453, 'eval_bleu': 13.0679, 'eval_gen_len': 23.6746, 'eval_runtime': 88.8572, 'eval_samples_per_second': 9.892, 'eval_steps_per_second': 0.619, 'epoch': 8.79}\n"
     ]
    },
    {
     "data": {
      "application/vnd.jupyter.widget-view+json": {
       "model_id": "b697ae64880d4b54a254211a2ea03347",
       "version_major": 2,
       "version_minor": 0
      },
      "text/plain": [
       "  0%|          | 0/55 [00:00<?, ?it/s]"
      ]
     },
     "metadata": {},
     "output_type": "display_data"
    },
    {
     "name": "stdout",
     "output_type": "stream",
     "text": [
      "{'eval_loss': 2.1715307235717773, 'eval_bleu': 12.5948, 'eval_gen_len': 24.0387, 'eval_runtime': 89.0131, 'eval_samples_per_second': 9.875, 'eval_steps_per_second': 0.618, 'epoch': 8.8}\n"
     ]
    },
    {
     "data": {
      "application/vnd.jupyter.widget-view+json": {
       "model_id": "4f989e8b17b04dbabece09e9fc2c95d5",
       "version_major": 2,
       "version_minor": 0
      },
      "text/plain": [
       "  0%|          | 0/55 [00:00<?, ?it/s]"
      ]
     },
     "metadata": {},
     "output_type": "display_data"
    },
    {
     "name": "stdout",
     "output_type": "stream",
     "text": [
      "{'eval_loss': 2.152984857559204, 'eval_bleu': 12.9487, 'eval_gen_len': 23.7998, 'eval_runtime': 87.8043, 'eval_samples_per_second': 10.011, 'eval_steps_per_second': 0.626, 'epoch': 8.81}\n"
     ]
    },
    {
     "data": {
      "application/vnd.jupyter.widget-view+json": {
       "model_id": "9392c0f11c174f6c9753ac3f337d72c0",
       "version_major": 2,
       "version_minor": 0
      },
      "text/plain": [
       "  0%|          | 0/55 [00:00<?, ?it/s]"
      ]
     },
     "metadata": {},
     "output_type": "display_data"
    },
    {
     "name": "stdout",
     "output_type": "stream",
     "text": [
      "{'eval_loss': 2.1542274951934814, 'eval_bleu': 13.0145, 'eval_gen_len': 23.8385, 'eval_runtime': 87.9867, 'eval_samples_per_second': 9.99, 'eval_steps_per_second': 0.625, 'epoch': 8.83}\n"
     ]
    },
    {
     "data": {
      "application/vnd.jupyter.widget-view+json": {
       "model_id": "97b714f964004c3098d4d36b704d579b",
       "version_major": 2,
       "version_minor": 0
      },
      "text/plain": [
       "  0%|          | 0/55 [00:00<?, ?it/s]"
      ]
     },
     "metadata": {},
     "output_type": "display_data"
    },
    {
     "name": "stdout",
     "output_type": "stream",
     "text": [
      "{'eval_loss': 2.147449493408203, 'eval_bleu': 13.095, 'eval_gen_len': 23.9067, 'eval_runtime': 88.7683, 'eval_samples_per_second': 9.902, 'eval_steps_per_second': 0.62, 'epoch': 8.84}\n",
      "{'loss': 1.8065, 'grad_norm': 1.2830193042755127, 'learning_rate': 0.0005733333333333334, 'epoch': 8.86}\n"
     ]
    },
    {
     "data": {
      "application/vnd.jupyter.widget-view+json": {
       "model_id": "d820eac762b244bf9ae4fce75304704c",
       "version_major": 2,
       "version_minor": 0
      },
      "text/plain": [
       "  0%|          | 0/55 [00:00<?, ?it/s]"
      ]
     },
     "metadata": {},
     "output_type": "display_data"
    },
    {
     "name": "stdout",
     "output_type": "stream",
     "text": [
      "{'eval_loss': 2.1631429195404053, 'eval_bleu': 13.0098, 'eval_gen_len': 23.9431, 'eval_runtime': 88.4689, 'eval_samples_per_second': 9.936, 'eval_steps_per_second': 0.622, 'epoch': 8.86}\n"
     ]
    },
    {
     "data": {
      "application/vnd.jupyter.widget-view+json": {
       "model_id": "5a7040d3706d4a759f3173352481e71b",
       "version_major": 2,
       "version_minor": 0
      },
      "text/plain": [
       "  0%|          | 0/55 [00:00<?, ?it/s]"
      ]
     },
     "metadata": {},
     "output_type": "display_data"
    },
    {
     "name": "stdout",
     "output_type": "stream",
     "text": [
      "{'eval_loss': 2.1543941497802734, 'eval_bleu': 13.2608, 'eval_gen_len': 23.7327, 'eval_runtime': 89.0614, 'eval_samples_per_second': 9.87, 'eval_steps_per_second': 0.618, 'epoch': 8.87}\n"
     ]
    },
    {
     "data": {
      "application/vnd.jupyter.widget-view+json": {
       "model_id": "93661317d1ee4683b3a1941004fdad9f",
       "version_major": 2,
       "version_minor": 0
      },
      "text/plain": [
       "  0%|          | 0/55 [00:00<?, ?it/s]"
      ]
     },
     "metadata": {},
     "output_type": "display_data"
    },
    {
     "name": "stdout",
     "output_type": "stream",
     "text": [
      "{'eval_loss': 2.152772903442383, 'eval_bleu': 12.7699, 'eval_gen_len': 24.0489, 'eval_runtime': 88.8941, 'eval_samples_per_second': 9.888, 'eval_steps_per_second': 0.619, 'epoch': 8.88}\n"
     ]
    },
    {
     "data": {
      "application/vnd.jupyter.widget-view+json": {
       "model_id": "49f60c7ecae8401dbdf45e429875f68c",
       "version_major": 2,
       "version_minor": 0
      },
      "text/plain": [
       "  0%|          | 0/55 [00:00<?, ?it/s]"
      ]
     },
     "metadata": {},
     "output_type": "display_data"
    },
    {
     "name": "stdout",
     "output_type": "stream",
     "text": [
      "{'eval_loss': 2.1627860069274902, 'eval_bleu': 13.0623, 'eval_gen_len': 23.7611, 'eval_runtime': 88.0076, 'eval_samples_per_second': 9.988, 'eval_steps_per_second': 0.625, 'epoch': 8.9}\n"
     ]
    },
    {
     "data": {
      "application/vnd.jupyter.widget-view+json": {
       "model_id": "f1ece1641a924c74815c4cbd4b1959e9",
       "version_major": 2,
       "version_minor": 0
      },
      "text/plain": [
       "  0%|          | 0/55 [00:00<?, ?it/s]"
      ]
     },
     "metadata": {},
     "output_type": "display_data"
    },
    {
     "name": "stdout",
     "output_type": "stream",
     "text": [
      "{'eval_loss': 2.160970687866211, 'eval_bleu': 12.7759, 'eval_gen_len': 23.942, 'eval_runtime': 87.8367, 'eval_samples_per_second': 10.007, 'eval_steps_per_second': 0.626, 'epoch': 8.91}\n",
      "{'loss': 1.811, 'grad_norm': 1.4578046798706055, 'learning_rate': 0.00057, 'epoch': 8.92}\n"
     ]
    },
    {
     "data": {
      "application/vnd.jupyter.widget-view+json": {
       "model_id": "9ae4725ab39344f6bbe2307f7efc5322",
       "version_major": 2,
       "version_minor": 0
      },
      "text/plain": [
       "  0%|          | 0/55 [00:00<?, ?it/s]"
      ]
     },
     "metadata": {},
     "output_type": "display_data"
    },
    {
     "name": "stdout",
     "output_type": "stream",
     "text": [
      "{'eval_loss': 2.152345895767212, 'eval_bleu': 12.8152, 'eval_gen_len': 24.2014, 'eval_runtime': 89.0214, 'eval_samples_per_second': 9.874, 'eval_steps_per_second': 0.618, 'epoch': 8.92}\n"
     ]
    },
    {
     "data": {
      "application/vnd.jupyter.widget-view+json": {
       "model_id": "c11983a16eea46079e0fff69992b6682",
       "version_major": 2,
       "version_minor": 0
      },
      "text/plain": [
       "  0%|          | 0/55 [00:00<?, ?it/s]"
      ]
     },
     "metadata": {},
     "output_type": "display_data"
    },
    {
     "name": "stdout",
     "output_type": "stream",
     "text": [
      "{'eval_loss': 2.1559407711029053, 'eval_bleu': 12.9395, 'eval_gen_len': 23.884, 'eval_runtime': 88.6316, 'eval_samples_per_second': 9.917, 'eval_steps_per_second': 0.621, 'epoch': 8.94}\n"
     ]
    },
    {
     "data": {
      "application/vnd.jupyter.widget-view+json": {
       "model_id": "bb4a02d0b5624eafb1b7f6980cde372a",
       "version_major": 2,
       "version_minor": 0
      },
      "text/plain": [
       "  0%|          | 0/55 [00:00<?, ?it/s]"
      ]
     },
     "metadata": {},
     "output_type": "display_data"
    },
    {
     "name": "stdout",
     "output_type": "stream",
     "text": [
      "{'eval_loss': 2.1425464153289795, 'eval_bleu': 13.2495, 'eval_gen_len': 23.8749, 'eval_runtime': 88.5352, 'eval_samples_per_second': 9.928, 'eval_steps_per_second': 0.621, 'epoch': 8.95}\n"
     ]
    },
    {
     "data": {
      "application/vnd.jupyter.widget-view+json": {
       "model_id": "78bba8d9072443bc9890448d3ef9c934",
       "version_major": 2,
       "version_minor": 0
      },
      "text/plain": [
       "  0%|          | 0/55 [00:00<?, ?it/s]"
      ]
     },
     "metadata": {},
     "output_type": "display_data"
    },
    {
     "name": "stdout",
     "output_type": "stream",
     "text": [
      "{'eval_loss': 2.1552228927612305, 'eval_bleu': 13.0861, 'eval_gen_len': 23.7418, 'eval_runtime': 88.8719, 'eval_samples_per_second': 9.891, 'eval_steps_per_second': 0.619, 'epoch': 8.97}\n"
     ]
    },
    {
     "data": {
      "application/vnd.jupyter.widget-view+json": {
       "model_id": "39ffbfc106794787b2564d42a27f5977",
       "version_major": 2,
       "version_minor": 0
      },
      "text/plain": [
       "  0%|          | 0/55 [00:00<?, ?it/s]"
      ]
     },
     "metadata": {},
     "output_type": "display_data"
    },
    {
     "name": "stdout",
     "output_type": "stream",
     "text": [
      "{'eval_loss': 2.162712812423706, 'eval_bleu': 13.1196, 'eval_gen_len': 23.8567, 'eval_runtime': 88.4831, 'eval_samples_per_second': 9.934, 'eval_steps_per_second': 0.622, 'epoch': 8.98}\n",
      "{'loss': 1.8182, 'grad_norm': 1.0837191343307495, 'learning_rate': 0.0005666666666666667, 'epoch': 8.99}\n"
     ]
    },
    {
     "data": {
      "application/vnd.jupyter.widget-view+json": {
       "model_id": "c81e642acb164b25bdabaadfbd668174",
       "version_major": 2,
       "version_minor": 0
      },
      "text/plain": [
       "  0%|          | 0/55 [00:00<?, ?it/s]"
      ]
     },
     "metadata": {},
     "output_type": "display_data"
    },
    {
     "name": "stdout",
     "output_type": "stream",
     "text": [
      "{'eval_loss': 2.166912317276001, 'eval_bleu': 12.8232, 'eval_gen_len': 23.7122, 'eval_runtime': 87.9797, 'eval_samples_per_second': 9.991, 'eval_steps_per_second': 0.625, 'epoch': 8.99}\n"
     ]
    },
    {
     "data": {
      "application/vnd.jupyter.widget-view+json": {
       "model_id": "2bd01db6d3e74b34903dd84c9e0b53ac",
       "version_major": 2,
       "version_minor": 0
      },
      "text/plain": [
       "  0%|          | 0/55 [00:00<?, ?it/s]"
      ]
     },
     "metadata": {},
     "output_type": "display_data"
    },
    {
     "name": "stdout",
     "output_type": "stream",
     "text": [
      "{'eval_loss': 2.166733980178833, 'eval_bleu': 13.0254, 'eval_gen_len': 23.7713, 'eval_runtime': 89.5583, 'eval_samples_per_second': 9.815, 'eval_steps_per_second': 0.614, 'epoch': 9.01}\n"
     ]
    },
    {
     "data": {
      "application/vnd.jupyter.widget-view+json": {
       "model_id": "1015f5fc28294534a3b05649b6c5120a",
       "version_major": 2,
       "version_minor": 0
      },
      "text/plain": [
       "  0%|          | 0/55 [00:00<?, ?it/s]"
      ]
     },
     "metadata": {},
     "output_type": "display_data"
    },
    {
     "name": "stdout",
     "output_type": "stream",
     "text": [
      "{'eval_loss': 2.18916916847229, 'eval_bleu': 13.1052, 'eval_gen_len': 23.6246, 'eval_runtime': 87.8044, 'eval_samples_per_second': 10.011, 'eval_steps_per_second': 0.626, 'epoch': 9.02}\n"
     ]
    },
    {
     "data": {
      "application/vnd.jupyter.widget-view+json": {
       "model_id": "d34c87f479364ceba94d8da7710ed900",
       "version_major": 2,
       "version_minor": 0
      },
      "text/plain": [
       "  0%|          | 0/55 [00:00<?, ?it/s]"
      ]
     },
     "metadata": {},
     "output_type": "display_data"
    },
    {
     "name": "stdout",
     "output_type": "stream",
     "text": [
      "{'eval_loss': 2.179828643798828, 'eval_bleu': 12.8185, 'eval_gen_len': 23.8487, 'eval_runtime': 87.8672, 'eval_samples_per_second': 10.004, 'eval_steps_per_second': 0.626, 'epoch': 9.03}\n"
     ]
    },
    {
     "data": {
      "application/vnd.jupyter.widget-view+json": {
       "model_id": "75a1bd89d7ce494e998ad8c1750bf488",
       "version_major": 2,
       "version_minor": 0
      },
      "text/plain": [
       "  0%|          | 0/55 [00:00<?, ?it/s]"
      ]
     },
     "metadata": {},
     "output_type": "display_data"
    },
    {
     "name": "stdout",
     "output_type": "stream",
     "text": [
      "{'eval_loss': 2.168231725692749, 'eval_bleu': 13.3663, 'eval_gen_len': 23.6462, 'eval_runtime': 88.1527, 'eval_samples_per_second': 9.971, 'eval_steps_per_second': 0.624, 'epoch': 9.05}\n",
      "{'loss': 1.6812, 'grad_norm': 1.005563497543335, 'learning_rate': 0.0005633333333333333, 'epoch': 9.06}\n"
     ]
    },
    {
     "data": {
      "application/vnd.jupyter.widget-view+json": {
       "model_id": "14c0e4a0e33048ecb4ea36b5c331431d",
       "version_major": 2,
       "version_minor": 0
      },
      "text/plain": [
       "  0%|          | 0/55 [00:00<?, ?it/s]"
      ]
     },
     "metadata": {},
     "output_type": "display_data"
    },
    {
     "name": "stdout",
     "output_type": "stream",
     "text": [
      "{'eval_loss': 2.1718766689300537, 'eval_bleu': 13.6726, 'eval_gen_len': 23.7713, 'eval_runtime': 87.8601, 'eval_samples_per_second': 10.005, 'eval_steps_per_second': 0.626, 'epoch': 9.06}\n"
     ]
    },
    {
     "data": {
      "application/vnd.jupyter.widget-view+json": {
       "model_id": "991b69366707436f945feda2494d57a0",
       "version_major": 2,
       "version_minor": 0
      },
      "text/plain": [
       "  0%|          | 0/55 [00:00<?, ?it/s]"
      ]
     },
     "metadata": {},
     "output_type": "display_data"
    },
    {
     "name": "stdout",
     "output_type": "stream",
     "text": [
      "{'eval_loss': 2.1752402782440186, 'eval_bleu': 12.8873, 'eval_gen_len': 23.992, 'eval_runtime': 88.57, 'eval_samples_per_second': 9.924, 'eval_steps_per_second': 0.621, 'epoch': 9.08}\n"
     ]
    },
    {
     "data": {
      "application/vnd.jupyter.widget-view+json": {
       "model_id": "c8bcf97a20644f50a0a5c64ad276dcf6",
       "version_major": 2,
       "version_minor": 0
      },
      "text/plain": [
       "  0%|          | 0/55 [00:00<?, ?it/s]"
      ]
     },
     "metadata": {},
     "output_type": "display_data"
    },
    {
     "name": "stdout",
     "output_type": "stream",
     "text": [
      "{'eval_loss': 2.1736631393432617, 'eval_bleu': 13.0558, 'eval_gen_len': 23.8282, 'eval_runtime': 89.1416, 'eval_samples_per_second': 9.861, 'eval_steps_per_second': 0.617, 'epoch': 9.09}\n"
     ]
    },
    {
     "data": {
      "application/vnd.jupyter.widget-view+json": {
       "model_id": "daf6d36236da4b369e40755033c51934",
       "version_major": 2,
       "version_minor": 0
      },
      "text/plain": [
       "  0%|          | 0/55 [00:00<?, ?it/s]"
      ]
     },
     "metadata": {},
     "output_type": "display_data"
    },
    {
     "name": "stdout",
     "output_type": "stream",
     "text": [
      "{'eval_loss': 2.173940658569336, 'eval_bleu': 12.9716, 'eval_gen_len': 24.0319, 'eval_runtime': 89.36, 'eval_samples_per_second': 9.837, 'eval_steps_per_second': 0.615, 'epoch': 9.1}\n"
     ]
    },
    {
     "data": {
      "application/vnd.jupyter.widget-view+json": {
       "model_id": "31fe6d585f214063b9d6c4aca1f213e8",
       "version_major": 2,
       "version_minor": 0
      },
      "text/plain": [
       "  0%|          | 0/55 [00:00<?, ?it/s]"
      ]
     },
     "metadata": {},
     "output_type": "display_data"
    },
    {
     "name": "stdout",
     "output_type": "stream",
     "text": [
      "{'eval_loss': 2.1766510009765625, 'eval_bleu': 12.6473, 'eval_gen_len': 23.8623, 'eval_runtime': 88.9671, 'eval_samples_per_second': 9.88, 'eval_steps_per_second': 0.618, 'epoch': 9.12}\n",
      "{'loss': 1.6743, 'grad_norm': 1.3045783042907715, 'learning_rate': 0.0005600000000000001, 'epoch': 9.13}\n"
     ]
    },
    {
     "data": {
      "application/vnd.jupyter.widget-view+json": {
       "model_id": "24b7aea5792645cb9769e8e5857fb7aa",
       "version_major": 2,
       "version_minor": 0
      },
      "text/plain": [
       "  0%|          | 0/55 [00:00<?, ?it/s]"
      ]
     },
     "metadata": {},
     "output_type": "display_data"
    },
    {
     "name": "stdout",
     "output_type": "stream",
     "text": [
      "{'eval_loss': 2.187469005584717, 'eval_bleu': 13.1675, 'eval_gen_len': 23.9033, 'eval_runtime': 88.7541, 'eval_samples_per_second': 9.904, 'eval_steps_per_second': 0.62, 'epoch': 9.13}\n"
     ]
    },
    {
     "data": {
      "application/vnd.jupyter.widget-view+json": {
       "model_id": "80be7c7ddb004a6bbaf52463109ae9d9",
       "version_major": 2,
       "version_minor": 0
      },
      "text/plain": [
       "  0%|          | 0/55 [00:00<?, ?it/s]"
      ]
     },
     "metadata": {},
     "output_type": "display_data"
    },
    {
     "name": "stdout",
     "output_type": "stream",
     "text": [
      "{'eval_loss': 2.1742327213287354, 'eval_bleu': 13.3244, 'eval_gen_len': 23.7941, 'eval_runtime': 88.3824, 'eval_samples_per_second': 9.945, 'eval_steps_per_second': 0.622, 'epoch': 9.15}\n"
     ]
    },
    {
     "data": {
      "application/vnd.jupyter.widget-view+json": {
       "model_id": "9fe7095ff8ab456f9a080d068b374425",
       "version_major": 2,
       "version_minor": 0
      },
      "text/plain": [
       "  0%|          | 0/55 [00:00<?, ?it/s]"
      ]
     },
     "metadata": {},
     "output_type": "display_data"
    },
    {
     "name": "stdout",
     "output_type": "stream",
     "text": [
      "{'eval_loss': 2.175508499145508, 'eval_bleu': 13.2023, 'eval_gen_len': 23.8328, 'eval_runtime': 87.9099, 'eval_samples_per_second': 9.999, 'eval_steps_per_second': 0.626, 'epoch': 9.16}\n"
     ]
    },
    {
     "data": {
      "application/vnd.jupyter.widget-view+json": {
       "model_id": "4433e45524514d36a70ffc2a5004e21e",
       "version_major": 2,
       "version_minor": 0
      },
      "text/plain": [
       "  0%|          | 0/55 [00:00<?, ?it/s]"
      ]
     },
     "metadata": {},
     "output_type": "display_data"
    },
    {
     "name": "stdout",
     "output_type": "stream",
     "text": [
      "{'eval_loss': 2.176497220993042, 'eval_bleu': 13.787, 'eval_gen_len': 23.8567, 'eval_runtime': 88.5955, 'eval_samples_per_second': 9.921, 'eval_steps_per_second': 0.621, 'epoch': 9.17}\n"
     ]
    },
    {
     "data": {
      "application/vnd.jupyter.widget-view+json": {
       "model_id": "4413e9a372464956b845eced696f1f3e",
       "version_major": 2,
       "version_minor": 0
      },
      "text/plain": [
       "  0%|          | 0/55 [00:00<?, ?it/s]"
      ]
     },
     "metadata": {},
     "output_type": "display_data"
    },
    {
     "name": "stdout",
     "output_type": "stream",
     "text": [
      "{'eval_loss': 2.1702208518981934, 'eval_bleu': 13.4814, 'eval_gen_len': 23.8692, 'eval_runtime': 88.7871, 'eval_samples_per_second': 9.9, 'eval_steps_per_second': 0.619, 'epoch': 9.19}\n",
      "{'loss': 1.6851, 'grad_norm': 1.2443166971206665, 'learning_rate': 0.0005566666666666667, 'epoch': 9.2}\n"
     ]
    },
    {
     "data": {
      "application/vnd.jupyter.widget-view+json": {
       "model_id": "1dc51f14d78e4981962d4408bda7f5a8",
       "version_major": 2,
       "version_minor": 0
      },
      "text/plain": [
       "  0%|          | 0/55 [00:00<?, ?it/s]"
      ]
     },
     "metadata": {},
     "output_type": "display_data"
    },
    {
     "name": "stdout",
     "output_type": "stream",
     "text": [
      "{'eval_loss': 2.178849935531616, 'eval_bleu': 13.7562, 'eval_gen_len': 23.6951, 'eval_runtime': 88.7906, 'eval_samples_per_second': 9.9, 'eval_steps_per_second': 0.619, 'epoch': 9.2}\n"
     ]
    },
    {
     "data": {
      "application/vnd.jupyter.widget-view+json": {
       "model_id": "e73405470cc34d37ad8978c9f0caa077",
       "version_major": 2,
       "version_minor": 0
      },
      "text/plain": [
       "  0%|          | 0/55 [00:00<?, ?it/s]"
      ]
     },
     "metadata": {},
     "output_type": "display_data"
    },
    {
     "name": "stdout",
     "output_type": "stream",
     "text": [
      "{'eval_loss': 2.171945571899414, 'eval_bleu': 13.0816, 'eval_gen_len': 23.8476, 'eval_runtime': 89.7317, 'eval_samples_per_second': 9.796, 'eval_steps_per_second': 0.613, 'epoch': 9.21}\n"
     ]
    },
    {
     "data": {
      "application/vnd.jupyter.widget-view+json": {
       "model_id": "a9b8a4e92cd04dc8a782465e1e1d4d30",
       "version_major": 2,
       "version_minor": 0
      },
      "text/plain": [
       "  0%|          | 0/55 [00:00<?, ?it/s]"
      ]
     },
     "metadata": {},
     "output_type": "display_data"
    },
    {
     "name": "stdout",
     "output_type": "stream",
     "text": [
      "{'eval_loss': 2.173243761062622, 'eval_bleu': 13.2379, 'eval_gen_len': 23.7224, 'eval_runtime': 87.8048, 'eval_samples_per_second': 10.011, 'eval_steps_per_second': 0.626, 'epoch': 9.23}\n"
     ]
    },
    {
     "data": {
      "application/vnd.jupyter.widget-view+json": {
       "model_id": "4823d8dd0ecf4ce5b923f2ecf3d89070",
       "version_major": 2,
       "version_minor": 0
      },
      "text/plain": [
       "  0%|          | 0/55 [00:00<?, ?it/s]"
      ]
     },
     "metadata": {},
     "output_type": "display_data"
    },
    {
     "name": "stdout",
     "output_type": "stream",
     "text": [
      "{'eval_loss': 2.171342372894287, 'eval_bleu': 13.4479, 'eval_gen_len': 23.8999, 'eval_runtime': 89.2222, 'eval_samples_per_second': 9.852, 'eval_steps_per_second': 0.616, 'epoch': 9.24}\n"
     ]
    },
    {
     "data": {
      "application/vnd.jupyter.widget-view+json": {
       "model_id": "f2576690556f40c288617c654d4c9b51",
       "version_major": 2,
       "version_minor": 0
      },
      "text/plain": [
       "  0%|          | 0/55 [00:00<?, ?it/s]"
      ]
     },
     "metadata": {},
     "output_type": "display_data"
    },
    {
     "name": "stdout",
     "output_type": "stream",
     "text": [
      "{'eval_loss': 2.154907464981079, 'eval_bleu': 13.3126, 'eval_gen_len': 23.8089, 'eval_runtime': 88.3054, 'eval_samples_per_second': 9.954, 'eval_steps_per_second': 0.623, 'epoch': 9.26}\n",
      "{'loss': 1.6959, 'grad_norm': 1.1442945003509521, 'learning_rate': 0.0005533333333333333, 'epoch': 9.27}\n"
     ]
    },
    {
     "data": {
      "application/vnd.jupyter.widget-view+json": {
       "model_id": "caf863e364294c8c99ba4ebcda28fdba",
       "version_major": 2,
       "version_minor": 0
      },
      "text/plain": [
       "  0%|          | 0/55 [00:00<?, ?it/s]"
      ]
     },
     "metadata": {},
     "output_type": "display_data"
    },
    {
     "name": "stdout",
     "output_type": "stream",
     "text": [
      "{'eval_loss': 2.171236753463745, 'eval_bleu': 13.351, 'eval_gen_len': 23.9056, 'eval_runtime': 89.4868, 'eval_samples_per_second': 9.823, 'eval_steps_per_second': 0.615, 'epoch': 9.27}\n"
     ]
    },
    {
     "data": {
      "application/vnd.jupyter.widget-view+json": {
       "model_id": "fdea6250ef55451db647c932465b7ac5",
       "version_major": 2,
       "version_minor": 0
      },
      "text/plain": [
       "  0%|          | 0/55 [00:00<?, ?it/s]"
      ]
     },
     "metadata": {},
     "output_type": "display_data"
    },
    {
     "name": "stdout",
     "output_type": "stream",
     "text": [
      "{'eval_loss': 2.1581008434295654, 'eval_bleu': 13.3896, 'eval_gen_len': 24.0182, 'eval_runtime': 88.7695, 'eval_samples_per_second': 9.902, 'eval_steps_per_second': 0.62, 'epoch': 9.28}\n"
     ]
    },
    {
     "data": {
      "application/vnd.jupyter.widget-view+json": {
       "model_id": "a51fe9a06331426492587b83c4c6e03d",
       "version_major": 2,
       "version_minor": 0
      },
      "text/plain": [
       "  0%|          | 0/55 [00:00<?, ?it/s]"
      ]
     },
     "metadata": {},
     "output_type": "display_data"
    },
    {
     "name": "stdout",
     "output_type": "stream",
     "text": [
      "{'eval_loss': 2.158454179763794, 'eval_bleu': 13.1159, 'eval_gen_len': 23.7838, 'eval_runtime': 89.9245, 'eval_samples_per_second': 9.775, 'eval_steps_per_second': 0.612, 'epoch': 9.3}\n"
     ]
    },
    {
     "data": {
      "application/vnd.jupyter.widget-view+json": {
       "model_id": "50fc8f7b08274aceaba33313cf9b2303",
       "version_major": 2,
       "version_minor": 0
      },
      "text/plain": [
       "  0%|          | 0/55 [00:00<?, ?it/s]"
      ]
     },
     "metadata": {},
     "output_type": "display_data"
    },
    {
     "name": "stdout",
     "output_type": "stream",
     "text": [
      "{'eval_loss': 2.17339825630188, 'eval_bleu': 13.3286, 'eval_gen_len': 23.6849, 'eval_runtime': 89.5197, 'eval_samples_per_second': 9.819, 'eval_steps_per_second': 0.614, 'epoch': 9.31}\n"
     ]
    },
    {
     "data": {
      "application/vnd.jupyter.widget-view+json": {
       "model_id": "b644f87f61d44114923f382735366f75",
       "version_major": 2,
       "version_minor": 0
      },
      "text/plain": [
       "  0%|          | 0/55 [00:00<?, ?it/s]"
      ]
     },
     "metadata": {},
     "output_type": "display_data"
    },
    {
     "name": "stdout",
     "output_type": "stream",
     "text": [
      "{'eval_loss': 2.174602508544922, 'eval_bleu': 13.4107, 'eval_gen_len': 23.777, 'eval_runtime': 88.5085, 'eval_samples_per_second': 9.931, 'eval_steps_per_second': 0.621, 'epoch': 9.33}\n",
      "{'loss': 1.7007, 'grad_norm': 1.1038134098052979, 'learning_rate': 0.00055, 'epoch': 9.34}\n"
     ]
    },
    {
     "data": {
      "application/vnd.jupyter.widget-view+json": {
       "model_id": "d9fe8422b2634c35baa22e9359dcea28",
       "version_major": 2,
       "version_minor": 0
      },
      "text/plain": [
       "  0%|          | 0/55 [00:00<?, ?it/s]"
      ]
     },
     "metadata": {},
     "output_type": "display_data"
    },
    {
     "name": "stdout",
     "output_type": "stream",
     "text": [
      "{'eval_loss': 2.163158893585205, 'eval_bleu': 13.7212, 'eval_gen_len': 23.9477, 'eval_runtime': 88.7071, 'eval_samples_per_second': 9.909, 'eval_steps_per_second': 0.62, 'epoch': 9.34}\n"
     ]
    },
    {
     "data": {
      "application/vnd.jupyter.widget-view+json": {
       "model_id": "77f76c4c52fa4239807a4909168bbd44",
       "version_major": 2,
       "version_minor": 0
      },
      "text/plain": [
       "  0%|          | 0/55 [00:00<?, ?it/s]"
      ]
     },
     "metadata": {},
     "output_type": "display_data"
    },
    {
     "name": "stdout",
     "output_type": "stream",
     "text": [
      "{'eval_loss': 2.1628546714782715, 'eval_bleu': 13.4648, 'eval_gen_len': 23.8965, 'eval_runtime': 88.7271, 'eval_samples_per_second': 9.907, 'eval_steps_per_second': 0.62, 'epoch': 9.35}\n"
     ]
    },
    {
     "data": {
      "application/vnd.jupyter.widget-view+json": {
       "model_id": "93a597d9d2624049b5797675fe375089",
       "version_major": 2,
       "version_minor": 0
      },
      "text/plain": [
       "  0%|          | 0/55 [00:00<?, ?it/s]"
      ]
     },
     "metadata": {},
     "output_type": "display_data"
    },
    {
     "name": "stdout",
     "output_type": "stream",
     "text": [
      "{'eval_loss': 2.159029483795166, 'eval_bleu': 13.3793, 'eval_gen_len': 23.9363, 'eval_runtime': 88.7949, 'eval_samples_per_second': 9.899, 'eval_steps_per_second': 0.619, 'epoch': 9.37}\n"
     ]
    },
    {
     "data": {
      "application/vnd.jupyter.widget-view+json": {
       "model_id": "b1eb70428c954970861312112220bd71",
       "version_major": 2,
       "version_minor": 0
      },
      "text/plain": [
       "  0%|          | 0/55 [00:00<?, ?it/s]"
      ]
     },
     "metadata": {},
     "output_type": "display_data"
    },
    {
     "name": "stdout",
     "output_type": "stream",
     "text": [
      "{'eval_loss': 2.1626877784729004, 'eval_bleu': 13.3102, 'eval_gen_len': 23.9374, 'eval_runtime': 89.8666, 'eval_samples_per_second': 9.781, 'eval_steps_per_second': 0.612, 'epoch': 9.38}\n"
     ]
    },
    {
     "data": {
      "application/vnd.jupyter.widget-view+json": {
       "model_id": "ce15b6d31cab49548decea1ca8633cc7",
       "version_major": 2,
       "version_minor": 0
      },
      "text/plain": [
       "  0%|          | 0/55 [00:00<?, ?it/s]"
      ]
     },
     "metadata": {},
     "output_type": "display_data"
    },
    {
     "name": "stdout",
     "output_type": "stream",
     "text": [
      "{'eval_loss': 2.1783297061920166, 'eval_bleu': 12.9012, 'eval_gen_len': 23.9625, 'eval_runtime': 88.3323, 'eval_samples_per_second': 9.951, 'eval_steps_per_second': 0.623, 'epoch': 9.39}\n",
      "{'loss': 1.7158, 'grad_norm': 1.1562845706939697, 'learning_rate': 0.0005466666666666667, 'epoch': 9.41}\n"
     ]
    },
    {
     "data": {
      "application/vnd.jupyter.widget-view+json": {
       "model_id": "467eb11e7c03474b9fc4a5802492a7d7",
       "version_major": 2,
       "version_minor": 0
      },
      "text/plain": [
       "  0%|          | 0/55 [00:00<?, ?it/s]"
      ]
     },
     "metadata": {},
     "output_type": "display_data"
    },
    {
     "name": "stdout",
     "output_type": "stream",
     "text": [
      "{'eval_loss': 2.1667091846466064, 'eval_bleu': 13.5952, 'eval_gen_len': 24.083, 'eval_runtime': 88.3524, 'eval_samples_per_second': 9.949, 'eval_steps_per_second': 0.623, 'epoch': 9.41}\n"
     ]
    },
    {
     "data": {
      "application/vnd.jupyter.widget-view+json": {
       "model_id": "cf6c2310077a47c2bc1f91e3d16292c5",
       "version_major": 2,
       "version_minor": 0
      },
      "text/plain": [
       "  0%|          | 0/55 [00:00<?, ?it/s]"
      ]
     },
     "metadata": {},
     "output_type": "display_data"
    },
    {
     "name": "stdout",
     "output_type": "stream",
     "text": [
      "{'eval_loss': 2.1730360984802246, 'eval_bleu': 12.9911, 'eval_gen_len': 23.7952, 'eval_runtime': 88.4862, 'eval_samples_per_second': 9.934, 'eval_steps_per_second': 0.622, 'epoch': 9.42}\n"
     ]
    },
    {
     "data": {
      "application/vnd.jupyter.widget-view+json": {
       "model_id": "c75b65936c22436eade2c10d29a7f50f",
       "version_major": 2,
       "version_minor": 0
      },
      "text/plain": [
       "  0%|          | 0/55 [00:00<?, ?it/s]"
      ]
     },
     "metadata": {},
     "output_type": "display_data"
    },
    {
     "name": "stdout",
     "output_type": "stream",
     "text": [
      "{'eval_loss': 2.1622111797332764, 'eval_bleu': 12.8091, 'eval_gen_len': 23.5813, 'eval_runtime': 88.7322, 'eval_samples_per_second': 9.906, 'eval_steps_per_second': 0.62, 'epoch': 9.44}\n"
     ]
    },
    {
     "data": {
      "application/vnd.jupyter.widget-view+json": {
       "model_id": "7eb6254f8ad34f9eb80308665cb6e72e",
       "version_major": 2,
       "version_minor": 0
      },
      "text/plain": [
       "  0%|          | 0/55 [00:00<?, ?it/s]"
      ]
     },
     "metadata": {},
     "output_type": "display_data"
    },
    {
     "name": "stdout",
     "output_type": "stream",
     "text": [
      "{'eval_loss': 2.1685125827789307, 'eval_bleu': 13.6716, 'eval_gen_len': 23.7645, 'eval_runtime': 89.0579, 'eval_samples_per_second': 9.87, 'eval_steps_per_second': 0.618, 'epoch': 9.45}\n"
     ]
    },
    {
     "data": {
      "application/vnd.jupyter.widget-view+json": {
       "model_id": "32cbaafad0e44ab391ae4f1fff9c045b",
       "version_major": 2,
       "version_minor": 0
      },
      "text/plain": [
       "  0%|          | 0/55 [00:00<?, ?it/s]"
      ]
     },
     "metadata": {},
     "output_type": "display_data"
    },
    {
     "name": "stdout",
     "output_type": "stream",
     "text": [
      "{'eval_loss': 2.1615030765533447, 'eval_bleu': 13.2815, 'eval_gen_len': 23.8601, 'eval_runtime': 88.2512, 'eval_samples_per_second': 9.96, 'eval_steps_per_second': 0.623, 'epoch': 9.46}\n",
      "{'loss': 1.7172, 'grad_norm': 1.1018401384353638, 'learning_rate': 0.0005433333333333334, 'epoch': 9.48}\n"
     ]
    },
    {
     "data": {
      "application/vnd.jupyter.widget-view+json": {
       "model_id": "34963c98a566435981e7593f9b9ccfc1",
       "version_major": 2,
       "version_minor": 0
      },
      "text/plain": [
       "  0%|          | 0/55 [00:00<?, ?it/s]"
      ]
     },
     "metadata": {},
     "output_type": "display_data"
    },
    {
     "name": "stdout",
     "output_type": "stream",
     "text": [
      "{'eval_loss': 2.15913724899292, 'eval_bleu': 13.5797, 'eval_gen_len': 23.7474, 'eval_runtime': 89.2811, 'eval_samples_per_second': 9.845, 'eval_steps_per_second': 0.616, 'epoch': 9.48}\n"
     ]
    },
    {
     "data": {
      "application/vnd.jupyter.widget-view+json": {
       "model_id": "bebd9a20b7a645c0accd90173587a564",
       "version_major": 2,
       "version_minor": 0
      },
      "text/plain": [
       "  0%|          | 0/55 [00:00<?, ?it/s]"
      ]
     },
     "metadata": {},
     "output_type": "display_data"
    },
    {
     "name": "stdout",
     "output_type": "stream",
     "text": [
      "{'eval_loss': 2.1620142459869385, 'eval_bleu': 13.2328, 'eval_gen_len': 23.678, 'eval_runtime': 88.2041, 'eval_samples_per_second': 9.966, 'eval_steps_per_second': 0.624, 'epoch': 9.49}\n"
     ]
    },
    {
     "data": {
      "application/vnd.jupyter.widget-view+json": {
       "model_id": "efe5b19bac8145d6b19b10ec1ec081b7",
       "version_major": 2,
       "version_minor": 0
      },
      "text/plain": [
       "  0%|          | 0/55 [00:00<?, ?it/s]"
      ]
     },
     "metadata": {},
     "output_type": "display_data"
    },
    {
     "name": "stdout",
     "output_type": "stream",
     "text": [
      "{'eval_loss': 2.1572554111480713, 'eval_bleu': 13.745, 'eval_gen_len': 23.9272, 'eval_runtime': 88.7952, 'eval_samples_per_second': 9.899, 'eval_steps_per_second': 0.619, 'epoch': 9.51}\n"
     ]
    },
    {
     "data": {
      "application/vnd.jupyter.widget-view+json": {
       "model_id": "602f200dba68487db9f6ca511f45b79b",
       "version_major": 2,
       "version_minor": 0
      },
      "text/plain": [
       "  0%|          | 0/55 [00:00<?, ?it/s]"
      ]
     },
     "metadata": {},
     "output_type": "display_data"
    },
    {
     "name": "stdout",
     "output_type": "stream",
     "text": [
      "{'eval_loss': 2.1548984050750732, 'eval_bleu': 13.5081, 'eval_gen_len': 24.1331, 'eval_runtime': 89.6908, 'eval_samples_per_second': 9.8, 'eval_steps_per_second': 0.613, 'epoch': 9.52}\n"
     ]
    },
    {
     "data": {
      "application/vnd.jupyter.widget-view+json": {
       "model_id": "6a61d8d3685d48c8b338707fff1aa124",
       "version_major": 2,
       "version_minor": 0
      },
      "text/plain": [
       "  0%|          | 0/55 [00:00<?, ?it/s]"
      ]
     },
     "metadata": {},
     "output_type": "display_data"
    },
    {
     "name": "stdout",
     "output_type": "stream",
     "text": [
      "{'eval_loss': 2.1551637649536133, 'eval_bleu': 13.1999, 'eval_gen_len': 23.8987, 'eval_runtime': 88.0314, 'eval_samples_per_second': 9.985, 'eval_steps_per_second': 0.625, 'epoch': 9.53}\n",
      "{'loss': 1.7125, 'grad_norm': 1.1749025583267212, 'learning_rate': 0.00054, 'epoch': 9.55}\n"
     ]
    },
    {
     "data": {
      "application/vnd.jupyter.widget-view+json": {
       "model_id": "75134ef7026d4aa4bed81ed052c7fc5f",
       "version_major": 2,
       "version_minor": 0
      },
      "text/plain": [
       "  0%|          | 0/55 [00:00<?, ?it/s]"
      ]
     },
     "metadata": {},
     "output_type": "display_data"
    },
    {
     "name": "stdout",
     "output_type": "stream",
     "text": [
      "{'eval_loss': 2.1498987674713135, 'eval_bleu': 13.476, 'eval_gen_len': 23.7873, 'eval_runtime': 88.4814, 'eval_samples_per_second': 9.934, 'eval_steps_per_second': 0.622, 'epoch': 9.55}\n"
     ]
    },
    {
     "data": {
      "application/vnd.jupyter.widget-view+json": {
       "model_id": "10aea970e2714e668133d0ca9c910515",
       "version_major": 2,
       "version_minor": 0
      },
      "text/plain": [
       "  0%|          | 0/55 [00:00<?, ?it/s]"
      ]
     },
     "metadata": {},
     "output_type": "display_data"
    },
    {
     "name": "stdout",
     "output_type": "stream",
     "text": [
      "{'eval_loss': 2.146959066390991, 'eval_bleu': 13.0211, 'eval_gen_len': 23.8828, 'eval_runtime': 89.0713, 'eval_samples_per_second': 9.868, 'eval_steps_per_second': 0.617, 'epoch': 9.56}\n"
     ]
    },
    {
     "data": {
      "application/vnd.jupyter.widget-view+json": {
       "model_id": "7b93ebff592d4058aa24d2e8f1a43964",
       "version_major": 2,
       "version_minor": 0
      },
      "text/plain": [
       "  0%|          | 0/55 [00:00<?, ?it/s]"
      ]
     },
     "metadata": {},
     "output_type": "display_data"
    },
    {
     "name": "stdout",
     "output_type": "stream",
     "text": [
      "{'eval_loss': 2.1540796756744385, 'eval_bleu': 13.3755, 'eval_gen_len': 23.992, 'eval_runtime': 89.2869, 'eval_samples_per_second': 9.845, 'eval_steps_per_second': 0.616, 'epoch': 9.57}\n"
     ]
    },
    {
     "data": {
      "application/vnd.jupyter.widget-view+json": {
       "model_id": "5eb20838b2e1437586655024495bf330",
       "version_major": 2,
       "version_minor": 0
      },
      "text/plain": [
       "  0%|          | 0/55 [00:00<?, ?it/s]"
      ]
     },
     "metadata": {},
     "output_type": "display_data"
    },
    {
     "name": "stdout",
     "output_type": "stream",
     "text": [
      "{'eval_loss': 2.1580634117126465, 'eval_bleu': 12.9287, 'eval_gen_len': 24.0114, 'eval_runtime': 89.1598, 'eval_samples_per_second': 9.859, 'eval_steps_per_second': 0.617, 'epoch': 9.59}\n"
     ]
    },
    {
     "data": {
      "application/vnd.jupyter.widget-view+json": {
       "model_id": "89067a4194974efc8aeeb8a09eefa4c2",
       "version_major": 2,
       "version_minor": 0
      },
      "text/plain": [
       "  0%|          | 0/55 [00:00<?, ?it/s]"
      ]
     },
     "metadata": {},
     "output_type": "display_data"
    },
    {
     "name": "stdout",
     "output_type": "stream",
     "text": [
      "{'eval_loss': 2.162050485610962, 'eval_bleu': 12.9685, 'eval_gen_len': 23.8134, 'eval_runtime': 88.6946, 'eval_samples_per_second': 9.91, 'eval_steps_per_second': 0.62, 'epoch': 9.6}\n",
      "{'loss': 1.7213, 'grad_norm': 1.325891137123108, 'learning_rate': 0.0005366666666666666, 'epoch': 9.62}\n"
     ]
    },
    {
     "data": {
      "application/vnd.jupyter.widget-view+json": {
       "model_id": "a3685ceffde74b82a0697c8d3c1e1269",
       "version_major": 2,
       "version_minor": 0
      },
      "text/plain": [
       "  0%|          | 0/55 [00:00<?, ?it/s]"
      ]
     },
     "metadata": {},
     "output_type": "display_data"
    },
    {
     "name": "stdout",
     "output_type": "stream",
     "text": [
      "{'eval_loss': 2.1563737392425537, 'eval_bleu': 13.116, 'eval_gen_len': 23.8896, 'eval_runtime': 89.6888, 'eval_samples_per_second': 9.801, 'eval_steps_per_second': 0.613, 'epoch': 9.62}\n"
     ]
    },
    {
     "data": {
      "application/vnd.jupyter.widget-view+json": {
       "model_id": "809b473bca8d41859e17941f6d31b058",
       "version_major": 2,
       "version_minor": 0
      },
      "text/plain": [
       "  0%|          | 0/55 [00:00<?, ?it/s]"
      ]
     },
     "metadata": {},
     "output_type": "display_data"
    },
    {
     "name": "stdout",
     "output_type": "stream",
     "text": [
      "{'eval_loss': 2.160881280899048, 'eval_bleu': 13.4912, 'eval_gen_len': 23.8203, 'eval_runtime': 88.7356, 'eval_samples_per_second': 9.906, 'eval_steps_per_second': 0.62, 'epoch': 9.63}\n"
     ]
    },
    {
     "data": {
      "application/vnd.jupyter.widget-view+json": {
       "model_id": "64e1b94b9d2749c19df7359369aa6725",
       "version_major": 2,
       "version_minor": 0
      },
      "text/plain": [
       "  0%|          | 0/55 [00:00<?, ?it/s]"
      ]
     },
     "metadata": {},
     "output_type": "display_data"
    },
    {
     "name": "stdout",
     "output_type": "stream",
     "text": [
      "{'eval_loss': 2.140127658843994, 'eval_bleu': 13.3456, 'eval_gen_len': 23.8373, 'eval_runtime': 88.9868, 'eval_samples_per_second': 9.878, 'eval_steps_per_second': 0.618, 'epoch': 9.64}\n"
     ]
    },
    {
     "data": {
      "application/vnd.jupyter.widget-view+json": {
       "model_id": "b94c55521eaa4c36b3a9650d770139d9",
       "version_major": 2,
       "version_minor": 0
      },
      "text/plain": [
       "  0%|          | 0/55 [00:00<?, ?it/s]"
      ]
     },
     "metadata": {},
     "output_type": "display_data"
    },
    {
     "name": "stdout",
     "output_type": "stream",
     "text": [
      "{'eval_loss': 2.15169358253479, 'eval_bleu': 13.3221, 'eval_gen_len': 24.0853, 'eval_runtime': 89.7166, 'eval_samples_per_second': 9.798, 'eval_steps_per_second': 0.613, 'epoch': 9.66}\n"
     ]
    },
    {
     "data": {
      "application/vnd.jupyter.widget-view+json": {
       "model_id": "ded641c5747840b7b01bc7805d18a54a",
       "version_major": 2,
       "version_minor": 0
      },
      "text/plain": [
       "  0%|          | 0/55 [00:00<?, ?it/s]"
      ]
     },
     "metadata": {},
     "output_type": "display_data"
    },
    {
     "name": "stdout",
     "output_type": "stream",
     "text": [
      "{'eval_loss': 2.1433823108673096, 'eval_bleu': 12.8886, 'eval_gen_len': 23.9989, 'eval_runtime': 88.6657, 'eval_samples_per_second': 9.914, 'eval_steps_per_second': 0.62, 'epoch': 9.67}\n",
      "{'loss': 1.7287, 'grad_norm': 1.0900052785873413, 'learning_rate': 0.0005333333333333334, 'epoch': 9.69}\n"
     ]
    },
    {
     "data": {
      "application/vnd.jupyter.widget-view+json": {
       "model_id": "49767df7f3ee4fbf9981e526eb7f00dc",
       "version_major": 2,
       "version_minor": 0
      },
      "text/plain": [
       "  0%|          | 0/55 [00:00<?, ?it/s]"
      ]
     },
     "metadata": {},
     "output_type": "display_data"
    },
    {
     "name": "stdout",
     "output_type": "stream",
     "text": [
      "{'eval_loss': 2.1676182746887207, 'eval_bleu': 13.7237, 'eval_gen_len': 23.6883, 'eval_runtime': 88.7102, 'eval_samples_per_second': 9.909, 'eval_steps_per_second': 0.62, 'epoch': 9.69}\n"
     ]
    },
    {
     "data": {
      "application/vnd.jupyter.widget-view+json": {
       "model_id": "a817af162ee546248c95f0891da327d3",
       "version_major": 2,
       "version_minor": 0
      },
      "text/plain": [
       "  0%|          | 0/55 [00:00<?, ?it/s]"
      ]
     },
     "metadata": {},
     "output_type": "display_data"
    },
    {
     "name": "stdout",
     "output_type": "stream",
     "text": [
      "{'eval_loss': 2.153707981109619, 'eval_bleu': 13.625, 'eval_gen_len': 23.8362, 'eval_runtime': 89.542, 'eval_samples_per_second': 9.817, 'eval_steps_per_second': 0.614, 'epoch': 9.7}\n"
     ]
    },
    {
     "data": {
      "application/vnd.jupyter.widget-view+json": {
       "model_id": "3fd003a58cd2413397462af9aff02a2e",
       "version_major": 2,
       "version_minor": 0
      },
      "text/plain": [
       "  0%|          | 0/55 [00:00<?, ?it/s]"
      ]
     },
     "metadata": {},
     "output_type": "display_data"
    },
    {
     "name": "stdout",
     "output_type": "stream",
     "text": [
      "{'eval_loss': 2.1686043739318848, 'eval_bleu': 13.2376, 'eval_gen_len': 23.7486, 'eval_runtime': 88.5732, 'eval_samples_per_second': 9.924, 'eval_steps_per_second': 0.621, 'epoch': 9.71}\n"
     ]
    },
    {
     "data": {
      "application/vnd.jupyter.widget-view+json": {
       "model_id": "57964f9521ee42678ce974c05af38b2d",
       "version_major": 2,
       "version_minor": 0
      },
      "text/plain": [
       "  0%|          | 0/55 [00:00<?, ?it/s]"
      ]
     },
     "metadata": {},
     "output_type": "display_data"
    },
    {
     "name": "stdout",
     "output_type": "stream",
     "text": [
      "{'eval_loss': 2.1644389629364014, 'eval_bleu': 13.3564, 'eval_gen_len': 23.8987, 'eval_runtime': 91.5034, 'eval_samples_per_second': 9.606, 'eval_steps_per_second': 0.601, 'epoch': 9.73}\n"
     ]
    },
    {
     "data": {
      "application/vnd.jupyter.widget-view+json": {
       "model_id": "8269f38a152c47aeb0f7ee336e525ce1",
       "version_major": 2,
       "version_minor": 0
      },
      "text/plain": [
       "  0%|          | 0/55 [00:00<?, ?it/s]"
      ]
     },
     "metadata": {},
     "output_type": "display_data"
    },
    {
     "name": "stdout",
     "output_type": "stream",
     "text": [
      "{'eval_loss': 2.16599440574646, 'eval_bleu': 13.1043, 'eval_gen_len': 23.835, 'eval_runtime': 89.0639, 'eval_samples_per_second': 9.869, 'eval_steps_per_second': 0.618, 'epoch': 9.74}\n",
      "{'loss': 1.7224, 'grad_norm': 1.0933908224105835, 'learning_rate': 0.0005300000000000001, 'epoch': 9.75}\n"
     ]
    },
    {
     "data": {
      "application/vnd.jupyter.widget-view+json": {
       "model_id": "12542147fd9c4dee9fe732a1f0d26906",
       "version_major": 2,
       "version_minor": 0
      },
      "text/plain": [
       "  0%|          | 0/55 [00:00<?, ?it/s]"
      ]
     },
     "metadata": {},
     "output_type": "display_data"
    },
    {
     "name": "stdout",
     "output_type": "stream",
     "text": [
      "{'eval_loss': 2.1585307121276855, 'eval_bleu': 13.1236, 'eval_gen_len': 23.6906, 'eval_runtime': 89.954, 'eval_samples_per_second': 9.772, 'eval_steps_per_second': 0.611, 'epoch': 9.75}\n"
     ]
    },
    {
     "data": {
      "application/vnd.jupyter.widget-view+json": {
       "model_id": "aa6cb5c9fc9c472ea0d15d39344ff48f",
       "version_major": 2,
       "version_minor": 0
      },
      "text/plain": [
       "  0%|          | 0/55 [00:00<?, ?it/s]"
      ]
     },
     "metadata": {},
     "output_type": "display_data"
    },
    {
     "name": "stdout",
     "output_type": "stream",
     "text": [
      "{'eval_loss': 2.154254913330078, 'eval_bleu': 13.6601, 'eval_gen_len': 24.0501, 'eval_runtime': 88.4344, 'eval_samples_per_second': 9.94, 'eval_steps_per_second': 0.622, 'epoch': 9.77}\n"
     ]
    },
    {
     "data": {
      "application/vnd.jupyter.widget-view+json": {
       "model_id": "7196b4be3031431584631ecbd541634f",
       "version_major": 2,
       "version_minor": 0
      },
      "text/plain": [
       "  0%|          | 0/55 [00:00<?, ?it/s]"
      ]
     },
     "metadata": {},
     "output_type": "display_data"
    },
    {
     "name": "stdout",
     "output_type": "stream",
     "text": [
      "{'eval_loss': 2.146787643432617, 'eval_bleu': 13.1851, 'eval_gen_len': 24.0705, 'eval_runtime': 89.7844, 'eval_samples_per_second': 9.79, 'eval_steps_per_second': 0.613, 'epoch': 9.78}\n"
     ]
    },
    {
     "data": {
      "application/vnd.jupyter.widget-view+json": {
       "model_id": "ae62c606e87644a88d8cde08dd1d28f3",
       "version_major": 2,
       "version_minor": 0
      },
      "text/plain": [
       "  0%|          | 0/55 [00:00<?, ?it/s]"
      ]
     },
     "metadata": {},
     "output_type": "display_data"
    },
    {
     "name": "stdout",
     "output_type": "stream",
     "text": [
      "{'eval_loss': 2.161487102508545, 'eval_bleu': 13.2868, 'eval_gen_len': 23.8976, 'eval_runtime': 88.4321, 'eval_samples_per_second': 9.94, 'eval_steps_per_second': 0.622, 'epoch': 9.8}\n"
     ]
    },
    {
     "data": {
      "application/vnd.jupyter.widget-view+json": {
       "model_id": "e6deb9eccc28463c98a8fdf57a470e30",
       "version_major": 2,
       "version_minor": 0
      },
      "text/plain": [
       "  0%|          | 0/55 [00:00<?, ?it/s]"
      ]
     },
     "metadata": {},
     "output_type": "display_data"
    },
    {
     "name": "stdout",
     "output_type": "stream",
     "text": [
      "{'eval_loss': 2.157388687133789, 'eval_bleu': 13.6684, 'eval_gen_len': 23.8703, 'eval_runtime': 88.4687, 'eval_samples_per_second': 9.936, 'eval_steps_per_second': 0.622, 'epoch': 9.81}\n",
      "{'loss': 1.7317, 'grad_norm': 1.1103665828704834, 'learning_rate': 0.0005266666666666666, 'epoch': 9.82}\n"
     ]
    },
    {
     "data": {
      "application/vnd.jupyter.widget-view+json": {
       "model_id": "7f2da5bb930a438197896c6c805d538a",
       "version_major": 2,
       "version_minor": 0
      },
      "text/plain": [
       "  0%|          | 0/55 [00:00<?, ?it/s]"
      ]
     },
     "metadata": {},
     "output_type": "display_data"
    },
    {
     "name": "stdout",
     "output_type": "stream",
     "text": [
      "{'eval_loss': 2.1518337726593018, 'eval_bleu': 13.5627, 'eval_gen_len': 23.8942, 'eval_runtime': 88.899, 'eval_samples_per_second': 9.888, 'eval_steps_per_second': 0.619, 'epoch': 9.82}\n"
     ]
    },
    {
     "data": {
      "application/vnd.jupyter.widget-view+json": {
       "model_id": "b55c25c44b6c4229930203fba5e1eaaf",
       "version_major": 2,
       "version_minor": 0
      },
      "text/plain": [
       "  0%|          | 0/55 [00:00<?, ?it/s]"
      ]
     },
     "metadata": {},
     "output_type": "display_data"
    },
    {
     "name": "stdout",
     "output_type": "stream",
     "text": [
      "{'eval_loss': 2.162597417831421, 'eval_bleu': 13.7806, 'eval_gen_len': 23.9374, 'eval_runtime': 88.5867, 'eval_samples_per_second': 9.922, 'eval_steps_per_second': 0.621, 'epoch': 9.84}\n"
     ]
    },
    {
     "data": {
      "application/vnd.jupyter.widget-view+json": {
       "model_id": "9818ae06e3b94732ac6783664e0202a8",
       "version_major": 2,
       "version_minor": 0
      },
      "text/plain": [
       "  0%|          | 0/55 [00:00<?, ?it/s]"
      ]
     },
     "metadata": {},
     "output_type": "display_data"
    },
    {
     "name": "stdout",
     "output_type": "stream",
     "text": [
      "{'eval_loss': 2.1417195796966553, 'eval_bleu': 13.2299, 'eval_gen_len': 24.0899, 'eval_runtime': 88.7765, 'eval_samples_per_second': 9.901, 'eval_steps_per_second': 0.62, 'epoch': 9.85}\n"
     ]
    },
    {
     "data": {
      "application/vnd.jupyter.widget-view+json": {
       "model_id": "c51899a6d89349ca989f46423639b7c2",
       "version_major": 2,
       "version_minor": 0
      },
      "text/plain": [
       "  0%|          | 0/55 [00:00<?, ?it/s]"
      ]
     },
     "metadata": {},
     "output_type": "display_data"
    },
    {
     "name": "stdout",
     "output_type": "stream",
     "text": [
      "{'eval_loss': 2.1488900184631348, 'eval_bleu': 13.5041, 'eval_gen_len': 24.033, 'eval_runtime': 89.0233, 'eval_samples_per_second': 9.874, 'eval_steps_per_second': 0.618, 'epoch': 9.87}\n"
     ]
    },
    {
     "data": {
      "application/vnd.jupyter.widget-view+json": {
       "model_id": "d93963db9931418886b15c419345e150",
       "version_major": 2,
       "version_minor": 0
      },
      "text/plain": [
       "  0%|          | 0/55 [00:00<?, ?it/s]"
      ]
     },
     "metadata": {},
     "output_type": "display_data"
    },
    {
     "name": "stdout",
     "output_type": "stream",
     "text": [
      "{'eval_loss': 2.1563568115234375, 'eval_bleu': 13.6291, 'eval_gen_len': 23.7531, 'eval_runtime': 90.9521, 'eval_samples_per_second': 9.664, 'eval_steps_per_second': 0.605, 'epoch': 9.88}\n",
      "{'loss': 1.7208, 'grad_norm': 1.225805640220642, 'learning_rate': 0.0005233333333333333, 'epoch': 9.89}\n"
     ]
    },
    {
     "data": {
      "application/vnd.jupyter.widget-view+json": {
       "model_id": "05d0d755ae6840b387face262bb1f33f",
       "version_major": 2,
       "version_minor": 0
      },
      "text/plain": [
       "  0%|          | 0/55 [00:00<?, ?it/s]"
      ]
     },
     "metadata": {},
     "output_type": "display_data"
    },
    {
     "name": "stdout",
     "output_type": "stream",
     "text": [
      "{'eval_loss': 2.154838800430298, 'eval_bleu': 13.5258, 'eval_gen_len': 23.8487, 'eval_runtime': 89.1888, 'eval_samples_per_second': 9.855, 'eval_steps_per_second': 0.617, 'epoch': 9.89}\n"
     ]
    },
    {
     "data": {
      "application/vnd.jupyter.widget-view+json": {
       "model_id": "f382d761325e4ff69d91c37ba4c4cc70",
       "version_major": 2,
       "version_minor": 0
      },
      "text/plain": [
       "  0%|          | 0/55 [00:00<?, ?it/s]"
      ]
     },
     "metadata": {},
     "output_type": "display_data"
    },
    {
     "name": "stdout",
     "output_type": "stream",
     "text": [
      "{'eval_loss': 2.143956184387207, 'eval_bleu': 13.6172, 'eval_gen_len': 23.8589, 'eval_runtime': 88.627, 'eval_samples_per_second': 9.918, 'eval_steps_per_second': 0.621, 'epoch': 9.91}\n"
     ]
    },
    {
     "data": {
      "application/vnd.jupyter.widget-view+json": {
       "model_id": "c79b4a6855604f8e97a0ec17b5d8085e",
       "version_major": 2,
       "version_minor": 0
      },
      "text/plain": [
       "  0%|          | 0/55 [00:00<?, ?it/s]"
      ]
     },
     "metadata": {},
     "output_type": "display_data"
    },
    {
     "name": "stdout",
     "output_type": "stream",
     "text": [
      "{'eval_loss': 2.1409199237823486, 'eval_bleu': 13.55, 'eval_gen_len': 23.7486, 'eval_runtime': 88.7503, 'eval_samples_per_second': 9.904, 'eval_steps_per_second': 0.62, 'epoch': 9.92}\n"
     ]
    },
    {
     "data": {
      "application/vnd.jupyter.widget-view+json": {
       "model_id": "6c39a32e227a401f8ef1782d457b87fc",
       "version_major": 2,
       "version_minor": 0
      },
      "text/plain": [
       "  0%|          | 0/55 [00:00<?, ?it/s]"
      ]
     },
     "metadata": {},
     "output_type": "display_data"
    },
    {
     "name": "stdout",
     "output_type": "stream",
     "text": [
      "{'eval_loss': 2.150221109390259, 'eval_bleu': 13.938, 'eval_gen_len': 23.9534, 'eval_runtime': 88.9294, 'eval_samples_per_second': 9.884, 'eval_steps_per_second': 0.618, 'epoch': 9.93}\n"
     ]
    },
    {
     "data": {
      "application/vnd.jupyter.widget-view+json": {
       "model_id": "a513c39392c74cf89a60cd4f488b4ae7",
       "version_major": 2,
       "version_minor": 0
      },
      "text/plain": [
       "  0%|          | 0/55 [00:00<?, ?it/s]"
      ]
     },
     "metadata": {},
     "output_type": "display_data"
    },
    {
     "name": "stdout",
     "output_type": "stream",
     "text": [
      "{'eval_loss': 2.144594430923462, 'eval_bleu': 13.4863, 'eval_gen_len': 23.9989, 'eval_runtime': 89.3844, 'eval_samples_per_second': 9.834, 'eval_steps_per_second': 0.615, 'epoch': 9.95}\n",
      "{'loss': 1.722, 'grad_norm': 1.0636835098266602, 'learning_rate': 0.0005200000000000001, 'epoch': 9.96}\n"
     ]
    },
    {
     "data": {
      "application/vnd.jupyter.widget-view+json": {
       "model_id": "cd7fa28c7911473ebd7484284ae20017",
       "version_major": 2,
       "version_minor": 0
      },
      "text/plain": [
       "  0%|          | 0/55 [00:00<?, ?it/s]"
      ]
     },
     "metadata": {},
     "output_type": "display_data"
    },
    {
     "name": "stdout",
     "output_type": "stream",
     "text": [
      "{'eval_loss': 2.145406484603882, 'eval_bleu': 13.3948, 'eval_gen_len': 23.9784, 'eval_runtime': 89.1397, 'eval_samples_per_second': 9.861, 'eval_steps_per_second': 0.617, 'epoch': 9.96}\n"
     ]
    },
    {
     "data": {
      "application/vnd.jupyter.widget-view+json": {
       "model_id": "1af13b61fcda4c958efe832dc0438c76",
       "version_major": 2,
       "version_minor": 0
      },
      "text/plain": [
       "  0%|          | 0/55 [00:00<?, ?it/s]"
      ]
     },
     "metadata": {},
     "output_type": "display_data"
    },
    {
     "name": "stdout",
     "output_type": "stream",
     "text": [
      "{'eval_loss': 2.1502413749694824, 'eval_bleu': 13.5743, 'eval_gen_len': 23.8567, 'eval_runtime': 88.0477, 'eval_samples_per_second': 9.983, 'eval_steps_per_second': 0.625, 'epoch': 9.98}\n"
     ]
    },
    {
     "data": {
      "application/vnd.jupyter.widget-view+json": {
       "model_id": "2801435ff4464d41becc6932cc3da1ef",
       "version_major": 2,
       "version_minor": 0
      },
      "text/plain": [
       "  0%|          | 0/55 [00:00<?, ?it/s]"
      ]
     },
     "metadata": {},
     "output_type": "display_data"
    },
    {
     "name": "stdout",
     "output_type": "stream",
     "text": [
      "{'eval_loss': 2.1446926593780518, 'eval_bleu': 13.5522, 'eval_gen_len': 23.9545, 'eval_runtime': 89.347, 'eval_samples_per_second': 9.838, 'eval_steps_per_second': 0.616, 'epoch': 9.99}\n"
     ]
    },
    {
     "data": {
      "application/vnd.jupyter.widget-view+json": {
       "model_id": "e2763a64b2eb43b9a659f1d10394bf5a",
       "version_major": 2,
       "version_minor": 0
      },
      "text/plain": [
       "  0%|          | 0/55 [00:00<?, ?it/s]"
      ]
     },
     "metadata": {},
     "output_type": "display_data"
    },
    {
     "name": "stdout",
     "output_type": "stream",
     "text": [
      "{'eval_loss': 2.1829261779785156, 'eval_bleu': 13.3066, 'eval_gen_len': 23.8623, 'eval_runtime': 88.4766, 'eval_samples_per_second': 9.935, 'eval_steps_per_second': 0.622, 'epoch': 10.0}\n"
     ]
    },
    {
     "data": {
      "application/vnd.jupyter.widget-view+json": {
       "model_id": "2876232a83cb48388ee27f0f0ff3087c",
       "version_major": 2,
       "version_minor": 0
      },
      "text/plain": [
       "  0%|          | 0/55 [00:00<?, ?it/s]"
      ]
     },
     "metadata": {},
     "output_type": "display_data"
    },
    {
     "name": "stdout",
     "output_type": "stream",
     "text": [
      "{'eval_loss': 2.159689426422119, 'eval_bleu': 13.4511, 'eval_gen_len': 23.835, 'eval_runtime': 88.2299, 'eval_samples_per_second': 9.963, 'eval_steps_per_second': 0.623, 'epoch': 10.02}\n",
      "{'loss': 1.6611, 'grad_norm': 1.489717960357666, 'learning_rate': 0.0005166666666666667, 'epoch': 10.03}\n"
     ]
    },
    {
     "data": {
      "application/vnd.jupyter.widget-view+json": {
       "model_id": "ad3e1386955a44c3b7c4f6407a3225c5",
       "version_major": 2,
       "version_minor": 0
      },
      "text/plain": [
       "  0%|          | 0/55 [00:00<?, ?it/s]"
      ]
     },
     "metadata": {},
     "output_type": "display_data"
    },
    {
     "name": "stdout",
     "output_type": "stream",
     "text": [
      "{'eval_loss': 2.1830832958221436, 'eval_bleu': 13.3036, 'eval_gen_len': 23.9215, 'eval_runtime': 89.2804, 'eval_samples_per_second': 9.845, 'eval_steps_per_second': 0.616, 'epoch': 10.03}\n"
     ]
    },
    {
     "data": {
      "application/vnd.jupyter.widget-view+json": {
       "model_id": "79221f0059e0443c8dc68ccc1ad522a7",
       "version_major": 2,
       "version_minor": 0
      },
      "text/plain": [
       "  0%|          | 0/55 [00:00<?, ?it/s]"
      ]
     },
     "metadata": {},
     "output_type": "display_data"
    },
    {
     "name": "stdout",
     "output_type": "stream",
     "text": [
      "{'eval_loss': 2.1575675010681152, 'eval_bleu': 13.5185, 'eval_gen_len': 23.8168, 'eval_runtime': 88.201, 'eval_samples_per_second': 9.966, 'eval_steps_per_second': 0.624, 'epoch': 10.04}\n"
     ]
    },
    {
     "data": {
      "application/vnd.jupyter.widget-view+json": {
       "model_id": "976a7fad6a28445fbaef0c35e9c752a0",
       "version_major": 2,
       "version_minor": 0
      },
      "text/plain": [
       "  0%|          | 0/55 [00:00<?, ?it/s]"
      ]
     },
     "metadata": {},
     "output_type": "display_data"
    },
    {
     "name": "stdout",
     "output_type": "stream",
     "text": [
      "{'eval_loss': 2.1657538414001465, 'eval_bleu': 13.6004, 'eval_gen_len': 24.0751, 'eval_runtime': 87.9548, 'eval_samples_per_second': 9.994, 'eval_steps_per_second': 0.625, 'epoch': 10.06}\n"
     ]
    },
    {
     "data": {
      "application/vnd.jupyter.widget-view+json": {
       "model_id": "98d2d3cbbd1c470a86397da3e1aa7f21",
       "version_major": 2,
       "version_minor": 0
      },
      "text/plain": [
       "  0%|          | 0/55 [00:00<?, ?it/s]"
      ]
     },
     "metadata": {},
     "output_type": "display_data"
    },
    {
     "name": "stdout",
     "output_type": "stream",
     "text": [
      "{'eval_loss': 2.1696081161499023, 'eval_bleu': 13.7299, 'eval_gen_len': 24.0353, 'eval_runtime': 88.4649, 'eval_samples_per_second': 9.936, 'eval_steps_per_second': 0.622, 'epoch': 10.07}\n"
     ]
    },
    {
     "data": {
      "application/vnd.jupyter.widget-view+json": {
       "model_id": "5df26cfdf4794c689f463c8f03aa2f72",
       "version_major": 2,
       "version_minor": 0
      },
      "text/plain": [
       "  0%|          | 0/55 [00:00<?, ?it/s]"
      ]
     },
     "metadata": {},
     "output_type": "display_data"
    },
    {
     "name": "stdout",
     "output_type": "stream",
     "text": [
      "{'eval_loss': 2.177863836288452, 'eval_bleu': 13.4595, 'eval_gen_len': 23.9363, 'eval_runtime': 89.2675, 'eval_samples_per_second': 9.847, 'eval_steps_per_second': 0.616, 'epoch': 10.09}\n",
      "{'loss': 1.5905, 'grad_norm': 1.1966267824172974, 'learning_rate': 0.0005133333333333333, 'epoch': 10.1}\n"
     ]
    },
    {
     "data": {
      "application/vnd.jupyter.widget-view+json": {
       "model_id": "0033bda7b0eb4997a95cd2ae608ec62a",
       "version_major": 2,
       "version_minor": 0
      },
      "text/plain": [
       "  0%|          | 0/55 [00:00<?, ?it/s]"
      ]
     },
     "metadata": {},
     "output_type": "display_data"
    },
    {
     "name": "stdout",
     "output_type": "stream",
     "text": [
      "{'eval_loss': 2.1772561073303223, 'eval_bleu': 13.4927, 'eval_gen_len': 23.9613, 'eval_runtime': 89.3467, 'eval_samples_per_second': 9.838, 'eval_steps_per_second': 0.616, 'epoch': 10.1}\n"
     ]
    },
    {
     "data": {
      "application/vnd.jupyter.widget-view+json": {
       "model_id": "817f8e3f2b7f4414b1198a54efd78519",
       "version_major": 2,
       "version_minor": 0
      },
      "text/plain": [
       "  0%|          | 0/55 [00:00<?, ?it/s]"
      ]
     },
     "metadata": {},
     "output_type": "display_data"
    },
    {
     "name": "stdout",
     "output_type": "stream",
     "text": [
      "{'eval_loss': 2.178518056869507, 'eval_bleu': 13.5647, 'eval_gen_len': 23.7395, 'eval_runtime': 88.9391, 'eval_samples_per_second': 9.883, 'eval_steps_per_second': 0.618, 'epoch': 10.11}\n"
     ]
    },
    {
     "data": {
      "application/vnd.jupyter.widget-view+json": {
       "model_id": "ad1de152e91f40a3a9867c6dd80757c5",
       "version_major": 2,
       "version_minor": 0
      },
      "text/plain": [
       "  0%|          | 0/55 [00:00<?, ?it/s]"
      ]
     },
     "metadata": {},
     "output_type": "display_data"
    },
    {
     "name": "stdout",
     "output_type": "stream",
     "text": [
      "{'eval_loss': 2.1650922298431396, 'eval_bleu': 13.3625, 'eval_gen_len': 23.8282, 'eval_runtime': 88.5217, 'eval_samples_per_second': 9.93, 'eval_steps_per_second': 0.621, 'epoch': 10.13}\n"
     ]
    },
    {
     "data": {
      "application/vnd.jupyter.widget-view+json": {
       "model_id": "d9f3f39fc84c4111bc4be74f0afb0086",
       "version_major": 2,
       "version_minor": 0
      },
      "text/plain": [
       "  0%|          | 0/55 [00:00<?, ?it/s]"
      ]
     },
     "metadata": {},
     "output_type": "display_data"
    },
    {
     "name": "stdout",
     "output_type": "stream",
     "text": [
      "{'eval_loss': 2.1800854206085205, 'eval_bleu': 13.5354, 'eval_gen_len': 23.5233, 'eval_runtime': 88.1472, 'eval_samples_per_second': 9.972, 'eval_steps_per_second': 0.624, 'epoch': 10.14}\n"
     ]
    },
    {
     "data": {
      "application/vnd.jupyter.widget-view+json": {
       "model_id": "750390fa67fa445e9a29d7f5b911f769",
       "version_major": 2,
       "version_minor": 0
      },
      "text/plain": [
       "  0%|          | 0/55 [00:00<?, ?it/s]"
      ]
     },
     "metadata": {},
     "output_type": "display_data"
    },
    {
     "name": "stdout",
     "output_type": "stream",
     "text": [
      "{'eval_loss': 2.184075355529785, 'eval_bleu': 13.6146, 'eval_gen_len': 23.8191, 'eval_runtime': 88.7472, 'eval_samples_per_second': 9.905, 'eval_steps_per_second': 0.62, 'epoch': 10.16}\n",
      "{'loss': 1.6037, 'grad_norm': 1.1654468774795532, 'learning_rate': 0.00051, 'epoch': 10.17}\n"
     ]
    },
    {
     "data": {
      "application/vnd.jupyter.widget-view+json": {
       "model_id": "6c9466015d4f41b5958397b8e0cdcec0",
       "version_major": 2,
       "version_minor": 0
      },
      "text/plain": [
       "  0%|          | 0/55 [00:00<?, ?it/s]"
      ]
     },
     "metadata": {},
     "output_type": "display_data"
    },
    {
     "name": "stdout",
     "output_type": "stream",
     "text": [
      "{'eval_loss': 2.1770007610321045, 'eval_bleu': 13.1691, 'eval_gen_len': 23.7941, 'eval_runtime': 88.4931, 'eval_samples_per_second': 9.933, 'eval_steps_per_second': 0.622, 'epoch': 10.17}\n"
     ]
    },
    {
     "data": {
      "application/vnd.jupyter.widget-view+json": {
       "model_id": "0b94374efe074717ba34d5646e2a4744",
       "version_major": 2,
       "version_minor": 0
      },
      "text/plain": [
       "  0%|          | 0/55 [00:00<?, ?it/s]"
      ]
     },
     "metadata": {},
     "output_type": "display_data"
    },
    {
     "name": "stdout",
     "output_type": "stream",
     "text": [
      "{'eval_loss': 2.15898060798645, 'eval_bleu': 13.2285, 'eval_gen_len': 24.0284, 'eval_runtime': 88.2315, 'eval_samples_per_second': 9.962, 'eval_steps_per_second': 0.623, 'epoch': 10.18}\n"
     ]
    },
    {
     "data": {
      "application/vnd.jupyter.widget-view+json": {
       "model_id": "2b1c6d41fafc47ad91949d2c37c19f5b",
       "version_major": 2,
       "version_minor": 0
      },
      "text/plain": [
       "  0%|          | 0/55 [00:00<?, ?it/s]"
      ]
     },
     "metadata": {},
     "output_type": "display_data"
    },
    {
     "name": "stdout",
     "output_type": "stream",
     "text": [
      "{'eval_loss': 2.1822352409362793, 'eval_bleu': 13.4795, 'eval_gen_len': 23.5859, 'eval_runtime': 89.2404, 'eval_samples_per_second': 9.85, 'eval_steps_per_second': 0.616, 'epoch': 10.2}\n"
     ]
    },
    {
     "data": {
      "application/vnd.jupyter.widget-view+json": {
       "model_id": "894ae13774304619ad335c3a14edad2c",
       "version_major": 2,
       "version_minor": 0
      },
      "text/plain": [
       "  0%|          | 0/55 [00:00<?, ?it/s]"
      ]
     },
     "metadata": {},
     "output_type": "display_data"
    },
    {
     "name": "stdout",
     "output_type": "stream",
     "text": [
      "{'eval_loss': 2.1762032508850098, 'eval_bleu': 13.6326, 'eval_gen_len': 23.835, 'eval_runtime': 88.3406, 'eval_samples_per_second': 9.95, 'eval_steps_per_second': 0.623, 'epoch': 10.21}\n"
     ]
    },
    {
     "data": {
      "application/vnd.jupyter.widget-view+json": {
       "model_id": "4cd072ccb1f549e4b5235184593bb2f5",
       "version_major": 2,
       "version_minor": 0
      },
      "text/plain": [
       "  0%|          | 0/55 [00:00<?, ?it/s]"
      ]
     },
     "metadata": {},
     "output_type": "display_data"
    },
    {
     "name": "stdout",
     "output_type": "stream",
     "text": [
      "{'eval_loss': 2.1768105030059814, 'eval_bleu': 13.5841, 'eval_gen_len': 23.7338, 'eval_runtime': 88.8288, 'eval_samples_per_second': 9.895, 'eval_steps_per_second': 0.619, 'epoch': 10.22}\n",
      "{'loss': 1.6193, 'grad_norm': 0.9010143280029297, 'learning_rate': 0.0005066666666666668, 'epoch': 10.24}\n"
     ]
    },
    {
     "data": {
      "application/vnd.jupyter.widget-view+json": {
       "model_id": "b4d29e0c08954002aa241df949356296",
       "version_major": 2,
       "version_minor": 0
      },
      "text/plain": [
       "  0%|          | 0/55 [00:00<?, ?it/s]"
      ]
     },
     "metadata": {},
     "output_type": "display_data"
    },
    {
     "name": "stdout",
     "output_type": "stream",
     "text": [
      "{'eval_loss': 2.1655523777008057, 'eval_bleu': 13.3262, 'eval_gen_len': 23.7531, 'eval_runtime': 88.9458, 'eval_samples_per_second': 9.882, 'eval_steps_per_second': 0.618, 'epoch': 10.24}\n"
     ]
    },
    {
     "data": {
      "application/vnd.jupyter.widget-view+json": {
       "model_id": "38d8b8f63b4c48bfbf33893a8e17cdf1",
       "version_major": 2,
       "version_minor": 0
      },
      "text/plain": [
       "  0%|          | 0/55 [00:00<?, ?it/s]"
      ]
     },
     "metadata": {},
     "output_type": "display_data"
    },
    {
     "name": "stdout",
     "output_type": "stream",
     "text": [
      "{'eval_loss': 2.164517402648926, 'eval_bleu': 13.5403, 'eval_gen_len': 23.8771, 'eval_runtime': 88.955, 'eval_samples_per_second': 9.881, 'eval_steps_per_second': 0.618, 'epoch': 10.25}\n"
     ]
    },
    {
     "data": {
      "application/vnd.jupyter.widget-view+json": {
       "model_id": "d16d61a9afff480dbd9a71ce2a22e523",
       "version_major": 2,
       "version_minor": 0
      },
      "text/plain": [
       "  0%|          | 0/55 [00:00<?, ?it/s]"
      ]
     },
     "metadata": {},
     "output_type": "display_data"
    },
    {
     "name": "stdout",
     "output_type": "stream",
     "text": [
      "{'eval_loss': 2.164102077484131, 'eval_bleu': 13.8361, 'eval_gen_len': 23.9511, 'eval_runtime': 88.6032, 'eval_samples_per_second': 9.921, 'eval_steps_per_second': 0.621, 'epoch': 10.27}\n"
     ]
    },
    {
     "data": {
      "application/vnd.jupyter.widget-view+json": {
       "model_id": "e534423d7e214750b808efd58abc1847",
       "version_major": 2,
       "version_minor": 0
      },
      "text/plain": [
       "  0%|          | 0/55 [00:00<?, ?it/s]"
      ]
     },
     "metadata": {},
     "output_type": "display_data"
    },
    {
     "name": "stdout",
     "output_type": "stream",
     "text": [
      "{'eval_loss': 2.1575446128845215, 'eval_bleu': 13.4953, 'eval_gen_len': 23.6883, 'eval_runtime': 89.3632, 'eval_samples_per_second': 9.836, 'eval_steps_per_second': 0.615, 'epoch': 10.28}\n"
     ]
    },
    {
     "data": {
      "application/vnd.jupyter.widget-view+json": {
       "model_id": "24a67e057a0741f5ba74a50f6d2b565e",
       "version_major": 2,
       "version_minor": 0
      },
      "text/plain": [
       "  0%|          | 0/55 [00:00<?, ?it/s]"
      ]
     },
     "metadata": {},
     "output_type": "display_data"
    },
    {
     "name": "stdout",
     "output_type": "stream",
     "text": [
      "{'eval_loss': 2.175386905670166, 'eval_bleu': 13.6873, 'eval_gen_len': 23.7929, 'eval_runtime': 89.1066, 'eval_samples_per_second': 9.865, 'eval_steps_per_second': 0.617, 'epoch': 10.29}\n",
      "{'loss': 1.616, 'grad_norm': 1.649320363998413, 'learning_rate': 0.0005033333333333333, 'epoch': 10.31}\n"
     ]
    },
    {
     "data": {
      "application/vnd.jupyter.widget-view+json": {
       "model_id": "974f039904754cd8a862aa4edb40af66",
       "version_major": 2,
       "version_minor": 0
      },
      "text/plain": [
       "  0%|          | 0/55 [00:00<?, ?it/s]"
      ]
     },
     "metadata": {},
     "output_type": "display_data"
    },
    {
     "name": "stdout",
     "output_type": "stream",
     "text": [
      "{'eval_loss': 2.183715581893921, 'eval_bleu': 13.1807, 'eval_gen_len': 23.8362, 'eval_runtime': 89.0322, 'eval_samples_per_second': 9.873, 'eval_steps_per_second': 0.618, 'epoch': 10.31}\n"
     ]
    },
    {
     "data": {
      "application/vnd.jupyter.widget-view+json": {
       "model_id": "5ae770d0895840d1b41611d4ec8d2a63",
       "version_major": 2,
       "version_minor": 0
      },
      "text/plain": [
       "  0%|          | 0/55 [00:00<?, ?it/s]"
      ]
     },
     "metadata": {},
     "output_type": "display_data"
    },
    {
     "name": "stdout",
     "output_type": "stream",
     "text": [
      "{'eval_loss': 2.15878963470459, 'eval_bleu': 13.7122, 'eval_gen_len': 23.8726, 'eval_runtime': 88.9474, 'eval_samples_per_second': 9.882, 'eval_steps_per_second': 0.618, 'epoch': 10.32}\n"
     ]
    },
    {
     "data": {
      "application/vnd.jupyter.widget-view+json": {
       "model_id": "123bf57f51da4847be1780d05786f54d",
       "version_major": 2,
       "version_minor": 0
      },
      "text/plain": [
       "  0%|          | 0/55 [00:00<?, ?it/s]"
      ]
     },
     "metadata": {},
     "output_type": "display_data"
    },
    {
     "name": "stdout",
     "output_type": "stream",
     "text": [
      "{'eval_loss': 2.153069019317627, 'eval_bleu': 13.4001, 'eval_gen_len': 23.8612, 'eval_runtime': 88.5905, 'eval_samples_per_second': 9.922, 'eval_steps_per_second': 0.621, 'epoch': 10.34}\n"
     ]
    },
    {
     "data": {
      "application/vnd.jupyter.widget-view+json": {
       "model_id": "add3fb1cc00c4246ba13a987958a9c11",
       "version_major": 2,
       "version_minor": 0
      },
      "text/plain": [
       "  0%|          | 0/55 [00:00<?, ?it/s]"
      ]
     },
     "metadata": {},
     "output_type": "display_data"
    },
    {
     "name": "stdout",
     "output_type": "stream",
     "text": [
      "{'eval_loss': 2.168006181716919, 'eval_bleu': 13.6061, 'eval_gen_len': 23.6416, 'eval_runtime': 87.7995, 'eval_samples_per_second': 10.011, 'eval_steps_per_second': 0.626, 'epoch': 10.35}\n"
     ]
    },
    {
     "data": {
      "application/vnd.jupyter.widget-view+json": {
       "model_id": "7708aff799a441de93ef10cda3192dcc",
       "version_major": 2,
       "version_minor": 0
      },
      "text/plain": [
       "  0%|          | 0/55 [00:00<?, ?it/s]"
      ]
     },
     "metadata": {},
     "output_type": "display_data"
    },
    {
     "name": "stdout",
     "output_type": "stream",
     "text": [
      "{'eval_loss': 2.1691558361053467, 'eval_bleu': 13.7485, 'eval_gen_len': 23.9363, 'eval_runtime': 88.4482, 'eval_samples_per_second': 9.938, 'eval_steps_per_second': 0.622, 'epoch': 10.36}\n",
      "{'loss': 1.6262, 'grad_norm': 1.2796308994293213, 'learning_rate': 0.0005, 'epoch': 10.38}\n"
     ]
    },
    {
     "data": {
      "application/vnd.jupyter.widget-view+json": {
       "model_id": "0e76fb11f6424088a13d10874c5b1e83",
       "version_major": 2,
       "version_minor": 0
      },
      "text/plain": [
       "  0%|          | 0/55 [00:00<?, ?it/s]"
      ]
     },
     "metadata": {},
     "output_type": "display_data"
    },
    {
     "name": "stdout",
     "output_type": "stream",
     "text": [
      "{'eval_loss': 2.165097713470459, 'eval_bleu': 13.6534, 'eval_gen_len': 23.711, 'eval_runtime': 88.5919, 'eval_samples_per_second': 9.922, 'eval_steps_per_second': 0.621, 'epoch': 10.38}\n"
     ]
    },
    {
     "data": {
      "application/vnd.jupyter.widget-view+json": {
       "model_id": "b61ea8fd57bc4f76ad6e5e0baf191faf",
       "version_major": 2,
       "version_minor": 0
      },
      "text/plain": [
       "  0%|          | 0/55 [00:00<?, ?it/s]"
      ]
     },
     "metadata": {},
     "output_type": "display_data"
    },
    {
     "name": "stdout",
     "output_type": "stream",
     "text": [
      "{'eval_loss': 2.1603524684906006, 'eval_bleu': 13.2639, 'eval_gen_len': 23.9772, 'eval_runtime': 88.231, 'eval_samples_per_second': 9.962, 'eval_steps_per_second': 0.623, 'epoch': 10.39}\n"
     ]
    },
    {
     "data": {
      "application/vnd.jupyter.widget-view+json": {
       "model_id": "2223c8be2cd04b4b84dec289e4f7b23b",
       "version_major": 2,
       "version_minor": 0
      },
      "text/plain": [
       "  0%|          | 0/55 [00:00<?, ?it/s]"
      ]
     },
     "metadata": {},
     "output_type": "display_data"
    },
    {
     "name": "stdout",
     "output_type": "stream",
     "text": [
      "{'eval_loss': 2.1674535274505615, 'eval_bleu': 13.0001, 'eval_gen_len': 23.8714, 'eval_runtime': 88.7178, 'eval_samples_per_second': 9.908, 'eval_steps_per_second': 0.62, 'epoch': 10.4}\n"
     ]
    },
    {
     "data": {
      "application/vnd.jupyter.widget-view+json": {
       "model_id": "f7d11e7f06d24079b092c3e8a3c14a10",
       "version_major": 2,
       "version_minor": 0
      },
      "text/plain": [
       "  0%|          | 0/55 [00:00<?, ?it/s]"
      ]
     },
     "metadata": {},
     "output_type": "display_data"
    },
    {
     "name": "stdout",
     "output_type": "stream",
     "text": [
      "{'eval_loss': 2.156144618988037, 'eval_bleu': 13.5818, 'eval_gen_len': 23.8931, 'eval_runtime': 88.639, 'eval_samples_per_second': 9.917, 'eval_steps_per_second': 0.62, 'epoch': 10.42}\n"
     ]
    },
    {
     "data": {
      "application/vnd.jupyter.widget-view+json": {
       "model_id": "b53d5e527b7f4b24825cd89b5037486f",
       "version_major": 2,
       "version_minor": 0
      },
      "text/plain": [
       "  0%|          | 0/55 [00:00<?, ?it/s]"
      ]
     },
     "metadata": {},
     "output_type": "display_data"
    },
    {
     "name": "stdout",
     "output_type": "stream",
     "text": [
      "{'eval_loss': 2.159890651702881, 'eval_bleu': 13.2376, 'eval_gen_len': 24.0899, 'eval_runtime': 88.0199, 'eval_samples_per_second': 9.986, 'eval_steps_per_second': 0.625, 'epoch': 10.43}\n",
      "{'loss': 1.633, 'grad_norm': 1.0728224515914917, 'learning_rate': 0.0004966666666666666, 'epoch': 10.45}\n"
     ]
    },
    {
     "data": {
      "application/vnd.jupyter.widget-view+json": {
       "model_id": "3f97a6daaaaf4dcfa26f65be44507046",
       "version_major": 2,
       "version_minor": 0
      },
      "text/plain": [
       "  0%|          | 0/55 [00:00<?, ?it/s]"
      ]
     },
     "metadata": {},
     "output_type": "display_data"
    },
    {
     "name": "stdout",
     "output_type": "stream",
     "text": [
      "{'eval_loss': 2.172043800354004, 'eval_bleu': 13.4196, 'eval_gen_len': 23.8908, 'eval_runtime': 88.2545, 'eval_samples_per_second': 9.96, 'eval_steps_per_second': 0.623, 'epoch': 10.45}\n"
     ]
    },
    {
     "data": {
      "application/vnd.jupyter.widget-view+json": {
       "model_id": "3eb10d7abe784d1a97a5fc9c7f5c837e",
       "version_major": 2,
       "version_minor": 0
      },
      "text/plain": [
       "  0%|          | 0/55 [00:00<?, ?it/s]"
      ]
     },
     "metadata": {},
     "output_type": "display_data"
    },
    {
     "name": "stdout",
     "output_type": "stream",
     "text": [
      "{'eval_loss': 2.1553635597229004, 'eval_bleu': 13.2339, 'eval_gen_len': 24.0489, 'eval_runtime': 91.6992, 'eval_samples_per_second': 9.586, 'eval_steps_per_second': 0.6, 'epoch': 10.46}\n"
     ]
    },
    {
     "data": {
      "application/vnd.jupyter.widget-view+json": {
       "model_id": "48613583c06c4fc1b70d5280e9083d14",
       "version_major": 2,
       "version_minor": 0
      },
      "text/plain": [
       "  0%|          | 0/55 [00:00<?, ?it/s]"
      ]
     },
     "metadata": {},
     "output_type": "display_data"
    },
    {
     "name": "stdout",
     "output_type": "stream",
     "text": [
      "{'eval_loss': 2.1555416584014893, 'eval_bleu': 13.4752, 'eval_gen_len': 23.8305, 'eval_runtime': 88.9796, 'eval_samples_per_second': 9.879, 'eval_steps_per_second': 0.618, 'epoch': 10.47}\n"
     ]
    },
    {
     "data": {
      "application/vnd.jupyter.widget-view+json": {
       "model_id": "ac3131e25da744aa830b233fc406a8da",
       "version_major": 2,
       "version_minor": 0
      },
      "text/plain": [
       "  0%|          | 0/55 [00:00<?, ?it/s]"
      ]
     },
     "metadata": {},
     "output_type": "display_data"
    },
    {
     "name": "stdout",
     "output_type": "stream",
     "text": [
      "{'eval_loss': 2.164299726486206, 'eval_bleu': 13.4934, 'eval_gen_len': 23.9386, 'eval_runtime': 88.5196, 'eval_samples_per_second': 9.93, 'eval_steps_per_second': 0.621, 'epoch': 10.49}\n"
     ]
    },
    {
     "data": {
      "application/vnd.jupyter.widget-view+json": {
       "model_id": "0ee57afb00314b2197eb9d00483c315a",
       "version_major": 2,
       "version_minor": 0
      },
      "text/plain": [
       "  0%|          | 0/55 [00:00<?, ?it/s]"
      ]
     },
     "metadata": {},
     "output_type": "display_data"
    },
    {
     "name": "stdout",
     "output_type": "stream",
     "text": [
      "{'eval_loss': 2.1661179065704346, 'eval_bleu': 13.2561, 'eval_gen_len': 23.9033, 'eval_runtime': 88.4062, 'eval_samples_per_second': 9.943, 'eval_steps_per_second': 0.622, 'epoch': 10.5}\n",
      "{'loss': 1.6372, 'grad_norm': 1.177193284034729, 'learning_rate': 0.0004933333333333334, 'epoch': 10.52}\n"
     ]
    },
    {
     "data": {
      "application/vnd.jupyter.widget-view+json": {
       "model_id": "7c1b74db312b4ec88379158032938cf0",
       "version_major": 2,
       "version_minor": 0
      },
      "text/plain": [
       "  0%|          | 0/55 [00:00<?, ?it/s]"
      ]
     },
     "metadata": {},
     "output_type": "display_data"
    },
    {
     "name": "stdout",
     "output_type": "stream",
     "text": [
      "{'eval_loss': 2.152153730392456, 'eval_bleu': 13.2555, 'eval_gen_len': 24.0865, 'eval_runtime': 88.1419, 'eval_samples_per_second': 9.973, 'eval_steps_per_second': 0.624, 'epoch': 10.52}\n"
     ]
    },
    {
     "data": {
      "application/vnd.jupyter.widget-view+json": {
       "model_id": "5c36459978a94174baade7762b1172bc",
       "version_major": 2,
       "version_minor": 0
      },
      "text/plain": [
       "  0%|          | 0/55 [00:00<?, ?it/s]"
      ]
     },
     "metadata": {},
     "output_type": "display_data"
    },
    {
     "name": "stdout",
     "output_type": "stream",
     "text": [
      "{'eval_loss': 2.1491971015930176, 'eval_bleu': 13.4841, 'eval_gen_len': 23.8658, 'eval_runtime': 88.6883, 'eval_samples_per_second': 9.911, 'eval_steps_per_second': 0.62, 'epoch': 10.53}\n"
     ]
    },
    {
     "data": {
      "application/vnd.jupyter.widget-view+json": {
       "model_id": "26f829615f1548b387fb01dd2638a22f",
       "version_major": 2,
       "version_minor": 0
      },
      "text/plain": [
       "  0%|          | 0/55 [00:00<?, ?it/s]"
      ]
     },
     "metadata": {},
     "output_type": "display_data"
    },
    {
     "name": "stdout",
     "output_type": "stream",
     "text": [
      "{'eval_loss': 2.1457743644714355, 'eval_bleu': 13.913, 'eval_gen_len': 23.8328, 'eval_runtime': 89.0784, 'eval_samples_per_second': 9.868, 'eval_steps_per_second': 0.617, 'epoch': 10.54}\n"
     ]
    },
    {
     "data": {
      "application/vnd.jupyter.widget-view+json": {
       "model_id": "c0120e1246ce47ea9e7debf79c6f9245",
       "version_major": 2,
       "version_minor": 0
      },
      "text/plain": [
       "  0%|          | 0/55 [00:00<?, ?it/s]"
      ]
     },
     "metadata": {},
     "output_type": "display_data"
    },
    {
     "name": "stdout",
     "output_type": "stream",
     "text": [
      "{'eval_loss': 2.1536362171173096, 'eval_bleu': 14.0245, 'eval_gen_len': 23.8305, 'eval_runtime': 88.7924, 'eval_samples_per_second': 9.9, 'eval_steps_per_second': 0.619, 'epoch': 10.56}\n"
     ]
    },
    {
     "data": {
      "application/vnd.jupyter.widget-view+json": {
       "model_id": "0966487b94f9493991a4ba31e9c95014",
       "version_major": 2,
       "version_minor": 0
      },
      "text/plain": [
       "  0%|          | 0/55 [00:00<?, ?it/s]"
      ]
     },
     "metadata": {},
     "output_type": "display_data"
    },
    {
     "name": "stdout",
     "output_type": "stream",
     "text": [
      "{'eval_loss': 2.1442465782165527, 'eval_bleu': 13.5519, 'eval_gen_len': 23.8134, 'eval_runtime': 88.2572, 'eval_samples_per_second': 9.96, 'eval_steps_per_second': 0.623, 'epoch': 10.57}\n",
      "{'loss': 1.6572, 'grad_norm': 1.0490585565567017, 'learning_rate': 0.00049, 'epoch': 10.58}\n"
     ]
    },
    {
     "data": {
      "application/vnd.jupyter.widget-view+json": {
       "model_id": "9fbada5b558940218f5ee9ffd38cf209",
       "version_major": 2,
       "version_minor": 0
      },
      "text/plain": [
       "  0%|          | 0/55 [00:00<?, ?it/s]"
      ]
     },
     "metadata": {},
     "output_type": "display_data"
    },
    {
     "name": "stdout",
     "output_type": "stream",
     "text": [
      "{'eval_loss': 2.147505521774292, 'eval_bleu': 13.9246, 'eval_gen_len': 23.7861, 'eval_runtime': 88.6287, 'eval_samples_per_second': 9.918, 'eval_steps_per_second': 0.621, 'epoch': 10.58}\n"
     ]
    },
    {
     "data": {
      "application/vnd.jupyter.widget-view+json": {
       "model_id": "8c5e8eac30af46138fc50b899012874d",
       "version_major": 2,
       "version_minor": 0
      },
      "text/plain": [
       "  0%|          | 0/55 [00:00<?, ?it/s]"
      ]
     },
     "metadata": {},
     "output_type": "display_data"
    },
    {
     "name": "stdout",
     "output_type": "stream",
     "text": [
      "{'eval_loss': 2.154139280319214, 'eval_bleu': 13.7356, 'eval_gen_len': 23.7053, 'eval_runtime': 88.0558, 'eval_samples_per_second': 9.982, 'eval_steps_per_second': 0.625, 'epoch': 10.6}\n"
     ]
    },
    {
     "data": {
      "application/vnd.jupyter.widget-view+json": {
       "model_id": "7efed17fb4f84865a485ab0731971165",
       "version_major": 2,
       "version_minor": 0
      },
      "text/plain": [
       "  0%|          | 0/55 [00:00<?, ?it/s]"
      ]
     },
     "metadata": {},
     "output_type": "display_data"
    },
    {
     "name": "stdout",
     "output_type": "stream",
     "text": [
      "{'eval_loss': 2.1427135467529297, 'eval_bleu': 13.8526, 'eval_gen_len': 23.9863, 'eval_runtime': 88.658, 'eval_samples_per_second': 9.915, 'eval_steps_per_second': 0.62, 'epoch': 10.61}\n"
     ]
    },
    {
     "data": {
      "application/vnd.jupyter.widget-view+json": {
       "model_id": "189cfcef75634e41b5a4b778e2a82938",
       "version_major": 2,
       "version_minor": 0
      },
      "text/plain": [
       "  0%|          | 0/55 [00:00<?, ?it/s]"
      ]
     },
     "metadata": {},
     "output_type": "display_data"
    },
    {
     "name": "stdout",
     "output_type": "stream",
     "text": [
      "{'eval_loss': 2.1433017253875732, 'eval_bleu': 13.9108, 'eval_gen_len': 24.0023, 'eval_runtime': 87.9177, 'eval_samples_per_second': 9.998, 'eval_steps_per_second': 0.626, 'epoch': 10.63}\n"
     ]
    },
    {
     "data": {
      "application/vnd.jupyter.widget-view+json": {
       "model_id": "5625739cfd14401399eaa6836fbd4807",
       "version_major": 2,
       "version_minor": 0
      },
      "text/plain": [
       "  0%|          | 0/55 [00:00<?, ?it/s]"
      ]
     },
     "metadata": {},
     "output_type": "display_data"
    },
    {
     "name": "stdout",
     "output_type": "stream",
     "text": [
      "{'eval_loss': 2.1422290802001953, 'eval_bleu': 13.6235, 'eval_gen_len': 23.8271, 'eval_runtime': 89.2153, 'eval_samples_per_second': 9.853, 'eval_steps_per_second': 0.616, 'epoch': 10.64}\n",
      "{'loss': 1.6484, 'grad_norm': 1.3104292154312134, 'learning_rate': 0.0004866666666666667, 'epoch': 10.65}\n"
     ]
    },
    {
     "data": {
      "application/vnd.jupyter.widget-view+json": {
       "model_id": "a4898806adc24375b04cd8fc3e279ac8",
       "version_major": 2,
       "version_minor": 0
      },
      "text/plain": [
       "  0%|          | 0/55 [00:00<?, ?it/s]"
      ]
     },
     "metadata": {},
     "output_type": "display_data"
    },
    {
     "name": "stdout",
     "output_type": "stream",
     "text": [
      "{'eval_loss': 2.1555135250091553, 'eval_bleu': 13.9378, 'eval_gen_len': 23.9954, 'eval_runtime': 88.0087, 'eval_samples_per_second': 9.988, 'eval_steps_per_second': 0.625, 'epoch': 10.65}\n"
     ]
    },
    {
     "data": {
      "application/vnd.jupyter.widget-view+json": {
       "model_id": "8dad376bb3844c19946a6b62dea00a08",
       "version_major": 2,
       "version_minor": 0
      },
      "text/plain": [
       "  0%|          | 0/55 [00:00<?, ?it/s]"
      ]
     },
     "metadata": {},
     "output_type": "display_data"
    },
    {
     "name": "stdout",
     "output_type": "stream",
     "text": [
      "{'eval_loss': 2.1431448459625244, 'eval_bleu': 13.6987, 'eval_gen_len': 23.9317, 'eval_runtime': 88.2419, 'eval_samples_per_second': 9.961, 'eval_steps_per_second': 0.623, 'epoch': 10.67}\n"
     ]
    },
    {
     "data": {
      "application/vnd.jupyter.widget-view+json": {
       "model_id": "8dbf21929d0e43ef8bc4387cb0dc2395",
       "version_major": 2,
       "version_minor": 0
      },
      "text/plain": [
       "  0%|          | 0/55 [00:00<?, ?it/s]"
      ]
     },
     "metadata": {},
     "output_type": "display_data"
    },
    {
     "name": "stdout",
     "output_type": "stream",
     "text": [
      "{'eval_loss': 2.141777515411377, 'eval_bleu': 13.3568, 'eval_gen_len': 23.8237, 'eval_runtime': 88.6368, 'eval_samples_per_second': 9.917, 'eval_steps_per_second': 0.621, 'epoch': 10.68}\n"
     ]
    },
    {
     "data": {
      "application/vnd.jupyter.widget-view+json": {
       "model_id": "ee4c27337f4b4d618b2c8a72d9a8189a",
       "version_major": 2,
       "version_minor": 0
      },
      "text/plain": [
       "  0%|          | 0/55 [00:00<?, ?it/s]"
      ]
     },
     "metadata": {},
     "output_type": "display_data"
    },
    {
     "name": "stdout",
     "output_type": "stream",
     "text": [
      "{'eval_loss': 2.1462669372558594, 'eval_bleu': 13.6485, 'eval_gen_len': 23.8805, 'eval_runtime': 89.1861, 'eval_samples_per_second': 9.856, 'eval_steps_per_second': 0.617, 'epoch': 10.7}\n"
     ]
    },
    {
     "data": {
      "application/vnd.jupyter.widget-view+json": {
       "model_id": "82676870d0214aec96447e9c66be624b",
       "version_major": 2,
       "version_minor": 0
      },
      "text/plain": [
       "  0%|          | 0/55 [00:00<?, ?it/s]"
      ]
     },
     "metadata": {},
     "output_type": "display_data"
    },
    {
     "name": "stdout",
     "output_type": "stream",
     "text": [
      "{'eval_loss': 2.1386451721191406, 'eval_bleu': 13.5659, 'eval_gen_len': 23.843, 'eval_runtime': 89.1347, 'eval_samples_per_second': 9.861, 'eval_steps_per_second': 0.617, 'epoch': 10.71}\n",
      "{'loss': 1.6509, 'grad_norm': 1.1083552837371826, 'learning_rate': 0.00048333333333333334, 'epoch': 10.72}\n"
     ]
    },
    {
     "data": {
      "application/vnd.jupyter.widget-view+json": {
       "model_id": "75ab050e974b4eb6bf7cb5ce33952db7",
       "version_major": 2,
       "version_minor": 0
      },
      "text/plain": [
       "  0%|          | 0/55 [00:00<?, ?it/s]"
      ]
     },
     "metadata": {},
     "output_type": "display_data"
    },
    {
     "name": "stdout",
     "output_type": "stream",
     "text": [
      "{'eval_loss': 2.140287399291992, 'eval_bleu': 13.8171, 'eval_gen_len': 23.8601, 'eval_runtime': 88.6626, 'eval_samples_per_second': 9.914, 'eval_steps_per_second': 0.62, 'epoch': 10.72}\n"
     ]
    },
    {
     "data": {
      "application/vnd.jupyter.widget-view+json": {
       "model_id": "9188dec7f01c4aa482435b74d72f3949",
       "version_major": 2,
       "version_minor": 0
      },
      "text/plain": [
       "  0%|          | 0/55 [00:00<?, ?it/s]"
      ]
     },
     "metadata": {},
     "output_type": "display_data"
    },
    {
     "name": "stdout",
     "output_type": "stream",
     "text": [
      "{'eval_loss': 2.1386663913726807, 'eval_bleu': 13.5396, 'eval_gen_len': 23.6507, 'eval_runtime': 88.8468, 'eval_samples_per_second': 9.893, 'eval_steps_per_second': 0.619, 'epoch': 10.74}\n"
     ]
    },
    {
     "data": {
      "application/vnd.jupyter.widget-view+json": {
       "model_id": "a46a7ae33c664ef2adec5455d58ba1ed",
       "version_major": 2,
       "version_minor": 0
      },
      "text/plain": [
       "  0%|          | 0/55 [00:00<?, ?it/s]"
      ]
     },
     "metadata": {},
     "output_type": "display_data"
    },
    {
     "name": "stdout",
     "output_type": "stream",
     "text": [
      "{'eval_loss': 2.139134168624878, 'eval_bleu': 13.8982, 'eval_gen_len': 23.9511, 'eval_runtime': 88.7303, 'eval_samples_per_second': 9.906, 'eval_steps_per_second': 0.62, 'epoch': 10.75}\n"
     ]
    },
    {
     "data": {
      "application/vnd.jupyter.widget-view+json": {
       "model_id": "dc495662a2474038b6c884b99b1ecaf7",
       "version_major": 2,
       "version_minor": 0
      },
      "text/plain": [
       "  0%|          | 0/55 [00:00<?, ?it/s]"
      ]
     },
     "metadata": {},
     "output_type": "display_data"
    },
    {
     "name": "stdout",
     "output_type": "stream",
     "text": [
      "{'eval_loss': 2.146209478378296, 'eval_bleu': 13.7303, 'eval_gen_len': 23.9056, 'eval_runtime': 88.9874, 'eval_samples_per_second': 9.878, 'eval_steps_per_second': 0.618, 'epoch': 10.76}\n"
     ]
    },
    {
     "data": {
      "application/vnd.jupyter.widget-view+json": {
       "model_id": "4e54d722a99b41b2b3088889e4c74ee6",
       "version_major": 2,
       "version_minor": 0
      },
      "text/plain": [
       "  0%|          | 0/55 [00:00<?, ?it/s]"
      ]
     },
     "metadata": {},
     "output_type": "display_data"
    },
    {
     "name": "stdout",
     "output_type": "stream",
     "text": [
      "{'eval_loss': 2.145627498626709, 'eval_bleu': 13.3805, 'eval_gen_len': 24.0046, 'eval_runtime': 88.1615, 'eval_samples_per_second': 9.97, 'eval_steps_per_second': 0.624, 'epoch': 10.78}\n",
      "{'loss': 1.6503, 'grad_norm': 1.7058930397033691, 'learning_rate': 0.00048, 'epoch': 10.79}\n"
     ]
    },
    {
     "data": {
      "application/vnd.jupyter.widget-view+json": {
       "model_id": "218fed796a9b4ac3bd71cfcfa5c75dc2",
       "version_major": 2,
       "version_minor": 0
      },
      "text/plain": [
       "  0%|          | 0/55 [00:00<?, ?it/s]"
      ]
     },
     "metadata": {},
     "output_type": "display_data"
    },
    {
     "name": "stdout",
     "output_type": "stream",
     "text": [
      "{'eval_loss': 2.1480674743652344, 'eval_bleu': 13.712, 'eval_gen_len': 24.0671, 'eval_runtime': 88.3376, 'eval_samples_per_second': 9.95, 'eval_steps_per_second': 0.623, 'epoch': 10.79}\n"
     ]
    },
    {
     "data": {
      "application/vnd.jupyter.widget-view+json": {
       "model_id": "e8162cd1e94a49bab85cf619c25b5843",
       "version_major": 2,
       "version_minor": 0
      },
      "text/plain": [
       "  0%|          | 0/55 [00:00<?, ?it/s]"
      ]
     },
     "metadata": {},
     "output_type": "display_data"
    },
    {
     "name": "stdout",
     "output_type": "stream",
     "text": [
      "{'eval_loss': 2.141347646713257, 'eval_bleu': 13.8748, 'eval_gen_len': 23.8464, 'eval_runtime': 89.0451, 'eval_samples_per_second': 9.871, 'eval_steps_per_second': 0.618, 'epoch': 10.81}\n"
     ]
    },
    {
     "data": {
      "application/vnd.jupyter.widget-view+json": {
       "model_id": "c1d0fcfc0beb483ab2993869b5c8469f",
       "version_major": 2,
       "version_minor": 0
      },
      "text/plain": [
       "  0%|          | 0/55 [00:00<?, ?it/s]"
      ]
     },
     "metadata": {},
     "output_type": "display_data"
    },
    {
     "name": "stdout",
     "output_type": "stream",
     "text": [
      "{'eval_loss': 2.1446540355682373, 'eval_bleu': 13.8485, 'eval_gen_len': 23.8817, 'eval_runtime': 88.3509, 'eval_samples_per_second': 9.949, 'eval_steps_per_second': 0.623, 'epoch': 10.82}\n"
     ]
    },
    {
     "data": {
      "application/vnd.jupyter.widget-view+json": {
       "model_id": "28be016abf1340178d814272a7125d04",
       "version_major": 2,
       "version_minor": 0
      },
      "text/plain": [
       "  0%|          | 0/55 [00:00<?, ?it/s]"
      ]
     },
     "metadata": {},
     "output_type": "display_data"
    },
    {
     "name": "stdout",
     "output_type": "stream",
     "text": [
      "{'eval_loss': 2.1380226612091064, 'eval_bleu': 13.8909, 'eval_gen_len': 23.8203, 'eval_runtime': 88.6309, 'eval_samples_per_second': 9.918, 'eval_steps_per_second': 0.621, 'epoch': 10.83}\n"
     ]
    },
    {
     "data": {
      "application/vnd.jupyter.widget-view+json": {
       "model_id": "76a356d21ae5496a9f9e894d52176e44",
       "version_major": 2,
       "version_minor": 0
      },
      "text/plain": [
       "  0%|          | 0/55 [00:00<?, ?it/s]"
      ]
     },
     "metadata": {},
     "output_type": "display_data"
    },
    {
     "name": "stdout",
     "output_type": "stream",
     "text": [
      "{'eval_loss': 2.149031400680542, 'eval_bleu': 13.8531, 'eval_gen_len': 23.8134, 'eval_runtime': 88.3429, 'eval_samples_per_second': 9.95, 'eval_steps_per_second': 0.623, 'epoch': 10.85}\n",
      "{'loss': 1.655, 'grad_norm': 1.114542841911316, 'learning_rate': 0.0004766666666666667, 'epoch': 10.86}\n"
     ]
    },
    {
     "data": {
      "application/vnd.jupyter.widget-view+json": {
       "model_id": "b44c17816616443caa5ee639a64d8bba",
       "version_major": 2,
       "version_minor": 0
      },
      "text/plain": [
       "  0%|          | 0/55 [00:00<?, ?it/s]"
      ]
     },
     "metadata": {},
     "output_type": "display_data"
    },
    {
     "name": "stdout",
     "output_type": "stream",
     "text": [
      "{'eval_loss': 2.1478710174560547, 'eval_bleu': 13.9013, 'eval_gen_len': 23.81, 'eval_runtime': 88.4588, 'eval_samples_per_second': 9.937, 'eval_steps_per_second': 0.622, 'epoch': 10.86}\n"
     ]
    },
    {
     "data": {
      "application/vnd.jupyter.widget-view+json": {
       "model_id": "fb7f12c66471437fbaf16692615203a1",
       "version_major": 2,
       "version_minor": 0
      },
      "text/plain": [
       "  0%|          | 0/55 [00:00<?, ?it/s]"
      ]
     },
     "metadata": {},
     "output_type": "display_data"
    },
    {
     "name": "stdout",
     "output_type": "stream",
     "text": [
      "{'eval_loss': 2.148509979248047, 'eval_bleu': 13.1443, 'eval_gen_len': 23.6917, 'eval_runtime': 88.3015, 'eval_samples_per_second': 9.955, 'eval_steps_per_second': 0.623, 'epoch': 10.88}\n"
     ]
    },
    {
     "data": {
      "application/vnd.jupyter.widget-view+json": {
       "model_id": "c6e489209cd94d5ca765969e52a65dbe",
       "version_major": 2,
       "version_minor": 0
      },
      "text/plain": [
       "  0%|          | 0/55 [00:00<?, ?it/s]"
      ]
     },
     "metadata": {},
     "output_type": "display_data"
    },
    {
     "name": "stdout",
     "output_type": "stream",
     "text": [
      "{'eval_loss': 2.1414332389831543, 'eval_bleu': 13.4248, 'eval_gen_len': 23.9317, 'eval_runtime': 88.1463, 'eval_samples_per_second': 9.972, 'eval_steps_per_second': 0.624, 'epoch': 10.89}\n"
     ]
    },
    {
     "data": {
      "application/vnd.jupyter.widget-view+json": {
       "model_id": "8794a85442fe4d0987cb0f4fc1fc1c36",
       "version_major": 2,
       "version_minor": 0
      },
      "text/plain": [
       "  0%|          | 0/55 [00:00<?, ?it/s]"
      ]
     },
     "metadata": {},
     "output_type": "display_data"
    },
    {
     "name": "stdout",
     "output_type": "stream",
     "text": [
      "{'eval_loss': 2.1432862281799316, 'eval_bleu': 13.233, 'eval_gen_len': 23.7452, 'eval_runtime': 87.67, 'eval_samples_per_second': 10.026, 'eval_steps_per_second': 0.627, 'epoch': 10.9}\n"
     ]
    },
    {
     "data": {
      "application/vnd.jupyter.widget-view+json": {
       "model_id": "95fe55292ef349f2a712c07eb40b703b",
       "version_major": 2,
       "version_minor": 0
      },
      "text/plain": [
       "  0%|          | 0/55 [00:00<?, ?it/s]"
      ]
     },
     "metadata": {},
     "output_type": "display_data"
    },
    {
     "name": "stdout",
     "output_type": "stream",
     "text": [
      "{'eval_loss': 2.1381032466888428, 'eval_bleu': 13.6343, 'eval_gen_len': 23.7668, 'eval_runtime': 88.4707, 'eval_samples_per_second': 9.935, 'eval_steps_per_second': 0.622, 'epoch': 10.92}\n",
      "{'loss': 1.6626, 'grad_norm': 0.9211755394935608, 'learning_rate': 0.00047333333333333336, 'epoch': 10.93}\n"
     ]
    },
    {
     "data": {
      "application/vnd.jupyter.widget-view+json": {
       "model_id": "9ee15758a1b74453a865f5eab6785517",
       "version_major": 2,
       "version_minor": 0
      },
      "text/plain": [
       "  0%|          | 0/55 [00:00<?, ?it/s]"
      ]
     },
     "metadata": {},
     "output_type": "display_data"
    },
    {
     "name": "stdout",
     "output_type": "stream",
     "text": [
      "{'eval_loss': 2.1421327590942383, 'eval_bleu': 13.4186, 'eval_gen_len': 23.7554, 'eval_runtime': 88.3197, 'eval_samples_per_second': 9.952, 'eval_steps_per_second': 0.623, 'epoch': 10.93}\n"
     ]
    },
    {
     "data": {
      "application/vnd.jupyter.widget-view+json": {
       "model_id": "3af4c6d556c340b39514902c8a144f28",
       "version_major": 2,
       "version_minor": 0
      },
      "text/plain": [
       "  0%|          | 0/55 [00:00<?, ?it/s]"
      ]
     },
     "metadata": {},
     "output_type": "display_data"
    },
    {
     "name": "stdout",
     "output_type": "stream",
     "text": [
      "{'eval_loss': 2.148129940032959, 'eval_bleu': 13.4395, 'eval_gen_len': 23.8077, 'eval_runtime': 88.157, 'eval_samples_per_second': 9.971, 'eval_steps_per_second': 0.624, 'epoch': 10.94}\n"
     ]
    },
    {
     "data": {
      "application/vnd.jupyter.widget-view+json": {
       "model_id": "2f62059ff6b94389a71f65555049762a",
       "version_major": 2,
       "version_minor": 0
      },
      "text/plain": [
       "  0%|          | 0/55 [00:00<?, ?it/s]"
      ]
     },
     "metadata": {},
     "output_type": "display_data"
    },
    {
     "name": "stdout",
     "output_type": "stream",
     "text": [
      "{'eval_loss': 2.1470980644226074, 'eval_bleu': 13.577, 'eval_gen_len': 24.0102, 'eval_runtime': 88.8106, 'eval_samples_per_second': 9.897, 'eval_steps_per_second': 0.619, 'epoch': 10.96}\n"
     ]
    },
    {
     "data": {
      "application/vnd.jupyter.widget-view+json": {
       "model_id": "cf0073f3ba384ac3952b8778bf6d3824",
       "version_major": 2,
       "version_minor": 0
      },
      "text/plain": [
       "  0%|          | 0/55 [00:00<?, ?it/s]"
      ]
     },
     "metadata": {},
     "output_type": "display_data"
    },
    {
     "name": "stdout",
     "output_type": "stream",
     "text": [
      "{'eval_loss': 2.1357669830322266, 'eval_bleu': 13.4183, 'eval_gen_len': 23.62, 'eval_runtime': 87.8415, 'eval_samples_per_second': 10.007, 'eval_steps_per_second': 0.626, 'epoch': 10.97}\n"
     ]
    },
    {
     "data": {
      "application/vnd.jupyter.widget-view+json": {
       "model_id": "f28c7335861149d285849eb53a6f7c42",
       "version_major": 2,
       "version_minor": 0
      },
      "text/plain": [
       "  0%|          | 0/55 [00:00<?, ?it/s]"
      ]
     },
     "metadata": {},
     "output_type": "display_data"
    },
    {
     "name": "stdout",
     "output_type": "stream",
     "text": [
      "{'eval_loss': 2.134995698928833, 'eval_bleu': 13.7917, 'eval_gen_len': 23.9022, 'eval_runtime': 89.5411, 'eval_samples_per_second': 9.817, 'eval_steps_per_second': 0.614, 'epoch': 10.99}\n",
      "{'loss': 1.6645, 'grad_norm': 1.1316736936569214, 'learning_rate': 0.00047, 'epoch': 11.0}\n"
     ]
    },
    {
     "data": {
      "application/vnd.jupyter.widget-view+json": {
       "model_id": "c491a020a21248e1baca599d6e70beb8",
       "version_major": 2,
       "version_minor": 0
      },
      "text/plain": [
       "  0%|          | 0/55 [00:00<?, ?it/s]"
      ]
     },
     "metadata": {},
     "output_type": "display_data"
    },
    {
     "name": "stdout",
     "output_type": "stream",
     "text": [
      "{'eval_loss': 2.131105661392212, 'eval_bleu': 13.6201, 'eval_gen_len': 23.7349, 'eval_runtime': 90.5593, 'eval_samples_per_second': 9.706, 'eval_steps_per_second': 0.607, 'epoch': 11.0}\n"
     ]
    },
    {
     "data": {
      "application/vnd.jupyter.widget-view+json": {
       "model_id": "1e9fb25d4a2e428e89e96bb5cbb2cb55",
       "version_major": 2,
       "version_minor": 0
      },
      "text/plain": [
       "  0%|          | 0/55 [00:00<?, ?it/s]"
      ]
     },
     "metadata": {},
     "output_type": "display_data"
    },
    {
     "name": "stdout",
     "output_type": "stream",
     "text": [
      "{'eval_loss': 2.165459156036377, 'eval_bleu': 13.7228, 'eval_gen_len': 23.7565, 'eval_runtime': 88.7065, 'eval_samples_per_second': 9.909, 'eval_steps_per_second': 0.62, 'epoch': 11.01}\n"
     ]
    },
    {
     "data": {
      "application/vnd.jupyter.widget-view+json": {
       "model_id": "a9bd28d23fe344a8b0a038c313c5274c",
       "version_major": 2,
       "version_minor": 0
      },
      "text/plain": [
       "  0%|          | 0/55 [00:00<?, ?it/s]"
      ]
     },
     "metadata": {},
     "output_type": "display_data"
    },
    {
     "name": "stdout",
     "output_type": "stream",
     "text": [
      "{'eval_loss': 2.177304267883301, 'eval_bleu': 13.594, 'eval_gen_len': 23.727, 'eval_runtime': 88.2807, 'eval_samples_per_second': 9.957, 'eval_steps_per_second': 0.623, 'epoch': 11.03}\n"
     ]
    },
    {
     "data": {
      "application/vnd.jupyter.widget-view+json": {
       "model_id": "df648a2d024344cd9539bac125a40161",
       "version_major": 2,
       "version_minor": 0
      },
      "text/plain": [
       "  0%|          | 0/55 [00:00<?, ?it/s]"
      ]
     },
     "metadata": {},
     "output_type": "display_data"
    },
    {
     "name": "stdout",
     "output_type": "stream",
     "text": [
      "{'eval_loss': 2.1689612865448, 'eval_bleu': 13.2728, 'eval_gen_len': 23.7247, 'eval_runtime': 88.1532, 'eval_samples_per_second': 9.971, 'eval_steps_per_second': 0.624, 'epoch': 11.04}\n"
     ]
    },
    {
     "data": {
      "application/vnd.jupyter.widget-view+json": {
       "model_id": "2993444a6b84445fb6cd4c16374326bd",
       "version_major": 2,
       "version_minor": 0
      },
      "text/plain": [
       "  0%|          | 0/55 [00:00<?, ?it/s]"
      ]
     },
     "metadata": {},
     "output_type": "display_data"
    },
    {
     "name": "stdout",
     "output_type": "stream",
     "text": [
      "{'eval_loss': 2.1700308322906494, 'eval_bleu': 13.4516, 'eval_gen_len': 23.8316, 'eval_runtime': 88.8844, 'eval_samples_per_second': 9.889, 'eval_steps_per_second': 0.619, 'epoch': 11.05}\n",
      "{'loss': 1.5187, 'grad_norm': 1.326309084892273, 'learning_rate': 0.00046666666666666666, 'epoch': 11.07}\n"
     ]
    },
    {
     "data": {
      "application/vnd.jupyter.widget-view+json": {
       "model_id": "1f1b8b89e42247a786bb79177c286cc2",
       "version_major": 2,
       "version_minor": 0
      },
      "text/plain": [
       "  0%|          | 0/55 [00:00<?, ?it/s]"
      ]
     },
     "metadata": {},
     "output_type": "display_data"
    },
    {
     "name": "stdout",
     "output_type": "stream",
     "text": [
      "{'eval_loss': 2.165727376937866, 'eval_bleu': 13.2693, 'eval_gen_len': 23.8612, 'eval_runtime': 88.6933, 'eval_samples_per_second': 9.911, 'eval_steps_per_second': 0.62, 'epoch': 11.07}\n"
     ]
    },
    {
     "data": {
      "application/vnd.jupyter.widget-view+json": {
       "model_id": "d35b93fd65504155854eeeb8a6505c5d",
       "version_major": 2,
       "version_minor": 0
      },
      "text/plain": [
       "  0%|          | 0/55 [00:00<?, ?it/s]"
      ]
     },
     "metadata": {},
     "output_type": "display_data"
    },
    {
     "name": "stdout",
     "output_type": "stream",
     "text": [
      "{'eval_loss': 2.1773908138275146, 'eval_bleu': 13.1176, 'eval_gen_len': 24.0478, 'eval_runtime': 88.4996, 'eval_samples_per_second': 9.932, 'eval_steps_per_second': 0.621, 'epoch': 11.08}\n"
     ]
    },
    {
     "data": {
      "application/vnd.jupyter.widget-view+json": {
       "model_id": "b4d169d7ab4d4bd19bf84c9ab8820848",
       "version_major": 2,
       "version_minor": 0
      },
      "text/plain": [
       "  0%|          | 0/55 [00:00<?, ?it/s]"
      ]
     },
     "metadata": {},
     "output_type": "display_data"
    },
    {
     "name": "stdout",
     "output_type": "stream",
     "text": [
      "{'eval_loss': 2.175631523132324, 'eval_bleu': 13.5805, 'eval_gen_len': 23.5552, 'eval_runtime': 88.8973, 'eval_samples_per_second': 9.888, 'eval_steps_per_second': 0.619, 'epoch': 11.1}\n"
     ]
    },
    {
     "data": {
      "application/vnd.jupyter.widget-view+json": {
       "model_id": "b5f0e00155ab42a195cb9cc1a7131076",
       "version_major": 2,
       "version_minor": 0
      },
      "text/plain": [
       "  0%|          | 0/55 [00:00<?, ?it/s]"
      ]
     },
     "metadata": {},
     "output_type": "display_data"
    },
    {
     "name": "stdout",
     "output_type": "stream",
     "text": [
      "{'eval_loss': 2.178255319595337, 'eval_bleu': 13.648, 'eval_gen_len': 23.686, 'eval_runtime': 87.6136, 'eval_samples_per_second': 10.033, 'eval_steps_per_second': 0.628, 'epoch': 11.11}\n"
     ]
    },
    {
     "data": {
      "application/vnd.jupyter.widget-view+json": {
       "model_id": "6a0685b320ce4ac0a05af8675e458fa1",
       "version_major": 2,
       "version_minor": 0
      },
      "text/plain": [
       "  0%|          | 0/55 [00:00<?, ?it/s]"
      ]
     },
     "metadata": {},
     "output_type": "display_data"
    },
    {
     "name": "stdout",
     "output_type": "stream",
     "text": [
      "{'eval_loss': 2.1692535877227783, 'eval_bleu': 13.3607, 'eval_gen_len': 23.8225, 'eval_runtime': 88.8772, 'eval_samples_per_second': 9.89, 'eval_steps_per_second': 0.619, 'epoch': 11.12}\n",
      "{'loss': 1.5324, 'grad_norm': 1.1620030403137207, 'learning_rate': 0.00046333333333333334, 'epoch': 11.14}\n"
     ]
    },
    {
     "data": {
      "application/vnd.jupyter.widget-view+json": {
       "model_id": "039cacd9ddf343818c44ea5f680be9ee",
       "version_major": 2,
       "version_minor": 0
      },
      "text/plain": [
       "  0%|          | 0/55 [00:00<?, ?it/s]"
      ]
     },
     "metadata": {},
     "output_type": "display_data"
    },
    {
     "name": "stdout",
     "output_type": "stream",
     "text": [
      "{'eval_loss': 2.16339373588562, 'eval_bleu': 13.6253, 'eval_gen_len': 23.719, 'eval_runtime': 88.9007, 'eval_samples_per_second': 9.887, 'eval_steps_per_second': 0.619, 'epoch': 11.14}\n"
     ]
    },
    {
     "data": {
      "application/vnd.jupyter.widget-view+json": {
       "model_id": "0dc0810c10294615aba5ef27392d4393",
       "version_major": 2,
       "version_minor": 0
      },
      "text/plain": [
       "  0%|          | 0/55 [00:00<?, ?it/s]"
      ]
     },
     "metadata": {},
     "output_type": "display_data"
    },
    {
     "name": "stdout",
     "output_type": "stream",
     "text": [
      "{'eval_loss': 2.165733575820923, 'eval_bleu': 13.3632, 'eval_gen_len': 23.8896, 'eval_runtime': 88.38, 'eval_samples_per_second': 9.946, 'eval_steps_per_second': 0.622, 'epoch': 11.15}\n"
     ]
    },
    {
     "data": {
      "application/vnd.jupyter.widget-view+json": {
       "model_id": "276c83eaaa3b4e7ca94d59e7b9d19ea9",
       "version_major": 2,
       "version_minor": 0
      },
      "text/plain": [
       "  0%|          | 0/55 [00:00<?, ?it/s]"
      ]
     },
     "metadata": {},
     "output_type": "display_data"
    },
    {
     "name": "stdout",
     "output_type": "stream",
     "text": [
      "{'eval_loss': 2.1807985305786133, 'eval_bleu': 13.5509, 'eval_gen_len': 23.6553, 'eval_runtime': 87.8379, 'eval_samples_per_second': 10.007, 'eval_steps_per_second': 0.626, 'epoch': 11.17}\n"
     ]
    },
    {
     "data": {
      "application/vnd.jupyter.widget-view+json": {
       "model_id": "17caea90764842a0be2decdbaaea04d0",
       "version_major": 2,
       "version_minor": 0
      },
      "text/plain": [
       "  0%|          | 0/55 [00:00<?, ?it/s]"
      ]
     },
     "metadata": {},
     "output_type": "display_data"
    },
    {
     "name": "stdout",
     "output_type": "stream",
     "text": [
      "{'eval_loss': 2.1675994396209717, 'eval_bleu': 13.8241, 'eval_gen_len': 23.7884, 'eval_runtime': 88.3839, 'eval_samples_per_second': 9.945, 'eval_steps_per_second': 0.622, 'epoch': 11.18}\n"
     ]
    },
    {
     "data": {
      "application/vnd.jupyter.widget-view+json": {
       "model_id": "3afec8f16e13431a9e4a3aaf0b55dab5",
       "version_major": 2,
       "version_minor": 0
      },
      "text/plain": [
       "  0%|          | 0/55 [00:00<?, ?it/s]"
      ]
     },
     "metadata": {},
     "output_type": "display_data"
    },
    {
     "name": "stdout",
     "output_type": "stream",
     "text": [
      "{'eval_loss': 2.173839807510376, 'eval_bleu': 13.3807, 'eval_gen_len': 23.7235, 'eval_runtime': 88.747, 'eval_samples_per_second': 9.905, 'eval_steps_per_second': 0.62, 'epoch': 11.19}\n",
      "{'loss': 1.5452, 'grad_norm': 1.4448322057724, 'learning_rate': 0.00046, 'epoch': 11.21}\n"
     ]
    },
    {
     "data": {
      "application/vnd.jupyter.widget-view+json": {
       "model_id": "da41f687f4304b67a06456496cb84372",
       "version_major": 2,
       "version_minor": 0
      },
      "text/plain": [
       "  0%|          | 0/55 [00:00<?, ?it/s]"
      ]
     },
     "metadata": {},
     "output_type": "display_data"
    },
    {
     "name": "stdout",
     "output_type": "stream",
     "text": [
      "{'eval_loss': 2.1693027019500732, 'eval_bleu': 13.2793, 'eval_gen_len': 23.818, 'eval_runtime': 88.4029, 'eval_samples_per_second': 9.943, 'eval_steps_per_second': 0.622, 'epoch': 11.21}\n"
     ]
    },
    {
     "data": {
      "application/vnd.jupyter.widget-view+json": {
       "model_id": "4139e6fd2691424597b3253d74067587",
       "version_major": 2,
       "version_minor": 0
      },
      "text/plain": [
       "  0%|          | 0/55 [00:00<?, ?it/s]"
      ]
     },
     "metadata": {},
     "output_type": "display_data"
    },
    {
     "name": "stdout",
     "output_type": "stream",
     "text": [
      "{'eval_loss': 2.182711362838745, 'eval_bleu': 13.3281, 'eval_gen_len': 23.8168, 'eval_runtime': 89.1594, 'eval_samples_per_second': 9.859, 'eval_steps_per_second': 0.617, 'epoch': 11.22}\n"
     ]
    },
    {
     "data": {
      "application/vnd.jupyter.widget-view+json": {
       "model_id": "de96cd1fc0ce4c119bb2d4a22f724288",
       "version_major": 2,
       "version_minor": 0
      },
      "text/plain": [
       "  0%|          | 0/55 [00:00<?, ?it/s]"
      ]
     },
     "metadata": {},
     "output_type": "display_data"
    },
    {
     "name": "stdout",
     "output_type": "stream",
     "text": [
      "{'eval_loss': 2.1762266159057617, 'eval_bleu': 13.7701, 'eval_gen_len': 23.9545, 'eval_runtime': 89.0543, 'eval_samples_per_second': 9.87, 'eval_steps_per_second': 0.618, 'epoch': 11.23}\n"
     ]
    },
    {
     "data": {
      "application/vnd.jupyter.widget-view+json": {
       "model_id": "c270e70eaecf425f90de70a8d3033ce6",
       "version_major": 2,
       "version_minor": 0
      },
      "text/plain": [
       "  0%|          | 0/55 [00:00<?, ?it/s]"
      ]
     },
     "metadata": {},
     "output_type": "display_data"
    },
    {
     "name": "stdout",
     "output_type": "stream",
     "text": [
      "{'eval_loss': 2.1809074878692627, 'eval_bleu': 13.8046, 'eval_gen_len': 23.8828, 'eval_runtime': 88.0452, 'eval_samples_per_second': 9.984, 'eval_steps_per_second': 0.625, 'epoch': 11.25}\n"
     ]
    },
    {
     "data": {
      "application/vnd.jupyter.widget-view+json": {
       "model_id": "c82ce1fcffc64a00afd70e7184d1860e",
       "version_major": 2,
       "version_minor": 0
      },
      "text/plain": [
       "  0%|          | 0/55 [00:00<?, ?it/s]"
      ]
     },
     "metadata": {},
     "output_type": "display_data"
    },
    {
     "name": "stdout",
     "output_type": "stream",
     "text": [
      "{'eval_loss': 2.171445608139038, 'eval_bleu': 13.5375, 'eval_gen_len': 23.9579, 'eval_runtime': 89.2628, 'eval_samples_per_second': 9.847, 'eval_steps_per_second': 0.616, 'epoch': 11.26}\n",
      "{'loss': 1.5516, 'grad_norm': 0.9168345928192139, 'learning_rate': 0.0004566666666666667, 'epoch': 11.28}\n"
     ]
    },
    {
     "data": {
      "application/vnd.jupyter.widget-view+json": {
       "model_id": "1820aca3b6da4282acf9bbcab9673b6a",
       "version_major": 2,
       "version_minor": 0
      },
      "text/plain": [
       "  0%|          | 0/55 [00:00<?, ?it/s]"
      ]
     },
     "metadata": {},
     "output_type": "display_data"
    },
    {
     "name": "stdout",
     "output_type": "stream",
     "text": [
      "{'eval_loss': 2.1704115867614746, 'eval_bleu': 13.9437, 'eval_gen_len': 23.8862, 'eval_runtime': 88.0572, 'eval_samples_per_second': 9.982, 'eval_steps_per_second': 0.625, 'epoch': 11.28}\n"
     ]
    },
    {
     "data": {
      "application/vnd.jupyter.widget-view+json": {
       "model_id": "32f306d371f14843b17409091af47bc6",
       "version_major": 2,
       "version_minor": 0
      },
      "text/plain": [
       "  0%|          | 0/55 [00:00<?, ?it/s]"
      ]
     },
     "metadata": {},
     "output_type": "display_data"
    },
    {
     "name": "stdout",
     "output_type": "stream",
     "text": [
      "{'eval_loss': 2.164018154144287, 'eval_bleu': 13.805, 'eval_gen_len': 23.8134, 'eval_runtime': 88.5306, 'eval_samples_per_second': 9.929, 'eval_steps_per_second': 0.621, 'epoch': 11.29}\n"
     ]
    },
    {
     "data": {
      "application/vnd.jupyter.widget-view+json": {
       "model_id": "dbb2a256c6104d7592ee4d8883715bbd",
       "version_major": 2,
       "version_minor": 0
      },
      "text/plain": [
       "  0%|          | 0/55 [00:00<?, ?it/s]"
      ]
     },
     "metadata": {},
     "output_type": "display_data"
    },
    {
     "name": "stdout",
     "output_type": "stream",
     "text": [
      "{'eval_loss': 2.176182508468628, 'eval_bleu': 13.2607, 'eval_gen_len': 23.8339, 'eval_runtime': 88.422, 'eval_samples_per_second': 9.941, 'eval_steps_per_second': 0.622, 'epoch': 11.3}\n"
     ]
    },
    {
     "data": {
      "application/vnd.jupyter.widget-view+json": {
       "model_id": "b901055f842a44018f04b465d67048f7",
       "version_major": 2,
       "version_minor": 0
      },
      "text/plain": [
       "  0%|          | 0/55 [00:00<?, ?it/s]"
      ]
     },
     "metadata": {},
     "output_type": "display_data"
    },
    {
     "name": "stdout",
     "output_type": "stream",
     "text": [
      "{'eval_loss': 2.177211046218872, 'eval_bleu': 13.8011, 'eval_gen_len': 23.6883, 'eval_runtime': 88.6824, 'eval_samples_per_second': 9.912, 'eval_steps_per_second': 0.62, 'epoch': 11.32}\n"
     ]
    },
    {
     "data": {
      "application/vnd.jupyter.widget-view+json": {
       "model_id": "cff3bfe2fddc47cb8899267281d9cba2",
       "version_major": 2,
       "version_minor": 0
      },
      "text/plain": [
       "  0%|          | 0/55 [00:00<?, ?it/s]"
      ]
     },
     "metadata": {},
     "output_type": "display_data"
    },
    {
     "name": "stdout",
     "output_type": "stream",
     "text": [
      "{'eval_loss': 2.1535491943359375, 'eval_bleu': 13.9508, 'eval_gen_len': 23.7554, 'eval_runtime': 89.0318, 'eval_samples_per_second': 9.873, 'eval_steps_per_second': 0.618, 'epoch': 11.33}\n",
      "{'loss': 1.5624, 'grad_norm': 1.1809346675872803, 'learning_rate': 0.0004533333333333333, 'epoch': 11.35}\n"
     ]
    },
    {
     "data": {
      "application/vnd.jupyter.widget-view+json": {
       "model_id": "3b0b632fce144ac583955f4ba351e2a8",
       "version_major": 2,
       "version_minor": 0
      },
      "text/plain": [
       "  0%|          | 0/55 [00:00<?, ?it/s]"
      ]
     },
     "metadata": {},
     "output_type": "display_data"
    },
    {
     "name": "stdout",
     "output_type": "stream",
     "text": [
      "{'eval_loss': 2.1616857051849365, 'eval_bleu': 13.3776, 'eval_gen_len': 23.8896, 'eval_runtime': 89.4537, 'eval_samples_per_second': 9.826, 'eval_steps_per_second': 0.615, 'epoch': 11.35}\n"
     ]
    },
    {
     "data": {
      "application/vnd.jupyter.widget-view+json": {
       "model_id": "f1ae359f8ea0427082e1dd549f91a968",
       "version_major": 2,
       "version_minor": 0
      },
      "text/plain": [
       "  0%|          | 0/55 [00:00<?, ?it/s]"
      ]
     },
     "metadata": {},
     "output_type": "display_data"
    },
    {
     "name": "stdout",
     "output_type": "stream",
     "text": [
      "{'eval_loss': 2.1698224544525146, 'eval_bleu': 13.5892, 'eval_gen_len': 23.8123, 'eval_runtime': 88.4756, 'eval_samples_per_second': 9.935, 'eval_steps_per_second': 0.622, 'epoch': 11.36}\n"
     ]
    },
    {
     "data": {
      "application/vnd.jupyter.widget-view+json": {
       "model_id": "9554047963714a8ab649479e404ceb55",
       "version_major": 2,
       "version_minor": 0
      },
      "text/plain": [
       "  0%|          | 0/55 [00:00<?, ?it/s]"
      ]
     },
     "metadata": {},
     "output_type": "display_data"
    },
    {
     "name": "stdout",
     "output_type": "stream",
     "text": [
      "{'eval_loss': 2.1637911796569824, 'eval_bleu': 13.7316, 'eval_gen_len': 23.8362, 'eval_runtime': 88.1374, 'eval_samples_per_second': 9.973, 'eval_steps_per_second': 0.624, 'epoch': 11.37}\n"
     ]
    },
    {
     "data": {
      "application/vnd.jupyter.widget-view+json": {
       "model_id": "5e89a3ebc57240b69d29e547074c69f5",
       "version_major": 2,
       "version_minor": 0
      },
      "text/plain": [
       "  0%|          | 0/55 [00:00<?, ?it/s]"
      ]
     },
     "metadata": {},
     "output_type": "display_data"
    },
    {
     "name": "stdout",
     "output_type": "stream",
     "text": [
      "{'eval_loss': 2.158132553100586, 'eval_bleu': 13.7806, 'eval_gen_len': 23.9101, 'eval_runtime': 88.1601, 'eval_samples_per_second': 9.97, 'eval_steps_per_second': 0.624, 'epoch': 11.39}\n"
     ]
    },
    {
     "data": {
      "application/vnd.jupyter.widget-view+json": {
       "model_id": "83dfcba2c00046748e4c76f48c62a742",
       "version_major": 2,
       "version_minor": 0
      },
      "text/plain": [
       "  0%|          | 0/55 [00:00<?, ?it/s]"
      ]
     },
     "metadata": {},
     "output_type": "display_data"
    },
    {
     "name": "stdout",
     "output_type": "stream",
     "text": [
      "{'eval_loss': 2.161031723022461, 'eval_bleu': 13.6111, 'eval_gen_len': 23.8487, 'eval_runtime': 88.5802, 'eval_samples_per_second': 9.923, 'eval_steps_per_second': 0.621, 'epoch': 11.4}\n",
      "{'loss': 1.5674, 'grad_norm': 1.1104209423065186, 'learning_rate': 0.00045000000000000004, 'epoch': 11.41}\n"
     ]
    },
    {
     "data": {
      "application/vnd.jupyter.widget-view+json": {
       "model_id": "0bf33b23a9f24388a6339525505a7ece",
       "version_major": 2,
       "version_minor": 0
      },
      "text/plain": [
       "  0%|          | 0/55 [00:00<?, ?it/s]"
      ]
     },
     "metadata": {},
     "output_type": "display_data"
    },
    {
     "name": "stdout",
     "output_type": "stream",
     "text": [
      "{'eval_loss': 2.164991617202759, 'eval_bleu': 13.9641, 'eval_gen_len': 23.9408, 'eval_runtime': 88.3012, 'eval_samples_per_second': 9.955, 'eval_steps_per_second': 0.623, 'epoch': 11.41}\n"
     ]
    },
    {
     "data": {
      "application/vnd.jupyter.widget-view+json": {
       "model_id": "37b118da36674ec4ba45eff1d3b5f3d1",
       "version_major": 2,
       "version_minor": 0
      },
      "text/plain": [
       "  0%|          | 0/55 [00:00<?, ?it/s]"
      ]
     },
     "metadata": {},
     "output_type": "display_data"
    },
    {
     "name": "stdout",
     "output_type": "stream",
     "text": [
      "{'eval_loss': 2.1677558422088623, 'eval_bleu': 14.14, 'eval_gen_len': 23.8828, 'eval_runtime': 89.7218, 'eval_samples_per_second': 9.797, 'eval_steps_per_second': 0.613, 'epoch': 11.43}\n"
     ]
    },
    {
     "data": {
      "application/vnd.jupyter.widget-view+json": {
       "model_id": "922e27f9a95448f5810ff6467e2400db",
       "version_major": 2,
       "version_minor": 0
      },
      "text/plain": [
       "  0%|          | 0/55 [00:00<?, ?it/s]"
      ]
     },
     "metadata": {},
     "output_type": "display_data"
    },
    {
     "name": "stdout",
     "output_type": "stream",
     "text": [
      "{'eval_loss': 2.165851354598999, 'eval_bleu': 13.9703, 'eval_gen_len': 23.8874, 'eval_runtime': 88.788, 'eval_samples_per_second': 9.9, 'eval_steps_per_second': 0.619, 'epoch': 11.44}\n"
     ]
    },
    {
     "data": {
      "application/vnd.jupyter.widget-view+json": {
       "model_id": "8220a9350bc94145bbbf61bbfb54ba16",
       "version_major": 2,
       "version_minor": 0
      },
      "text/plain": [
       "  0%|          | 0/55 [00:00<?, ?it/s]"
      ]
     },
     "metadata": {},
     "output_type": "display_data"
    },
    {
     "name": "stdout",
     "output_type": "stream",
     "text": [
      "{'eval_loss': 2.147951602935791, 'eval_bleu': 13.7048, 'eval_gen_len': 23.8203, 'eval_runtime': 88.4086, 'eval_samples_per_second': 9.942, 'eval_steps_per_second': 0.622, 'epoch': 11.46}\n"
     ]
    },
    {
     "data": {
      "application/vnd.jupyter.widget-view+json": {
       "model_id": "cd731b659e6048d1b107032143005e74",
       "version_major": 2,
       "version_minor": 0
      },
      "text/plain": [
       "  0%|          | 0/55 [00:00<?, ?it/s]"
      ]
     },
     "metadata": {},
     "output_type": "display_data"
    },
    {
     "name": "stdout",
     "output_type": "stream",
     "text": [
      "{'eval_loss': 2.148257255554199, 'eval_bleu': 13.5867, 'eval_gen_len': 24.0489, 'eval_runtime': 89.1644, 'eval_samples_per_second': 9.858, 'eval_steps_per_second': 0.617, 'epoch': 11.47}\n",
      "{'loss': 1.5699, 'grad_norm': 1.249747633934021, 'learning_rate': 0.00044666666666666666, 'epoch': 11.48}\n"
     ]
    },
    {
     "data": {
      "application/vnd.jupyter.widget-view+json": {
       "model_id": "83bf6bebc2924ee0a59eb8ad661c06ac",
       "version_major": 2,
       "version_minor": 0
      },
      "text/plain": [
       "  0%|          | 0/55 [00:00<?, ?it/s]"
      ]
     },
     "metadata": {},
     "output_type": "display_data"
    },
    {
     "name": "stdout",
     "output_type": "stream",
     "text": [
      "{'eval_loss': 2.1663897037506104, 'eval_bleu': 13.7786, 'eval_gen_len': 23.8635, 'eval_runtime': 88.5313, 'eval_samples_per_second': 9.929, 'eval_steps_per_second': 0.621, 'epoch': 11.48}\n"
     ]
    },
    {
     "data": {
      "application/vnd.jupyter.widget-view+json": {
       "model_id": "58d217da91fb40018420f698800d50cd",
       "version_major": 2,
       "version_minor": 0
      },
      "text/plain": [
       "  0%|          | 0/55 [00:00<?, ?it/s]"
      ]
     },
     "metadata": {},
     "output_type": "display_data"
    },
    {
     "name": "stdout",
     "output_type": "stream",
     "text": [
      "{'eval_loss': 2.1519522666931152, 'eval_bleu': 13.8716, 'eval_gen_len': 23.7395, 'eval_runtime': 88.726, 'eval_samples_per_second': 9.907, 'eval_steps_per_second': 0.62, 'epoch': 11.5}\n"
     ]
    },
    {
     "data": {
      "application/vnd.jupyter.widget-view+json": {
       "model_id": "293f705fadf64d7487428c313e85ed99",
       "version_major": 2,
       "version_minor": 0
      },
      "text/plain": [
       "  0%|          | 0/55 [00:00<?, ?it/s]"
      ]
     },
     "metadata": {},
     "output_type": "display_data"
    },
    {
     "name": "stdout",
     "output_type": "stream",
     "text": [
      "{'eval_loss': 2.1357908248901367, 'eval_bleu': 13.8606, 'eval_gen_len': 23.8464, 'eval_runtime': 88.3551, 'eval_samples_per_second': 9.948, 'eval_steps_per_second': 0.622, 'epoch': 11.51}\n"
     ]
    },
    {
     "data": {
      "application/vnd.jupyter.widget-view+json": {
       "model_id": "757e9a74d74f482c8d9bec2de0da1543",
       "version_major": 2,
       "version_minor": 0
      },
      "text/plain": [
       "  0%|          | 0/55 [00:00<?, ?it/s]"
      ]
     },
     "metadata": {},
     "output_type": "display_data"
    },
    {
     "name": "stdout",
     "output_type": "stream",
     "text": [
      "{'eval_loss': 2.1522409915924072, 'eval_bleu': 14.0213, 'eval_gen_len': 23.6041, 'eval_runtime': 88.6194, 'eval_samples_per_second': 9.919, 'eval_steps_per_second': 0.621, 'epoch': 11.53}\n"
     ]
    },
    {
     "data": {
      "application/vnd.jupyter.widget-view+json": {
       "model_id": "39ab3298d573491d95d9e5cd9fa1526f",
       "version_major": 2,
       "version_minor": 0
      },
      "text/plain": [
       "  0%|          | 0/55 [00:00<?, ?it/s]"
      ]
     },
     "metadata": {},
     "output_type": "display_data"
    },
    {
     "name": "stdout",
     "output_type": "stream",
     "text": [
      "{'eval_loss': 2.1511123180389404, 'eval_bleu': 13.7763, 'eval_gen_len': 23.76, 'eval_runtime': 88.7726, 'eval_samples_per_second': 9.902, 'eval_steps_per_second': 0.62, 'epoch': 11.54}\n",
      "{'loss': 1.5659, 'grad_norm': 1.2873386144638062, 'learning_rate': 0.00044333333333333334, 'epoch': 11.55}\n"
     ]
    },
    {
     "data": {
      "application/vnd.jupyter.widget-view+json": {
       "model_id": "54b92ecf03c44e8e913544fecc3aec8d",
       "version_major": 2,
       "version_minor": 0
      },
      "text/plain": [
       "  0%|          | 0/55 [00:00<?, ?it/s]"
      ]
     },
     "metadata": {},
     "output_type": "display_data"
    },
    {
     "name": "stdout",
     "output_type": "stream",
     "text": [
      "{'eval_loss': 2.149345636367798, 'eval_bleu': 13.7259, 'eval_gen_len': 23.8578, 'eval_runtime': 90.0914, 'eval_samples_per_second': 9.757, 'eval_steps_per_second': 0.61, 'epoch': 11.55}\n"
     ]
    },
    {
     "data": {
      "application/vnd.jupyter.widget-view+json": {
       "model_id": "1101d25a587e4b7fb2ca201f62cc0271",
       "version_major": 2,
       "version_minor": 0
      },
      "text/plain": [
       "  0%|          | 0/55 [00:00<?, ?it/s]"
      ]
     },
     "metadata": {},
     "output_type": "display_data"
    },
    {
     "name": "stdout",
     "output_type": "stream",
     "text": [
      "{'eval_loss': 2.1492836475372314, 'eval_bleu': 13.8619, 'eval_gen_len': 23.7895, 'eval_runtime': 88.539, 'eval_samples_per_second': 9.928, 'eval_steps_per_second': 0.621, 'epoch': 11.57}\n"
     ]
    },
    {
     "data": {
      "application/vnd.jupyter.widget-view+json": {
       "model_id": "cd98b037cc184780919217b7eddecfc9",
       "version_major": 2,
       "version_minor": 0
      },
      "text/plain": [
       "  0%|          | 0/55 [00:00<?, ?it/s]"
      ]
     },
     "metadata": {},
     "output_type": "display_data"
    },
    {
     "name": "stdout",
     "output_type": "stream",
     "text": [
      "{'eval_loss': 2.1533515453338623, 'eval_bleu': 13.7647, 'eval_gen_len': 23.7497, 'eval_runtime': 88.6846, 'eval_samples_per_second': 9.912, 'eval_steps_per_second': 0.62, 'epoch': 11.58}\n"
     ]
    },
    {
     "data": {
      "application/vnd.jupyter.widget-view+json": {
       "model_id": "397d01acfb5a4105b88be8a945ad8145",
       "version_major": 2,
       "version_minor": 0
      },
      "text/plain": [
       "  0%|          | 0/55 [00:00<?, ?it/s]"
      ]
     },
     "metadata": {},
     "output_type": "display_data"
    },
    {
     "name": "stdout",
     "output_type": "stream",
     "text": [
      "{'eval_loss': 2.1341779232025146, 'eval_bleu': 14.0157, 'eval_gen_len': 23.9477, 'eval_runtime': 87.9536, 'eval_samples_per_second': 9.994, 'eval_steps_per_second': 0.625, 'epoch': 11.59}\n"
     ]
    },
    {
     "data": {
      "application/vnd.jupyter.widget-view+json": {
       "model_id": "fdc865b2c626418fa16a2bd93096ee96",
       "version_major": 2,
       "version_minor": 0
      },
      "text/plain": [
       "  0%|          | 0/55 [00:00<?, ?it/s]"
      ]
     },
     "metadata": {},
     "output_type": "display_data"
    },
    {
     "name": "stdout",
     "output_type": "stream",
     "text": [
      "{'eval_loss': 2.155162811279297, 'eval_bleu': 13.7249, 'eval_gen_len': 23.8259, 'eval_runtime': 89.2045, 'eval_samples_per_second': 9.854, 'eval_steps_per_second': 0.617, 'epoch': 11.61}\n",
      "{'loss': 1.5798, 'grad_norm': 1.3993571996688843, 'learning_rate': 0.00044, 'epoch': 11.62}\n"
     ]
    },
    {
     "data": {
      "application/vnd.jupyter.widget-view+json": {
       "model_id": "87518356e57d4f53916f79f7a2619456",
       "version_major": 2,
       "version_minor": 0
      },
      "text/plain": [
       "  0%|          | 0/55 [00:00<?, ?it/s]"
      ]
     },
     "metadata": {},
     "output_type": "display_data"
    },
    {
     "name": "stdout",
     "output_type": "stream",
     "text": [
      "{'eval_loss': 2.1424882411956787, 'eval_bleu': 13.7932, 'eval_gen_len': 23.8771, 'eval_runtime': 88.059, 'eval_samples_per_second': 9.982, 'eval_steps_per_second': 0.625, 'epoch': 11.62}\n"
     ]
    },
    {
     "data": {
      "application/vnd.jupyter.widget-view+json": {
       "model_id": "29ab18f806b5495491209a00720942e2",
       "version_major": 2,
       "version_minor": 0
      },
      "text/plain": [
       "  0%|          | 0/55 [00:00<?, ?it/s]"
      ]
     },
     "metadata": {},
     "output_type": "display_data"
    },
    {
     "name": "stdout",
     "output_type": "stream",
     "text": [
      "{'eval_loss': 2.1450507640838623, 'eval_bleu': 13.7485, 'eval_gen_len': 23.9261, 'eval_runtime': 89.9166, 'eval_samples_per_second': 9.776, 'eval_steps_per_second': 0.612, 'epoch': 11.64}\n"
     ]
    },
    {
     "data": {
      "application/vnd.jupyter.widget-view+json": {
       "model_id": "4612112bd6fa42368b5214dd1e55e2a7",
       "version_major": 2,
       "version_minor": 0
      },
      "text/plain": [
       "  0%|          | 0/55 [00:00<?, ?it/s]"
      ]
     },
     "metadata": {},
     "output_type": "display_data"
    },
    {
     "name": "stdout",
     "output_type": "stream",
     "text": [
      "{'eval_loss': 2.1449105739593506, 'eval_bleu': 13.6271, 'eval_gen_len': 23.9556, 'eval_runtime': 89.7739, 'eval_samples_per_second': 9.791, 'eval_steps_per_second': 0.613, 'epoch': 11.65}\n"
     ]
    },
    {
     "data": {
      "application/vnd.jupyter.widget-view+json": {
       "model_id": "aaf1d7462f2c4fa2ae7abb66ebfc5088",
       "version_major": 2,
       "version_minor": 0
      },
      "text/plain": [
       "  0%|          | 0/55 [00:00<?, ?it/s]"
      ]
     },
     "metadata": {},
     "output_type": "display_data"
    },
    {
     "name": "stdout",
     "output_type": "stream",
     "text": [
      "{'eval_loss': 2.150247812271118, 'eval_bleu': 13.7078, 'eval_gen_len': 23.7793, 'eval_runtime': 89.1775, 'eval_samples_per_second': 9.857, 'eval_steps_per_second': 0.617, 'epoch': 11.66}\n"
     ]
    },
    {
     "data": {
      "application/vnd.jupyter.widget-view+json": {
       "model_id": "e5b999c2bece461ab0d4ca69f3acf1de",
       "version_major": 2,
       "version_minor": 0
      },
      "text/plain": [
       "  0%|          | 0/55 [00:00<?, ?it/s]"
      ]
     },
     "metadata": {},
     "output_type": "display_data"
    },
    {
     "name": "stdout",
     "output_type": "stream",
     "text": [
      "{'eval_loss': 2.150019884109497, 'eval_bleu': 13.9161, 'eval_gen_len': 23.6177, 'eval_runtime': 88.041, 'eval_samples_per_second': 9.984, 'eval_steps_per_second': 0.625, 'epoch': 11.68}\n",
      "{'loss': 1.5794, 'grad_norm': 1.2753664255142212, 'learning_rate': 0.00043666666666666664, 'epoch': 11.69}\n"
     ]
    },
    {
     "data": {
      "application/vnd.jupyter.widget-view+json": {
       "model_id": "2aa1a535d752427b9c70ea481b1a4924",
       "version_major": 2,
       "version_minor": 0
      },
      "text/plain": [
       "  0%|          | 0/55 [00:00<?, ?it/s]"
      ]
     },
     "metadata": {},
     "output_type": "display_data"
    },
    {
     "name": "stdout",
     "output_type": "stream",
     "text": [
      "{'eval_loss': 2.14868426322937, 'eval_bleu': 14.0708, 'eval_gen_len': 23.7179, 'eval_runtime': 88.743, 'eval_samples_per_second': 9.905, 'eval_steps_per_second': 0.62, 'epoch': 11.69}\n"
     ]
    },
    {
     "data": {
      "application/vnd.jupyter.widget-view+json": {
       "model_id": "8763964198574e2e9d76874d064caef1",
       "version_major": 2,
       "version_minor": 0
      },
      "text/plain": [
       "  0%|          | 0/55 [00:00<?, ?it/s]"
      ]
     },
     "metadata": {},
     "output_type": "display_data"
    },
    {
     "name": "stdout",
     "output_type": "stream",
     "text": [
      "{'eval_loss': 2.1492557525634766, 'eval_bleu': 13.9363, 'eval_gen_len': 23.6837, 'eval_runtime': 88.4025, 'eval_samples_per_second': 9.943, 'eval_steps_per_second': 0.622, 'epoch': 11.71}\n"
     ]
    },
    {
     "data": {
      "application/vnd.jupyter.widget-view+json": {
       "model_id": "57fa6bb0d41d43a2b433fa7b375770ac",
       "version_major": 2,
       "version_minor": 0
      },
      "text/plain": [
       "  0%|          | 0/55 [00:00<?, ?it/s]"
      ]
     },
     "metadata": {},
     "output_type": "display_data"
    },
    {
     "name": "stdout",
     "output_type": "stream",
     "text": [
      "{'eval_loss': 2.1430792808532715, 'eval_bleu': 13.913, 'eval_gen_len': 23.9056, 'eval_runtime': 88.3473, 'eval_samples_per_second': 9.949, 'eval_steps_per_second': 0.623, 'epoch': 11.72}\n"
     ]
    },
    {
     "data": {
      "application/vnd.jupyter.widget-view+json": {
       "model_id": "8c6e682c52694803914bc79f5e1cc429",
       "version_major": 2,
       "version_minor": 0
      },
      "text/plain": [
       "  0%|          | 0/55 [00:00<?, ?it/s]"
      ]
     },
     "metadata": {},
     "output_type": "display_data"
    },
    {
     "name": "stdout",
     "output_type": "stream",
     "text": [
      "{'eval_loss': 2.1399388313293457, 'eval_bleu': 14.0183, 'eval_gen_len': 23.8328, 'eval_runtime': 89.2274, 'eval_samples_per_second': 9.851, 'eval_steps_per_second': 0.616, 'epoch': 11.73}\n"
     ]
    },
    {
     "data": {
      "application/vnd.jupyter.widget-view+json": {
       "model_id": "8b1b0babf8ba432ea9d57deec1487ce9",
       "version_major": 2,
       "version_minor": 0
      },
      "text/plain": [
       "  0%|          | 0/55 [00:00<?, ?it/s]"
      ]
     },
     "metadata": {},
     "output_type": "display_data"
    },
    {
     "name": "stdout",
     "output_type": "stream",
     "text": [
      "{'eval_loss': 2.1554105281829834, 'eval_bleu': 13.9791, 'eval_gen_len': 23.7895, 'eval_runtime': 88.4298, 'eval_samples_per_second': 9.94, 'eval_steps_per_second': 0.622, 'epoch': 11.75}\n",
      "{'loss': 1.5809, 'grad_norm': 1.2010492086410522, 'learning_rate': 0.00043333333333333337, 'epoch': 11.76}\n"
     ]
    },
    {
     "data": {
      "application/vnd.jupyter.widget-view+json": {
       "model_id": "0b3af41269d0439d9bddcda6312f5d2c",
       "version_major": 2,
       "version_minor": 0
      },
      "text/plain": [
       "  0%|          | 0/55 [00:00<?, ?it/s]"
      ]
     },
     "metadata": {},
     "output_type": "display_data"
    },
    {
     "name": "stdout",
     "output_type": "stream",
     "text": [
      "{'eval_loss': 2.133509874343872, 'eval_bleu': 13.7282, 'eval_gen_len': 23.9022, 'eval_runtime': 88.6455, 'eval_samples_per_second': 9.916, 'eval_steps_per_second': 0.62, 'epoch': 11.76}\n"
     ]
    },
    {
     "data": {
      "application/vnd.jupyter.widget-view+json": {
       "model_id": "5661c4299c454c7997d2442f4db36946",
       "version_major": 2,
       "version_minor": 0
      },
      "text/plain": [
       "  0%|          | 0/55 [00:00<?, ?it/s]"
      ]
     },
     "metadata": {},
     "output_type": "display_data"
    },
    {
     "name": "stdout",
     "output_type": "stream",
     "text": [
      "{'eval_loss': 2.146019697189331, 'eval_bleu': 14.2129, 'eval_gen_len': 23.7349, 'eval_runtime': 88.9721, 'eval_samples_per_second': 9.88, 'eval_steps_per_second': 0.618, 'epoch': 11.77}\n"
     ]
    },
    {
     "data": {
      "application/vnd.jupyter.widget-view+json": {
       "model_id": "c4afafbd3a7c49cd98ef4983a1707426",
       "version_major": 2,
       "version_minor": 0
      },
      "text/plain": [
       "  0%|          | 0/55 [00:00<?, ?it/s]"
      ]
     },
     "metadata": {},
     "output_type": "display_data"
    },
    {
     "name": "stdout",
     "output_type": "stream",
     "text": [
      "{'eval_loss': 2.1494028568267822, 'eval_bleu': 13.9514, 'eval_gen_len': 23.8794, 'eval_runtime': 88.3497, 'eval_samples_per_second': 9.949, 'eval_steps_per_second': 0.623, 'epoch': 11.79}\n"
     ]
    },
    {
     "data": {
      "application/vnd.jupyter.widget-view+json": {
       "model_id": "4d5b5da8a1c949088c9e8c541c2cf627",
       "version_major": 2,
       "version_minor": 0
      },
      "text/plain": [
       "  0%|          | 0/55 [00:00<?, ?it/s]"
      ]
     },
     "metadata": {},
     "output_type": "display_data"
    },
    {
     "name": "stdout",
     "output_type": "stream",
     "text": [
      "{'eval_loss': 2.1423227787017822, 'eval_bleu': 13.9268, 'eval_gen_len': 23.9545, 'eval_runtime': 88.866, 'eval_samples_per_second': 9.891, 'eval_steps_per_second': 0.619, 'epoch': 11.8}\n"
     ]
    },
    {
     "data": {
      "application/vnd.jupyter.widget-view+json": {
       "model_id": "18f78466631342b6a475e7a3562f6342",
       "version_major": 2,
       "version_minor": 0
      },
      "text/plain": [
       "  0%|          | 0/55 [00:00<?, ?it/s]"
      ]
     },
     "metadata": {},
     "output_type": "display_data"
    },
    {
     "name": "stdout",
     "output_type": "stream",
     "text": [
      "{'eval_loss': 2.1540565490722656, 'eval_bleu': 13.6587, 'eval_gen_len': 23.7861, 'eval_runtime': 88.6172, 'eval_samples_per_second': 9.919, 'eval_steps_per_second': 0.621, 'epoch': 11.82}\n",
      "{'loss': 1.5855, 'grad_norm': 1.2917866706848145, 'learning_rate': 0.00043, 'epoch': 11.83}\n"
     ]
    },
    {
     "data": {
      "application/vnd.jupyter.widget-view+json": {
       "model_id": "d8757af819f34d5983c096445d3f161d",
       "version_major": 2,
       "version_minor": 0
      },
      "text/plain": [
       "  0%|          | 0/55 [00:00<?, ?it/s]"
      ]
     },
     "metadata": {},
     "output_type": "display_data"
    },
    {
     "name": "stdout",
     "output_type": "stream",
     "text": [
      "{'eval_loss': 2.1404736042022705, 'eval_bleu': 13.8143, 'eval_gen_len': 23.9784, 'eval_runtime': 88.5831, 'eval_samples_per_second': 9.923, 'eval_steps_per_second': 0.621, 'epoch': 11.83}\n"
     ]
    },
    {
     "data": {
      "application/vnd.jupyter.widget-view+json": {
       "model_id": "d7ff74ad6ec24466ba8bdf42b880523e",
       "version_major": 2,
       "version_minor": 0
      },
      "text/plain": [
       "  0%|          | 0/55 [00:00<?, ?it/s]"
      ]
     },
     "metadata": {},
     "output_type": "display_data"
    },
    {
     "name": "stdout",
     "output_type": "stream",
     "text": [
      "{'eval_loss': 2.1463754177093506, 'eval_bleu': 13.8561, 'eval_gen_len': 23.9249, 'eval_runtime': 89.6872, 'eval_samples_per_second': 9.801, 'eval_steps_per_second': 0.613, 'epoch': 11.84}\n"
     ]
    },
    {
     "data": {
      "application/vnd.jupyter.widget-view+json": {
       "model_id": "60faeef786ea4390b99eeabaea008002",
       "version_major": 2,
       "version_minor": 0
      },
      "text/plain": [
       "  0%|          | 0/55 [00:00<?, ?it/s]"
      ]
     },
     "metadata": {},
     "output_type": "display_data"
    },
    {
     "name": "stdout",
     "output_type": "stream",
     "text": [
      "{'eval_loss': 2.135863780975342, 'eval_bleu': 13.8418, 'eval_gen_len': 24.0228, 'eval_runtime': 88.5447, 'eval_samples_per_second': 9.927, 'eval_steps_per_second': 0.621, 'epoch': 11.86}\n"
     ]
    },
    {
     "data": {
      "application/vnd.jupyter.widget-view+json": {
       "model_id": "360b82bebec24a6da5b683772faaa88e",
       "version_major": 2,
       "version_minor": 0
      },
      "text/plain": [
       "  0%|          | 0/55 [00:00<?, ?it/s]"
      ]
     },
     "metadata": {},
     "output_type": "display_data"
    },
    {
     "name": "stdout",
     "output_type": "stream",
     "text": [
      "{'eval_loss': 2.138159990310669, 'eval_bleu': 13.9436, 'eval_gen_len': 23.8373, 'eval_runtime': 89.8563, 'eval_samples_per_second': 9.782, 'eval_steps_per_second': 0.612, 'epoch': 11.87}\n"
     ]
    },
    {
     "data": {
      "application/vnd.jupyter.widget-view+json": {
       "model_id": "aaa5899f1a7c42c687d5a933ca33ba41",
       "version_major": 2,
       "version_minor": 0
      },
      "text/plain": [
       "  0%|          | 0/55 [00:00<?, ?it/s]"
      ]
     },
     "metadata": {},
     "output_type": "display_data"
    },
    {
     "name": "stdout",
     "output_type": "stream",
     "text": [
      "{'eval_loss': 2.133488416671753, 'eval_bleu': 14.0426, 'eval_gen_len': 23.8498, 'eval_runtime': 88.9675, 'eval_samples_per_second': 9.88, 'eval_steps_per_second': 0.618, 'epoch': 11.89}\n",
      "{'loss': 1.5889, 'grad_norm': 1.0964539051055908, 'learning_rate': 0.0004266666666666667, 'epoch': 11.9}\n"
     ]
    },
    {
     "data": {
      "application/vnd.jupyter.widget-view+json": {
       "model_id": "09a9f11125b74dc48c51615c6d422d1a",
       "version_major": 2,
       "version_minor": 0
      },
      "text/plain": [
       "  0%|          | 0/55 [00:00<?, ?it/s]"
      ]
     },
     "metadata": {},
     "output_type": "display_data"
    },
    {
     "name": "stdout",
     "output_type": "stream",
     "text": [
      "{'eval_loss': 2.1390702724456787, 'eval_bleu': 13.8675, 'eval_gen_len': 23.7702, 'eval_runtime': 88.4026, 'eval_samples_per_second': 9.943, 'eval_steps_per_second': 0.622, 'epoch': 11.9}\n"
     ]
    },
    {
     "data": {
      "application/vnd.jupyter.widget-view+json": {
       "model_id": "364ce764caa04cd4a53d1445e061c53d",
       "version_major": 2,
       "version_minor": 0
      },
      "text/plain": [
       "  0%|          | 0/55 [00:00<?, ?it/s]"
      ]
     },
     "metadata": {},
     "output_type": "display_data"
    },
    {
     "name": "stdout",
     "output_type": "stream",
     "text": [
      "{'eval_loss': 2.122637987136841, 'eval_bleu': 13.9389, 'eval_gen_len': 23.8089, 'eval_runtime': 88.31, 'eval_samples_per_second': 9.954, 'eval_steps_per_second': 0.623, 'epoch': 11.91}\n"
     ]
    },
    {
     "data": {
      "application/vnd.jupyter.widget-view+json": {
       "model_id": "c14aad59523048dfb3fd064c26c71faa",
       "version_major": 2,
       "version_minor": 0
      },
      "text/plain": [
       "  0%|          | 0/55 [00:00<?, ?it/s]"
      ]
     },
     "metadata": {},
     "output_type": "display_data"
    },
    {
     "name": "stdout",
     "output_type": "stream",
     "text": [
      "{'eval_loss': 2.134171724319458, 'eval_bleu': 14.278, 'eval_gen_len': 23.7827, 'eval_runtime': 87.866, 'eval_samples_per_second': 10.004, 'eval_steps_per_second': 0.626, 'epoch': 11.93}\n"
     ]
    },
    {
     "data": {
      "application/vnd.jupyter.widget-view+json": {
       "model_id": "df4e56af87aa44f1a6f5f32a10b479c0",
       "version_major": 2,
       "version_minor": 0
      },
      "text/plain": [
       "  0%|          | 0/55 [00:00<?, ?it/s]"
      ]
     },
     "metadata": {},
     "output_type": "display_data"
    },
    {
     "name": "stdout",
     "output_type": "stream",
     "text": [
      "{'eval_loss': 2.1394481658935547, 'eval_bleu': 13.6857, 'eval_gen_len': 24.0102, 'eval_runtime': 88.9054, 'eval_samples_per_second': 9.887, 'eval_steps_per_second': 0.619, 'epoch': 11.94}\n"
     ]
    },
    {
     "data": {
      "application/vnd.jupyter.widget-view+json": {
       "model_id": "537179f7cb804d2695337db92959e8a6",
       "version_major": 2,
       "version_minor": 0
      },
      "text/plain": [
       "  0%|          | 0/55 [00:00<?, ?it/s]"
      ]
     },
     "metadata": {},
     "output_type": "display_data"
    },
    {
     "name": "stdout",
     "output_type": "stream",
     "text": [
      "{'eval_loss': 2.131805896759033, 'eval_bleu': 13.9143, 'eval_gen_len': 24.0478, 'eval_runtime': 88.957, 'eval_samples_per_second': 9.881, 'eval_steps_per_second': 0.618, 'epoch': 11.95}\n",
      "{'loss': 1.5942, 'grad_norm': 1.1191686391830444, 'learning_rate': 0.00042333333333333334, 'epoch': 11.97}\n"
     ]
    },
    {
     "data": {
      "application/vnd.jupyter.widget-view+json": {
       "model_id": "be66a0c87b5c480ba18908352872746c",
       "version_major": 2,
       "version_minor": 0
      },
      "text/plain": [
       "  0%|          | 0/55 [00:00<?, ?it/s]"
      ]
     },
     "metadata": {},
     "output_type": "display_data"
    },
    {
     "name": "stdout",
     "output_type": "stream",
     "text": [
      "{'eval_loss': 2.133368730545044, 'eval_bleu': 14.2507, 'eval_gen_len': 23.917, 'eval_runtime': 88.2299, 'eval_samples_per_second': 9.963, 'eval_steps_per_second': 0.623, 'epoch': 11.97}\n"
     ]
    },
    {
     "data": {
      "application/vnd.jupyter.widget-view+json": {
       "model_id": "d948f20769e642ba8eff48927db96123",
       "version_major": 2,
       "version_minor": 0
      },
      "text/plain": [
       "  0%|          | 0/55 [00:00<?, ?it/s]"
      ]
     },
     "metadata": {},
     "output_type": "display_data"
    },
    {
     "name": "stdout",
     "output_type": "stream",
     "text": [
      "{'eval_loss': 2.133326292037964, 'eval_bleu': 14.1211, 'eval_gen_len': 23.9124, 'eval_runtime': 88.0768, 'eval_samples_per_second': 9.98, 'eval_steps_per_second': 0.624, 'epoch': 11.98}\n"
     ]
    },
    {
     "data": {
      "application/vnd.jupyter.widget-view+json": {
       "model_id": "94ed28821e76464e86eb198237ff1345",
       "version_major": 2,
       "version_minor": 0
      },
      "text/plain": [
       "  0%|          | 0/55 [00:00<?, ?it/s]"
      ]
     },
     "metadata": {},
     "output_type": "display_data"
    },
    {
     "name": "stdout",
     "output_type": "stream",
     "text": [
      "{'eval_loss': 2.1289803981781006, 'eval_bleu': 14.0998, 'eval_gen_len': 23.7645, 'eval_runtime': 88.5469, 'eval_samples_per_second': 9.927, 'eval_steps_per_second': 0.621, 'epoch': 12.0}\n"
     ]
    },
    {
     "data": {
      "application/vnd.jupyter.widget-view+json": {
       "model_id": "6e0c5c3d33a943c899997c55b8d1c0f4",
       "version_major": 2,
       "version_minor": 0
      },
      "text/plain": [
       "  0%|          | 0/55 [00:00<?, ?it/s]"
      ]
     },
     "metadata": {},
     "output_type": "display_data"
    },
    {
     "name": "stdout",
     "output_type": "stream",
     "text": [
      "{'eval_loss': 2.171717882156372, 'eval_bleu': 13.9195, 'eval_gen_len': 23.7122, 'eval_runtime': 88.64, 'eval_samples_per_second': 9.917, 'eval_steps_per_second': 0.62, 'epoch': 12.01}\n"
     ]
    },
    {
     "data": {
      "application/vnd.jupyter.widget-view+json": {
       "model_id": "dd2378a667a1404db589054a43d3d83d",
       "version_major": 2,
       "version_minor": 0
      },
      "text/plain": [
       "  0%|          | 0/55 [00:00<?, ?it/s]"
      ]
     },
     "metadata": {},
     "output_type": "display_data"
    },
    {
     "name": "stdout",
     "output_type": "stream",
     "text": [
      "{'eval_loss': 2.170862913131714, 'eval_bleu': 14.0483, 'eval_gen_len': 23.9124, 'eval_runtime': 88.9434, 'eval_samples_per_second': 9.883, 'eval_steps_per_second': 0.618, 'epoch': 12.02}\n",
      "{'loss': 1.5138, 'grad_norm': 1.0291296243667603, 'learning_rate': 0.00042, 'epoch': 12.04}\n"
     ]
    },
    {
     "data": {
      "application/vnd.jupyter.widget-view+json": {
       "model_id": "74fa1274937f48049fc7b629b07cf650",
       "version_major": 2,
       "version_minor": 0
      },
      "text/plain": [
       "  0%|          | 0/55 [00:00<?, ?it/s]"
      ]
     },
     "metadata": {},
     "output_type": "display_data"
    },
    {
     "name": "stdout",
     "output_type": "stream",
     "text": [
      "{'eval_loss': 2.1608047485351562, 'eval_bleu': 13.7204, 'eval_gen_len': 23.8419, 'eval_runtime': 88.6297, 'eval_samples_per_second': 9.918, 'eval_steps_per_second': 0.621, 'epoch': 12.04}\n"
     ]
    },
    {
     "data": {
      "application/vnd.jupyter.widget-view+json": {
       "model_id": "ac2961c2d2ba4df9bad753f51cca0944",
       "version_major": 2,
       "version_minor": 0
      },
      "text/plain": [
       "  0%|          | 0/55 [00:00<?, ?it/s]"
      ]
     },
     "metadata": {},
     "output_type": "display_data"
    },
    {
     "name": "stdout",
     "output_type": "stream",
     "text": [
      "{'eval_loss': 2.1630585193634033, 'eval_bleu': 13.8063, 'eval_gen_len': 23.7702, 'eval_runtime': 90.0728, 'eval_samples_per_second': 9.759, 'eval_steps_per_second': 0.611, 'epoch': 12.05}\n"
     ]
    },
    {
     "data": {
      "application/vnd.jupyter.widget-view+json": {
       "model_id": "db4e1cb15fc94e06a5cd5bd8cec5e92c",
       "version_major": 2,
       "version_minor": 0
      },
      "text/plain": [
       "  0%|          | 0/55 [00:00<?, ?it/s]"
      ]
     },
     "metadata": {},
     "output_type": "display_data"
    },
    {
     "name": "stdout",
     "output_type": "stream",
     "text": [
      "{'eval_loss': 2.177743911743164, 'eval_bleu': 13.9286, 'eval_gen_len': 23.802, 'eval_runtime': 89.9799, 'eval_samples_per_second': 9.769, 'eval_steps_per_second': 0.611, 'epoch': 12.07}\n"
     ]
    },
    {
     "data": {
      "application/vnd.jupyter.widget-view+json": {
       "model_id": "e1089eda33bf4f319ea49a31327a5e54",
       "version_major": 2,
       "version_minor": 0
      },
      "text/plain": [
       "  0%|          | 0/55 [00:00<?, ?it/s]"
      ]
     },
     "metadata": {},
     "output_type": "display_data"
    },
    {
     "name": "stdout",
     "output_type": "stream",
     "text": [
      "{'eval_loss': 2.1753673553466797, 'eval_bleu': 14.1212, 'eval_gen_len': 23.785, 'eval_runtime': 90.7405, 'eval_samples_per_second': 9.687, 'eval_steps_per_second': 0.606, 'epoch': 12.08}\n"
     ]
    },
    {
     "data": {
      "application/vnd.jupyter.widget-view+json": {
       "model_id": "6e11d514b3114e96848f2b460eb04fd9",
       "version_major": 2,
       "version_minor": 0
      },
      "text/plain": [
       "  0%|          | 0/55 [00:00<?, ?it/s]"
      ]
     },
     "metadata": {},
     "output_type": "display_data"
    },
    {
     "name": "stdout",
     "output_type": "stream",
     "text": [
      "{'eval_loss': 2.158137083053589, 'eval_bleu': 13.9173, 'eval_gen_len': 23.6962, 'eval_runtime': 91.3113, 'eval_samples_per_second': 9.626, 'eval_steps_per_second': 0.602, 'epoch': 12.09}\n",
      "{'loss': 1.4675, 'grad_norm': 1.3635027408599854, 'learning_rate': 0.0004166666666666667, 'epoch': 12.11}\n"
     ]
    },
    {
     "data": {
      "application/vnd.jupyter.widget-view+json": {
       "model_id": "9db9e8a1809c44dfba3d3da16e372b6f",
       "version_major": 2,
       "version_minor": 0
      },
      "text/plain": [
       "  0%|          | 0/55 [00:00<?, ?it/s]"
      ]
     },
     "metadata": {},
     "output_type": "display_data"
    },
    {
     "name": "stdout",
     "output_type": "stream",
     "text": [
      "{'eval_loss': 2.172273635864258, 'eval_bleu': 13.8944, 'eval_gen_len': 23.744, 'eval_runtime': 91.3584, 'eval_samples_per_second': 9.621, 'eval_steps_per_second': 0.602, 'epoch': 12.11}\n"
     ]
    },
    {
     "data": {
      "application/vnd.jupyter.widget-view+json": {
       "model_id": "509528059c0c453e8c6702c700653f4b",
       "version_major": 2,
       "version_minor": 0
      },
      "text/plain": [
       "  0%|          | 0/55 [00:00<?, ?it/s]"
      ]
     },
     "metadata": {},
     "output_type": "display_data"
    },
    {
     "name": "stdout",
     "output_type": "stream",
     "text": [
      "{'eval_loss': 2.165738582611084, 'eval_bleu': 13.7028, 'eval_gen_len': 23.7133, 'eval_runtime': 91.3584, 'eval_samples_per_second': 9.621, 'eval_steps_per_second': 0.602, 'epoch': 12.12}\n"
     ]
    },
    {
     "data": {
      "application/vnd.jupyter.widget-view+json": {
       "model_id": "8c6fe8687ed246a0a688c8c2b7e60fcc",
       "version_major": 2,
       "version_minor": 0
      },
      "text/plain": [
       "  0%|          | 0/55 [00:00<?, ?it/s]"
      ]
     },
     "metadata": {},
     "output_type": "display_data"
    },
    {
     "name": "stdout",
     "output_type": "stream",
     "text": [
      "{'eval_loss': 2.1741957664489746, 'eval_bleu': 13.9849, 'eval_gen_len': 23.835, 'eval_runtime': 91.0906, 'eval_samples_per_second': 9.65, 'eval_steps_per_second': 0.604, 'epoch': 12.13}\n"
     ]
    },
    {
     "data": {
      "application/vnd.jupyter.widget-view+json": {
       "model_id": "7143de4a47554710b3fa9cf0963c8b52",
       "version_major": 2,
       "version_minor": 0
      },
      "text/plain": [
       "  0%|          | 0/55 [00:00<?, ?it/s]"
      ]
     },
     "metadata": {},
     "output_type": "display_data"
    },
    {
     "name": "stdout",
     "output_type": "stream",
     "text": [
      "{'eval_loss': 2.1757469177246094, 'eval_bleu': 13.6982, 'eval_gen_len': 23.7964, 'eval_runtime': 91.7007, 'eval_samples_per_second': 9.586, 'eval_steps_per_second': 0.6, 'epoch': 12.15}\n"
     ]
    },
    {
     "data": {
      "application/vnd.jupyter.widget-view+json": {
       "model_id": "81e17ee3d03e47ffb37799a343abaf9e",
       "version_major": 2,
       "version_minor": 0
      },
      "text/plain": [
       "  0%|          | 0/55 [00:00<?, ?it/s]"
      ]
     },
     "metadata": {},
     "output_type": "display_data"
    },
    {
     "name": "stdout",
     "output_type": "stream",
     "text": [
      "{'eval_loss': 2.172936201095581, 'eval_bleu': 13.8826, 'eval_gen_len': 23.7645, 'eval_runtime': 91.6206, 'eval_samples_per_second': 9.594, 'eval_steps_per_second': 0.6, 'epoch': 12.16}\n",
      "{'loss': 1.4654, 'grad_norm': 1.029572606086731, 'learning_rate': 0.0004133333333333333, 'epoch': 12.18}\n"
     ]
    },
    {
     "data": {
      "application/vnd.jupyter.widget-view+json": {
       "model_id": "c47a61657f8f4ae082b231300407f59b",
       "version_major": 2,
       "version_minor": 0
      },
      "text/plain": [
       "  0%|          | 0/55 [00:00<?, ?it/s]"
      ]
     },
     "metadata": {},
     "output_type": "display_data"
    },
    {
     "name": "stdout",
     "output_type": "stream",
     "text": [
      "{'eval_loss': 2.165773630142212, 'eval_bleu': 13.9995, 'eval_gen_len': 23.678, 'eval_runtime': 90.7334, 'eval_samples_per_second': 9.688, 'eval_steps_per_second': 0.606, 'epoch': 12.18}\n"
     ]
    },
    {
     "data": {
      "application/vnd.jupyter.widget-view+json": {
       "model_id": "2ef11c17f4214148b2c78cc3aa77984b",
       "version_major": 2,
       "version_minor": 0
      },
      "text/plain": [
       "  0%|          | 0/55 [00:00<?, ?it/s]"
      ]
     },
     "metadata": {},
     "output_type": "display_data"
    },
    {
     "name": "stdout",
     "output_type": "stream",
     "text": [
      "{'eval_loss': 2.173896551132202, 'eval_bleu': 13.8733, 'eval_gen_len': 23.8043, 'eval_runtime': 91.35, 'eval_samples_per_second': 9.622, 'eval_steps_per_second': 0.602, 'epoch': 12.19}\n"
     ]
    },
    {
     "data": {
      "application/vnd.jupyter.widget-view+json": {
       "model_id": "95426d545a914a05b9b2d55db782efc1",
       "version_major": 2,
       "version_minor": 0
      },
      "text/plain": [
       "  0%|          | 0/55 [00:00<?, ?it/s]"
      ]
     },
     "metadata": {},
     "output_type": "display_data"
    },
    {
     "name": "stdout",
     "output_type": "stream",
     "text": [
      "{'eval_loss': 2.1709635257720947, 'eval_bleu': 13.6568, 'eval_gen_len': 23.6678, 'eval_runtime': 91.3889, 'eval_samples_per_second': 9.618, 'eval_steps_per_second': 0.602, 'epoch': 12.2}\n"
     ]
    },
    {
     "data": {
      "application/vnd.jupyter.widget-view+json": {
       "model_id": "97fcd374fcb240ab8b134a30dcbf1d2b",
       "version_major": 2,
       "version_minor": 0
      },
      "text/plain": [
       "  0%|          | 0/55 [00:00<?, ?it/s]"
      ]
     },
     "metadata": {},
     "output_type": "display_data"
    },
    {
     "name": "stdout",
     "output_type": "stream",
     "text": [
      "{'eval_loss': 2.179180145263672, 'eval_bleu': 13.7725, 'eval_gen_len': 23.8578, 'eval_runtime': 90.9204, 'eval_samples_per_second': 9.668, 'eval_steps_per_second': 0.605, 'epoch': 12.22}\n"
     ]
    },
    {
     "data": {
      "application/vnd.jupyter.widget-view+json": {
       "model_id": "33d2d12384a94e79a0fce8bca372e590",
       "version_major": 2,
       "version_minor": 0
      },
      "text/plain": [
       "  0%|          | 0/55 [00:00<?, ?it/s]"
      ]
     },
     "metadata": {},
     "output_type": "display_data"
    },
    {
     "name": "stdout",
     "output_type": "stream",
     "text": [
      "{'eval_loss': 2.171846389770508, 'eval_bleu': 13.6408, 'eval_gen_len': 23.8589, 'eval_runtime': 91.1153, 'eval_samples_per_second': 9.647, 'eval_steps_per_second': 0.604, 'epoch': 12.23}\n",
      "{'loss': 1.4735, 'grad_norm': 1.626863718032837, 'learning_rate': 0.00041, 'epoch': 12.24}\n"
     ]
    },
    {
     "data": {
      "application/vnd.jupyter.widget-view+json": {
       "model_id": "49e9c044cb624b3c92b6e3528f892c33",
       "version_major": 2,
       "version_minor": 0
      },
      "text/plain": [
       "  0%|          | 0/55 [00:00<?, ?it/s]"
      ]
     },
     "metadata": {},
     "output_type": "display_data"
    },
    {
     "name": "stdout",
     "output_type": "stream",
     "text": [
      "{'eval_loss': 2.1728150844573975, 'eval_bleu': 13.8887, 'eval_gen_len': 23.9772, 'eval_runtime': 92.1251, 'eval_samples_per_second': 9.541, 'eval_steps_per_second': 0.597, 'epoch': 12.24}\n"
     ]
    },
    {
     "data": {
      "application/vnd.jupyter.widget-view+json": {
       "model_id": "4a7470d0af7b48b9a350744c814f423a",
       "version_major": 2,
       "version_minor": 0
      },
      "text/plain": [
       "  0%|          | 0/55 [00:00<?, ?it/s]"
      ]
     },
     "metadata": {},
     "output_type": "display_data"
    },
    {
     "name": "stdout",
     "output_type": "stream",
     "text": [
      "{'eval_loss': 2.1617162227630615, 'eval_bleu': 13.7526, 'eval_gen_len': 23.9192, 'eval_runtime': 91.2723, 'eval_samples_per_second': 9.631, 'eval_steps_per_second': 0.603, 'epoch': 12.26}\n"
     ]
    },
    {
     "data": {
      "application/vnd.jupyter.widget-view+json": {
       "model_id": "4fedad941c0643818738418779ce352a",
       "version_major": 2,
       "version_minor": 0
      },
      "text/plain": [
       "  0%|          | 0/55 [00:00<?, ?it/s]"
      ]
     },
     "metadata": {},
     "output_type": "display_data"
    },
    {
     "name": "stdout",
     "output_type": "stream",
     "text": [
      "{'eval_loss': 2.1715943813323975, 'eval_bleu': 13.5467, 'eval_gen_len': 23.9727, 'eval_runtime': 91.5799, 'eval_samples_per_second': 9.598, 'eval_steps_per_second': 0.601, 'epoch': 12.27}\n"
     ]
    },
    {
     "data": {
      "application/vnd.jupyter.widget-view+json": {
       "model_id": "958ef1581c32414c95e8c230c6562b3a",
       "version_major": 2,
       "version_minor": 0
      },
      "text/plain": [
       "  0%|          | 0/55 [00:00<?, ?it/s]"
      ]
     },
     "metadata": {},
     "output_type": "display_data"
    },
    {
     "name": "stdout",
     "output_type": "stream",
     "text": [
      "{'eval_loss': 2.168241500854492, 'eval_bleu': 13.333, 'eval_gen_len': 23.7008, 'eval_runtime': 91.588, 'eval_samples_per_second': 9.597, 'eval_steps_per_second': 0.601, 'epoch': 12.29}\n"
     ]
    },
    {
     "data": {
      "application/vnd.jupyter.widget-view+json": {
       "model_id": "d5ae37edf36a41a9856ed6e4fa847dd6",
       "version_major": 2,
       "version_minor": 0
      },
      "text/plain": [
       "  0%|          | 0/55 [00:00<?, ?it/s]"
      ]
     },
     "metadata": {},
     "output_type": "display_data"
    },
    {
     "name": "stdout",
     "output_type": "stream",
     "text": [
      "{'eval_loss': 2.1720967292785645, 'eval_bleu': 13.4102, 'eval_gen_len': 23.8919, 'eval_runtime': 91.407, 'eval_samples_per_second': 9.616, 'eval_steps_per_second': 0.602, 'epoch': 12.3}\n",
      "{'loss': 1.5006, 'grad_norm': 1.3388959169387817, 'learning_rate': 0.00040666666666666667, 'epoch': 12.31}\n"
     ]
    },
    {
     "data": {
      "application/vnd.jupyter.widget-view+json": {
       "model_id": "1efc911c07e5448db36927c3b4e6be87",
       "version_major": 2,
       "version_minor": 0
      },
      "text/plain": [
       "  0%|          | 0/55 [00:00<?, ?it/s]"
      ]
     },
     "metadata": {},
     "output_type": "display_data"
    },
    {
     "name": "stdout",
     "output_type": "stream",
     "text": [
      "{'eval_loss': 2.176464080810547, 'eval_bleu': 13.7218, 'eval_gen_len': 23.7361, 'eval_runtime': 91.4806, 'eval_samples_per_second': 9.609, 'eval_steps_per_second': 0.601, 'epoch': 12.31}\n"
     ]
    },
    {
     "data": {
      "application/vnd.jupyter.widget-view+json": {
       "model_id": "7b17a64f5fdd4feda8746f6b8883e441",
       "version_major": 2,
       "version_minor": 0
      },
      "text/plain": [
       "  0%|          | 0/55 [00:00<?, ?it/s]"
      ]
     },
     "metadata": {},
     "output_type": "display_data"
    },
    {
     "name": "stdout",
     "output_type": "stream",
     "text": [
      "{'eval_loss': 2.1615846157073975, 'eval_bleu': 13.7961, 'eval_gen_len': 23.6473, 'eval_runtime': 90.9798, 'eval_samples_per_second': 9.661, 'eval_steps_per_second': 0.605, 'epoch': 12.33}\n"
     ]
    },
    {
     "data": {
      "application/vnd.jupyter.widget-view+json": {
       "model_id": "4b482609547b46728c95144a21ed6553",
       "version_major": 2,
       "version_minor": 0
      },
      "text/plain": [
       "  0%|          | 0/55 [00:00<?, ?it/s]"
      ]
     },
     "metadata": {},
     "output_type": "display_data"
    },
    {
     "name": "stdout",
     "output_type": "stream",
     "text": [
      "{'eval_loss': 2.170952558517456, 'eval_bleu': 13.5329, 'eval_gen_len': 23.9181, 'eval_runtime': 92.0838, 'eval_samples_per_second': 9.546, 'eval_steps_per_second': 0.597, 'epoch': 12.34}\n"
     ]
    },
    {
     "data": {
      "application/vnd.jupyter.widget-view+json": {
       "model_id": "994bf3dc9d6f4cb4afaa779b0fb36213",
       "version_major": 2,
       "version_minor": 0
      },
      "text/plain": [
       "  0%|          | 0/55 [00:00<?, ?it/s]"
      ]
     },
     "metadata": {},
     "output_type": "display_data"
    },
    {
     "name": "stdout",
     "output_type": "stream",
     "text": [
      "{'eval_loss': 2.163632869720459, 'eval_bleu': 13.8318, 'eval_gen_len': 23.8407, 'eval_runtime': 92.5942, 'eval_samples_per_second': 9.493, 'eval_steps_per_second': 0.594, 'epoch': 12.36}\n"
     ]
    },
    {
     "data": {
      "application/vnd.jupyter.widget-view+json": {
       "model_id": "ec9b1b30a44443ceb7bbcde49b9ea14c",
       "version_major": 2,
       "version_minor": 0
      },
      "text/plain": [
       "  0%|          | 0/55 [00:00<?, ?it/s]"
      ]
     },
     "metadata": {},
     "output_type": "display_data"
    },
    {
     "name": "stdout",
     "output_type": "stream",
     "text": [
      "{'eval_loss': 2.156442165374756, 'eval_bleu': 13.7203, 'eval_gen_len': 23.8487, 'eval_runtime': 92.7154, 'eval_samples_per_second': 9.481, 'eval_steps_per_second': 0.593, 'epoch': 12.37}\n",
      "{'loss': 1.495, 'grad_norm': 1.2297486066818237, 'learning_rate': 0.00040333333333333334, 'epoch': 12.38}\n"
     ]
    },
    {
     "data": {
      "application/vnd.jupyter.widget-view+json": {
       "model_id": "b455b856207a41f3bce471a2b5dc2d0d",
       "version_major": 2,
       "version_minor": 0
      },
      "text/plain": [
       "  0%|          | 0/55 [00:00<?, ?it/s]"
      ]
     },
     "metadata": {},
     "output_type": "display_data"
    },
    {
     "name": "stdout",
     "output_type": "stream",
     "text": [
      "{'eval_loss': 2.1578731536865234, 'eval_bleu': 13.833, 'eval_gen_len': 23.7565, 'eval_runtime': 91.8858, 'eval_samples_per_second': 9.566, 'eval_steps_per_second': 0.599, 'epoch': 12.38}\n"
     ]
    },
    {
     "data": {
      "application/vnd.jupyter.widget-view+json": {
       "model_id": "be23060c857545ffa12639d659841e17",
       "version_major": 2,
       "version_minor": 0
      },
      "text/plain": [
       "  0%|          | 0/55 [00:00<?, ?it/s]"
      ]
     },
     "metadata": {},
     "output_type": "display_data"
    },
    {
     "name": "stdout",
     "output_type": "stream",
     "text": [
      "{'eval_loss': 2.1778178215026855, 'eval_bleu': 13.5952, 'eval_gen_len': 23.6826, 'eval_runtime': 99.8258, 'eval_samples_per_second': 8.805, 'eval_steps_per_second': 0.551, 'epoch': 12.4}\n"
     ]
    },
    {
     "data": {
      "application/vnd.jupyter.widget-view+json": {
       "model_id": "ea960c97d256423781492b1534992a09",
       "version_major": 2,
       "version_minor": 0
      },
      "text/plain": [
       "  0%|          | 0/55 [00:00<?, ?it/s]"
      ]
     },
     "metadata": {},
     "output_type": "display_data"
    },
    {
     "name": "stdout",
     "output_type": "stream",
     "text": [
      "{'eval_loss': 2.1576313972473145, 'eval_bleu': 13.3634, 'eval_gen_len': 23.8942, 'eval_runtime': 48.9919, 'eval_samples_per_second': 17.942, 'eval_steps_per_second': 1.123, 'epoch': 12.41}\n"
     ]
    },
    {
     "data": {
      "application/vnd.jupyter.widget-view+json": {
       "model_id": "f79840f5bc2b4adc99c203d0064b3778",
       "version_major": 2,
       "version_minor": 0
      },
      "text/plain": [
       "  0%|          | 0/55 [00:00<?, ?it/s]"
      ]
     },
     "metadata": {},
     "output_type": "display_data"
    },
    {
     "name": "stdout",
     "output_type": "stream",
     "text": [
      "{'eval_loss': 2.1550447940826416, 'eval_bleu': 13.624, 'eval_gen_len': 23.7144, 'eval_runtime': 71.812, 'eval_samples_per_second': 12.24, 'eval_steps_per_second': 0.766, 'epoch': 12.42}\n"
     ]
    },
    {
     "data": {
      "application/vnd.jupyter.widget-view+json": {
       "model_id": "98263fe6b1ca468bac2b53077d8f7c8c",
       "version_major": 2,
       "version_minor": 0
      },
      "text/plain": [
       "  0%|          | 0/55 [00:00<?, ?it/s]"
      ]
     },
     "metadata": {},
     "output_type": "display_data"
    },
    {
     "name": "stdout",
     "output_type": "stream",
     "text": [
      "{'eval_loss': 2.158562183380127, 'eval_bleu': 13.8797, 'eval_gen_len': 23.7736, 'eval_runtime': 45.9698, 'eval_samples_per_second': 19.121, 'eval_steps_per_second': 1.196, 'epoch': 12.44}\n",
      "{'loss': 1.5023, 'grad_norm': 1.2553246021270752, 'learning_rate': 0.0004, 'epoch': 12.45}\n"
     ]
    },
    {
     "data": {
      "application/vnd.jupyter.widget-view+json": {
       "model_id": "401e0afd47f04fcb9342a127e1f78640",
       "version_major": 2,
       "version_minor": 0
      },
      "text/plain": [
       "  0%|          | 0/55 [00:00<?, ?it/s]"
      ]
     },
     "metadata": {},
     "output_type": "display_data"
    },
    {
     "name": "stdout",
     "output_type": "stream",
     "text": [
      "{'eval_loss': 2.161083459854126, 'eval_bleu': 13.7121, 'eval_gen_len': 23.6325, 'eval_runtime': 44.6157, 'eval_samples_per_second': 19.702, 'eval_steps_per_second': 1.233, 'epoch': 12.45}\n"
     ]
    },
    {
     "data": {
      "application/vnd.jupyter.widget-view+json": {
       "model_id": "9ecf27fe1f614a42bdfb3c103f520a81",
       "version_major": 2,
       "version_minor": 0
      },
      "text/plain": [
       "  0%|          | 0/55 [00:00<?, ?it/s]"
      ]
     },
     "metadata": {},
     "output_type": "display_data"
    },
    {
     "name": "stdout",
     "output_type": "stream",
     "text": [
      "{'eval_loss': 2.1605591773986816, 'eval_bleu': 13.6682, 'eval_gen_len': 23.8043, 'eval_runtime': 45.6661, 'eval_samples_per_second': 19.248, 'eval_steps_per_second': 1.204, 'epoch': 12.47}\n"
     ]
    },
    {
     "data": {
      "application/vnd.jupyter.widget-view+json": {
       "model_id": "40bdcb1e1099473287b2b00fdca5e22d",
       "version_major": 2,
       "version_minor": 0
      },
      "text/plain": [
       "  0%|          | 0/55 [00:00<?, ?it/s]"
      ]
     },
     "metadata": {},
     "output_type": "display_data"
    },
    {
     "name": "stdout",
     "output_type": "stream",
     "text": [
      "{'eval_loss': 2.1594231128692627, 'eval_bleu': 13.645, 'eval_gen_len': 23.7042, 'eval_runtime': 43.9128, 'eval_samples_per_second': 20.017, 'eval_steps_per_second': 1.252, 'epoch': 12.48}\n"
     ]
    },
    {
     "data": {
      "application/vnd.jupyter.widget-view+json": {
       "model_id": "07250eb603784e30abe65ff5ebbecffc",
       "version_major": 2,
       "version_minor": 0
      },
      "text/plain": [
       "  0%|          | 0/55 [00:00<?, ?it/s]"
      ]
     },
     "metadata": {},
     "output_type": "display_data"
    },
    {
     "name": "stdout",
     "output_type": "stream",
     "text": [
      "{'eval_loss': 2.1597769260406494, 'eval_bleu': 13.6729, 'eval_gen_len': 23.8032, 'eval_runtime': 44.7253, 'eval_samples_per_second': 19.653, 'eval_steps_per_second': 1.23, 'epoch': 12.49}\n"
     ]
    },
    {
     "data": {
      "application/vnd.jupyter.widget-view+json": {
       "model_id": "0156e4a13d9146948ca8ff9f9965f034",
       "version_major": 2,
       "version_minor": 0
      },
      "text/plain": [
       "  0%|          | 0/55 [00:00<?, ?it/s]"
      ]
     },
     "metadata": {},
     "output_type": "display_data"
    },
    {
     "name": "stdout",
     "output_type": "stream",
     "text": [
      "{'eval_loss': 2.1545093059539795, 'eval_bleu': 13.6724, 'eval_gen_len': 23.9545, 'eval_runtime': 44.9772, 'eval_samples_per_second': 19.543, 'eval_steps_per_second': 1.223, 'epoch': 12.51}\n",
      "{'loss': 1.5104, 'grad_norm': 1.0156561136245728, 'learning_rate': 0.0003966666666666667, 'epoch': 12.52}\n"
     ]
    },
    {
     "data": {
      "application/vnd.jupyter.widget-view+json": {
       "model_id": "aa00e8e533dc4ae496cea874df43da85",
       "version_major": 2,
       "version_minor": 0
      },
      "text/plain": [
       "  0%|          | 0/55 [00:00<?, ?it/s]"
      ]
     },
     "metadata": {},
     "output_type": "display_data"
    },
    {
     "name": "stdout",
     "output_type": "stream",
     "text": [
      "{'eval_loss': 2.155764579772949, 'eval_bleu': 13.9615, 'eval_gen_len': 23.8578, 'eval_runtime': 43.2031, 'eval_samples_per_second': 20.346, 'eval_steps_per_second': 1.273, 'epoch': 12.52}\n"
     ]
    },
    {
     "data": {
      "application/vnd.jupyter.widget-view+json": {
       "model_id": "4dd4e898910a45d289b67320f7a051b1",
       "version_major": 2,
       "version_minor": 0
      },
      "text/plain": [
       "  0%|          | 0/55 [00:00<?, ?it/s]"
      ]
     },
     "metadata": {},
     "output_type": "display_data"
    },
    {
     "name": "stdout",
     "output_type": "stream",
     "text": [
      "{'eval_loss': 2.159330129623413, 'eval_bleu': 13.9163, 'eval_gen_len': 23.8658, 'eval_runtime': 46.7712, 'eval_samples_per_second': 18.794, 'eval_steps_per_second': 1.176, 'epoch': 12.54}\n"
     ]
    },
    {
     "data": {
      "application/vnd.jupyter.widget-view+json": {
       "model_id": "1b3ad128287b432e9d154f6e227ec794",
       "version_major": 2,
       "version_minor": 0
      },
      "text/plain": [
       "  0%|          | 0/55 [00:00<?, ?it/s]"
      ]
     },
     "metadata": {},
     "output_type": "display_data"
    },
    {
     "name": "stdout",
     "output_type": "stream",
     "text": [
      "{'eval_loss': 2.161200761795044, 'eval_bleu': 13.7506, 'eval_gen_len': 23.818, 'eval_runtime': 45.4667, 'eval_samples_per_second': 19.333, 'eval_steps_per_second': 1.21, 'epoch': 12.55}\n"
     ]
    },
    {
     "data": {
      "application/vnd.jupyter.widget-view+json": {
       "model_id": "3554ffeb78984cc199b2d0e995dbd206",
       "version_major": 2,
       "version_minor": 0
      },
      "text/plain": [
       "  0%|          | 0/55 [00:00<?, ?it/s]"
      ]
     },
     "metadata": {},
     "output_type": "display_data"
    },
    {
     "name": "stdout",
     "output_type": "stream",
     "text": [
      "{'eval_loss': 2.1493537425994873, 'eval_bleu': 13.58, 'eval_gen_len': 23.7042, 'eval_runtime': 45.5401, 'eval_samples_per_second': 19.302, 'eval_steps_per_second': 1.208, 'epoch': 12.56}\n"
     ]
    },
    {
     "data": {
      "application/vnd.jupyter.widget-view+json": {
       "model_id": "a1dbcdb0c4d24beab2eb08d4e490a9e1",
       "version_major": 2,
       "version_minor": 0
      },
      "text/plain": [
       "  0%|          | 0/55 [00:00<?, ?it/s]"
      ]
     },
     "metadata": {},
     "output_type": "display_data"
    },
    {
     "name": "stdout",
     "output_type": "stream",
     "text": [
      "{'eval_loss': 2.1446292400360107, 'eval_bleu': 13.752, 'eval_gen_len': 23.6724, 'eval_runtime': 44.868, 'eval_samples_per_second': 19.591, 'eval_steps_per_second': 1.226, 'epoch': 12.58}\n",
      "{'loss': 1.5151, 'grad_norm': 1.4412405490875244, 'learning_rate': 0.0003933333333333333, 'epoch': 12.59}\n"
     ]
    },
    {
     "data": {
      "application/vnd.jupyter.widget-view+json": {
       "model_id": "2e145ba31f6d4c3db27834e8a548cfdc",
       "version_major": 2,
       "version_minor": 0
      },
      "text/plain": [
       "  0%|          | 0/55 [00:00<?, ?it/s]"
      ]
     },
     "metadata": {},
     "output_type": "display_data"
    },
    {
     "name": "stdout",
     "output_type": "stream",
     "text": [
      "{'eval_loss': 2.15071177482605, 'eval_bleu': 13.5591, 'eval_gen_len': 23.7611, 'eval_runtime': 46.1255, 'eval_samples_per_second': 19.057, 'eval_steps_per_second': 1.192, 'epoch': 12.59}\n"
     ]
    },
    {
     "data": {
      "application/vnd.jupyter.widget-view+json": {
       "model_id": "30bf7a0ccc594c86a4e6d66d0d933dd4",
       "version_major": 2,
       "version_minor": 0
      },
      "text/plain": [
       "  0%|          | 0/55 [00:00<?, ?it/s]"
      ]
     },
     "metadata": {},
     "output_type": "display_data"
    },
    {
     "name": "stdout",
     "output_type": "stream",
     "text": [
      "{'eval_loss': 2.1494498252868652, 'eval_bleu': 13.6967, 'eval_gen_len': 23.8294, 'eval_runtime': 44.3128, 'eval_samples_per_second': 19.836, 'eval_steps_per_second': 1.241, 'epoch': 12.6}\n"
     ]
    },
    {
     "data": {
      "application/vnd.jupyter.widget-view+json": {
       "model_id": "6cb932755a044a1993a3a7e25e5537a6",
       "version_major": 2,
       "version_minor": 0
      },
      "text/plain": [
       "  0%|          | 0/55 [00:00<?, ?it/s]"
      ]
     },
     "metadata": {},
     "output_type": "display_data"
    },
    {
     "name": "stdout",
     "output_type": "stream",
     "text": [
      "{'eval_loss': 2.1595816612243652, 'eval_bleu': 13.9187, 'eval_gen_len': 23.727, 'eval_runtime': 73.4459, 'eval_samples_per_second': 11.968, 'eval_steps_per_second': 0.749, 'epoch': 12.62}\n"
     ]
    },
    {
     "data": {
      "application/vnd.jupyter.widget-view+json": {
       "model_id": "7cc7c01eee444089a8755d8fe0919280",
       "version_major": 2,
       "version_minor": 0
      },
      "text/plain": [
       "  0%|          | 0/55 [00:00<?, ?it/s]"
      ]
     },
     "metadata": {},
     "output_type": "display_data"
    },
    {
     "name": "stdout",
     "output_type": "stream",
     "text": [
      "{'eval_loss': 2.155214786529541, 'eval_bleu': 13.7557, 'eval_gen_len': 23.7725, 'eval_runtime': 82.2838, 'eval_samples_per_second': 10.683, 'eval_steps_per_second': 0.668, 'epoch': 12.63}\n"
     ]
    },
    {
     "data": {
      "application/vnd.jupyter.widget-view+json": {
       "model_id": "d92c2a19444248dcab9f52636c097567",
       "version_major": 2,
       "version_minor": 0
      },
      "text/plain": [
       "  0%|          | 0/55 [00:00<?, ?it/s]"
      ]
     },
     "metadata": {},
     "output_type": "display_data"
    },
    {
     "name": "stdout",
     "output_type": "stream",
     "text": [
      "{'eval_loss': 2.1442933082580566, 'eval_bleu': 14.229, 'eval_gen_len': 23.7247, 'eval_runtime': 45.7988, 'eval_samples_per_second': 19.193, 'eval_steps_per_second': 1.201, 'epoch': 12.65}\n",
      "{'loss': 1.5149, 'grad_norm': 1.1250582933425903, 'learning_rate': 0.00039000000000000005, 'epoch': 12.66}\n"
     ]
    },
    {
     "data": {
      "application/vnd.jupyter.widget-view+json": {
       "model_id": "2ef7806fbfcc44a8aa06c6010e66d42b",
       "version_major": 2,
       "version_minor": 0
      },
      "text/plain": [
       "  0%|          | 0/55 [00:00<?, ?it/s]"
      ]
     },
     "metadata": {},
     "output_type": "display_data"
    },
    {
     "name": "stdout",
     "output_type": "stream",
     "text": [
      "{'eval_loss': 2.1518332958221436, 'eval_bleu': 14.1386, 'eval_gen_len': 23.7383, 'eval_runtime': 44.1646, 'eval_samples_per_second': 19.903, 'eval_steps_per_second': 1.245, 'epoch': 12.66}\n"
     ]
    },
    {
     "data": {
      "application/vnd.jupyter.widget-view+json": {
       "model_id": "faa924db851a4a5492d222845f69004e",
       "version_major": 2,
       "version_minor": 0
      },
      "text/plain": [
       "  0%|          | 0/55 [00:00<?, ?it/s]"
      ]
     },
     "metadata": {},
     "output_type": "display_data"
    },
    {
     "name": "stdout",
     "output_type": "stream",
     "text": [
      "{'eval_loss': 2.1464133262634277, 'eval_bleu': 13.9839, 'eval_gen_len': 23.6724, 'eval_runtime': 46.1188, 'eval_samples_per_second': 19.059, 'eval_steps_per_second': 1.193, 'epoch': 12.67}\n"
     ]
    },
    {
     "data": {
      "application/vnd.jupyter.widget-view+json": {
       "model_id": "d153aea564254eb29ba64c5ad3205033",
       "version_major": 2,
       "version_minor": 0
      },
      "text/plain": [
       "  0%|          | 0/55 [00:00<?, ?it/s]"
      ]
     },
     "metadata": {},
     "output_type": "display_data"
    },
    {
     "name": "stdout",
     "output_type": "stream",
     "text": [
      "{'eval_loss': 2.138043165206909, 'eval_bleu': 13.8921, 'eval_gen_len': 23.8703, 'eval_runtime': 44.8651, 'eval_samples_per_second': 19.592, 'eval_steps_per_second': 1.226, 'epoch': 12.69}\n"
     ]
    },
    {
     "data": {
      "application/vnd.jupyter.widget-view+json": {
       "model_id": "90fb8639abff48fb8e3d20ff9a2d52ae",
       "version_major": 2,
       "version_minor": 0
      },
      "text/plain": [
       "  0%|          | 0/55 [00:00<?, ?it/s]"
      ]
     },
     "metadata": {},
     "output_type": "display_data"
    },
    {
     "name": "stdout",
     "output_type": "stream",
     "text": [
      "{'eval_loss': 2.144141435623169, 'eval_bleu': 13.7936, 'eval_gen_len': 23.7418, 'eval_runtime': 45.4321, 'eval_samples_per_second': 19.348, 'eval_steps_per_second': 1.211, 'epoch': 12.7}\n"
     ]
    },
    {
     "data": {
      "application/vnd.jupyter.widget-view+json": {
       "model_id": "3259fd156c0741a0afe62aa04ca40fc0",
       "version_major": 2,
       "version_minor": 0
      },
      "text/plain": [
       "  0%|          | 0/55 [00:00<?, ?it/s]"
      ]
     },
     "metadata": {},
     "output_type": "display_data"
    },
    {
     "name": "stdout",
     "output_type": "stream",
     "text": [
      "{'eval_loss': 2.136335849761963, 'eval_bleu': 13.8364, 'eval_gen_len': 23.7929, 'eval_runtime': 46.1763, 'eval_samples_per_second': 19.036, 'eval_steps_per_second': 1.191, 'epoch': 12.72}\n",
      "{'loss': 1.5274, 'grad_norm': 0.9678164720535278, 'learning_rate': 0.00038666666666666667, 'epoch': 12.73}\n"
     ]
    },
    {
     "data": {
      "application/vnd.jupyter.widget-view+json": {
       "model_id": "3f50cff2967d436a80de8ac8a63bdca0",
       "version_major": 2,
       "version_minor": 0
      },
      "text/plain": [
       "  0%|          | 0/55 [00:00<?, ?it/s]"
      ]
     },
     "metadata": {},
     "output_type": "display_data"
    },
    {
     "name": "stdout",
     "output_type": "stream",
     "text": [
      "{'eval_loss': 2.1421477794647217, 'eval_bleu': 14.0294, 'eval_gen_len': 23.7838, 'eval_runtime': 44.7507, 'eval_samples_per_second': 19.642, 'eval_steps_per_second': 1.229, 'epoch': 12.73}\n"
     ]
    },
    {
     "data": {
      "application/vnd.jupyter.widget-view+json": {
       "model_id": "b588313884814223bfad410f33ad5ea1",
       "version_major": 2,
       "version_minor": 0
      },
      "text/plain": [
       "  0%|          | 0/55 [00:00<?, ?it/s]"
      ]
     },
     "metadata": {},
     "output_type": "display_data"
    },
    {
     "name": "stdout",
     "output_type": "stream",
     "text": [
      "{'eval_loss': 2.144098997116089, 'eval_bleu': 13.9348, 'eval_gen_len': 23.8862, 'eval_runtime': 46.3444, 'eval_samples_per_second': 18.967, 'eval_steps_per_second': 1.187, 'epoch': 12.74}\n"
     ]
    },
    {
     "data": {
      "application/vnd.jupyter.widget-view+json": {
       "model_id": "9547b5f06d9442b2a05424d31f54eac1",
       "version_major": 2,
       "version_minor": 0
      },
      "text/plain": [
       "  0%|          | 0/55 [00:00<?, ?it/s]"
      ]
     },
     "metadata": {},
     "output_type": "display_data"
    },
    {
     "name": "stdout",
     "output_type": "stream",
     "text": [
      "{'eval_loss': 2.1504461765289307, 'eval_bleu': 14.2035, 'eval_gen_len': 23.6382, 'eval_runtime': 62.7457, 'eval_samples_per_second': 14.009, 'eval_steps_per_second': 0.877, 'epoch': 12.76}\n"
     ]
    },
    {
     "data": {
      "application/vnd.jupyter.widget-view+json": {
       "model_id": "d7ef9f3dd8294ba69767d7c12fddd0c4",
       "version_major": 2,
       "version_minor": 0
      },
      "text/plain": [
       "  0%|          | 0/55 [00:00<?, ?it/s]"
      ]
     },
     "metadata": {},
     "output_type": "display_data"
    },
    {
     "name": "stdout",
     "output_type": "stream",
     "text": [
      "{'eval_loss': 2.1545350551605225, 'eval_bleu': 13.7897, 'eval_gen_len': 23.8089, 'eval_runtime': 52.6822, 'eval_samples_per_second': 16.685, 'eval_steps_per_second': 1.044, 'epoch': 12.77}\n"
     ]
    },
    {
     "data": {
      "application/vnd.jupyter.widget-view+json": {
       "model_id": "6b080f33014040ec8ee4a494c1c1f1d7",
       "version_major": 2,
       "version_minor": 0
      },
      "text/plain": [
       "  0%|          | 0/55 [00:00<?, ?it/s]"
      ]
     },
     "metadata": {},
     "output_type": "display_data"
    },
    {
     "name": "stdout",
     "output_type": "stream",
     "text": [
      "{'eval_loss': 2.140368700027466, 'eval_bleu': 13.9253, 'eval_gen_len': 23.8225, 'eval_runtime': 46.0475, 'eval_samples_per_second': 19.089, 'eval_steps_per_second': 1.194, 'epoch': 12.78}\n",
      "{'loss': 1.5288, 'grad_norm': 1.2106142044067383, 'learning_rate': 0.00038333333333333334, 'epoch': 12.8}\n"
     ]
    },
    {
     "data": {
      "application/vnd.jupyter.widget-view+json": {
       "model_id": "d0f3de8618cf450db71373ea47245334",
       "version_major": 2,
       "version_minor": 0
      },
      "text/plain": [
       "  0%|          | 0/55 [00:00<?, ?it/s]"
      ]
     },
     "metadata": {},
     "output_type": "display_data"
    },
    {
     "name": "stdout",
     "output_type": "stream",
     "text": [
      "{'eval_loss': 2.1408438682556152, 'eval_bleu': 14.3691, 'eval_gen_len': 23.7793, 'eval_runtime': 44.6972, 'eval_samples_per_second': 19.666, 'eval_steps_per_second': 1.231, 'epoch': 12.8}\n"
     ]
    },
    {
     "data": {
      "application/vnd.jupyter.widget-view+json": {
       "model_id": "f31a10426aa14f0f8cf18722f5efbf44",
       "version_major": 2,
       "version_minor": 0
      },
      "text/plain": [
       "  0%|          | 0/55 [00:00<?, ?it/s]"
      ]
     },
     "metadata": {},
     "output_type": "display_data"
    },
    {
     "name": "stdout",
     "output_type": "stream",
     "text": [
      "{'eval_loss': 2.1429762840270996, 'eval_bleu': 13.8482, 'eval_gen_len': 23.7008, 'eval_runtime': 46.3852, 'eval_samples_per_second': 18.95, 'eval_steps_per_second': 1.186, 'epoch': 12.81}\n"
     ]
    },
    {
     "data": {
      "application/vnd.jupyter.widget-view+json": {
       "model_id": "856279729e4844f19e1627f6197c0f21",
       "version_major": 2,
       "version_minor": 0
      },
      "text/plain": [
       "  0%|          | 0/55 [00:00<?, ?it/s]"
      ]
     },
     "metadata": {},
     "output_type": "display_data"
    },
    {
     "name": "stdout",
     "output_type": "stream",
     "text": [
      "{'eval_loss': 2.1440377235412598, 'eval_bleu': 14.0653, 'eval_gen_len': 23.7281, 'eval_runtime': 44.8055, 'eval_samples_per_second': 19.618, 'eval_steps_per_second': 1.228, 'epoch': 12.83}\n"
     ]
    },
    {
     "data": {
      "application/vnd.jupyter.widget-view+json": {
       "model_id": "4355e16d7d8b4af5ae4ec410a6a94877",
       "version_major": 2,
       "version_minor": 0
      },
      "text/plain": [
       "  0%|          | 0/55 [00:00<?, ?it/s]"
      ]
     },
     "metadata": {},
     "output_type": "display_data"
    },
    {
     "name": "stdout",
     "output_type": "stream",
     "text": [
      "{'eval_loss': 2.1576895713806152, 'eval_bleu': 13.6681, 'eval_gen_len': 23.8487, 'eval_runtime': 45.1609, 'eval_samples_per_second': 19.464, 'eval_steps_per_second': 1.218, 'epoch': 12.84}\n"
     ]
    },
    {
     "data": {
      "application/vnd.jupyter.widget-view+json": {
       "model_id": "b4219b33f0f543fea19f4842e8d835eb",
       "version_major": 2,
       "version_minor": 0
      },
      "text/plain": [
       "  0%|          | 0/55 [00:00<?, ?it/s]"
      ]
     },
     "metadata": {},
     "output_type": "display_data"
    },
    {
     "name": "stdout",
     "output_type": "stream",
     "text": [
      "{'eval_loss': 2.1439764499664307, 'eval_bleu': 13.655, 'eval_gen_len': 23.9135, 'eval_runtime': 44.8963, 'eval_samples_per_second': 19.578, 'eval_steps_per_second': 1.225, 'epoch': 12.85}\n",
      "{'loss': 1.5328, 'grad_norm': 1.3529250621795654, 'learning_rate': 0.00038, 'epoch': 12.87}\n"
     ]
    },
    {
     "data": {
      "application/vnd.jupyter.widget-view+json": {
       "model_id": "11d929f6182e45e9a68376aba9900fa2",
       "version_major": 2,
       "version_minor": 0
      },
      "text/plain": [
       "  0%|          | 0/55 [00:00<?, ?it/s]"
      ]
     },
     "metadata": {},
     "output_type": "display_data"
    },
    {
     "name": "stdout",
     "output_type": "stream",
     "text": [
      "{'eval_loss': 2.15338134765625, 'eval_bleu': 13.7453, 'eval_gen_len': 23.8441, 'eval_runtime': 44.4236, 'eval_samples_per_second': 19.787, 'eval_steps_per_second': 1.238, 'epoch': 12.87}\n"
     ]
    },
    {
     "data": {
      "application/vnd.jupyter.widget-view+json": {
       "model_id": "0b346f1543fc46108bfb4945e2148ae5",
       "version_major": 2,
       "version_minor": 0
      },
      "text/plain": [
       "  0%|          | 0/55 [00:00<?, ?it/s]"
      ]
     },
     "metadata": {},
     "output_type": "display_data"
    },
    {
     "name": "stdout",
     "output_type": "stream",
     "text": [
      "{'eval_loss': 2.1465842723846436, 'eval_bleu': 13.9617, 'eval_gen_len': 23.7645, 'eval_runtime': 45.5584, 'eval_samples_per_second': 19.294, 'eval_steps_per_second': 1.207, 'epoch': 12.88}\n"
     ]
    },
    {
     "data": {
      "application/vnd.jupyter.widget-view+json": {
       "model_id": "20c74d9ae29844bb81e8bc076ea0faa0",
       "version_major": 2,
       "version_minor": 0
      },
      "text/plain": [
       "  0%|          | 0/55 [00:00<?, ?it/s]"
      ]
     },
     "metadata": {},
     "output_type": "display_data"
    },
    {
     "name": "stdout",
     "output_type": "stream",
     "text": [
      "{'eval_loss': 2.1425936222076416, 'eval_bleu': 14.1758, 'eval_gen_len': 23.6428, 'eval_runtime': 43.1292, 'eval_samples_per_second': 20.381, 'eval_steps_per_second': 1.275, 'epoch': 12.9}\n"
     ]
    },
    {
     "data": {
      "application/vnd.jupyter.widget-view+json": {
       "model_id": "78ac6d69bcb9411bbcbad04f054e961e",
       "version_major": 2,
       "version_minor": 0
      },
      "text/plain": [
       "  0%|          | 0/55 [00:00<?, ?it/s]"
      ]
     },
     "metadata": {},
     "output_type": "display_data"
    },
    {
     "name": "stdout",
     "output_type": "stream",
     "text": [
      "{'eval_loss': 2.14353609085083, 'eval_bleu': 14.2369, 'eval_gen_len': 23.7452, 'eval_runtime': 45.478, 'eval_samples_per_second': 19.328, 'eval_steps_per_second': 1.209, 'epoch': 12.91}\n"
     ]
    },
    {
     "data": {
      "application/vnd.jupyter.widget-view+json": {
       "model_id": "bf176e2df40947eaa0ad3ef355c6084b",
       "version_major": 2,
       "version_minor": 0
      },
      "text/plain": [
       "  0%|          | 0/55 [00:00<?, ?it/s]"
      ]
     },
     "metadata": {},
     "output_type": "display_data"
    },
    {
     "name": "stdout",
     "output_type": "stream",
     "text": [
      "{'eval_loss': 2.1333529949188232, 'eval_bleu': 14.3611, 'eval_gen_len': 23.7964, 'eval_runtime': 45.3264, 'eval_samples_per_second': 19.393, 'eval_steps_per_second': 1.213, 'epoch': 12.92}\n",
      "{'loss': 1.5401, 'grad_norm': 1.205376386642456, 'learning_rate': 0.00037666666666666664, 'epoch': 12.94}\n"
     ]
    },
    {
     "data": {
      "application/vnd.jupyter.widget-view+json": {
       "model_id": "43db4604151f459483332b41b83e068e",
       "version_major": 2,
       "version_minor": 0
      },
      "text/plain": [
       "  0%|          | 0/55 [00:00<?, ?it/s]"
      ]
     },
     "metadata": {},
     "output_type": "display_data"
    },
    {
     "name": "stdout",
     "output_type": "stream",
     "text": [
      "{'eval_loss': 2.1462950706481934, 'eval_bleu': 14.1148, 'eval_gen_len': 23.7088, 'eval_runtime': 45.4095, 'eval_samples_per_second': 19.357, 'eval_steps_per_second': 1.211, 'epoch': 12.94}\n"
     ]
    },
    {
     "data": {
      "application/vnd.jupyter.widget-view+json": {
       "model_id": "e3659ae2bf3d44b48722c901ce79d59d",
       "version_major": 2,
       "version_minor": 0
      },
      "text/plain": [
       "  0%|          | 0/55 [00:00<?, ?it/s]"
      ]
     },
     "metadata": {},
     "output_type": "display_data"
    },
    {
     "name": "stdout",
     "output_type": "stream",
     "text": [
      "{'eval_loss': 2.1321635246276855, 'eval_bleu': 13.9792, 'eval_gen_len': 23.8487, 'eval_runtime': 44.4, 'eval_samples_per_second': 19.797, 'eval_steps_per_second': 1.239, 'epoch': 12.95}\n"
     ]
    },
    {
     "data": {
      "application/vnd.jupyter.widget-view+json": {
       "model_id": "9646a58b5fbb4dbc894088ba87a3cbdf",
       "version_major": 2,
       "version_minor": 0
      },
      "text/plain": [
       "  0%|          | 0/55 [00:00<?, ?it/s]"
      ]
     },
     "metadata": {},
     "output_type": "display_data"
    },
    {
     "name": "stdout",
     "output_type": "stream",
     "text": [
      "{'eval_loss': 2.147892951965332, 'eval_bleu': 14.011, 'eval_gen_len': 23.5017, 'eval_runtime': 44.7088, 'eval_samples_per_second': 19.661, 'eval_steps_per_second': 1.23, 'epoch': 12.96}\n"
     ]
    },
    {
     "data": {
      "application/vnd.jupyter.widget-view+json": {
       "model_id": "38e5f5e17d324c678f0d20100d37e475",
       "version_major": 2,
       "version_minor": 0
      },
      "text/plain": [
       "  0%|          | 0/55 [00:00<?, ?it/s]"
      ]
     },
     "metadata": {},
     "output_type": "display_data"
    },
    {
     "name": "stdout",
     "output_type": "stream",
     "text": [
      "{'eval_loss': 2.1274588108062744, 'eval_bleu': 13.9233, 'eval_gen_len': 23.785, 'eval_runtime': 44.6163, 'eval_samples_per_second': 19.701, 'eval_steps_per_second': 1.233, 'epoch': 12.98}\n"
     ]
    },
    {
     "data": {
      "application/vnd.jupyter.widget-view+json": {
       "model_id": "b2234f218a7849d39cf19120bda5cf7a",
       "version_major": 2,
       "version_minor": 0
      },
      "text/plain": [
       "  0%|          | 0/55 [00:00<?, ?it/s]"
      ]
     },
     "metadata": {},
     "output_type": "display_data"
    },
    {
     "name": "stdout",
     "output_type": "stream",
     "text": [
      "{'eval_loss': 2.146442174911499, 'eval_bleu': 14.3378, 'eval_gen_len': 23.8373, 'eval_runtime': 45.3988, 'eval_samples_per_second': 19.362, 'eval_steps_per_second': 1.211, 'epoch': 12.99}\n",
      "{'loss': 1.5285, 'grad_norm': 1.1457531452178955, 'learning_rate': 0.0003733333333333334, 'epoch': 13.01}\n"
     ]
    },
    {
     "data": {
      "application/vnd.jupyter.widget-view+json": {
       "model_id": "54f8c30a706f498685b43b83b6dad1ad",
       "version_major": 2,
       "version_minor": 0
      },
      "text/plain": [
       "  0%|          | 0/55 [00:00<?, ?it/s]"
      ]
     },
     "metadata": {},
     "output_type": "display_data"
    },
    {
     "name": "stdout",
     "output_type": "stream",
     "text": [
      "{'eval_loss': 2.165707588195801, 'eval_bleu': 14.3428, 'eval_gen_len': 23.719, 'eval_runtime': 45.7427, 'eval_samples_per_second': 19.216, 'eval_steps_per_second': 1.202, 'epoch': 13.01}\n"
     ]
    },
    {
     "data": {
      "application/vnd.jupyter.widget-view+json": {
       "model_id": "8dd76942a7ee49de944d819569f89074",
       "version_major": 2,
       "version_minor": 0
      },
      "text/plain": [
       "  0%|          | 0/55 [00:00<?, ?it/s]"
      ]
     },
     "metadata": {},
     "output_type": "display_data"
    },
    {
     "name": "stdout",
     "output_type": "stream",
     "text": [
      "{'eval_loss': 2.1787281036376953, 'eval_bleu': 13.7567, 'eval_gen_len': 23.8783, 'eval_runtime': 43.9763, 'eval_samples_per_second': 19.988, 'eval_steps_per_second': 1.251, 'epoch': 13.02}\n"
     ]
    },
    {
     "data": {
      "application/vnd.jupyter.widget-view+json": {
       "model_id": "0054d5ee6d984fa88f293fd5e538b3f2",
       "version_major": 2,
       "version_minor": 0
      },
      "text/plain": [
       "  0%|          | 0/55 [00:00<?, ?it/s]"
      ]
     },
     "metadata": {},
     "output_type": "display_data"
    },
    {
     "name": "stdout",
     "output_type": "stream",
     "text": [
      "{'eval_loss': 2.1891822814941406, 'eval_bleu': 13.9559, 'eval_gen_len': 23.6826, 'eval_runtime': 46.1874, 'eval_samples_per_second': 19.031, 'eval_steps_per_second': 1.191, 'epoch': 13.03}\n"
     ]
    },
    {
     "data": {
      "application/vnd.jupyter.widget-view+json": {
       "model_id": "71c9356c53c64ceeaae599e4fd732845",
       "version_major": 2,
       "version_minor": 0
      },
      "text/plain": [
       "  0%|          | 0/55 [00:00<?, ?it/s]"
      ]
     },
     "metadata": {},
     "output_type": "display_data"
    },
    {
     "name": "stdout",
     "output_type": "stream",
     "text": [
      "{'eval_loss': 2.1774919033050537, 'eval_bleu': 13.7879, 'eval_gen_len': 23.8714, 'eval_runtime': 45.1984, 'eval_samples_per_second': 19.448, 'eval_steps_per_second': 1.217, 'epoch': 13.05}\n"
     ]
    },
    {
     "data": {
      "application/vnd.jupyter.widget-view+json": {
       "model_id": "c8030dcac3a34f8899ee4f1173e73a11",
       "version_major": 2,
       "version_minor": 0
      },
      "text/plain": [
       "  0%|          | 0/55 [00:00<?, ?it/s]"
      ]
     },
     "metadata": {},
     "output_type": "display_data"
    },
    {
     "name": "stdout",
     "output_type": "stream",
     "text": [
      "{'eval_loss': 2.184563636779785, 'eval_bleu': 14.0359, 'eval_gen_len': 23.5939, 'eval_runtime': 45.1272, 'eval_samples_per_second': 19.478, 'eval_steps_per_second': 1.219, 'epoch': 13.06}\n",
      "{'loss': 1.3986, 'grad_norm': 1.0756455659866333, 'learning_rate': 0.00037, 'epoch': 13.08}\n"
     ]
    },
    {
     "data": {
      "application/vnd.jupyter.widget-view+json": {
       "model_id": "1b099e014dd749ec9a9eccfe083493a1",
       "version_major": 2,
       "version_minor": 0
      },
      "text/plain": [
       "  0%|          | 0/55 [00:00<?, ?it/s]"
      ]
     },
     "metadata": {},
     "output_type": "display_data"
    },
    {
     "name": "stdout",
     "output_type": "stream",
     "text": [
      "{'eval_loss': 2.1661229133605957, 'eval_bleu': 13.9235, 'eval_gen_len': 23.8749, 'eval_runtime': 46.026, 'eval_samples_per_second': 19.098, 'eval_steps_per_second': 1.195, 'epoch': 13.08}\n"
     ]
    },
    {
     "data": {
      "application/vnd.jupyter.widget-view+json": {
       "model_id": "7972a923e29642a59c045df075a6a563",
       "version_major": 2,
       "version_minor": 0
      },
      "text/plain": [
       "  0%|          | 0/55 [00:00<?, ?it/s]"
      ]
     },
     "metadata": {},
     "output_type": "display_data"
    },
    {
     "name": "stdout",
     "output_type": "stream",
     "text": [
      "{'eval_loss': 2.1817057132720947, 'eval_bleu': 13.7699, 'eval_gen_len': 23.7782, 'eval_runtime': 44.225, 'eval_samples_per_second': 19.876, 'eval_steps_per_second': 1.244, 'epoch': 13.09}\n"
     ]
    },
    {
     "data": {
      "application/vnd.jupyter.widget-view+json": {
       "model_id": "a5a6c7976119414981e64c2079f70f21",
       "version_major": 2,
       "version_minor": 0
      },
      "text/plain": [
       "  0%|          | 0/55 [00:00<?, ?it/s]"
      ]
     },
     "metadata": {},
     "output_type": "display_data"
    },
    {
     "name": "stdout",
     "output_type": "stream",
     "text": [
      "{'eval_loss': 2.179429292678833, 'eval_bleu': 13.6466, 'eval_gen_len': 23.9738, 'eval_runtime': 47.1904, 'eval_samples_per_second': 18.627, 'eval_steps_per_second': 1.165, 'epoch': 13.1}\n"
     ]
    },
    {
     "data": {
      "application/vnd.jupyter.widget-view+json": {
       "model_id": "461934b14cc44d8c82bd41f9eb12b801",
       "version_major": 2,
       "version_minor": 0
      },
      "text/plain": [
       "  0%|          | 0/55 [00:00<?, ?it/s]"
      ]
     },
     "metadata": {},
     "output_type": "display_data"
    },
    {
     "name": "stdout",
     "output_type": "stream",
     "text": [
      "{'eval_loss': 2.173358201980591, 'eval_bleu': 14.1311, 'eval_gen_len': 23.8646, 'eval_runtime': 44.2777, 'eval_samples_per_second': 19.852, 'eval_steps_per_second': 1.242, 'epoch': 13.12}\n"
     ]
    },
    {
     "data": {
      "application/vnd.jupyter.widget-view+json": {
       "model_id": "29d4d9ab69b144e0914970a155302ab5",
       "version_major": 2,
       "version_minor": 0
      },
      "text/plain": [
       "  0%|          | 0/55 [00:00<?, ?it/s]"
      ]
     },
     "metadata": {},
     "output_type": "display_data"
    },
    {
     "name": "stdout",
     "output_type": "stream",
     "text": [
      "{'eval_loss': 2.180752992630005, 'eval_bleu': 14.1237, 'eval_gen_len': 23.7042, 'eval_runtime': 55.4151, 'eval_samples_per_second': 15.862, 'eval_steps_per_second': 0.993, 'epoch': 13.13}\n",
      "{'loss': 1.4134, 'grad_norm': 1.454483985900879, 'learning_rate': 0.00036666666666666667, 'epoch': 13.14}\n"
     ]
    },
    {
     "data": {
      "application/vnd.jupyter.widget-view+json": {
       "model_id": "e45bc6e50a7a4473864351dabf298c73",
       "version_major": 2,
       "version_minor": 0
      },
      "text/plain": [
       "  0%|          | 0/55 [00:00<?, ?it/s]"
      ]
     },
     "metadata": {},
     "output_type": "display_data"
    },
    {
     "name": "stdout",
     "output_type": "stream",
     "text": [
      "{'eval_loss': 2.1724414825439453, 'eval_bleu': 13.8832, 'eval_gen_len': 23.8976, 'eval_runtime': 45.9507, 'eval_samples_per_second': 19.129, 'eval_steps_per_second': 1.197, 'epoch': 13.14}\n"
     ]
    },
    {
     "data": {
      "application/vnd.jupyter.widget-view+json": {
       "model_id": "9a97e2759b1c4c8bbc9c2050cc3f38d4",
       "version_major": 2,
       "version_minor": 0
      },
      "text/plain": [
       "  0%|          | 0/55 [00:00<?, ?it/s]"
      ]
     },
     "metadata": {},
     "output_type": "display_data"
    },
    {
     "name": "stdout",
     "output_type": "stream",
     "text": [
      "{'eval_loss': 2.1856589317321777, 'eval_bleu': 14.1118, 'eval_gen_len': 23.7258, 'eval_runtime': 45.3946, 'eval_samples_per_second': 19.364, 'eval_steps_per_second': 1.212, 'epoch': 13.16}\n"
     ]
    },
    {
     "data": {
      "application/vnd.jupyter.widget-view+json": {
       "model_id": "7ff16d6af7594b288319895b5b5b28c9",
       "version_major": 2,
       "version_minor": 0
      },
      "text/plain": [
       "  0%|          | 0/55 [00:00<?, ?it/s]"
      ]
     },
     "metadata": {},
     "output_type": "display_data"
    },
    {
     "name": "stdout",
     "output_type": "stream",
     "text": [
      "{'eval_loss': 2.1723592281341553, 'eval_bleu': 13.998, 'eval_gen_len': 23.7929, 'eval_runtime': 46.1271, 'eval_samples_per_second': 19.056, 'eval_steps_per_second': 1.192, 'epoch': 13.17}\n"
     ]
    },
    {
     "data": {
      "application/vnd.jupyter.widget-view+json": {
       "model_id": "e82c8934dd1542ae902ba471b05bd673",
       "version_major": 2,
       "version_minor": 0
      },
      "text/plain": [
       "  0%|          | 0/55 [00:00<?, ?it/s]"
      ]
     },
     "metadata": {},
     "output_type": "display_data"
    },
    {
     "name": "stdout",
     "output_type": "stream",
     "text": [
      "{'eval_loss': 2.1623055934906006, 'eval_bleu': 13.6367, 'eval_gen_len': 23.818, 'eval_runtime': 45.4991, 'eval_samples_per_second': 19.319, 'eval_steps_per_second': 1.209, 'epoch': 13.19}\n"
     ]
    },
    {
     "data": {
      "application/vnd.jupyter.widget-view+json": {
       "model_id": "1715b8ab802a409db6554f13de442a9d",
       "version_major": 2,
       "version_minor": 0
      },
      "text/plain": [
       "  0%|          | 0/55 [00:00<?, ?it/s]"
      ]
     },
     "metadata": {},
     "output_type": "display_data"
    },
    {
     "name": "stdout",
     "output_type": "stream",
     "text": [
      "{'eval_loss': 2.1869709491729736, 'eval_bleu': 13.6915, 'eval_gen_len': 23.711, 'eval_runtime': 45.6976, 'eval_samples_per_second': 19.235, 'eval_steps_per_second': 1.204, 'epoch': 13.2}\n",
      "{'loss': 1.4227, 'grad_norm': 1.3670985698699951, 'learning_rate': 0.00036333333333333335, 'epoch': 13.21}\n"
     ]
    },
    {
     "data": {
      "application/vnd.jupyter.widget-view+json": {
       "model_id": "a874952b9f8f4e6f8cfdac99be613f20",
       "version_major": 2,
       "version_minor": 0
      },
      "text/plain": [
       "  0%|          | 0/55 [00:00<?, ?it/s]"
      ]
     },
     "metadata": {},
     "output_type": "display_data"
    },
    {
     "name": "stdout",
     "output_type": "stream",
     "text": [
      "{'eval_loss': 2.181572437286377, 'eval_bleu': 13.9404, 'eval_gen_len': 23.8043, 'eval_runtime': 45.9642, 'eval_samples_per_second': 19.124, 'eval_steps_per_second': 1.197, 'epoch': 13.21}\n"
     ]
    },
    {
     "data": {
      "application/vnd.jupyter.widget-view+json": {
       "model_id": "69b27a7964394ae5a257af975ee7e3b6",
       "version_major": 2,
       "version_minor": 0
      },
      "text/plain": [
       "  0%|          | 0/55 [00:00<?, ?it/s]"
      ]
     },
     "metadata": {},
     "output_type": "display_data"
    },
    {
     "name": "stdout",
     "output_type": "stream",
     "text": [
      "{'eval_loss': 2.1721248626708984, 'eval_bleu': 14.3014, 'eval_gen_len': 23.7736, 'eval_runtime': 44.6396, 'eval_samples_per_second': 19.691, 'eval_steps_per_second': 1.232, 'epoch': 13.23}\n"
     ]
    },
    {
     "data": {
      "application/vnd.jupyter.widget-view+json": {
       "model_id": "2f4fb6e848a043c7875c00b94f3b74d7",
       "version_major": 2,
       "version_minor": 0
      },
      "text/plain": [
       "  0%|          | 0/55 [00:00<?, ?it/s]"
      ]
     },
     "metadata": {},
     "output_type": "display_data"
    },
    {
     "name": "stdout",
     "output_type": "stream",
     "text": [
      "{'eval_loss': 2.1755173206329346, 'eval_bleu': 14.172, 'eval_gen_len': 23.8851, 'eval_runtime': 45.3094, 'eval_samples_per_second': 19.4, 'eval_steps_per_second': 1.214, 'epoch': 13.24}\n"
     ]
    },
    {
     "data": {
      "application/vnd.jupyter.widget-view+json": {
       "model_id": "7a90e0e87d1042c18f88cb28c5d2ebed",
       "version_major": 2,
       "version_minor": 0
      },
      "text/plain": [
       "  0%|          | 0/55 [00:00<?, ?it/s]"
      ]
     },
     "metadata": {},
     "output_type": "display_data"
    },
    {
     "name": "stdout",
     "output_type": "stream",
     "text": [
      "{'eval_loss': 2.1834347248077393, 'eval_bleu': 13.9296, 'eval_gen_len': 23.8066, 'eval_runtime': 44.2786, 'eval_samples_per_second': 19.852, 'eval_steps_per_second': 1.242, 'epoch': 13.25}\n"
     ]
    },
    {
     "data": {
      "application/vnd.jupyter.widget-view+json": {
       "model_id": "fd8615d8da0a424db673d04894e43c6f",
       "version_major": 2,
       "version_minor": 0
      },
      "text/plain": [
       "  0%|          | 0/55 [00:00<?, ?it/s]"
      ]
     },
     "metadata": {},
     "output_type": "display_data"
    },
    {
     "name": "stdout",
     "output_type": "stream",
     "text": [
      "{'eval_loss': 2.175830125808716, 'eval_bleu': 14.0908, 'eval_gen_len': 23.744, 'eval_runtime': 44.765, 'eval_samples_per_second': 19.636, 'eval_steps_per_second': 1.229, 'epoch': 13.27}\n",
      "{'loss': 1.4235, 'grad_norm': 1.2534061670303345, 'learning_rate': 0.00035999999999999997, 'epoch': 13.28}\n"
     ]
    },
    {
     "data": {
      "application/vnd.jupyter.widget-view+json": {
       "model_id": "f5ca251886174e9ca2dd9161e4ba39b7",
       "version_major": 2,
       "version_minor": 0
      },
      "text/plain": [
       "  0%|          | 0/55 [00:00<?, ?it/s]"
      ]
     },
     "metadata": {},
     "output_type": "display_data"
    },
    {
     "name": "stdout",
     "output_type": "stream",
     "text": [
      "{'eval_loss': 2.173963785171509, 'eval_bleu': 14.0962, 'eval_gen_len': 23.851, 'eval_runtime': 45.3595, 'eval_samples_per_second': 19.379, 'eval_steps_per_second': 1.213, 'epoch': 13.28}\n"
     ]
    },
    {
     "data": {
      "application/vnd.jupyter.widget-view+json": {
       "model_id": "dd752b5f45254c58b2e252a2eb2c0ab2",
       "version_major": 2,
       "version_minor": 0
      },
      "text/plain": [
       "  0%|          | 0/55 [00:00<?, ?it/s]"
      ]
     },
     "metadata": {},
     "output_type": "display_data"
    },
    {
     "name": "stdout",
     "output_type": "stream",
     "text": [
      "{'eval_loss': 2.177044630050659, 'eval_bleu': 13.9701, 'eval_gen_len': 23.7065, 'eval_runtime': 45.7756, 'eval_samples_per_second': 19.202, 'eval_steps_per_second': 1.202, 'epoch': 13.3}\n"
     ]
    },
    {
     "data": {
      "application/vnd.jupyter.widget-view+json": {
       "model_id": "054312bbb2c84cd9b2dc04511af1ab7c",
       "version_major": 2,
       "version_minor": 0
      },
      "text/plain": [
       "  0%|          | 0/55 [00:00<?, ?it/s]"
      ]
     },
     "metadata": {},
     "output_type": "display_data"
    },
    {
     "name": "stdout",
     "output_type": "stream",
     "text": [
      "{'eval_loss': 2.1626176834106445, 'eval_bleu': 14.3675, 'eval_gen_len': 23.9113, 'eval_runtime': 44.5146, 'eval_samples_per_second': 19.746, 'eval_steps_per_second': 1.236, 'epoch': 13.31}\n"
     ]
    },
    {
     "data": {
      "application/vnd.jupyter.widget-view+json": {
       "model_id": "4dee869b2e4d4f4f8aa2f5f743dfebf3",
       "version_major": 2,
       "version_minor": 0
      },
      "text/plain": [
       "  0%|          | 0/55 [00:00<?, ?it/s]"
      ]
     },
     "metadata": {},
     "output_type": "display_data"
    },
    {
     "name": "stdout",
     "output_type": "stream",
     "text": [
      "{'eval_loss': 2.1659345626831055, 'eval_bleu': 13.9649, 'eval_gen_len': 23.7065, 'eval_runtime': 45.6247, 'eval_samples_per_second': 19.266, 'eval_steps_per_second': 1.205, 'epoch': 13.32}\n"
     ]
    },
    {
     "data": {
      "application/vnd.jupyter.widget-view+json": {
       "model_id": "613e915a926d4ec98d0ed7c0e69c80f6",
       "version_major": 2,
       "version_minor": 0
      },
      "text/plain": [
       "  0%|          | 0/55 [00:00<?, ?it/s]"
      ]
     },
     "metadata": {},
     "output_type": "display_data"
    },
    {
     "name": "stdout",
     "output_type": "stream",
     "text": [
      "{'eval_loss': 2.17207932472229, 'eval_bleu': 13.9609, 'eval_gen_len': 23.719, 'eval_runtime': 45.2395, 'eval_samples_per_second': 19.43, 'eval_steps_per_second': 1.216, 'epoch': 13.34}\n",
      "{'loss': 1.4447, 'grad_norm': 1.5496454238891602, 'learning_rate': 0.0003566666666666667, 'epoch': 13.35}\n"
     ]
    },
    {
     "data": {
      "application/vnd.jupyter.widget-view+json": {
       "model_id": "748032fa4c504e9288a2f37888b1421f",
       "version_major": 2,
       "version_minor": 0
      },
      "text/plain": [
       "  0%|          | 0/55 [00:00<?, ?it/s]"
      ]
     },
     "metadata": {},
     "output_type": "display_data"
    },
    {
     "name": "stdout",
     "output_type": "stream",
     "text": [
      "{'eval_loss': 2.1707024574279785, 'eval_bleu': 14.0535, 'eval_gen_len': 23.7554, 'eval_runtime': 44.9985, 'eval_samples_per_second': 19.534, 'eval_steps_per_second': 1.222, 'epoch': 13.35}\n"
     ]
    },
    {
     "data": {
      "application/vnd.jupyter.widget-view+json": {
       "model_id": "7d1ed20817e14953a041dc5e16806e42",
       "version_major": 2,
       "version_minor": 0
      },
      "text/plain": [
       "  0%|          | 0/55 [00:00<?, ?it/s]"
      ]
     },
     "metadata": {},
     "output_type": "display_data"
    },
    {
     "name": "stdout",
     "output_type": "stream",
     "text": [
      "{'eval_loss': 2.173581600189209, 'eval_bleu': 13.8507, 'eval_gen_len': 23.7031, 'eval_runtime': 46.5945, 'eval_samples_per_second': 18.865, 'eval_steps_per_second': 1.18, 'epoch': 13.37}\n"
     ]
    },
    {
     "data": {
      "application/vnd.jupyter.widget-view+json": {
       "model_id": "4a447555d85343a0ba13d36468642b34",
       "version_major": 2,
       "version_minor": 0
      },
      "text/plain": [
       "  0%|          | 0/55 [00:00<?, ?it/s]"
      ]
     },
     "metadata": {},
     "output_type": "display_data"
    },
    {
     "name": "stdout",
     "output_type": "stream",
     "text": [
      "{'eval_loss': 2.184607744216919, 'eval_bleu': 14.0234, 'eval_gen_len': 23.5916, 'eval_runtime': 43.9799, 'eval_samples_per_second': 19.986, 'eval_steps_per_second': 1.251, 'epoch': 13.38}\n"
     ]
    },
    {
     "data": {
      "application/vnd.jupyter.widget-view+json": {
       "model_id": "92cde721220a47e5ad6c54e37087df03",
       "version_major": 2,
       "version_minor": 0
      },
      "text/plain": [
       "  0%|          | 0/55 [00:00<?, ?it/s]"
      ]
     },
     "metadata": {},
     "output_type": "display_data"
    },
    {
     "name": "stdout",
     "output_type": "stream",
     "text": [
      "{'eval_loss': 2.1706390380859375, 'eval_bleu': 13.6969, 'eval_gen_len': 23.6132, 'eval_runtime': 46.1907, 'eval_samples_per_second': 19.03, 'eval_steps_per_second': 1.191, 'epoch': 13.39}\n"
     ]
    },
    {
     "data": {
      "application/vnd.jupyter.widget-view+json": {
       "model_id": "1bde5ce16fe64d7c8601e5a7e5b76bdb",
       "version_major": 2,
       "version_minor": 0
      },
      "text/plain": [
       "  0%|          | 0/55 [00:00<?, ?it/s]"
      ]
     },
     "metadata": {},
     "output_type": "display_data"
    },
    {
     "name": "stdout",
     "output_type": "stream",
     "text": [
      "{'eval_loss': 2.170318841934204, 'eval_bleu': 13.6208, 'eval_gen_len': 23.8999, 'eval_runtime': 45.1416, 'eval_samples_per_second': 19.472, 'eval_steps_per_second': 1.218, 'epoch': 13.41}\n",
      "{'loss': 1.4403, 'grad_norm': 1.1572397947311401, 'learning_rate': 0.0003533333333333333, 'epoch': 13.42}\n"
     ]
    },
    {
     "data": {
      "application/vnd.jupyter.widget-view+json": {
       "model_id": "74b48994df2c4917864888397c94718d",
       "version_major": 2,
       "version_minor": 0
      },
      "text/plain": [
       "  0%|          | 0/55 [00:00<?, ?it/s]"
      ]
     },
     "metadata": {},
     "output_type": "display_data"
    },
    {
     "name": "stdout",
     "output_type": "stream",
     "text": [
      "{'eval_loss': 2.1638076305389404, 'eval_bleu': 13.7311, 'eval_gen_len': 23.7247, 'eval_runtime': 44.3835, 'eval_samples_per_second': 19.805, 'eval_steps_per_second': 1.239, 'epoch': 13.42}\n"
     ]
    },
    {
     "data": {
      "application/vnd.jupyter.widget-view+json": {
       "model_id": "ac56ea3fd25c48f1b2caf4a2d00145cb",
       "version_major": 2,
       "version_minor": 0
      },
      "text/plain": [
       "  0%|          | 0/55 [00:00<?, ?it/s]"
      ]
     },
     "metadata": {},
     "output_type": "display_data"
    },
    {
     "name": "stdout",
     "output_type": "stream",
     "text": [
      "{'eval_loss': 2.1821858882904053, 'eval_bleu': 14.0612, 'eval_gen_len': 23.8111, 'eval_runtime': 45.3625, 'eval_samples_per_second': 19.377, 'eval_steps_per_second': 1.212, 'epoch': 13.43}\n"
     ]
    },
    {
     "data": {
      "application/vnd.jupyter.widget-view+json": {
       "model_id": "9cf81ae5d55e40ef8b817a38406edb61",
       "version_major": 2,
       "version_minor": 0
      },
      "text/plain": [
       "  0%|          | 0/55 [00:00<?, ?it/s]"
      ]
     },
     "metadata": {},
     "output_type": "display_data"
    },
    {
     "name": "stdout",
     "output_type": "stream",
     "text": [
      "{'eval_loss': 2.1727192401885986, 'eval_bleu': 13.8511, 'eval_gen_len': 23.8794, 'eval_runtime': 44.7064, 'eval_samples_per_second': 19.662, 'eval_steps_per_second': 1.23, 'epoch': 13.45}\n"
     ]
    },
    {
     "data": {
      "application/vnd.jupyter.widget-view+json": {
       "model_id": "1d793257b46f46279f0ec39627599065",
       "version_major": 2,
       "version_minor": 0
      },
      "text/plain": [
       "  0%|          | 0/55 [00:00<?, ?it/s]"
      ]
     },
     "metadata": {},
     "output_type": "display_data"
    },
    {
     "name": "stdout",
     "output_type": "stream",
     "text": [
      "{'eval_loss': 2.173431158065796, 'eval_bleu': 13.5879, 'eval_gen_len': 23.7235, 'eval_runtime': 46.217, 'eval_samples_per_second': 19.019, 'eval_steps_per_second': 1.19, 'epoch': 13.46}\n"
     ]
    },
    {
     "data": {
      "application/vnd.jupyter.widget-view+json": {
       "model_id": "e5f16015e73e4edbb2c92e1dde1898d2",
       "version_major": 2,
       "version_minor": 0
      },
      "text/plain": [
       "  0%|          | 0/55 [00:00<?, ?it/s]"
      ]
     },
     "metadata": {},
     "output_type": "display_data"
    },
    {
     "name": "stdout",
     "output_type": "stream",
     "text": [
      "{'eval_loss': 2.179394245147705, 'eval_bleu': 13.4863, 'eval_gen_len': 23.6621, 'eval_runtime': 44.6443, 'eval_samples_per_second': 19.689, 'eval_steps_per_second': 1.232, 'epoch': 13.48}\n",
      "{'loss': 1.4419, 'grad_norm': 1.1915279626846313, 'learning_rate': 0.00035, 'epoch': 13.49}\n"
     ]
    },
    {
     "data": {
      "application/vnd.jupyter.widget-view+json": {
       "model_id": "687efa3c2f4d4957960b7799ff25dd43",
       "version_major": 2,
       "version_minor": 0
      },
      "text/plain": [
       "  0%|          | 0/55 [00:00<?, ?it/s]"
      ]
     },
     "metadata": {},
     "output_type": "display_data"
    },
    {
     "name": "stdout",
     "output_type": "stream",
     "text": [
      "{'eval_loss': 2.1676793098449707, 'eval_bleu': 14.0088, 'eval_gen_len': 23.6507, 'eval_runtime': 44.0845, 'eval_samples_per_second': 19.939, 'eval_steps_per_second': 1.248, 'epoch': 13.49}\n"
     ]
    },
    {
     "data": {
      "application/vnd.jupyter.widget-view+json": {
       "model_id": "fcd1302b281c4622b211299d08fdf437",
       "version_major": 2,
       "version_minor": 0
      },
      "text/plain": [
       "  0%|          | 0/55 [00:00<?, ?it/s]"
      ]
     },
     "metadata": {},
     "output_type": "display_data"
    },
    {
     "name": "stdout",
     "output_type": "stream",
     "text": [
      "{'eval_loss': 2.167076349258423, 'eval_bleu': 13.9624, 'eval_gen_len': 23.7554, 'eval_runtime': 63.0059, 'eval_samples_per_second': 13.951, 'eval_steps_per_second': 0.873, 'epoch': 13.5}\n"
     ]
    },
    {
     "data": {
      "application/vnd.jupyter.widget-view+json": {
       "model_id": "8bc2b564cd3142a3972fed0de9d17774",
       "version_major": 2,
       "version_minor": 0
      },
      "text/plain": [
       "  0%|          | 0/55 [00:00<?, ?it/s]"
      ]
     },
     "metadata": {},
     "output_type": "display_data"
    },
    {
     "name": "stdout",
     "output_type": "stream",
     "text": [
      "{'eval_loss': 2.1600074768066406, 'eval_bleu': 14.2249, 'eval_gen_len': 23.7577, 'eval_runtime': 94.6499, 'eval_samples_per_second': 9.287, 'eval_steps_per_second': 0.581, 'epoch': 13.52}\n"
     ]
    },
    {
     "data": {
      "application/vnd.jupyter.widget-view+json": {
       "model_id": "d635b29ed0f149da956a55c37232c46b",
       "version_major": 2,
       "version_minor": 0
      },
      "text/plain": [
       "  0%|          | 0/55 [00:00<?, ?it/s]"
      ]
     },
     "metadata": {},
     "output_type": "display_data"
    },
    {
     "name": "stdout",
     "output_type": "stream",
     "text": [
      "{'eval_loss': 2.1648638248443604, 'eval_bleu': 13.958, 'eval_gen_len': 23.8658, 'eval_runtime': 93.386, 'eval_samples_per_second': 9.413, 'eval_steps_per_second': 0.589, 'epoch': 13.53}\n"
     ]
    },
    {
     "data": {
      "application/vnd.jupyter.widget-view+json": {
       "model_id": "32454886492d406a8f126ef6231e25f3",
       "version_major": 2,
       "version_minor": 0
      },
      "text/plain": [
       "  0%|          | 0/55 [00:00<?, ?it/s]"
      ]
     },
     "metadata": {},
     "output_type": "display_data"
    },
    {
     "name": "stdout",
     "output_type": "stream",
     "text": [
      "{'eval_loss': 2.170058250427246, 'eval_bleu': 13.6951, 'eval_gen_len': 23.7349, 'eval_runtime': 93.4151, 'eval_samples_per_second': 9.41, 'eval_steps_per_second': 0.589, 'epoch': 13.55}\n",
      "{'loss': 1.4498, 'grad_norm': 1.225188970565796, 'learning_rate': 0.00034666666666666667, 'epoch': 13.56}\n"
     ]
    },
    {
     "data": {
      "application/vnd.jupyter.widget-view+json": {
       "model_id": "b49ac025c30144d39c4f7019e99631d8",
       "version_major": 2,
       "version_minor": 0
      },
      "text/plain": [
       "  0%|          | 0/55 [00:00<?, ?it/s]"
      ]
     },
     "metadata": {},
     "output_type": "display_data"
    },
    {
     "name": "stdout",
     "output_type": "stream",
     "text": [
      "{'eval_loss': 2.1648707389831543, 'eval_bleu': 13.4341, 'eval_gen_len': 23.8089, 'eval_runtime': 93.7336, 'eval_samples_per_second': 9.378, 'eval_steps_per_second': 0.587, 'epoch': 13.56}\n"
     ]
    },
    {
     "data": {
      "application/vnd.jupyter.widget-view+json": {
       "model_id": "51c5ff4bb14f47a5bfd1def454d60680",
       "version_major": 2,
       "version_minor": 0
      },
      "text/plain": [
       "  0%|          | 0/55 [00:00<?, ?it/s]"
      ]
     },
     "metadata": {},
     "output_type": "display_data"
    },
    {
     "name": "stdout",
     "output_type": "stream",
     "text": [
      "{'eval_loss': 2.1665310859680176, 'eval_bleu': 14.2682, 'eval_gen_len': 23.6712, 'eval_runtime': 94.8978, 'eval_samples_per_second': 9.263, 'eval_steps_per_second': 0.58, 'epoch': 13.57}\n"
     ]
    },
    {
     "data": {
      "application/vnd.jupyter.widget-view+json": {
       "model_id": "38eaa1dee50e473eb6911acc1874f654",
       "version_major": 2,
       "version_minor": 0
      },
      "text/plain": [
       "  0%|          | 0/55 [00:00<?, ?it/s]"
      ]
     },
     "metadata": {},
     "output_type": "display_data"
    },
    {
     "name": "stdout",
     "output_type": "stream",
     "text": [
      "{'eval_loss': 2.1589996814727783, 'eval_bleu': 13.7054, 'eval_gen_len': 23.7019, 'eval_runtime': 45.7854, 'eval_samples_per_second': 19.198, 'eval_steps_per_second': 1.201, 'epoch': 13.59}\n"
     ]
    },
    {
     "data": {
      "application/vnd.jupyter.widget-view+json": {
       "model_id": "7d1c602486ed432da768c65985692cc6",
       "version_major": 2,
       "version_minor": 0
      },
      "text/plain": [
       "  0%|          | 0/55 [00:00<?, ?it/s]"
      ]
     },
     "metadata": {},
     "output_type": "display_data"
    },
    {
     "name": "stdout",
     "output_type": "stream",
     "text": [
      "{'eval_loss': 2.1677632331848145, 'eval_bleu': 13.988, 'eval_gen_len': 23.744, 'eval_runtime': 52.1178, 'eval_samples_per_second': 16.866, 'eval_steps_per_second': 1.055, 'epoch': 13.6}\n"
     ]
    },
    {
     "data": {
      "application/vnd.jupyter.widget-view+json": {
       "model_id": "09318fa95cd344e387f6e3e7be9944da",
       "version_major": 2,
       "version_minor": 0
      },
      "text/plain": [
       "  0%|          | 0/55 [00:00<?, ?it/s]"
      ]
     },
     "metadata": {},
     "output_type": "display_data"
    },
    {
     "name": "stdout",
     "output_type": "stream",
     "text": [
      "{'eval_loss': 2.166435956954956, 'eval_bleu': 13.8801, 'eval_gen_len': 23.8077, 'eval_runtime': 76.2439, 'eval_samples_per_second': 11.529, 'eval_steps_per_second': 0.721, 'epoch': 13.61}\n",
      "{'loss': 1.4577, 'grad_norm': 1.1697006225585938, 'learning_rate': 0.00034333333333333335, 'epoch': 13.63}\n"
     ]
    },
    {
     "data": {
      "application/vnd.jupyter.widget-view+json": {
       "model_id": "3bd82d49e30c4a8e9e1deac2f602762f",
       "version_major": 2,
       "version_minor": 0
      },
      "text/plain": [
       "  0%|          | 0/55 [00:00<?, ?it/s]"
      ]
     },
     "metadata": {},
     "output_type": "display_data"
    },
    {
     "name": "stdout",
     "output_type": "stream",
     "text": [
      "{'eval_loss': 2.165342330932617, 'eval_bleu': 13.7237, 'eval_gen_len': 23.6894, 'eval_runtime': 44.6104, 'eval_samples_per_second': 19.704, 'eval_steps_per_second': 1.233, 'epoch': 13.63}\n"
     ]
    },
    {
     "data": {
      "application/vnd.jupyter.widget-view+json": {
       "model_id": "7cf8f2340d024308bf5d42d8901e490f",
       "version_major": 2,
       "version_minor": 0
      },
      "text/plain": [
       "  0%|          | 0/55 [00:00<?, ?it/s]"
      ]
     },
     "metadata": {},
     "output_type": "display_data"
    },
    {
     "name": "stdout",
     "output_type": "stream",
     "text": [
      "{'eval_loss': 2.168837070465088, 'eval_bleu': 13.5065, 'eval_gen_len': 23.7895, 'eval_runtime': 44.818, 'eval_samples_per_second': 19.613, 'eval_steps_per_second': 1.227, 'epoch': 13.64}\n"
     ]
    },
    {
     "data": {
      "application/vnd.jupyter.widget-view+json": {
       "model_id": "1b228b8816754b038bba2d0af1aeae22",
       "version_major": 2,
       "version_minor": 0
      },
      "text/plain": [
       "  0%|          | 0/55 [00:00<?, ?it/s]"
      ]
     },
     "metadata": {},
     "output_type": "display_data"
    },
    {
     "name": "stdout",
     "output_type": "stream",
     "text": [
      "{'eval_loss': 2.1739466190338135, 'eval_bleu': 13.7807, 'eval_gen_len': 23.7952, 'eval_runtime': 46.8197, 'eval_samples_per_second': 18.774, 'eval_steps_per_second': 1.175, 'epoch': 13.66}\n"
     ]
    },
    {
     "data": {
      "application/vnd.jupyter.widget-view+json": {
       "model_id": "2efd75635d5b403b83f1f9f494c803a1",
       "version_major": 2,
       "version_minor": 0
      },
      "text/plain": [
       "  0%|          | 0/55 [00:00<?, ?it/s]"
      ]
     },
     "metadata": {},
     "output_type": "display_data"
    },
    {
     "name": "stdout",
     "output_type": "stream",
     "text": [
      "{'eval_loss': 2.1599135398864746, 'eval_bleu': 13.6372, 'eval_gen_len': 23.8965, 'eval_runtime': 44.4594, 'eval_samples_per_second': 19.771, 'eval_steps_per_second': 1.237, 'epoch': 13.67}\n"
     ]
    },
    {
     "data": {
      "application/vnd.jupyter.widget-view+json": {
       "model_id": "d75bcf777d984d959dedd0ea6f136ca9",
       "version_major": 2,
       "version_minor": 0
      },
      "text/plain": [
       "  0%|          | 0/55 [00:00<?, ?it/s]"
      ]
     },
     "metadata": {},
     "output_type": "display_data"
    },
    {
     "name": "stdout",
     "output_type": "stream",
     "text": [
      "{'eval_loss': 2.178659200668335, 'eval_bleu': 13.6681, 'eval_gen_len': 23.8601, 'eval_runtime': 46.1327, 'eval_samples_per_second': 19.054, 'eval_steps_per_second': 1.192, 'epoch': 13.68}\n",
      "{'loss': 1.4686, 'grad_norm': 1.3587666749954224, 'learning_rate': 0.00034, 'epoch': 13.7}\n"
     ]
    },
    {
     "data": {
      "application/vnd.jupyter.widget-view+json": {
       "model_id": "209b3a38f8554969bd1f49f1f575ca8d",
       "version_major": 2,
       "version_minor": 0
      },
      "text/plain": [
       "  0%|          | 0/55 [00:00<?, ?it/s]"
      ]
     },
     "metadata": {},
     "output_type": "display_data"
    },
    {
     "name": "stdout",
     "output_type": "stream",
     "text": [
      "{'eval_loss': 2.1672186851501465, 'eval_bleu': 14.225, 'eval_gen_len': 23.6951, 'eval_runtime': 44.4362, 'eval_samples_per_second': 19.781, 'eval_steps_per_second': 1.238, 'epoch': 13.7}\n"
     ]
    },
    {
     "data": {
      "application/vnd.jupyter.widget-view+json": {
       "model_id": "9f405e1a30d24363b3984dc2281876fb",
       "version_major": 2,
       "version_minor": 0
      },
      "text/plain": [
       "  0%|          | 0/55 [00:00<?, ?it/s]"
      ]
     },
     "metadata": {},
     "output_type": "display_data"
    },
    {
     "name": "stdout",
     "output_type": "stream",
     "text": [
      "{'eval_loss': 2.1633641719818115, 'eval_bleu': 13.8894, 'eval_gen_len': 23.7497, 'eval_runtime': 45.0045, 'eval_samples_per_second': 19.531, 'eval_steps_per_second': 1.222, 'epoch': 13.71}\n"
     ]
    },
    {
     "data": {
      "application/vnd.jupyter.widget-view+json": {
       "model_id": "2e3a6dcb640f45d3af79e6692f6af43a",
       "version_major": 2,
       "version_minor": 0
      },
      "text/plain": [
       "  0%|          | 0/55 [00:00<?, ?it/s]"
      ]
     },
     "metadata": {},
     "output_type": "display_data"
    },
    {
     "name": "stdout",
     "output_type": "stream",
     "text": [
      "{'eval_loss': 2.148668050765991, 'eval_bleu': 13.7646, 'eval_gen_len': 23.6598, 'eval_runtime': 44.8749, 'eval_samples_per_second': 19.588, 'eval_steps_per_second': 1.226, 'epoch': 13.73}\n"
     ]
    },
    {
     "data": {
      "application/vnd.jupyter.widget-view+json": {
       "model_id": "4f74c39cee364fbabea3247a24b4b766",
       "version_major": 2,
       "version_minor": 0
      },
      "text/plain": [
       "  0%|          | 0/55 [00:00<?, ?it/s]"
      ]
     },
     "metadata": {},
     "output_type": "display_data"
    },
    {
     "name": "stdout",
     "output_type": "stream",
     "text": [
      "{'eval_loss': 2.167428493499756, 'eval_bleu': 13.879, 'eval_gen_len': 23.6724, 'eval_runtime': 43.8116, 'eval_samples_per_second': 20.063, 'eval_steps_per_second': 1.255, 'epoch': 13.74}\n"
     ]
    },
    {
     "data": {
      "application/vnd.jupyter.widget-view+json": {
       "model_id": "6b153cc7790b4ccdbb01de91c65c56c7",
       "version_major": 2,
       "version_minor": 0
      },
      "text/plain": [
       "  0%|          | 0/55 [00:00<?, ?it/s]"
      ]
     },
     "metadata": {},
     "output_type": "display_data"
    },
    {
     "name": "stdout",
     "output_type": "stream",
     "text": [
      "{'eval_loss': 2.166473865509033, 'eval_bleu': 13.9635, 'eval_gen_len': 23.8214, 'eval_runtime': 46.1543, 'eval_samples_per_second': 19.045, 'eval_steps_per_second': 1.192, 'epoch': 13.75}\n",
      "{'loss': 1.461, 'grad_norm': 1.1993322372436523, 'learning_rate': 0.0003366666666666667, 'epoch': 13.77}\n"
     ]
    },
    {
     "data": {
      "application/vnd.jupyter.widget-view+json": {
       "model_id": "d9ce2abd6e7c49a78311f38c23f22289",
       "version_major": 2,
       "version_minor": 0
      },
      "text/plain": [
       "  0%|          | 0/55 [00:00<?, ?it/s]"
      ]
     },
     "metadata": {},
     "output_type": "display_data"
    },
    {
     "name": "stdout",
     "output_type": "stream",
     "text": [
      "{'eval_loss': 2.1542694568634033, 'eval_bleu': 14.0592, 'eval_gen_len': 23.7941, 'eval_runtime': 45.5376, 'eval_samples_per_second': 19.303, 'eval_steps_per_second': 1.208, 'epoch': 13.77}\n"
     ]
    },
    {
     "data": {
      "application/vnd.jupyter.widget-view+json": {
       "model_id": "3aee6a9f325e4514b0b3fa39eef79f6f",
       "version_major": 2,
       "version_minor": 0
      },
      "text/plain": [
       "  0%|          | 0/55 [00:00<?, ?it/s]"
      ]
     },
     "metadata": {},
     "output_type": "display_data"
    },
    {
     "name": "stdout",
     "output_type": "stream",
     "text": [
      "{'eval_loss': 2.1577019691467285, 'eval_bleu': 14.1242, 'eval_gen_len': 23.8111, 'eval_runtime': 44.5664, 'eval_samples_per_second': 19.723, 'eval_steps_per_second': 1.234, 'epoch': 13.78}\n"
     ]
    },
    {
     "data": {
      "application/vnd.jupyter.widget-view+json": {
       "model_id": "c2178703c4cd4449b9cfbd4a21584c59",
       "version_major": 2,
       "version_minor": 0
      },
      "text/plain": [
       "  0%|          | 0/55 [00:00<?, ?it/s]"
      ]
     },
     "metadata": {},
     "output_type": "display_data"
    },
    {
     "name": "stdout",
     "output_type": "stream",
     "text": [
      "{'eval_loss': 2.1628432273864746, 'eval_bleu': 14.3892, 'eval_gen_len': 23.7759, 'eval_runtime': 47.6484, 'eval_samples_per_second': 18.448, 'eval_steps_per_second': 1.154, 'epoch': 13.79}\n"
     ]
    },
    {
     "data": {
      "application/vnd.jupyter.widget-view+json": {
       "model_id": "14c53ce89dbb47e6bff2ef7131bc2a07",
       "version_major": 2,
       "version_minor": 0
      },
      "text/plain": [
       "  0%|          | 0/55 [00:00<?, ?it/s]"
      ]
     },
     "metadata": {},
     "output_type": "display_data"
    },
    {
     "name": "stdout",
     "output_type": "stream",
     "text": [
      "{'eval_loss': 2.1597070693969727, 'eval_bleu': 14.0818, 'eval_gen_len': 23.7133, 'eval_runtime': 44.875, 'eval_samples_per_second': 19.588, 'eval_steps_per_second': 1.226, 'epoch': 13.81}\n"
     ]
    },
    {
     "data": {
      "application/vnd.jupyter.widget-view+json": {
       "model_id": "d74b2d56dc5f4583ba344b99e86843e6",
       "version_major": 2,
       "version_minor": 0
      },
      "text/plain": [
       "  0%|          | 0/55 [00:00<?, ?it/s]"
      ]
     },
     "metadata": {},
     "output_type": "display_data"
    },
    {
     "name": "stdout",
     "output_type": "stream",
     "text": [
      "{'eval_loss': 2.164741277694702, 'eval_bleu': 13.8088, 'eval_gen_len': 23.7327, 'eval_runtime': 45.6525, 'eval_samples_per_second': 19.254, 'eval_steps_per_second': 1.205, 'epoch': 13.82}\n",
      "{'loss': 1.4763, 'grad_norm': 1.0967179536819458, 'learning_rate': 0.0003333333333333333, 'epoch': 13.84}\n"
     ]
    },
    {
     "data": {
      "application/vnd.jupyter.widget-view+json": {
       "model_id": "87c467b7517b4eb9afd01b77926c3837",
       "version_major": 2,
       "version_minor": 0
      },
      "text/plain": [
       "  0%|          | 0/55 [00:00<?, ?it/s]"
      ]
     },
     "metadata": {},
     "output_type": "display_data"
    },
    {
     "name": "stderr",
     "output_type": "stream",
     "text": [
      "Some non-default generation parameters are set in the model config. These should go into a GenerationConfig file (https://huggingface.co/docs/transformers/generation_strategies#save-a-custom-decoding-strategy-with-your-model) instead. This warning will be raised to an exception in v4.41.\n",
      "Non-default generation parameters: {'max_length': 32, 'min_length': 8, 'early_stopping': True, 'num_beams': 4, 'length_penalty': 2.0, 'no_repeat_ngram_size': 3}\n"
     ]
    },
    {
     "name": "stdout",
     "output_type": "stream",
     "text": [
      "{'eval_loss': 2.146198272705078, 'eval_bleu': 14.1336, 'eval_gen_len': 23.7565, 'eval_runtime': 44.8088, 'eval_samples_per_second': 19.617, 'eval_steps_per_second': 1.227, 'epoch': 13.84}\n"
     ]
    },
    {
     "data": {
      "application/vnd.jupyter.widget-view+json": {
       "model_id": "e11f5691a4044fe19721cef623a9daa1",
       "version_major": 2,
       "version_minor": 0
      },
      "text/plain": [
       "  0%|          | 0/55 [00:00<?, ?it/s]"
      ]
     },
     "metadata": {},
     "output_type": "display_data"
    },
    {
     "name": "stdout",
     "output_type": "stream",
     "text": [
      "{'eval_loss': 2.1576859951019287, 'eval_bleu': 14.1206, 'eval_gen_len': 23.7873, 'eval_runtime': 44.9501, 'eval_samples_per_second': 19.555, 'eval_steps_per_second': 1.224, 'epoch': 13.85}\n"
     ]
    },
    {
     "data": {
      "application/vnd.jupyter.widget-view+json": {
       "model_id": "df835c9bde1c4c16a5d540710fa62045",
       "version_major": 2,
       "version_minor": 0
      },
      "text/plain": [
       "  0%|          | 0/55 [00:00<?, ?it/s]"
      ]
     },
     "metadata": {},
     "output_type": "display_data"
    },
    {
     "name": "stdout",
     "output_type": "stream",
     "text": [
      "{'eval_loss': 2.1454999446868896, 'eval_bleu': 14.1907, 'eval_gen_len': 23.7634, 'eval_runtime': 45.8747, 'eval_samples_per_second': 19.161, 'eval_steps_per_second': 1.199, 'epoch': 13.86}\n"
     ]
    },
    {
     "data": {
      "application/vnd.jupyter.widget-view+json": {
       "model_id": "fb9882216b3a416e90d52ac30511fda6",
       "version_major": 2,
       "version_minor": 0
      },
      "text/plain": [
       "  0%|          | 0/55 [00:00<?, ?it/s]"
      ]
     },
     "metadata": {},
     "output_type": "display_data"
    },
    {
     "name": "stdout",
     "output_type": "stream",
     "text": [
      "{'eval_loss': 2.151031494140625, 'eval_bleu': 14.1384, 'eval_gen_len': 23.7793, 'eval_runtime': 45.7345, 'eval_samples_per_second': 19.22, 'eval_steps_per_second': 1.203, 'epoch': 13.88}\n"
     ]
    },
    {
     "data": {
      "application/vnd.jupyter.widget-view+json": {
       "model_id": "386b6d0ff6c246df989be5c8e366f485",
       "version_major": 2,
       "version_minor": 0
      },
      "text/plain": [
       "  0%|          | 0/55 [00:00<?, ?it/s]"
      ]
     },
     "metadata": {},
     "output_type": "display_data"
    },
    {
     "name": "stdout",
     "output_type": "stream",
     "text": [
      "{'eval_loss': 2.158334255218506, 'eval_bleu': 13.8889, 'eval_gen_len': 23.851, 'eval_runtime': 44.7642, 'eval_samples_per_second': 19.636, 'eval_steps_per_second': 1.229, 'epoch': 13.89}\n",
      "{'loss': 1.4752, 'grad_norm': 1.4525055885314941, 'learning_rate': 0.00033, 'epoch': 13.91}\n"
     ]
    },
    {
     "data": {
      "application/vnd.jupyter.widget-view+json": {
       "model_id": "82d33fbe64a24338832e7e39e0b9046b",
       "version_major": 2,
       "version_minor": 0
      },
      "text/plain": [
       "  0%|          | 0/55 [00:00<?, ?it/s]"
      ]
     },
     "metadata": {},
     "output_type": "display_data"
    },
    {
     "name": "stdout",
     "output_type": "stream",
     "text": [
      "{'eval_loss': 2.1553382873535156, 'eval_bleu': 13.9535, 'eval_gen_len': 23.7668, 'eval_runtime': 44.8052, 'eval_samples_per_second': 19.618, 'eval_steps_per_second': 1.228, 'epoch': 13.91}\n"
     ]
    },
    {
     "data": {
      "application/vnd.jupyter.widget-view+json": {
       "model_id": "357d6ab17874433aa75404c52757f179",
       "version_major": 2,
       "version_minor": 0
      },
      "text/plain": [
       "  0%|          | 0/55 [00:00<?, ?it/s]"
      ]
     },
     "metadata": {},
     "output_type": "display_data"
    },
    {
     "name": "stdout",
     "output_type": "stream",
     "text": [
      "{'eval_loss': 2.1544854640960693, 'eval_bleu': 13.9881, 'eval_gen_len': 23.8612, 'eval_runtime': 44.5542, 'eval_samples_per_second': 19.729, 'eval_steps_per_second': 1.234, 'epoch': 13.92}\n"
     ]
    },
    {
     "data": {
      "application/vnd.jupyter.widget-view+json": {
       "model_id": "cc07eff7b99e40f5accbcc88caa989fd",
       "version_major": 2,
       "version_minor": 0
      },
      "text/plain": [
       "  0%|          | 0/55 [00:00<?, ?it/s]"
      ]
     },
     "metadata": {},
     "output_type": "display_data"
    },
    {
     "name": "stdout",
     "output_type": "stream",
     "text": [
      "{'eval_loss': 2.1546387672424316, 'eval_bleu': 14.1092, 'eval_gen_len': 23.8385, 'eval_runtime': 45.0576, 'eval_samples_per_second': 19.508, 'eval_steps_per_second': 1.221, 'epoch': 13.93}\n"
     ]
    },
    {
     "data": {
      "application/vnd.jupyter.widget-view+json": {
       "model_id": "61734ac927db4320aba605f181f384e8",
       "version_major": 2,
       "version_minor": 0
      },
      "text/plain": [
       "  0%|          | 0/55 [00:00<?, ?it/s]"
      ]
     },
     "metadata": {},
     "output_type": "display_data"
    },
    {
     "name": "stdout",
     "output_type": "stream",
     "text": [
      "{'eval_loss': 2.1430609226226807, 'eval_bleu': 13.8751, 'eval_gen_len': 23.7042, 'eval_runtime': 45.829, 'eval_samples_per_second': 19.18, 'eval_steps_per_second': 1.2, 'epoch': 13.95}\n"
     ]
    },
    {
     "data": {
      "application/vnd.jupyter.widget-view+json": {
       "model_id": "af4d606b79114b329fe07954b39d13ca",
       "version_major": 2,
       "version_minor": 0
      },
      "text/plain": [
       "  0%|          | 0/55 [00:00<?, ?it/s]"
      ]
     },
     "metadata": {},
     "output_type": "display_data"
    },
    {
     "name": "stdout",
     "output_type": "stream",
     "text": [
      "{'eval_loss': 2.152125358581543, 'eval_bleu': 13.8256, 'eval_gen_len': 23.5882, 'eval_runtime': 45.9567, 'eval_samples_per_second': 19.127, 'eval_steps_per_second': 1.197, 'epoch': 13.96}\n",
      "{'loss': 1.4807, 'grad_norm': 1.3507418632507324, 'learning_rate': 0.0003266666666666667, 'epoch': 13.97}\n"
     ]
    },
    {
     "data": {
      "application/vnd.jupyter.widget-view+json": {
       "model_id": "d2de95e3044f4b76bb4ece543a6bbb6c",
       "version_major": 2,
       "version_minor": 0
      },
      "text/plain": [
       "  0%|          | 0/55 [00:00<?, ?it/s]"
      ]
     },
     "metadata": {},
     "output_type": "display_data"
    },
    {
     "name": "stdout",
     "output_type": "stream",
     "text": [
      "{'eval_loss': 2.1485114097595215, 'eval_bleu': 13.8914, 'eval_gen_len': 23.802, 'eval_runtime': 91.9461, 'eval_samples_per_second': 9.56, 'eval_steps_per_second': 0.598, 'epoch': 13.97}\n"
     ]
    },
    {
     "data": {
      "application/vnd.jupyter.widget-view+json": {
       "model_id": "8f5947674a9b4b9aa5b6377e9c86ac3f",
       "version_major": 2,
       "version_minor": 0
      },
      "text/plain": [
       "  0%|          | 0/55 [00:00<?, ?it/s]"
      ]
     },
     "metadata": {},
     "output_type": "display_data"
    },
    {
     "name": "stdout",
     "output_type": "stream",
     "text": [
      "{'eval_loss': 2.153843641281128, 'eval_bleu': 13.8169, 'eval_gen_len': 23.8487, 'eval_runtime': 75.928, 'eval_samples_per_second': 11.577, 'eval_steps_per_second': 0.724, 'epoch': 13.99}\n"
     ]
    },
    {
     "data": {
      "application/vnd.jupyter.widget-view+json": {
       "model_id": "677f77a02e5c4c7886ef6c64c600a407",
       "version_major": 2,
       "version_minor": 0
      },
      "text/plain": [
       "  0%|          | 0/55 [00:00<?, ?it/s]"
      ]
     },
     "metadata": {},
     "output_type": "display_data"
    },
    {
     "name": "stdout",
     "output_type": "stream",
     "text": [
      "{'eval_loss': 2.1802713871002197, 'eval_bleu': 13.6971, 'eval_gen_len': 23.8862, 'eval_runtime': 94.7783, 'eval_samples_per_second': 9.274, 'eval_steps_per_second': 0.58, 'epoch': 14.0}\n"
     ]
    },
    {
     "data": {
      "application/vnd.jupyter.widget-view+json": {
       "model_id": "a1a05d1263c54b7e88c33e48cc176b02",
       "version_major": 2,
       "version_minor": 0
      },
      "text/plain": [
       "  0%|          | 0/55 [00:00<?, ?it/s]"
      ]
     },
     "metadata": {},
     "output_type": "display_data"
    },
    {
     "name": "stdout",
     "output_type": "stream",
     "text": [
      "{'eval_loss': 2.201211929321289, 'eval_bleu': 13.4653, 'eval_gen_len': 23.7122, 'eval_runtime': 98.2764, 'eval_samples_per_second': 8.944, 'eval_steps_per_second': 0.56, 'epoch': 14.02}\n"
     ]
    },
    {
     "data": {
      "application/vnd.jupyter.widget-view+json": {
       "model_id": "b347076c34514ba49069b0412f71b63c",
       "version_major": 2,
       "version_minor": 0
      },
      "text/plain": [
       "  0%|          | 0/55 [00:00<?, ?it/s]"
      ]
     },
     "metadata": {},
     "output_type": "display_data"
    },
    {
     "name": "stdout",
     "output_type": "stream",
     "text": [
      "{'eval_loss': 2.2121024131774902, 'eval_bleu': 13.5359, 'eval_gen_len': 23.7292, 'eval_runtime': 58.3717, 'eval_samples_per_second': 15.059, 'eval_steps_per_second': 0.942, 'epoch': 14.03}\n",
      "{'loss': 1.3924, 'grad_norm': 1.6224898099899292, 'learning_rate': 0.0003233333333333333, 'epoch': 14.04}\n"
     ]
    },
    {
     "data": {
      "application/vnd.jupyter.widget-view+json": {
       "model_id": "46dee1b59e1a4f0a8650a953093aed2d",
       "version_major": 2,
       "version_minor": 0
      },
      "text/plain": [
       "  0%|          | 0/55 [00:00<?, ?it/s]"
      ]
     },
     "metadata": {},
     "output_type": "display_data"
    },
    {
     "name": "stdout",
     "output_type": "stream",
     "text": [
      "{'eval_loss': 2.2037625312805176, 'eval_bleu': 13.2631, 'eval_gen_len': 23.7463, 'eval_runtime': 59.0154, 'eval_samples_per_second': 14.894, 'eval_steps_per_second': 0.932, 'epoch': 14.04}\n"
     ]
    },
    {
     "data": {
      "application/vnd.jupyter.widget-view+json": {
       "model_id": "01625e6fbaed4b829b4c66fb4a05c64d",
       "version_major": 2,
       "version_minor": 0
      },
      "text/plain": [
       "  0%|          | 0/55 [00:00<?, ?it/s]"
      ]
     },
     "metadata": {},
     "output_type": "display_data"
    },
    {
     "name": "stdout",
     "output_type": "stream",
     "text": [
      "{'eval_loss': 2.196737289428711, 'eval_bleu': 13.4007, 'eval_gen_len': 23.6997, 'eval_runtime': 94.2109, 'eval_samples_per_second': 9.33, 'eval_steps_per_second': 0.584, 'epoch': 14.06}\n"
     ]
    },
    {
     "data": {
      "application/vnd.jupyter.widget-view+json": {
       "model_id": "6df7339520204d078b3c4317b1c0d267",
       "version_major": 2,
       "version_minor": 0
      },
      "text/plain": [
       "  0%|          | 0/55 [00:00<?, ?it/s]"
      ]
     },
     "metadata": {},
     "output_type": "display_data"
    },
    {
     "name": "stdout",
     "output_type": "stream",
     "text": [
      "{'eval_loss': 2.204158067703247, 'eval_bleu': 13.5805, 'eval_gen_len': 23.6542, 'eval_runtime': 99.3602, 'eval_samples_per_second': 8.847, 'eval_steps_per_second': 0.554, 'epoch': 14.07}\n"
     ]
    },
    {
     "data": {
      "application/vnd.jupyter.widget-view+json": {
       "model_id": "c6a16f5830ea4168b49d01b15b3e1687",
       "version_major": 2,
       "version_minor": 0
      },
      "text/plain": [
       "  0%|          | 0/55 [00:00<?, ?it/s]"
      ]
     },
     "metadata": {},
     "output_type": "display_data"
    },
    {
     "name": "stdout",
     "output_type": "stream",
     "text": [
      "{'eval_loss': 2.1957614421844482, 'eval_bleu': 13.7662, 'eval_gen_len': 23.7338, 'eval_runtime': 97.4837, 'eval_samples_per_second': 9.017, 'eval_steps_per_second': 0.564, 'epoch': 14.09}\n"
     ]
    },
    {
     "data": {
      "application/vnd.jupyter.widget-view+json": {
       "model_id": "2b35e76bd70f4b9987df76b69c65a594",
       "version_major": 2,
       "version_minor": 0
      },
      "text/plain": [
       "  0%|          | 0/55 [00:00<?, ?it/s]"
      ]
     },
     "metadata": {},
     "output_type": "display_data"
    },
    {
     "name": "stdout",
     "output_type": "stream",
     "text": [
      "{'eval_loss': 2.2000768184661865, 'eval_bleu': 14.0043, 'eval_gen_len': 23.8055, 'eval_runtime': 97.7283, 'eval_samples_per_second': 8.994, 'eval_steps_per_second': 0.563, 'epoch': 14.1}\n",
      "{'loss': 1.3621, 'grad_norm': 1.3554484844207764, 'learning_rate': 0.00032, 'epoch': 14.11}\n"
     ]
    },
    {
     "data": {
      "application/vnd.jupyter.widget-view+json": {
       "model_id": "579f9f65fb4c49629b9f25d99c47febc",
       "version_major": 2,
       "version_minor": 0
      },
      "text/plain": [
       "  0%|          | 0/55 [00:00<?, ?it/s]"
      ]
     },
     "metadata": {},
     "output_type": "display_data"
    },
    {
     "name": "stdout",
     "output_type": "stream",
     "text": [
      "{'eval_loss': 2.2001709938049316, 'eval_bleu': 13.8555, 'eval_gen_len': 23.6655, 'eval_runtime': 96.8683, 'eval_samples_per_second': 9.074, 'eval_steps_per_second': 0.568, 'epoch': 14.11}\n"
     ]
    },
    {
     "data": {
      "application/vnd.jupyter.widget-view+json": {
       "model_id": "28f676ebc4424409981dde96c1a5c36b",
       "version_major": 2,
       "version_minor": 0
      },
      "text/plain": [
       "  0%|          | 0/55 [00:00<?, ?it/s]"
      ]
     },
     "metadata": {},
     "output_type": "display_data"
    },
    {
     "name": "stdout",
     "output_type": "stream",
     "text": [
      "{'eval_loss': 2.1770365238189697, 'eval_bleu': 13.953, 'eval_gen_len': 23.8032, 'eval_runtime': 45.7197, 'eval_samples_per_second': 19.226, 'eval_steps_per_second': 1.203, 'epoch': 14.13}\n"
     ]
    },
    {
     "data": {
      "application/vnd.jupyter.widget-view+json": {
       "model_id": "585774e8b5df4debb727a6b9826558ce",
       "version_major": 2,
       "version_minor": 0
      },
      "text/plain": [
       "  0%|          | 0/55 [00:00<?, ?it/s]"
      ]
     },
     "metadata": {},
     "output_type": "display_data"
    },
    {
     "name": "stdout",
     "output_type": "stream",
     "text": [
      "{'eval_loss': 2.197977066040039, 'eval_bleu': 13.9145, 'eval_gen_len': 23.7543, 'eval_runtime': 46.8879, 'eval_samples_per_second': 18.747, 'eval_steps_per_second': 1.173, 'epoch': 14.14}\n"
     ]
    },
    {
     "data": {
      "application/vnd.jupyter.widget-view+json": {
       "model_id": "c2a0857f742d4e2eac55a09764f7c121",
       "version_major": 2,
       "version_minor": 0
      },
      "text/plain": [
       "  0%|          | 0/55 [00:00<?, ?it/s]"
      ]
     },
     "metadata": {},
     "output_type": "display_data"
    },
    {
     "name": "stdout",
     "output_type": "stream",
     "text": [
      "{'eval_loss': 2.1978254318237305, 'eval_bleu': 14.0533, 'eval_gen_len': 23.7622, 'eval_runtime': 85.8688, 'eval_samples_per_second': 10.237, 'eval_steps_per_second': 0.641, 'epoch': 14.15}\n"
     ]
    },
    {
     "data": {
      "application/vnd.jupyter.widget-view+json": {
       "model_id": "2679a6e4f61c4d0e992fc440c9a66472",
       "version_major": 2,
       "version_minor": 0
      },
      "text/plain": [
       "  0%|          | 0/55 [00:00<?, ?it/s]"
      ]
     },
     "metadata": {},
     "output_type": "display_data"
    },
    {
     "name": "stdout",
     "output_type": "stream",
     "text": [
      "{'eval_loss': 2.193175792694092, 'eval_bleu': 13.9994, 'eval_gen_len': 23.7827, 'eval_runtime': 94.9338, 'eval_samples_per_second': 9.259, 'eval_steps_per_second': 0.579, 'epoch': 14.17}\n",
      "{'loss': 1.3708, 'grad_norm': 1.926547884941101, 'learning_rate': 0.00031666666666666665, 'epoch': 14.18}\n"
     ]
    },
    {
     "data": {
      "application/vnd.jupyter.widget-view+json": {
       "model_id": "61216ce2b039465f8ef7dbee82af8689",
       "version_major": 2,
       "version_minor": 0
      },
      "text/plain": [
       "  0%|          | 0/55 [00:00<?, ?it/s]"
      ]
     },
     "metadata": {},
     "output_type": "display_data"
    },
    {
     "name": "stdout",
     "output_type": "stream",
     "text": [
      "{'eval_loss': 2.206510305404663, 'eval_bleu': 13.747, 'eval_gen_len': 23.7235, 'eval_runtime': 45.4009, 'eval_samples_per_second': 19.361, 'eval_steps_per_second': 1.211, 'epoch': 14.18}\n"
     ]
    },
    {
     "data": {
      "application/vnd.jupyter.widget-view+json": {
       "model_id": "10929ced8f6540808dc13edf3a37bc2d",
       "version_major": 2,
       "version_minor": 0
      },
      "text/plain": [
       "  0%|          | 0/55 [00:00<?, ?it/s]"
      ]
     },
     "metadata": {},
     "output_type": "display_data"
    },
    {
     "name": "stdout",
     "output_type": "stream",
     "text": [
      "{'eval_loss': 2.203504800796509, 'eval_bleu': 14.0431, 'eval_gen_len': 23.6371, 'eval_runtime': 46.3236, 'eval_samples_per_second': 18.975, 'eval_steps_per_second': 1.187, 'epoch': 14.2}\n"
     ]
    },
    {
     "data": {
      "application/vnd.jupyter.widget-view+json": {
       "model_id": "bd8a8bd3f2dc4abcac106cff6e6188e2",
       "version_major": 2,
       "version_minor": 0
      },
      "text/plain": [
       "  0%|          | 0/55 [00:00<?, ?it/s]"
      ]
     },
     "metadata": {},
     "output_type": "display_data"
    },
    {
     "name": "stdout",
     "output_type": "stream",
     "text": [
      "{'eval_loss': 2.188765048980713, 'eval_bleu': 13.9357, 'eval_gen_len': 23.7258, 'eval_runtime': 50.2383, 'eval_samples_per_second': 17.497, 'eval_steps_per_second': 1.095, 'epoch': 14.21}\n"
     ]
    },
    {
     "data": {
      "application/vnd.jupyter.widget-view+json": {
       "model_id": "3036e943ab154ba19caf7099841223b1",
       "version_major": 2,
       "version_minor": 0
      },
      "text/plain": [
       "  0%|          | 0/55 [00:00<?, ?it/s]"
      ]
     },
     "metadata": {},
     "output_type": "display_data"
    },
    {
     "name": "stdout",
     "output_type": "stream",
     "text": [
      "{'eval_loss': 2.1825475692749023, 'eval_bleu': 13.8838, 'eval_gen_len': 23.6086, 'eval_runtime': 48.5484, 'eval_samples_per_second': 18.106, 'eval_steps_per_second': 1.133, 'epoch': 14.22}\n"
     ]
    },
    {
     "data": {
      "application/vnd.jupyter.widget-view+json": {
       "model_id": "43d5abf624cd42109f87f6e08ef1c87f",
       "version_major": 2,
       "version_minor": 0
      },
      "text/plain": [
       "  0%|          | 0/55 [00:00<?, ?it/s]"
      ]
     },
     "metadata": {},
     "output_type": "display_data"
    },
    {
     "name": "stdout",
     "output_type": "stream",
     "text": [
      "{'eval_loss': 2.1763505935668945, 'eval_bleu': 13.9967, 'eval_gen_len': 23.5597, 'eval_runtime': 45.693, 'eval_samples_per_second': 19.237, 'eval_steps_per_second': 1.204, 'epoch': 14.24}\n",
      "{'loss': 1.3775, 'grad_norm': 1.6138410568237305, 'learning_rate': 0.0003133333333333334, 'epoch': 14.25}\n"
     ]
    },
    {
     "data": {
      "application/vnd.jupyter.widget-view+json": {
       "model_id": "b01e0f2b812b4f0db912b0d8641bc1d3",
       "version_major": 2,
       "version_minor": 0
      },
      "text/plain": [
       "  0%|          | 0/55 [00:00<?, ?it/s]"
      ]
     },
     "metadata": {},
     "output_type": "display_data"
    },
    {
     "name": "stdout",
     "output_type": "stream",
     "text": [
      "{'eval_loss': 2.186429977416992, 'eval_bleu': 13.9156, 'eval_gen_len': 23.5597, 'eval_runtime': 49.4927, 'eval_samples_per_second': 17.76, 'eval_steps_per_second': 1.111, 'epoch': 14.25}\n"
     ]
    },
    {
     "data": {
      "application/vnd.jupyter.widget-view+json": {
       "model_id": "2881424d119c41d299f929122834a22a",
       "version_major": 2,
       "version_minor": 0
      },
      "text/plain": [
       "  0%|          | 0/55 [00:00<?, ?it/s]"
      ]
     },
     "metadata": {},
     "output_type": "display_data"
    },
    {
     "name": "stdout",
     "output_type": "stream",
     "text": [
      "{'eval_loss': 2.184380292892456, 'eval_bleu': 13.8658, 'eval_gen_len': 23.7474, 'eval_runtime': 98.4726, 'eval_samples_per_second': 8.926, 'eval_steps_per_second': 0.559, 'epoch': 14.26}\n"
     ]
    },
    {
     "data": {
      "application/vnd.jupyter.widget-view+json": {
       "model_id": "9bcafac7f5c044f3bec33a79bb77905c",
       "version_major": 2,
       "version_minor": 0
      },
      "text/plain": [
       "  0%|          | 0/55 [00:00<?, ?it/s]"
      ]
     },
     "metadata": {},
     "output_type": "display_data"
    },
    {
     "name": "stdout",
     "output_type": "stream",
     "text": [
      "{'eval_loss': 2.1833646297454834, 'eval_bleu': 14.0595, 'eval_gen_len': 23.7634, 'eval_runtime': 97.9078, 'eval_samples_per_second': 8.978, 'eval_steps_per_second': 0.562, 'epoch': 14.28}\n"
     ]
    },
    {
     "data": {
      "application/vnd.jupyter.widget-view+json": {
       "model_id": "9593bb14ff624ac08f44df4a54ca12e0",
       "version_major": 2,
       "version_minor": 0
      },
      "text/plain": [
       "  0%|          | 0/55 [00:00<?, ?it/s]"
      ]
     },
     "metadata": {},
     "output_type": "display_data"
    },
    {
     "name": "stdout",
     "output_type": "stream",
     "text": [
      "{'eval_loss': 2.1782538890838623, 'eval_bleu': 13.9437, 'eval_gen_len': 23.8146, 'eval_runtime': 96.3412, 'eval_samples_per_second': 9.124, 'eval_steps_per_second': 0.571, 'epoch': 14.29}\n"
     ]
    },
    {
     "data": {
      "application/vnd.jupyter.widget-view+json": {
       "model_id": "f7ad2f6fcba84e16a0d00fb30c2f309b",
       "version_major": 2,
       "version_minor": 0
      },
      "text/plain": [
       "  0%|          | 0/55 [00:00<?, ?it/s]"
      ]
     },
     "metadata": {},
     "output_type": "display_data"
    },
    {
     "name": "stdout",
     "output_type": "stream",
     "text": [
      "{'eval_loss': 2.1940932273864746, 'eval_bleu': 13.7738, 'eval_gen_len': 23.7509, 'eval_runtime': 44.352, 'eval_samples_per_second': 19.819, 'eval_steps_per_second': 1.24, 'epoch': 14.31}\n",
      "{'loss': 1.3801, 'grad_norm': 1.2878526449203491, 'learning_rate': 0.00031, 'epoch': 14.32}\n"
     ]
    },
    {
     "data": {
      "application/vnd.jupyter.widget-view+json": {
       "model_id": "2d90f712637d4ac3bff8987efe59825b",
       "version_major": 2,
       "version_minor": 0
      },
      "text/plain": [
       "  0%|          | 0/55 [00:00<?, ?it/s]"
      ]
     },
     "metadata": {},
     "output_type": "display_data"
    },
    {
     "name": "stdout",
     "output_type": "stream",
     "text": [
      "{'eval_loss': 2.1987485885620117, 'eval_bleu': 13.6339, 'eval_gen_len': 23.7929, 'eval_runtime': 45.406, 'eval_samples_per_second': 19.359, 'eval_steps_per_second': 1.211, 'epoch': 14.32}\n"
     ]
    },
    {
     "data": {
      "application/vnd.jupyter.widget-view+json": {
       "model_id": "b89f693f85ee48f9a716c2326f55155c",
       "version_major": 2,
       "version_minor": 0
      },
      "text/plain": [
       "  0%|          | 0/55 [00:00<?, ?it/s]"
      ]
     },
     "metadata": {},
     "output_type": "display_data"
    },
    {
     "name": "stdout",
     "output_type": "stream",
     "text": [
      "{'eval_loss': 2.1890311241149902, 'eval_bleu': 13.4273, 'eval_gen_len': 23.6246, 'eval_runtime': 45.5491, 'eval_samples_per_second': 19.298, 'eval_steps_per_second': 1.207, 'epoch': 14.33}\n"
     ]
    },
    {
     "data": {
      "application/vnd.jupyter.widget-view+json": {
       "model_id": "027bd6188a3c4610a754f435de5094a2",
       "version_major": 2,
       "version_minor": 0
      },
      "text/plain": [
       "  0%|          | 0/55 [00:00<?, ?it/s]"
      ]
     },
     "metadata": {},
     "output_type": "display_data"
    },
    {
     "name": "stdout",
     "output_type": "stream",
     "text": [
      "{'eval_loss': 2.192843437194824, 'eval_bleu': 13.6017, 'eval_gen_len': 23.595, 'eval_runtime': 44.0315, 'eval_samples_per_second': 19.963, 'eval_steps_per_second': 1.249, 'epoch': 14.35}\n"
     ]
    },
    {
     "data": {
      "application/vnd.jupyter.widget-view+json": {
       "model_id": "214f27c4359944a8a8b754c16d1280a7",
       "version_major": 2,
       "version_minor": 0
      },
      "text/plain": [
       "  0%|          | 0/55 [00:00<?, ?it/s]"
      ]
     },
     "metadata": {},
     "output_type": "display_data"
    },
    {
     "name": "stdout",
     "output_type": "stream",
     "text": [
      "{'eval_loss': 2.1786465644836426, 'eval_bleu': 13.3886, 'eval_gen_len': 23.8123, 'eval_runtime': 44.8472, 'eval_samples_per_second': 19.6, 'eval_steps_per_second': 1.226, 'epoch': 14.36}\n"
     ]
    },
    {
     "data": {
      "application/vnd.jupyter.widget-view+json": {
       "model_id": "0f046f295d914dca87c1ddef81c22e44",
       "version_major": 2,
       "version_minor": 0
      },
      "text/plain": [
       "  0%|          | 0/55 [00:00<?, ?it/s]"
      ]
     },
     "metadata": {},
     "output_type": "display_data"
    },
    {
     "name": "stdout",
     "output_type": "stream",
     "text": [
      "{'eval_loss': 2.182147264480591, 'eval_bleu': 13.8567, 'eval_gen_len': 23.711, 'eval_runtime': 43.4005, 'eval_samples_per_second': 20.253, 'eval_steps_per_second': 1.267, 'epoch': 14.38}\n",
      "{'loss': 1.3813, 'grad_norm': 1.332512378692627, 'learning_rate': 0.0003066666666666667, 'epoch': 14.39}\n"
     ]
    },
    {
     "data": {
      "application/vnd.jupyter.widget-view+json": {
       "model_id": "e5f66e89a8814ec8815b691a58097c58",
       "version_major": 2,
       "version_minor": 0
      },
      "text/plain": [
       "  0%|          | 0/55 [00:00<?, ?it/s]"
      ]
     },
     "metadata": {},
     "output_type": "display_data"
    },
    {
     "name": "stdout",
     "output_type": "stream",
     "text": [
      "{'eval_loss': 2.1875112056732178, 'eval_bleu': 14.0038, 'eval_gen_len': 23.7884, 'eval_runtime': 44.5217, 'eval_samples_per_second': 19.743, 'eval_steps_per_second': 1.235, 'epoch': 14.39}\n"
     ]
    },
    {
     "data": {
      "application/vnd.jupyter.widget-view+json": {
       "model_id": "92337ea32e9847aabe245595bd1bfd97",
       "version_major": 2,
       "version_minor": 0
      },
      "text/plain": [
       "  0%|          | 0/55 [00:00<?, ?it/s]"
      ]
     },
     "metadata": {},
     "output_type": "display_data"
    },
    {
     "name": "stdout",
     "output_type": "stream",
     "text": [
      "{'eval_loss': 2.193040370941162, 'eval_bleu': 13.648, 'eval_gen_len': 23.8373, 'eval_runtime': 45.7354, 'eval_samples_per_second': 19.219, 'eval_steps_per_second': 1.203, 'epoch': 14.4}\n"
     ]
    },
    {
     "data": {
      "application/vnd.jupyter.widget-view+json": {
       "model_id": "994b9459dc8f467cb56c314a17edd603",
       "version_major": 2,
       "version_minor": 0
      },
      "text/plain": [
       "  0%|          | 0/55 [00:00<?, ?it/s]"
      ]
     },
     "metadata": {},
     "output_type": "display_data"
    },
    {
     "name": "stdout",
     "output_type": "stream",
     "text": [
      "{'eval_loss': 2.1758432388305664, 'eval_bleu': 13.4632, 'eval_gen_len': 23.6428, 'eval_runtime': 60.7441, 'eval_samples_per_second': 14.471, 'eval_steps_per_second': 0.905, 'epoch': 14.42}\n"
     ]
    },
    {
     "data": {
      "application/vnd.jupyter.widget-view+json": {
       "model_id": "aeb3c52a3cff42f2b86434815f251b1c",
       "version_major": 2,
       "version_minor": 0
      },
      "text/plain": [
       "  0%|          | 0/55 [00:00<?, ?it/s]"
      ]
     },
     "metadata": {},
     "output_type": "display_data"
    },
    {
     "name": "stdout",
     "output_type": "stream",
     "text": [
      "{'eval_loss': 2.182831048965454, 'eval_bleu': 13.7553, 'eval_gen_len': 23.7349, 'eval_runtime': 53.385, 'eval_samples_per_second': 16.465, 'eval_steps_per_second': 1.03, 'epoch': 14.43}\n"
     ]
    },
    {
     "data": {
      "application/vnd.jupyter.widget-view+json": {
       "model_id": "ef2bc4fe9a1c4632bfd27c7e2ca5fadb",
       "version_major": 2,
       "version_minor": 0
      },
      "text/plain": [
       "  0%|          | 0/55 [00:00<?, ?it/s]"
      ]
     },
     "metadata": {},
     "output_type": "display_data"
    },
    {
     "name": "stdout",
     "output_type": "stream",
     "text": [
      "{'eval_loss': 2.182077646255493, 'eval_bleu': 13.9109, 'eval_gen_len': 23.727, 'eval_runtime': 53.4747, 'eval_samples_per_second': 16.438, 'eval_steps_per_second': 1.029, 'epoch': 14.44}\n",
      "{'loss': 1.3844, 'grad_norm': 1.0352710485458374, 'learning_rate': 0.00030333333333333335, 'epoch': 14.46}\n"
     ]
    },
    {
     "data": {
      "application/vnd.jupyter.widget-view+json": {
       "model_id": "2ea7457cff46458993046ebe91ab609b",
       "version_major": 2,
       "version_minor": 0
      },
      "text/plain": [
       "  0%|          | 0/55 [00:00<?, ?it/s]"
      ]
     },
     "metadata": {},
     "output_type": "display_data"
    },
    {
     "name": "stdout",
     "output_type": "stream",
     "text": [
      "{'eval_loss': 2.1862990856170654, 'eval_bleu': 13.7347, 'eval_gen_len': 23.777, 'eval_runtime': 47.2026, 'eval_samples_per_second': 18.622, 'eval_steps_per_second': 1.165, 'epoch': 14.46}\n"
     ]
    },
    {
     "data": {
      "application/vnd.jupyter.widget-view+json": {
       "model_id": "febf51c939314eff9ba8df1000f54d2d",
       "version_major": 2,
       "version_minor": 0
      },
      "text/plain": [
       "  0%|          | 0/55 [00:00<?, ?it/s]"
      ]
     },
     "metadata": {},
     "output_type": "display_data"
    },
    {
     "name": "stdout",
     "output_type": "stream",
     "text": [
      "{'eval_loss': 2.1915676593780518, 'eval_bleu': 13.6852, 'eval_gen_len': 23.752, 'eval_runtime': 47.902, 'eval_samples_per_second': 18.35, 'eval_steps_per_second': 1.148, 'epoch': 14.47}\n"
     ]
    },
    {
     "data": {
      "application/vnd.jupyter.widget-view+json": {
       "model_id": "b716b2708aec4fa8a49f02201614daab",
       "version_major": 2,
       "version_minor": 0
      },
      "text/plain": [
       "  0%|          | 0/55 [00:00<?, ?it/s]"
      ]
     },
     "metadata": {},
     "output_type": "display_data"
    },
    {
     "name": "stdout",
     "output_type": "stream",
     "text": [
      "{'eval_loss': 2.178246259689331, 'eval_bleu': 13.828, 'eval_gen_len': 23.6007, 'eval_runtime': 46.7418, 'eval_samples_per_second': 18.805, 'eval_steps_per_second': 1.177, 'epoch': 14.49}\n"
     ]
    },
    {
     "data": {
      "application/vnd.jupyter.widget-view+json": {
       "model_id": "c3218358a43b4872adefcfe1b0463766",
       "version_major": 2,
       "version_minor": 0
      },
      "text/plain": [
       "  0%|          | 0/55 [00:00<?, ?it/s]"
      ]
     },
     "metadata": {},
     "output_type": "display_data"
    },
    {
     "name": "stdout",
     "output_type": "stream",
     "text": [
      "{'eval_loss': 2.1857378482818604, 'eval_bleu': 13.9897, 'eval_gen_len': 23.6644, 'eval_runtime': 48.1064, 'eval_samples_per_second': 18.272, 'eval_steps_per_second': 1.143, 'epoch': 14.5}\n"
     ]
    },
    {
     "data": {
      "application/vnd.jupyter.widget-view+json": {
       "model_id": "6330f84de29d47409fe65c5a1bf427d4",
       "version_major": 2,
       "version_minor": 0
      },
      "text/plain": [
       "  0%|          | 0/55 [00:00<?, ?it/s]"
      ]
     },
     "metadata": {},
     "output_type": "display_data"
    },
    {
     "name": "stdout",
     "output_type": "stream",
     "text": [
      "{'eval_loss': 2.1845130920410156, 'eval_bleu': 13.6746, 'eval_gen_len': 23.8043, 'eval_runtime': 46.7852, 'eval_samples_per_second': 18.788, 'eval_steps_per_second': 1.176, 'epoch': 14.51}\n",
      "{'loss': 1.3933, 'grad_norm': 1.1563029289245605, 'learning_rate': 0.0003, 'epoch': 14.53}\n"
     ]
    },
    {
     "data": {
      "application/vnd.jupyter.widget-view+json": {
       "model_id": "5afba4591b3045fa9c5c2431e5e708e3",
       "version_major": 2,
       "version_minor": 0
      },
      "text/plain": [
       "  0%|          | 0/55 [00:00<?, ?it/s]"
      ]
     },
     "metadata": {},
     "output_type": "display_data"
    },
    {
     "name": "stdout",
     "output_type": "stream",
     "text": [
      "{'eval_loss': 2.1805579662323, 'eval_bleu': 14.2798, 'eval_gen_len': 23.7076, 'eval_runtime': 43.5809, 'eval_samples_per_second': 20.169, 'eval_steps_per_second': 1.262, 'epoch': 14.53}\n"
     ]
    },
    {
     "data": {
      "application/vnd.jupyter.widget-view+json": {
       "model_id": "e5cc8d20b9d44addb87a63c1f655f2ad",
       "version_major": 2,
       "version_minor": 0
      },
      "text/plain": [
       "  0%|          | 0/55 [00:00<?, ?it/s]"
      ]
     },
     "metadata": {},
     "output_type": "display_data"
    },
    {
     "name": "stdout",
     "output_type": "stream",
     "text": [
      "{'eval_loss': 2.1841161251068115, 'eval_bleu': 13.8396, 'eval_gen_len': 23.7486, 'eval_runtime': 43.9635, 'eval_samples_per_second': 19.994, 'eval_steps_per_second': 1.251, 'epoch': 14.54}\n"
     ]
    },
    {
     "data": {
      "application/vnd.jupyter.widget-view+json": {
       "model_id": "2c79a8c21a054834aaff57981a61b3b4",
       "version_major": 2,
       "version_minor": 0
      },
      "text/plain": [
       "  0%|          | 0/55 [00:00<?, ?it/s]"
      ]
     },
     "metadata": {},
     "output_type": "display_data"
    },
    {
     "name": "stdout",
     "output_type": "stream",
     "text": [
      "{'eval_loss': 2.1849589347839355, 'eval_bleu': 13.688, 'eval_gen_len': 23.6234, 'eval_runtime': 44.2384, 'eval_samples_per_second': 19.87, 'eval_steps_per_second': 1.243, 'epoch': 14.56}\n"
     ]
    },
    {
     "data": {
      "application/vnd.jupyter.widget-view+json": {
       "model_id": "b83e6f6fdeae430eb7bb7b843c613107",
       "version_major": 2,
       "version_minor": 0
      },
      "text/plain": [
       "  0%|          | 0/55 [00:00<?, ?it/s]"
      ]
     },
     "metadata": {},
     "output_type": "display_data"
    },
    {
     "name": "stdout",
     "output_type": "stream",
     "text": [
      "{'eval_loss': 2.1834747791290283, 'eval_bleu': 14.2252, 'eval_gen_len': 23.7998, 'eval_runtime': 43.4769, 'eval_samples_per_second': 20.218, 'eval_steps_per_second': 1.265, 'epoch': 14.57}\n"
     ]
    },
    {
     "data": {
      "application/vnd.jupyter.widget-view+json": {
       "model_id": "29fbdc34a1d443c38cd2b0ce5807ac76",
       "version_major": 2,
       "version_minor": 0
      },
      "text/plain": [
       "  0%|          | 0/55 [00:00<?, ?it/s]"
      ]
     },
     "metadata": {},
     "output_type": "display_data"
    },
    {
     "name": "stdout",
     "output_type": "stream",
     "text": [
      "{'eval_loss': 2.167672872543335, 'eval_bleu': 13.978, 'eval_gen_len': 23.8703, 'eval_runtime': 43.6145, 'eval_samples_per_second': 20.154, 'eval_steps_per_second': 1.261, 'epoch': 14.58}\n",
      "{'loss': 1.3992, 'grad_norm': 1.2313027381896973, 'learning_rate': 0.0002966666666666667, 'epoch': 14.6}\n"
     ]
    },
    {
     "data": {
      "application/vnd.jupyter.widget-view+json": {
       "model_id": "2f363050eb7d4a57b731be4169f86582",
       "version_major": 2,
       "version_minor": 0
      },
      "text/plain": [
       "  0%|          | 0/55 [00:00<?, ?it/s]"
      ]
     },
     "metadata": {},
     "output_type": "display_data"
    },
    {
     "name": "stdout",
     "output_type": "stream",
     "text": [
      "{'eval_loss': 2.1703503131866455, 'eval_bleu': 14.0209, 'eval_gen_len': 23.9693, 'eval_runtime': 44.0486, 'eval_samples_per_second': 19.955, 'eval_steps_per_second': 1.249, 'epoch': 14.6}\n"
     ]
    },
    {
     "data": {
      "application/vnd.jupyter.widget-view+json": {
       "model_id": "68d8e5c4147c46439f226c4f11396e58",
       "version_major": 2,
       "version_minor": 0
      },
      "text/plain": [
       "  0%|          | 0/55 [00:00<?, ?it/s]"
      ]
     },
     "metadata": {},
     "output_type": "display_data"
    },
    {
     "name": "stdout",
     "output_type": "stream",
     "text": [
      "{'eval_loss': 2.1627004146575928, 'eval_bleu': 14.1731, 'eval_gen_len': 23.6325, 'eval_runtime': 44.9629, 'eval_samples_per_second': 19.549, 'eval_steps_per_second': 1.223, 'epoch': 14.61}\n"
     ]
    },
    {
     "data": {
      "application/vnd.jupyter.widget-view+json": {
       "model_id": "f503e24a1eb8473293bad371c1e941a9",
       "version_major": 2,
       "version_minor": 0
      },
      "text/plain": [
       "  0%|          | 0/55 [00:00<?, ?it/s]"
      ]
     },
     "metadata": {},
     "output_type": "display_data"
    },
    {
     "name": "stdout",
     "output_type": "stream",
     "text": [
      "{'eval_loss': 2.173823356628418, 'eval_bleu': 13.8129, 'eval_gen_len': 23.6246, 'eval_runtime': 44.9136, 'eval_samples_per_second': 19.571, 'eval_steps_per_second': 1.225, 'epoch': 14.62}\n"
     ]
    },
    {
     "data": {
      "application/vnd.jupyter.widget-view+json": {
       "model_id": "0194ea6d44194b18bd2304574d487044",
       "version_major": 2,
       "version_minor": 0
      },
      "text/plain": [
       "  0%|          | 0/55 [00:00<?, ?it/s]"
      ]
     },
     "metadata": {},
     "output_type": "display_data"
    },
    {
     "name": "stdout",
     "output_type": "stream",
     "text": [
      "{'eval_loss': 2.166613817214966, 'eval_bleu': 13.8703, 'eval_gen_len': 23.603, 'eval_runtime': 46.2976, 'eval_samples_per_second': 18.986, 'eval_steps_per_second': 1.188, 'epoch': 14.64}\n"
     ]
    },
    {
     "data": {
      "application/vnd.jupyter.widget-view+json": {
       "model_id": "34488f3dc5744b21ac7fdc960d10c62a",
       "version_major": 2,
       "version_minor": 0
      },
      "text/plain": [
       "  0%|          | 0/55 [00:00<?, ?it/s]"
      ]
     },
     "metadata": {},
     "output_type": "display_data"
    },
    {
     "name": "stdout",
     "output_type": "stream",
     "text": [
      "{'eval_loss': 2.173157215118408, 'eval_bleu': 13.8481, 'eval_gen_len': 23.7349, 'eval_runtime': 46.3876, 'eval_samples_per_second': 18.949, 'eval_steps_per_second': 1.186, 'epoch': 14.65}\n",
      "{'loss': 1.4029, 'grad_norm': 1.0884402990341187, 'learning_rate': 0.0002933333333333333, 'epoch': 14.67}\n"
     ]
    },
    {
     "data": {
      "application/vnd.jupyter.widget-view+json": {
       "model_id": "ad1eff0279e3466a9e86cf9cc0ba43f4",
       "version_major": 2,
       "version_minor": 0
      },
      "text/plain": [
       "  0%|          | 0/55 [00:00<?, ?it/s]"
      ]
     },
     "metadata": {},
     "output_type": "display_data"
    },
    {
     "name": "stdout",
     "output_type": "stream",
     "text": [
      "{'eval_loss': 2.1827006340026855, 'eval_bleu': 13.6908, 'eval_gen_len': 23.6553, 'eval_runtime': 49.7919, 'eval_samples_per_second': 17.653, 'eval_steps_per_second': 1.105, 'epoch': 14.67}\n"
     ]
    },
    {
     "data": {
      "application/vnd.jupyter.widget-view+json": {
       "model_id": "47b0b0f936e04926840140a7489b7525",
       "version_major": 2,
       "version_minor": 0
      },
      "text/plain": [
       "  0%|          | 0/55 [00:00<?, ?it/s]"
      ]
     },
     "metadata": {},
     "output_type": "display_data"
    },
    {
     "name": "stdout",
     "output_type": "stream",
     "text": [
      "{'eval_loss': 2.1676952838897705, 'eval_bleu': 13.7943, 'eval_gen_len': 23.7258, 'eval_runtime': 79.8611, 'eval_samples_per_second': 11.007, 'eval_steps_per_second': 0.689, 'epoch': 14.68}\n"
     ]
    },
    {
     "data": {
      "application/vnd.jupyter.widget-view+json": {
       "model_id": "638a8a03b4d04895b5d9552aa05dc58c",
       "version_major": 2,
       "version_minor": 0
      },
      "text/plain": [
       "  0%|          | 0/55 [00:00<?, ?it/s]"
      ]
     },
     "metadata": {},
     "output_type": "display_data"
    },
    {
     "name": "stdout",
     "output_type": "stream",
     "text": [
      "{'eval_loss': 2.1846566200256348, 'eval_bleu': 13.6715, 'eval_gen_len': 23.7031, 'eval_runtime': 44.7164, 'eval_samples_per_second': 19.657, 'eval_steps_per_second': 1.23, 'epoch': 14.69}\n"
     ]
    },
    {
     "data": {
      "application/vnd.jupyter.widget-view+json": {
       "model_id": "c0f0fabf86cb49b89126990c7f68bd0c",
       "version_major": 2,
       "version_minor": 0
      },
      "text/plain": [
       "  0%|          | 0/55 [00:00<?, ?it/s]"
      ]
     },
     "metadata": {},
     "output_type": "display_data"
    },
    {
     "name": "stdout",
     "output_type": "stream",
     "text": [
      "{'eval_loss': 2.16610050201416, 'eval_bleu': 13.9693, 'eval_gen_len': 23.8441, 'eval_runtime': 88.012, 'eval_samples_per_second': 9.987, 'eval_steps_per_second': 0.625, 'epoch': 14.71}\n"
     ]
    },
    {
     "data": {
      "application/vnd.jupyter.widget-view+json": {
       "model_id": "a302ae4f057a49eeb8664536e49faa8b",
       "version_major": 2,
       "version_minor": 0
      },
      "text/plain": [
       "  0%|          | 0/55 [00:00<?, ?it/s]"
      ]
     },
     "metadata": {},
     "output_type": "display_data"
    },
    {
     "name": "stdout",
     "output_type": "stream",
     "text": [
      "{'eval_loss': 2.1722822189331055, 'eval_bleu': 13.7269, 'eval_gen_len': 23.6849, 'eval_runtime': 86.3605, 'eval_samples_per_second': 10.178, 'eval_steps_per_second': 0.637, 'epoch': 14.72}\n",
      "{'loss': 1.4079, 'grad_norm': 1.2462464570999146, 'learning_rate': 0.00029, 'epoch': 14.74}\n"
     ]
    },
    {
     "data": {
      "application/vnd.jupyter.widget-view+json": {
       "model_id": "947db2902c424af6b13c7a9db5906227",
       "version_major": 2,
       "version_minor": 0
      },
      "text/plain": [
       "  0%|          | 0/55 [00:00<?, ?it/s]"
      ]
     },
     "metadata": {},
     "output_type": "display_data"
    },
    {
     "name": "stdout",
     "output_type": "stream",
     "text": [
      "{'eval_loss': 2.1738784313201904, 'eval_bleu': 14.1261, 'eval_gen_len': 23.7622, 'eval_runtime': 81.7959, 'eval_samples_per_second': 10.746, 'eval_steps_per_second': 0.672, 'epoch': 14.74}\n"
     ]
    },
    {
     "data": {
      "application/vnd.jupyter.widget-view+json": {
       "model_id": "a3d94144339449c8b1c9db9c4c903dfa",
       "version_major": 2,
       "version_minor": 0
      },
      "text/plain": [
       "  0%|          | 0/55 [00:00<?, ?it/s]"
      ]
     },
     "metadata": {},
     "output_type": "display_data"
    },
    {
     "name": "stdout",
     "output_type": "stream",
     "text": [
      "{'eval_loss': 2.181398868560791, 'eval_bleu': 14.0233, 'eval_gen_len': 23.8555, 'eval_runtime': 45.9045, 'eval_samples_per_second': 19.148, 'eval_steps_per_second': 1.198, 'epoch': 14.75}\n"
     ]
    },
    {
     "data": {
      "application/vnd.jupyter.widget-view+json": {
       "model_id": "8b478302c17a4cdc96858d4e81fa2ebf",
       "version_major": 2,
       "version_minor": 0
      },
      "text/plain": [
       "  0%|          | 0/55 [00:00<?, ?it/s]"
      ]
     },
     "metadata": {},
     "output_type": "display_data"
    },
    {
     "name": "stdout",
     "output_type": "stream",
     "text": [
      "{'eval_loss': 2.1735317707061768, 'eval_bleu': 14.0386, 'eval_gen_len': 23.7099, 'eval_runtime': 44.4159, 'eval_samples_per_second': 19.79, 'eval_steps_per_second': 1.238, 'epoch': 14.76}\n"
     ]
    },
    {
     "data": {
      "application/vnd.jupyter.widget-view+json": {
       "model_id": "09e0a0303d6d4a16be0253345d9581c0",
       "version_major": 2,
       "version_minor": 0
      },
      "text/plain": [
       "  0%|          | 0/55 [00:00<?, ?it/s]"
      ]
     },
     "metadata": {},
     "output_type": "display_data"
    },
    {
     "name": "stdout",
     "output_type": "stream",
     "text": [
      "{'eval_loss': 2.171327590942383, 'eval_bleu': 14.2353, 'eval_gen_len': 23.6519, 'eval_runtime': 44.857, 'eval_samples_per_second': 19.596, 'eval_steps_per_second': 1.226, 'epoch': 14.78}\n"
     ]
    },
    {
     "data": {
      "application/vnd.jupyter.widget-view+json": {
       "model_id": "5ce7664a00b64ea995db902a8fdfe8bd",
       "version_major": 2,
       "version_minor": 0
      },
      "text/plain": [
       "  0%|          | 0/55 [00:00<?, ?it/s]"
      ]
     },
     "metadata": {},
     "output_type": "display_data"
    },
    {
     "name": "stdout",
     "output_type": "stream",
     "text": [
      "{'eval_loss': 2.1602632999420166, 'eval_bleu': 14.0435, 'eval_gen_len': 23.7304, 'eval_runtime': 77.9048, 'eval_samples_per_second': 11.283, 'eval_steps_per_second': 0.706, 'epoch': 14.79}\n",
      "{'loss': 1.4199, 'grad_norm': 1.2752455472946167, 'learning_rate': 0.0002866666666666667, 'epoch': 14.8}\n"
     ]
    },
    {
     "data": {
      "application/vnd.jupyter.widget-view+json": {
       "model_id": "713e02f04bb74acfbbdb4b6e2554ff21",
       "version_major": 2,
       "version_minor": 0
      },
      "text/plain": [
       "  0%|          | 0/55 [00:00<?, ?it/s]"
      ]
     },
     "metadata": {},
     "output_type": "display_data"
    },
    {
     "name": "stdout",
     "output_type": "stream",
     "text": [
      "{'eval_loss': 2.1738593578338623, 'eval_bleu': 14.2604, 'eval_gen_len': 23.6871, 'eval_runtime': 60.7438, 'eval_samples_per_second': 14.471, 'eval_steps_per_second': 0.905, 'epoch': 14.8}\n"
     ]
    },
    {
     "data": {
      "application/vnd.jupyter.widget-view+json": {
       "model_id": "39da762c9d2245cb811831e11db94359",
       "version_major": 2,
       "version_minor": 0
      },
      "text/plain": [
       "  0%|          | 0/55 [00:00<?, ?it/s]"
      ]
     },
     "metadata": {},
     "output_type": "display_data"
    },
    {
     "name": "stdout",
     "output_type": "stream",
     "text": [
      "{'eval_loss': 2.172027587890625, 'eval_bleu': 14.4939, 'eval_gen_len': 23.7668, 'eval_runtime': 45.3846, 'eval_samples_per_second': 19.368, 'eval_steps_per_second': 1.212, 'epoch': 14.82}\n"
     ]
    },
    {
     "data": {
      "application/vnd.jupyter.widget-view+json": {
       "model_id": "8b4b24579c48419787e7bb96fda14bc7",
       "version_major": 2,
       "version_minor": 0
      },
      "text/plain": [
       "  0%|          | 0/55 [00:00<?, ?it/s]"
      ]
     },
     "metadata": {},
     "output_type": "display_data"
    },
    {
     "name": "stdout",
     "output_type": "stream",
     "text": [
      "{'eval_loss': 2.172680616378784, 'eval_bleu': 14.3163, 'eval_gen_len': 23.6974, 'eval_runtime': 78.0665, 'eval_samples_per_second': 11.26, 'eval_steps_per_second': 0.705, 'epoch': 14.83}\n"
     ]
    },
    {
     "data": {
      "application/vnd.jupyter.widget-view+json": {
       "model_id": "13c62e9500a44c2da1e97b439a83d0f7",
       "version_major": 2,
       "version_minor": 0
      },
      "text/plain": [
       "  0%|          | 0/55 [00:00<?, ?it/s]"
      ]
     },
     "metadata": {},
     "output_type": "display_data"
    },
    {
     "name": "stdout",
     "output_type": "stream",
     "text": [
      "{'eval_loss': 2.1730611324310303, 'eval_bleu': 14.4116, 'eval_gen_len': 23.7816, 'eval_runtime': 45.4475, 'eval_samples_per_second': 19.341, 'eval_steps_per_second': 1.21, 'epoch': 14.85}\n"
     ]
    },
    {
     "data": {
      "application/vnd.jupyter.widget-view+json": {
       "model_id": "a8fe2e27bf104a35bcdf36bc8c818da2",
       "version_major": 2,
       "version_minor": 0
      },
      "text/plain": [
       "  0%|          | 0/55 [00:00<?, ?it/s]"
      ]
     },
     "metadata": {},
     "output_type": "display_data"
    },
    {
     "name": "stdout",
     "output_type": "stream",
     "text": [
      "{'eval_loss': 2.167332887649536, 'eval_bleu': 14.4898, 'eval_gen_len': 23.6985, 'eval_runtime': 44.7911, 'eval_samples_per_second': 19.624, 'eval_steps_per_second': 1.228, 'epoch': 14.86}\n",
      "{'loss': 1.4196, 'grad_norm': 1.2864677906036377, 'learning_rate': 0.00028333333333333335, 'epoch': 14.87}\n"
     ]
    },
    {
     "data": {
      "application/vnd.jupyter.widget-view+json": {
       "model_id": "91a8d0aa38b740aabd413eb9d49c0068",
       "version_major": 2,
       "version_minor": 0
      },
      "text/plain": [
       "  0%|          | 0/55 [00:00<?, ?it/s]"
      ]
     },
     "metadata": {},
     "output_type": "display_data"
    },
    {
     "name": "stdout",
     "output_type": "stream",
     "text": [
      "{'eval_loss': 2.1691062450408936, 'eval_bleu': 14.2258, 'eval_gen_len': 23.8066, 'eval_runtime': 50.0461, 'eval_samples_per_second': 17.564, 'eval_steps_per_second': 1.099, 'epoch': 14.87}\n"
     ]
    },
    {
     "data": {
      "application/vnd.jupyter.widget-view+json": {
       "model_id": "0ab021f216ca49b4800518b75beb7741",
       "version_major": 2,
       "version_minor": 0
      },
      "text/plain": [
       "  0%|          | 0/55 [00:00<?, ?it/s]"
      ]
     },
     "metadata": {},
     "output_type": "display_data"
    },
    {
     "name": "stdout",
     "output_type": "stream",
     "text": [
      "{'eval_loss': 2.1680843830108643, 'eval_bleu': 14.4263, 'eval_gen_len': 23.7907, 'eval_runtime': 44.105, 'eval_samples_per_second': 19.93, 'eval_steps_per_second': 1.247, 'epoch': 14.89}\n"
     ]
    },
    {
     "data": {
      "application/vnd.jupyter.widget-view+json": {
       "model_id": "00756451a1434deca454bfea64b48746",
       "version_major": 2,
       "version_minor": 0
      },
      "text/plain": [
       "  0%|          | 0/55 [00:00<?, ?it/s]"
      ]
     },
     "metadata": {},
     "output_type": "display_data"
    },
    {
     "name": "stdout",
     "output_type": "stream",
     "text": [
      "{'eval_loss': 2.1551473140716553, 'eval_bleu': 14.3158, 'eval_gen_len': 23.8157, 'eval_runtime': 45.5756, 'eval_samples_per_second': 19.287, 'eval_steps_per_second': 1.207, 'epoch': 14.9}\n"
     ]
    },
    {
     "data": {
      "application/vnd.jupyter.widget-view+json": {
       "model_id": "093339d23b9140c7a021f7dfd683da7c",
       "version_major": 2,
       "version_minor": 0
      },
      "text/plain": [
       "  0%|          | 0/55 [00:00<?, ?it/s]"
      ]
     },
     "metadata": {},
     "output_type": "display_data"
    },
    {
     "name": "stdout",
     "output_type": "stream",
     "text": [
      "{'eval_loss': 2.162254810333252, 'eval_bleu': 14.6167, 'eval_gen_len': 23.8146, 'eval_runtime': 69.2146, 'eval_samples_per_second': 12.7, 'eval_steps_per_second': 0.795, 'epoch': 14.92}\n"
     ]
    },
    {
     "data": {
      "application/vnd.jupyter.widget-view+json": {
       "model_id": "e3f332ae00d444c388fabb7f81fb0a9c",
       "version_major": 2,
       "version_minor": 0
      },
      "text/plain": [
       "  0%|          | 0/55 [00:00<?, ?it/s]"
      ]
     },
     "metadata": {},
     "output_type": "display_data"
    },
    {
     "name": "stdout",
     "output_type": "stream",
     "text": [
      "{'eval_loss': 2.165407419204712, 'eval_bleu': 14.3564, 'eval_gen_len': 23.8191, 'eval_runtime': 45.1655, 'eval_samples_per_second': 19.462, 'eval_steps_per_second': 1.218, 'epoch': 14.93}\n",
      "{'loss': 1.4162, 'grad_norm': 1.1640523672103882, 'learning_rate': 0.00028000000000000003, 'epoch': 14.94}\n"
     ]
    },
    {
     "data": {
      "application/vnd.jupyter.widget-view+json": {
       "model_id": "890b4ff884384695b11c8944e838c63e",
       "version_major": 2,
       "version_minor": 0
      },
      "text/plain": [
       "  0%|          | 0/55 [00:00<?, ?it/s]"
      ]
     },
     "metadata": {},
     "output_type": "display_data"
    },
    {
     "name": "stdout",
     "output_type": "stream",
     "text": [
      "{'eval_loss': 2.1639537811279297, 'eval_bleu': 13.8832, 'eval_gen_len': 23.7224, 'eval_runtime': 44.8104, 'eval_samples_per_second': 19.616, 'eval_steps_per_second': 1.227, 'epoch': 14.94}\n"
     ]
    },
    {
     "data": {
      "application/vnd.jupyter.widget-view+json": {
       "model_id": "821423e4f33f40c2ae510c3d699fa880",
       "version_major": 2,
       "version_minor": 0
      },
      "text/plain": [
       "  0%|          | 0/55 [00:00<?, ?it/s]"
      ]
     },
     "metadata": {},
     "output_type": "display_data"
    },
    {
     "name": "stdout",
     "output_type": "stream",
     "text": [
      "{'eval_loss': 2.1647398471832275, 'eval_bleu': 14.0982, 'eval_gen_len': 23.8339, 'eval_runtime': 44.6147, 'eval_samples_per_second': 19.702, 'eval_steps_per_second': 1.233, 'epoch': 14.96}\n"
     ]
    },
    {
     "data": {
      "application/vnd.jupyter.widget-view+json": {
       "model_id": "0d8c7d1a3b1d42469ca9f44f5b9122fe",
       "version_major": 2,
       "version_minor": 0
      },
      "text/plain": [
       "  0%|          | 0/55 [00:00<?, ?it/s]"
      ]
     },
     "metadata": {},
     "output_type": "display_data"
    },
    {
     "name": "stdout",
     "output_type": "stream",
     "text": [
      "{'eval_loss': 2.1747183799743652, 'eval_bleu': 14.339, 'eval_gen_len': 23.6894, 'eval_runtime': 45.4601, 'eval_samples_per_second': 19.336, 'eval_steps_per_second': 1.21, 'epoch': 14.97}\n"
     ]
    },
    {
     "data": {
      "application/vnd.jupyter.widget-view+json": {
       "model_id": "57fa299743a84e3db6677138d2407d63",
       "version_major": 2,
       "version_minor": 0
      },
      "text/plain": [
       "  0%|          | 0/55 [00:00<?, ?it/s]"
      ]
     },
     "metadata": {},
     "output_type": "display_data"
    },
    {
     "name": "stdout",
     "output_type": "stream",
     "text": [
      "{'eval_loss': 2.1638684272766113, 'eval_bleu': 14.2976, 'eval_gen_len': 23.7611, 'eval_runtime': 44.9636, 'eval_samples_per_second': 19.549, 'eval_steps_per_second': 1.223, 'epoch': 14.98}\n"
     ]
    },
    {
     "data": {
      "application/vnd.jupyter.widget-view+json": {
       "model_id": "4337dc8cc57e4595b549cd1f27c393b8",
       "version_major": 2,
       "version_minor": 0
      },
      "text/plain": [
       "  0%|          | 0/55 [00:00<?, ?it/s]"
      ]
     },
     "metadata": {},
     "output_type": "display_data"
    },
    {
     "name": "stdout",
     "output_type": "stream",
     "text": [
      "{'eval_loss': 2.1586005687713623, 'eval_bleu': 14.1953, 'eval_gen_len': 23.8123, 'eval_runtime': 57.3685, 'eval_samples_per_second': 15.322, 'eval_steps_per_second': 0.959, 'epoch': 15.0}\n",
      "{'loss': 1.3889, 'grad_norm': 1.2441483736038208, 'learning_rate': 0.00027666666666666665, 'epoch': 15.01}\n"
     ]
    },
    {
     "data": {
      "application/vnd.jupyter.widget-view+json": {
       "model_id": "3189b6da0f974095887ce1fd7d1b3ba1",
       "version_major": 2,
       "version_minor": 0
      },
      "text/plain": [
       "  0%|          | 0/55 [00:00<?, ?it/s]"
      ]
     },
     "metadata": {},
     "output_type": "display_data"
    },
    {
     "name": "stdout",
     "output_type": "stream",
     "text": [
      "{'eval_loss': 2.206141471862793, 'eval_bleu': 14.6076, 'eval_gen_len': 23.8111, 'eval_runtime': 49.3236, 'eval_samples_per_second': 17.821, 'eval_steps_per_second': 1.115, 'epoch': 15.01}\n"
     ]
    },
    {
     "data": {
      "application/vnd.jupyter.widget-view+json": {
       "model_id": "6b58f9b228574a868b90246eb6aaeca8",
       "version_major": 2,
       "version_minor": 0
      },
      "text/plain": [
       "  0%|          | 0/55 [00:00<?, ?it/s]"
      ]
     },
     "metadata": {},
     "output_type": "display_data"
    },
    {
     "name": "stdout",
     "output_type": "stream",
     "text": [
      "{'eval_loss': 2.203212261199951, 'eval_bleu': 14.3823, 'eval_gen_len': 23.6303, 'eval_runtime': 75.7039, 'eval_samples_per_second': 11.611, 'eval_steps_per_second': 0.727, 'epoch': 15.03}\n"
     ]
    },
    {
     "data": {
      "application/vnd.jupyter.widget-view+json": {
       "model_id": "3521bba5dfb44844b39f1e875833ebac",
       "version_major": 2,
       "version_minor": 0
      },
      "text/plain": [
       "  0%|          | 0/55 [00:00<?, ?it/s]"
      ]
     },
     "metadata": {},
     "output_type": "display_data"
    },
    {
     "name": "stdout",
     "output_type": "stream",
     "text": [
      "{'eval_loss': 2.1922900676727295, 'eval_bleu': 14.0945, 'eval_gen_len': 23.5859, 'eval_runtime': 45.6205, 'eval_samples_per_second': 19.268, 'eval_steps_per_second': 1.206, 'epoch': 15.04}\n"
     ]
    },
    {
     "data": {
      "application/vnd.jupyter.widget-view+json": {
       "model_id": "1a3ee97d839244ef9019885c64fa112e",
       "version_major": 2,
       "version_minor": 0
      },
      "text/plain": [
       "  0%|          | 0/55 [00:00<?, ?it/s]"
      ]
     },
     "metadata": {},
     "output_type": "display_data"
    },
    {
     "name": "stdout",
     "output_type": "stream",
     "text": [
      "{'eval_loss': 2.2094643115997314, 'eval_bleu': 14.3039, 'eval_gen_len': 23.6769, 'eval_runtime': 47.9734, 'eval_samples_per_second': 18.323, 'eval_steps_per_second': 1.146, 'epoch': 15.05}\n"
     ]
    },
    {
     "data": {
      "application/vnd.jupyter.widget-view+json": {
       "model_id": "28a31efcd256462185355d59b1b066f2",
       "version_major": 2,
       "version_minor": 0
      },
      "text/plain": [
       "  0%|          | 0/55 [00:00<?, ?it/s]"
      ]
     },
     "metadata": {},
     "output_type": "display_data"
    },
    {
     "name": "stdout",
     "output_type": "stream",
     "text": [
      "{'eval_loss': 2.2028615474700928, 'eval_bleu': 14.071, 'eval_gen_len': 23.5984, 'eval_runtime': 96.1053, 'eval_samples_per_second': 9.146, 'eval_steps_per_second': 0.572, 'epoch': 15.07}\n",
      "{'loss': 1.3084, 'grad_norm': 1.368886113166809, 'learning_rate': 0.00027333333333333333, 'epoch': 15.08}\n"
     ]
    },
    {
     "data": {
      "application/vnd.jupyter.widget-view+json": {
       "model_id": "b5f46340569a40f6957cafe183c23821",
       "version_major": 2,
       "version_minor": 0
      },
      "text/plain": [
       "  0%|          | 0/55 [00:00<?, ?it/s]"
      ]
     },
     "metadata": {},
     "output_type": "display_data"
    },
    {
     "name": "stdout",
     "output_type": "stream",
     "text": [
      "{'eval_loss': 2.2199480533599854, 'eval_bleu': 14.0948, 'eval_gen_len': 23.8009, 'eval_runtime': 66.8536, 'eval_samples_per_second': 13.148, 'eval_steps_per_second': 0.823, 'epoch': 15.08}\n"
     ]
    },
    {
     "data": {
      "application/vnd.jupyter.widget-view+json": {
       "model_id": "eda4e62ea9f74b0bace453e9bf736eed",
       "version_major": 2,
       "version_minor": 0
      },
      "text/plain": [
       "  0%|          | 0/55 [00:00<?, ?it/s]"
      ]
     },
     "metadata": {},
     "output_type": "display_data"
    },
    {
     "name": "stdout",
     "output_type": "stream",
     "text": [
      "{'eval_loss': 2.224212408065796, 'eval_bleu': 14.3621, 'eval_gen_len': 23.6143, 'eval_runtime': 53.8708, 'eval_samples_per_second': 16.317, 'eval_steps_per_second': 1.021, 'epoch': 15.1}\n"
     ]
    },
    {
     "data": {
      "application/vnd.jupyter.widget-view+json": {
       "model_id": "972cb491647149709c681c1c4aea56d5",
       "version_major": 2,
       "version_minor": 0
      },
      "text/plain": [
       "  0%|          | 0/55 [00:00<?, ?it/s]"
      ]
     },
     "metadata": {},
     "output_type": "display_data"
    },
    {
     "name": "stdout",
     "output_type": "stream",
     "text": [
      "{'eval_loss': 2.2142462730407715, 'eval_bleu': 14.3184, 'eval_gen_len': 23.7554, 'eval_runtime': 65.2823, 'eval_samples_per_second': 13.465, 'eval_steps_per_second': 0.842, 'epoch': 15.11}\n"
     ]
    },
    {
     "data": {
      "application/vnd.jupyter.widget-view+json": {
       "model_id": "e83a52ca942442f8aed4f90afd8f5dcc",
       "version_major": 2,
       "version_minor": 0
      },
      "text/plain": [
       "  0%|          | 0/55 [00:00<?, ?it/s]"
      ]
     },
     "metadata": {},
     "output_type": "display_data"
    },
    {
     "name": "stdout",
     "output_type": "stream",
     "text": [
      "{'eval_loss': 2.2064290046691895, 'eval_bleu': 14.2365, 'eval_gen_len': 23.7565, 'eval_runtime': 46.562, 'eval_samples_per_second': 18.878, 'eval_steps_per_second': 1.181, 'epoch': 15.12}\n"
     ]
    },
    {
     "data": {
      "application/vnd.jupyter.widget-view+json": {
       "model_id": "c5843d4c63a649c186d9b46e9b34d493",
       "version_major": 2,
       "version_minor": 0
      },
      "text/plain": [
       "  0%|          | 0/55 [00:00<?, ?it/s]"
      ]
     },
     "metadata": {},
     "output_type": "display_data"
    },
    {
     "name": "stdout",
     "output_type": "stream",
     "text": [
      "{'eval_loss': 2.2159435749053955, 'eval_bleu': 14.4329, 'eval_gen_len': 23.6428, 'eval_runtime': 78.2352, 'eval_samples_per_second': 11.235, 'eval_steps_per_second': 0.703, 'epoch': 15.14}\n",
      "{'loss': 1.3086, 'grad_norm': 1.384087324142456, 'learning_rate': 0.00027, 'epoch': 15.15}\n"
     ]
    },
    {
     "data": {
      "application/vnd.jupyter.widget-view+json": {
       "model_id": "8ba835a4a72a4d14b48ec8b57661f016",
       "version_major": 2,
       "version_minor": 0
      },
      "text/plain": [
       "  0%|          | 0/55 [00:00<?, ?it/s]"
      ]
     },
     "metadata": {},
     "output_type": "display_data"
    },
    {
     "name": "stdout",
     "output_type": "stream",
     "text": [
      "{'eval_loss': 2.211057424545288, 'eval_bleu': 14.1389, 'eval_gen_len': 23.686, 'eval_runtime': 46.51, 'eval_samples_per_second': 18.899, 'eval_steps_per_second': 1.183, 'epoch': 15.15}\n"
     ]
    },
    {
     "data": {
      "application/vnd.jupyter.widget-view+json": {
       "model_id": "cc243949a8b74313b75cc62bfbb587f5",
       "version_major": 2,
       "version_minor": 0
      },
      "text/plain": [
       "  0%|          | 0/55 [00:00<?, ?it/s]"
      ]
     },
     "metadata": {},
     "output_type": "display_data"
    },
    {
     "name": "stdout",
     "output_type": "stream",
     "text": [
      "{'eval_loss': 2.208235502243042, 'eval_bleu': 14.0992, 'eval_gen_len': 23.7964, 'eval_runtime': 45.5957, 'eval_samples_per_second': 19.278, 'eval_steps_per_second': 1.206, 'epoch': 15.16}\n"
     ]
    },
    {
     "data": {
      "application/vnd.jupyter.widget-view+json": {
       "model_id": "53e0bfeb41234e149bff88ab76e2018b",
       "version_major": 2,
       "version_minor": 0
      },
      "text/plain": [
       "  0%|          | 0/55 [00:00<?, ?it/s]"
      ]
     },
     "metadata": {},
     "output_type": "display_data"
    },
    {
     "name": "stdout",
     "output_type": "stream",
     "text": [
      "{'eval_loss': 2.199899673461914, 'eval_bleu': 14.2571, 'eval_gen_len': 23.8009, 'eval_runtime': 94.2681, 'eval_samples_per_second': 9.324, 'eval_steps_per_second': 0.583, 'epoch': 15.18}\n"
     ]
    },
    {
     "data": {
      "application/vnd.jupyter.widget-view+json": {
       "model_id": "4501b3eca9f24fbb99628d2b3f87e666",
       "version_major": 2,
       "version_minor": 0
      },
      "text/plain": [
       "  0%|          | 0/55 [00:00<?, ?it/s]"
      ]
     },
     "metadata": {},
     "output_type": "display_data"
    },
    {
     "name": "stdout",
     "output_type": "stream",
     "text": [
      "{'eval_loss': 2.219815492630005, 'eval_bleu': 14.2059, 'eval_gen_len': 23.7304, 'eval_runtime': 76.0346, 'eval_samples_per_second': 11.561, 'eval_steps_per_second': 0.723, 'epoch': 15.19}\n"
     ]
    },
    {
     "data": {
      "application/vnd.jupyter.widget-view+json": {
       "model_id": "36470bf2c1274f42a9e29fca322418c9",
       "version_major": 2,
       "version_minor": 0
      },
      "text/plain": [
       "  0%|          | 0/55 [00:00<?, ?it/s]"
      ]
     },
     "metadata": {},
     "output_type": "display_data"
    },
    {
     "name": "stdout",
     "output_type": "stream",
     "text": [
      "{'eval_loss': 2.205690622329712, 'eval_bleu': 14.341, 'eval_gen_len': 23.7554, 'eval_runtime': 71.1584, 'eval_samples_per_second': 12.353, 'eval_steps_per_second': 0.773, 'epoch': 15.21}\n",
      "{'loss': 1.3238, 'grad_norm': 1.3932329416275024, 'learning_rate': 0.0002666666666666667, 'epoch': 15.22}\n"
     ]
    },
    {
     "data": {
      "application/vnd.jupyter.widget-view+json": {
       "model_id": "aa6fe2b45ad949ff901c531c9979aaa3",
       "version_major": 2,
       "version_minor": 0
      },
      "text/plain": [
       "  0%|          | 0/55 [00:00<?, ?it/s]"
      ]
     },
     "metadata": {},
     "output_type": "display_data"
    },
    {
     "name": "stdout",
     "output_type": "stream",
     "text": [
      "{'eval_loss': 2.197125196456909, 'eval_bleu': 13.9244, 'eval_gen_len': 23.7042, 'eval_runtime': 53.1156, 'eval_samples_per_second': 16.549, 'eval_steps_per_second': 1.035, 'epoch': 15.22}\n"
     ]
    },
    {
     "data": {
      "application/vnd.jupyter.widget-view+json": {
       "model_id": "7d2545e237254951b100b48eb950c2f0",
       "version_major": 2,
       "version_minor": 0
      },
      "text/plain": [
       "  0%|          | 0/55 [00:00<?, ?it/s]"
      ]
     },
     "metadata": {},
     "output_type": "display_data"
    },
    {
     "name": "stdout",
     "output_type": "stream",
     "text": [
      "{'eval_loss': 2.209505081176758, 'eval_bleu': 13.9804, 'eval_gen_len': 23.6655, 'eval_runtime': 44.8908, 'eval_samples_per_second': 19.581, 'eval_steps_per_second': 1.225, 'epoch': 15.23}\n"
     ]
    },
    {
     "data": {
      "application/vnd.jupyter.widget-view+json": {
       "model_id": "c437adde4279476f8968d1630e14e806",
       "version_major": 2,
       "version_minor": 0
      },
      "text/plain": [
       "  0%|          | 0/55 [00:00<?, ?it/s]"
      ]
     },
     "metadata": {},
     "output_type": "display_data"
    },
    {
     "name": "stdout",
     "output_type": "stream",
     "text": [
      "{'eval_loss': 2.2051124572753906, 'eval_bleu': 14.1428, 'eval_gen_len': 23.6564, 'eval_runtime': 45.8814, 'eval_samples_per_second': 19.158, 'eval_steps_per_second': 1.199, 'epoch': 15.25}\n"
     ]
    },
    {
     "data": {
      "application/vnd.jupyter.widget-view+json": {
       "model_id": "75a71b5e0a0c4595afc103323c807a0c",
       "version_major": 2,
       "version_minor": 0
      },
      "text/plain": [
       "  0%|          | 0/55 [00:00<?, ?it/s]"
      ]
     },
     "metadata": {},
     "output_type": "display_data"
    },
    {
     "name": "stdout",
     "output_type": "stream",
     "text": [
      "{'eval_loss': 2.2023496627807617, 'eval_bleu': 14.2808, 'eval_gen_len': 23.7474, 'eval_runtime': 61.7097, 'eval_samples_per_second': 14.244, 'eval_steps_per_second': 0.891, 'epoch': 15.26}\n"
     ]
    },
    {
     "data": {
      "application/vnd.jupyter.widget-view+json": {
       "model_id": "36047a214b9349049d6a20b6f547cd16",
       "version_major": 2,
       "version_minor": 0
      },
      "text/plain": [
       "  0%|          | 0/55 [00:00<?, ?it/s]"
      ]
     },
     "metadata": {},
     "output_type": "display_data"
    },
    {
     "name": "stdout",
     "output_type": "stream",
     "text": [
      "{'eval_loss': 2.1967625617980957, 'eval_bleu': 14.5219, 'eval_gen_len': 23.7565, 'eval_runtime': 55.469, 'eval_samples_per_second': 15.847, 'eval_steps_per_second': 0.992, 'epoch': 15.27}\n",
      "{'loss': 1.3262, 'grad_norm': 1.1358453035354614, 'learning_rate': 0.0002633333333333333, 'epoch': 15.29}\n"
     ]
    },
    {
     "data": {
      "application/vnd.jupyter.widget-view+json": {
       "model_id": "9af455d77f6a4907ba93fb775779f3df",
       "version_major": 2,
       "version_minor": 0
      },
      "text/plain": [
       "  0%|          | 0/55 [00:00<?, ?it/s]"
      ]
     },
     "metadata": {},
     "output_type": "display_data"
    },
    {
     "name": "stdout",
     "output_type": "stream",
     "text": [
      "{'eval_loss': 2.203273057937622, 'eval_bleu': 14.5642, 'eval_gen_len': 23.7452, 'eval_runtime': 45.6037, 'eval_samples_per_second': 19.275, 'eval_steps_per_second': 1.206, 'epoch': 15.29}\n"
     ]
    },
    {
     "data": {
      "application/vnd.jupyter.widget-view+json": {
       "model_id": "b0d06f3048e24527bd7e2c1585734001",
       "version_major": 2,
       "version_minor": 0
      },
      "text/plain": [
       "  0%|          | 0/55 [00:00<?, ?it/s]"
      ]
     },
     "metadata": {},
     "output_type": "display_data"
    },
    {
     "name": "stdout",
     "output_type": "stream",
     "text": [
      "{'eval_loss': 2.2103729248046875, 'eval_bleu': 14.2946, 'eval_gen_len': 23.7315, 'eval_runtime': 50.6428, 'eval_samples_per_second': 17.357, 'eval_steps_per_second': 1.086, 'epoch': 15.3}\n"
     ]
    },
    {
     "data": {
      "application/vnd.jupyter.widget-view+json": {
       "model_id": "66ed5505e5144c6189325ef2038cad56",
       "version_major": 2,
       "version_minor": 0
      },
      "text/plain": [
       "  0%|          | 0/55 [00:00<?, ?it/s]"
      ]
     },
     "metadata": {},
     "output_type": "display_data"
    },
    {
     "name": "stdout",
     "output_type": "stream",
     "text": [
      "{'eval_loss': 2.2083230018615723, 'eval_bleu': 14.1062, 'eval_gen_len': 23.5347, 'eval_runtime': 43.6975, 'eval_samples_per_second': 20.116, 'eval_steps_per_second': 1.259, 'epoch': 15.32}\n"
     ]
    },
    {
     "data": {
      "application/vnd.jupyter.widget-view+json": {
       "model_id": "d36fbdfe7d76481787d694e8f9bdf584",
       "version_major": 2,
       "version_minor": 0
      },
      "text/plain": [
       "  0%|          | 0/55 [00:00<?, ?it/s]"
      ]
     },
     "metadata": {},
     "output_type": "display_data"
    },
    {
     "name": "stdout",
     "output_type": "stream",
     "text": [
      "{'eval_loss': 2.216162919998169, 'eval_bleu': 14.2672, 'eval_gen_len': 23.6007, 'eval_runtime': 45.4869, 'eval_samples_per_second': 19.324, 'eval_steps_per_second': 1.209, 'epoch': 15.33}\n"
     ]
    },
    {
     "data": {
      "application/vnd.jupyter.widget-view+json": {
       "model_id": "640b324c52084543959bb18cffb87f85",
       "version_major": 2,
       "version_minor": 0
      },
      "text/plain": [
       "  0%|          | 0/55 [00:00<?, ?it/s]"
      ]
     },
     "metadata": {},
     "output_type": "display_data"
    },
    {
     "name": "stdout",
     "output_type": "stream",
     "text": [
      "{'eval_loss': 2.2031989097595215, 'eval_bleu': 14.3286, 'eval_gen_len': 23.6542, 'eval_runtime': 44.7221, 'eval_samples_per_second': 19.655, 'eval_steps_per_second': 1.23, 'epoch': 15.34}\n",
      "{'loss': 1.3337, 'grad_norm': 1.3139406442642212, 'learning_rate': 0.00026000000000000003, 'epoch': 15.36}\n"
     ]
    },
    {
     "data": {
      "application/vnd.jupyter.widget-view+json": {
       "model_id": "3c1f9fb7e435455dac1baeab56944698",
       "version_major": 2,
       "version_minor": 0
      },
      "text/plain": [
       "  0%|          | 0/55 [00:00<?, ?it/s]"
      ]
     },
     "metadata": {},
     "output_type": "display_data"
    },
    {
     "name": "stdout",
     "output_type": "stream",
     "text": [
      "{'eval_loss': 2.2049179077148438, 'eval_bleu': 14.3186, 'eval_gen_len': 23.5904, 'eval_runtime': 45.6232, 'eval_samples_per_second': 19.267, 'eval_steps_per_second': 1.206, 'epoch': 15.36}\n"
     ]
    },
    {
     "data": {
      "application/vnd.jupyter.widget-view+json": {
       "model_id": "1ffe3af9d36643b58071387b060707c3",
       "version_major": 2,
       "version_minor": 0
      },
      "text/plain": [
       "  0%|          | 0/55 [00:00<?, ?it/s]"
      ]
     },
     "metadata": {},
     "output_type": "display_data"
    },
    {
     "name": "stdout",
     "output_type": "stream",
     "text": [
      "{'eval_loss': 2.2026424407958984, 'eval_bleu': 14.2001, 'eval_gen_len': 23.8123, 'eval_runtime': 48.7648, 'eval_samples_per_second': 18.025, 'eval_steps_per_second': 1.128, 'epoch': 15.37}\n"
     ]
    },
    {
     "data": {
      "application/vnd.jupyter.widget-view+json": {
       "model_id": "e4f7da3bc03b4e4baba3e13ed7ddcd1f",
       "version_major": 2,
       "version_minor": 0
      },
      "text/plain": [
       "  0%|          | 0/55 [00:00<?, ?it/s]"
      ]
     },
     "metadata": {},
     "output_type": "display_data"
    },
    {
     "name": "stdout",
     "output_type": "stream",
     "text": [
      "{'eval_loss': 2.192411422729492, 'eval_bleu': 14.2292, 'eval_gen_len': 23.6371, 'eval_runtime': 45.1826, 'eval_samples_per_second': 19.454, 'eval_steps_per_second': 1.217, 'epoch': 15.39}\n"
     ]
    },
    {
     "data": {
      "application/vnd.jupyter.widget-view+json": {
       "model_id": "599503d2f152430e8857e092bd7e7ccf",
       "version_major": 2,
       "version_minor": 0
      },
      "text/plain": [
       "  0%|          | 0/55 [00:00<?, ?it/s]"
      ]
     },
     "metadata": {},
     "output_type": "display_data"
    },
    {
     "name": "stdout",
     "output_type": "stream",
     "text": [
      "{'eval_loss': 2.2063095569610596, 'eval_bleu': 14.0485, 'eval_gen_len': 23.6758, 'eval_runtime': 44.4248, 'eval_samples_per_second': 19.786, 'eval_steps_per_second': 1.238, 'epoch': 15.4}\n"
     ]
    },
    {
     "data": {
      "application/vnd.jupyter.widget-view+json": {
       "model_id": "1bdac48cbfea4c67bbdfeaf90564ab7c",
       "version_major": 2,
       "version_minor": 0
      },
      "text/plain": [
       "  0%|          | 0/55 [00:00<?, ?it/s]"
      ]
     },
     "metadata": {},
     "output_type": "display_data"
    },
    {
     "name": "stdout",
     "output_type": "stream",
     "text": [
      "{'eval_loss': 2.205216646194458, 'eval_bleu': 14.1406, 'eval_gen_len': 23.6121, 'eval_runtime': 45.9959, 'eval_samples_per_second': 19.11, 'eval_steps_per_second': 1.196, 'epoch': 15.41}\n",
      "{'loss': 1.3339, 'grad_norm': 1.18087637424469, 'learning_rate': 0.00025666666666666665, 'epoch': 15.43}\n"
     ]
    },
    {
     "data": {
      "application/vnd.jupyter.widget-view+json": {
       "model_id": "a490f60cd91d4f28a025f5b97053b637",
       "version_major": 2,
       "version_minor": 0
      },
      "text/plain": [
       "  0%|          | 0/55 [00:00<?, ?it/s]"
      ]
     },
     "metadata": {},
     "output_type": "display_data"
    },
    {
     "name": "stdout",
     "output_type": "stream",
     "text": [
      "{'eval_loss': 2.1914796829223633, 'eval_bleu': 13.8164, 'eval_gen_len': 23.6553, 'eval_runtime': 45.8322, 'eval_samples_per_second': 19.179, 'eval_steps_per_second': 1.2, 'epoch': 15.43}\n"
     ]
    },
    {
     "data": {
      "application/vnd.jupyter.widget-view+json": {
       "model_id": "4c8063f0c4004df2b6d1ed65be4ca7a5",
       "version_major": 2,
       "version_minor": 0
      },
      "text/plain": [
       "  0%|          | 0/55 [00:00<?, ?it/s]"
      ]
     },
     "metadata": {},
     "output_type": "display_data"
    },
    {
     "name": "stdout",
     "output_type": "stream",
     "text": [
      "{'eval_loss': 2.197633981704712, 'eval_bleu': 14.1524, 'eval_gen_len': 23.6724, 'eval_runtime': 45.0734, 'eval_samples_per_second': 19.502, 'eval_steps_per_second': 1.22, 'epoch': 15.44}\n"
     ]
    },
    {
     "data": {
      "application/vnd.jupyter.widget-view+json": {
       "model_id": "d2005c5e021841faaf1900cc2745e9a0",
       "version_major": 2,
       "version_minor": 0
      },
      "text/plain": [
       "  0%|          | 0/55 [00:00<?, ?it/s]"
      ]
     },
     "metadata": {},
     "output_type": "display_data"
    },
    {
     "name": "stdout",
     "output_type": "stream",
     "text": [
      "{'eval_loss': 2.191493272781372, 'eval_bleu': 13.9794, 'eval_gen_len': 23.6212, 'eval_runtime': 45.8284, 'eval_samples_per_second': 19.18, 'eval_steps_per_second': 1.2, 'epoch': 15.45}\n"
     ]
    },
    {
     "data": {
      "application/vnd.jupyter.widget-view+json": {
       "model_id": "74861919991d4b6b8584d73b3f555876",
       "version_major": 2,
       "version_minor": 0
      },
      "text/plain": [
       "  0%|          | 0/55 [00:00<?, ?it/s]"
      ]
     },
     "metadata": {},
     "output_type": "display_data"
    },
    {
     "name": "stdout",
     "output_type": "stream",
     "text": [
      "{'eval_loss': 2.197345733642578, 'eval_bleu': 13.9508, 'eval_gen_len': 23.7827, 'eval_runtime': 69.0347, 'eval_samples_per_second': 12.733, 'eval_steps_per_second': 0.797, 'epoch': 15.47}\n"
     ]
    },
    {
     "data": {
      "application/vnd.jupyter.widget-view+json": {
       "model_id": "ca03489a30404185a16f5f21088bddc3",
       "version_major": 2,
       "version_minor": 0
      },
      "text/plain": [
       "  0%|          | 0/55 [00:00<?, ?it/s]"
      ]
     },
     "metadata": {},
     "output_type": "display_data"
    },
    {
     "name": "stdout",
     "output_type": "stream",
     "text": [
      "{'eval_loss': 2.201936960220337, 'eval_bleu': 14.1407, 'eval_gen_len': 23.7224, 'eval_runtime': 46.0661, 'eval_samples_per_second': 19.081, 'eval_steps_per_second': 1.194, 'epoch': 15.48}\n",
      "{'loss': 1.3405, 'grad_norm': 1.1408647298812866, 'learning_rate': 0.0002533333333333334, 'epoch': 15.5}\n"
     ]
    },
    {
     "data": {
      "application/vnd.jupyter.widget-view+json": {
       "model_id": "f90595b17c0044ccb67398b73ba645b7",
       "version_major": 2,
       "version_minor": 0
      },
      "text/plain": [
       "  0%|          | 0/55 [00:00<?, ?it/s]"
      ]
     },
     "metadata": {},
     "output_type": "display_data"
    },
    {
     "name": "stdout",
     "output_type": "stream",
     "text": [
      "{'eval_loss': 2.194835662841797, 'eval_bleu': 13.9248, 'eval_gen_len': 23.6143, 'eval_runtime': 45.8943, 'eval_samples_per_second': 19.153, 'eval_steps_per_second': 1.198, 'epoch': 15.5}\n"
     ]
    },
    {
     "data": {
      "application/vnd.jupyter.widget-view+json": {
       "model_id": "b4be613a9311439496f640eed5548ade",
       "version_major": 2,
       "version_minor": 0
      },
      "text/plain": [
       "  0%|          | 0/55 [00:00<?, ?it/s]"
      ]
     },
     "metadata": {},
     "output_type": "display_data"
    },
    {
     "name": "stdout",
     "output_type": "stream",
     "text": [
      "{'eval_loss': 2.1887645721435547, 'eval_bleu': 14.0873, 'eval_gen_len': 23.719, 'eval_runtime': 45.151, 'eval_samples_per_second': 19.468, 'eval_steps_per_second': 1.218, 'epoch': 15.51}\n"
     ]
    },
    {
     "data": {
      "application/vnd.jupyter.widget-view+json": {
       "model_id": "12433fc01ea4482ab79e9c1fb0bced12",
       "version_major": 2,
       "version_minor": 0
      },
      "text/plain": [
       "  0%|          | 0/55 [00:00<?, ?it/s]"
      ]
     },
     "metadata": {},
     "output_type": "display_data"
    },
    {
     "name": "stdout",
     "output_type": "stream",
     "text": [
      "{'eval_loss': 2.1938319206237793, 'eval_bleu': 13.6027, 'eval_gen_len': 23.6815, 'eval_runtime': 45.7446, 'eval_samples_per_second': 19.215, 'eval_steps_per_second': 1.202, 'epoch': 15.52}\n"
     ]
    },
    {
     "data": {
      "application/vnd.jupyter.widget-view+json": {
       "model_id": "bc56e3f143a44fd896188bc3ed24bbd8",
       "version_major": 2,
       "version_minor": 0
      },
      "text/plain": [
       "  0%|          | 0/55 [00:00<?, ?it/s]"
      ]
     },
     "metadata": {},
     "output_type": "display_data"
    },
    {
     "name": "stdout",
     "output_type": "stream",
     "text": [
      "{'eval_loss': 2.2048935890197754, 'eval_bleu': 13.9586, 'eval_gen_len': 23.7611, 'eval_runtime': 45.4862, 'eval_samples_per_second': 19.325, 'eval_steps_per_second': 1.209, 'epoch': 15.54}\n"
     ]
    },
    {
     "data": {
      "application/vnd.jupyter.widget-view+json": {
       "model_id": "356519eb905a4609a0ef77db55af6573",
       "version_major": 2,
       "version_minor": 0
      },
      "text/plain": [
       "  0%|          | 0/55 [00:00<?, ?it/s]"
      ]
     },
     "metadata": {},
     "output_type": "display_data"
    },
    {
     "name": "stdout",
     "output_type": "stream",
     "text": [
      "{'eval_loss': 2.184265375137329, 'eval_bleu': 14.1044, 'eval_gen_len': 23.6576, 'eval_runtime': 46.0622, 'eval_samples_per_second': 19.083, 'eval_steps_per_second': 1.194, 'epoch': 15.55}\n",
      "{'loss': 1.3485, 'grad_norm': 1.1791675090789795, 'learning_rate': 0.00025, 'epoch': 15.57}\n"
     ]
    },
    {
     "data": {
      "application/vnd.jupyter.widget-view+json": {
       "model_id": "e861ce14f8d74ed0890ea696c905b71a",
       "version_major": 2,
       "version_minor": 0
      },
      "text/plain": [
       "  0%|          | 0/55 [00:00<?, ?it/s]"
      ]
     },
     "metadata": {},
     "output_type": "display_data"
    },
    {
     "name": "stdout",
     "output_type": "stream",
     "text": [
      "{'eval_loss': 2.197845220565796, 'eval_bleu': 13.5365, 'eval_gen_len': 23.7122, 'eval_runtime': 48.7933, 'eval_samples_per_second': 18.015, 'eval_steps_per_second': 1.127, 'epoch': 15.57}\n"
     ]
    },
    {
     "data": {
      "application/vnd.jupyter.widget-view+json": {
       "model_id": "1e14ee87a83840b28e23974c9f426a88",
       "version_major": 2,
       "version_minor": 0
      },
      "text/plain": [
       "  0%|          | 0/55 [00:00<?, ?it/s]"
      ]
     },
     "metadata": {},
     "output_type": "display_data"
    },
    {
     "name": "stdout",
     "output_type": "stream",
     "text": [
      "{'eval_loss': 2.192908763885498, 'eval_bleu': 14.134, 'eval_gen_len': 23.6906, 'eval_runtime': 45.2132, 'eval_samples_per_second': 19.441, 'eval_steps_per_second': 1.216, 'epoch': 15.58}\n"
     ]
    },
    {
     "data": {
      "application/vnd.jupyter.widget-view+json": {
       "model_id": "842de67af448403dbe388d36a9ccbe59",
       "version_major": 2,
       "version_minor": 0
      },
      "text/plain": [
       "  0%|          | 0/55 [00:00<?, ?it/s]"
      ]
     },
     "metadata": {},
     "output_type": "display_data"
    },
    {
     "name": "stdout",
     "output_type": "stream",
     "text": [
      "{'eval_loss': 2.188995599746704, 'eval_bleu': 14.0928, 'eval_gen_len': 23.6007, 'eval_runtime': 66.3854, 'eval_samples_per_second': 13.241, 'eval_steps_per_second': 0.828, 'epoch': 15.59}\n"
     ]
    },
    {
     "data": {
      "application/vnd.jupyter.widget-view+json": {
       "model_id": "5a2537fc7795433690eb1294bd250743",
       "version_major": 2,
       "version_minor": 0
      },
      "text/plain": [
       "  0%|          | 0/55 [00:00<?, ?it/s]"
      ]
     },
     "metadata": {},
     "output_type": "display_data"
    },
    {
     "name": "stdout",
     "output_type": "stream",
     "text": [
      "{'eval_loss': 2.1995251178741455, 'eval_bleu': 14.0967, 'eval_gen_len': 23.7452, 'eval_runtime': 53.7885, 'eval_samples_per_second': 16.342, 'eval_steps_per_second': 1.023, 'epoch': 15.61}\n"
     ]
    },
    {
     "data": {
      "application/vnd.jupyter.widget-view+json": {
       "model_id": "52f7061f313643f0960618e3687f1f71",
       "version_major": 2,
       "version_minor": 0
      },
      "text/plain": [
       "  0%|          | 0/55 [00:00<?, ?it/s]"
      ]
     },
     "metadata": {},
     "output_type": "display_data"
    },
    {
     "name": "stdout",
     "output_type": "stream",
     "text": [
      "{'eval_loss': 2.1993486881256104, 'eval_bleu': 14.3046, 'eval_gen_len': 23.7065, 'eval_runtime': 47.89, 'eval_samples_per_second': 18.355, 'eval_steps_per_second': 1.148, 'epoch': 15.62}\n",
      "{'loss': 1.3509, 'grad_norm': 1.6368948221206665, 'learning_rate': 0.0002466666666666667, 'epoch': 15.63}\n"
     ]
    },
    {
     "data": {
      "application/vnd.jupyter.widget-view+json": {
       "model_id": "8a1026f273ed44f1bf2e555bf39a86e9",
       "version_major": 2,
       "version_minor": 0
      },
      "text/plain": [
       "  0%|          | 0/55 [00:00<?, ?it/s]"
      ]
     },
     "metadata": {},
     "output_type": "display_data"
    },
    {
     "name": "stdout",
     "output_type": "stream",
     "text": [
      "{'eval_loss': 2.1924965381622314, 'eval_bleu': 14.3061, 'eval_gen_len': 23.6542, 'eval_runtime': 46.1037, 'eval_samples_per_second': 19.066, 'eval_steps_per_second': 1.193, 'epoch': 15.63}\n"
     ]
    },
    {
     "data": {
      "application/vnd.jupyter.widget-view+json": {
       "model_id": "c158ede3f5eb453eb76f1c268fadb4a2",
       "version_major": 2,
       "version_minor": 0
      },
      "text/plain": [
       "  0%|          | 0/55 [00:00<?, ?it/s]"
      ]
     },
     "metadata": {},
     "output_type": "display_data"
    },
    {
     "name": "stdout",
     "output_type": "stream",
     "text": [
      "{'eval_loss': 2.1931886672973633, 'eval_bleu': 14.1631, 'eval_gen_len': 23.7668, 'eval_runtime': 64.0105, 'eval_samples_per_second': 13.732, 'eval_steps_per_second': 0.859, 'epoch': 15.65}\n"
     ]
    },
    {
     "data": {
      "application/vnd.jupyter.widget-view+json": {
       "model_id": "0d85227db6d8407faf2f4ea92a4eedf6",
       "version_major": 2,
       "version_minor": 0
      },
      "text/plain": [
       "  0%|          | 0/55 [00:00<?, ?it/s]"
      ]
     },
     "metadata": {},
     "output_type": "display_data"
    },
    {
     "name": "stdout",
     "output_type": "stream",
     "text": [
      "{'eval_loss': 2.185272693634033, 'eval_bleu': 14.0242, 'eval_gen_len': 23.7816, 'eval_runtime': 63.3559, 'eval_samples_per_second': 13.874, 'eval_steps_per_second': 0.868, 'epoch': 15.66}\n"
     ]
    },
    {
     "data": {
      "application/vnd.jupyter.widget-view+json": {
       "model_id": "161c909c0dd245e7a63636bb569901ac",
       "version_major": 2,
       "version_minor": 0
      },
      "text/plain": [
       "  0%|          | 0/55 [00:00<?, ?it/s]"
      ]
     },
     "metadata": {},
     "output_type": "display_data"
    },
    {
     "name": "stdout",
     "output_type": "stream",
     "text": [
      "{'eval_loss': 2.1834511756896973, 'eval_bleu': 14.2925, 'eval_gen_len': 23.6724, 'eval_runtime': 46.1094, 'eval_samples_per_second': 19.063, 'eval_steps_per_second': 1.193, 'epoch': 15.68}\n"
     ]
    },
    {
     "data": {
      "application/vnd.jupyter.widget-view+json": {
       "model_id": "706476d640c84c34b8e5a61761ea9eae",
       "version_major": 2,
       "version_minor": 0
      },
      "text/plain": [
       "  0%|          | 0/55 [00:00<?, ?it/s]"
      ]
     },
     "metadata": {},
     "output_type": "display_data"
    },
    {
     "name": "stdout",
     "output_type": "stream",
     "text": [
      "{'eval_loss': 2.182466745376587, 'eval_bleu': 13.9679, 'eval_gen_len': 23.7031, 'eval_runtime': 45.9856, 'eval_samples_per_second': 19.115, 'eval_steps_per_second': 1.196, 'epoch': 15.69}\n",
      "{'loss': 1.3544, 'grad_norm': 1.1690704822540283, 'learning_rate': 0.00024333333333333336, 'epoch': 15.7}\n"
     ]
    },
    {
     "data": {
      "application/vnd.jupyter.widget-view+json": {
       "model_id": "f31e2f08acb246ff963d4eab477a96e7",
       "version_major": 2,
       "version_minor": 0
      },
      "text/plain": [
       "  0%|          | 0/55 [00:00<?, ?it/s]"
      ]
     },
     "metadata": {},
     "output_type": "display_data"
    },
    {
     "name": "stdout",
     "output_type": "stream",
     "text": [
      "{'eval_loss': 2.1986031532287598, 'eval_bleu': 14.3072, 'eval_gen_len': 23.562, 'eval_runtime': 61.177, 'eval_samples_per_second': 14.368, 'eval_steps_per_second': 0.899, 'epoch': 15.7}\n"
     ]
    },
    {
     "data": {
      "application/vnd.jupyter.widget-view+json": {
       "model_id": "dee1137108024dc7a613cad8d30e8e91",
       "version_major": 2,
       "version_minor": 0
      },
      "text/plain": [
       "  0%|          | 0/55 [00:00<?, ?it/s]"
      ]
     },
     "metadata": {},
     "output_type": "display_data"
    },
    {
     "name": "stdout",
     "output_type": "stream",
     "text": [
      "{'eval_loss': 2.1825079917907715, 'eval_bleu': 14.3415, 'eval_gen_len': 23.6758, 'eval_runtime': 48.4121, 'eval_samples_per_second': 18.157, 'eval_steps_per_second': 1.136, 'epoch': 15.72}\n"
     ]
    },
    {
     "data": {
      "application/vnd.jupyter.widget-view+json": {
       "model_id": "3727b8016eb84d3d820d24a43b98f5d6",
       "version_major": 2,
       "version_minor": 0
      },
      "text/plain": [
       "  0%|          | 0/55 [00:00<?, ?it/s]"
      ]
     },
     "metadata": {},
     "output_type": "display_data"
    },
    {
     "name": "stdout",
     "output_type": "stream",
     "text": [
      "{'eval_loss': 2.1953678131103516, 'eval_bleu': 14.2117, 'eval_gen_len': 23.6928, 'eval_runtime': 70.3732, 'eval_samples_per_second': 12.491, 'eval_steps_per_second': 0.782, 'epoch': 15.73}\n"
     ]
    },
    {
     "data": {
      "application/vnd.jupyter.widget-view+json": {
       "model_id": "a959bebcfd1d4feea5bfc519c33a81e2",
       "version_major": 2,
       "version_minor": 0
      },
      "text/plain": [
       "  0%|          | 0/55 [00:00<?, ?it/s]"
      ]
     },
     "metadata": {},
     "output_type": "display_data"
    },
    {
     "name": "stdout",
     "output_type": "stream",
     "text": [
      "{'eval_loss': 2.185054063796997, 'eval_bleu': 14.5619, 'eval_gen_len': 23.7019, 'eval_runtime': 48.8494, 'eval_samples_per_second': 17.994, 'eval_steps_per_second': 1.126, 'epoch': 15.75}\n"
     ]
    },
    {
     "data": {
      "application/vnd.jupyter.widget-view+json": {
       "model_id": "90d3edec597743cca6723680062d4ff0",
       "version_major": 2,
       "version_minor": 0
      },
      "text/plain": [
       "  0%|          | 0/55 [00:00<?, ?it/s]"
      ]
     },
     "metadata": {},
     "output_type": "display_data"
    },
    {
     "name": "stdout",
     "output_type": "stream",
     "text": [
      "{'eval_loss': 2.187377452850342, 'eval_bleu': 14.2918, 'eval_gen_len': 23.6428, 'eval_runtime': 45.8535, 'eval_samples_per_second': 19.17, 'eval_steps_per_second': 1.199, 'epoch': 15.76}\n",
      "{'loss': 1.3561, 'grad_norm': 1.423276424407959, 'learning_rate': 0.00024, 'epoch': 15.77}\n"
     ]
    },
    {
     "data": {
      "application/vnd.jupyter.widget-view+json": {
       "model_id": "852d893e3bf846b988456070b6e1af3d",
       "version_major": 2,
       "version_minor": 0
      },
      "text/plain": [
       "  0%|          | 0/55 [00:00<?, ?it/s]"
      ]
     },
     "metadata": {},
     "output_type": "display_data"
    },
    {
     "name": "stdout",
     "output_type": "stream",
     "text": [
      "{'eval_loss': 2.172391414642334, 'eval_bleu': 14.4199, 'eval_gen_len': 23.7315, 'eval_runtime': 53.5768, 'eval_samples_per_second': 16.406, 'eval_steps_per_second': 1.027, 'epoch': 15.77}\n"
     ]
    },
    {
     "data": {
      "application/vnd.jupyter.widget-view+json": {
       "model_id": "843517ce72894d468b344642512f2567",
       "version_major": 2,
       "version_minor": 0
      },
      "text/plain": [
       "  0%|          | 0/55 [00:00<?, ?it/s]"
      ]
     },
     "metadata": {},
     "output_type": "display_data"
    },
    {
     "name": "stdout",
     "output_type": "stream",
     "text": [
      "{'eval_loss': 2.1904518604278564, 'eval_bleu': 14.181, 'eval_gen_len': 23.6303, 'eval_runtime': 45.3277, 'eval_samples_per_second': 19.392, 'eval_steps_per_second': 1.213, 'epoch': 15.79}\n"
     ]
    },
    {
     "data": {
      "application/vnd.jupyter.widget-view+json": {
       "model_id": "ca2dada23ebb4f36a22f33fdaebe9226",
       "version_major": 2,
       "version_minor": 0
      },
      "text/plain": [
       "  0%|          | 0/55 [00:00<?, ?it/s]"
      ]
     },
     "metadata": {},
     "output_type": "display_data"
    },
    {
     "name": "stdout",
     "output_type": "stream",
     "text": [
      "{'eval_loss': 2.1842174530029297, 'eval_bleu': 14.4201, 'eval_gen_len': 23.6906, 'eval_runtime': 52.0503, 'eval_samples_per_second': 16.888, 'eval_steps_per_second': 1.057, 'epoch': 15.8}\n"
     ]
    },
    {
     "data": {
      "application/vnd.jupyter.widget-view+json": {
       "model_id": "7ae0be23e83f48a2aa85161c2aba944e",
       "version_major": 2,
       "version_minor": 0
      },
      "text/plain": [
       "  0%|          | 0/55 [00:00<?, ?it/s]"
      ]
     },
     "metadata": {},
     "output_type": "display_data"
    },
    {
     "name": "stdout",
     "output_type": "stream",
     "text": [
      "{'eval_loss': 2.179689407348633, 'eval_bleu': 14.2713, 'eval_gen_len': 23.7679, 'eval_runtime': 47.546, 'eval_samples_per_second': 18.487, 'eval_steps_per_second': 1.157, 'epoch': 15.81}\n"
     ]
    },
    {
     "data": {
      "application/vnd.jupyter.widget-view+json": {
       "model_id": "7348b84ea8ae467a97e60524683a07e3",
       "version_major": 2,
       "version_minor": 0
      },
      "text/plain": [
       "  0%|          | 0/55 [00:00<?, ?it/s]"
      ]
     },
     "metadata": {},
     "output_type": "display_data"
    },
    {
     "name": "stdout",
     "output_type": "stream",
     "text": [
      "{'eval_loss': 2.1937804222106934, 'eval_bleu': 14.3011, 'eval_gen_len': 23.7736, 'eval_runtime': 44.5386, 'eval_samples_per_second': 19.736, 'eval_steps_per_second': 1.235, 'epoch': 15.83}\n",
      "{'loss': 1.3551, 'grad_norm': 0.9963029026985168, 'learning_rate': 0.00023666666666666668, 'epoch': 15.84}\n"
     ]
    },
    {
     "data": {
      "application/vnd.jupyter.widget-view+json": {
       "model_id": "6cf53fe71334410aabef532153e0bed2",
       "version_major": 2,
       "version_minor": 0
      },
      "text/plain": [
       "  0%|          | 0/55 [00:00<?, ?it/s]"
      ]
     },
     "metadata": {},
     "output_type": "display_data"
    },
    {
     "name": "stdout",
     "output_type": "stream",
     "text": [
      "{'eval_loss': 2.1921911239624023, 'eval_bleu': 14.0062, 'eval_gen_len': 23.8225, 'eval_runtime': 51.553, 'eval_samples_per_second': 17.05, 'eval_steps_per_second': 1.067, 'epoch': 15.84}\n"
     ]
    },
    {
     "data": {
      "application/vnd.jupyter.widget-view+json": {
       "model_id": "645aee8a16464281a4dc93d642fbe66a",
       "version_major": 2,
       "version_minor": 0
      },
      "text/plain": [
       "  0%|          | 0/55 [00:00<?, ?it/s]"
      ]
     },
     "metadata": {},
     "output_type": "display_data"
    },
    {
     "name": "stdout",
     "output_type": "stream",
     "text": [
      "{'eval_loss': 2.1887974739074707, 'eval_bleu': 14.3995, 'eval_gen_len': 23.7565, 'eval_runtime': 48.8683, 'eval_samples_per_second': 17.987, 'eval_steps_per_second': 1.125, 'epoch': 15.86}\n"
     ]
    },
    {
     "data": {
      "application/vnd.jupyter.widget-view+json": {
       "model_id": "17f02d8fd5ad40ba89a1a74ad472685f",
       "version_major": 2,
       "version_minor": 0
      },
      "text/plain": [
       "  0%|          | 0/55 [00:00<?, ?it/s]"
      ]
     },
     "metadata": {},
     "output_type": "display_data"
    },
    {
     "name": "stdout",
     "output_type": "stream",
     "text": [
      "{'eval_loss': 2.191575527191162, 'eval_bleu': 14.0733, 'eval_gen_len': 23.6962, 'eval_runtime': 55.1952, 'eval_samples_per_second': 15.925, 'eval_steps_per_second': 0.996, 'epoch': 15.87}\n"
     ]
    },
    {
     "data": {
      "application/vnd.jupyter.widget-view+json": {
       "model_id": "034d2f1f8e2440edb5d505446390f985",
       "version_major": 2,
       "version_minor": 0
      },
      "text/plain": [
       "  0%|          | 0/55 [00:00<?, ?it/s]"
      ]
     },
     "metadata": {},
     "output_type": "display_data"
    },
    {
     "name": "stdout",
     "output_type": "stream",
     "text": [
      "{'eval_loss': 2.1848082542419434, 'eval_bleu': 13.9959, 'eval_gen_len': 23.7144, 'eval_runtime': 70.646, 'eval_samples_per_second': 12.442, 'eval_steps_per_second': 0.779, 'epoch': 15.88}\n"
     ]
    },
    {
     "data": {
      "application/vnd.jupyter.widget-view+json": {
       "model_id": "157cdfd0fadf4dafae0e558efaf0fa7d",
       "version_major": 2,
       "version_minor": 0
      },
      "text/plain": [
       "  0%|          | 0/55 [00:00<?, ?it/s]"
      ]
     },
     "metadata": {},
     "output_type": "display_data"
    },
    {
     "name": "stdout",
     "output_type": "stream",
     "text": [
      "{'eval_loss': 2.1928789615631104, 'eval_bleu': 13.7328, 'eval_gen_len': 23.6246, 'eval_runtime': 56.0497, 'eval_samples_per_second': 15.683, 'eval_steps_per_second': 0.981, 'epoch': 15.9}\n",
      "{'loss': 1.3625, 'grad_norm': 1.2312533855438232, 'learning_rate': 0.00023333333333333333, 'epoch': 15.91}\n"
     ]
    },
    {
     "data": {
      "application/vnd.jupyter.widget-view+json": {
       "model_id": "2f534a1d40224f4aa9f97e888a9ddc41",
       "version_major": 2,
       "version_minor": 0
      },
      "text/plain": [
       "  0%|          | 0/55 [00:00<?, ?it/s]"
      ]
     },
     "metadata": {},
     "output_type": "display_data"
    },
    {
     "name": "stdout",
     "output_type": "stream",
     "text": [
      "{'eval_loss': 2.18788480758667, 'eval_bleu': 13.5061, 'eval_gen_len': 23.8623, 'eval_runtime': 46.1324, 'eval_samples_per_second': 19.054, 'eval_steps_per_second': 1.192, 'epoch': 15.91}\n"
     ]
    },
    {
     "data": {
      "application/vnd.jupyter.widget-view+json": {
       "model_id": "fb4168fbbd06413aaab664869705c483",
       "version_major": 2,
       "version_minor": 0
      },
      "text/plain": [
       "  0%|          | 0/55 [00:00<?, ?it/s]"
      ]
     },
     "metadata": {},
     "output_type": "display_data"
    },
    {
     "name": "stdout",
     "output_type": "stream",
     "text": [
      "{'eval_loss': 2.1728568077087402, 'eval_bleu': 13.7824, 'eval_gen_len': 23.752, 'eval_runtime': 47.5612, 'eval_samples_per_second': 18.481, 'eval_steps_per_second': 1.156, 'epoch': 15.93}\n"
     ]
    },
    {
     "data": {
      "application/vnd.jupyter.widget-view+json": {
       "model_id": "b8ba27f029794646a1109ab70ff69e1f",
       "version_major": 2,
       "version_minor": 0
      },
      "text/plain": [
       "  0%|          | 0/55 [00:00<?, ?it/s]"
      ]
     },
     "metadata": {},
     "output_type": "display_data"
    },
    {
     "name": "stdout",
     "output_type": "stream",
     "text": [
      "{'eval_loss': 2.1865720748901367, 'eval_bleu': 13.7678, 'eval_gen_len': 23.7622, 'eval_runtime': 45.6932, 'eval_samples_per_second': 19.237, 'eval_steps_per_second': 1.204, 'epoch': 15.94}\n"
     ]
    },
    {
     "data": {
      "application/vnd.jupyter.widget-view+json": {
       "model_id": "5d4ee63c9feb435280703e4768607a67",
       "version_major": 2,
       "version_minor": 0
      },
      "text/plain": [
       "  0%|          | 0/55 [00:00<?, ?it/s]"
      ]
     },
     "metadata": {},
     "output_type": "display_data"
    },
    {
     "name": "stdout",
     "output_type": "stream",
     "text": [
      "{'eval_loss': 2.18571400642395, 'eval_bleu': 14.2462, 'eval_gen_len': 23.7588, 'eval_runtime': 46.723, 'eval_samples_per_second': 18.813, 'eval_steps_per_second': 1.177, 'epoch': 15.95}\n"
     ]
    },
    {
     "data": {
      "application/vnd.jupyter.widget-view+json": {
       "model_id": "2c726ae536e641c590cdd75a8fa9271f",
       "version_major": 2,
       "version_minor": 0
      },
      "text/plain": [
       "  0%|          | 0/55 [00:00<?, ?it/s]"
      ]
     },
     "metadata": {},
     "output_type": "display_data"
    },
    {
     "name": "stdout",
     "output_type": "stream",
     "text": [
      "{'eval_loss': 2.186859607696533, 'eval_bleu': 14.3915, 'eval_gen_len': 23.7656, 'eval_runtime': 45.3436, 'eval_samples_per_second': 19.385, 'eval_steps_per_second': 1.213, 'epoch': 15.97}\n",
      "{'loss': 1.3654, 'grad_norm': 1.7896291017532349, 'learning_rate': 0.00023, 'epoch': 15.98}\n"
     ]
    },
    {
     "data": {
      "application/vnd.jupyter.widget-view+json": {
       "model_id": "556997a74a4e4e73b5f8e9d6d494d47e",
       "version_major": 2,
       "version_minor": 0
      },
      "text/plain": [
       "  0%|          | 0/55 [00:00<?, ?it/s]"
      ]
     },
     "metadata": {},
     "output_type": "display_data"
    },
    {
     "name": "stdout",
     "output_type": "stream",
     "text": [
      "{'eval_loss': 2.185875654220581, 'eval_bleu': 14.4988, 'eval_gen_len': 23.7008, 'eval_runtime': 46.7093, 'eval_samples_per_second': 18.819, 'eval_steps_per_second': 1.177, 'epoch': 15.98}\n"
     ]
    },
    {
     "data": {
      "application/vnd.jupyter.widget-view+json": {
       "model_id": "594e37f2da0f4b4f8c8e9673820b57c4",
       "version_major": 2,
       "version_minor": 0
      },
      "text/plain": [
       "  0%|          | 0/55 [00:00<?, ?it/s]"
      ]
     },
     "metadata": {},
     "output_type": "display_data"
    },
    {
     "name": "stdout",
     "output_type": "stream",
     "text": [
      "{'eval_loss': 2.184086561203003, 'eval_bleu': 14.2111, 'eval_gen_len': 23.7156, 'eval_runtime': 46.0597, 'eval_samples_per_second': 19.084, 'eval_steps_per_second': 1.194, 'epoch': 15.99}\n"
     ]
    },
    {
     "data": {
      "application/vnd.jupyter.widget-view+json": {
       "model_id": "7dfaf00787574972b2de867d7d30859b",
       "version_major": 2,
       "version_minor": 0
      },
      "text/plain": [
       "  0%|          | 0/55 [00:00<?, ?it/s]"
      ]
     },
     "metadata": {},
     "output_type": "display_data"
    },
    {
     "name": "stdout",
     "output_type": "stream",
     "text": [
      "{'eval_loss': 2.22163462638855, 'eval_bleu': 14.1217, 'eval_gen_len': 23.843, 'eval_runtime': 46.225, 'eval_samples_per_second': 19.016, 'eval_steps_per_second': 1.19, 'epoch': 16.01}\n"
     ]
    },
    {
     "data": {
      "application/vnd.jupyter.widget-view+json": {
       "model_id": "59645c5c1be54be4b63c331546767c3f",
       "version_major": 2,
       "version_minor": 0
      },
      "text/plain": [
       "  0%|          | 0/55 [00:00<?, ?it/s]"
      ]
     },
     "metadata": {},
     "output_type": "display_data"
    },
    {
     "name": "stdout",
     "output_type": "stream",
     "text": [
      "{'eval_loss': 2.217221975326538, 'eval_bleu': 13.9681, 'eval_gen_len': 23.6997, 'eval_runtime': 44.9597, 'eval_samples_per_second': 19.551, 'eval_steps_per_second': 1.223, 'epoch': 16.02}\n"
     ]
    },
    {
     "data": {
      "application/vnd.jupyter.widget-view+json": {
       "model_id": "f4ebdec6a225482b839120d3c505c2cc",
       "version_major": 2,
       "version_minor": 0
      },
      "text/plain": [
       "  0%|          | 0/55 [00:00<?, ?it/s]"
      ]
     },
     "metadata": {},
     "output_type": "display_data"
    },
    {
     "name": "stdout",
     "output_type": "stream",
     "text": [
      "{'eval_loss': 2.2157843112945557, 'eval_bleu': 13.9578, 'eval_gen_len': 23.8134, 'eval_runtime': 45.0492, 'eval_samples_per_second': 19.512, 'eval_steps_per_second': 1.221, 'epoch': 16.04}\n",
      "{'loss': 1.288, 'grad_norm': 1.3318716287612915, 'learning_rate': 0.00022666666666666666, 'epoch': 16.05}\n"
     ]
    },
    {
     "data": {
      "application/vnd.jupyter.widget-view+json": {
       "model_id": "4e3980c93edb45758268239cf5f3d386",
       "version_major": 2,
       "version_minor": 0
      },
      "text/plain": [
       "  0%|          | 0/55 [00:00<?, ?it/s]"
      ]
     },
     "metadata": {},
     "output_type": "display_data"
    },
    {
     "name": "stdout",
     "output_type": "stream",
     "text": [
      "{'eval_loss': 2.238826274871826, 'eval_bleu': 13.7055, 'eval_gen_len': 23.6553, 'eval_runtime': 45.0118, 'eval_samples_per_second': 19.528, 'eval_steps_per_second': 1.222, 'epoch': 16.05}\n"
     ]
    },
    {
     "data": {
      "application/vnd.jupyter.widget-view+json": {
       "model_id": "92a11006db884f9fa59f1be4f5dba9cf",
       "version_major": 2,
       "version_minor": 0
      },
      "text/plain": [
       "  0%|          | 0/55 [00:00<?, ?it/s]"
      ]
     },
     "metadata": {},
     "output_type": "display_data"
    },
    {
     "name": "stdout",
     "output_type": "stream",
     "text": [
      "{'eval_loss': 2.22501802444458, 'eval_bleu': 13.8252, 'eval_gen_len': 23.7338, 'eval_runtime': 43.6438, 'eval_samples_per_second': 20.14, 'eval_steps_per_second': 1.26, 'epoch': 16.06}\n"
     ]
    },
    {
     "data": {
      "application/vnd.jupyter.widget-view+json": {
       "model_id": "57e4b30311004fdcba2c99999818b95d",
       "version_major": 2,
       "version_minor": 0
      },
      "text/plain": [
       "  0%|          | 0/55 [00:00<?, ?it/s]"
      ]
     },
     "metadata": {},
     "output_type": "display_data"
    },
    {
     "name": "stdout",
     "output_type": "stream",
     "text": [
      "{'eval_loss': 2.2202932834625244, 'eval_bleu': 13.7129, 'eval_gen_len': 23.7975, 'eval_runtime': 47.4889, 'eval_samples_per_second': 18.51, 'eval_steps_per_second': 1.158, 'epoch': 16.08}\n"
     ]
    },
    {
     "data": {
      "application/vnd.jupyter.widget-view+json": {
       "model_id": "15726649866845dcb6b385c917e68504",
       "version_major": 2,
       "version_minor": 0
      },
      "text/plain": [
       "  0%|          | 0/55 [00:00<?, ?it/s]"
      ]
     },
     "metadata": {},
     "output_type": "display_data"
    },
    {
     "name": "stdout",
     "output_type": "stream",
     "text": [
      "{'eval_loss': 2.2149405479431152, 'eval_bleu': 13.7323, 'eval_gen_len': 23.7463, 'eval_runtime': 46.2186, 'eval_samples_per_second': 19.018, 'eval_steps_per_second': 1.19, 'epoch': 16.09}\n"
     ]
    },
    {
     "data": {
      "application/vnd.jupyter.widget-view+json": {
       "model_id": "15a3acccc3ff49458c411ecfe35cc8e6",
       "version_major": 2,
       "version_minor": 0
      },
      "text/plain": [
       "  0%|          | 0/55 [00:00<?, ?it/s]"
      ]
     },
     "metadata": {},
     "output_type": "display_data"
    },
    {
     "name": "stdout",
     "output_type": "stream",
     "text": [
      "{'eval_loss': 2.224248170852661, 'eval_bleu': 13.9789, 'eval_gen_len': 23.6769, 'eval_runtime': 45.8819, 'eval_samples_per_second': 19.158, 'eval_steps_per_second': 1.199, 'epoch': 16.11}\n",
      "{'loss': 1.262, 'grad_norm': 1.35589599609375, 'learning_rate': 0.00022333333333333333, 'epoch': 16.12}\n"
     ]
    },
    {
     "data": {
      "application/vnd.jupyter.widget-view+json": {
       "model_id": "53df6f9158704dfdaf7e49a00156f2a6",
       "version_major": 2,
       "version_minor": 0
      },
      "text/plain": [
       "  0%|          | 0/55 [00:00<?, ?it/s]"
      ]
     },
     "metadata": {},
     "output_type": "display_data"
    },
    {
     "name": "stdout",
     "output_type": "stream",
     "text": [
      "{'eval_loss': 2.228503704071045, 'eval_bleu': 13.7408, 'eval_gen_len': 23.7281, 'eval_runtime': 44.7731, 'eval_samples_per_second': 19.632, 'eval_steps_per_second': 1.228, 'epoch': 16.12}\n"
     ]
    },
    {
     "data": {
      "application/vnd.jupyter.widget-view+json": {
       "model_id": "8efe56f9830b4129a13d5aba5892e8a7",
       "version_major": 2,
       "version_minor": 0
      },
      "text/plain": [
       "  0%|          | 0/55 [00:00<?, ?it/s]"
      ]
     },
     "metadata": {},
     "output_type": "display_data"
    },
    {
     "name": "stdout",
     "output_type": "stream",
     "text": [
      "{'eval_loss': 2.236905574798584, 'eval_bleu': 13.6488, 'eval_gen_len': 23.8191, 'eval_runtime': 45.5811, 'eval_samples_per_second': 19.284, 'eval_steps_per_second': 1.207, 'epoch': 16.13}\n"
     ]
    },
    {
     "data": {
      "application/vnd.jupyter.widget-view+json": {
       "model_id": "716ef988e3154b56b9bb5d1b5e9df2e7",
       "version_major": 2,
       "version_minor": 0
      },
      "text/plain": [
       "  0%|          | 0/55 [00:00<?, ?it/s]"
      ]
     },
     "metadata": {},
     "output_type": "display_data"
    },
    {
     "name": "stdout",
     "output_type": "stream",
     "text": [
      "{'eval_loss': 2.2273385524749756, 'eval_bleu': 13.5047, 'eval_gen_len': 23.8168, 'eval_runtime': 57.0885, 'eval_samples_per_second': 15.397, 'eval_steps_per_second': 0.963, 'epoch': 16.15}\n"
     ]
    },
    {
     "data": {
      "application/vnd.jupyter.widget-view+json": {
       "model_id": "c864809e99cb407490c36e2ae0db89da",
       "version_major": 2,
       "version_minor": 0
      },
      "text/plain": [
       "  0%|          | 0/55 [00:00<?, ?it/s]"
      ]
     },
     "metadata": {},
     "output_type": "display_data"
    },
    {
     "name": "stdout",
     "output_type": "stream",
     "text": [
      "{'eval_loss': 2.226310968399048, 'eval_bleu': 13.6477, 'eval_gen_len': 23.7668, 'eval_runtime': 47.9375, 'eval_samples_per_second': 18.336, 'eval_steps_per_second': 1.147, 'epoch': 16.16}\n"
     ]
    },
    {
     "data": {
      "application/vnd.jupyter.widget-view+json": {
       "model_id": "f9038cb6e14e46839f1ecf9724adb84e",
       "version_major": 2,
       "version_minor": 0
      },
      "text/plain": [
       "  0%|          | 0/55 [00:00<?, ?it/s]"
      ]
     },
     "metadata": {},
     "output_type": "display_data"
    },
    {
     "name": "stdout",
     "output_type": "stream",
     "text": [
      "{'eval_loss': 2.2229747772216797, 'eval_bleu': 13.6185, 'eval_gen_len': 23.8146, 'eval_runtime': 46.5685, 'eval_samples_per_second': 18.875, 'eval_steps_per_second': 1.181, 'epoch': 16.17}\n",
      "{'loss': 1.2744, 'grad_norm': 1.100748062133789, 'learning_rate': 0.00022, 'epoch': 16.19}\n"
     ]
    },
    {
     "data": {
      "application/vnd.jupyter.widget-view+json": {
       "model_id": "318016567d6b439bb63b38ba5222f2fc",
       "version_major": 2,
       "version_minor": 0
      },
      "text/plain": [
       "  0%|          | 0/55 [00:00<?, ?it/s]"
      ]
     },
     "metadata": {},
     "output_type": "display_data"
    },
    {
     "name": "stdout",
     "output_type": "stream",
     "text": [
      "{'eval_loss': 2.219143867492676, 'eval_bleu': 13.8488, 'eval_gen_len': 23.7463, 'eval_runtime': 46.1991, 'eval_samples_per_second': 19.026, 'eval_steps_per_second': 1.191, 'epoch': 16.19}\n"
     ]
    },
    {
     "data": {
      "application/vnd.jupyter.widget-view+json": {
       "model_id": "7c05ef42c0d54e1db1a809148a03d048",
       "version_major": 2,
       "version_minor": 0
      },
      "text/plain": [
       "  0%|          | 0/55 [00:00<?, ?it/s]"
      ]
     },
     "metadata": {},
     "output_type": "display_data"
    },
    {
     "name": "stdout",
     "output_type": "stream",
     "text": [
      "{'eval_loss': 2.227013111114502, 'eval_bleu': 13.8578, 'eval_gen_len': 23.7645, 'eval_runtime': 46.3318, 'eval_samples_per_second': 18.972, 'eval_steps_per_second': 1.187, 'epoch': 16.2}\n"
     ]
    },
    {
     "data": {
      "application/vnd.jupyter.widget-view+json": {
       "model_id": "70d26714ae134e399611498cec0bfd79",
       "version_major": 2,
       "version_minor": 0
      },
      "text/plain": [
       "  0%|          | 0/55 [00:00<?, ?it/s]"
      ]
     },
     "metadata": {},
     "output_type": "display_data"
    },
    {
     "name": "stdout",
     "output_type": "stream",
     "text": [
      "{'eval_loss': 2.2240984439849854, 'eval_bleu': 14.0232, 'eval_gen_len': 23.7941, 'eval_runtime': 46.0361, 'eval_samples_per_second': 19.094, 'eval_steps_per_second': 1.195, 'epoch': 16.22}\n"
     ]
    },
    {
     "data": {
      "application/vnd.jupyter.widget-view+json": {
       "model_id": "5b8b7921cd72411e842385fd9733bb3f",
       "version_major": 2,
       "version_minor": 0
      },
      "text/plain": [
       "  0%|          | 0/55 [00:00<?, ?it/s]"
      ]
     },
     "metadata": {},
     "output_type": "display_data"
    },
    {
     "name": "stdout",
     "output_type": "stream",
     "text": [
      "{'eval_loss': 2.224982261657715, 'eval_bleu': 14.0144, 'eval_gen_len': 23.7179, 'eval_runtime': 46.0003, 'eval_samples_per_second': 19.109, 'eval_steps_per_second': 1.196, 'epoch': 16.23}\n"
     ]
    },
    {
     "data": {
      "application/vnd.jupyter.widget-view+json": {
       "model_id": "64f22225b2c9402d88f29871d263ae93",
       "version_major": 2,
       "version_minor": 0
      },
      "text/plain": [
       "  0%|          | 0/55 [00:00<?, ?it/s]"
      ]
     },
     "metadata": {},
     "output_type": "display_data"
    },
    {
     "name": "stdout",
     "output_type": "stream",
     "text": [
      "{'eval_loss': 2.2252891063690186, 'eval_bleu': 14.0585, 'eval_gen_len': 23.7907, 'eval_runtime': 45.9615, 'eval_samples_per_second': 19.125, 'eval_steps_per_second': 1.197, 'epoch': 16.24}\n",
      "{'loss': 1.2794, 'grad_norm': 1.2409814596176147, 'learning_rate': 0.00021666666666666668, 'epoch': 16.26}\n"
     ]
    },
    {
     "data": {
      "application/vnd.jupyter.widget-view+json": {
       "model_id": "dce779b111044b05881fff087c7e3041",
       "version_major": 2,
       "version_minor": 0
      },
      "text/plain": [
       "  0%|          | 0/55 [00:00<?, ?it/s]"
      ]
     },
     "metadata": {},
     "output_type": "display_data"
    },
    {
     "name": "stdout",
     "output_type": "stream",
     "text": [
      "{'eval_loss': 2.2257652282714844, 'eval_bleu': 14.3394, 'eval_gen_len': 23.6223, 'eval_runtime': 44.7981, 'eval_samples_per_second': 19.621, 'eval_steps_per_second': 1.228, 'epoch': 16.26}\n"
     ]
    },
    {
     "data": {
      "application/vnd.jupyter.widget-view+json": {
       "model_id": "ca1c4ee04be24a0b8b235828189dc053",
       "version_major": 2,
       "version_minor": 0
      },
      "text/plain": [
       "  0%|          | 0/55 [00:00<?, ?it/s]"
      ]
     },
     "metadata": {},
     "output_type": "display_data"
    },
    {
     "name": "stdout",
     "output_type": "stream",
     "text": [
      "{'eval_loss': 2.2249836921691895, 'eval_bleu': 14.4132, 'eval_gen_len': 23.7725, 'eval_runtime': 56.0661, 'eval_samples_per_second': 15.678, 'eval_steps_per_second': 0.981, 'epoch': 16.27}\n"
     ]
    },
    {
     "data": {
      "application/vnd.jupyter.widget-view+json": {
       "model_id": "fd464008905a49129fbfeea51a3c5e58",
       "version_major": 2,
       "version_minor": 0
      },
      "text/plain": [
       "  0%|          | 0/55 [00:00<?, ?it/s]"
      ]
     },
     "metadata": {},
     "output_type": "display_data"
    },
    {
     "name": "stdout",
     "output_type": "stream",
     "text": [
      "{'eval_loss': 2.2213501930236816, 'eval_bleu': 13.9528, 'eval_gen_len': 23.727, 'eval_runtime': 50.3376, 'eval_samples_per_second': 17.462, 'eval_steps_per_second': 1.093, 'epoch': 16.29}\n"
     ]
    },
    {
     "data": {
      "application/vnd.jupyter.widget-view+json": {
       "model_id": "5183ab6e18224a02a66d3de51d0eaee3",
       "version_major": 2,
       "version_minor": 0
      },
      "text/plain": [
       "  0%|          | 0/55 [00:00<?, ?it/s]"
      ]
     },
     "metadata": {},
     "output_type": "display_data"
    },
    {
     "name": "stdout",
     "output_type": "stream",
     "text": [
      "{'eval_loss': 2.225944995880127, 'eval_bleu': 14.2389, 'eval_gen_len': 23.6837, 'eval_runtime': 45.0977, 'eval_samples_per_second': 19.491, 'eval_steps_per_second': 1.22, 'epoch': 16.3}\n"
     ]
    },
    {
     "data": {
      "application/vnd.jupyter.widget-view+json": {
       "model_id": "ea628715523447b59aeab357b432c0c1",
       "version_major": 2,
       "version_minor": 0
      },
      "text/plain": [
       "  0%|          | 0/55 [00:00<?, ?it/s]"
      ]
     },
     "metadata": {},
     "output_type": "display_data"
    },
    {
     "name": "stdout",
     "output_type": "stream",
     "text": [
      "{'eval_loss': 2.22467303276062, 'eval_bleu': 14.0447, 'eval_gen_len': 23.7349, 'eval_runtime': 45.3738, 'eval_samples_per_second': 19.372, 'eval_steps_per_second': 1.212, 'epoch': 16.31}\n",
      "{'loss': 1.281, 'grad_norm': 1.3122395277023315, 'learning_rate': 0.00021333333333333336, 'epoch': 16.33}\n"
     ]
    },
    {
     "data": {
      "application/vnd.jupyter.widget-view+json": {
       "model_id": "c14d746897ca4054997859af2b91db95",
       "version_major": 2,
       "version_minor": 0
      },
      "text/plain": [
       "  0%|          | 0/55 [00:00<?, ?it/s]"
      ]
     },
     "metadata": {},
     "output_type": "display_data"
    },
    {
     "name": "stdout",
     "output_type": "stream",
     "text": [
      "{'eval_loss': 2.222119092941284, 'eval_bleu': 14.0766, 'eval_gen_len': 23.6883, 'eval_runtime': 45.1367, 'eval_samples_per_second': 19.474, 'eval_steps_per_second': 1.219, 'epoch': 16.33}\n"
     ]
    },
    {
     "data": {
      "application/vnd.jupyter.widget-view+json": {
       "model_id": "2e01ce8baf004d46a7511d45f2b56d7a",
       "version_major": 2,
       "version_minor": 0
      },
      "text/plain": [
       "  0%|          | 0/55 [00:00<?, ?it/s]"
      ]
     },
     "metadata": {},
     "output_type": "display_data"
    },
    {
     "name": "stdout",
     "output_type": "stream",
     "text": [
      "{'eval_loss': 2.2146835327148438, 'eval_bleu': 13.8875, 'eval_gen_len': 23.7702, 'eval_runtime': 45.9973, 'eval_samples_per_second': 19.11, 'eval_steps_per_second': 1.196, 'epoch': 16.34}\n"
     ]
    },
    {
     "data": {
      "application/vnd.jupyter.widget-view+json": {
       "model_id": "8e46e819af1b4a0b9aa64558fe205fb1",
       "version_major": 2,
       "version_minor": 0
      },
      "text/plain": [
       "  0%|          | 0/55 [00:00<?, ?it/s]"
      ]
     },
     "metadata": {},
     "output_type": "display_data"
    },
    {
     "name": "stdout",
     "output_type": "stream",
     "text": [
      "{'eval_loss': 2.2240567207336426, 'eval_bleu': 13.8874, 'eval_gen_len': 23.6815, 'eval_runtime': 45.7558, 'eval_samples_per_second': 19.211, 'eval_steps_per_second': 1.202, 'epoch': 16.35}\n"
     ]
    },
    {
     "data": {
      "application/vnd.jupyter.widget-view+json": {
       "model_id": "53c248f39b794a4f9f08ab50c322bb99",
       "version_major": 2,
       "version_minor": 0
      },
      "text/plain": [
       "  0%|          | 0/55 [00:00<?, ?it/s]"
      ]
     },
     "metadata": {},
     "output_type": "display_data"
    },
    {
     "name": "stdout",
     "output_type": "stream",
     "text": [
      "{'eval_loss': 2.2188687324523926, 'eval_bleu': 14.2356, 'eval_gen_len': 23.8009, 'eval_runtime': 45.8643, 'eval_samples_per_second': 19.165, 'eval_steps_per_second': 1.199, 'epoch': 16.37}\n"
     ]
    },
    {
     "data": {
      "application/vnd.jupyter.widget-view+json": {
       "model_id": "b2ff901cfc6746f08c08a7b37af1ef4e",
       "version_major": 2,
       "version_minor": 0
      },
      "text/plain": [
       "  0%|          | 0/55 [00:00<?, ?it/s]"
      ]
     },
     "metadata": {},
     "output_type": "display_data"
    },
    {
     "name": "stdout",
     "output_type": "stream",
     "text": [
      "{'eval_loss': 2.214662551879883, 'eval_bleu': 13.9424, 'eval_gen_len': 23.8441, 'eval_runtime': 46.337, 'eval_samples_per_second': 18.97, 'eval_steps_per_second': 1.187, 'epoch': 16.38}\n",
      "{'loss': 1.2871, 'grad_norm': 1.2565726041793823, 'learning_rate': 0.00021, 'epoch': 16.4}\n"
     ]
    },
    {
     "data": {
      "application/vnd.jupyter.widget-view+json": {
       "model_id": "479a4f6841cf44ed977f91193746eef6",
       "version_major": 2,
       "version_minor": 0
      },
      "text/plain": [
       "  0%|          | 0/55 [00:00<?, ?it/s]"
      ]
     },
     "metadata": {},
     "output_type": "display_data"
    },
    {
     "name": "stdout",
     "output_type": "stream",
     "text": [
      "{'eval_loss': 2.2152099609375, 'eval_bleu': 13.9761, 'eval_gen_len': 23.8373, 'eval_runtime': 45.7828, 'eval_samples_per_second': 19.199, 'eval_steps_per_second': 1.201, 'epoch': 16.4}\n"
     ]
    },
    {
     "data": {
      "application/vnd.jupyter.widget-view+json": {
       "model_id": "32fcbae278f44d4999318a0bead0a4f7",
       "version_major": 2,
       "version_minor": 0
      },
      "text/plain": [
       "  0%|          | 0/55 [00:00<?, ?it/s]"
      ]
     },
     "metadata": {},
     "output_type": "display_data"
    },
    {
     "name": "stdout",
     "output_type": "stream",
     "text": [
      "{'eval_loss': 2.228475332260132, 'eval_bleu': 14.1132, 'eval_gen_len': 23.6837, 'eval_runtime': 48.7025, 'eval_samples_per_second': 18.048, 'eval_steps_per_second': 1.129, 'epoch': 16.41}\n"
     ]
    },
    {
     "data": {
      "application/vnd.jupyter.widget-view+json": {
       "model_id": "0f58b2e57ad841bda92d8023f9bfb713",
       "version_major": 2,
       "version_minor": 0
      },
      "text/plain": [
       "  0%|          | 0/55 [00:00<?, ?it/s]"
      ]
     },
     "metadata": {},
     "output_type": "display_data"
    },
    {
     "name": "stdout",
     "output_type": "stream",
     "text": [
      "{'eval_loss': 2.229330062866211, 'eval_bleu': 14.1926, 'eval_gen_len': 23.8214, 'eval_runtime': 45.9717, 'eval_samples_per_second': 19.12, 'eval_steps_per_second': 1.196, 'epoch': 16.42}\n"
     ]
    },
    {
     "data": {
      "application/vnd.jupyter.widget-view+json": {
       "model_id": "7e533b2b7b98485c8bac362c18a4049f",
       "version_major": 2,
       "version_minor": 0
      },
      "text/plain": [
       "  0%|          | 0/55 [00:00<?, ?it/s]"
      ]
     },
     "metadata": {},
     "output_type": "display_data"
    },
    {
     "name": "stdout",
     "output_type": "stream",
     "text": [
      "{'eval_loss': 2.218946695327759, 'eval_bleu': 14.2899, 'eval_gen_len': 23.686, 'eval_runtime': 47.149, 'eval_samples_per_second': 18.643, 'eval_steps_per_second': 1.167, 'epoch': 16.44}\n"
     ]
    },
    {
     "data": {
      "application/vnd.jupyter.widget-view+json": {
       "model_id": "4e09f09ec8f843ba905a9b2239dd6b95",
       "version_major": 2,
       "version_minor": 0
      },
      "text/plain": [
       "  0%|          | 0/55 [00:00<?, ?it/s]"
      ]
     },
     "metadata": {},
     "output_type": "display_data"
    },
    {
     "name": "stdout",
     "output_type": "stream",
     "text": [
      "{'eval_loss': 2.214289426803589, 'eval_bleu': 14.2835, 'eval_gen_len': 23.8635, 'eval_runtime': 46.6348, 'eval_samples_per_second': 18.849, 'eval_steps_per_second': 1.179, 'epoch': 16.45}\n",
      "{'loss': 1.2887, 'grad_norm': 1.1656370162963867, 'learning_rate': 0.00020666666666666666, 'epoch': 16.46}\n"
     ]
    },
    {
     "data": {
      "application/vnd.jupyter.widget-view+json": {
       "model_id": "0ba2d24e37a8486d98d528f2e5282b9c",
       "version_major": 2,
       "version_minor": 0
      },
      "text/plain": [
       "  0%|          | 0/55 [00:00<?, ?it/s]"
      ]
     },
     "metadata": {},
     "output_type": "display_data"
    },
    {
     "name": "stdout",
     "output_type": "stream",
     "text": [
      "{'eval_loss': 2.2116236686706543, 'eval_bleu': 14.2561, 'eval_gen_len': 23.7088, 'eval_runtime': 50.437, 'eval_samples_per_second': 17.428, 'eval_steps_per_second': 1.09, 'epoch': 16.46}\n"
     ]
    },
    {
     "data": {
      "application/vnd.jupyter.widget-view+json": {
       "model_id": "97cc8c8c9979450fab00835cb2ba3952",
       "version_major": 2,
       "version_minor": 0
      },
      "text/plain": [
       "  0%|          | 0/55 [00:00<?, ?it/s]"
      ]
     },
     "metadata": {},
     "output_type": "display_data"
    },
    {
     "name": "stdout",
     "output_type": "stream",
     "text": [
      "{'eval_loss': 2.2187628746032715, 'eval_bleu': 14.3247, 'eval_gen_len': 23.7736, 'eval_runtime': 53.9897, 'eval_samples_per_second': 16.281, 'eval_steps_per_second': 1.019, 'epoch': 16.48}\n"
     ]
    },
    {
     "data": {
      "application/vnd.jupyter.widget-view+json": {
       "model_id": "f5fbe5850e064caea7bbcd30a31a16e6",
       "version_major": 2,
       "version_minor": 0
      },
      "text/plain": [
       "  0%|          | 0/55 [00:00<?, ?it/s]"
      ]
     },
     "metadata": {},
     "output_type": "display_data"
    },
    {
     "name": "stdout",
     "output_type": "stream",
     "text": [
      "{'eval_loss': 2.219489574432373, 'eval_bleu': 14.2979, 'eval_gen_len': 23.8714, 'eval_runtime': 47.2462, 'eval_samples_per_second': 18.605, 'eval_steps_per_second': 1.164, 'epoch': 16.49}\n"
     ]
    },
    {
     "data": {
      "application/vnd.jupyter.widget-view+json": {
       "model_id": "2dafeddfad874f12a21918c2a80dc5cd",
       "version_major": 2,
       "version_minor": 0
      },
      "text/plain": [
       "  0%|          | 0/55 [00:00<?, ?it/s]"
      ]
     },
     "metadata": {},
     "output_type": "display_data"
    },
    {
     "name": "stdout",
     "output_type": "stream",
     "text": [
      "{'eval_loss': 2.210146903991699, 'eval_bleu': 14.1131, 'eval_gen_len': 23.8453, 'eval_runtime': 59.6817, 'eval_samples_per_second': 14.728, 'eval_steps_per_second': 0.922, 'epoch': 16.51}\n"
     ]
    },
    {
     "data": {
      "application/vnd.jupyter.widget-view+json": {
       "model_id": "d5c0a667037c4f479e8c503c941daa1f",
       "version_major": 2,
       "version_minor": 0
      },
      "text/plain": [
       "  0%|          | 0/55 [00:00<?, ?it/s]"
      ]
     },
     "metadata": {},
     "output_type": "display_data"
    },
    {
     "name": "stdout",
     "output_type": "stream",
     "text": [
      "{'eval_loss': 2.213808059692383, 'eval_bleu': 14.0949, 'eval_gen_len': 23.7747, 'eval_runtime': 89.516, 'eval_samples_per_second': 9.819, 'eval_steps_per_second': 0.614, 'epoch': 16.52}\n",
      "{'loss': 1.2965, 'grad_norm': 1.023830533027649, 'learning_rate': 0.00020333333333333333, 'epoch': 16.53}\n"
     ]
    },
    {
     "data": {
      "application/vnd.jupyter.widget-view+json": {
       "model_id": "d792c360fc394fde9088594877921498",
       "version_major": 2,
       "version_minor": 0
      },
      "text/plain": [
       "  0%|          | 0/55 [00:00<?, ?it/s]"
      ]
     },
     "metadata": {},
     "output_type": "display_data"
    },
    {
     "name": "stdout",
     "output_type": "stream",
     "text": [
      "{'eval_loss': 2.215876817703247, 'eval_bleu': 14.3179, 'eval_gen_len': 23.5836, 'eval_runtime': 86.8853, 'eval_samples_per_second': 10.117, 'eval_steps_per_second': 0.633, 'epoch': 16.53}\n"
     ]
    },
    {
     "data": {
      "application/vnd.jupyter.widget-view+json": {
       "model_id": "ade79ba28b004139830d644e9253e504",
       "version_major": 2,
       "version_minor": 0
      },
      "text/plain": [
       "  0%|          | 0/55 [00:00<?, ?it/s]"
      ]
     },
     "metadata": {},
     "output_type": "display_data"
    },
    {
     "name": "stdout",
     "output_type": "stream",
     "text": [
      "{'eval_loss': 2.208712577819824, 'eval_bleu': 14.0014, 'eval_gen_len': 23.727, 'eval_runtime': 86.949, 'eval_samples_per_second': 10.109, 'eval_steps_per_second': 0.633, 'epoch': 16.55}\n"
     ]
    },
    {
     "data": {
      "application/vnd.jupyter.widget-view+json": {
       "model_id": "72041e79f9614b8785b585a5f2cf0623",
       "version_major": 2,
       "version_minor": 0
      },
      "text/plain": [
       "  0%|          | 0/55 [00:00<?, ?it/s]"
      ]
     },
     "metadata": {},
     "output_type": "display_data"
    },
    {
     "name": "stdout",
     "output_type": "stream",
     "text": [
      "{'eval_loss': 2.2127716541290283, 'eval_bleu': 14.263, 'eval_gen_len': 23.6712, 'eval_runtime': 89.0615, 'eval_samples_per_second': 9.87, 'eval_steps_per_second': 0.618, 'epoch': 16.56}\n"
     ]
    },
    {
     "data": {
      "application/vnd.jupyter.widget-view+json": {
       "model_id": "09e93015aa6842b9ac52808210035c7a",
       "version_major": 2,
       "version_minor": 0
      },
      "text/plain": [
       "  0%|          | 0/55 [00:00<?, ?it/s]"
      ]
     },
     "metadata": {},
     "output_type": "display_data"
    },
    {
     "name": "stdout",
     "output_type": "stream",
     "text": [
      "{'eval_loss': 2.211453676223755, 'eval_bleu': 14.1344, 'eval_gen_len': 23.7884, 'eval_runtime': 90.4719, 'eval_samples_per_second': 9.716, 'eval_steps_per_second': 0.608, 'epoch': 16.58}\n"
     ]
    },
    {
     "data": {
      "application/vnd.jupyter.widget-view+json": {
       "model_id": "764d7412aa084fd1bd1092f027bac59b",
       "version_major": 2,
       "version_minor": 0
      },
      "text/plain": [
       "  0%|          | 0/55 [00:00<?, ?it/s]"
      ]
     },
     "metadata": {},
     "output_type": "display_data"
    },
    {
     "name": "stdout",
     "output_type": "stream",
     "text": [
      "{'eval_loss': 2.198366403579712, 'eval_bleu': 14.4118, 'eval_gen_len': 23.901, 'eval_runtime': 87.9338, 'eval_samples_per_second': 9.996, 'eval_steps_per_second': 0.625, 'epoch': 16.59}\n",
      "{'loss': 1.2941, 'grad_norm': 1.0214402675628662, 'learning_rate': 0.0002, 'epoch': 16.6}\n"
     ]
    },
    {
     "data": {
      "application/vnd.jupyter.widget-view+json": {
       "model_id": "6d992b198e454e3a91f59b1cd6e6f2bd",
       "version_major": 2,
       "version_minor": 0
      },
      "text/plain": [
       "  0%|          | 0/55 [00:00<?, ?it/s]"
      ]
     },
     "metadata": {},
     "output_type": "display_data"
    },
    {
     "name": "stdout",
     "output_type": "stream",
     "text": [
      "{'eval_loss': 2.205075740814209, 'eval_bleu': 14.2138, 'eval_gen_len': 23.62, 'eval_runtime': 89.3457, 'eval_samples_per_second': 9.838, 'eval_steps_per_second': 0.616, 'epoch': 16.6}\n"
     ]
    },
    {
     "data": {
      "application/vnd.jupyter.widget-view+json": {
       "model_id": "9d9245101b494a4f9ceaa6a8573f4302",
       "version_major": 2,
       "version_minor": 0
      },
      "text/plain": [
       "  0%|          | 0/55 [00:00<?, ?it/s]"
      ]
     },
     "metadata": {},
     "output_type": "display_data"
    },
    {
     "name": "stdout",
     "output_type": "stream",
     "text": [
      "{'eval_loss': 2.2026991844177246, 'eval_bleu': 14.2285, 'eval_gen_len': 23.8441, 'eval_runtime': 89.4814, 'eval_samples_per_second': 9.823, 'eval_steps_per_second': 0.615, 'epoch': 16.62}\n"
     ]
    },
    {
     "data": {
      "application/vnd.jupyter.widget-view+json": {
       "model_id": "db1bcbb892164be4be230f55050b0830",
       "version_major": 2,
       "version_minor": 0
      },
      "text/plain": [
       "  0%|          | 0/55 [00:00<?, ?it/s]"
      ]
     },
     "metadata": {},
     "output_type": "display_data"
    },
    {
     "name": "stdout",
     "output_type": "stream",
     "text": [
      "{'eval_loss': 2.2067296504974365, 'eval_bleu': 14.1999, 'eval_gen_len': 23.6826, 'eval_runtime': 89.3989, 'eval_samples_per_second': 9.832, 'eval_steps_per_second': 0.615, 'epoch': 16.63}\n"
     ]
    },
    {
     "data": {
      "application/vnd.jupyter.widget-view+json": {
       "model_id": "e705d77fb89744c68ced0bf1bf33902e",
       "version_major": 2,
       "version_minor": 0
      },
      "text/plain": [
       "  0%|          | 0/55 [00:00<?, ?it/s]"
      ]
     },
     "metadata": {},
     "output_type": "display_data"
    },
    {
     "name": "stdout",
     "output_type": "stream",
     "text": [
      "{'eval_loss': 2.2049825191497803, 'eval_bleu': 14.2002, 'eval_gen_len': 23.6371, 'eval_runtime': 90.2804, 'eval_samples_per_second': 9.736, 'eval_steps_per_second': 0.609, 'epoch': 16.64}\n"
     ]
    },
    {
     "data": {
      "application/vnd.jupyter.widget-view+json": {
       "model_id": "ca6b1a05817c4b8fb0737784b3da9a4f",
       "version_major": 2,
       "version_minor": 0
      },
      "text/plain": [
       "  0%|          | 0/55 [00:00<?, ?it/s]"
      ]
     },
     "metadata": {},
     "output_type": "display_data"
    },
    {
     "name": "stdout",
     "output_type": "stream",
     "text": [
      "{'eval_loss': 2.214446544647217, 'eval_bleu': 14.5109, 'eval_gen_len': 23.7019, 'eval_runtime': 88.7054, 'eval_samples_per_second': 9.909, 'eval_steps_per_second': 0.62, 'epoch': 16.66}\n",
      "{'loss': 1.3077, 'grad_norm': 1.3727006912231445, 'learning_rate': 0.00019666666666666666, 'epoch': 16.67}\n"
     ]
    },
    {
     "data": {
      "application/vnd.jupyter.widget-view+json": {
       "model_id": "e54cba0a97044ea181be8e672874d53b",
       "version_major": 2,
       "version_minor": 0
      },
      "text/plain": [
       "  0%|          | 0/55 [00:00<?, ?it/s]"
      ]
     },
     "metadata": {},
     "output_type": "display_data"
    },
    {
     "name": "stdout",
     "output_type": "stream",
     "text": [
      "{'eval_loss': 2.211527109146118, 'eval_bleu': 14.6747, 'eval_gen_len': 23.7065, 'eval_runtime': 89.5052, 'eval_samples_per_second': 9.821, 'eval_steps_per_second': 0.614, 'epoch': 16.67}\n"
     ]
    },
    {
     "data": {
      "application/vnd.jupyter.widget-view+json": {
       "model_id": "228e678047994e6189c6148f18f5a8f9",
       "version_major": 2,
       "version_minor": 0
      },
      "text/plain": [
       "  0%|          | 0/55 [00:00<?, ?it/s]"
      ]
     },
     "metadata": {},
     "output_type": "display_data"
    },
    {
     "name": "stdout",
     "output_type": "stream",
     "text": [
      "{'eval_loss': 2.2060706615448, 'eval_bleu': 14.2708, 'eval_gen_len': 23.8646, 'eval_runtime': 88.7519, 'eval_samples_per_second': 9.904, 'eval_steps_per_second': 0.62, 'epoch': 16.69}\n"
     ]
    },
    {
     "data": {
      "application/vnd.jupyter.widget-view+json": {
       "model_id": "1a0283a565554008a44ffb8b3832ff5d",
       "version_major": 2,
       "version_minor": 0
      },
      "text/plain": [
       "  0%|          | 0/55 [00:00<?, ?it/s]"
      ]
     },
     "metadata": {},
     "output_type": "display_data"
    },
    {
     "name": "stdout",
     "output_type": "stream",
     "text": [
      "{'eval_loss': 2.200268268585205, 'eval_bleu': 14.338, 'eval_gen_len': 23.818, 'eval_runtime': 89.3527, 'eval_samples_per_second': 9.837, 'eval_steps_per_second': 0.616, 'epoch': 16.7}\n"
     ]
    },
    {
     "data": {
      "application/vnd.jupyter.widget-view+json": {
       "model_id": "bbb42fd3ee1a45e7bc5aff5bc7f42652",
       "version_major": 2,
       "version_minor": 0
      },
      "text/plain": [
       "  0%|          | 0/55 [00:00<?, ?it/s]"
      ]
     },
     "metadata": {},
     "output_type": "display_data"
    },
    {
     "name": "stdout",
     "output_type": "stream",
     "text": [
      "{'eval_loss': 2.20234751701355, 'eval_bleu': 14.4985, 'eval_gen_len': 23.7816, 'eval_runtime': 89.6343, 'eval_samples_per_second': 9.807, 'eval_steps_per_second': 0.614, 'epoch': 16.71}\n"
     ]
    },
    {
     "data": {
      "application/vnd.jupyter.widget-view+json": {
       "model_id": "3441dadfa02146e99107c52f37c813a0",
       "version_major": 2,
       "version_minor": 0
      },
      "text/plain": [
       "  0%|          | 0/55 [00:00<?, ?it/s]"
      ]
     },
     "metadata": {},
     "output_type": "display_data"
    },
    {
     "name": "stdout",
     "output_type": "stream",
     "text": [
      "{'eval_loss': 2.202035903930664, 'eval_bleu': 14.4747, 'eval_gen_len': 23.7008, 'eval_runtime': 90.4184, 'eval_samples_per_second': 9.721, 'eval_steps_per_second': 0.608, 'epoch': 16.73}\n",
      "{'loss': 1.3053, 'grad_norm': 1.2503222227096558, 'learning_rate': 0.00019333333333333333, 'epoch': 16.74}\n"
     ]
    },
    {
     "data": {
      "application/vnd.jupyter.widget-view+json": {
       "model_id": "1bf190144fde40b9982809bf5d85d4d8",
       "version_major": 2,
       "version_minor": 0
      },
      "text/plain": [
       "  0%|          | 0/55 [00:00<?, ?it/s]"
      ]
     },
     "metadata": {},
     "output_type": "display_data"
    },
    {
     "name": "stdout",
     "output_type": "stream",
     "text": [
      "{'eval_loss': 2.204627513885498, 'eval_bleu': 14.0977, 'eval_gen_len': 23.6974, 'eval_runtime': 86.2329, 'eval_samples_per_second': 10.193, 'eval_steps_per_second': 0.638, 'epoch': 16.74}\n"
     ]
    },
    {
     "data": {
      "application/vnd.jupyter.widget-view+json": {
       "model_id": "ef35629988284f379d51f6fd08cc6141",
       "version_major": 2,
       "version_minor": 0
      },
      "text/plain": [
       "  0%|          | 0/55 [00:00<?, ?it/s]"
      ]
     },
     "metadata": {},
     "output_type": "display_data"
    },
    {
     "name": "stdout",
     "output_type": "stream",
     "text": [
      "{'eval_loss': 2.204308271408081, 'eval_bleu': 14.4012, 'eval_gen_len': 23.7395, 'eval_runtime': 79.7725, 'eval_samples_per_second': 11.019, 'eval_steps_per_second': 0.689, 'epoch': 16.76}\n"
     ]
    },
    {
     "data": {
      "application/vnd.jupyter.widget-view+json": {
       "model_id": "eafe6872c0a4408db05e8e6ae2522c1b",
       "version_major": 2,
       "version_minor": 0
      },
      "text/plain": [
       "  0%|          | 0/55 [00:00<?, ?it/s]"
      ]
     },
     "metadata": {},
     "output_type": "display_data"
    },
    {
     "name": "stdout",
     "output_type": "stream",
     "text": [
      "{'eval_loss': 2.202133893966675, 'eval_bleu': 14.3324, 'eval_gen_len': 23.8567, 'eval_runtime': 46.0921, 'eval_samples_per_second': 19.071, 'eval_steps_per_second': 1.193, 'epoch': 16.77}\n"
     ]
    },
    {
     "data": {
      "application/vnd.jupyter.widget-view+json": {
       "model_id": "89c3f53a0e7544feb486b3030c4caf1c",
       "version_major": 2,
       "version_minor": 0
      },
      "text/plain": [
       "  0%|          | 0/55 [00:00<?, ?it/s]"
      ]
     },
     "metadata": {},
     "output_type": "display_data"
    },
    {
     "name": "stdout",
     "output_type": "stream",
     "text": [
      "{'eval_loss': 2.2113397121429443, 'eval_bleu': 14.0767, 'eval_gen_len': 23.7702, 'eval_runtime': 45.4366, 'eval_samples_per_second': 19.346, 'eval_steps_per_second': 1.21, 'epoch': 16.78}\n"
     ]
    },
    {
     "data": {
      "application/vnd.jupyter.widget-view+json": {
       "model_id": "b8f5ea035e8d4791baa5bebd35f6a080",
       "version_major": 2,
       "version_minor": 0
      },
      "text/plain": [
       "  0%|          | 0/55 [00:00<?, ?it/s]"
      ]
     },
     "metadata": {},
     "output_type": "display_data"
    },
    {
     "name": "stdout",
     "output_type": "stream",
     "text": [
      "{'eval_loss': 2.205991268157959, 'eval_bleu': 14.3965, 'eval_gen_len': 23.8373, 'eval_runtime': 45.7018, 'eval_samples_per_second': 19.233, 'eval_steps_per_second': 1.203, 'epoch': 16.8}\n",
      "{'loss': 1.3061, 'grad_norm': 1.4390251636505127, 'learning_rate': 0.00019, 'epoch': 16.81}\n"
     ]
    },
    {
     "data": {
      "application/vnd.jupyter.widget-view+json": {
       "model_id": "413da911229547d4abd672b04a53e63e",
       "version_major": 2,
       "version_minor": 0
      },
      "text/plain": [
       "  0%|          | 0/55 [00:00<?, ?it/s]"
      ]
     },
     "metadata": {},
     "output_type": "display_data"
    },
    {
     "name": "stdout",
     "output_type": "stream",
     "text": [
      "{'eval_loss': 2.2172722816467285, 'eval_bleu': 14.1278, 'eval_gen_len': 23.7668, 'eval_runtime': 46.7696, 'eval_samples_per_second': 18.794, 'eval_steps_per_second': 1.176, 'epoch': 16.81}\n"
     ]
    },
    {
     "data": {
      "application/vnd.jupyter.widget-view+json": {
       "model_id": "4ee13ac8253a4d22bd2a75ba58ab6225",
       "version_major": 2,
       "version_minor": 0
      },
      "text/plain": [
       "  0%|          | 0/55 [00:00<?, ?it/s]"
      ]
     },
     "metadata": {},
     "output_type": "display_data"
    },
    {
     "name": "stdout",
     "output_type": "stream",
     "text": [
      "{'eval_loss': 2.198291778564453, 'eval_bleu': 14.122, 'eval_gen_len': 23.8237, 'eval_runtime': 46.5281, 'eval_samples_per_second': 18.892, 'eval_steps_per_second': 1.182, 'epoch': 16.82}\n"
     ]
    },
    {
     "data": {
      "application/vnd.jupyter.widget-view+json": {
       "model_id": "4238440e16db4d20a268edeccb1ee08a",
       "version_major": 2,
       "version_minor": 0
      },
      "text/plain": [
       "  0%|          | 0/55 [00:00<?, ?it/s]"
      ]
     },
     "metadata": {},
     "output_type": "display_data"
    },
    {
     "name": "stdout",
     "output_type": "stream",
     "text": [
      "{'eval_loss': 2.2012131214141846, 'eval_bleu': 13.8711, 'eval_gen_len': 23.7645, 'eval_runtime': 46.59, 'eval_samples_per_second': 18.867, 'eval_steps_per_second': 1.181, 'epoch': 16.84}\n"
     ]
    },
    {
     "data": {
      "application/vnd.jupyter.widget-view+json": {
       "model_id": "a8a11daa95304623b4235fdbffb93178",
       "version_major": 2,
       "version_minor": 0
      },
      "text/plain": [
       "  0%|          | 0/55 [00:00<?, ?it/s]"
      ]
     },
     "metadata": {},
     "output_type": "display_data"
    },
    {
     "name": "stdout",
     "output_type": "stream",
     "text": [
      "{'eval_loss': 2.213963270187378, 'eval_bleu': 14.3351, 'eval_gen_len': 23.7964, 'eval_runtime': 45.7952, 'eval_samples_per_second': 19.194, 'eval_steps_per_second': 1.201, 'epoch': 16.85}\n"
     ]
    },
    {
     "data": {
      "application/vnd.jupyter.widget-view+json": {
       "model_id": "2118e4f10fc749e9877f11b2dd0dc467",
       "version_major": 2,
       "version_minor": 0
      },
      "text/plain": [
       "  0%|          | 0/55 [00:00<?, ?it/s]"
      ]
     },
     "metadata": {},
     "output_type": "display_data"
    },
    {
     "name": "stdout",
     "output_type": "stream",
     "text": [
      "{'eval_loss': 2.1995327472686768, 'eval_bleu': 14.3179, 'eval_gen_len': 23.7907, 'eval_runtime': 56.5015, 'eval_samples_per_second': 15.557, 'eval_steps_per_second': 0.973, 'epoch': 16.87}\n",
      "{'loss': 1.3083, 'grad_norm': 1.0966293811798096, 'learning_rate': 0.0001866666666666667, 'epoch': 16.88}\n"
     ]
    },
    {
     "data": {
      "application/vnd.jupyter.widget-view+json": {
       "model_id": "1907ec5fa31947f7b2037cbfe37224e0",
       "version_major": 2,
       "version_minor": 0
      },
      "text/plain": [
       "  0%|          | 0/55 [00:00<?, ?it/s]"
      ]
     },
     "metadata": {},
     "output_type": "display_data"
    },
    {
     "name": "stdout",
     "output_type": "stream",
     "text": [
      "{'eval_loss': 2.203352451324463, 'eval_bleu': 13.9727, 'eval_gen_len': 23.8669, 'eval_runtime': 46.2741, 'eval_samples_per_second': 18.996, 'eval_steps_per_second': 1.189, 'epoch': 16.88}\n"
     ]
    },
    {
     "data": {
      "application/vnd.jupyter.widget-view+json": {
       "model_id": "f56275a2ee3246bd84ffd244265ff7b1",
       "version_major": 2,
       "version_minor": 0
      },
      "text/plain": [
       "  0%|          | 0/55 [00:00<?, ?it/s]"
      ]
     },
     "metadata": {},
     "output_type": "display_data"
    },
    {
     "name": "stdout",
     "output_type": "stream",
     "text": [
      "{'eval_loss': 2.2014544010162354, 'eval_bleu': 14.0164, 'eval_gen_len': 23.8828, 'eval_runtime': 46.9367, 'eval_samples_per_second': 18.727, 'eval_steps_per_second': 1.172, 'epoch': 16.89}\n"
     ]
    },
    {
     "data": {
      "application/vnd.jupyter.widget-view+json": {
       "model_id": "cd9276086aaa49639c4cbb265e0aa203",
       "version_major": 2,
       "version_minor": 0
      },
      "text/plain": [
       "  0%|          | 0/55 [00:00<?, ?it/s]"
      ]
     },
     "metadata": {},
     "output_type": "display_data"
    },
    {
     "name": "stdout",
     "output_type": "stream",
     "text": [
      "{'eval_loss': 2.2067949771881104, 'eval_bleu': 14.0714, 'eval_gen_len': 23.7065, 'eval_runtime': 47.4545, 'eval_samples_per_second': 18.523, 'eval_steps_per_second': 1.159, 'epoch': 16.91}\n"
     ]
    },
    {
     "data": {
      "application/vnd.jupyter.widget-view+json": {
       "model_id": "8aa87c48549a4becad35ac8a6b9cd0bd",
       "version_major": 2,
       "version_minor": 0
      },
      "text/plain": [
       "  0%|          | 0/55 [00:00<?, ?it/s]"
      ]
     },
     "metadata": {},
     "output_type": "display_data"
    },
    {
     "name": "stdout",
     "output_type": "stream",
     "text": [
      "{'eval_loss': 2.1998789310455322, 'eval_bleu': 14.3814, 'eval_gen_len': 23.6428, 'eval_runtime': 46.0639, 'eval_samples_per_second': 19.082, 'eval_steps_per_second': 1.194, 'epoch': 16.92}\n"
     ]
    },
    {
     "data": {
      "application/vnd.jupyter.widget-view+json": {
       "model_id": "1fce0190488b4e5d8d561845afb658a4",
       "version_major": 2,
       "version_minor": 0
      },
      "text/plain": [
       "  0%|          | 0/55 [00:00<?, ?it/s]"
      ]
     },
     "metadata": {},
     "output_type": "display_data"
    },
    {
     "name": "stdout",
     "output_type": "stream",
     "text": [
      "{'eval_loss': 2.1949310302734375, 'eval_bleu': 14.0733, 'eval_gen_len': 23.8407, 'eval_runtime': 46.4599, 'eval_samples_per_second': 18.92, 'eval_steps_per_second': 1.184, 'epoch': 16.94}\n",
      "{'loss': 1.3076, 'grad_norm': 1.2974427938461304, 'learning_rate': 0.00018333333333333334, 'epoch': 16.95}\n"
     ]
    },
    {
     "data": {
      "application/vnd.jupyter.widget-view+json": {
       "model_id": "3f347842fd474d71b1b000826d27be20",
       "version_major": 2,
       "version_minor": 0
      },
      "text/plain": [
       "  0%|          | 0/55 [00:00<?, ?it/s]"
      ]
     },
     "metadata": {},
     "output_type": "display_data"
    },
    {
     "name": "stdout",
     "output_type": "stream",
     "text": [
      "{'eval_loss': 2.201995372772217, 'eval_bleu': 14.0775, 'eval_gen_len': 23.5984, 'eval_runtime': 45.4915, 'eval_samples_per_second': 19.322, 'eval_steps_per_second': 1.209, 'epoch': 16.95}\n"
     ]
    },
    {
     "data": {
      "application/vnd.jupyter.widget-view+json": {
       "model_id": "59d3f80306404a2cb1b5210e63514f7e",
       "version_major": 2,
       "version_minor": 0
      },
      "text/plain": [
       "  0%|          | 0/55 [00:00<?, ?it/s]"
      ]
     },
     "metadata": {},
     "output_type": "display_data"
    },
    {
     "name": "stdout",
     "output_type": "stream",
     "text": [
      "{'eval_loss': 2.2065465450286865, 'eval_bleu': 14.2319, 'eval_gen_len': 23.7383, 'eval_runtime': 47.1791, 'eval_samples_per_second': 18.631, 'eval_steps_per_second': 1.166, 'epoch': 16.96}\n"
     ]
    },
    {
     "data": {
      "application/vnd.jupyter.widget-view+json": {
       "model_id": "c40e590efd0444548bb3934504188707",
       "version_major": 2,
       "version_minor": 0
      },
      "text/plain": [
       "  0%|          | 0/55 [00:00<?, ?it/s]"
      ]
     },
     "metadata": {},
     "output_type": "display_data"
    },
    {
     "name": "stdout",
     "output_type": "stream",
     "text": [
      "{'eval_loss': 2.201355457305908, 'eval_bleu': 14.2056, 'eval_gen_len': 23.8191, 'eval_runtime': 46.2034, 'eval_samples_per_second': 19.025, 'eval_steps_per_second': 1.19, 'epoch': 16.98}\n"
     ]
    },
    {
     "data": {
      "application/vnd.jupyter.widget-view+json": {
       "model_id": "a07c92739b46415a9ac442a38305c06e",
       "version_major": 2,
       "version_minor": 0
      },
      "text/plain": [
       "  0%|          | 0/55 [00:00<?, ?it/s]"
      ]
     },
     "metadata": {},
     "output_type": "display_data"
    },
    {
     "name": "stdout",
     "output_type": "stream",
     "text": [
      "{'eval_loss': 2.203303337097168, 'eval_bleu': 14.1071, 'eval_gen_len': 23.7281, 'eval_runtime': 44.6168, 'eval_samples_per_second': 19.701, 'eval_steps_per_second': 1.233, 'epoch': 16.99}\n"
     ]
    },
    {
     "data": {
      "application/vnd.jupyter.widget-view+json": {
       "model_id": "49d7d98ffd0e4702baa0f0a596e010a8",
       "version_major": 2,
       "version_minor": 0
      },
      "text/plain": [
       "  0%|          | 0/55 [00:00<?, ?it/s]"
      ]
     },
     "metadata": {},
     "output_type": "display_data"
    },
    {
     "name": "stdout",
     "output_type": "stream",
     "text": [
      "{'eval_loss': 2.220937728881836, 'eval_bleu': 14.2311, 'eval_gen_len': 23.7133, 'eval_runtime': 44.718, 'eval_samples_per_second': 19.657, 'eval_steps_per_second': 1.23, 'epoch': 17.0}\n",
      "{'loss': 1.2869, 'grad_norm': 1.2708065509796143, 'learning_rate': 0.00017999999999999998, 'epoch': 17.02}\n"
     ]
    },
    {
     "data": {
      "application/vnd.jupyter.widget-view+json": {
       "model_id": "6b2be675c5d24dfeb9d600b29b6f2198",
       "version_major": 2,
       "version_minor": 0
      },
      "text/plain": [
       "  0%|          | 0/55 [00:00<?, ?it/s]"
      ]
     },
     "metadata": {},
     "output_type": "display_data"
    },
    {
     "name": "stdout",
     "output_type": "stream",
     "text": [
      "{'eval_loss': 2.2320168018341064, 'eval_bleu': 14.3686, 'eval_gen_len': 23.6485, 'eval_runtime': 44.8753, 'eval_samples_per_second': 19.588, 'eval_steps_per_second': 1.226, 'epoch': 17.02}\n"
     ]
    },
    {
     "data": {
      "application/vnd.jupyter.widget-view+json": {
       "model_id": "aa17f1ca70e643748eadb64fd24ae410",
       "version_major": 2,
       "version_minor": 0
      },
      "text/plain": [
       "  0%|          | 0/55 [00:00<?, ?it/s]"
      ]
     },
     "metadata": {},
     "output_type": "display_data"
    },
    {
     "name": "stdout",
     "output_type": "stream",
     "text": [
      "{'eval_loss': 2.2321462631225586, 'eval_bleu': 14.028, 'eval_gen_len': 23.6689, 'eval_runtime': 43.7887, 'eval_samples_per_second': 20.074, 'eval_steps_per_second': 1.256, 'epoch': 17.03}\n"
     ]
    },
    {
     "data": {
      "application/vnd.jupyter.widget-view+json": {
       "model_id": "34e91c640907425586938977e63ccf0e",
       "version_major": 2,
       "version_minor": 0
      },
      "text/plain": [
       "  0%|          | 0/55 [00:00<?, ?it/s]"
      ]
     },
     "metadata": {},
     "output_type": "display_data"
    },
    {
     "name": "stdout",
     "output_type": "stream",
     "text": [
      "{'eval_loss': 2.225487232208252, 'eval_bleu': 13.8098, 'eval_gen_len': 23.7429, 'eval_runtime': 45.5314, 'eval_samples_per_second': 19.305, 'eval_steps_per_second': 1.208, 'epoch': 17.05}\n"
     ]
    },
    {
     "data": {
      "application/vnd.jupyter.widget-view+json": {
       "model_id": "5f302d76527b4d1d92143a3ce451a122",
       "version_major": 2,
       "version_minor": 0
      },
      "text/plain": [
       "  0%|          | 0/55 [00:00<?, ?it/s]"
      ]
     },
     "metadata": {},
     "output_type": "display_data"
    },
    {
     "name": "stdout",
     "output_type": "stream",
     "text": [
      "{'eval_loss': 2.238198757171631, 'eval_bleu': 13.9396, 'eval_gen_len': 23.7247, 'eval_runtime': 45.1885, 'eval_samples_per_second': 19.452, 'eval_steps_per_second': 1.217, 'epoch': 17.06}\n"
     ]
    },
    {
     "data": {
      "application/vnd.jupyter.widget-view+json": {
       "model_id": "43f988f06c62463e9e80f3f020f6de0c",
       "version_major": 2,
       "version_minor": 0
      },
      "text/plain": [
       "  0%|          | 0/55 [00:00<?, ?it/s]"
      ]
     },
     "metadata": {},
     "output_type": "display_data"
    },
    {
     "name": "stdout",
     "output_type": "stream",
     "text": [
      "{'eval_loss': 2.2358293533325195, 'eval_bleu': 13.993, 'eval_gen_len': 23.8214, 'eval_runtime': 45.0547, 'eval_samples_per_second': 19.51, 'eval_steps_per_second': 1.221, 'epoch': 17.07}\n",
      "{'loss': 1.2167, 'grad_norm': 1.4250037670135498, 'learning_rate': 0.00017666666666666666, 'epoch': 17.09}\n"
     ]
    },
    {
     "data": {
      "application/vnd.jupyter.widget-view+json": {
       "model_id": "b97dfbe9b68d48c1987e6fe917026d75",
       "version_major": 2,
       "version_minor": 0
      },
      "text/plain": [
       "  0%|          | 0/55 [00:00<?, ?it/s]"
      ]
     },
     "metadata": {},
     "output_type": "display_data"
    },
    {
     "name": "stdout",
     "output_type": "stream",
     "text": [
      "{'eval_loss': 2.2312440872192383, 'eval_bleu': 14.2867, 'eval_gen_len': 23.694, 'eval_runtime': 46.0171, 'eval_samples_per_second': 19.102, 'eval_steps_per_second': 1.195, 'epoch': 17.09}\n"
     ]
    },
    {
     "data": {
      "application/vnd.jupyter.widget-view+json": {
       "model_id": "dd3a1ce940e14436aeb50201d15f197d",
       "version_major": 2,
       "version_minor": 0
      },
      "text/plain": [
       "  0%|          | 0/55 [00:00<?, ?it/s]"
      ]
     },
     "metadata": {},
     "output_type": "display_data"
    },
    {
     "name": "stdout",
     "output_type": "stream",
     "text": [
      "{'eval_loss': 2.2296504974365234, 'eval_bleu': 13.9683, 'eval_gen_len': 23.8111, 'eval_runtime': 47.234, 'eval_samples_per_second': 18.609, 'eval_steps_per_second': 1.164, 'epoch': 17.1}\n"
     ]
    },
    {
     "data": {
      "application/vnd.jupyter.widget-view+json": {
       "model_id": "2324d5dede29475d901d22fa34a315b0",
       "version_major": 2,
       "version_minor": 0
      },
      "text/plain": [
       "  0%|          | 0/55 [00:00<?, ?it/s]"
      ]
     },
     "metadata": {},
     "output_type": "display_data"
    },
    {
     "name": "stdout",
     "output_type": "stream",
     "text": [
      "{'eval_loss': 2.240645408630371, 'eval_bleu': 13.9332, 'eval_gen_len': 23.6769, 'eval_runtime': 44.064, 'eval_samples_per_second': 19.948, 'eval_steps_per_second': 1.248, 'epoch': 17.12}\n"
     ]
    },
    {
     "data": {
      "application/vnd.jupyter.widget-view+json": {
       "model_id": "457b4ee1e1b340e18864f727cd6ce506",
       "version_major": 2,
       "version_minor": 0
      },
      "text/plain": [
       "  0%|          | 0/55 [00:00<?, ?it/s]"
      ]
     },
     "metadata": {},
     "output_type": "display_data"
    },
    {
     "name": "stdout",
     "output_type": "stream",
     "text": [
      "{'eval_loss': 2.2339749336242676, 'eval_bleu': 14.1834, 'eval_gen_len': 23.7725, 'eval_runtime': 44.5593, 'eval_samples_per_second': 19.727, 'eval_steps_per_second': 1.234, 'epoch': 17.13}\n"
     ]
    },
    {
     "data": {
      "application/vnd.jupyter.widget-view+json": {
       "model_id": "84bef7785e964e16b7a3c8c7cdf14e10",
       "version_major": 2,
       "version_minor": 0
      },
      "text/plain": [
       "  0%|          | 0/55 [00:00<?, ?it/s]"
      ]
     },
     "metadata": {},
     "output_type": "display_data"
    },
    {
     "name": "stdout",
     "output_type": "stream",
     "text": [
      "{'eval_loss': 2.238558292388916, 'eval_bleu': 13.9177, 'eval_gen_len': 23.6109, 'eval_runtime': 46.1533, 'eval_samples_per_second': 19.045, 'eval_steps_per_second': 1.192, 'epoch': 17.14}\n",
      "{'loss': 1.2318, 'grad_norm': 1.1133133172988892, 'learning_rate': 0.00017333333333333334, 'epoch': 17.16}\n"
     ]
    },
    {
     "data": {
      "application/vnd.jupyter.widget-view+json": {
       "model_id": "a8ccaec24fda4f5c88c940474eaf4012",
       "version_major": 2,
       "version_minor": 0
      },
      "text/plain": [
       "  0%|          | 0/55 [00:00<?, ?it/s]"
      ]
     },
     "metadata": {},
     "output_type": "display_data"
    },
    {
     "name": "stdout",
     "output_type": "stream",
     "text": [
      "{'eval_loss': 2.2345259189605713, 'eval_bleu': 13.9862, 'eval_gen_len': 23.6473, 'eval_runtime': 45.722, 'eval_samples_per_second': 19.225, 'eval_steps_per_second': 1.203, 'epoch': 17.16}\n"
     ]
    },
    {
     "data": {
      "application/vnd.jupyter.widget-view+json": {
       "model_id": "6edf99a546924af0aff7a17e155c9d25",
       "version_major": 2,
       "version_minor": 0
      },
      "text/plain": [
       "  0%|          | 0/55 [00:00<?, ?it/s]"
      ]
     },
     "metadata": {},
     "output_type": "display_data"
    },
    {
     "name": "stdout",
     "output_type": "stream",
     "text": [
      "{'eval_loss': 2.2238714694976807, 'eval_bleu': 13.9423, 'eval_gen_len': 23.6143, 'eval_runtime': 46.1597, 'eval_samples_per_second': 19.043, 'eval_steps_per_second': 1.192, 'epoch': 17.17}\n"
     ]
    },
    {
     "data": {
      "application/vnd.jupyter.widget-view+json": {
       "model_id": "898bfeb9e07f4c80be89a5555ba506f7",
       "version_major": 2,
       "version_minor": 0
      },
      "text/plain": [
       "  0%|          | 0/55 [00:00<?, ?it/s]"
      ]
     },
     "metadata": {},
     "output_type": "display_data"
    },
    {
     "name": "stdout",
     "output_type": "stream",
     "text": [
      "{'eval_loss': 2.234543561935425, 'eval_bleu': 14.0917, 'eval_gen_len': 23.661, 'eval_runtime': 47.2936, 'eval_samples_per_second': 18.586, 'eval_steps_per_second': 1.163, 'epoch': 17.18}\n"
     ]
    },
    {
     "data": {
      "application/vnd.jupyter.widget-view+json": {
       "model_id": "b7d9a648f5cf4224ad4a8825051b36a4",
       "version_major": 2,
       "version_minor": 0
      },
      "text/plain": [
       "  0%|          | 0/55 [00:00<?, ?it/s]"
      ]
     },
     "metadata": {},
     "output_type": "display_data"
    },
    {
     "name": "stdout",
     "output_type": "stream",
     "text": [
      "{'eval_loss': 2.2451517581939697, 'eval_bleu': 14.1795, 'eval_gen_len': 23.6382, 'eval_runtime': 46.6016, 'eval_samples_per_second': 18.862, 'eval_steps_per_second': 1.18, 'epoch': 17.2}\n"
     ]
    },
    {
     "data": {
      "application/vnd.jupyter.widget-view+json": {
       "model_id": "674416396525455dbd66e0759197395f",
       "version_major": 2,
       "version_minor": 0
      },
      "text/plain": [
       "  0%|          | 0/55 [00:00<?, ?it/s]"
      ]
     },
     "metadata": {},
     "output_type": "display_data"
    },
    {
     "name": "stdout",
     "output_type": "stream",
     "text": [
      "{'eval_loss': 2.2268478870391846, 'eval_bleu': 14.2306, 'eval_gen_len': 23.8077, 'eval_runtime': 45.604, 'eval_samples_per_second': 19.275, 'eval_steps_per_second': 1.206, 'epoch': 17.21}\n",
      "{'loss': 1.2328, 'grad_norm': 1.1534358263015747, 'learning_rate': 0.00017, 'epoch': 17.23}\n"
     ]
    },
    {
     "data": {
      "application/vnd.jupyter.widget-view+json": {
       "model_id": "a28de00d2a1141bbae9086a747792813",
       "version_major": 2,
       "version_minor": 0
      },
      "text/plain": [
       "  0%|          | 0/55 [00:00<?, ?it/s]"
      ]
     },
     "metadata": {},
     "output_type": "display_data"
    },
    {
     "name": "stdout",
     "output_type": "stream",
     "text": [
      "{'eval_loss': 2.232999801635742, 'eval_bleu': 14.3045, 'eval_gen_len': 23.5597, 'eval_runtime': 43.3995, 'eval_samples_per_second': 20.254, 'eval_steps_per_second': 1.267, 'epoch': 17.23}\n"
     ]
    },
    {
     "data": {
      "application/vnd.jupyter.widget-view+json": {
       "model_id": "e97cbdc4fda54b0aa1e428c53cd6979c",
       "version_major": 2,
       "version_minor": 0
      },
      "text/plain": [
       "  0%|          | 0/55 [00:00<?, ?it/s]"
      ]
     },
     "metadata": {},
     "output_type": "display_data"
    },
    {
     "name": "stdout",
     "output_type": "stream",
     "text": [
      "{'eval_loss': 2.2330102920532227, 'eval_bleu': 13.9096, 'eval_gen_len': 23.6701, 'eval_runtime': 46.7543, 'eval_samples_per_second': 18.8, 'eval_steps_per_second': 1.176, 'epoch': 17.24}\n"
     ]
    },
    {
     "data": {
      "application/vnd.jupyter.widget-view+json": {
       "model_id": "f72030d49bb543ecbba04dd0a93d91b6",
       "version_major": 2,
       "version_minor": 0
      },
      "text/plain": [
       "  0%|          | 0/55 [00:00<?, ?it/s]"
      ]
     },
     "metadata": {},
     "output_type": "display_data"
    },
    {
     "name": "stdout",
     "output_type": "stream",
     "text": [
      "{'eval_loss': 2.2342982292175293, 'eval_bleu': 14.1445, 'eval_gen_len': 23.6405, 'eval_runtime': 46.0186, 'eval_samples_per_second': 19.101, 'eval_steps_per_second': 1.195, 'epoch': 17.25}\n"
     ]
    },
    {
     "data": {
      "application/vnd.jupyter.widget-view+json": {
       "model_id": "1d2b6a6e9d3945948c2de155f46d7464",
       "version_major": 2,
       "version_minor": 0
      },
      "text/plain": [
       "  0%|          | 0/55 [00:00<?, ?it/s]"
      ]
     },
     "metadata": {},
     "output_type": "display_data"
    },
    {
     "name": "stdout",
     "output_type": "stream",
     "text": [
      "{'eval_loss': 2.2255806922912598, 'eval_bleu': 13.976, 'eval_gen_len': 23.6792, 'eval_runtime': 45.7141, 'eval_samples_per_second': 19.228, 'eval_steps_per_second': 1.203, 'epoch': 17.27}\n"
     ]
    },
    {
     "data": {
      "application/vnd.jupyter.widget-view+json": {
       "model_id": "eed82af982cd457192c7b1a6dbe87be6",
       "version_major": 2,
       "version_minor": 0
      },
      "text/plain": [
       "  0%|          | 0/55 [00:00<?, ?it/s]"
      ]
     },
     "metadata": {},
     "output_type": "display_data"
    },
    {
     "name": "stdout",
     "output_type": "stream",
     "text": [
      "{'eval_loss': 2.2375030517578125, 'eval_bleu': 13.9631, 'eval_gen_len': 23.6473, 'eval_runtime': 46.7083, 'eval_samples_per_second': 18.819, 'eval_steps_per_second': 1.178, 'epoch': 17.28}\n",
      "{'loss': 1.2342, 'grad_norm': 1.3398607969284058, 'learning_rate': 0.00016666666666666666, 'epoch': 17.3}\n"
     ]
    },
    {
     "data": {
      "application/vnd.jupyter.widget-view+json": {
       "model_id": "9b5ca5e9a21f436a92a1e47644deeb52",
       "version_major": 2,
       "version_minor": 0
      },
      "text/plain": [
       "  0%|          | 0/55 [00:00<?, ?it/s]"
      ]
     },
     "metadata": {},
     "output_type": "display_data"
    },
    {
     "name": "stdout",
     "output_type": "stream",
     "text": [
      "{'eval_loss': 2.231813430786133, 'eval_bleu': 14.0594, 'eval_gen_len': 23.7816, 'eval_runtime': 46.9469, 'eval_samples_per_second': 18.723, 'eval_steps_per_second': 1.172, 'epoch': 17.3}\n"
     ]
    },
    {
     "data": {
      "application/vnd.jupyter.widget-view+json": {
       "model_id": "33943e2c6bd94003a141e0f09806f79f",
       "version_major": 2,
       "version_minor": 0
      },
      "text/plain": [
       "  0%|          | 0/55 [00:00<?, ?it/s]"
      ]
     },
     "metadata": {},
     "output_type": "display_data"
    },
    {
     "name": "stdout",
     "output_type": "stream",
     "text": [
      "{'eval_loss': 2.231102228164673, 'eval_bleu': 14.2565, 'eval_gen_len': 23.7998, 'eval_runtime': 47.2971, 'eval_samples_per_second': 18.585, 'eval_steps_per_second': 1.163, 'epoch': 17.31}\n"
     ]
    },
    {
     "data": {
      "application/vnd.jupyter.widget-view+json": {
       "model_id": "84f1dbc7b71740cd9a21eafaa745abd3",
       "version_major": 2,
       "version_minor": 0
      },
      "text/plain": [
       "  0%|          | 0/55 [00:00<?, ?it/s]"
      ]
     },
     "metadata": {},
     "output_type": "display_data"
    },
    {
     "name": "stdout",
     "output_type": "stream",
     "text": [
      "{'eval_loss': 2.239621162414551, 'eval_bleu': 14.2688, 'eval_gen_len': 23.6678, 'eval_runtime': 48.2511, 'eval_samples_per_second': 18.217, 'eval_steps_per_second': 1.14, 'epoch': 17.32}\n"
     ]
    },
    {
     "data": {
      "application/vnd.jupyter.widget-view+json": {
       "model_id": "049bdbe9ec5a4912922f439b6287f5c4",
       "version_major": 2,
       "version_minor": 0
      },
      "text/plain": [
       "  0%|          | 0/55 [00:00<?, ?it/s]"
      ]
     },
     "metadata": {},
     "output_type": "display_data"
    },
    {
     "name": "stdout",
     "output_type": "stream",
     "text": [
      "{'eval_loss': 2.227409601211548, 'eval_bleu': 14.2907, 'eval_gen_len': 23.7201, 'eval_runtime': 46.3366, 'eval_samples_per_second': 18.97, 'eval_steps_per_second': 1.187, 'epoch': 17.34}\n"
     ]
    },
    {
     "data": {
      "application/vnd.jupyter.widget-view+json": {
       "model_id": "5365435d381a4ec888513a4a1151cce3",
       "version_major": 2,
       "version_minor": 0
      },
      "text/plain": [
       "  0%|          | 0/55 [00:00<?, ?it/s]"
      ]
     },
     "metadata": {},
     "output_type": "display_data"
    },
    {
     "name": "stdout",
     "output_type": "stream",
     "text": [
      "{'eval_loss': 2.230348587036133, 'eval_bleu': 14.2255, 'eval_gen_len': 23.7497, 'eval_runtime': 47.3494, 'eval_samples_per_second': 18.564, 'eval_steps_per_second': 1.162, 'epoch': 17.35}\n",
      "{'loss': 1.2323, 'grad_norm': 1.4215351343154907, 'learning_rate': 0.00016333333333333334, 'epoch': 17.36}\n"
     ]
    },
    {
     "data": {
      "application/vnd.jupyter.widget-view+json": {
       "model_id": "cb3b1217935a4c3dbbaa980214335ffb",
       "version_major": 2,
       "version_minor": 0
      },
      "text/plain": [
       "  0%|          | 0/55 [00:00<?, ?it/s]"
      ]
     },
     "metadata": {},
     "output_type": "display_data"
    },
    {
     "name": "stdout",
     "output_type": "stream",
     "text": [
      "{'eval_loss': 2.231065273284912, 'eval_bleu': 14.1701, 'eval_gen_len': 23.6462, 'eval_runtime': 47.0621, 'eval_samples_per_second': 18.677, 'eval_steps_per_second': 1.169, 'epoch': 17.36}\n"
     ]
    },
    {
     "data": {
      "application/vnd.jupyter.widget-view+json": {
       "model_id": "435787b92bac43b6914ecced5b1c0cd5",
       "version_major": 2,
       "version_minor": 0
      },
      "text/plain": [
       "  0%|          | 0/55 [00:00<?, ?it/s]"
      ]
     },
     "metadata": {},
     "output_type": "display_data"
    },
    {
     "name": "stdout",
     "output_type": "stream",
     "text": [
      "{'eval_loss': 2.229072093963623, 'eval_bleu': 13.9848, 'eval_gen_len': 23.8168, 'eval_runtime': 47.401, 'eval_samples_per_second': 18.544, 'eval_steps_per_second': 1.16, 'epoch': 17.38}\n"
     ]
    },
    {
     "data": {
      "application/vnd.jupyter.widget-view+json": {
       "model_id": "8f0604a650184c14a813b0ded3716ff4",
       "version_major": 2,
       "version_minor": 0
      },
      "text/plain": [
       "  0%|          | 0/55 [00:00<?, ?it/s]"
      ]
     },
     "metadata": {},
     "output_type": "display_data"
    },
    {
     "name": "stdout",
     "output_type": "stream",
     "text": [
      "{'eval_loss': 2.228415012359619, 'eval_bleu': 14.1394, 'eval_gen_len': 23.7372, 'eval_runtime': 45.6925, 'eval_samples_per_second': 19.237, 'eval_steps_per_second': 1.204, 'epoch': 17.39}\n"
     ]
    },
    {
     "data": {
      "application/vnd.jupyter.widget-view+json": {
       "model_id": "f1a2eeda7db2415680842f01c3dc846e",
       "version_major": 2,
       "version_minor": 0
      },
      "text/plain": [
       "  0%|          | 0/55 [00:00<?, ?it/s]"
      ]
     },
     "metadata": {},
     "output_type": "display_data"
    },
    {
     "name": "stdout",
     "output_type": "stream",
     "text": [
      "{'eval_loss': 2.2294163703918457, 'eval_bleu': 14.4865, 'eval_gen_len': 23.6928, 'eval_runtime': 45.1141, 'eval_samples_per_second': 19.484, 'eval_steps_per_second': 1.219, 'epoch': 17.41}\n"
     ]
    },
    {
     "data": {
      "application/vnd.jupyter.widget-view+json": {
       "model_id": "c1fc20aff6874832868c20c63b3caf88",
       "version_major": 2,
       "version_minor": 0
      },
      "text/plain": [
       "  0%|          | 0/55 [00:00<?, ?it/s]"
      ]
     },
     "metadata": {},
     "output_type": "display_data"
    },
    {
     "name": "stdout",
     "output_type": "stream",
     "text": [
      "{'eval_loss': 2.232485294342041, 'eval_bleu': 14.2645, 'eval_gen_len': 23.7759, 'eval_runtime': 45.421, 'eval_samples_per_second': 19.352, 'eval_steps_per_second': 1.211, 'epoch': 17.42}\n",
      "{'loss': 1.2463, 'grad_norm': 1.2555382251739502, 'learning_rate': 0.00016, 'epoch': 17.43}\n"
     ]
    },
    {
     "data": {
      "application/vnd.jupyter.widget-view+json": {
       "model_id": "99adb424cce34dc8a4bdb2847da06967",
       "version_major": 2,
       "version_minor": 0
      },
      "text/plain": [
       "  0%|          | 0/55 [00:00<?, ?it/s]"
      ]
     },
     "metadata": {},
     "output_type": "display_data"
    },
    {
     "name": "stdout",
     "output_type": "stream",
     "text": [
      "{'eval_loss': 2.2223761081695557, 'eval_bleu': 14.2373, 'eval_gen_len': 23.7406, 'eval_runtime': 50.1163, 'eval_samples_per_second': 17.539, 'eval_steps_per_second': 1.097, 'epoch': 17.43}\n"
     ]
    },
    {
     "data": {
      "application/vnd.jupyter.widget-view+json": {
       "model_id": "4e23021aed064c0285eb381ef029ca52",
       "version_major": 2,
       "version_minor": 0
      },
      "text/plain": [
       "  0%|          | 0/55 [00:00<?, ?it/s]"
      ]
     },
     "metadata": {},
     "output_type": "display_data"
    },
    {
     "name": "stdout",
     "output_type": "stream",
     "text": [
      "{'eval_loss': 2.230827808380127, 'eval_bleu': 14.0211, 'eval_gen_len': 23.7873, 'eval_runtime': 44.4883, 'eval_samples_per_second': 19.758, 'eval_steps_per_second': 1.236, 'epoch': 17.45}\n"
     ]
    },
    {
     "data": {
      "application/vnd.jupyter.widget-view+json": {
       "model_id": "1c24aea6bad648e3834cc4d6dda22d17",
       "version_major": 2,
       "version_minor": 0
      },
      "text/plain": [
       "  0%|          | 0/55 [00:00<?, ?it/s]"
      ]
     },
     "metadata": {},
     "output_type": "display_data"
    },
    {
     "name": "stdout",
     "output_type": "stream",
     "text": [
      "{'eval_loss': 2.2217094898223877, 'eval_bleu': 14.14, 'eval_gen_len': 23.7213, 'eval_runtime': 44.8466, 'eval_samples_per_second': 19.6, 'eval_steps_per_second': 1.226, 'epoch': 17.46}\n"
     ]
    },
    {
     "data": {
      "application/vnd.jupyter.widget-view+json": {
       "model_id": "422bc307a8fa44e3ada0422944f21968",
       "version_major": 2,
       "version_minor": 0
      },
      "text/plain": [
       "  0%|          | 0/55 [00:00<?, ?it/s]"
      ]
     },
     "metadata": {},
     "output_type": "display_data"
    },
    {
     "name": "stdout",
     "output_type": "stream",
     "text": [
      "{'eval_loss': 2.2187342643737793, 'eval_bleu': 14.1263, 'eval_gen_len': 23.8487, 'eval_runtime': 44.8672, 'eval_samples_per_second': 19.591, 'eval_steps_per_second': 1.226, 'epoch': 17.47}\n"
     ]
    },
    {
     "data": {
      "application/vnd.jupyter.widget-view+json": {
       "model_id": "7acb285ae36d4a9a82abea5564585991",
       "version_major": 2,
       "version_minor": 0
      },
      "text/plain": [
       "  0%|          | 0/55 [00:00<?, ?it/s]"
      ]
     },
     "metadata": {},
     "output_type": "display_data"
    },
    {
     "name": "stdout",
     "output_type": "stream",
     "text": [
      "{'eval_loss': 2.2265801429748535, 'eval_bleu': 14.224, 'eval_gen_len': 23.7884, 'eval_runtime': 43.8581, 'eval_samples_per_second': 20.042, 'eval_steps_per_second': 1.254, 'epoch': 17.49}\n",
      "{'loss': 1.2525, 'grad_norm': 1.4832813739776611, 'learning_rate': 0.0001566666666666667, 'epoch': 17.5}\n"
     ]
    },
    {
     "data": {
      "application/vnd.jupyter.widget-view+json": {
       "model_id": "0eb912e855cf4a24a70a8f934c1e3979",
       "version_major": 2,
       "version_minor": 0
      },
      "text/plain": [
       "  0%|          | 0/55 [00:00<?, ?it/s]"
      ]
     },
     "metadata": {},
     "output_type": "display_data"
    },
    {
     "name": "stdout",
     "output_type": "stream",
     "text": [
      "{'eval_loss': 2.2265074253082275, 'eval_bleu': 14.1254, 'eval_gen_len': 23.6121, 'eval_runtime': 45.0189, 'eval_samples_per_second': 19.525, 'eval_steps_per_second': 1.222, 'epoch': 17.5}\n"
     ]
    },
    {
     "data": {
      "application/vnd.jupyter.widget-view+json": {
       "model_id": "1d1fe38fe46e46a0897e809cbd06cd71",
       "version_major": 2,
       "version_minor": 0
      },
      "text/plain": [
       "  0%|          | 0/55 [00:00<?, ?it/s]"
      ]
     },
     "metadata": {},
     "output_type": "display_data"
    },
    {
     "name": "stdout",
     "output_type": "stream",
     "text": [
      "{'eval_loss': 2.2352545261383057, 'eval_bleu': 14.1723, 'eval_gen_len': 23.6451, 'eval_runtime': 44.8728, 'eval_samples_per_second': 19.589, 'eval_steps_per_second': 1.226, 'epoch': 17.52}\n"
     ]
    },
    {
     "data": {
      "application/vnd.jupyter.widget-view+json": {
       "model_id": "27dd09ef01374ab0a80d27da4de7f2a5",
       "version_major": 2,
       "version_minor": 0
      },
      "text/plain": [
       "  0%|          | 0/55 [00:00<?, ?it/s]"
      ]
     },
     "metadata": {},
     "output_type": "display_data"
    },
    {
     "name": "stdout",
     "output_type": "stream",
     "text": [
      "{'eval_loss': 2.2252554893493652, 'eval_bleu': 14.1586, 'eval_gen_len': 23.7122, 'eval_runtime': 45.317, 'eval_samples_per_second': 19.397, 'eval_steps_per_second': 1.214, 'epoch': 17.53}\n"
     ]
    },
    {
     "data": {
      "application/vnd.jupyter.widget-view+json": {
       "model_id": "e144acfed1164d018526ee3359019c8a",
       "version_major": 2,
       "version_minor": 0
      },
      "text/plain": [
       "  0%|          | 0/55 [00:00<?, ?it/s]"
      ]
     },
     "metadata": {},
     "output_type": "display_data"
    },
    {
     "name": "stdout",
     "output_type": "stream",
     "text": [
      "{'eval_loss': 2.229884147644043, 'eval_bleu': 14.4178, 'eval_gen_len': 23.7645, 'eval_runtime': 44.7095, 'eval_samples_per_second': 19.66, 'eval_steps_per_second': 1.23, 'epoch': 17.54}\n"
     ]
    },
    {
     "data": {
      "application/vnd.jupyter.widget-view+json": {
       "model_id": "f999c07f63694855b8aa5d5e59bd4cbc",
       "version_major": 2,
       "version_minor": 0
      },
      "text/plain": [
       "  0%|          | 0/55 [00:00<?, ?it/s]"
      ]
     },
     "metadata": {},
     "output_type": "display_data"
    },
    {
     "name": "stdout",
     "output_type": "stream",
     "text": [
      "{'eval_loss': 2.2238011360168457, 'eval_bleu': 14.2839, 'eval_gen_len': 23.6837, 'eval_runtime': 47.9863, 'eval_samples_per_second': 18.318, 'eval_steps_per_second': 1.146, 'epoch': 17.56}\n",
      "{'loss': 1.2484, 'grad_norm': 1.1895110607147217, 'learning_rate': 0.00015333333333333334, 'epoch': 17.57}\n"
     ]
    },
    {
     "data": {
      "application/vnd.jupyter.widget-view+json": {
       "model_id": "0907238569104b34b5537a10fac98cab",
       "version_major": 2,
       "version_minor": 0
      },
      "text/plain": [
       "  0%|          | 0/55 [00:00<?, ?it/s]"
      ]
     },
     "metadata": {},
     "output_type": "display_data"
    },
    {
     "name": "stdout",
     "output_type": "stream",
     "text": [
      "{'eval_loss': 2.2297840118408203, 'eval_bleu': 14.2286, 'eval_gen_len': 23.7304, 'eval_runtime': 44.8599, 'eval_samples_per_second': 19.594, 'eval_steps_per_second': 1.226, 'epoch': 17.57}\n"
     ]
    },
    {
     "data": {
      "application/vnd.jupyter.widget-view+json": {
       "model_id": "88759381d67441be819806512850cd42",
       "version_major": 2,
       "version_minor": 0
      },
      "text/plain": [
       "  0%|          | 0/55 [00:00<?, ?it/s]"
      ]
     },
     "metadata": {},
     "output_type": "display_data"
    },
    {
     "name": "stdout",
     "output_type": "stream",
     "text": [
      "{'eval_loss': 2.228410243988037, 'eval_bleu': 14.2882, 'eval_gen_len': 23.818, 'eval_runtime': 46.314, 'eval_samples_per_second': 18.979, 'eval_steps_per_second': 1.188, 'epoch': 17.59}\n"
     ]
    },
    {
     "data": {
      "application/vnd.jupyter.widget-view+json": {
       "model_id": "c58925f33d6c4901a704ac46b1a3ba9e",
       "version_major": 2,
       "version_minor": 0
      },
      "text/plain": [
       "  0%|          | 0/55 [00:00<?, ?it/s]"
      ]
     },
     "metadata": {},
     "output_type": "display_data"
    },
    {
     "name": "stdout",
     "output_type": "stream",
     "text": [
      "{'eval_loss': 2.2246854305267334, 'eval_bleu': 14.5164, 'eval_gen_len': 23.6655, 'eval_runtime': 45.4724, 'eval_samples_per_second': 19.33, 'eval_steps_per_second': 1.21, 'epoch': 17.6}\n"
     ]
    },
    {
     "data": {
      "application/vnd.jupyter.widget-view+json": {
       "model_id": "f22b70a4889a46738d3da0969a3f7da5",
       "version_major": 2,
       "version_minor": 0
      },
      "text/plain": [
       "  0%|          | 0/55 [00:00<?, ?it/s]"
      ]
     },
     "metadata": {},
     "output_type": "display_data"
    },
    {
     "name": "stdout",
     "output_type": "stream",
     "text": [
      "{'eval_loss': 2.2302513122558594, 'eval_bleu': 14.4832, 'eval_gen_len': 23.8726, 'eval_runtime': 48.5606, 'eval_samples_per_second': 18.101, 'eval_steps_per_second': 1.133, 'epoch': 17.61}\n"
     ]
    },
    {
     "data": {
      "application/vnd.jupyter.widget-view+json": {
       "model_id": "c3b84224eafa4c419460067d2a8a1878",
       "version_major": 2,
       "version_minor": 0
      },
      "text/plain": [
       "  0%|          | 0/55 [00:00<?, ?it/s]"
      ]
     },
     "metadata": {},
     "output_type": "display_data"
    },
    {
     "name": "stdout",
     "output_type": "stream",
     "text": [
      "{'eval_loss': 2.2341840267181396, 'eval_bleu': 14.7796, 'eval_gen_len': 23.6951, 'eval_runtime': 45.1628, 'eval_samples_per_second': 19.463, 'eval_steps_per_second': 1.218, 'epoch': 17.63}\n",
      "{'loss': 1.2487, 'grad_norm': 1.1852450370788574, 'learning_rate': 0.00015, 'epoch': 17.64}\n"
     ]
    },
    {
     "data": {
      "application/vnd.jupyter.widget-view+json": {
       "model_id": "da38e95a5b074b039c7477c682629662",
       "version_major": 2,
       "version_minor": 0
      },
      "text/plain": [
       "  0%|          | 0/55 [00:00<?, ?it/s]"
      ]
     },
     "metadata": {},
     "output_type": "display_data"
    },
    {
     "name": "stdout",
     "output_type": "stream",
     "text": [
      "{'eval_loss': 2.2263550758361816, 'eval_bleu': 14.7606, 'eval_gen_len': 23.6564, 'eval_runtime': 44.0969, 'eval_samples_per_second': 19.933, 'eval_steps_per_second': 1.247, 'epoch': 17.64}\n"
     ]
    },
    {
     "data": {
      "application/vnd.jupyter.widget-view+json": {
       "model_id": "776a1bfe002c4e8abd1b673668d46274",
       "version_major": 2,
       "version_minor": 0
      },
      "text/plain": [
       "  0%|          | 0/55 [00:00<?, ?it/s]"
      ]
     },
     "metadata": {},
     "output_type": "display_data"
    },
    {
     "name": "stdout",
     "output_type": "stream",
     "text": [
      "{'eval_loss': 2.226470470428467, 'eval_bleu': 14.3951, 'eval_gen_len': 23.7144, 'eval_runtime': 45.4665, 'eval_samples_per_second': 19.333, 'eval_steps_per_second': 1.21, 'epoch': 17.65}\n"
     ]
    },
    {
     "data": {
      "application/vnd.jupyter.widget-view+json": {
       "model_id": "a3293ef077194ee9a6ce7376277bf945",
       "version_major": 2,
       "version_minor": 0
      },
      "text/plain": [
       "  0%|          | 0/55 [00:00<?, ?it/s]"
      ]
     },
     "metadata": {},
     "output_type": "display_data"
    },
    {
     "name": "stdout",
     "output_type": "stream",
     "text": [
      "{'eval_loss': 2.222407579421997, 'eval_bleu': 14.3196, 'eval_gen_len': 23.6701, 'eval_runtime': 44.331, 'eval_samples_per_second': 19.828, 'eval_steps_per_second': 1.241, 'epoch': 17.67}\n"
     ]
    },
    {
     "data": {
      "application/vnd.jupyter.widget-view+json": {
       "model_id": "fc53f2178c464d209a25010f280f8993",
       "version_major": 2,
       "version_minor": 0
      },
      "text/plain": [
       "  0%|          | 0/55 [00:00<?, ?it/s]"
      ]
     },
     "metadata": {},
     "output_type": "display_data"
    },
    {
     "name": "stdout",
     "output_type": "stream",
     "text": [
      "{'eval_loss': 2.2306787967681885, 'eval_bleu': 14.3071, 'eval_gen_len': 23.7156, 'eval_runtime': 44.1136, 'eval_samples_per_second': 19.926, 'eval_steps_per_second': 1.247, 'epoch': 17.68}\n"
     ]
    },
    {
     "data": {
      "application/vnd.jupyter.widget-view+json": {
       "model_id": "25b667a5de5b48fdb3e41bfc17317b8e",
       "version_major": 2,
       "version_minor": 0
      },
      "text/plain": [
       "  0%|          | 0/55 [00:00<?, ?it/s]"
      ]
     },
     "metadata": {},
     "output_type": "display_data"
    },
    {
     "name": "stdout",
     "output_type": "stream",
     "text": [
      "{'eval_loss': 2.2225794792175293, 'eval_bleu': 14.1526, 'eval_gen_len': 23.6667, 'eval_runtime': 45.253, 'eval_samples_per_second': 19.424, 'eval_steps_per_second': 1.215, 'epoch': 17.7}\n",
      "{'loss': 1.2524, 'grad_norm': 1.1693742275238037, 'learning_rate': 0.00014666666666666666, 'epoch': 17.71}\n"
     ]
    },
    {
     "data": {
      "application/vnd.jupyter.widget-view+json": {
       "model_id": "8bc0f71896934df1a64a57ff8d9e41fc",
       "version_major": 2,
       "version_minor": 0
      },
      "text/plain": [
       "  0%|          | 0/55 [00:00<?, ?it/s]"
      ]
     },
     "metadata": {},
     "output_type": "display_data"
    },
    {
     "name": "stdout",
     "output_type": "stream",
     "text": [
      "{'eval_loss': 2.224231004714966, 'eval_bleu': 14.2534, 'eval_gen_len': 23.7656, 'eval_runtime': 43.8276, 'eval_samples_per_second': 20.056, 'eval_steps_per_second': 1.255, 'epoch': 17.71}\n"
     ]
    },
    {
     "data": {
      "application/vnd.jupyter.widget-view+json": {
       "model_id": "e332b74628cf49d687df43addee58dcf",
       "version_major": 2,
       "version_minor": 0
      },
      "text/plain": [
       "  0%|          | 0/55 [00:00<?, ?it/s]"
      ]
     },
     "metadata": {},
     "output_type": "display_data"
    },
    {
     "name": "stdout",
     "output_type": "stream",
     "text": [
      "{'eval_loss': 2.2189738750457764, 'eval_bleu': 14.3743, 'eval_gen_len': 23.8328, 'eval_runtime': 45.1044, 'eval_samples_per_second': 19.488, 'eval_steps_per_second': 1.219, 'epoch': 17.72}\n"
     ]
    },
    {
     "data": {
      "application/vnd.jupyter.widget-view+json": {
       "model_id": "174c5e06e0334e1d97cc5a922177b4ea",
       "version_major": 2,
       "version_minor": 0
      },
      "text/plain": [
       "  0%|          | 0/55 [00:00<?, ?it/s]"
      ]
     },
     "metadata": {},
     "output_type": "display_data"
    },
    {
     "name": "stdout",
     "output_type": "stream",
     "text": [
      "{'eval_loss': 2.2177650928497314, 'eval_bleu': 14.2859, 'eval_gen_len': 23.7691, 'eval_runtime': 44.5599, 'eval_samples_per_second': 19.726, 'eval_steps_per_second': 1.234, 'epoch': 17.74}\n"
     ]
    },
    {
     "data": {
      "application/vnd.jupyter.widget-view+json": {
       "model_id": "2a493922102a49bbbebf7d97f540c2bd",
       "version_major": 2,
       "version_minor": 0
      },
      "text/plain": [
       "  0%|          | 0/55 [00:00<?, ?it/s]"
      ]
     },
     "metadata": {},
     "output_type": "display_data"
    },
    {
     "name": "stdout",
     "output_type": "stream",
     "text": [
      "{'eval_loss': 2.2260279655456543, 'eval_bleu': 14.0659, 'eval_gen_len': 23.7554, 'eval_runtime': 46.73, 'eval_samples_per_second': 18.81, 'eval_steps_per_second': 1.177, 'epoch': 17.75}\n"
     ]
    },
    {
     "data": {
      "application/vnd.jupyter.widget-view+json": {
       "model_id": "f9072955defc4e0ba05c9a888673ad56",
       "version_major": 2,
       "version_minor": 0
      },
      "text/plain": [
       "  0%|          | 0/55 [00:00<?, ?it/s]"
      ]
     },
     "metadata": {},
     "output_type": "display_data"
    },
    {
     "name": "stdout",
     "output_type": "stream",
     "text": [
      "{'eval_loss': 2.2191500663757324, 'eval_bleu': 14.4578, 'eval_gen_len': 23.6746, 'eval_runtime': 44.9459, 'eval_samples_per_second': 19.557, 'eval_steps_per_second': 1.224, 'epoch': 17.77}\n",
      "{'loss': 1.2556, 'grad_norm': 1.428727388381958, 'learning_rate': 0.00014333333333333334, 'epoch': 17.78}\n"
     ]
    },
    {
     "data": {
      "application/vnd.jupyter.widget-view+json": {
       "model_id": "2c85db78c7834c18870f0f89121cb540",
       "version_major": 2,
       "version_minor": 0
      },
      "text/plain": [
       "  0%|          | 0/55 [00:00<?, ?it/s]"
      ]
     },
     "metadata": {},
     "output_type": "display_data"
    },
    {
     "name": "stdout",
     "output_type": "stream",
     "text": [
      "{'eval_loss': 2.216284990310669, 'eval_bleu': 14.5531, 'eval_gen_len': 23.7372, 'eval_runtime': 43.9576, 'eval_samples_per_second': 19.997, 'eval_steps_per_second': 1.251, 'epoch': 17.78}\n"
     ]
    },
    {
     "data": {
      "application/vnd.jupyter.widget-view+json": {
       "model_id": "3b961d06534e4a30bc09e281477c928d",
       "version_major": 2,
       "version_minor": 0
      },
      "text/plain": [
       "  0%|          | 0/55 [00:00<?, ?it/s]"
      ]
     },
     "metadata": {},
     "output_type": "display_data"
    },
    {
     "name": "stdout",
     "output_type": "stream",
     "text": [
      "{'eval_loss': 2.21897029876709, 'eval_bleu': 14.2326, 'eval_gen_len': 23.6837, 'eval_runtime': 45.1957, 'eval_samples_per_second': 19.449, 'eval_steps_per_second': 1.217, 'epoch': 17.79}\n"
     ]
    },
    {
     "data": {
      "application/vnd.jupyter.widget-view+json": {
       "model_id": "c074bbe65be840fd9b967924b450e696",
       "version_major": 2,
       "version_minor": 0
      },
      "text/plain": [
       "  0%|          | 0/55 [00:00<?, ?it/s]"
      ]
     },
     "metadata": {},
     "output_type": "display_data"
    },
    {
     "name": "stdout",
     "output_type": "stream",
     "text": [
      "{'eval_loss': 2.220299482345581, 'eval_bleu': 14.262, 'eval_gen_len': 23.719, 'eval_runtime': 45.991, 'eval_samples_per_second': 19.112, 'eval_steps_per_second': 1.196, 'epoch': 17.81}\n"
     ]
    },
    {
     "data": {
      "application/vnd.jupyter.widget-view+json": {
       "model_id": "7db82bf8edb940a0b8601d9ab73a5bed",
       "version_major": 2,
       "version_minor": 0
      },
      "text/plain": [
       "  0%|          | 0/55 [00:00<?, ?it/s]"
      ]
     },
     "metadata": {},
     "output_type": "display_data"
    },
    {
     "name": "stdout",
     "output_type": "stream",
     "text": [
      "{'eval_loss': 2.2184865474700928, 'eval_bleu': 13.9602, 'eval_gen_len': 23.8032, 'eval_runtime': 45.4578, 'eval_samples_per_second': 19.337, 'eval_steps_per_second': 1.21, 'epoch': 17.82}\n"
     ]
    },
    {
     "data": {
      "application/vnd.jupyter.widget-view+json": {
       "model_id": "2115ab90d7d4439f9a8afbd90acf0db5",
       "version_major": 2,
       "version_minor": 0
      },
      "text/plain": [
       "  0%|          | 0/55 [00:00<?, ?it/s]"
      ]
     },
     "metadata": {},
     "output_type": "display_data"
    },
    {
     "name": "stdout",
     "output_type": "stream",
     "text": [
      "{'eval_loss': 2.216989517211914, 'eval_bleu': 14.2484, 'eval_gen_len': 23.7691, 'eval_runtime': 44.3517, 'eval_samples_per_second': 19.819, 'eval_steps_per_second': 1.24, 'epoch': 17.83}\n",
      "{'loss': 1.2584, 'grad_norm': 1.511881947517395, 'learning_rate': 0.00014000000000000001, 'epoch': 17.85}\n"
     ]
    },
    {
     "data": {
      "application/vnd.jupyter.widget-view+json": {
       "model_id": "ddb8933efe744fc48c26766557f6388c",
       "version_major": 2,
       "version_minor": 0
      },
      "text/plain": [
       "  0%|          | 0/55 [00:00<?, ?it/s]"
      ]
     },
     "metadata": {},
     "output_type": "display_data"
    },
    {
     "name": "stdout",
     "output_type": "stream",
     "text": [
      "{'eval_loss': 2.2163426876068115, 'eval_bleu': 14.0544, 'eval_gen_len': 23.7838, 'eval_runtime': 44.7282, 'eval_samples_per_second': 19.652, 'eval_steps_per_second': 1.23, 'epoch': 17.85}\n"
     ]
    },
    {
     "data": {
      "application/vnd.jupyter.widget-view+json": {
       "model_id": "ac3c84c2c1ee4db299c491dd2fcab073",
       "version_major": 2,
       "version_minor": 0
      },
      "text/plain": [
       "  0%|          | 0/55 [00:00<?, ?it/s]"
      ]
     },
     "metadata": {},
     "output_type": "display_data"
    },
    {
     "name": "stdout",
     "output_type": "stream",
     "text": [
      "{'eval_loss': 2.223398208618164, 'eval_bleu': 14.1813, 'eval_gen_len': 23.6644, 'eval_runtime': 44.2828, 'eval_samples_per_second': 19.85, 'eval_steps_per_second': 1.242, 'epoch': 17.86}\n"
     ]
    },
    {
     "data": {
      "application/vnd.jupyter.widget-view+json": {
       "model_id": "c5e6058a0da84f64a68f63803839da8e",
       "version_major": 2,
       "version_minor": 0
      },
      "text/plain": [
       "  0%|          | 0/55 [00:00<?, ?it/s]"
      ]
     },
     "metadata": {},
     "output_type": "display_data"
    },
    {
     "name": "stdout",
     "output_type": "stream",
     "text": [
      "{'eval_loss': 2.215461015701294, 'eval_bleu': 14.0397, 'eval_gen_len': 23.7838, 'eval_runtime': 44.5808, 'eval_samples_per_second': 19.717, 'eval_steps_per_second': 1.234, 'epoch': 17.88}\n"
     ]
    },
    {
     "data": {
      "application/vnd.jupyter.widget-view+json": {
       "model_id": "268fb5f7c1454bedad8c5b893dec33a0",
       "version_major": 2,
       "version_minor": 0
      },
      "text/plain": [
       "  0%|          | 0/55 [00:00<?, ?it/s]"
      ]
     },
     "metadata": {},
     "output_type": "display_data"
    },
    {
     "name": "stdout",
     "output_type": "stream",
     "text": [
      "{'eval_loss': 2.2106082439422607, 'eval_bleu': 13.9899, 'eval_gen_len': 23.7247, 'eval_runtime': 44.7549, 'eval_samples_per_second': 19.64, 'eval_steps_per_second': 1.229, 'epoch': 17.89}\n"
     ]
    },
    {
     "data": {
      "application/vnd.jupyter.widget-view+json": {
       "model_id": "3b4c9736f62c4ffe83cb18016ed8a544",
       "version_major": 2,
       "version_minor": 0
      },
      "text/plain": [
       "  0%|          | 0/55 [00:00<?, ?it/s]"
      ]
     },
     "metadata": {},
     "output_type": "display_data"
    },
    {
     "name": "stdout",
     "output_type": "stream",
     "text": [
      "{'eval_loss': 2.2130191326141357, 'eval_bleu': 13.8273, 'eval_gen_len': 23.6451, 'eval_runtime': 45.1642, 'eval_samples_per_second': 19.462, 'eval_steps_per_second': 1.218, 'epoch': 17.9}\n",
      "{'loss': 1.2618, 'grad_norm': 1.4178467988967896, 'learning_rate': 0.00013666666666666666, 'epoch': 17.92}\n"
     ]
    },
    {
     "data": {
      "application/vnd.jupyter.widget-view+json": {
       "model_id": "6fca208af68c408f8b0792c65e5f62d1",
       "version_major": 2,
       "version_minor": 0
      },
      "text/plain": [
       "  0%|          | 0/55 [00:00<?, ?it/s]"
      ]
     },
     "metadata": {},
     "output_type": "display_data"
    },
    {
     "name": "stdout",
     "output_type": "stream",
     "text": [
      "{'eval_loss': 2.214895725250244, 'eval_bleu': 13.9493, 'eval_gen_len': 23.6746, 'eval_runtime': 45.1366, 'eval_samples_per_second': 19.474, 'eval_steps_per_second': 1.219, 'epoch': 17.92}\n"
     ]
    },
    {
     "data": {
      "application/vnd.jupyter.widget-view+json": {
       "model_id": "f1049f037003448ea0d2b77fb5aed78f",
       "version_major": 2,
       "version_minor": 0
      },
      "text/plain": [
       "  0%|          | 0/55 [00:00<?, ?it/s]"
      ]
     },
     "metadata": {},
     "output_type": "display_data"
    },
    {
     "name": "stdout",
     "output_type": "stream",
     "text": [
      "{'eval_loss': 2.218660831451416, 'eval_bleu': 14.1837, 'eval_gen_len': 23.6371, 'eval_runtime': 45.556, 'eval_samples_per_second': 19.295, 'eval_steps_per_second': 1.207, 'epoch': 17.93}\n"
     ]
    },
    {
     "data": {
      "application/vnd.jupyter.widget-view+json": {
       "model_id": "f4cb970bdf8a418e8b2e6ea2ebc074b3",
       "version_major": 2,
       "version_minor": 0
      },
      "text/plain": [
       "  0%|          | 0/55 [00:00<?, ?it/s]"
      ]
     },
     "metadata": {},
     "output_type": "display_data"
    },
    {
     "name": "stdout",
     "output_type": "stream",
     "text": [
      "{'eval_loss': 2.208360195159912, 'eval_bleu': 14.1416, 'eval_gen_len': 23.7247, 'eval_runtime': 44.3901, 'eval_samples_per_second': 19.802, 'eval_steps_per_second': 1.239, 'epoch': 17.95}\n"
     ]
    },
    {
     "data": {
      "application/vnd.jupyter.widget-view+json": {
       "model_id": "825d1f97b73a489b810bbaba84bfdb52",
       "version_major": 2,
       "version_minor": 0
      },
      "text/plain": [
       "  0%|          | 0/55 [00:00<?, ?it/s]"
      ]
     },
     "metadata": {},
     "output_type": "display_data"
    },
    {
     "name": "stdout",
     "output_type": "stream",
     "text": [
      "{'eval_loss': 2.2136380672454834, 'eval_bleu': 14.0953, 'eval_gen_len': 23.6359, 'eval_runtime': 44.4097, 'eval_samples_per_second': 19.793, 'eval_steps_per_second': 1.238, 'epoch': 17.96}\n"
     ]
    },
    {
     "data": {
      "application/vnd.jupyter.widget-view+json": {
       "model_id": "065cdd4228b84b01a595ef5bd03155e9",
       "version_major": 2,
       "version_minor": 0
      },
      "text/plain": [
       "  0%|          | 0/55 [00:00<?, ?it/s]"
      ]
     },
     "metadata": {},
     "output_type": "display_data"
    },
    {
     "name": "stdout",
     "output_type": "stream",
     "text": [
      "{'eval_loss': 2.2191691398620605, 'eval_bleu': 14.1091, 'eval_gen_len': 23.653, 'eval_runtime': 45.1157, 'eval_samples_per_second': 19.483, 'eval_steps_per_second': 1.219, 'epoch': 17.97}\n",
      "{'loss': 1.2583, 'grad_norm': 1.1641099452972412, 'learning_rate': 0.00013333333333333334, 'epoch': 17.99}\n"
     ]
    },
    {
     "data": {
      "application/vnd.jupyter.widget-view+json": {
       "model_id": "17b26d198eda48b49696412642ef7704",
       "version_major": 2,
       "version_minor": 0
      },
      "text/plain": [
       "  0%|          | 0/55 [00:00<?, ?it/s]"
      ]
     },
     "metadata": {},
     "output_type": "display_data"
    },
    {
     "name": "stdout",
     "output_type": "stream",
     "text": [
      "{'eval_loss': 2.214920997619629, 'eval_bleu': 14.1921, 'eval_gen_len': 23.7076, 'eval_runtime': 44.58, 'eval_samples_per_second': 19.717, 'eval_steps_per_second': 1.234, 'epoch': 17.99}\n"
     ]
    },
    {
     "data": {
      "application/vnd.jupyter.widget-view+json": {
       "model_id": "8a1e42e864934128af25e3f5520960f7",
       "version_major": 2,
       "version_minor": 0
      },
      "text/plain": [
       "  0%|          | 0/55 [00:00<?, ?it/s]"
      ]
     },
     "metadata": {},
     "output_type": "display_data"
    },
    {
     "name": "stdout",
     "output_type": "stream",
     "text": [
      "{'eval_loss': 2.2214319705963135, 'eval_bleu': 13.9183, 'eval_gen_len': 23.6359, 'eval_runtime': 44.077, 'eval_samples_per_second': 19.942, 'eval_steps_per_second': 1.248, 'epoch': 18.0}\n"
     ]
    },
    {
     "data": {
      "application/vnd.jupyter.widget-view+json": {
       "model_id": "112ba59dbf4b4c569b30b6cd5822d589",
       "version_major": 2,
       "version_minor": 0
      },
      "text/plain": [
       "  0%|          | 0/55 [00:00<?, ?it/s]"
      ]
     },
     "metadata": {},
     "output_type": "display_data"
    },
    {
     "name": "stdout",
     "output_type": "stream",
     "text": [
      "{'eval_loss': 2.253998279571533, 'eval_bleu': 14.1722, 'eval_gen_len': 23.6337, 'eval_runtime': 44.38, 'eval_samples_per_second': 19.806, 'eval_steps_per_second': 1.239, 'epoch': 18.01}\n"
     ]
    },
    {
     "data": {
      "application/vnd.jupyter.widget-view+json": {
       "model_id": "664cd8ce883547c0bb699b4a9791b8ca",
       "version_major": 2,
       "version_minor": 0
      },
      "text/plain": [
       "  0%|          | 0/55 [00:00<?, ?it/s]"
      ]
     },
     "metadata": {},
     "output_type": "display_data"
    },
    {
     "name": "stdout",
     "output_type": "stream",
     "text": [
      "{'eval_loss': 2.2476110458374023, 'eval_bleu': 13.9864, 'eval_gen_len': 23.5813, 'eval_runtime': 44.1384, 'eval_samples_per_second': 19.915, 'eval_steps_per_second': 1.246, 'epoch': 18.03}\n"
     ]
    },
    {
     "data": {
      "application/vnd.jupyter.widget-view+json": {
       "model_id": "0da8796191ea4e6899ad9597e2d120bd",
       "version_major": 2,
       "version_minor": 0
      },
      "text/plain": [
       "  0%|          | 0/55 [00:00<?, ?it/s]"
      ]
     },
     "metadata": {},
     "output_type": "display_data"
    },
    {
     "name": "stdout",
     "output_type": "stream",
     "text": [
      "{'eval_loss': 2.249213933944702, 'eval_bleu': 13.9572, 'eval_gen_len': 23.6303, 'eval_runtime': 45.5599, 'eval_samples_per_second': 19.293, 'eval_steps_per_second': 1.207, 'epoch': 18.04}\n",
      "{'loss': 1.1968, 'grad_norm': 1.4215691089630127, 'learning_rate': 0.00013000000000000002, 'epoch': 18.06}\n"
     ]
    },
    {
     "data": {
      "application/vnd.jupyter.widget-view+json": {
       "model_id": "a0ad5979474b44d5b0962b91455766bc",
       "version_major": 2,
       "version_minor": 0
      },
      "text/plain": [
       "  0%|          | 0/55 [00:00<?, ?it/s]"
      ]
     },
     "metadata": {},
     "output_type": "display_data"
    },
    {
     "name": "stdout",
     "output_type": "stream",
     "text": [
      "{'eval_loss': 2.258521556854248, 'eval_bleu': 14.2571, 'eval_gen_len': 23.6928, 'eval_runtime': 44.1672, 'eval_samples_per_second': 19.902, 'eval_steps_per_second': 1.245, 'epoch': 18.06}\n"
     ]
    },
    {
     "data": {
      "application/vnd.jupyter.widget-view+json": {
       "model_id": "7ae123eb337d452284d1e7d81a592abe",
       "version_major": 2,
       "version_minor": 0
      },
      "text/plain": [
       "  0%|          | 0/55 [00:00<?, ?it/s]"
      ]
     },
     "metadata": {},
     "output_type": "display_data"
    },
    {
     "name": "stdout",
     "output_type": "stream",
     "text": [
      "{'eval_loss': 2.254714250564575, 'eval_bleu': 14.4301, 'eval_gen_len': 23.7554, 'eval_runtime': 44.4808, 'eval_samples_per_second': 19.761, 'eval_steps_per_second': 1.236, 'epoch': 18.07}\n"
     ]
    },
    {
     "data": {
      "application/vnd.jupyter.widget-view+json": {
       "model_id": "aa798c2406464972a675e4c604ab502b",
       "version_major": 2,
       "version_minor": 0
      },
      "text/plain": [
       "  0%|          | 0/55 [00:00<?, ?it/s]"
      ]
     },
     "metadata": {},
     "output_type": "display_data"
    },
    {
     "name": "stdout",
     "output_type": "stream",
     "text": [
      "{'eval_loss': 2.2612180709838867, 'eval_bleu': 14.2942, 'eval_gen_len': 23.7622, 'eval_runtime': 44.0169, 'eval_samples_per_second': 19.97, 'eval_steps_per_second': 1.25, 'epoch': 18.08}\n"
     ]
    },
    {
     "data": {
      "application/vnd.jupyter.widget-view+json": {
       "model_id": "55398d1da2a3402abdc3dcb330899ce4",
       "version_major": 2,
       "version_minor": 0
      },
      "text/plain": [
       "  0%|          | 0/55 [00:00<?, ?it/s]"
      ]
     },
     "metadata": {},
     "output_type": "display_data"
    },
    {
     "name": "stdout",
     "output_type": "stream",
     "text": [
      "{'eval_loss': 2.253037452697754, 'eval_bleu': 14.1703, 'eval_gen_len': 23.7179, 'eval_runtime': 44.8055, 'eval_samples_per_second': 19.618, 'eval_steps_per_second': 1.228, 'epoch': 18.1}\n"
     ]
    },
    {
     "data": {
      "application/vnd.jupyter.widget-view+json": {
       "model_id": "35c0a0a1167a4528b1ca6ac107c472e1",
       "version_major": 2,
       "version_minor": 0
      },
      "text/plain": [
       "  0%|          | 0/55 [00:00<?, ?it/s]"
      ]
     },
     "metadata": {},
     "output_type": "display_data"
    },
    {
     "name": "stdout",
     "output_type": "stream",
     "text": [
      "{'eval_loss': 2.247699022293091, 'eval_bleu': 14.2467, 'eval_gen_len': 23.6871, 'eval_runtime': 47.5483, 'eval_samples_per_second': 18.486, 'eval_steps_per_second': 1.157, 'epoch': 18.11}\n",
      "{'loss': 1.1863, 'grad_norm': 1.6991242170333862, 'learning_rate': 0.0001266666666666667, 'epoch': 18.13}\n"
     ]
    },
    {
     "data": {
      "application/vnd.jupyter.widget-view+json": {
       "model_id": "24d97eafd3a34ed49f442480bcc7820d",
       "version_major": 2,
       "version_minor": 0
      },
      "text/plain": [
       "  0%|          | 0/55 [00:00<?, ?it/s]"
      ]
     },
     "metadata": {},
     "output_type": "display_data"
    },
    {
     "name": "stdout",
     "output_type": "stream",
     "text": [
      "{'eval_loss': 2.2447152137756348, 'eval_bleu': 14.1531, 'eval_gen_len': 23.6974, 'eval_runtime': 43.283, 'eval_samples_per_second': 20.308, 'eval_steps_per_second': 1.271, 'epoch': 18.13}\n"
     ]
    },
    {
     "data": {
      "application/vnd.jupyter.widget-view+json": {
       "model_id": "d9b2eb2162bb4b26ab3e8dcf9b54ee08",
       "version_major": 2,
       "version_minor": 0
      },
      "text/plain": [
       "  0%|          | 0/55 [00:00<?, ?it/s]"
      ]
     },
     "metadata": {},
     "output_type": "display_data"
    },
    {
     "name": "stdout",
     "output_type": "stream",
     "text": [
      "{'eval_loss': 2.249227523803711, 'eval_bleu': 14.0511, 'eval_gen_len': 23.7531, 'eval_runtime': 44.5468, 'eval_samples_per_second': 19.732, 'eval_steps_per_second': 1.235, 'epoch': 18.14}\n"
     ]
    },
    {
     "data": {
      "application/vnd.jupyter.widget-view+json": {
       "model_id": "bb59cdadc50b429e8aa84b6cbe440402",
       "version_major": 2,
       "version_minor": 0
      },
      "text/plain": [
       "  0%|          | 0/55 [00:00<?, ?it/s]"
      ]
     },
     "metadata": {},
     "output_type": "display_data"
    },
    {
     "name": "stdout",
     "output_type": "stream",
     "text": [
      "{'eval_loss': 2.254709243774414, 'eval_bleu': 14.2067, 'eval_gen_len': 23.6883, 'eval_runtime': 63.1847, 'eval_samples_per_second': 13.912, 'eval_steps_per_second': 0.87, 'epoch': 18.15}\n"
     ]
    },
    {
     "data": {
      "application/vnd.jupyter.widget-view+json": {
       "model_id": "37c7b0446aa042a78d3f8b4c621122eb",
       "version_major": 2,
       "version_minor": 0
      },
      "text/plain": [
       "  0%|          | 0/55 [00:00<?, ?it/s]"
      ]
     },
     "metadata": {},
     "output_type": "display_data"
    },
    {
     "name": "stdout",
     "output_type": "stream",
     "text": [
      "{'eval_loss': 2.2444980144500732, 'eval_bleu': 13.9912, 'eval_gen_len': 23.7008, 'eval_runtime': 62.6963, 'eval_samples_per_second': 14.02, 'eval_steps_per_second': 0.877, 'epoch': 18.17}\n"
     ]
    },
    {
     "data": {
      "application/vnd.jupyter.widget-view+json": {
       "model_id": "f8a325e55d104bfdb90aad813ad1fc61",
       "version_major": 2,
       "version_minor": 0
      },
      "text/plain": [
       "  0%|          | 0/55 [00:00<?, ?it/s]"
      ]
     },
     "metadata": {},
     "output_type": "display_data"
    },
    {
     "name": "stdout",
     "output_type": "stream",
     "text": [
      "{'eval_loss': 2.2464373111724854, 'eval_bleu': 14.3137, 'eval_gen_len': 23.6519, 'eval_runtime': 46.4246, 'eval_samples_per_second': 18.934, 'eval_steps_per_second': 1.185, 'epoch': 18.18}\n",
      "{'loss': 1.1904, 'grad_norm': 1.2735389471054077, 'learning_rate': 0.00012333333333333334, 'epoch': 18.19}\n"
     ]
    },
    {
     "data": {
      "application/vnd.jupyter.widget-view+json": {
       "model_id": "d63538acbed64b0eae8dd9f9c697878d",
       "version_major": 2,
       "version_minor": 0
      },
      "text/plain": [
       "  0%|          | 0/55 [00:00<?, ?it/s]"
      ]
     },
     "metadata": {},
     "output_type": "display_data"
    },
    {
     "name": "stdout",
     "output_type": "stream",
     "text": [
      "{'eval_loss': 2.248575210571289, 'eval_bleu': 13.9961, 'eval_gen_len': 23.7088, 'eval_runtime': 48.0983, 'eval_samples_per_second': 18.275, 'eval_steps_per_second': 1.143, 'epoch': 18.19}\n"
     ]
    },
    {
     "data": {
      "application/vnd.jupyter.widget-view+json": {
       "model_id": "0f195c16a600432686757a1192dd0220",
       "version_major": 2,
       "version_minor": 0
      },
      "text/plain": [
       "  0%|          | 0/55 [00:00<?, ?it/s]"
      ]
     },
     "metadata": {},
     "output_type": "display_data"
    },
    {
     "name": "stdout",
     "output_type": "stream",
     "text": [
      "{'eval_loss': 2.2530229091644287, 'eval_bleu': 14.2158, 'eval_gen_len': 23.7827, 'eval_runtime': 64.2285, 'eval_samples_per_second': 13.686, 'eval_steps_per_second': 0.856, 'epoch': 18.21}\n"
     ]
    },
    {
     "data": {
      "application/vnd.jupyter.widget-view+json": {
       "model_id": "5cabf4b4f21a45d292fc9fe4b61dc59d",
       "version_major": 2,
       "version_minor": 0
      },
      "text/plain": [
       "  0%|          | 0/55 [00:00<?, ?it/s]"
      ]
     },
     "metadata": {},
     "output_type": "display_data"
    },
    {
     "name": "stdout",
     "output_type": "stream",
     "text": [
      "{'eval_loss': 2.241499662399292, 'eval_bleu': 14.035, 'eval_gen_len': 23.7156, 'eval_runtime': 45.5529, 'eval_samples_per_second': 19.296, 'eval_steps_per_second': 1.207, 'epoch': 18.22}\n"
     ]
    },
    {
     "data": {
      "application/vnd.jupyter.widget-view+json": {
       "model_id": "71d49559504c4b4f898cdec1d922b17a",
       "version_major": 2,
       "version_minor": 0
      },
      "text/plain": [
       "  0%|          | 0/55 [00:00<?, ?it/s]"
      ]
     },
     "metadata": {},
     "output_type": "display_data"
    },
    {
     "name": "stdout",
     "output_type": "stream",
     "text": [
      "{'eval_loss': 2.250624656677246, 'eval_bleu': 14.0131, 'eval_gen_len': 23.7418, 'eval_runtime': 44.8497, 'eval_samples_per_second': 19.599, 'eval_steps_per_second': 1.226, 'epoch': 18.24}\n"
     ]
    },
    {
     "data": {
      "application/vnd.jupyter.widget-view+json": {
       "model_id": "045abfc204e8434cb97e0324aaebddf5",
       "version_major": 2,
       "version_minor": 0
      },
      "text/plain": [
       "  0%|          | 0/55 [00:00<?, ?it/s]"
      ]
     },
     "metadata": {},
     "output_type": "display_data"
    },
    {
     "name": "stdout",
     "output_type": "stream",
     "text": [
      "{'eval_loss': 2.255042552947998, 'eval_bleu': 14.114, 'eval_gen_len': 23.7827, 'eval_runtime': 45.092, 'eval_samples_per_second': 19.493, 'eval_steps_per_second': 1.22, 'epoch': 18.25}\n",
      "{'loss': 1.1929, 'grad_norm': 1.0733956098556519, 'learning_rate': 0.00012, 'epoch': 18.26}\n"
     ]
    },
    {
     "data": {
      "application/vnd.jupyter.widget-view+json": {
       "model_id": "95b99afddc374ca497311cd43ce31e5f",
       "version_major": 2,
       "version_minor": 0
      },
      "text/plain": [
       "  0%|          | 0/55 [00:00<?, ?it/s]"
      ]
     },
     "metadata": {},
     "output_type": "display_data"
    },
    {
     "name": "stdout",
     "output_type": "stream",
     "text": [
      "{'eval_loss': 2.253075122833252, 'eval_bleu': 14.2143, 'eval_gen_len': 23.7327, 'eval_runtime': 44.3812, 'eval_samples_per_second': 19.806, 'eval_steps_per_second': 1.239, 'epoch': 18.26}\n"
     ]
    },
    {
     "data": {
      "application/vnd.jupyter.widget-view+json": {
       "model_id": "a5c4c0e1fa1f4ed9b33efef6fd1f957d",
       "version_major": 2,
       "version_minor": 0
      },
      "text/plain": [
       "  0%|          | 0/55 [00:00<?, ?it/s]"
      ]
     },
     "metadata": {},
     "output_type": "display_data"
    },
    {
     "name": "stdout",
     "output_type": "stream",
     "text": [
      "{'eval_loss': 2.2490906715393066, 'eval_bleu': 14.107, 'eval_gen_len': 23.6758, 'eval_runtime': 45.191, 'eval_samples_per_second': 19.451, 'eval_steps_per_second': 1.217, 'epoch': 18.28}\n"
     ]
    },
    {
     "data": {
      "application/vnd.jupyter.widget-view+json": {
       "model_id": "2c5dff052cae4ab992ba63e6c9b42ca5",
       "version_major": 2,
       "version_minor": 0
      },
      "text/plain": [
       "  0%|          | 0/55 [00:00<?, ?it/s]"
      ]
     },
     "metadata": {},
     "output_type": "display_data"
    },
    {
     "name": "stdout",
     "output_type": "stream",
     "text": [
      "{'eval_loss': 2.2573413848876953, 'eval_bleu': 14.1136, 'eval_gen_len': 23.7031, 'eval_runtime': 44.9881, 'eval_samples_per_second': 19.539, 'eval_steps_per_second': 1.223, 'epoch': 18.29}\n"
     ]
    },
    {
     "data": {
      "application/vnd.jupyter.widget-view+json": {
       "model_id": "7fe8267f675f443a950d4f8c0055f35a",
       "version_major": 2,
       "version_minor": 0
      },
      "text/plain": [
       "  0%|          | 0/55 [00:00<?, ?it/s]"
      ]
     },
     "metadata": {},
     "output_type": "display_data"
    },
    {
     "name": "stdout",
     "output_type": "stream",
     "text": [
      "{'eval_loss': 2.2477173805236816, 'eval_bleu': 13.9459, 'eval_gen_len': 23.7122, 'eval_runtime': 46.0183, 'eval_samples_per_second': 19.101, 'eval_steps_per_second': 1.195, 'epoch': 18.31}\n"
     ]
    },
    {
     "data": {
      "application/vnd.jupyter.widget-view+json": {
       "model_id": "08571f30e34041e58854736098962545",
       "version_major": 2,
       "version_minor": 0
      },
      "text/plain": [
       "  0%|          | 0/55 [00:00<?, ?it/s]"
      ]
     },
     "metadata": {},
     "output_type": "display_data"
    },
    {
     "name": "stdout",
     "output_type": "stream",
     "text": [
      "{'eval_loss': 2.2514946460723877, 'eval_bleu': 14.0546, 'eval_gen_len': 23.7122, 'eval_runtime': 45.6428, 'eval_samples_per_second': 19.258, 'eval_steps_per_second': 1.205, 'epoch': 18.32}\n",
      "{'loss': 1.1952, 'grad_norm': 1.4116040468215942, 'learning_rate': 0.00011666666666666667, 'epoch': 18.33}\n"
     ]
    },
    {
     "data": {
      "application/vnd.jupyter.widget-view+json": {
       "model_id": "3ab0ec0f559a4f0c912753c6e49895ac",
       "version_major": 2,
       "version_minor": 0
      },
      "text/plain": [
       "  0%|          | 0/55 [00:00<?, ?it/s]"
      ]
     },
     "metadata": {},
     "output_type": "display_data"
    },
    {
     "name": "stdout",
     "output_type": "stream",
     "text": [
      "{'eval_loss': 2.2487592697143555, 'eval_bleu': 14.0621, 'eval_gen_len': 23.7031, 'eval_runtime': 44.6033, 'eval_samples_per_second': 19.707, 'eval_steps_per_second': 1.233, 'epoch': 18.33}\n"
     ]
    },
    {
     "data": {
      "application/vnd.jupyter.widget-view+json": {
       "model_id": "d7717a4bd7804f42ae27ea042956f1cd",
       "version_major": 2,
       "version_minor": 0
      },
      "text/plain": [
       "  0%|          | 0/55 [00:00<?, ?it/s]"
      ]
     },
     "metadata": {},
     "output_type": "display_data"
    },
    {
     "name": "stdout",
     "output_type": "stream",
     "text": [
      "{'eval_loss': 2.2424092292785645, 'eval_bleu': 14.1197, 'eval_gen_len': 23.6906, 'eval_runtime': 45.5483, 'eval_samples_per_second': 19.298, 'eval_steps_per_second': 1.208, 'epoch': 18.35}\n"
     ]
    },
    {
     "data": {
      "application/vnd.jupyter.widget-view+json": {
       "model_id": "ec3723390a1b482e931a344e390441b0",
       "version_major": 2,
       "version_minor": 0
      },
      "text/plain": [
       "  0%|          | 0/55 [00:00<?, ?it/s]"
      ]
     },
     "metadata": {},
     "output_type": "display_data"
    },
    {
     "name": "stdout",
     "output_type": "stream",
     "text": [
      "{'eval_loss': 2.249208688735962, 'eval_bleu': 14.1282, 'eval_gen_len': 23.7873, 'eval_runtime': 44.4083, 'eval_samples_per_second': 19.794, 'eval_steps_per_second': 1.239, 'epoch': 18.36}\n"
     ]
    },
    {
     "data": {
      "application/vnd.jupyter.widget-view+json": {
       "model_id": "3ab6784cc0a64797bc19d8d7c2f6eb8e",
       "version_major": 2,
       "version_minor": 0
      },
      "text/plain": [
       "  0%|          | 0/55 [00:00<?, ?it/s]"
      ]
     },
     "metadata": {},
     "output_type": "display_data"
    },
    {
     "name": "stdout",
     "output_type": "stream",
     "text": [
      "{'eval_loss': 2.2490038871765137, 'eval_bleu': 14.0789, 'eval_gen_len': 23.6928, 'eval_runtime': 46.0201, 'eval_samples_per_second': 19.1, 'eval_steps_per_second': 1.195, 'epoch': 18.37}\n"
     ]
    },
    {
     "data": {
      "application/vnd.jupyter.widget-view+json": {
       "model_id": "944c4f13ca3d4a53bc8a374b8d7cd062",
       "version_major": 2,
       "version_minor": 0
      },
      "text/plain": [
       "  0%|          | 0/55 [00:00<?, ?it/s]"
      ]
     },
     "metadata": {},
     "output_type": "display_data"
    },
    {
     "name": "stdout",
     "output_type": "stream",
     "text": [
      "{'eval_loss': 2.246311902999878, 'eval_bleu': 14.2138, 'eval_gen_len': 23.6883, 'eval_runtime': 47.3778, 'eval_samples_per_second': 18.553, 'eval_steps_per_second': 1.161, 'epoch': 18.39}\n",
      "{'loss': 1.2025, 'grad_norm': 1.196626901626587, 'learning_rate': 0.00011333333333333333, 'epoch': 18.4}\n"
     ]
    },
    {
     "data": {
      "application/vnd.jupyter.widget-view+json": {
       "model_id": "a7cf6a1e5f314dad94c3d783badc8032",
       "version_major": 2,
       "version_minor": 0
      },
      "text/plain": [
       "  0%|          | 0/55 [00:00<?, ?it/s]"
      ]
     },
     "metadata": {},
     "output_type": "display_data"
    },
    {
     "name": "stdout",
     "output_type": "stream",
     "text": [
      "{'eval_loss': 2.244964838027954, 'eval_bleu': 14.17, 'eval_gen_len': 23.6974, 'eval_runtime': 45.784, 'eval_samples_per_second': 19.199, 'eval_steps_per_second': 1.201, 'epoch': 18.4}\n"
     ]
    },
    {
     "data": {
      "application/vnd.jupyter.widget-view+json": {
       "model_id": "626c89a787e1434e8651ab76f1c7aaa6",
       "version_major": 2,
       "version_minor": 0
      },
      "text/plain": [
       "  0%|          | 0/55 [00:00<?, ?it/s]"
      ]
     },
     "metadata": {},
     "output_type": "display_data"
    },
    {
     "name": "stdout",
     "output_type": "stream",
     "text": [
      "{'eval_loss': 2.246518611907959, 'eval_bleu': 13.8754, 'eval_gen_len': 23.6359, 'eval_runtime': 42.778, 'eval_samples_per_second': 20.548, 'eval_steps_per_second': 1.286, 'epoch': 18.42}\n"
     ]
    },
    {
     "data": {
      "application/vnd.jupyter.widget-view+json": {
       "model_id": "ab8c4bf51bcc49a18d1c84f795dc8314",
       "version_major": 2,
       "version_minor": 0
      },
      "text/plain": [
       "  0%|          | 0/55 [00:00<?, ?it/s]"
      ]
     },
     "metadata": {},
     "output_type": "display_data"
    },
    {
     "name": "stdout",
     "output_type": "stream",
     "text": [
      "{'eval_loss': 2.2472620010375977, 'eval_bleu': 13.7758, 'eval_gen_len': 23.6405, 'eval_runtime': 45.2198, 'eval_samples_per_second': 19.438, 'eval_steps_per_second': 1.216, 'epoch': 18.43}\n"
     ]
    },
    {
     "data": {
      "application/vnd.jupyter.widget-view+json": {
       "model_id": "c087fb8b723345a58a1da7f32ade72f2",
       "version_major": 2,
       "version_minor": 0
      },
      "text/plain": [
       "  0%|          | 0/55 [00:00<?, ?it/s]"
      ]
     },
     "metadata": {},
     "output_type": "display_data"
    },
    {
     "name": "stdout",
     "output_type": "stream",
     "text": [
      "{'eval_loss': 2.2414371967315674, 'eval_bleu': 13.6428, 'eval_gen_len': 23.7361, 'eval_runtime': 44.6234, 'eval_samples_per_second': 19.698, 'eval_steps_per_second': 1.233, 'epoch': 18.44}\n"
     ]
    },
    {
     "data": {
      "application/vnd.jupyter.widget-view+json": {
       "model_id": "af762119b98f404681301c14715b7524",
       "version_major": 2,
       "version_minor": 0
      },
      "text/plain": [
       "  0%|          | 0/55 [00:00<?, ?it/s]"
      ]
     },
     "metadata": {},
     "output_type": "display_data"
    },
    {
     "name": "stdout",
     "output_type": "stream",
     "text": [
      "{'eval_loss': 2.238471746444702, 'eval_bleu': 14.3091, 'eval_gen_len': 23.6883, 'eval_runtime': 43.5281, 'eval_samples_per_second': 20.194, 'eval_steps_per_second': 1.264, 'epoch': 18.46}\n",
      "{'loss': 1.2061, 'grad_norm': 1.1709805727005005, 'learning_rate': 0.00011, 'epoch': 18.47}\n"
     ]
    },
    {
     "data": {
      "application/vnd.jupyter.widget-view+json": {
       "model_id": "b17d16480d4d4dd780c98f40a2ff8968",
       "version_major": 2,
       "version_minor": 0
      },
      "text/plain": [
       "  0%|          | 0/55 [00:00<?, ?it/s]"
      ]
     },
     "metadata": {},
     "output_type": "display_data"
    },
    {
     "name": "stdout",
     "output_type": "stream",
     "text": [
      "{'eval_loss': 2.252227544784546, 'eval_bleu': 13.9901, 'eval_gen_len': 23.6735, 'eval_runtime': 44.948, 'eval_samples_per_second': 19.556, 'eval_steps_per_second': 1.224, 'epoch': 18.47}\n"
     ]
    },
    {
     "data": {
      "application/vnd.jupyter.widget-view+json": {
       "model_id": "eb6302bb12f94d06a6c8e5177bdaf110",
       "version_major": 2,
       "version_minor": 0
      },
      "text/plain": [
       "  0%|          | 0/55 [00:00<?, ?it/s]"
      ]
     },
     "metadata": {},
     "output_type": "display_data"
    },
    {
     "name": "stdout",
     "output_type": "stream",
     "text": [
      "{'eval_loss': 2.235236644744873, 'eval_bleu': 14.0731, 'eval_gen_len': 23.7258, 'eval_runtime': 61.4506, 'eval_samples_per_second': 14.304, 'eval_steps_per_second': 0.895, 'epoch': 18.48}\n"
     ]
    },
    {
     "data": {
      "application/vnd.jupyter.widget-view+json": {
       "model_id": "39ef456ec58e45a4987fb414d73a3a7c",
       "version_major": 2,
       "version_minor": 0
      },
      "text/plain": [
       "  0%|          | 0/55 [00:00<?, ?it/s]"
      ]
     },
     "metadata": {},
     "output_type": "display_data"
    },
    {
     "name": "stdout",
     "output_type": "stream",
     "text": [
      "{'eval_loss': 2.241962194442749, 'eval_bleu': 14.3645, 'eval_gen_len': 23.6507, 'eval_runtime': 46.8916, 'eval_samples_per_second': 18.745, 'eval_steps_per_second': 1.173, 'epoch': 18.5}\n"
     ]
    },
    {
     "data": {
      "application/vnd.jupyter.widget-view+json": {
       "model_id": "725018ff22c448a1a395b3c9c334b3e7",
       "version_major": 2,
       "version_minor": 0
      },
      "text/plain": [
       "  0%|          | 0/55 [00:00<?, ?it/s]"
      ]
     },
     "metadata": {},
     "output_type": "display_data"
    },
    {
     "name": "stdout",
     "output_type": "stream",
     "text": [
      "{'eval_loss': 2.246370553970337, 'eval_bleu': 14.3793, 'eval_gen_len': 23.7008, 'eval_runtime': 46.8281, 'eval_samples_per_second': 18.771, 'eval_steps_per_second': 1.175, 'epoch': 18.51}\n"
     ]
    },
    {
     "data": {
      "application/vnd.jupyter.widget-view+json": {
       "model_id": "00aacb21cef24574b0195f54da73a0b6",
       "version_major": 2,
       "version_minor": 0
      },
      "text/plain": [
       "  0%|          | 0/55 [00:00<?, ?it/s]"
      ]
     },
     "metadata": {},
     "output_type": "display_data"
    },
    {
     "name": "stdout",
     "output_type": "stream",
     "text": [
      "{'eval_loss': 2.239994764328003, 'eval_bleu': 14.2981, 'eval_gen_len': 23.6462, 'eval_runtime': 46.1918, 'eval_samples_per_second': 19.029, 'eval_steps_per_second': 1.191, 'epoch': 18.53}\n",
      "{'loss': 1.201, 'grad_norm': 1.2027157545089722, 'learning_rate': 0.00010666666666666668, 'epoch': 18.54}\n"
     ]
    },
    {
     "data": {
      "application/vnd.jupyter.widget-view+json": {
       "model_id": "25bb1eed7e1048549de4aa6066ccdd75",
       "version_major": 2,
       "version_minor": 0
      },
      "text/plain": [
       "  0%|          | 0/55 [00:00<?, ?it/s]"
      ]
     },
     "metadata": {},
     "output_type": "display_data"
    },
    {
     "name": "stdout",
     "output_type": "stream",
     "text": [
      "{'eval_loss': 2.2527964115142822, 'eval_bleu': 14.1672, 'eval_gen_len': 23.5927, 'eval_runtime': 79.8725, 'eval_samples_per_second': 11.005, 'eval_steps_per_second': 0.689, 'epoch': 18.54}\n"
     ]
    },
    {
     "data": {
      "application/vnd.jupyter.widget-view+json": {
       "model_id": "e17312004ef34dec9a58e3234e8441b6",
       "version_major": 2,
       "version_minor": 0
      },
      "text/plain": [
       "  0%|          | 0/55 [00:00<?, ?it/s]"
      ]
     },
     "metadata": {},
     "output_type": "display_data"
    },
    {
     "name": "stdout",
     "output_type": "stream",
     "text": [
      "{'eval_loss': 2.242995023727417, 'eval_bleu': 14.2443, 'eval_gen_len': 23.6894, 'eval_runtime': 66.1652, 'eval_samples_per_second': 13.285, 'eval_steps_per_second': 0.831, 'epoch': 18.55}\n"
     ]
    },
    {
     "data": {
      "application/vnd.jupyter.widget-view+json": {
       "model_id": "0f1814c58d3e4b908d487d375233e173",
       "version_major": 2,
       "version_minor": 0
      },
      "text/plain": [
       "  0%|          | 0/55 [00:00<?, ?it/s]"
      ]
     },
     "metadata": {},
     "output_type": "display_data"
    },
    {
     "name": "stdout",
     "output_type": "stream",
     "text": [
      "{'eval_loss': 2.2460782527923584, 'eval_bleu': 14.2867, 'eval_gen_len': 23.6769, 'eval_runtime': 47.4019, 'eval_samples_per_second': 18.544, 'eval_steps_per_second': 1.16, 'epoch': 18.57}\n"
     ]
    },
    {
     "data": {
      "application/vnd.jupyter.widget-view+json": {
       "model_id": "f96413b8e8b140e7a0ba17b12c1dc57c",
       "version_major": 2,
       "version_minor": 0
      },
      "text/plain": [
       "  0%|          | 0/55 [00:00<?, ?it/s]"
      ]
     },
     "metadata": {},
     "output_type": "display_data"
    },
    {
     "name": "stdout",
     "output_type": "stream",
     "text": [
      "{'eval_loss': 2.2365550994873047, 'eval_bleu': 14.0928, 'eval_gen_len': 23.8043, 'eval_runtime': 45.8179, 'eval_samples_per_second': 19.185, 'eval_steps_per_second': 1.2, 'epoch': 18.58}\n"
     ]
    },
    {
     "data": {
      "application/vnd.jupyter.widget-view+json": {
       "model_id": "fb17e548408f4f969d35ed59cd2c2c0d",
       "version_major": 2,
       "version_minor": 0
      },
      "text/plain": [
       "  0%|          | 0/55 [00:00<?, ?it/s]"
      ]
     },
     "metadata": {},
     "output_type": "display_data"
    },
    {
     "name": "stdout",
     "output_type": "stream",
     "text": [
      "{'eval_loss': 2.2375214099884033, 'eval_bleu': 14.288, 'eval_gen_len': 23.6576, 'eval_runtime': 55.17, 'eval_samples_per_second': 15.933, 'eval_steps_per_second': 0.997, 'epoch': 18.6}\n",
      "{'loss': 1.2114, 'grad_norm': 1.6142157316207886, 'learning_rate': 0.00010333333333333333, 'epoch': 18.61}\n"
     ]
    },
    {
     "data": {
      "application/vnd.jupyter.widget-view+json": {
       "model_id": "10fdadc9914b474eace92689e436fbad",
       "version_major": 2,
       "version_minor": 0
      },
      "text/plain": [
       "  0%|          | 0/55 [00:00<?, ?it/s]"
      ]
     },
     "metadata": {},
     "output_type": "display_data"
    },
    {
     "name": "stdout",
     "output_type": "stream",
     "text": [
      "{'eval_loss': 2.2402524948120117, 'eval_bleu': 14.0478, 'eval_gen_len': 23.8043, 'eval_runtime': 45.9717, 'eval_samples_per_second': 19.12, 'eval_steps_per_second': 1.196, 'epoch': 18.61}\n"
     ]
    },
    {
     "data": {
      "application/vnd.jupyter.widget-view+json": {
       "model_id": "fec5d9b9245d418aadfce73dc78ad5f7",
       "version_major": 2,
       "version_minor": 0
      },
      "text/plain": [
       "  0%|          | 0/55 [00:00<?, ?it/s]"
      ]
     },
     "metadata": {},
     "output_type": "display_data"
    },
    {
     "name": "stdout",
     "output_type": "stream",
     "text": [
      "{'eval_loss': 2.2318670749664307, 'eval_bleu': 14.1906, 'eval_gen_len': 23.6644, 'eval_runtime': 46.7853, 'eval_samples_per_second': 18.788, 'eval_steps_per_second': 1.176, 'epoch': 18.62}\n"
     ]
    },
    {
     "data": {
      "application/vnd.jupyter.widget-view+json": {
       "model_id": "66123f5d08294bc6b244b28fa1325ddd",
       "version_major": 2,
       "version_minor": 0
      },
      "text/plain": [
       "  0%|          | 0/55 [00:00<?, ?it/s]"
      ]
     },
     "metadata": {},
     "output_type": "display_data"
    },
    {
     "name": "stdout",
     "output_type": "stream",
     "text": [
      "{'eval_loss': 2.2450313568115234, 'eval_bleu': 14.3538, 'eval_gen_len': 23.727, 'eval_runtime': 45.884, 'eval_samples_per_second': 19.157, 'eval_steps_per_second': 1.199, 'epoch': 18.64}\n"
     ]
    },
    {
     "data": {
      "application/vnd.jupyter.widget-view+json": {
       "model_id": "26cae7d473d442fd87e97e8300c381f3",
       "version_major": 2,
       "version_minor": 0
      },
      "text/plain": [
       "  0%|          | 0/55 [00:00<?, ?it/s]"
      ]
     },
     "metadata": {},
     "output_type": "display_data"
    },
    {
     "name": "stdout",
     "output_type": "stream",
     "text": [
      "{'eval_loss': 2.2346079349517822, 'eval_bleu': 14.0432, 'eval_gen_len': 23.7486, 'eval_runtime': 45.8951, 'eval_samples_per_second': 19.152, 'eval_steps_per_second': 1.198, 'epoch': 18.65}\n"
     ]
    },
    {
     "data": {
      "application/vnd.jupyter.widget-view+json": {
       "model_id": "b4a41f1b42c241b5acc9f0e2c9f5c111",
       "version_major": 2,
       "version_minor": 0
      },
      "text/plain": [
       "  0%|          | 0/55 [00:00<?, ?it/s]"
      ]
     },
     "metadata": {},
     "output_type": "display_data"
    },
    {
     "name": "stdout",
     "output_type": "stream",
     "text": [
      "{'eval_loss': 2.2363266944885254, 'eval_bleu': 14.3219, 'eval_gen_len': 23.7622, 'eval_runtime': 46.0278, 'eval_samples_per_second': 19.097, 'eval_steps_per_second': 1.195, 'epoch': 18.66}\n",
      "{'loss': 1.2129, 'grad_norm': 1.3821173906326294, 'learning_rate': 0.0001, 'epoch': 18.68}\n"
     ]
    },
    {
     "data": {
      "application/vnd.jupyter.widget-view+json": {
       "model_id": "4752531193e843f783ee8bfdb72994ee",
       "version_major": 2,
       "version_minor": 0
      },
      "text/plain": [
       "  0%|          | 0/55 [00:00<?, ?it/s]"
      ]
     },
     "metadata": {},
     "output_type": "display_data"
    },
    {
     "name": "stdout",
     "output_type": "stream",
     "text": [
      "{'eval_loss': 2.2386302947998047, 'eval_bleu': 14.324, 'eval_gen_len': 23.719, 'eval_runtime': 56.5549, 'eval_samples_per_second': 15.542, 'eval_steps_per_second': 0.973, 'epoch': 18.68}\n"
     ]
    },
    {
     "data": {
      "application/vnd.jupyter.widget-view+json": {
       "model_id": "dd2a885c8d9b41928d0473acecefcd0c",
       "version_major": 2,
       "version_minor": 0
      },
      "text/plain": [
       "  0%|          | 0/55 [00:00<?, ?it/s]"
      ]
     },
     "metadata": {},
     "output_type": "display_data"
    },
    {
     "name": "stdout",
     "output_type": "stream",
     "text": [
      "{'eval_loss': 2.2397706508636475, 'eval_bleu': 14.3939, 'eval_gen_len': 23.7975, 'eval_runtime': 101.2186, 'eval_samples_per_second': 8.684, 'eval_steps_per_second': 0.543, 'epoch': 18.69}\n"
     ]
    },
    {
     "data": {
      "application/vnd.jupyter.widget-view+json": {
       "model_id": "0504e85db8d241ec81281431621f194d",
       "version_major": 2,
       "version_minor": 0
      },
      "text/plain": [
       "  0%|          | 0/55 [00:00<?, ?it/s]"
      ]
     },
     "metadata": {},
     "output_type": "display_data"
    },
    {
     "name": "stdout",
     "output_type": "stream",
     "text": [
      "{'eval_loss': 2.2393696308135986, 'eval_bleu': 14.1521, 'eval_gen_len': 23.7076, 'eval_runtime': 49.3548, 'eval_samples_per_second': 17.81, 'eval_steps_per_second': 1.114, 'epoch': 18.71}\n"
     ]
    },
    {
     "data": {
      "application/vnd.jupyter.widget-view+json": {
       "model_id": "526cae50528a44a0927fbddb47c3fae9",
       "version_major": 2,
       "version_minor": 0
      },
      "text/plain": [
       "  0%|          | 0/55 [00:00<?, ?it/s]"
      ]
     },
     "metadata": {},
     "output_type": "display_data"
    },
    {
     "name": "stdout",
     "output_type": "stream",
     "text": [
      "{'eval_loss': 2.2448201179504395, 'eval_bleu': 14.3649, 'eval_gen_len': 23.7793, 'eval_runtime': 46.1251, 'eval_samples_per_second': 19.057, 'eval_steps_per_second': 1.192, 'epoch': 18.72}\n"
     ]
    },
    {
     "data": {
      "application/vnd.jupyter.widget-view+json": {
       "model_id": "0e62cc0236b241beb7691b3a0ace5a41",
       "version_major": 2,
       "version_minor": 0
      },
      "text/plain": [
       "  0%|          | 0/55 [00:00<?, ?it/s]"
      ]
     },
     "metadata": {},
     "output_type": "display_data"
    },
    {
     "name": "stdout",
     "output_type": "stream",
     "text": [
      "{'eval_loss': 2.2452473640441895, 'eval_bleu': 14.2385, 'eval_gen_len': 23.6712, 'eval_runtime': 61.5899, 'eval_samples_per_second': 14.272, 'eval_steps_per_second': 0.893, 'epoch': 18.73}\n",
      "{'loss': 1.2086, 'grad_norm': 1.3792614936828613, 'learning_rate': 9.666666666666667e-05, 'epoch': 18.75}\n"
     ]
    },
    {
     "data": {
      "application/vnd.jupyter.widget-view+json": {
       "model_id": "b655eeebbf604d42b300b568ce6c555d",
       "version_major": 2,
       "version_minor": 0
      },
      "text/plain": [
       "  0%|          | 0/55 [00:00<?, ?it/s]"
      ]
     },
     "metadata": {},
     "output_type": "display_data"
    },
    {
     "name": "stdout",
     "output_type": "stream",
     "text": [
      "{'eval_loss': 2.2410945892333984, 'eval_bleu': 14.2158, 'eval_gen_len': 23.7099, 'eval_runtime': 46.715, 'eval_samples_per_second': 18.816, 'eval_steps_per_second': 1.177, 'epoch': 18.75}\n"
     ]
    },
    {
     "data": {
      "application/vnd.jupyter.widget-view+json": {
       "model_id": "9e3243e632364a9fb169366cde6d12c6",
       "version_major": 2,
       "version_minor": 0
      },
      "text/plain": [
       "  0%|          | 0/55 [00:00<?, ?it/s]"
      ]
     },
     "metadata": {},
     "output_type": "display_data"
    },
    {
     "name": "stdout",
     "output_type": "stream",
     "text": [
      "{'eval_loss': 2.2349770069122314, 'eval_bleu': 14.2364, 'eval_gen_len': 23.6655, 'eval_runtime': 88.5072, 'eval_samples_per_second': 9.931, 'eval_steps_per_second': 0.621, 'epoch': 18.76}\n"
     ]
    },
    {
     "data": {
      "application/vnd.jupyter.widget-view+json": {
       "model_id": "8a14651cee7b48d0ab7c4439deec681d",
       "version_major": 2,
       "version_minor": 0
      },
      "text/plain": [
       "  0%|          | 0/55 [00:00<?, ?it/s]"
      ]
     },
     "metadata": {},
     "output_type": "display_data"
    },
    {
     "name": "stdout",
     "output_type": "stream",
     "text": [
      "{'eval_loss': 2.2431282997131348, 'eval_bleu': 14.3102, 'eval_gen_len': 23.7122, 'eval_runtime': 45.4642, 'eval_samples_per_second': 19.334, 'eval_steps_per_second': 1.21, 'epoch': 18.78}\n"
     ]
    },
    {
     "data": {
      "application/vnd.jupyter.widget-view+json": {
       "model_id": "9469e3b97f154b07ac636cc6f6ae491e",
       "version_major": 2,
       "version_minor": 0
      },
      "text/plain": [
       "  0%|          | 0/55 [00:00<?, ?it/s]"
      ]
     },
     "metadata": {},
     "output_type": "display_data"
    },
    {
     "name": "stdout",
     "output_type": "stream",
     "text": [
      "{'eval_loss': 2.2343904972076416, 'eval_bleu': 14.3618, 'eval_gen_len': 23.7361, 'eval_runtime': 80.1331, 'eval_samples_per_second': 10.969, 'eval_steps_per_second': 0.686, 'epoch': 18.79}\n"
     ]
    },
    {
     "data": {
      "application/vnd.jupyter.widget-view+json": {
       "model_id": "69d788dbda8a4ab2a0fe0d3881f6b6be",
       "version_major": 2,
       "version_minor": 0
      },
      "text/plain": [
       "  0%|          | 0/55 [00:00<?, ?it/s]"
      ]
     },
     "metadata": {},
     "output_type": "display_data"
    },
    {
     "name": "stdout",
     "output_type": "stream",
     "text": [
      "{'eval_loss': 2.2387425899505615, 'eval_bleu': 14.087, 'eval_gen_len': 23.8146, 'eval_runtime': 51.4092, 'eval_samples_per_second': 17.098, 'eval_steps_per_second': 1.07, 'epoch': 18.8}\n",
      "{'loss': 1.2158, 'grad_norm': 1.1863722801208496, 'learning_rate': 9.333333333333334e-05, 'epoch': 18.82}\n"
     ]
    },
    {
     "data": {
      "application/vnd.jupyter.widget-view+json": {
       "model_id": "12d81d51eacc4bc1b26fcae157943be2",
       "version_major": 2,
       "version_minor": 0
      },
      "text/plain": [
       "  0%|          | 0/55 [00:00<?, ?it/s]"
      ]
     },
     "metadata": {},
     "output_type": "display_data"
    },
    {
     "name": "stdout",
     "output_type": "stream",
     "text": [
      "{'eval_loss': 2.2401223182678223, 'eval_bleu': 14.1549, 'eval_gen_len': 23.7327, 'eval_runtime': 47.417, 'eval_samples_per_second': 18.538, 'eval_steps_per_second': 1.16, 'epoch': 18.82}\n"
     ]
    },
    {
     "data": {
      "application/vnd.jupyter.widget-view+json": {
       "model_id": "effb80b3056b487b97dddeeeb3084593",
       "version_major": 2,
       "version_minor": 0
      },
      "text/plain": [
       "  0%|          | 0/55 [00:00<?, ?it/s]"
      ]
     },
     "metadata": {},
     "output_type": "display_data"
    },
    {
     "name": "stdout",
     "output_type": "stream",
     "text": [
      "{'eval_loss': 2.2286264896392822, 'eval_bleu': 13.9692, 'eval_gen_len': 23.653, 'eval_runtime': 46.553, 'eval_samples_per_second': 18.882, 'eval_steps_per_second': 1.181, 'epoch': 18.83}\n"
     ]
    },
    {
     "data": {
      "application/vnd.jupyter.widget-view+json": {
       "model_id": "e81c4e02b2ac4aea875321f67ae3b11c",
       "version_major": 2,
       "version_minor": 0
      },
      "text/plain": [
       "  0%|          | 0/55 [00:00<?, ?it/s]"
      ]
     },
     "metadata": {},
     "output_type": "display_data"
    },
    {
     "name": "stdout",
     "output_type": "stream",
     "text": [
      "{'eval_loss': 2.2365047931671143, 'eval_bleu': 14.1483, 'eval_gen_len': 23.6633, 'eval_runtime': 45.2309, 'eval_samples_per_second': 19.434, 'eval_steps_per_second': 1.216, 'epoch': 18.84}\n"
     ]
    },
    {
     "data": {
      "application/vnd.jupyter.widget-view+json": {
       "model_id": "eb7f24387f2747809532dad79a6dfe87",
       "version_major": 2,
       "version_minor": 0
      },
      "text/plain": [
       "  0%|          | 0/55 [00:00<?, ?it/s]"
      ]
     },
     "metadata": {},
     "output_type": "display_data"
    },
    {
     "name": "stdout",
     "output_type": "stream",
     "text": [
      "{'eval_loss': 2.233577013015747, 'eval_bleu': 14.1498, 'eval_gen_len': 23.7645, 'eval_runtime': 60.372, 'eval_samples_per_second': 14.56, 'eval_steps_per_second': 0.911, 'epoch': 18.86}\n"
     ]
    },
    {
     "data": {
      "application/vnd.jupyter.widget-view+json": {
       "model_id": "670eb0c29962460a87869a729332491d",
       "version_major": 2,
       "version_minor": 0
      },
      "text/plain": [
       "  0%|          | 0/55 [00:00<?, ?it/s]"
      ]
     },
     "metadata": {},
     "output_type": "display_data"
    },
    {
     "name": "stdout",
     "output_type": "stream",
     "text": [
      "{'eval_loss': 2.2364842891693115, 'eval_bleu': 13.9642, 'eval_gen_len': 23.7838, 'eval_runtime': 84.5657, 'eval_samples_per_second': 10.394, 'eval_steps_per_second': 0.65, 'epoch': 18.87}\n",
      "{'loss': 1.2252, 'grad_norm': 1.4050716161727905, 'learning_rate': 8.999999999999999e-05, 'epoch': 18.89}\n"
     ]
    },
    {
     "data": {
      "application/vnd.jupyter.widget-view+json": {
       "model_id": "4e14e5963d7f44a195d04a5a745992ac",
       "version_major": 2,
       "version_minor": 0
      },
      "text/plain": [
       "  0%|          | 0/55 [00:00<?, ?it/s]"
      ]
     },
     "metadata": {},
     "output_type": "display_data"
    },
    {
     "name": "stdout",
     "output_type": "stream",
     "text": [
      "{'eval_loss': 2.2372853755950928, 'eval_bleu': 14.4484, 'eval_gen_len': 23.6359, 'eval_runtime': 45.8411, 'eval_samples_per_second': 19.175, 'eval_steps_per_second': 1.2, 'epoch': 18.89}\n"
     ]
    },
    {
     "data": {
      "application/vnd.jupyter.widget-view+json": {
       "model_id": "fcd3d9fffb5b43779e74f2ffeb604105",
       "version_major": 2,
       "version_minor": 0
      },
      "text/plain": [
       "  0%|          | 0/55 [00:00<?, ?it/s]"
      ]
     },
     "metadata": {},
     "output_type": "display_data"
    },
    {
     "name": "stdout",
     "output_type": "stream",
     "text": [
      "{'eval_loss': 2.227689266204834, 'eval_bleu': 14.2331, 'eval_gen_len': 23.694, 'eval_runtime': 51.4983, 'eval_samples_per_second': 17.069, 'eval_steps_per_second': 1.068, 'epoch': 18.9}\n"
     ]
    },
    {
     "data": {
      "application/vnd.jupyter.widget-view+json": {
       "model_id": "117e9ecfb198444f8b91ad31f6a3f5ba",
       "version_major": 2,
       "version_minor": 0
      },
      "text/plain": [
       "  0%|          | 0/55 [00:00<?, ?it/s]"
      ]
     },
     "metadata": {},
     "output_type": "display_data"
    },
    {
     "name": "stdout",
     "output_type": "stream",
     "text": [
      "{'eval_loss': 2.237928867340088, 'eval_bleu': 14.1791, 'eval_gen_len': 23.6849, 'eval_runtime': 46.3575, 'eval_samples_per_second': 18.961, 'eval_steps_per_second': 1.186, 'epoch': 18.91}\n"
     ]
    },
    {
     "data": {
      "application/vnd.jupyter.widget-view+json": {
       "model_id": "ac25217ca3f54dd790447e05a19f8893",
       "version_major": 2,
       "version_minor": 0
      },
      "text/plain": [
       "  0%|          | 0/55 [00:00<?, ?it/s]"
      ]
     },
     "metadata": {},
     "output_type": "display_data"
    },
    {
     "name": "stdout",
     "output_type": "stream",
     "text": [
      "{'eval_loss': 2.2328357696533203, 'eval_bleu': 14.3136, 'eval_gen_len': 23.678, 'eval_runtime': 45.7606, 'eval_samples_per_second': 19.209, 'eval_steps_per_second': 1.202, 'epoch': 18.93}\n"
     ]
    },
    {
     "data": {
      "application/vnd.jupyter.widget-view+json": {
       "model_id": "e3243896f9804823a30dce4aa1347f95",
       "version_major": 2,
       "version_minor": 0
      },
      "text/plain": [
       "  0%|          | 0/55 [00:00<?, ?it/s]"
      ]
     },
     "metadata": {},
     "output_type": "display_data"
    },
    {
     "name": "stdout",
     "output_type": "stream",
     "text": [
      "{'eval_loss': 2.235492467880249, 'eval_bleu': 14.2478, 'eval_gen_len': 23.6587, 'eval_runtime': 44.8287, 'eval_samples_per_second': 19.608, 'eval_steps_per_second': 1.227, 'epoch': 18.94}\n",
      "{'loss': 1.2083, 'grad_norm': 1.2751134634017944, 'learning_rate': 8.666666666666667e-05, 'epoch': 18.96}\n"
     ]
    },
    {
     "data": {
      "application/vnd.jupyter.widget-view+json": {
       "model_id": "5c19ab20c10141e39587309c64165ede",
       "version_major": 2,
       "version_minor": 0
      },
      "text/plain": [
       "  0%|          | 0/55 [00:00<?, ?it/s]"
      ]
     },
     "metadata": {},
     "output_type": "display_data"
    },
    {
     "name": "stdout",
     "output_type": "stream",
     "text": [
      "{'eval_loss': 2.235642433166504, 'eval_bleu': 14.2434, 'eval_gen_len': 23.6689, 'eval_runtime': 47.6318, 'eval_samples_per_second': 18.454, 'eval_steps_per_second': 1.155, 'epoch': 18.96}\n"
     ]
    },
    {
     "data": {
      "application/vnd.jupyter.widget-view+json": {
       "model_id": "2ec1990498d445f5bde32f9a1ea93488",
       "version_major": 2,
       "version_minor": 0
      },
      "text/plain": [
       "  0%|          | 0/55 [00:00<?, ?it/s]"
      ]
     },
     "metadata": {},
     "output_type": "display_data"
    },
    {
     "name": "stdout",
     "output_type": "stream",
     "text": [
      "{'eval_loss': 2.2324283123016357, 'eval_bleu': 14.5276, 'eval_gen_len': 23.6496, 'eval_runtime': 66.5079, 'eval_samples_per_second': 13.216, 'eval_steps_per_second': 0.827, 'epoch': 18.97}\n"
     ]
    },
    {
     "data": {
      "application/vnd.jupyter.widget-view+json": {
       "model_id": "fb31120274644a53b8b5b741145b2cb1",
       "version_major": 2,
       "version_minor": 0
      },
      "text/plain": [
       "  0%|          | 0/55 [00:00<?, ?it/s]"
      ]
     },
     "metadata": {},
     "output_type": "display_data"
    },
    {
     "name": "stdout",
     "output_type": "stream",
     "text": [
      "{'eval_loss': 2.2259862422943115, 'eval_bleu': 14.0873, 'eval_gen_len': 23.7679, 'eval_runtime': 94.5685, 'eval_samples_per_second': 9.295, 'eval_steps_per_second': 0.582, 'epoch': 18.98}\n"
     ]
    },
    {
     "data": {
      "application/vnd.jupyter.widget-view+json": {
       "model_id": "4d5e235edfc543f4b5bbcf5c27fdfa0e",
       "version_major": 2,
       "version_minor": 0
      },
      "text/plain": [
       "  0%|          | 0/55 [00:00<?, ?it/s]"
      ]
     },
     "metadata": {},
     "output_type": "display_data"
    },
    {
     "name": "stdout",
     "output_type": "stream",
     "text": [
      "{'eval_loss': 2.2383131980895996, 'eval_bleu': 14.3048, 'eval_gen_len': 23.7304, 'eval_runtime': 86.9015, 'eval_samples_per_second': 10.115, 'eval_steps_per_second': 0.633, 'epoch': 19.0}\n"
     ]
    },
    {
     "data": {
      "application/vnd.jupyter.widget-view+json": {
       "model_id": "436c15f6f76e420cb5c3d56befa60acb",
       "version_major": 2,
       "version_minor": 0
      },
      "text/plain": [
       "  0%|          | 0/55 [00:00<?, ?it/s]"
      ]
     },
     "metadata": {},
     "output_type": "display_data"
    },
    {
     "name": "stdout",
     "output_type": "stream",
     "text": [
      "{'eval_loss': 2.250005006790161, 'eval_bleu': 14.0954, 'eval_gen_len': 23.6667, 'eval_runtime': 58.8827, 'eval_samples_per_second': 14.928, 'eval_steps_per_second': 0.934, 'epoch': 19.01}\n",
      "{'loss': 1.1844, 'grad_norm': 1.1899354457855225, 'learning_rate': 8.333333333333333e-05, 'epoch': 19.02}\n"
     ]
    },
    {
     "data": {
      "application/vnd.jupyter.widget-view+json": {
       "model_id": "1950da92044f49e28f612e2d714f6338",
       "version_major": 2,
       "version_minor": 0
      },
      "text/plain": [
       "  0%|          | 0/55 [00:00<?, ?it/s]"
      ]
     },
     "metadata": {},
     "output_type": "display_data"
    },
    {
     "name": "stdout",
     "output_type": "stream",
     "text": [
      "{'eval_loss': 2.2598352432250977, 'eval_bleu': 14.0518, 'eval_gen_len': 23.6997, 'eval_runtime': 46.2067, 'eval_samples_per_second': 19.023, 'eval_steps_per_second': 1.19, 'epoch': 19.02}\n"
     ]
    },
    {
     "data": {
      "application/vnd.jupyter.widget-view+json": {
       "model_id": "8a18167d995240cf9732ef2069bd924e",
       "version_major": 2,
       "version_minor": 0
      },
      "text/plain": [
       "  0%|          | 0/55 [00:00<?, ?it/s]"
      ]
     },
     "metadata": {},
     "output_type": "display_data"
    },
    {
     "name": "stdout",
     "output_type": "stream",
     "text": [
      "{'eval_loss': 2.2515618801116943, 'eval_bleu': 14.1742, 'eval_gen_len': 23.6621, 'eval_runtime': 46.3801, 'eval_samples_per_second': 18.952, 'eval_steps_per_second': 1.186, 'epoch': 19.04}\n"
     ]
    },
    {
     "data": {
      "application/vnd.jupyter.widget-view+json": {
       "model_id": "f14d2d7344434944916bdc7d0eb0e4ab",
       "version_major": 2,
       "version_minor": 0
      },
      "text/plain": [
       "  0%|          | 0/55 [00:00<?, ?it/s]"
      ]
     },
     "metadata": {},
     "output_type": "display_data"
    },
    {
     "name": "stdout",
     "output_type": "stream",
     "text": [
      "{'eval_loss': 2.2547860145568848, 'eval_bleu': 14.1453, 'eval_gen_len': 23.6553, 'eval_runtime': 46.609, 'eval_samples_per_second': 18.859, 'eval_steps_per_second': 1.18, 'epoch': 19.05}\n"
     ]
    },
    {
     "data": {
      "application/vnd.jupyter.widget-view+json": {
       "model_id": "92d1adb26224482ea7592c5ef8dad52d",
       "version_major": 2,
       "version_minor": 0
      },
      "text/plain": [
       "  0%|          | 0/55 [00:00<?, ?it/s]"
      ]
     },
     "metadata": {},
     "output_type": "display_data"
    },
    {
     "name": "stdout",
     "output_type": "stream",
     "text": [
      "{'eval_loss': 2.257641315460205, 'eval_bleu': 14.49, 'eval_gen_len': 23.6746, 'eval_runtime': 45.9626, 'eval_samples_per_second': 19.124, 'eval_steps_per_second': 1.197, 'epoch': 19.07}\n"
     ]
    },
    {
     "data": {
      "application/vnd.jupyter.widget-view+json": {
       "model_id": "92adda832855413b934c7879e510ec61",
       "version_major": 2,
       "version_minor": 0
      },
      "text/plain": [
       "  0%|          | 0/55 [00:00<?, ?it/s]"
      ]
     },
     "metadata": {},
     "output_type": "display_data"
    },
    {
     "name": "stdout",
     "output_type": "stream",
     "text": [
      "{'eval_loss': 2.2611351013183594, 'eval_bleu': 14.0786, 'eval_gen_len': 23.5984, 'eval_runtime': 46.8029, 'eval_samples_per_second': 18.781, 'eval_steps_per_second': 1.175, 'epoch': 19.08}\n",
      "{'loss': 1.1604, 'grad_norm': 1.458103060722351, 'learning_rate': 8e-05, 'epoch': 19.09}\n"
     ]
    },
    {
     "data": {
      "application/vnd.jupyter.widget-view+json": {
       "model_id": "85639aee653440228dec87bfb2357b9b",
       "version_major": 2,
       "version_minor": 0
      },
      "text/plain": [
       "  0%|          | 0/55 [00:00<?, ?it/s]"
      ]
     },
     "metadata": {},
     "output_type": "display_data"
    },
    {
     "name": "stdout",
     "output_type": "stream",
     "text": [
      "{'eval_loss': 2.2583441734313965, 'eval_bleu': 14.032, 'eval_gen_len': 23.7065, 'eval_runtime': 45.238, 'eval_samples_per_second': 19.431, 'eval_steps_per_second': 1.216, 'epoch': 19.09}\n"
     ]
    },
    {
     "data": {
      "application/vnd.jupyter.widget-view+json": {
       "model_id": "bfc4bc91813c4bbb8443758fb6b4c1cc",
       "version_major": 2,
       "version_minor": 0
      },
      "text/plain": [
       "  0%|          | 0/55 [00:00<?, ?it/s]"
      ]
     },
     "metadata": {},
     "output_type": "display_data"
    },
    {
     "name": "stdout",
     "output_type": "stream",
     "text": [
      "{'eval_loss': 2.257603168487549, 'eval_bleu': 14.1766, 'eval_gen_len': 23.8271, 'eval_runtime': 94.3253, 'eval_samples_per_second': 9.319, 'eval_steps_per_second': 0.583, 'epoch': 19.11}\n"
     ]
    },
    {
     "data": {
      "application/vnd.jupyter.widget-view+json": {
       "model_id": "ef20a68987574eb38e5a8838014dffac",
       "version_major": 2,
       "version_minor": 0
      },
      "text/plain": [
       "  0%|          | 0/55 [00:00<?, ?it/s]"
      ]
     },
     "metadata": {},
     "output_type": "display_data"
    },
    {
     "name": "stdout",
     "output_type": "stream",
     "text": [
      "{'eval_loss': 2.2590105533599854, 'eval_bleu': 13.9786, 'eval_gen_len': 23.6109, 'eval_runtime': 87.8811, 'eval_samples_per_second': 10.002, 'eval_steps_per_second': 0.626, 'epoch': 19.12}\n"
     ]
    },
    {
     "data": {
      "application/vnd.jupyter.widget-view+json": {
       "model_id": "504a95ba3a31499d857b8c32e2cd014d",
       "version_major": 2,
       "version_minor": 0
      },
      "text/plain": [
       "  0%|          | 0/55 [00:00<?, ?it/s]"
      ]
     },
     "metadata": {},
     "output_type": "display_data"
    },
    {
     "name": "stdout",
     "output_type": "stream",
     "text": [
      "{'eval_loss': 2.258543014526367, 'eval_bleu': 13.9919, 'eval_gen_len': 23.653, 'eval_runtime': 88.0272, 'eval_samples_per_second': 9.986, 'eval_steps_per_second': 0.625, 'epoch': 19.14}\n"
     ]
    },
    {
     "data": {
      "application/vnd.jupyter.widget-view+json": {
       "model_id": "cf844813f46d4d1583fbf8e208453daa",
       "version_major": 2,
       "version_minor": 0
      },
      "text/plain": [
       "  0%|          | 0/55 [00:00<?, ?it/s]"
      ]
     },
     "metadata": {},
     "output_type": "display_data"
    },
    {
     "name": "stdout",
     "output_type": "stream",
     "text": [
      "{'eval_loss': 2.259754180908203, 'eval_bleu': 14.3323, 'eval_gen_len': 23.6223, 'eval_runtime': 88.2632, 'eval_samples_per_second': 9.959, 'eval_steps_per_second': 0.623, 'epoch': 19.15}\n",
      "{'loss': 1.1573, 'grad_norm': 1.3543977737426758, 'learning_rate': 7.666666666666667e-05, 'epoch': 19.16}\n"
     ]
    },
    {
     "data": {
      "application/vnd.jupyter.widget-view+json": {
       "model_id": "f27382267ddc4f9db857ac34d68a07f7",
       "version_major": 2,
       "version_minor": 0
      },
      "text/plain": [
       "  0%|          | 0/55 [00:00<?, ?it/s]"
      ]
     },
     "metadata": {},
     "output_type": "display_data"
    },
    {
     "name": "stdout",
     "output_type": "stream",
     "text": [
      "{'eval_loss': 2.260406017303467, 'eval_bleu': 14.0134, 'eval_gen_len': 23.6803, 'eval_runtime': 88.3275, 'eval_samples_per_second': 9.952, 'eval_steps_per_second': 0.623, 'epoch': 19.16}\n"
     ]
    },
    {
     "data": {
      "application/vnd.jupyter.widget-view+json": {
       "model_id": "ba1c8d4d771e4c95804a9063963109a8",
       "version_major": 2,
       "version_minor": 0
      },
      "text/plain": [
       "  0%|          | 0/55 [00:00<?, ?it/s]"
      ]
     },
     "metadata": {},
     "output_type": "display_data"
    },
    {
     "name": "stdout",
     "output_type": "stream",
     "text": [
      "{'eval_loss': 2.264241933822632, 'eval_bleu': 14.2601, 'eval_gen_len': 23.5734, 'eval_runtime': 87.8046, 'eval_samples_per_second': 10.011, 'eval_steps_per_second': 0.626, 'epoch': 19.18}\n"
     ]
    },
    {
     "data": {
      "application/vnd.jupyter.widget-view+json": {
       "model_id": "45c20475f8cc43389e6be4a5fd5afa2a",
       "version_major": 2,
       "version_minor": 0
      },
      "text/plain": [
       "  0%|          | 0/55 [00:00<?, ?it/s]"
      ]
     },
     "metadata": {},
     "output_type": "display_data"
    },
    {
     "name": "stdout",
     "output_type": "stream",
     "text": [
      "{'eval_loss': 2.2591710090637207, 'eval_bleu': 14.2747, 'eval_gen_len': 23.7133, 'eval_runtime': 88.1811, 'eval_samples_per_second': 9.968, 'eval_steps_per_second': 0.624, 'epoch': 19.19}\n"
     ]
    },
    {
     "data": {
      "application/vnd.jupyter.widget-view+json": {
       "model_id": "bdac8e82760948ffb0fb1d7b9f0f8bd4",
       "version_major": 2,
       "version_minor": 0
      },
      "text/plain": [
       "  0%|          | 0/55 [00:00<?, ?it/s]"
      ]
     },
     "metadata": {},
     "output_type": "display_data"
    },
    {
     "name": "stdout",
     "output_type": "stream",
     "text": [
      "{'eval_loss': 2.2659008502960205, 'eval_bleu': 14.1505, 'eval_gen_len': 23.6769, 'eval_runtime': 90.0442, 'eval_samples_per_second': 9.762, 'eval_steps_per_second': 0.611, 'epoch': 19.2}\n"
     ]
    },
    {
     "data": {
      "application/vnd.jupyter.widget-view+json": {
       "model_id": "7087ae58f30647bb8d7025215a10c38e",
       "version_major": 2,
       "version_minor": 0
      },
      "text/plain": [
       "  0%|          | 0/55 [00:00<?, ?it/s]"
      ]
     },
     "metadata": {},
     "output_type": "display_data"
    },
    {
     "name": "stdout",
     "output_type": "stream",
     "text": [
      "{'eval_loss': 2.25958514213562, 'eval_bleu': 13.8503, 'eval_gen_len': 23.6849, 'eval_runtime': 91.7048, 'eval_samples_per_second': 9.585, 'eval_steps_per_second': 0.6, 'epoch': 19.22}\n",
      "{'loss': 1.1603, 'grad_norm': 1.2691768407821655, 'learning_rate': 7.333333333333333e-05, 'epoch': 19.23}\n"
     ]
    },
    {
     "data": {
      "application/vnd.jupyter.widget-view+json": {
       "model_id": "b7d589887a2c4072990279764b154e24",
       "version_major": 2,
       "version_minor": 0
      },
      "text/plain": [
       "  0%|          | 0/55 [00:00<?, ?it/s]"
      ]
     },
     "metadata": {},
     "output_type": "display_data"
    },
    {
     "name": "stdout",
     "output_type": "stream",
     "text": [
      "{'eval_loss': 2.255436658859253, 'eval_bleu': 13.8272, 'eval_gen_len': 23.7383, 'eval_runtime': 93.4078, 'eval_samples_per_second': 9.41, 'eval_steps_per_second': 0.589, 'epoch': 19.23}\n"
     ]
    },
    {
     "data": {
      "application/vnd.jupyter.widget-view+json": {
       "model_id": "c9553cca3b4e4380889bec49341248af",
       "version_major": 2,
       "version_minor": 0
      },
      "text/plain": [
       "  0%|          | 0/55 [00:00<?, ?it/s]"
      ]
     },
     "metadata": {},
     "output_type": "display_data"
    },
    {
     "name": "stdout",
     "output_type": "stream",
     "text": [
      "{'eval_loss': 2.2570297718048096, 'eval_bleu': 14.2394, 'eval_gen_len': 23.6496, 'eval_runtime': 92.084, 'eval_samples_per_second': 9.546, 'eval_steps_per_second': 0.597, 'epoch': 19.25}\n"
     ]
    },
    {
     "data": {
      "application/vnd.jupyter.widget-view+json": {
       "model_id": "ccaab72eae7d4b278ada9d4b0a5eb49e",
       "version_major": 2,
       "version_minor": 0
      },
      "text/plain": [
       "  0%|          | 0/55 [00:00<?, ?it/s]"
      ]
     },
     "metadata": {},
     "output_type": "display_data"
    },
    {
     "name": "stdout",
     "output_type": "stream",
     "text": [
      "{'eval_loss': 2.264996290206909, 'eval_bleu': 13.9535, 'eval_gen_len': 23.6371, 'eval_runtime': 97.3709, 'eval_samples_per_second': 9.027, 'eval_steps_per_second': 0.565, 'epoch': 19.26}\n"
     ]
    },
    {
     "data": {
      "application/vnd.jupyter.widget-view+json": {
       "model_id": "e1d86e257da84bdebe2faf518b9240d1",
       "version_major": 2,
       "version_minor": 0
      },
      "text/plain": [
       "  0%|          | 0/55 [00:00<?, ?it/s]"
      ]
     },
     "metadata": {},
     "output_type": "display_data"
    },
    {
     "name": "stdout",
     "output_type": "stream",
     "text": [
      "{'eval_loss': 2.2589025497436523, 'eval_bleu': 14.0339, 'eval_gen_len': 23.6837, 'eval_runtime': 68.2728, 'eval_samples_per_second': 12.875, 'eval_steps_per_second': 0.806, 'epoch': 19.27}\n"
     ]
    },
    {
     "data": {
      "application/vnd.jupyter.widget-view+json": {
       "model_id": "6661e57017dd4662a8d85fc54e8ea274",
       "version_major": 2,
       "version_minor": 0
      },
      "text/plain": [
       "  0%|          | 0/55 [00:00<?, ?it/s]"
      ]
     },
     "metadata": {},
     "output_type": "display_data"
    },
    {
     "name": "stdout",
     "output_type": "stream",
     "text": [
      "{'eval_loss': 2.264392614364624, 'eval_bleu': 14.3009, 'eval_gen_len': 23.6416, 'eval_runtime': 45.1765, 'eval_samples_per_second': 19.457, 'eval_steps_per_second': 1.217, 'epoch': 19.29}\n",
      "{'loss': 1.1592, 'grad_norm': 1.257137417793274, 'learning_rate': 7.000000000000001e-05, 'epoch': 19.3}\n"
     ]
    },
    {
     "data": {
      "application/vnd.jupyter.widget-view+json": {
       "model_id": "288dad6df6d841e5a29ae0db5b404c84",
       "version_major": 2,
       "version_minor": 0
      },
      "text/plain": [
       "  0%|          | 0/55 [00:00<?, ?it/s]"
      ]
     },
     "metadata": {},
     "output_type": "display_data"
    },
    {
     "name": "stdout",
     "output_type": "stream",
     "text": [
      "{'eval_loss': 2.2603297233581543, 'eval_bleu': 14.1376, 'eval_gen_len': 23.6428, 'eval_runtime': 46.9435, 'eval_samples_per_second': 18.725, 'eval_steps_per_second': 1.172, 'epoch': 19.3}\n"
     ]
    },
    {
     "data": {
      "application/vnd.jupyter.widget-view+json": {
       "model_id": "394c715a74b34fb69a0a04bbe05fb061",
       "version_major": 2,
       "version_minor": 0
      },
      "text/plain": [
       "  0%|          | 0/55 [00:00<?, ?it/s]"
      ]
     },
     "metadata": {},
     "output_type": "display_data"
    },
    {
     "name": "stdout",
     "output_type": "stream",
     "text": [
      "{'eval_loss': 2.2562382221221924, 'eval_bleu': 14.1866, 'eval_gen_len': 23.7793, 'eval_runtime': 44.8874, 'eval_samples_per_second': 19.582, 'eval_steps_per_second': 1.225, 'epoch': 19.32}\n"
     ]
    },
    {
     "data": {
      "application/vnd.jupyter.widget-view+json": {
       "model_id": "1500795e2d3c4ec5af00b792ffe645e2",
       "version_major": 2,
       "version_minor": 0
      },
      "text/plain": [
       "  0%|          | 0/55 [00:00<?, ?it/s]"
      ]
     },
     "metadata": {},
     "output_type": "display_data"
    },
    {
     "name": "stdout",
     "output_type": "stream",
     "text": [
      "{'eval_loss': 2.25749135017395, 'eval_bleu': 14.3398, 'eval_gen_len': 23.7531, 'eval_runtime': 46.8115, 'eval_samples_per_second': 18.777, 'eval_steps_per_second': 1.175, 'epoch': 19.33}\n"
     ]
    },
    {
     "data": {
      "application/vnd.jupyter.widget-view+json": {
       "model_id": "769234b9e5fd4a1e905da81e0f54dab7",
       "version_major": 2,
       "version_minor": 0
      },
      "text/plain": [
       "  0%|          | 0/55 [00:00<?, ?it/s]"
      ]
     },
     "metadata": {},
     "output_type": "display_data"
    },
    {
     "name": "stdout",
     "output_type": "stream",
     "text": [
      "{'eval_loss': 2.2553069591522217, 'eval_bleu': 14.3185, 'eval_gen_len': 23.7588, 'eval_runtime': 45.3458, 'eval_samples_per_second': 19.384, 'eval_steps_per_second': 1.213, 'epoch': 19.34}\n"
     ]
    },
    {
     "data": {
      "application/vnd.jupyter.widget-view+json": {
       "model_id": "620faf39f7224d259e6ab551391eaedc",
       "version_major": 2,
       "version_minor": 0
      },
      "text/plain": [
       "  0%|          | 0/55 [00:00<?, ?it/s]"
      ]
     },
     "metadata": {},
     "output_type": "display_data"
    },
    {
     "name": "stdout",
     "output_type": "stream",
     "text": [
      "{'eval_loss': 2.2619996070861816, 'eval_bleu': 14.3338, 'eval_gen_len': 23.6746, 'eval_runtime': 46.9779, 'eval_samples_per_second': 18.711, 'eval_steps_per_second': 1.171, 'epoch': 19.36}\n",
      "{'loss': 1.1619, 'grad_norm': 1.186469554901123, 'learning_rate': 6.666666666666667e-05, 'epoch': 19.37}\n"
     ]
    },
    {
     "data": {
      "application/vnd.jupyter.widget-view+json": {
       "model_id": "905bf082e39c4721a314781f2a342f95",
       "version_major": 2,
       "version_minor": 0
      },
      "text/plain": [
       "  0%|          | 0/55 [00:00<?, ?it/s]"
      ]
     },
     "metadata": {},
     "output_type": "display_data"
    },
    {
     "name": "stdout",
     "output_type": "stream",
     "text": [
      "{'eval_loss': 2.2533819675445557, 'eval_bleu': 14.293, 'eval_gen_len': 23.7873, 'eval_runtime': 46.3486, 'eval_samples_per_second': 18.965, 'eval_steps_per_second': 1.187, 'epoch': 19.37}\n"
     ]
    },
    {
     "data": {
      "application/vnd.jupyter.widget-view+json": {
       "model_id": "876131288872459ca647f3c59e900642",
       "version_major": 2,
       "version_minor": 0
      },
      "text/plain": [
       "  0%|          | 0/55 [00:00<?, ?it/s]"
      ]
     },
     "metadata": {},
     "output_type": "display_data"
    },
    {
     "name": "stdout",
     "output_type": "stream",
     "text": [
      "{'eval_loss': 2.260805606842041, 'eval_bleu': 14.3218, 'eval_gen_len': 23.7144, 'eval_runtime': 45.4712, 'eval_samples_per_second': 19.331, 'eval_steps_per_second': 1.21, 'epoch': 19.38}\n"
     ]
    },
    {
     "data": {
      "application/vnd.jupyter.widget-view+json": {
       "model_id": "8bc036f25df545229f5a9eaccd28a489",
       "version_major": 2,
       "version_minor": 0
      },
      "text/plain": [
       "  0%|          | 0/55 [00:00<?, ?it/s]"
      ]
     },
     "metadata": {},
     "output_type": "display_data"
    },
    {
     "name": "stdout",
     "output_type": "stream",
     "text": [
      "{'eval_loss': 2.2551381587982178, 'eval_bleu': 14.1838, 'eval_gen_len': 23.7053, 'eval_runtime': 46.3959, 'eval_samples_per_second': 18.946, 'eval_steps_per_second': 1.185, 'epoch': 19.4}\n"
     ]
    },
    {
     "data": {
      "application/vnd.jupyter.widget-view+json": {
       "model_id": "a0be78ac7b7d442cbf49cfa26bb5df1f",
       "version_major": 2,
       "version_minor": 0
      },
      "text/plain": [
       "  0%|          | 0/55 [00:00<?, ?it/s]"
      ]
     },
     "metadata": {},
     "output_type": "display_data"
    },
    {
     "name": "stdout",
     "output_type": "stream",
     "text": [
      "{'eval_loss': 2.251940965652466, 'eval_bleu': 14.0687, 'eval_gen_len': 23.6462, 'eval_runtime': 46.3681, 'eval_samples_per_second': 18.957, 'eval_steps_per_second': 1.186, 'epoch': 19.41}\n"
     ]
    },
    {
     "data": {
      "application/vnd.jupyter.widget-view+json": {
       "model_id": "f80fe3b9040b4b3792aee33c265bd0e6",
       "version_major": 2,
       "version_minor": 0
      },
      "text/plain": [
       "  0%|          | 0/55 [00:00<?, ?it/s]"
      ]
     },
     "metadata": {},
     "output_type": "display_data"
    },
    {
     "name": "stdout",
     "output_type": "stream",
     "text": [
      "{'eval_loss': 2.257326602935791, 'eval_bleu': 13.9083, 'eval_gen_len': 23.6394, 'eval_runtime': 46.4813, 'eval_samples_per_second': 18.911, 'eval_steps_per_second': 1.183, 'epoch': 19.43}\n",
      "{'loss': 1.1709, 'grad_norm': 1.3676731586456299, 'learning_rate': 6.333333333333335e-05, 'epoch': 19.44}\n"
     ]
    },
    {
     "data": {
      "application/vnd.jupyter.widget-view+json": {
       "model_id": "8796d629970a456c804b0c14ab210177",
       "version_major": 2,
       "version_minor": 0
      },
      "text/plain": [
       "  0%|          | 0/55 [00:00<?, ?it/s]"
      ]
     },
     "metadata": {},
     "output_type": "display_data"
    },
    {
     "name": "stdout",
     "output_type": "stream",
     "text": [
      "{'eval_loss': 2.2569565773010254, 'eval_bleu': 13.8801, 'eval_gen_len': 23.7258, 'eval_runtime': 46.0434, 'eval_samples_per_second': 19.091, 'eval_steps_per_second': 1.195, 'epoch': 19.44}\n"
     ]
    },
    {
     "data": {
      "application/vnd.jupyter.widget-view+json": {
       "model_id": "a1ec530cd91b44328b1001611c0338ac",
       "version_major": 2,
       "version_minor": 0
      },
      "text/plain": [
       "  0%|          | 0/55 [00:00<?, ?it/s]"
      ]
     },
     "metadata": {},
     "output_type": "display_data"
    },
    {
     "name": "stdout",
     "output_type": "stream",
     "text": [
      "{'eval_loss': 2.257328748703003, 'eval_bleu': 13.9985, 'eval_gen_len': 23.7053, 'eval_runtime': 45.5966, 'eval_samples_per_second': 19.278, 'eval_steps_per_second': 1.206, 'epoch': 19.45}\n"
     ]
    },
    {
     "data": {
      "application/vnd.jupyter.widget-view+json": {
       "model_id": "a77e36a646304cd98d186135f5ef1eb5",
       "version_major": 2,
       "version_minor": 0
      },
      "text/plain": [
       "  0%|          | 0/55 [00:00<?, ?it/s]"
      ]
     },
     "metadata": {},
     "output_type": "display_data"
    },
    {
     "name": "stdout",
     "output_type": "stream",
     "text": [
      "{'eval_loss': 2.2566323280334473, 'eval_bleu': 14.0301, 'eval_gen_len': 23.6826, 'eval_runtime': 45.5651, 'eval_samples_per_second': 19.291, 'eval_steps_per_second': 1.207, 'epoch': 19.47}\n"
     ]
    },
    {
     "data": {
      "application/vnd.jupyter.widget-view+json": {
       "model_id": "13dea0e0173847a8bf51edc5ae39815e",
       "version_major": 2,
       "version_minor": 0
      },
      "text/plain": [
       "  0%|          | 0/55 [00:00<?, ?it/s]"
      ]
     },
     "metadata": {},
     "output_type": "display_data"
    },
    {
     "name": "stdout",
     "output_type": "stream",
     "text": [
      "{'eval_loss': 2.2612485885620117, 'eval_bleu': 13.8659, 'eval_gen_len': 23.6849, 'eval_runtime': 46.7337, 'eval_samples_per_second': 18.809, 'eval_steps_per_second': 1.177, 'epoch': 19.48}\n"
     ]
    },
    {
     "data": {
      "application/vnd.jupyter.widget-view+json": {
       "model_id": "bdce3b01d99c492f8c2980a0900f9c54",
       "version_major": 2,
       "version_minor": 0
      },
      "text/plain": [
       "  0%|          | 0/55 [00:00<?, ?it/s]"
      ]
     },
     "metadata": {},
     "output_type": "display_data"
    },
    {
     "name": "stdout",
     "output_type": "stream",
     "text": [
      "{'eval_loss': 2.256338596343994, 'eval_bleu': 13.8918, 'eval_gen_len': 23.686, 'eval_runtime': 45.3292, 'eval_samples_per_second': 19.391, 'eval_steps_per_second': 1.213, 'epoch': 19.49}\n",
      "{'loss': 1.1634, 'grad_norm': 1.5527631044387817, 'learning_rate': 6e-05, 'epoch': 19.51}\n"
     ]
    },
    {
     "data": {
      "application/vnd.jupyter.widget-view+json": {
       "model_id": "11e02b473f5646dcb5ad4b2d49e737da",
       "version_major": 2,
       "version_minor": 0
      },
      "text/plain": [
       "  0%|          | 0/55 [00:00<?, ?it/s]"
      ]
     },
     "metadata": {},
     "output_type": "display_data"
    },
    {
     "name": "stdout",
     "output_type": "stream",
     "text": [
      "{'eval_loss': 2.262814521789551, 'eval_bleu': 13.9342, 'eval_gen_len': 23.6746, 'eval_runtime': 46.778, 'eval_samples_per_second': 18.791, 'eval_steps_per_second': 1.176, 'epoch': 19.51}\n"
     ]
    },
    {
     "data": {
      "application/vnd.jupyter.widget-view+json": {
       "model_id": "9017441bd626479ca0f5fefe6f637792",
       "version_major": 2,
       "version_minor": 0
      },
      "text/plain": [
       "  0%|          | 0/55 [00:00<?, ?it/s]"
      ]
     },
     "metadata": {},
     "output_type": "display_data"
    },
    {
     "name": "stdout",
     "output_type": "stream",
     "text": [
      "{'eval_loss': 2.2625184059143066, 'eval_bleu': 14.0133, 'eval_gen_len': 23.7304, 'eval_runtime': 46.5029, 'eval_samples_per_second': 18.902, 'eval_steps_per_second': 1.183, 'epoch': 19.52}\n"
     ]
    },
    {
     "data": {
      "application/vnd.jupyter.widget-view+json": {
       "model_id": "e5b96e26be1b497599667c64a88a514b",
       "version_major": 2,
       "version_minor": 0
      },
      "text/plain": [
       "  0%|          | 0/55 [00:00<?, ?it/s]"
      ]
     },
     "metadata": {},
     "output_type": "display_data"
    },
    {
     "name": "stdout",
     "output_type": "stream",
     "text": [
      "{'eval_loss': 2.2518558502197266, 'eval_bleu': 14.2107, 'eval_gen_len': 23.744, 'eval_runtime': 46.0262, 'eval_samples_per_second': 19.098, 'eval_steps_per_second': 1.195, 'epoch': 19.54}\n"
     ]
    },
    {
     "data": {
      "application/vnd.jupyter.widget-view+json": {
       "model_id": "d2ac4e9c7fe44c2b8ccc2e9c841a23ba",
       "version_major": 2,
       "version_minor": 0
      },
      "text/plain": [
       "  0%|          | 0/55 [00:00<?, ?it/s]"
      ]
     },
     "metadata": {},
     "output_type": "display_data"
    },
    {
     "name": "stdout",
     "output_type": "stream",
     "text": [
      "{'eval_loss': 2.258206844329834, 'eval_bleu': 14.2523, 'eval_gen_len': 23.7224, 'eval_runtime': 44.6324, 'eval_samples_per_second': 19.694, 'eval_steps_per_second': 1.232, 'epoch': 19.55}\n"
     ]
    },
    {
     "data": {
      "application/vnd.jupyter.widget-view+json": {
       "model_id": "7b324bb2c5b0451ca60a4190c7e5d551",
       "version_major": 2,
       "version_minor": 0
      },
      "text/plain": [
       "  0%|          | 0/55 [00:00<?, ?it/s]"
      ]
     },
     "metadata": {},
     "output_type": "display_data"
    },
    {
     "name": "stdout",
     "output_type": "stream",
     "text": [
      "{'eval_loss': 2.2597177028656006, 'eval_bleu': 14.3808, 'eval_gen_len': 23.6451, 'eval_runtime': 43.728, 'eval_samples_per_second': 20.102, 'eval_steps_per_second': 1.258, 'epoch': 19.56}\n",
      "{'loss': 1.1747, 'grad_norm': 1.1522020101547241, 'learning_rate': 5.6666666666666664e-05, 'epoch': 19.58}\n"
     ]
    },
    {
     "data": {
      "application/vnd.jupyter.widget-view+json": {
       "model_id": "de5e4dab1f894ca9bd68ea7649a2e37d",
       "version_major": 2,
       "version_minor": 0
      },
      "text/plain": [
       "  0%|          | 0/55 [00:00<?, ?it/s]"
      ]
     },
     "metadata": {},
     "output_type": "display_data"
    },
    {
     "name": "stdout",
     "output_type": "stream",
     "text": [
      "{'eval_loss': 2.251737117767334, 'eval_bleu': 14.0399, 'eval_gen_len': 23.6849, 'eval_runtime': 46.1331, 'eval_samples_per_second': 19.054, 'eval_steps_per_second': 1.192, 'epoch': 19.58}\n"
     ]
    },
    {
     "data": {
      "application/vnd.jupyter.widget-view+json": {
       "model_id": "496924b643e34880821cdec5c3752385",
       "version_major": 2,
       "version_minor": 0
      },
      "text/plain": [
       "  0%|          | 0/55 [00:00<?, ?it/s]"
      ]
     },
     "metadata": {},
     "output_type": "display_data"
    },
    {
     "name": "stdout",
     "output_type": "stream",
     "text": [
      "{'eval_loss': 2.251974105834961, 'eval_bleu': 14.4137, 'eval_gen_len': 23.694, 'eval_runtime': 45.768, 'eval_samples_per_second': 19.206, 'eval_steps_per_second': 1.202, 'epoch': 19.59}\n"
     ]
    },
    {
     "data": {
      "application/vnd.jupyter.widget-view+json": {
       "model_id": "51c07ef3d1eb43c7b393111e2e45f39e",
       "version_major": 2,
       "version_minor": 0
      },
      "text/plain": [
       "  0%|          | 0/55 [00:00<?, ?it/s]"
      ]
     },
     "metadata": {},
     "output_type": "display_data"
    },
    {
     "name": "stdout",
     "output_type": "stream",
     "text": [
      "{'eval_loss': 2.2494945526123047, 'eval_bleu': 14.348, 'eval_gen_len': 23.7406, 'eval_runtime': 45.9864, 'eval_samples_per_second': 19.114, 'eval_steps_per_second': 1.196, 'epoch': 19.61}\n"
     ]
    },
    {
     "data": {
      "application/vnd.jupyter.widget-view+json": {
       "model_id": "4913fb0211a342dfa3b25016ab2db75b",
       "version_major": 2,
       "version_minor": 0
      },
      "text/plain": [
       "  0%|          | 0/55 [00:00<?, ?it/s]"
      ]
     },
     "metadata": {},
     "output_type": "display_data"
    },
    {
     "name": "stdout",
     "output_type": "stream",
     "text": [
      "{'eval_loss': 2.2615087032318115, 'eval_bleu': 14.3681, 'eval_gen_len': 23.6803, 'eval_runtime': 46.8297, 'eval_samples_per_second': 18.77, 'eval_steps_per_second': 1.174, 'epoch': 19.62}\n"
     ]
    },
    {
     "data": {
      "application/vnd.jupyter.widget-view+json": {
       "model_id": "a83b506e9d924ccd9d203bcac0ba0180",
       "version_major": 2,
       "version_minor": 0
      },
      "text/plain": [
       "  0%|          | 0/55 [00:00<?, ?it/s]"
      ]
     },
     "metadata": {},
     "output_type": "display_data"
    },
    {
     "name": "stdout",
     "output_type": "stream",
     "text": [
      "{'eval_loss': 2.253549098968506, 'eval_bleu': 14.1154, 'eval_gen_len': 23.7383, 'eval_runtime': 45.0711, 'eval_samples_per_second': 19.503, 'eval_steps_per_second': 1.22, 'epoch': 19.63}\n",
      "{'loss': 1.1749, 'grad_norm': 1.301751732826233, 'learning_rate': 5.333333333333334e-05, 'epoch': 19.65}\n"
     ]
    },
    {
     "data": {
      "application/vnd.jupyter.widget-view+json": {
       "model_id": "1d9b8195671249b9ac4d9da937723c9d",
       "version_major": 2,
       "version_minor": 0
      },
      "text/plain": [
       "  0%|          | 0/55 [00:00<?, ?it/s]"
      ]
     },
     "metadata": {},
     "output_type": "display_data"
    },
    {
     "name": "stdout",
     "output_type": "stream",
     "text": [
      "{'eval_loss': 2.249540328979492, 'eval_bleu': 14.1885, 'eval_gen_len': 23.7895, 'eval_runtime': 45.977, 'eval_samples_per_second': 19.118, 'eval_steps_per_second': 1.196, 'epoch': 19.65}\n"
     ]
    },
    {
     "data": {
      "application/vnd.jupyter.widget-view+json": {
       "model_id": "e6e0ca578fae46ff888bcdd57bab5ba6",
       "version_major": 2,
       "version_minor": 0
      },
      "text/plain": [
       "  0%|          | 0/55 [00:00<?, ?it/s]"
      ]
     },
     "metadata": {},
     "output_type": "display_data"
    },
    {
     "name": "stdout",
     "output_type": "stream",
     "text": [
      "{'eval_loss': 2.2529168128967285, 'eval_bleu': 14.2385, 'eval_gen_len': 23.6667, 'eval_runtime': 44.9627, 'eval_samples_per_second': 19.55, 'eval_steps_per_second': 1.223, 'epoch': 19.66}\n"
     ]
    },
    {
     "data": {
      "application/vnd.jupyter.widget-view+json": {
       "model_id": "6724e937fde64be6a2304c1741a04e32",
       "version_major": 2,
       "version_minor": 0
      },
      "text/plain": [
       "  0%|          | 0/55 [00:00<?, ?it/s]"
      ]
     },
     "metadata": {},
     "output_type": "display_data"
    },
    {
     "name": "stdout",
     "output_type": "stream",
     "text": [
      "{'eval_loss': 2.2523419857025146, 'eval_bleu': 14.0477, 'eval_gen_len': 23.8271, 'eval_runtime': 46.218, 'eval_samples_per_second': 19.019, 'eval_steps_per_second': 1.19, 'epoch': 19.67}\n"
     ]
    },
    {
     "data": {
      "application/vnd.jupyter.widget-view+json": {
       "model_id": "e3202701a21542a2b1b83fcd794cf7ff",
       "version_major": 2,
       "version_minor": 0
      },
      "text/plain": [
       "  0%|          | 0/55 [00:00<?, ?it/s]"
      ]
     },
     "metadata": {},
     "output_type": "display_data"
    },
    {
     "name": "stdout",
     "output_type": "stream",
     "text": [
      "{'eval_loss': 2.253460168838501, 'eval_bleu': 14.1821, 'eval_gen_len': 23.7042, 'eval_runtime': 45.1953, 'eval_samples_per_second': 19.449, 'eval_steps_per_second': 1.217, 'epoch': 19.69}\n"
     ]
    },
    {
     "data": {
      "application/vnd.jupyter.widget-view+json": {
       "model_id": "1401a7d03bda428f9db2c477d4a374af",
       "version_major": 2,
       "version_minor": 0
      },
      "text/plain": [
       "  0%|          | 0/55 [00:00<?, ?it/s]"
      ]
     },
     "metadata": {},
     "output_type": "display_data"
    },
    {
     "name": "stdout",
     "output_type": "stream",
     "text": [
      "{'eval_loss': 2.2577285766601562, 'eval_bleu': 14.0598, 'eval_gen_len': 23.6792, 'eval_runtime': 45.5762, 'eval_samples_per_second': 19.286, 'eval_steps_per_second': 1.207, 'epoch': 19.7}\n",
      "{'loss': 1.1713, 'grad_norm': 1.3273673057556152, 'learning_rate': 5e-05, 'epoch': 19.72}\n"
     ]
    },
    {
     "data": {
      "application/vnd.jupyter.widget-view+json": {
       "model_id": "bf50857700af41738239bbf68aa784f1",
       "version_major": 2,
       "version_minor": 0
      },
      "text/plain": [
       "  0%|          | 0/55 [00:00<?, ?it/s]"
      ]
     },
     "metadata": {},
     "output_type": "display_data"
    },
    {
     "name": "stdout",
     "output_type": "stream",
     "text": [
      "{'eval_loss': 2.2533931732177734, 'eval_bleu': 14.0176, 'eval_gen_len': 23.711, 'eval_runtime': 45.9448, 'eval_samples_per_second': 19.132, 'eval_steps_per_second': 1.197, 'epoch': 19.72}\n"
     ]
    },
    {
     "data": {
      "application/vnd.jupyter.widget-view+json": {
       "model_id": "f70b2f550aa24baba9ca354fbf53b929",
       "version_major": 2,
       "version_minor": 0
      },
      "text/plain": [
       "  0%|          | 0/55 [00:00<?, ?it/s]"
      ]
     },
     "metadata": {},
     "output_type": "display_data"
    },
    {
     "name": "stdout",
     "output_type": "stream",
     "text": [
      "{'eval_loss': 2.2507896423339844, 'eval_bleu': 13.9934, 'eval_gen_len': 23.7327, 'eval_runtime': 45.6238, 'eval_samples_per_second': 19.266, 'eval_steps_per_second': 1.206, 'epoch': 19.73}\n"
     ]
    },
    {
     "data": {
      "application/vnd.jupyter.widget-view+json": {
       "model_id": "a86de42730b246e09205a38219ffddde",
       "version_major": 2,
       "version_minor": 0
      },
      "text/plain": [
       "  0%|          | 0/55 [00:00<?, ?it/s]"
      ]
     },
     "metadata": {},
     "output_type": "display_data"
    },
    {
     "name": "stdout",
     "output_type": "stream",
     "text": [
      "{'eval_loss': 2.254453182220459, 'eval_bleu': 14.0297, 'eval_gen_len': 23.752, 'eval_runtime': 46.5888, 'eval_samples_per_second': 18.867, 'eval_steps_per_second': 1.181, 'epoch': 19.74}\n"
     ]
    },
    {
     "data": {
      "application/vnd.jupyter.widget-view+json": {
       "model_id": "559ff0f0227f4d75aef185a1ad021841",
       "version_major": 2,
       "version_minor": 0
      },
      "text/plain": [
       "  0%|          | 0/55 [00:00<?, ?it/s]"
      ]
     },
     "metadata": {},
     "output_type": "display_data"
    },
    {
     "name": "stdout",
     "output_type": "stream",
     "text": [
      "{'eval_loss': 2.250425100326538, 'eval_bleu': 13.9786, 'eval_gen_len': 23.7782, 'eval_runtime': 46.9335, 'eval_samples_per_second': 18.729, 'eval_steps_per_second': 1.172, 'epoch': 19.76}\n"
     ]
    },
    {
     "data": {
      "application/vnd.jupyter.widget-view+json": {
       "model_id": "e376a96b6b3549a894119e1403c725e1",
       "version_major": 2,
       "version_minor": 0
      },
      "text/plain": [
       "  0%|          | 0/55 [00:00<?, ?it/s]"
      ]
     },
     "metadata": {},
     "output_type": "display_data"
    },
    {
     "name": "stdout",
     "output_type": "stream",
     "text": [
      "{'eval_loss': 2.2515087127685547, 'eval_bleu': 14.0603, 'eval_gen_len': 23.7156, 'eval_runtime': 45.3222, 'eval_samples_per_second': 19.394, 'eval_steps_per_second': 1.214, 'epoch': 19.77}\n",
      "{'loss': 1.1713, 'grad_norm': 1.4299710988998413, 'learning_rate': 4.666666666666667e-05, 'epoch': 19.79}\n"
     ]
    },
    {
     "data": {
      "application/vnd.jupyter.widget-view+json": {
       "model_id": "38a3fdea10e54da5b949b8cefbf94e1f",
       "version_major": 2,
       "version_minor": 0
      },
      "text/plain": [
       "  0%|          | 0/55 [00:00<?, ?it/s]"
      ]
     },
     "metadata": {},
     "output_type": "display_data"
    },
    {
     "name": "stdout",
     "output_type": "stream",
     "text": [
      "{'eval_loss': 2.253460168838501, 'eval_bleu': 14.186, 'eval_gen_len': 23.6906, 'eval_runtime': 45.2648, 'eval_samples_per_second': 19.419, 'eval_steps_per_second': 1.215, 'epoch': 19.79}\n"
     ]
    },
    {
     "data": {
      "application/vnd.jupyter.widget-view+json": {
       "model_id": "9be8fbc759e8490a959db05c4c8a07e4",
       "version_major": 2,
       "version_minor": 0
      },
      "text/plain": [
       "  0%|          | 0/55 [00:00<?, ?it/s]"
      ]
     },
     "metadata": {},
     "output_type": "display_data"
    },
    {
     "name": "stdout",
     "output_type": "stream",
     "text": [
      "{'eval_loss': 2.256603240966797, 'eval_bleu': 14.0205, 'eval_gen_len': 23.6689, 'eval_runtime': 45.602, 'eval_samples_per_second': 19.275, 'eval_steps_per_second': 1.206, 'epoch': 19.8}\n"
     ]
    },
    {
     "data": {
      "application/vnd.jupyter.widget-view+json": {
       "model_id": "04591f066a2d447abe6dac842306f89a",
       "version_major": 2,
       "version_minor": 0
      },
      "text/plain": [
       "  0%|          | 0/55 [00:00<?, ?it/s]"
      ]
     },
     "metadata": {},
     "output_type": "display_data"
    },
    {
     "name": "stdout",
     "output_type": "stream",
     "text": [
      "{'eval_loss': 2.2546563148498535, 'eval_bleu': 14.0771, 'eval_gen_len': 23.6758, 'eval_runtime': 44.9644, 'eval_samples_per_second': 19.549, 'eval_steps_per_second': 1.223, 'epoch': 19.81}\n"
     ]
    },
    {
     "data": {
      "application/vnd.jupyter.widget-view+json": {
       "model_id": "fd025b67eb074a4a9c06d97baba2fd64",
       "version_major": 2,
       "version_minor": 0
      },
      "text/plain": [
       "  0%|          | 0/55 [00:00<?, ?it/s]"
      ]
     },
     "metadata": {},
     "output_type": "display_data"
    },
    {
     "name": "stdout",
     "output_type": "stream",
     "text": [
      "{'eval_loss': 2.2548329830169678, 'eval_bleu': 14.0569, 'eval_gen_len': 23.6621, 'eval_runtime': 45.5072, 'eval_samples_per_second': 19.316, 'eval_steps_per_second': 1.209, 'epoch': 19.83}\n"
     ]
    },
    {
     "data": {
      "application/vnd.jupyter.widget-view+json": {
       "model_id": "4ee4723727c1441d9191d042d78e4802",
       "version_major": 2,
       "version_minor": 0
      },
      "text/plain": [
       "  0%|          | 0/55 [00:00<?, ?it/s]"
      ]
     },
     "metadata": {},
     "output_type": "display_data"
    },
    {
     "name": "stdout",
     "output_type": "stream",
     "text": [
      "{'eval_loss': 2.252530574798584, 'eval_bleu': 13.7018, 'eval_gen_len': 23.6405, 'eval_runtime': 46.734, 'eval_samples_per_second': 18.809, 'eval_steps_per_second': 1.177, 'epoch': 19.84}\n",
      "{'loss': 1.1661, 'grad_norm': 1.3783528804779053, 'learning_rate': 4.3333333333333334e-05, 'epoch': 19.85}\n"
     ]
    },
    {
     "data": {
      "application/vnd.jupyter.widget-view+json": {
       "model_id": "74367a7e11934d7bbac3921eb1fdb6b5",
       "version_major": 2,
       "version_minor": 0
      },
      "text/plain": [
       "  0%|          | 0/55 [00:00<?, ?it/s]"
      ]
     },
     "metadata": {},
     "output_type": "display_data"
    },
    {
     "name": "stdout",
     "output_type": "stream",
     "text": [
      "{'eval_loss': 2.2566940784454346, 'eval_bleu': 13.776, 'eval_gen_len': 23.6701, 'eval_runtime': 45.4385, 'eval_samples_per_second': 19.345, 'eval_steps_per_second': 1.21, 'epoch': 19.85}\n"
     ]
    },
    {
     "data": {
      "application/vnd.jupyter.widget-view+json": {
       "model_id": "de588cae0bc643f4a23d128057101e34",
       "version_major": 2,
       "version_minor": 0
      },
      "text/plain": [
       "  0%|          | 0/55 [00:00<?, ?it/s]"
      ]
     },
     "metadata": {},
     "output_type": "display_data"
    },
    {
     "name": "stdout",
     "output_type": "stream",
     "text": [
      "{'eval_loss': 2.253861904144287, 'eval_bleu': 13.8718, 'eval_gen_len': 23.7053, 'eval_runtime': 46.1941, 'eval_samples_per_second': 19.028, 'eval_steps_per_second': 1.191, 'epoch': 19.87}\n"
     ]
    },
    {
     "data": {
      "application/vnd.jupyter.widget-view+json": {
       "model_id": "4bb6de3cd240409a96facf2b7d35694a",
       "version_major": 2,
       "version_minor": 0
      },
      "text/plain": [
       "  0%|          | 0/55 [00:00<?, ?it/s]"
      ]
     },
     "metadata": {},
     "output_type": "display_data"
    },
    {
     "name": "stdout",
     "output_type": "stream",
     "text": [
      "{'eval_loss': 2.2524471282958984, 'eval_bleu': 13.9896, 'eval_gen_len': 23.6519, 'eval_runtime': 45.4191, 'eval_samples_per_second': 19.353, 'eval_steps_per_second': 1.211, 'epoch': 19.88}\n"
     ]
    },
    {
     "data": {
      "application/vnd.jupyter.widget-view+json": {
       "model_id": "02a99f07e3d74f13a150330c1aa47ae0",
       "version_major": 2,
       "version_minor": 0
      },
      "text/plain": [
       "  0%|          | 0/55 [00:00<?, ?it/s]"
      ]
     },
     "metadata": {},
     "output_type": "display_data"
    },
    {
     "name": "stdout",
     "output_type": "stream",
     "text": [
      "{'eval_loss': 2.2553017139434814, 'eval_bleu': 13.9852, 'eval_gen_len': 23.7201, 'eval_runtime': 45.0691, 'eval_samples_per_second': 19.503, 'eval_steps_per_second': 1.22, 'epoch': 19.9}\n"
     ]
    },
    {
     "data": {
      "application/vnd.jupyter.widget-view+json": {
       "model_id": "841abc97b99a40668804b43508b29505",
       "version_major": 2,
       "version_minor": 0
      },
      "text/plain": [
       "  0%|          | 0/55 [00:00<?, ?it/s]"
      ]
     },
     "metadata": {},
     "output_type": "display_data"
    },
    {
     "name": "stdout",
     "output_type": "stream",
     "text": [
      "{'eval_loss': 2.253401041030884, 'eval_bleu': 14.0746, 'eval_gen_len': 23.6587, 'eval_runtime': 45.0147, 'eval_samples_per_second': 19.527, 'eval_steps_per_second': 1.222, 'epoch': 19.91}\n",
      "{'loss': 1.1746, 'grad_norm': 1.4278100728988647, 'learning_rate': 4e-05, 'epoch': 19.92}\n"
     ]
    },
    {
     "data": {
      "application/vnd.jupyter.widget-view+json": {
       "model_id": "897c64cfc6a64cce88c44dc00fd333b7",
       "version_major": 2,
       "version_minor": 0
      },
      "text/plain": [
       "  0%|          | 0/55 [00:00<?, ?it/s]"
      ]
     },
     "metadata": {},
     "output_type": "display_data"
    },
    {
     "name": "stdout",
     "output_type": "stream",
     "text": [
      "{'eval_loss': 2.2576568126678467, 'eval_bleu': 14.1101, 'eval_gen_len': 23.6439, 'eval_runtime': 45.7266, 'eval_samples_per_second': 19.223, 'eval_steps_per_second': 1.203, 'epoch': 19.92}\n"
     ]
    },
    {
     "data": {
      "application/vnd.jupyter.widget-view+json": {
       "model_id": "a6665714b79448ec9a0d01258d606b9f",
       "version_major": 2,
       "version_minor": 0
      },
      "text/plain": [
       "  0%|          | 0/55 [00:00<?, ?it/s]"
      ]
     },
     "metadata": {},
     "output_type": "display_data"
    },
    {
     "name": "stdout",
     "output_type": "stream",
     "text": [
      "{'eval_loss': 2.2562787532806396, 'eval_bleu': 14.0654, 'eval_gen_len': 23.6803, 'eval_runtime': 46.5954, 'eval_samples_per_second': 18.865, 'eval_steps_per_second': 1.18, 'epoch': 19.94}\n"
     ]
    },
    {
     "data": {
      "application/vnd.jupyter.widget-view+json": {
       "model_id": "d6772d0ed1da41b9aebd61cf4bfcf57f",
       "version_major": 2,
       "version_minor": 0
      },
      "text/plain": [
       "  0%|          | 0/55 [00:00<?, ?it/s]"
      ]
     },
     "metadata": {},
     "output_type": "display_data"
    },
    {
     "name": "stdout",
     "output_type": "stream",
     "text": [
      "{'eval_loss': 2.252311944961548, 'eval_bleu': 14.0087, 'eval_gen_len': 23.7235, 'eval_runtime': 43.0095, 'eval_samples_per_second': 20.437, 'eval_steps_per_second': 1.279, 'epoch': 19.95}\n"
     ]
    },
    {
     "data": {
      "application/vnd.jupyter.widget-view+json": {
       "model_id": "c1e2ba3ca3354fda8e0dd1b0ab5dc3de",
       "version_major": 2,
       "version_minor": 0
      },
      "text/plain": [
       "  0%|          | 0/55 [00:00<?, ?it/s]"
      ]
     },
     "metadata": {},
     "output_type": "display_data"
    },
    {
     "name": "stdout",
     "output_type": "stream",
     "text": [
      "{'eval_loss': 2.249695062637329, 'eval_bleu': 14.0663, 'eval_gen_len': 23.6678, 'eval_runtime': 45.7007, 'eval_samples_per_second': 19.234, 'eval_steps_per_second': 1.203, 'epoch': 19.97}\n"
     ]
    },
    {
     "data": {
      "application/vnd.jupyter.widget-view+json": {
       "model_id": "dc3b66b0bc7641d1b5d18354003364c9",
       "version_major": 2,
       "version_minor": 0
      },
      "text/plain": [
       "  0%|          | 0/55 [00:00<?, ?it/s]"
      ]
     },
     "metadata": {},
     "output_type": "display_data"
    },
    {
     "name": "stdout",
     "output_type": "stream",
     "text": [
      "{'eval_loss': 2.254962921142578, 'eval_bleu': 14.017, 'eval_gen_len': 23.6325, 'eval_runtime': 44.3631, 'eval_samples_per_second': 19.814, 'eval_steps_per_second': 1.24, 'epoch': 19.98}\n",
      "{'loss': 1.1658, 'grad_norm': 1.298557996749878, 'learning_rate': 3.6666666666666666e-05, 'epoch': 19.99}\n"
     ]
    },
    {
     "data": {
      "application/vnd.jupyter.widget-view+json": {
       "model_id": "639f0dcb67854988ac63cbb35a156428",
       "version_major": 2,
       "version_minor": 0
      },
      "text/plain": [
       "  0%|          | 0/55 [00:00<?, ?it/s]"
      ]
     },
     "metadata": {},
     "output_type": "display_data"
    },
    {
     "name": "stdout",
     "output_type": "stream",
     "text": [
      "{'eval_loss': 2.251136302947998, 'eval_bleu': 14.2788, 'eval_gen_len': 23.6587, 'eval_runtime': 45.4227, 'eval_samples_per_second': 19.352, 'eval_steps_per_second': 1.211, 'epoch': 19.99}\n"
     ]
    },
    {
     "data": {
      "application/vnd.jupyter.widget-view+json": {
       "model_id": "889d62b665504790960b152cc439868e",
       "version_major": 2,
       "version_minor": 0
      },
      "text/plain": [
       "  0%|          | 0/55 [00:00<?, ?it/s]"
      ]
     },
     "metadata": {},
     "output_type": "display_data"
    },
    {
     "name": "stdout",
     "output_type": "stream",
     "text": [
      "{'eval_loss': 2.256617546081543, 'eval_bleu': 13.9093, 'eval_gen_len': 23.6962, 'eval_runtime': 43.6322, 'eval_samples_per_second': 20.146, 'eval_steps_per_second': 1.261, 'epoch': 20.01}\n"
     ]
    },
    {
     "data": {
      "application/vnd.jupyter.widget-view+json": {
       "model_id": "623cff001073470f994d1da71b7cd976",
       "version_major": 2,
       "version_minor": 0
      },
      "text/plain": [
       "  0%|          | 0/55 [00:00<?, ?it/s]"
      ]
     },
     "metadata": {},
     "output_type": "display_data"
    },
    {
     "name": "stdout",
     "output_type": "stream",
     "text": [
      "{'eval_loss': 2.262411117553711, 'eval_bleu': 14.2019, 'eval_gen_len': 23.6928, 'eval_runtime': 44.7977, 'eval_samples_per_second': 19.622, 'eval_steps_per_second': 1.228, 'epoch': 20.02}\n"
     ]
    },
    {
     "data": {
      "application/vnd.jupyter.widget-view+json": {
       "model_id": "09b1bc607c5a4b98bde82c6aa7ce3f38",
       "version_major": 2,
       "version_minor": 0
      },
      "text/plain": [
       "  0%|          | 0/55 [00:00<?, ?it/s]"
      ]
     },
     "metadata": {},
     "output_type": "display_data"
    },
    {
     "name": "stdout",
     "output_type": "stream",
     "text": [
      "{'eval_loss': 2.2645130157470703, 'eval_bleu': 14.1203, 'eval_gen_len': 23.628, 'eval_runtime': 43.9147, 'eval_samples_per_second': 20.016, 'eval_steps_per_second': 1.252, 'epoch': 20.03}\n"
     ]
    },
    {
     "data": {
      "application/vnd.jupyter.widget-view+json": {
       "model_id": "e3a4ca3c8ce046fdae226114f70c5048",
       "version_major": 2,
       "version_minor": 0
      },
      "text/plain": [
       "  0%|          | 0/55 [00:00<?, ?it/s]"
      ]
     },
     "metadata": {},
     "output_type": "display_data"
    },
    {
     "name": "stdout",
     "output_type": "stream",
     "text": [
      "{'eval_loss': 2.267301559448242, 'eval_bleu': 14.1215, 'eval_gen_len': 23.7053, 'eval_runtime': 44.8296, 'eval_samples_per_second': 19.608, 'eval_steps_per_second': 1.227, 'epoch': 20.05}\n",
      "{'loss': 1.1382, 'grad_norm': 1.0056047439575195, 'learning_rate': 3.3333333333333335e-05, 'epoch': 20.06}\n"
     ]
    },
    {
     "data": {
      "application/vnd.jupyter.widget-view+json": {
       "model_id": "5273f8cd7cc646369e55d8c0044e9264",
       "version_major": 2,
       "version_minor": 0
      },
      "text/plain": [
       "  0%|          | 0/55 [00:00<?, ?it/s]"
      ]
     },
     "metadata": {},
     "output_type": "display_data"
    },
    {
     "name": "stdout",
     "output_type": "stream",
     "text": [
      "{'eval_loss': 2.2613723278045654, 'eval_bleu': 14.3398, 'eval_gen_len': 23.7235, 'eval_runtime': 44.0276, 'eval_samples_per_second': 19.965, 'eval_steps_per_second': 1.249, 'epoch': 20.06}\n"
     ]
    },
    {
     "data": {
      "application/vnd.jupyter.widget-view+json": {
       "model_id": "57a5e64113cc45a2a59aa7218938889c",
       "version_major": 2,
       "version_minor": 0
      },
      "text/plain": [
       "  0%|          | 0/55 [00:00<?, ?it/s]"
      ]
     },
     "metadata": {},
     "output_type": "display_data"
    },
    {
     "name": "stdout",
     "output_type": "stream",
     "text": [
      "{'eval_loss': 2.2653777599334717, 'eval_bleu': 14.0649, 'eval_gen_len': 23.7645, 'eval_runtime': 44.0354, 'eval_samples_per_second': 19.961, 'eval_steps_per_second': 1.249, 'epoch': 20.08}\n"
     ]
    },
    {
     "data": {
      "application/vnd.jupyter.widget-view+json": {
       "model_id": "f83f647cd04944659ab66a2ae48ab02d",
       "version_major": 2,
       "version_minor": 0
      },
      "text/plain": [
       "  0%|          | 0/55 [00:00<?, ?it/s]"
      ]
     },
     "metadata": {},
     "output_type": "display_data"
    },
    {
     "name": "stdout",
     "output_type": "stream",
     "text": [
      "{'eval_loss': 2.2677183151245117, 'eval_bleu': 14.0914, 'eval_gen_len': 23.6985, 'eval_runtime': 46.1409, 'eval_samples_per_second': 19.05, 'eval_steps_per_second': 1.192, 'epoch': 20.09}\n"
     ]
    },
    {
     "data": {
      "application/vnd.jupyter.widget-view+json": {
       "model_id": "f1b23b5125484f48b671e1c924623f41",
       "version_major": 2,
       "version_minor": 0
      },
      "text/plain": [
       "  0%|          | 0/55 [00:00<?, ?it/s]"
      ]
     },
     "metadata": {},
     "output_type": "display_data"
    },
    {
     "name": "stdout",
     "output_type": "stream",
     "text": [
      "{'eval_loss': 2.266672134399414, 'eval_bleu': 13.9945, 'eval_gen_len': 23.6724, 'eval_runtime': 44.2562, 'eval_samples_per_second': 19.862, 'eval_steps_per_second': 1.243, 'epoch': 20.1}\n"
     ]
    },
    {
     "data": {
      "application/vnd.jupyter.widget-view+json": {
       "model_id": "3ad16ad4139f42ffb686b271d7b8aa61",
       "version_major": 2,
       "version_minor": 0
      },
      "text/plain": [
       "  0%|          | 0/55 [00:00<?, ?it/s]"
      ]
     },
     "metadata": {},
     "output_type": "display_data"
    },
    {
     "name": "stdout",
     "output_type": "stream",
     "text": [
      "{'eval_loss': 2.266561508178711, 'eval_bleu': 14.1148, 'eval_gen_len': 23.7076, 'eval_runtime': 45.1857, 'eval_samples_per_second': 19.453, 'eval_steps_per_second': 1.217, 'epoch': 20.12}\n",
      "{'loss': 1.1353, 'grad_norm': 1.3523553609848022, 'learning_rate': 3e-05, 'epoch': 20.13}\n"
     ]
    },
    {
     "data": {
      "application/vnd.jupyter.widget-view+json": {
       "model_id": "4459f5e61fcf44b6af668f6ad4e7568f",
       "version_major": 2,
       "version_minor": 0
      },
      "text/plain": [
       "  0%|          | 0/55 [00:00<?, ?it/s]"
      ]
     },
     "metadata": {},
     "output_type": "display_data"
    },
    {
     "name": "stdout",
     "output_type": "stream",
     "text": [
      "{'eval_loss': 2.265833854675293, 'eval_bleu': 14.1769, 'eval_gen_len': 23.7008, 'eval_runtime': 44.2215, 'eval_samples_per_second': 19.877, 'eval_steps_per_second': 1.244, 'epoch': 20.13}\n"
     ]
    },
    {
     "data": {
      "application/vnd.jupyter.widget-view+json": {
       "model_id": "23b9604e39944d25a7f6a69666d3cb03",
       "version_major": 2,
       "version_minor": 0
      },
      "text/plain": [
       "  0%|          | 0/55 [00:00<?, ?it/s]"
      ]
     },
     "metadata": {},
     "output_type": "display_data"
    },
    {
     "name": "stdout",
     "output_type": "stream",
     "text": [
      "{'eval_loss': 2.2669014930725098, 'eval_bleu': 13.9872, 'eval_gen_len': 23.6223, 'eval_runtime': 45.0178, 'eval_samples_per_second': 19.526, 'eval_steps_per_second': 1.222, 'epoch': 20.15}\n"
     ]
    },
    {
     "data": {
      "application/vnd.jupyter.widget-view+json": {
       "model_id": "08b78c12517d4de0933e421aaa392094",
       "version_major": 2,
       "version_minor": 0
      },
      "text/plain": [
       "  0%|          | 0/55 [00:00<?, ?it/s]"
      ]
     },
     "metadata": {},
     "output_type": "display_data"
    },
    {
     "name": "stdout",
     "output_type": "stream",
     "text": [
      "{'eval_loss': 2.2699389457702637, 'eval_bleu': 14.1124, 'eval_gen_len': 23.6633, 'eval_runtime': 44.0295, 'eval_samples_per_second': 19.964, 'eval_steps_per_second': 1.249, 'epoch': 20.16}\n"
     ]
    },
    {
     "data": {
      "application/vnd.jupyter.widget-view+json": {
       "model_id": "121dc80453d74d6193e5ee78f7d85a90",
       "version_major": 2,
       "version_minor": 0
      },
      "text/plain": [
       "  0%|          | 0/55 [00:00<?, ?it/s]"
      ]
     },
     "metadata": {},
     "output_type": "display_data"
    },
    {
     "name": "stdout",
     "output_type": "stream",
     "text": [
      "{'eval_loss': 2.2672512531280518, 'eval_bleu': 14.0231, 'eval_gen_len': 23.6633, 'eval_runtime': 44.0601, 'eval_samples_per_second': 19.95, 'eval_steps_per_second': 1.248, 'epoch': 20.17}\n"
     ]
    },
    {
     "data": {
      "application/vnd.jupyter.widget-view+json": {
       "model_id": "195b09fbc8244928b0c941b9a88aa82a",
       "version_major": 2,
       "version_minor": 0
      },
      "text/plain": [
       "  0%|          | 0/55 [00:00<?, ?it/s]"
      ]
     },
     "metadata": {},
     "output_type": "display_data"
    },
    {
     "name": "stdout",
     "output_type": "stream",
     "text": [
      "{'eval_loss': 2.2692089080810547, 'eval_bleu': 13.9812, 'eval_gen_len': 23.6496, 'eval_runtime': 45.6947, 'eval_samples_per_second': 19.236, 'eval_steps_per_second': 1.204, 'epoch': 20.19}\n",
      "{'loss': 1.1367, 'grad_norm': 1.5501067638397217, 'learning_rate': 2.666666666666667e-05, 'epoch': 20.2}\n"
     ]
    },
    {
     "data": {
      "application/vnd.jupyter.widget-view+json": {
       "model_id": "b496e5e7ad264618b420bfe7a6ee5d1a",
       "version_major": 2,
       "version_minor": 0
      },
      "text/plain": [
       "  0%|          | 0/55 [00:00<?, ?it/s]"
      ]
     },
     "metadata": {},
     "output_type": "display_data"
    },
    {
     "name": "stdout",
     "output_type": "stream",
     "text": [
      "{'eval_loss': 2.266624927520752, 'eval_bleu': 14.1375, 'eval_gen_len': 23.6689, 'eval_runtime': 45.587, 'eval_samples_per_second': 19.282, 'eval_steps_per_second': 1.206, 'epoch': 20.2}\n"
     ]
    },
    {
     "data": {
      "application/vnd.jupyter.widget-view+json": {
       "model_id": "27d8f1af17574503998256c09b59cd02",
       "version_major": 2,
       "version_minor": 0
      },
      "text/plain": [
       "  0%|          | 0/55 [00:00<?, ?it/s]"
      ]
     },
     "metadata": {},
     "output_type": "display_data"
    },
    {
     "name": "stdout",
     "output_type": "stream",
     "text": [
      "{'eval_loss': 2.2666661739349365, 'eval_bleu': 14.1891, 'eval_gen_len': 23.6883, 'eval_runtime': 46.002, 'eval_samples_per_second': 19.108, 'eval_steps_per_second': 1.196, 'epoch': 20.21}\n"
     ]
    },
    {
     "data": {
      "application/vnd.jupyter.widget-view+json": {
       "model_id": "a8f808c33baf47318b1d9471ff9ed7f8",
       "version_major": 2,
       "version_minor": 0
      },
      "text/plain": [
       "  0%|          | 0/55 [00:00<?, ?it/s]"
      ]
     },
     "metadata": {},
     "output_type": "display_data"
    },
    {
     "name": "stdout",
     "output_type": "stream",
     "text": [
      "{'eval_loss': 2.2677724361419678, 'eval_bleu': 14.1839, 'eval_gen_len': 23.6917, 'eval_runtime': 44.4582, 'eval_samples_per_second': 19.771, 'eval_steps_per_second': 1.237, 'epoch': 20.23}\n"
     ]
    },
    {
     "data": {
      "application/vnd.jupyter.widget-view+json": {
       "model_id": "ce7a8afaa22043168b74d2b85308bf3f",
       "version_major": 2,
       "version_minor": 0
      },
      "text/plain": [
       "  0%|          | 0/55 [00:00<?, ?it/s]"
      ]
     },
     "metadata": {},
     "output_type": "display_data"
    },
    {
     "name": "stdout",
     "output_type": "stream",
     "text": [
      "{'eval_loss': 2.265399217605591, 'eval_bleu': 14.0835, 'eval_gen_len': 23.7224, 'eval_runtime': 44.8772, 'eval_samples_per_second': 19.587, 'eval_steps_per_second': 1.226, 'epoch': 20.24}\n"
     ]
    },
    {
     "data": {
      "application/vnd.jupyter.widget-view+json": {
       "model_id": "14fad980c36447d482e1ff7b7d760787",
       "version_major": 2,
       "version_minor": 0
      },
      "text/plain": [
       "  0%|          | 0/55 [00:00<?, ?it/s]"
      ]
     },
     "metadata": {},
     "output_type": "display_data"
    },
    {
     "name": "stdout",
     "output_type": "stream",
     "text": [
      "{'eval_loss': 2.266930103302002, 'eval_bleu': 13.9888, 'eval_gen_len': 23.6439, 'eval_runtime': 44.9525, 'eval_samples_per_second': 19.554, 'eval_steps_per_second': 1.224, 'epoch': 20.26}\n",
      "{'loss': 1.1347, 'grad_norm': 1.3471781015396118, 'learning_rate': 2.3333333333333336e-05, 'epoch': 20.27}\n"
     ]
    },
    {
     "data": {
      "application/vnd.jupyter.widget-view+json": {
       "model_id": "4da66627361f428a9208e51c004add18",
       "version_major": 2,
       "version_minor": 0
      },
      "text/plain": [
       "  0%|          | 0/55 [00:00<?, ?it/s]"
      ]
     },
     "metadata": {},
     "output_type": "display_data"
    },
    {
     "name": "stdout",
     "output_type": "stream",
     "text": [
      "{'eval_loss': 2.2651031017303467, 'eval_bleu': 14.1223, 'eval_gen_len': 23.6496, 'eval_runtime': 45.5606, 'eval_samples_per_second': 19.293, 'eval_steps_per_second': 1.207, 'epoch': 20.27}\n"
     ]
    },
    {
     "data": {
      "application/vnd.jupyter.widget-view+json": {
       "model_id": "8d713f1d7e694e06aca66550b755070b",
       "version_major": 2,
       "version_minor": 0
      },
      "text/plain": [
       "  0%|          | 0/55 [00:00<?, ?it/s]"
      ]
     },
     "metadata": {},
     "output_type": "display_data"
    },
    {
     "name": "stdout",
     "output_type": "stream",
     "text": [
      "{'eval_loss': 2.2640318870544434, 'eval_bleu': 14.1684, 'eval_gen_len': 23.6598, 'eval_runtime': 45.8743, 'eval_samples_per_second': 19.161, 'eval_steps_per_second': 1.199, 'epoch': 20.28}\n"
     ]
    },
    {
     "data": {
      "application/vnd.jupyter.widget-view+json": {
       "model_id": "98f6c8f58d824789b8942b6eb6d63490",
       "version_major": 2,
       "version_minor": 0
      },
      "text/plain": [
       "  0%|          | 0/55 [00:00<?, ?it/s]"
      ]
     },
     "metadata": {},
     "output_type": "display_data"
    },
    {
     "name": "stdout",
     "output_type": "stream",
     "text": [
      "{'eval_loss': 2.2652814388275146, 'eval_bleu': 14.2665, 'eval_gen_len': 23.6667, 'eval_runtime': 44.733, 'eval_samples_per_second': 19.65, 'eval_steps_per_second': 1.23, 'epoch': 20.3}\n"
     ]
    },
    {
     "data": {
      "application/vnd.jupyter.widget-view+json": {
       "model_id": "95b2c44788a7425083a63ccbeac781e4",
       "version_major": 2,
       "version_minor": 0
      },
      "text/plain": [
       "  0%|          | 0/55 [00:00<?, ?it/s]"
      ]
     },
     "metadata": {},
     "output_type": "display_data"
    },
    {
     "name": "stdout",
     "output_type": "stream",
     "text": [
      "{'eval_loss': 2.268639087677002, 'eval_bleu': 14.2009, 'eval_gen_len': 23.7042, 'eval_runtime': 45.9404, 'eval_samples_per_second': 19.133, 'eval_steps_per_second': 1.197, 'epoch': 20.31}\n"
     ]
    },
    {
     "data": {
      "application/vnd.jupyter.widget-view+json": {
       "model_id": "ba23f5d4fbab4f54a5140cd05043b3a7",
       "version_major": 2,
       "version_minor": 0
      },
      "text/plain": [
       "  0%|          | 0/55 [00:00<?, ?it/s]"
      ]
     },
     "metadata": {},
     "output_type": "display_data"
    },
    {
     "name": "stdout",
     "output_type": "stream",
     "text": [
      "{'eval_loss': 2.2701663970947266, 'eval_bleu': 14.1518, 'eval_gen_len': 23.694, 'eval_runtime': 72.1121, 'eval_samples_per_second': 12.189, 'eval_steps_per_second': 0.763, 'epoch': 20.33}\n",
      "{'loss': 1.1404, 'grad_norm': 1.560865044593811, 'learning_rate': 2e-05, 'epoch': 20.34}\n"
     ]
    },
    {
     "data": {
      "application/vnd.jupyter.widget-view+json": {
       "model_id": "9d80b6a7a388461f90dae87172dc118f",
       "version_major": 2,
       "version_minor": 0
      },
      "text/plain": [
       "  0%|          | 0/55 [00:00<?, ?it/s]"
      ]
     },
     "metadata": {},
     "output_type": "display_data"
    },
    {
     "name": "stdout",
     "output_type": "stream",
     "text": [
      "{'eval_loss': 2.2648892402648926, 'eval_bleu': 14.194, 'eval_gen_len': 23.7418, 'eval_runtime': 94.8256, 'eval_samples_per_second': 9.27, 'eval_steps_per_second': 0.58, 'epoch': 20.34}\n"
     ]
    },
    {
     "data": {
      "application/vnd.jupyter.widget-view+json": {
       "model_id": "ae12b274f72747748c2f403dcd5de909",
       "version_major": 2,
       "version_minor": 0
      },
      "text/plain": [
       "  0%|          | 0/55 [00:00<?, ?it/s]"
      ]
     },
     "metadata": {},
     "output_type": "display_data"
    },
    {
     "name": "stdout",
     "output_type": "stream",
     "text": [
      "{'eval_loss': 2.2700138092041016, 'eval_bleu': 14.2649, 'eval_gen_len': 23.6758, 'eval_runtime': 46.4911, 'eval_samples_per_second': 18.907, 'eval_steps_per_second': 1.183, 'epoch': 20.35}\n"
     ]
    },
    {
     "data": {
      "application/vnd.jupyter.widget-view+json": {
       "model_id": "d7146ff30daa4556b022f3907374d3fa",
       "version_major": 2,
       "version_minor": 0
      },
      "text/plain": [
       "  0%|          | 0/55 [00:00<?, ?it/s]"
      ]
     },
     "metadata": {},
     "output_type": "display_data"
    },
    {
     "name": "stdout",
     "output_type": "stream",
     "text": [
      "{'eval_loss': 2.268787145614624, 'eval_bleu': 14.2587, 'eval_gen_len': 23.7156, 'eval_runtime': 86.0908, 'eval_samples_per_second': 10.21, 'eval_steps_per_second': 0.639, 'epoch': 20.37}\n"
     ]
    },
    {
     "data": {
      "application/vnd.jupyter.widget-view+json": {
       "model_id": "d902250b8ad44be786ca1a1ea47a48ef",
       "version_major": 2,
       "version_minor": 0
      },
      "text/plain": [
       "  0%|          | 0/55 [00:00<?, ?it/s]"
      ]
     },
     "metadata": {},
     "output_type": "display_data"
    },
    {
     "name": "stdout",
     "output_type": "stream",
     "text": [
      "{'eval_loss': 2.2656149864196777, 'eval_bleu': 14.3223, 'eval_gen_len': 23.6746, 'eval_runtime': 43.6675, 'eval_samples_per_second': 20.129, 'eval_steps_per_second': 1.26, 'epoch': 20.38}\n"
     ]
    },
    {
     "data": {
      "application/vnd.jupyter.widget-view+json": {
       "model_id": "81b9bd8d8b054285801a569cbc3299c3",
       "version_major": 2,
       "version_minor": 0
      },
      "text/plain": [
       "  0%|          | 0/55 [00:00<?, ?it/s]"
      ]
     },
     "metadata": {},
     "output_type": "display_data"
    },
    {
     "name": "stdout",
     "output_type": "stream",
     "text": [
      "{'eval_loss': 2.266754627227783, 'eval_bleu': 14.3008, 'eval_gen_len': 23.661, 'eval_runtime': 41.7403, 'eval_samples_per_second': 21.059, 'eval_steps_per_second': 1.318, 'epoch': 20.39}\n",
      "{'loss': 1.1415, 'grad_norm': 1.1968663930892944, 'learning_rate': 1.6666666666666667e-05, 'epoch': 20.41}\n"
     ]
    },
    {
     "data": {
      "application/vnd.jupyter.widget-view+json": {
       "model_id": "946d71dae3a2461ebe90f71a9711eacc",
       "version_major": 2,
       "version_minor": 0
      },
      "text/plain": [
       "  0%|          | 0/55 [00:00<?, ?it/s]"
      ]
     },
     "metadata": {},
     "output_type": "display_data"
    },
    {
     "name": "stdout",
     "output_type": "stream",
     "text": [
      "{'eval_loss': 2.264829397201538, 'eval_bleu': 14.1468, 'eval_gen_len': 23.6576, 'eval_runtime': 44.3191, 'eval_samples_per_second': 19.833, 'eval_steps_per_second': 1.241, 'epoch': 20.41}\n"
     ]
    },
    {
     "data": {
      "application/vnd.jupyter.widget-view+json": {
       "model_id": "7f930685abf3431889fcc2daa3bb236d",
       "version_major": 2,
       "version_minor": 0
      },
      "text/plain": [
       "  0%|          | 0/55 [00:00<?, ?it/s]"
      ]
     },
     "metadata": {},
     "output_type": "display_data"
    },
    {
     "name": "stdout",
     "output_type": "stream",
     "text": [
      "{'eval_loss': 2.2665672302246094, 'eval_bleu': 14.0918, 'eval_gen_len': 23.6837, 'eval_runtime': 40.6783, 'eval_samples_per_second': 21.609, 'eval_steps_per_second': 1.352, 'epoch': 20.42}\n"
     ]
    },
    {
     "data": {
      "application/vnd.jupyter.widget-view+json": {
       "model_id": "fe2716157de6444f979222b02ec5470c",
       "version_major": 2,
       "version_minor": 0
      },
      "text/plain": [
       "  0%|          | 0/55 [00:00<?, ?it/s]"
      ]
     },
     "metadata": {},
     "output_type": "display_data"
    },
    {
     "name": "stdout",
     "output_type": "stream",
     "text": [
      "{'eval_loss': 2.2655951976776123, 'eval_bleu': 14.2347, 'eval_gen_len': 23.7406, 'eval_runtime': 41.969, 'eval_samples_per_second': 20.944, 'eval_steps_per_second': 1.31, 'epoch': 20.44}\n"
     ]
    },
    {
     "data": {
      "application/vnd.jupyter.widget-view+json": {
       "model_id": "2bafc0a235b14beaaebc1b3ba2af8f94",
       "version_major": 2,
       "version_minor": 0
      },
      "text/plain": [
       "  0%|          | 0/55 [00:00<?, ?it/s]"
      ]
     },
     "metadata": {},
     "output_type": "display_data"
    },
    {
     "name": "stdout",
     "output_type": "stream",
     "text": [
      "{'eval_loss': 2.2682833671569824, 'eval_bleu': 14.2499, 'eval_gen_len': 23.6519, 'eval_runtime': 45.6391, 'eval_samples_per_second': 19.26, 'eval_steps_per_second': 1.205, 'epoch': 20.45}\n"
     ]
    },
    {
     "data": {
      "application/vnd.jupyter.widget-view+json": {
       "model_id": "6cba53b27ee9447c83fe93546f9c2e7f",
       "version_major": 2,
       "version_minor": 0
      },
      "text/plain": [
       "  0%|          | 0/55 [00:00<?, ?it/s]"
      ]
     },
     "metadata": {},
     "output_type": "display_data"
    },
    {
     "name": "stdout",
     "output_type": "stream",
     "text": [
      "{'eval_loss': 2.2666375637054443, 'eval_bleu': 14.2438, 'eval_gen_len': 23.6883, 'eval_runtime': 52.5404, 'eval_samples_per_second': 16.73, 'eval_steps_per_second': 1.047, 'epoch': 20.46}\n",
      "{'loss': 1.1386, 'grad_norm': 1.7287795543670654, 'learning_rate': 1.3333333333333335e-05, 'epoch': 20.48}\n"
     ]
    },
    {
     "data": {
      "application/vnd.jupyter.widget-view+json": {
       "model_id": "d5d91582c09e482abfefd5273ebfc15b",
       "version_major": 2,
       "version_minor": 0
      },
      "text/plain": [
       "  0%|          | 0/55 [00:00<?, ?it/s]"
      ]
     },
     "metadata": {},
     "output_type": "display_data"
    },
    {
     "name": "stdout",
     "output_type": "stream",
     "text": [
      "{'eval_loss': 2.267423152923584, 'eval_bleu': 14.1811, 'eval_gen_len': 23.6689, 'eval_runtime': 61.2512, 'eval_samples_per_second': 14.351, 'eval_steps_per_second': 0.898, 'epoch': 20.48}\n"
     ]
    },
    {
     "data": {
      "application/vnd.jupyter.widget-view+json": {
       "model_id": "685baa47ba80420885051c804690b5ce",
       "version_major": 2,
       "version_minor": 0
      },
      "text/plain": [
       "  0%|          | 0/55 [00:00<?, ?it/s]"
      ]
     },
     "metadata": {},
     "output_type": "display_data"
    },
    {
     "name": "stdout",
     "output_type": "stream",
     "text": [
      "{'eval_loss': 2.267929792404175, 'eval_bleu': 14.2366, 'eval_gen_len': 23.6371, 'eval_runtime': 44.906, 'eval_samples_per_second': 19.574, 'eval_steps_per_second': 1.225, 'epoch': 20.49}\n"
     ]
    },
    {
     "data": {
      "application/vnd.jupyter.widget-view+json": {
       "model_id": "15a36af182cb42f784bd3ffe70363c90",
       "version_major": 2,
       "version_minor": 0
      },
      "text/plain": [
       "  0%|          | 0/55 [00:00<?, ?it/s]"
      ]
     },
     "metadata": {},
     "output_type": "display_data"
    },
    {
     "name": "stdout",
     "output_type": "stream",
     "text": [
      "{'eval_loss': 2.269641160964966, 'eval_bleu': 14.2009, 'eval_gen_len': 23.6667, 'eval_runtime': 48.748, 'eval_samples_per_second': 18.032, 'eval_steps_per_second': 1.128, 'epoch': 20.51}\n"
     ]
    },
    {
     "data": {
      "application/vnd.jupyter.widget-view+json": {
       "model_id": "965407d738c34b758f47468de3384795",
       "version_major": 2,
       "version_minor": 0
      },
      "text/plain": [
       "  0%|          | 0/55 [00:00<?, ?it/s]"
      ]
     },
     "metadata": {},
     "output_type": "display_data"
    },
    {
     "name": "stdout",
     "output_type": "stream",
     "text": [
      "{'eval_loss': 2.267956018447876, 'eval_bleu': 14.0904, 'eval_gen_len': 23.6564, 'eval_runtime': 46.6046, 'eval_samples_per_second': 18.861, 'eval_steps_per_second': 1.18, 'epoch': 20.52}\n"
     ]
    },
    {
     "data": {
      "application/vnd.jupyter.widget-view+json": {
       "model_id": "3014dd0868434c209da09c15790649d1",
       "version_major": 2,
       "version_minor": 0
      },
      "text/plain": [
       "  0%|          | 0/55 [00:00<?, ?it/s]"
      ]
     },
     "metadata": {},
     "output_type": "display_data"
    },
    {
     "name": "stdout",
     "output_type": "stream",
     "text": [
      "{'eval_loss': 2.268352746963501, 'eval_bleu': 14.1861, 'eval_gen_len': 23.6701, 'eval_runtime': 45.5969, 'eval_samples_per_second': 19.278, 'eval_steps_per_second': 1.206, 'epoch': 20.53}\n",
      "{'loss': 1.1411, 'grad_norm': 1.2488734722137451, 'learning_rate': 1e-05, 'epoch': 20.55}\n"
     ]
    },
    {
     "data": {
      "application/vnd.jupyter.widget-view+json": {
       "model_id": "cc41eb2da56b4db380c14234dcf570cf",
       "version_major": 2,
       "version_minor": 0
      },
      "text/plain": [
       "  0%|          | 0/55 [00:00<?, ?it/s]"
      ]
     },
     "metadata": {},
     "output_type": "display_data"
    },
    {
     "name": "stdout",
     "output_type": "stream",
     "text": [
      "{'eval_loss': 2.2666563987731934, 'eval_bleu': 14.0773, 'eval_gen_len': 23.6519, 'eval_runtime': 45.8385, 'eval_samples_per_second': 19.176, 'eval_steps_per_second': 1.2, 'epoch': 20.55}\n"
     ]
    },
    {
     "data": {
      "application/vnd.jupyter.widget-view+json": {
       "model_id": "5caf6d2df77f4b71a5418797c7e4d17b",
       "version_major": 2,
       "version_minor": 0
      },
      "text/plain": [
       "  0%|          | 0/55 [00:00<?, ?it/s]"
      ]
     },
     "metadata": {},
     "output_type": "display_data"
    },
    {
     "name": "stdout",
     "output_type": "stream",
     "text": [
      "{'eval_loss': 2.263880729675293, 'eval_bleu': 14.1803, 'eval_gen_len': 23.6485, 'eval_runtime': 45.2898, 'eval_samples_per_second': 19.408, 'eval_steps_per_second': 1.214, 'epoch': 20.56}\n"
     ]
    },
    {
     "data": {
      "application/vnd.jupyter.widget-view+json": {
       "model_id": "4429a0fdea3e4f8fadec4fac4938b573",
       "version_major": 2,
       "version_minor": 0
      },
      "text/plain": [
       "  0%|          | 0/55 [00:00<?, ?it/s]"
      ]
     },
     "metadata": {},
     "output_type": "display_data"
    },
    {
     "name": "stdout",
     "output_type": "stream",
     "text": [
      "{'eval_loss': 2.2659571170806885, 'eval_bleu': 14.148, 'eval_gen_len': 23.6405, 'eval_runtime': 54.5737, 'eval_samples_per_second': 16.107, 'eval_steps_per_second': 1.008, 'epoch': 20.57}\n"
     ]
    },
    {
     "data": {
      "application/vnd.jupyter.widget-view+json": {
       "model_id": "dd1dbdf987874d678ac404a60b87086e",
       "version_major": 2,
       "version_minor": 0
      },
      "text/plain": [
       "  0%|          | 0/55 [00:00<?, ?it/s]"
      ]
     },
     "metadata": {},
     "output_type": "display_data"
    },
    {
     "name": "stdout",
     "output_type": "stream",
     "text": [
      "{'eval_loss': 2.2669427394866943, 'eval_bleu': 14.2369, 'eval_gen_len': 23.6439, 'eval_runtime': 45.6239, 'eval_samples_per_second': 19.266, 'eval_steps_per_second': 1.206, 'epoch': 20.59}\n"
     ]
    },
    {
     "data": {
      "application/vnd.jupyter.widget-view+json": {
       "model_id": "6324a81a96454d5b918286d83d6956d2",
       "version_major": 2,
       "version_minor": 0
      },
      "text/plain": [
       "  0%|          | 0/55 [00:00<?, ?it/s]"
      ]
     },
     "metadata": {},
     "output_type": "display_data"
    },
    {
     "name": "stdout",
     "output_type": "stream",
     "text": [
      "{'eval_loss': 2.2661938667297363, 'eval_bleu': 14.128, 'eval_gen_len': 23.6951, 'eval_runtime': 45.7642, 'eval_samples_per_second': 19.207, 'eval_steps_per_second': 1.202, 'epoch': 20.6}\n",
      "{'loss': 1.1389, 'grad_norm': 1.4066047668457031, 'learning_rate': 6.6666666666666675e-06, 'epoch': 20.62}\n"
     ]
    },
    {
     "data": {
      "application/vnd.jupyter.widget-view+json": {
       "model_id": "70a4d89fb33849e18f128a0aa5d37eaa",
       "version_major": 2,
       "version_minor": 0
      },
      "text/plain": [
       "  0%|          | 0/55 [00:00<?, ?it/s]"
      ]
     },
     "metadata": {},
     "output_type": "display_data"
    },
    {
     "name": "stdout",
     "output_type": "stream",
     "text": [
      "{'eval_loss': 2.2661662101745605, 'eval_bleu': 14.1351, 'eval_gen_len': 23.6951, 'eval_runtime': 46.2236, 'eval_samples_per_second': 19.016, 'eval_steps_per_second': 1.19, 'epoch': 20.62}\n"
     ]
    },
    {
     "data": {
      "application/vnd.jupyter.widget-view+json": {
       "model_id": "83817ed317444350b07e79e61c3de982",
       "version_major": 2,
       "version_minor": 0
      },
      "text/plain": [
       "  0%|          | 0/55 [00:00<?, ?it/s]"
      ]
     },
     "metadata": {},
     "output_type": "display_data"
    },
    {
     "name": "stdout",
     "output_type": "stream",
     "text": [
      "{'eval_loss': 2.2655200958251953, 'eval_bleu': 14.2365, 'eval_gen_len': 23.6689, 'eval_runtime': 44.6258, 'eval_samples_per_second': 19.697, 'eval_steps_per_second': 1.232, 'epoch': 20.63}\n"
     ]
    },
    {
     "data": {
      "application/vnd.jupyter.widget-view+json": {
       "model_id": "2347c6b9b68a4588a914817d34945bf9",
       "version_major": 2,
       "version_minor": 0
      },
      "text/plain": [
       "  0%|          | 0/55 [00:00<?, ?it/s]"
      ]
     },
     "metadata": {},
     "output_type": "display_data"
    },
    {
     "name": "stdout",
     "output_type": "stream",
     "text": [
      "{'eval_loss': 2.2657997608184814, 'eval_bleu': 14.1736, 'eval_gen_len': 23.6849, 'eval_runtime': 46.3607, 'eval_samples_per_second': 18.96, 'eval_steps_per_second': 1.186, 'epoch': 20.64}\n"
     ]
    },
    {
     "data": {
      "application/vnd.jupyter.widget-view+json": {
       "model_id": "c674af9e604b4db8809e20fd1e24b0ae",
       "version_major": 2,
       "version_minor": 0
      },
      "text/plain": [
       "  0%|          | 0/55 [00:00<?, ?it/s]"
      ]
     },
     "metadata": {},
     "output_type": "display_data"
    },
    {
     "name": "stdout",
     "output_type": "stream",
     "text": [
      "{'eval_loss': 2.2659406661987305, 'eval_bleu': 14.1504, 'eval_gen_len': 23.6644, 'eval_runtime': 45.7847, 'eval_samples_per_second': 19.199, 'eval_steps_per_second': 1.201, 'epoch': 20.66}\n"
     ]
    },
    {
     "data": {
      "application/vnd.jupyter.widget-view+json": {
       "model_id": "ae24767127cf4ebba7596af52510df97",
       "version_major": 2,
       "version_minor": 0
      },
      "text/plain": [
       "  0%|          | 0/55 [00:00<?, ?it/s]"
      ]
     },
     "metadata": {},
     "output_type": "display_data"
    },
    {
     "name": "stdout",
     "output_type": "stream",
     "text": [
      "{'eval_loss': 2.2662951946258545, 'eval_bleu': 14.1534, 'eval_gen_len': 23.6576, 'eval_runtime': 45.9283, 'eval_samples_per_second': 19.139, 'eval_steps_per_second': 1.198, 'epoch': 20.67}\n",
      "{'loss': 1.1337, 'grad_norm': 1.4248110055923462, 'learning_rate': 3.3333333333333337e-06, 'epoch': 20.68}\n"
     ]
    },
    {
     "data": {
      "application/vnd.jupyter.widget-view+json": {
       "model_id": "213179e966854d419177d40f23357564",
       "version_major": 2,
       "version_minor": 0
      },
      "text/plain": [
       "  0%|          | 0/55 [00:00<?, ?it/s]"
      ]
     },
     "metadata": {},
     "output_type": "display_data"
    },
    {
     "name": "stdout",
     "output_type": "stream",
     "text": [
      "{'eval_loss': 2.266554355621338, 'eval_bleu': 14.1749, 'eval_gen_len': 23.6724, 'eval_runtime': 46.7669, 'eval_samples_per_second': 18.795, 'eval_steps_per_second': 1.176, 'epoch': 20.68}\n"
     ]
    },
    {
     "data": {
      "application/vnd.jupyter.widget-view+json": {
       "model_id": "57c99cea8eea4e189a6cf7ff7a90c2af",
       "version_major": 2,
       "version_minor": 0
      },
      "text/plain": [
       "  0%|          | 0/55 [00:00<?, ?it/s]"
      ]
     },
     "metadata": {},
     "output_type": "display_data"
    },
    {
     "name": "stdout",
     "output_type": "stream",
     "text": [
      "{'eval_loss': 2.2663426399230957, 'eval_bleu': 14.1192, 'eval_gen_len': 23.6962, 'eval_runtime': 44.8275, 'eval_samples_per_second': 19.609, 'eval_steps_per_second': 1.227, 'epoch': 20.7}\n"
     ]
    },
    {
     "data": {
      "application/vnd.jupyter.widget-view+json": {
       "model_id": "bf70721fcb484bba8fe58918178e62b9",
       "version_major": 2,
       "version_minor": 0
      },
      "text/plain": [
       "  0%|          | 0/55 [00:00<?, ?it/s]"
      ]
     },
     "metadata": {},
     "output_type": "display_data"
    },
    {
     "name": "stdout",
     "output_type": "stream",
     "text": [
      "{'eval_loss': 2.2666208744049072, 'eval_bleu': 14.1107, 'eval_gen_len': 23.6894, 'eval_runtime': 46.4142, 'eval_samples_per_second': 18.938, 'eval_steps_per_second': 1.185, 'epoch': 20.71}\n"
     ]
    },
    {
     "data": {
      "application/vnd.jupyter.widget-view+json": {
       "model_id": "b4e03b0921f0478da61378eacf995504",
       "version_major": 2,
       "version_minor": 0
      },
      "text/plain": [
       "  0%|          | 0/55 [00:00<?, ?it/s]"
      ]
     },
     "metadata": {},
     "output_type": "display_data"
    },
    {
     "name": "stdout",
     "output_type": "stream",
     "text": [
      "{'eval_loss': 2.26609206199646, 'eval_bleu': 14.1405, 'eval_gen_len': 23.678, 'eval_runtime': 45.0732, 'eval_samples_per_second': 19.502, 'eval_steps_per_second': 1.22, 'epoch': 20.73}\n"
     ]
    },
    {
     "data": {
      "application/vnd.jupyter.widget-view+json": {
       "model_id": "cbe127f56149483aa33b76dba02eac30",
       "version_major": 2,
       "version_minor": 0
      },
      "text/plain": [
       "  0%|          | 0/55 [00:00<?, ?it/s]"
      ]
     },
     "metadata": {},
     "output_type": "display_data"
    },
    {
     "name": "stdout",
     "output_type": "stream",
     "text": [
      "{'eval_loss': 2.266099214553833, 'eval_bleu': 14.1111, 'eval_gen_len': 23.694, 'eval_runtime': 46.7643, 'eval_samples_per_second': 18.796, 'eval_steps_per_second': 1.176, 'epoch': 20.74}\n",
      "{'loss': 1.1381, 'grad_norm': 1.2692394256591797, 'learning_rate': 0.0, 'epoch': 20.75}\n"
     ]
    },
    {
     "data": {
      "application/vnd.jupyter.widget-view+json": {
       "model_id": "ce7cb9307ee645d4b403415204c95e83",
       "version_major": 2,
       "version_minor": 0
      },
      "text/plain": [
       "  0%|          | 0/55 [00:00<?, ?it/s]"
      ]
     },
     "metadata": {},
     "output_type": "display_data"
    },
    {
     "name": "stderr",
     "output_type": "stream",
     "text": [
      "Some non-default generation parameters are set in the model config. These should go into a GenerationConfig file (https://huggingface.co/docs/transformers/generation_strategies#save-a-custom-decoding-strategy-with-your-model) instead. This warning will be raised to an exception in v4.41.\n",
      "Non-default generation parameters: {'max_length': 32, 'min_length': 8, 'early_stopping': True, 'num_beams': 4, 'length_penalty': 2.0, 'no_repeat_ngram_size': 3}\n"
     ]
    },
    {
     "name": "stdout",
     "output_type": "stream",
     "text": [
      "{'eval_loss': 2.2659811973571777, 'eval_bleu': 14.1212, 'eval_gen_len': 23.694, 'eval_runtime': 46.3468, 'eval_samples_per_second': 18.966, 'eval_steps_per_second': 1.187, 'epoch': 20.75}\n"
     ]
    },
    {
     "name": "stderr",
     "output_type": "stream",
     "text": [
      "Some non-default generation parameters are set in the model config. These should go into a GenerationConfig file (https://huggingface.co/docs/transformers/generation_strategies#save-a-custom-decoding-strategy-with-your-model) instead. This warning will be raised to an exception in v4.41.\n",
      "Non-default generation parameters: {'max_length': 32, 'min_length': 8, 'early_stopping': True, 'num_beams': 4, 'length_penalty': 2.0, 'no_repeat_ngram_size': 3}\n"
     ]
    },
    {
     "name": "stdout",
     "output_type": "stream",
     "text": [
      "{'train_runtime': 92143.844, 'train_samples_per_second': 52.092, 'train_steps_per_second': 3.256, 'train_loss': 0.9730732552083333, 'epoch': 20.75}\n"
     ]
    },
    {
     "data": {
      "application/vnd.jupyter.widget-view+json": {
       "model_id": "af2aa7438d9045cb8bb87abea49f656e",
       "version_major": 2,
       "version_minor": 0
      },
      "text/plain": [
       "VBox(children=(Label(value='0.001 MB of 1145.112 MB uploaded\\r'), FloatProgress(value=9.652409585221486e-07, m…"
      ]
     },
     "metadata": {},
     "output_type": "display_data"
    },
    {
     "data": {
      "text/html": [
       "<style>\n",
       "    table.wandb td:nth-child(1) { padding: 0 10px; text-align: left ; width: auto;} td:nth-child(2) {text-align: left ; width: 100%}\n",
       "    .wandb-row { display: flex; flex-direction: row; flex-wrap: wrap; justify-content: flex-start; width: 100% }\n",
       "    .wandb-col { display: flex; flex-direction: column; flex-basis: 100%; flex: 1; padding: 10px; }\n",
       "    </style>\n",
       "<div class=\"wandb-row\"><div class=\"wandb-col\"><h3>Run history:</h3><br/><table class=\"wandb\"><tr><td>eval/bleu</td><td>▁▃▂▅▅▄▄▄▄▄▄▆▆▆▆▅▅█▆▅▆▅▅█▇█▆█▆▇█▇▇▇▇▇▇▇▇▇</td></tr><tr><td>eval/gen_len</td><td>▂▄█▄▆▆▅▅▅▄▇█▆▄▃▅▃▃▃▅▅▁▂▃▂▃▂▂▅▄▃▄▄▁▃▄▄▂▃▂</td></tr><tr><td>eval/loss</td><td>▅▄▃▄▃▂▄▂▂▂▂▁▃▂▁▃▂▂▃▂▃▄▃▅▄▃▆▅▄▆▆▅▇▇▆▇▇▇██</td></tr><tr><td>eval/runtime</td><td>▁▁▇▇▇▇▇▇▇▇█▇▇▇▇▇▁▁▁▁█▁▂▄▁▂▁▁▁▁▁▁▄▆█▁▁▁▁▁</td></tr><tr><td>eval/samples_per_second</td><td>██▁▁▁▁▁▁▁▁▁▁▁▁▁▁████▁█▇▄█▆█▇▇███▄▂▁████▇</td></tr><tr><td>eval/steps_per_second</td><td>██▁▁▁▁▁▁▁▁▁▁▁▁▁▁████▁█▇▄█▆█▇▇███▄▂▁████▇</td></tr><tr><td>train/epoch</td><td>▁▁▁▁▂▂▂▂▂▃▃▃▃▃▃▄▄▄▄▄▅▅▅▅▅▅▆▆▆▆▆▆▇▇▇▇▇███</td></tr><tr><td>train/global_step</td><td>▁▁▁▁▂▂▂▂▂▃▃▃▃▃▃▄▄▄▄▄▅▅▅▅▅▅▆▆▆▆▆▆▇▇▇▇▇███</td></tr><tr><td>train/grad_norm</td><td>▆▁▂▆▂▅▄▂▁▂▂█▅▅▁▄▅▂▃▄▄▄▁▄▄▅▁▂▁▁▂▆▁▂▃▃▄▅▆▃</td></tr><tr><td>train/learning_rate</td><td>████▇▇▇▇▇▆▆▆▆▆▆▅▅▅▅▅▄▄▄▄▄▄▃▃▃▃▃▂▂▂▂▂▂▁▁▁</td></tr><tr><td>train/loss</td><td>▇██▇▇▇▆▆▆▅▆▆▅▅▅▄▄▅▄▄▄▃▃▃▃▃▂▂▃▂▂▂▂▂▂▁▁▁▁▁</td></tr><tr><td>train/total_flos</td><td>▁</td></tr><tr><td>train/train_loss</td><td>▁</td></tr><tr><td>train/train_runtime</td><td>▁</td></tr><tr><td>train/train_samples_per_second</td><td>▁</td></tr><tr><td>train/train_steps_per_second</td><td>▁</td></tr></table><br/></div><div class=\"wandb-col\"><h3>Run summary:</h3><br/><table class=\"wandb\"><tr><td>eval/bleu</td><td>14.1212</td></tr><tr><td>eval/gen_len</td><td>23.694</td></tr><tr><td>eval/loss</td><td>2.26598</td></tr><tr><td>eval/runtime</td><td>46.3468</td></tr><tr><td>eval/samples_per_second</td><td>18.966</td></tr><tr><td>eval/steps_per_second</td><td>1.187</td></tr><tr><td>train/epoch</td><td>20.75</td></tr><tr><td>train/global_step</td><td>300000</td></tr><tr><td>train/grad_norm</td><td>1.26924</td></tr><tr><td>train/learning_rate</td><td>0.0</td></tr><tr><td>train/loss</td><td>1.1381</td></tr><tr><td>train/total_flos</td><td>1.586156541444096e+17</td></tr><tr><td>train/train_loss</td><td>0.97307</td></tr><tr><td>train/train_runtime</td><td>92143.844</td></tr><tr><td>train/train_samples_per_second</td><td>52.092</td></tr><tr><td>train/train_steps_per_second</td><td>3.256</td></tr></table><br/></div></div>"
      ],
      "text/plain": [
       "<IPython.core.display.HTML object>"
      ]
     },
     "metadata": {},
     "output_type": "display_data"
    },
    {
     "data": {
      "text/html": [
       " View run <strong style=\"color:#cdcd00\">2024-03-10 11:12:53</strong> at: <a href='https://wandb.ai/xkisxk/MT5/runs/t3mbst5z' target=\"_blank\">https://wandb.ai/xkisxk/MT5/runs/t3mbst5z</a><br/>Synced 5 W&B file(s), 0 media file(s), 4 artifact file(s) and 0 other file(s)"
      ],
      "text/plain": [
       "<IPython.core.display.HTML object>"
      ]
     },
     "metadata": {},
     "output_type": "display_data"
    },
    {
     "data": {
      "text/html": [
       "Find logs at: <code>.\\wandb\\run-20240310_234232-t3mbst5z\\logs</code>"
      ],
      "text/plain": [
       "<IPython.core.display.HTML object>"
      ]
     },
     "metadata": {},
     "output_type": "display_data"
    }
   ],
   "source": [
    "trainer.train(resume_from_checkpoint=\"./wandb_mt5/checkpoint-100000\")\n",
    "\n",
    "# [optional] finish the wandb run, necessary in notebooks\n",
    "wandb.finish()"
   ]
  },
  {
   "cell_type": "code",
   "execution_count": 11,
   "metadata": {},
   "outputs": [
    {
     "name": "stderr",
     "output_type": "stream",
     "text": [
      "Some non-default generation parameters are set in the model config. These should go into a GenerationConfig file (https://huggingface.co/docs/transformers/generation_strategies#save-a-custom-decoding-strategy-with-your-model) instead. This warning will be raised to an exception in v4.41.\n",
      "Non-default generation parameters: {'max_length': 32, 'min_length': 8, 'early_stopping': True, 'num_beams': 4, 'length_penalty': 2.0, 'no_repeat_ngram_size': 3}\n"
     ]
    }
   ],
   "source": [
    "path = \"./wandb_mt5/mt5-tuned\"\n",
    "trainer.save_model(path)"
   ]
  },
  {
   "cell_type": "code",
   "execution_count": 17,
   "metadata": {},
   "outputs": [],
   "source": [
    "text = \"我喜欢吃鸡饭和冰淇淋。\""
   ]
  },
  {
   "cell_type": "code",
   "execution_count": 18,
   "metadata": {},
   "outputs": [
    {
     "data": {
      "text/plain": [
       "[{'translation_text': 'I liked chicken and ice cream.'}]"
      ]
     },
     "execution_count": 18,
     "metadata": {},
     "output_type": "execute_result"
    }
   ],
   "source": [
    "from transformers import pipeline\n",
    "\n",
    "model = AutoModelForSeq2SeqLM.from_pretrained(\"./wandb_mt5/mt5-tuned\")\n",
    "translator = pipeline(\"translation\", model=model, tokenizer=tokenizer)\n",
    "translator(text)"
   ]
  }
 ],
 "metadata": {
  "kernelspec": {
   "display_name": ".TFT_OCR_BOT",
   "language": "python",
   "name": "python3"
  },
  "language_info": {
   "codemirror_mode": {
    "name": "ipython",
    "version": 3
   },
   "file_extension": ".py",
   "mimetype": "text/x-python",
   "name": "python",
   "nbconvert_exporter": "python",
   "pygments_lexer": "ipython3",
   "version": "3.10.4"
  }
 },
 "nbformat": 4,
 "nbformat_minor": 2
}
