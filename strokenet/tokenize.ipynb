{
 "cells": [
  {
   "cell_type": "code",
   "execution_count": 29,
   "metadata": {},
   "outputs": [],
   "source": [
    "from collections import defaultdict\n",
    "# Create dict for text into strokes translation and vice versa\n",
    "with open(\"zh2letter.txt\", 'r', encoding=\"utf-8\") as f:\n",
    "    conversions = f.read()\n",
    "\n",
    "conversions = conversions.splitlines()\n",
    "zh2letter = defaultdict(str)\n",
    "letter2zh = defaultdict(str)\n",
    "for line in conversions:\n",
    "    chinese_char, strokes = line.split()\n",
    "    zh2letter[chinese_char] = strokes\n",
    "    letter2zh[strokes] = chinese_char"
   ]
  },
  {
   "cell_type": "code",
   "execution_count": 30,
   "metadata": {},
   "outputs": [],
   "source": [
    "from tokenizers import Tokenizer\n",
    "from tokenizers.models import BPE\n",
    "from tokenizers.trainers import BpeTrainer\n",
    "from tokenizers.pre_tokenizers import Whitespace"
   ]
  },
  {
   "cell_type": "code",
   "execution_count": 41,
   "metadata": {},
   "outputs": [],
   "source": [
    "BPE_file = \"./Wikipedia/BPE_10000.json\"\n",
    "\n",
    "# Load the BPE tokenizer from the JSON file\n",
    "bpe_tokenizer = Tokenizer.from_file(BPE_file)"
   ]
  },
  {
   "cell_type": "code",
   "execution_count": 43,
   "metadata": {},
   "outputs": [],
   "source": [
    "text = \"子曰：“学而时习之，不亦说乎？有朋自远方来，不亦乐乎？人不知而不愠，不亦君子乎？\"\n",
    "# Adds traditional chinese\n",
    "import opencc\n",
    "converter = opencc.OpenCC('s2t.json')\n",
    "text = converter.convert(text)"
   ]
  },
  {
   "cell_type": "code",
   "execution_count": 46,
   "metadata": {},
   "outputs": [],
   "source": [
    "strokes = []\n",
    "for char in text:\n",
    "    if len(zh2letter[char]) > 0:\n",
    "        strokes.append(zh2letter[char])"
   ]
  },
  {
   "cell_type": "code",
   "execution_count": 48,
   "metadata": {},
   "outputs": [
    {
     "data": {
      "text/plain": [
       "['hre0',\n",
       " 'aiee1',\n",
       " 'taeetotoieeohhre',\n",
       " 'etasaa',\n",
       " 'aieeeaeero',\n",
       " 'iodiodtaiee',\n",
       " 'ohn',\n",
       " 'etao',\n",
       " 'oetrto',\n",
       " 'oeeeaietnaietc',\n",
       " 'toter',\n",
       " 'etasee',\n",
       " 'tseetsee',\n",
       " 'taieee',\n",
       " 'eaeaietatoown',\n",
       " 'oest',\n",
       " 'etotoatn',\n",
       " 'etao',\n",
       " 'oetrto',\n",
       " 'taieellolloeatn',\n",
       " 'toter',\n",
       " 'tn1',\n",
       " 'etao',\n",
       " 'teetoaie',\n",
       " 'etasaa',\n",
       " 'etao',\n",
       " 'ooaaitoeaiaae',\n",
       " 'etao',\n",
       " 'oetrto',\n",
       " 'ieetaie',\n",
       " 'hre0',\n",
       " 'toter']"
      ]
     },
     "execution_count": 48,
     "metadata": {},
     "output_type": "execute_result"
    }
   ],
   "source": [
    "tokens = bpe_tokenizer.encode(\" \".join(strokes))\n",
    "tokens.tokens"
   ]
  }
 ],
 "metadata": {
  "kernelspec": {
   "display_name": ".TFT_OCR_BOT",
   "language": "python",
   "name": "python3"
  },
  "language_info": {
   "codemirror_mode": {
    "name": "ipython",
    "version": 3
   },
   "file_extension": ".py",
   "mimetype": "text/x-python",
   "name": "python",
   "nbconvert_exporter": "python",
   "pygments_lexer": "ipython3",
   "version": "3.10.4"
  }
 },
 "nbformat": 4,
 "nbformat_minor": 2
}
