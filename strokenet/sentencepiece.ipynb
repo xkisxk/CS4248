{
 "cells": [
  {
   "cell_type": "code",
   "execution_count": 1,
   "metadata": {},
   "outputs": [
    {
     "name": "stdout",
     "output_type": "stream",
     "text": [
      "aeeeaeee aotohaieasa oeeeaietaseeetero oeeeaietaseeetero , eaaietc aieeaee1 eaaeeetottea . taieetso etaieohtaoeeeae aeeeaeee aotohaieasa ottoottooheatn eaeoteea   loaseetctc etasee teoteoiebat ee odthtn oeotdaeaie etaeae oeeeaieown taaieaaiee eaeaieoheloeae aee taieetso eatollolloetouto tneaiaoteaiee , terduto eaaieeeeto aieeeaetn aeeeaeee aotohaieasa eteaieutoouoo oodtaieeoesttetn .\n",
      "\n"
     ]
    }
   ],
   "source": [
    "from tokenizers import SentencePieceBPETokenizer\n",
    "with open(\"./stroke_sentences.txt\", \"r\", encoding=\"utf-8\") as f:\n",
    "    text = f.readlines()"
   ]
  },
  {
   "cell_type": "code",
   "execution_count": 22,
   "metadata": {},
   "outputs": [
    {
     "name": "stdout",
     "output_type": "stream",
     "text": [
      "500\n",
      "1000\n"
     ]
    }
   ],
   "source": [
    "tokenizer = SentencePieceBPETokenizer()\n",
    "vocab_sizes = [500, 1000]\n",
    "for vocab_size in vocab_sizes:\n",
    "    print(vocab_size)\n",
    "    tokenizer.train_from_iterator(\n",
    "        text,\n",
    "        vocab_size=vocab_size,\n",
    "        min_frequency=5,\n",
    "        show_progress=True,\n",
    "        limit_alphabet=500,\n",
    "    )\n",
    "    tokenizer.save(f\"SentencePiece_{vocab_size}.json\")"
   ]
  },
  {
   "cell_type": "code",
   "execution_count": 30,
   "metadata": {},
   "outputs": [
    {
     "data": {
      "text/plain": [
       "['▁terduto', '▁eaieeeatneaseear', '▁tn2']"
      ]
     },
     "execution_count": 30,
     "metadata": {},
     "output_type": "execute_result"
    }
   ],
   "source": [
    "from tokenizers import Tokenizer\n",
    "file = \"SentencePiece_5000.json\"\n",
    "bpe_tokenizer = Tokenizer.from_file(file)\n",
    "stroke_text = 'terduto eaieeeatneaseear tn2'\n",
    "tokens = bpe_tokenizer.encode(stroke_text)\n",
    "tokens.tokens"
   ]
  },
  {
   "cell_type": "code",
   "execution_count": 15,
   "metadata": {},
   "outputs": [],
   "source": [
    "from collections import defaultdict\n",
    "import json\n",
    "\n",
    "# Read dictionary from JSON file\n",
    "with open('zh2letter_dict.json', 'r') as f:\n",
    "    zh2letter = json.load(f)\n",
    "\n",
    "with open('letter2zh_dict.json', 'r') as f:\n",
    "    letter2zh = json.load(f)\n",
    "\n",
    "# Convert loaded dictionary back to defaultdict\n",
    "zh2letter = defaultdict(list, zh2letter)\n",
    "letter2zh = defaultdict(list, letter2zh)"
   ]
  },
  {
   "cell_type": "code",
   "execution_count": 27,
   "metadata": {},
   "outputs": [
    {
     "data": {
      "text/plain": [
       "'我'"
      ]
     },
     "execution_count": 27,
     "metadata": {},
     "output_type": "execute_result"
    }
   ],
   "source": [
    "letter2zh[\"terduto\"]"
   ]
  },
  {
   "cell_type": "code",
   "execution_count": 31,
   "metadata": {},
   "outputs": [
    {
     "data": {
      "text/plain": [
       "['▁gteeaeeasoooo',\n",
       " '▁gteeaeeasoooo',\n",
       " '▁gtet',\n",
       " 'b',\n",
       " 'at',\n",
       " '▁gteeeatn0',\n",
       " '▁gteo',\n",
       " 'eto',\n",
       " 'd',\n",
       " 'teetn']"
      ]
     },
     "execution_count": 31,
     "metadata": {},
     "output_type": "execute_result"
    }
   ],
   "source": [
    "stroke_text = 'gteeaeeasoooo gteeaeeasoooo gtetbat gteeeatn0 gteoetodteetn'\n",
    "tokens = bpe_tokenizer.encode(stroke_text)\n",
    "tokens.tokens"
   ]
  },
  {
   "cell_type": "code",
   "execution_count": 40,
   "metadata": {},
   "outputs": [
    {
     "name": "stdout",
     "output_type": "stream",
     "text": [
      "gteeaeeasoooo 媽\n",
      "gteeaeeasoooo 媽\n",
      "gtet []\n",
      "b []\n",
      "at []\n",
      "gteeeatn0 妹\n",
      "gteo []\n",
      "eto []\n",
      "d []\n",
      "teetn []\n"
     ]
    }
   ],
   "source": [
    "for token in tokens.tokens:\n",
    "    if token[0] == '▁':\n",
    "        token = token[1:]    \n",
    "    print(token, letter2zh[token])"
   ]
  },
  {
   "cell_type": "code",
   "execution_count": 42,
   "metadata": {},
   "outputs": [
    {
     "data": {
      "text/plain": [
       "'馬'"
      ]
     },
     "execution_count": 42,
     "metadata": {},
     "output_type": "execute_result"
    }
   ],
   "source": [
    "letter2zh[\"eaeeasoooo\"]"
   ]
  }
 ],
 "metadata": {
  "kernelspec": {
   "display_name": ".TFT_OCR_BOT",
   "language": "python",
   "name": "python3"
  },
  "language_info": {
   "codemirror_mode": {
    "name": "ipython",
    "version": 3
   },
   "file_extension": ".py",
   "mimetype": "text/x-python",
   "name": "python",
   "nbconvert_exporter": "python",
   "pygments_lexer": "ipython3",
   "version": "3.10.4"
  }
 },
 "nbformat": 4,
 "nbformat_minor": 2
}
