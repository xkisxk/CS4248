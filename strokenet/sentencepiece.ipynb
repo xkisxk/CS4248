{
 "cells": [
  {
   "cell_type": "code",
   "execution_count": 3,
   "metadata": {},
   "outputs": [],
   "source": [
    "from tokenizers import SentencePieceBPETokenizer\n",
    "dataset = \"wikipedia\"\n",
    "with open(f\"./{dataset}_strokes.txt\", \"r\", encoding=\"utf-8\") as f:\n",
    "    text = f.readlines()"
   ]
  },
  {
   "cell_type": "code",
   "execution_count": 10,
   "metadata": {},
   "outputs": [
    {
     "name": "stdout",
     "output_type": "stream",
     "text": [
      "2000\n",
      "3000\n",
      "4000\n"
     ]
    }
   ],
   "source": [
    "tokenizer = SentencePieceBPETokenizer()\n",
    "vocab_sizes = [2000, 3000, 4000]\n",
    "for vocab_size in vocab_sizes:\n",
    "    print(vocab_size)\n",
    "    tokenizer.train_from_iterator(\n",
    "        text,\n",
    "        vocab_size=vocab_size,\n",
    "        min_frequency=5,\n",
    "        show_progress=True,\n",
    "        limit_alphabet=500,\n",
    "    )\n",
    "    tokenizer.save(f\"{dataset}/SentencePiece_{vocab_size}.json\")"
   ]
  },
  {
   "cell_type": "code",
   "execution_count": 11,
   "metadata": {},
   "outputs": [
    {
     "data": {
      "text/plain": [
       "['▁terduto', '▁eaieeeatn', 'easeear', '▁tn2']"
      ]
     },
     "execution_count": 11,
     "metadata": {},
     "output_type": "execute_result"
    }
   ],
   "source": [
    "from tokenizers import Tokenizer\n",
    "file = f\"{dataset}/SentencePiece_2000.json\"\n",
    "bpe_tokenizer = Tokenizer.from_file(file)\n",
    "stroke_text = 'terduto eaieeeatneaseear tn2'\n",
    "tokens = bpe_tokenizer.encode(stroke_text)\n",
    "tokens.tokens"
   ]
  },
  {
   "cell_type": "code",
   "execution_count": 12,
   "metadata": {},
   "outputs": [],
   "source": [
    "from collections import defaultdict\n",
    "# Create dict for text into strokes translation and vice versa\n",
    "with open(\"zh2letter.txt\", 'r', encoding=\"utf-8\") as f:\n",
    "    conversions = f.read()\n",
    "\n",
    "conversions = conversions.splitlines()\n",
    "zh2letter = defaultdict(str)\n",
    "letter2zh = defaultdict(str)\n",
    "for line in conversions:\n",
    "    chinese_char, strokes = line.split()\n",
    "    zh2letter[chinese_char] = strokes\n",
    "    letter2zh[strokes] = chinese_char"
   ]
  },
  {
   "cell_type": "code",
   "execution_count": 16,
   "metadata": {},
   "outputs": [
    {
     "data": {
      "text/plain": [
       "'車'"
      ]
     },
     "execution_count": 16,
     "metadata": {},
     "output_type": "execute_result"
    }
   ],
   "source": [
    "letter2zh[\"eaieeea\"]"
   ]
  },
  {
   "cell_type": "code",
   "execution_count": 31,
   "metadata": {},
   "outputs": [
    {
     "data": {
      "text/plain": [
       "['▁gteeaeeasoooo',\n",
       " '▁gteeaeeasoooo',\n",
       " '▁gtet',\n",
       " 'b',\n",
       " 'at',\n",
       " '▁gteeeatn0',\n",
       " '▁gteo',\n",
       " 'eto',\n",
       " 'd',\n",
       " 'teetn']"
      ]
     },
     "execution_count": 31,
     "metadata": {},
     "output_type": "execute_result"
    }
   ],
   "source": [
    "stroke_text = 'gteeaeeasoooo gteeaeeasoooo gtetbat gteeeatn0 gteoetodteetn'\n",
    "tokens = bpe_tokenizer.encode(stroke_text)\n",
    "tokens.tokens"
   ]
  },
  {
   "cell_type": "code",
   "execution_count": 40,
   "metadata": {},
   "outputs": [
    {
     "name": "stdout",
     "output_type": "stream",
     "text": [
      "gteeaeeasoooo 媽\n",
      "gteeaeeasoooo 媽\n",
      "gtet []\n",
      "b []\n",
      "at []\n",
      "gteeeatn0 妹\n",
      "gteo []\n",
      "eto []\n",
      "d []\n",
      "teetn []\n"
     ]
    }
   ],
   "source": [
    "for token in tokens.tokens:\n",
    "    if token[0] == '▁':\n",
    "        token = token[1:]    \n",
    "    print(token, letter2zh[token])"
   ]
  },
  {
   "cell_type": "code",
   "execution_count": 42,
   "metadata": {},
   "outputs": [
    {
     "data": {
      "text/plain": [
       "'馬'"
      ]
     },
     "execution_count": 42,
     "metadata": {},
     "output_type": "execute_result"
    }
   ],
   "source": [
    "letter2zh[\"eaeeasoooo\"]"
   ]
  }
 ],
 "metadata": {
  "kernelspec": {
   "display_name": ".TFT_OCR_BOT",
   "language": "python",
   "name": "python3"
  },
  "language_info": {
   "codemirror_mode": {
    "name": "ipython",
    "version": 3
   },
   "file_extension": ".py",
   "mimetype": "text/x-python",
   "name": "python",
   "nbconvert_exporter": "python",
   "pygments_lexer": "ipython3",
   "version": "3.10.4"
  }
 },
 "nbformat": 4,
 "nbformat_minor": 2
}
