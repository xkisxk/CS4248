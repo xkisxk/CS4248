{
  "cells": [
    {
      "cell_type": "code",
      "execution_count": 1,
      "metadata": {
        "colab": {
          "base_uri": "https://localhost:8080/"
        },
        "id": "FKajERl2YJks",
        "outputId": "378143d1-9170-4565-e7f0-18f2f2025466"
      },
      "outputs": [],
      "source": [
        "# from google.colab import drive\n",
        "# drive.mount('/content/drive')\n",
        "\n",
        "# %cd \"/content/drive/My Drive/Colab Notebooks/CS4248/\"\n",
        "# !cd \"/content/drive/My Drive/Colab Notebooks/CS4248/\"\n",
        "# !ls"
      ]
    },
    {
      "cell_type": "code",
      "execution_count": 2,
      "metadata": {
        "colab": {
          "base_uri": "https://localhost:8080/"
        },
        "id": "KP829S8mgv32",
        "outputId": "fd6e0031-9efc-4932-c331-7f5df7db7b75"
      },
      "outputs": [],
      "source": [
        "# !pip install wandb\n",
        "# !pip install datasets\n",
        "# !pip install transformers==4.6.0\n",
        "# !pip install evaluate\n",
        "# !pip install sacrebleu\n",
        "# !pip install accelerate -U\n",
        "# !pip install opencc-python-reimplemented\n",
        "# !pip install spacy\n",
        "# !python -m spacy download en_core_web_sm"
      ]
    },
    {
      "cell_type": "code",
      "execution_count": 3,
      "metadata": {
        "id": "yVi6Xrt_SfNk"
      },
      "outputs": [
        {
          "name": "stderr",
          "output_type": "stream",
          "text": [
            "c:\\Users\\Ishaa\\AppData\\Local\\Programs\\Python\\Python310\\lib\\site-packages\\tqdm\\auto.py:21: TqdmWarning: IProgress not found. Please update jupyter and ipywidgets. See https://ipywidgets.readthedocs.io/en/stable/user_install.html\n",
            "  from .autonotebook import tqdm as notebook_tqdm\n"
          ]
        }
      ],
      "source": [
        "import wandb\n",
        "import os\n",
        "import numpy as np\n",
        "from datasets import load_dataset\n",
        "from transformers import Seq2SeqTrainingArguments as TrainingArguments\n",
        "from transformers import Seq2SeqTrainer as Trainer\n",
        "from transformers import BertTokenizer, EncoderDecoderModel, PreTrainedTokenizerFast\n",
        "import evaluate\n",
        "import datetime\n",
        "#convert to trad\n",
        "import opencc\n",
        "import re\n",
        "#tokenizer stuff\n",
        "from tokenizers import Tokenizer\n",
        "from tokenizers.models import BPE\n",
        "from tokenizers.trainers import BpeTrainer\n",
        "from tokenizers.pre_tokenizers import Whitespace\n",
        "from collections import defaultdict\n",
        "import torch\n",
        "from tqdm import tqdm\n",
        "from transformers import RobertaTokenizerFast\n",
        "import spacy\n",
        "import torchtext"
      ]
    },
    {
      "cell_type": "code",
      "execution_count": 4,
      "metadata": {
        "id": "6f0WYvbmRpsC"
      },
      "outputs": [],
      "source": [
        "# INPUT_MAX_LEN = 84\n",
        "INPUT_MAX_LEN = 58\n",
        "OUTPUT_MAX_LEN = 32\n",
        "source_lang = \"zh\"\n",
        "target_lang = \"en\"\n",
        "# min_freq = 2\n",
        "# ##TODO: Add spacy, add attention, add logic to end when [SEP]\n",
        "# #SPACY STILL 35k, wasted\n",
        "\n",
        "# BOS_TOKEN = \"<bos>\"\n",
        "# EOS_TOKEN = \"<eos>\"\n",
        "# UNK_TOKEN = \"<unk>\"\n",
        "# PAD_TOKEN = \"<pad>\"\n",
        "DECODER_EOS = 102\n",
        "DECODE_PAD_TOKEN = 0"
      ]
    },
    {
      "cell_type": "code",
      "execution_count": 5,
      "metadata": {},
      "outputs": [],
      "source": [
        "dataset = load_dataset(\"iwslt2017\", \"iwslt2017-zh-en\", cache_dir=\"./cache\") # optional"
      ]
    },
    {
      "cell_type": "code",
      "execution_count": 6,
      "metadata": {},
      "outputs": [],
      "source": [
        "# en_tokenizer = spacy.load(\"en_core_web_sm\")\n",
        "# def tokenize_en(data):\n",
        "#   data[\"input\"] = [[tok.text.lower() for tok in en_tokenizer(example[target_lang])] for example in data[\"translation\"]]\n",
        "#   return data\n",
        "\n",
        "# en_tokenized = dataset.map(tokenize_en, batched=True)"
      ]
    },
    {
      "cell_type": "code",
      "execution_count": 7,
      "metadata": {},
      "outputs": [],
      "source": [
        "# print(torch.cuda.is_available())"
      ]
    },
    {
      "cell_type": "code",
      "execution_count": 8,
      "metadata": {},
      "outputs": [],
      "source": [
        "# print(en_tokenized['train'][0])\n",
        "# special_tokens = [\n",
        "#   UNK_TOKEN,\n",
        "#   PAD_TOKEN,\n",
        "#   BOS_TOKEN,\n",
        "#   EOS_TOKEN\n",
        "# ]\n",
        "# en_vocab = torchtext.vocab.build_vocab_from_iterator(\n",
        "#     en_tokenized[\"train\"][\"input\"],\n",
        "#     min_freq=min_freq,\n",
        "#     specials=special_tokens,\n",
        "# )"
      ]
    },
    {
      "cell_type": "code",
      "execution_count": 9,
      "metadata": {},
      "outputs": [],
      "source": [
        "# print(len(en_vocab))"
      ]
    },
    {
      "cell_type": "code",
      "execution_count": 10,
      "metadata": {
        "colab": {
          "base_uri": "https://localhost:8080/",
          "height": 331,
          "referenced_widgets": [
            "77be1f24d4284b5dac19527215b30da6",
            "4897c1d05d4a4c4a91742959aa2deb87",
            "496949cc34ee41b1a5eb0c5741da6749",
            "8572083e7861496c8d334a50588048bb",
            "b22d5b931c6949cdac8b5b0e1dd2686b",
            "18cd883d7b8a4929929c1ba5c5222762",
            "103ec7894ff74c869ff2d760062aeebf",
            "a4472159492345309fad4f3553fc0cf9",
            "4a8d7ee4bd5646ab8197a481b6c0933e",
            "7e8eead00d0546e3b52870c1af4cf5be",
            "a31f8ed173944ba09d47c2345cba95c4",
            "4622dc6623104ff384bd7860f0dae885",
            "3b54589e91ae44e6a7c0e15f71b91437",
            "95bd7099a06041f3b6e7b0334f1a7d22",
            "04f5a8dcc52046ddbdfdf071f6f79d99",
            "8ddcb285a2cc4ff6b90f8b7c889191d8",
            "59ae9179f7074124965aa4a252d7e4aa",
            "424722bf5aa1410dbaed4adfb054f641",
            "a7721a668c124a53a471fc6a271fa351",
            "a1bb8844b6464df9822f82186e0a2ffb",
            "941884fbfe96455ebc2a19f30e94a9dd",
            "e2d0bfeb40ec4a8c8d9aeedcaf207963",
            "bfa14cf9463e4aebb0d7cf15e4f2b765",
            "5b81e8fb629a410ebf3faee33bf07b8e",
            "0fa670dc7847442da2c0ece9c30762c2",
            "db183b833f7a4a05a1cda79f4a10c3f4",
            "8fd765d67e3840429da107e775a11f5b",
            "2e0b2e5aac4e4318b2793051b7cb8b40",
            "22586e2a368148e9846d1555b532bf2d",
            "0a3e276f15f54c24b01ecf886a1298c3",
            "77fcd79c4d0f4bd3a457e84bfbd08df6",
            "54a5c501f4874be7911eeb164b130503",
            "b80e75f0e14c4c7a891e6565f3df9038",
            "35561d2c18d0404ba420e5b86d4503a5",
            "3eb1d995feee4861bd56f6ff475db4c7",
            "fb56946b691f4599a1fe42fac7135dd1",
            "aed5e637da404676a0c50d9a26b4b5da",
            "cf9dcd0a718e4f00a86d976c76f168cd",
            "3378ad69b01e443582398e5f60b6cf1e",
            "1547d06f11da44cf965b94ec6f774812",
            "19c3694fece746c2934f72201cefb506",
            "1b62268cc52b404dafb5b0f7cc2b8e4d",
            "76ee25dbecc94a24800e45880825ea52",
            "f589db2996fc4d7b83c30861a09d3dbe",
            "c32dbe9ea7eb4051bcf17be4db2f6dae",
            "511cf6eed565449195925224eed00981",
            "ecbcc73b98dd499dae102559d9cfcdd0",
            "339c90a79422479f98645e22f52178b3",
            "ef402dda64e94c91839dfe171607c058",
            "f06b690169a147ba94a0e0e71c936e33",
            "163a7ecc66ff400b9760d9403e68ae39",
            "4def0ff89a9b44bca06d67449366b0ed",
            "88b3ccf176414ea0bc74dc7917ed94a9",
            "654c67ee10614263b9ba8ce4bbcff748",
            "3b4faa9969194c73bb55c4a2c3013af2",
            "95fba17d31804fb682d53fd7226cb13b",
            "871e53ddaacb4bf59b707aff91ce154b",
            "070ffbf9ae234554afa72db591076d81",
            "7116a40bf46443bfab057a5d586795d4",
            "eb27c8ac0cef4fd39c0e380e97fa0d05",
            "d639dc9c1c9248939e03ba3c4769307d",
            "03521f17508342e8ab81fef6402fbb7c",
            "8436eec4fef24c20960a6ef24bf8f2cf",
            "d7d5285be46d4b1aaad7b7e9fde90e0d",
            "66bf2573e99a4e7ca8d1cfdfb53a4513",
            "3e16b6c308e841ff938f0dedf325ba1d"
          ]
        },
        "id": "Qb84xRu0XVzM",
        "outputId": "0ae93954-974c-4b84-b90f-92f6faf972ee"
      },
      "outputs": [
        {
          "name": "stderr",
          "output_type": "stream",
          "text": [
            "<>:150: SyntaxWarning: \"is\" with a literal. Did you mean \"==\"?\n",
            "<>:150: SyntaxWarning: \"is\" with a literal. Did you mean \"==\"?\n",
            "C:\\Users\\Ishaa\\AppData\\Local\\Temp\\ipykernel_30520\\3736592838.py:150: SyntaxWarning: \"is\" with a literal. Did you mean \"==\"?\n",
            "  if len(tok) is 0:\n",
            "Map: 100%|██████████| 8549/8549 [00:04<00:00, 1713.26 examples/s]\n",
            "Map: 100%|██████████| 879/879 [00:00<00:00, 1507.76 examples/s]"
          ]
        },
        {
          "name": "stdout",
          "output_type": "stream",
          "text": [
            "0 535\n"
          ]
        },
        {
          "name": "stderr",
          "output_type": "stream",
          "text": [
            "\n"
          ]
        }
      ],
      "source": [
        "checkpoint = \"google-bert/bert-base-uncased\"\n",
        "tokenizer = BertTokenizer.from_pretrained(checkpoint)\n",
        "tokenizer.bos_token = tokenizer.cls_token\n",
        "tokenizer.eos_token = tokenizer.sep_token\n",
        "\n",
        "\n",
        "\n",
        "# Create dict for text into strokes translation and vice versa\n",
        "with open(\"zh2letter.txt\", 'r', encoding=\"utf-8\") as f:\n",
        "    conversions = f.read()\n",
        "\n",
        "conversions = conversions.splitlines()\n",
        "zh2letter = defaultdict(str)\n",
        "letter2zh = defaultdict(str)\n",
        "for line in conversions:\n",
        "    chinese_char, strokes = line.split()\n",
        "    zh2letter[chinese_char] = strokes\n",
        "    letter2zh[strokes] = chinese_char\n",
        "\n",
        "BPE_file = \"BPE_500.json\"\n",
        "\n",
        "# Load the BPE tokenizer from the JSON file\n",
        "bpe_tokenizer_object = Tokenizer.from_file(BPE_file)\n",
        "# bpe_tokenizer = RobertaTokenizerFast.from_pretrained(\"./strokeBERT900\", max_len=INPUT_MAX_LEN)\n",
        "bpe_tokenizer = PreTrainedTokenizerFast(tokenizer_object=bpe_tokenizer_object,return_token_type_ids=True)\n",
        "# bpe_tokenizer = BertTokenizer.from_pretrained('google-bert/bert-base-chinese')\n",
        "\n",
        "##DO WE REALLY NEED THIS? But I mean technically it shouldn't matter what we are padding with, eg. if we pad with 3s the model will just learn that 3 is pad\n",
        "bpe_tokenizer.pad_token = \"[PAD]\"#tokenizer.pad_token\n",
        "\n",
        "bpe1000 = Tokenizer.from_file('BPE_1000.json')\n",
        "bpe5000 = Tokenizer.from_file('BPE_5000.json')\n",
        "bpe10000 = Tokenizer.from_file('BPE_10000.json')\n",
        "bpe1000Tokenizer = PreTrainedTokenizerFast(tokenizer_object=bpe1000,return_token_type_ids=True)\n",
        "bpe5000Tokenizer = PreTrainedTokenizerFast(tokenizer_object=bpe5000,return_token_type_ids=True)\n",
        "bpe10000Tokenizer = PreTrainedTokenizerFast(tokenizer_object=bpe10000,return_token_type_ids=True)\n",
        "\n",
        "converter = opencc.OpenCC('s2t')\n",
        "# text = converter.convert(text)\n",
        "# strokes = []\n",
        "# for char in text:\n",
        "#     if len(zh2letter[char]) > 0:\n",
        "#         strokes.append(zh2letter[char])\n",
        "\n",
        "\n",
        "\n",
        "\n",
        "max_len = 0\n",
        "max_enc = 0\n",
        "enc_lens = []\n",
        "enc_lens1000 = []\n",
        "enc_lens5000 = []\n",
        "enc_lens10000 = []\n",
        "\n",
        "com500 = []\n",
        "com1000 = []\n",
        "com5000 = []\n",
        "com10000 = []\n",
        "\n",
        "# input_lens = []\n",
        "input_stroke_numbers = []\n",
        "tot_hasa = 0\n",
        "\n",
        "ta_freq = 0\n",
        "gte_freq = 0\n",
        "ooa_freq = 0\n",
        "oha_freq = 0\n",
        "erd_freq = 0\n",
        "oeeeaiet_freq = 0\n",
        "\n",
        "\n",
        "def preprocess_function(examples):\n",
        "    # inputs = [example[source_lang] for example in examples[\"translation\"]]\n",
        "    inputs = [converter.convert(example[source_lang]) for example in examples[\"translation\"]]\n",
        "    inputs_stroke = [' '.join([zh2letter[char] for char in text if len(zh2letter[char]) > 0]) for text in inputs]\n",
        "    for text in inputs:\n",
        "        has_a = False\n",
        "        i = 0\n",
        "        for char in text:            \n",
        "            if (len(zh2letter[char]) <= 0):\n",
        "                # print(char, len(char))\n",
        "                # i += 1\n",
        "                # if (i > 2):\n",
        "                #     assert False\n",
        "                has_a = True\n",
        "                break\n",
        "        if has_a:\n",
        "            global tot_hasa\n",
        "            tot_hasa += 1\n",
        "\n",
        "    \n",
        "    input_lens = []\n",
        "    complexity = []\n",
        "    for input in inputs_stroke:\n",
        "        input_len = 0\n",
        "        stroke_numbers = []\n",
        "        input_with_space = str(''.join(input)).split(' ')\n",
        "        avgt = 0\n",
        "        for word in input_with_space:\n",
        "            input_len += 1\n",
        "            stroke_numbers.append(len(word))\n",
        "            avgt += len(word)\n",
        "        input_lens.append(input_len)\n",
        "        input_stroke_numbers.append(stroke_numbers)\n",
        "        complexity.append(avgt/input_len)\n",
        "\n",
        "    # print(inputs[0], inputs_stroke[0], len(inputs[0]), len(inputs_stroke[0]))\n",
        "    # # print(inputs[0])\n",
        "    # for i in inputs_stroke:\n",
        "    #   # print(i)\n",
        "    #   len_l = len(i)\n",
        "    #   global max_len\n",
        "    #   max_len = max(len_l, max_len)\n",
        "    # #REMOVE\n",
        "    # print(max_len)\n",
        "    batch_size = len(inputs_stroke)\n",
        "    targets = [example[target_lang].lower() for example in examples[\"translation\"]]\n",
        "    inputs_non_stroke = [example[source_lang] for example in examples[\"translation\"]]\n",
        "\n",
        "    #84 was calculated to be the upper quartile of the tokenized stroke sentences\n",
        "    target_tokens = tokenizer(targets, padding='max_length', max_length=OUTPUT_MAX_LEN, truncation=True)\n",
        "    input_tokens = bpe_tokenizer(inputs_stroke)#,padding='max_length', max_length=INPUT_MAX_LEN, truncation=True)\n",
        "    # input_tokens = bpe_tokenizer(inputs,padding='max_length', max_length=INPUT_MAX_LEN, truncation=True)\n",
        "\n",
        "    input_tokens1000 = bpe1000Tokenizer(inputs_stroke)\n",
        "    input_tokens5000 = bpe5000Tokenizer(inputs_stroke)\n",
        "    input_tokens10000 = bpe10000Tokenizer(inputs_stroke)\n",
        "\n",
        "    def get_avg_stroke_nums(tok, tkzr=None):\n",
        "        # print(tok)\n",
        "        # actual_tokens = tkzr.convert_ids_to_tokens(tok)\n",
        "        # print(actual_tokens)\n",
        "        avgt = 0\n",
        "        for t in tok:\n",
        "            global ta_freq, gte_freq, ooa_freq, oha_freq,erd_freq, oeeeaiet_freq\n",
        "            if t == 'ta':\n",
        "                ta_freq+= 1\n",
        "            if t == 'gte':\n",
        "                gte_freq += 1\n",
        "            if t == 'ooa':\n",
        "                ooa_freq += 1\n",
        "            if t == 'oha':\n",
        "                oha_freq += 1\n",
        "            if t == 'erd':\n",
        "                erd_freq += 1\n",
        "            if t == 'oeeeaiet':\n",
        "                oeeeaiet_freq += 1\n",
        "            avgt += len(t)\n",
        "        # print(avgt / len(tok))\n",
        "        if len(tok) is 0:\n",
        "            return 0\n",
        "        return avgt / len(tok)\n",
        "\n",
        "    # get_avg_stroke_nums(input_tokens[0].tokens, bpe_tokenizer)\n",
        "\n",
        "    for i in range(batch_size):\n",
        "      # print(input_tokens[0])\n",
        "      global max_enc, enc_lens\n",
        "      # print(i)\n",
        "      len_tok = len(input_tokens[i].tokens)\n",
        "      len_tok1000 = len(input_tokens1000[i].tokens)\n",
        "      len_tok5000 = len(input_tokens5000[i].tokens)\n",
        "      len_tok10000 = len(input_tokens10000[i].tokens)\n",
        "    #   len_tok = len(input_tokens['input_ids'][i])\n",
        "      max_enc = max(len_tok, max_enc)\n",
        "      enc_lens.append(len_tok)\n",
        "      enc_lens1000.append(len_tok1000)\n",
        "      enc_lens5000.append(len_tok5000)\n",
        "      enc_lens10000.append(len_tok10000)\n",
        "      com500.append(get_avg_stroke_nums(input_tokens[i].tokens))\n",
        "      com1000.append(get_avg_stroke_nums(input_tokens1000[i].tokens))\n",
        "      com5000.append(get_avg_stroke_nums(input_tokens5000[i].tokens))\n",
        "      com10000.append(get_avg_stroke_nums(input_tokens10000[i].tokens))\n",
        "\n",
        "    # print(input_tokens)\n",
        "    model_inputs = {\n",
        "        \"input_ids\": input_tokens[\"input_ids\"],\n",
        "        \"attention_mask\": input_tokens[\"attention_mask\"],\n",
        "        # \"token_type_ids\": input_tokens[\"token_type_ids\"],\n",
        "        \"labels\": target_tokens[\"input_ids\"],\n",
        "        \"translation\": examples[\"translation\"],\n",
        "        \"length\": input_lens,\n",
        "        \"complexity\": complexity\n",
        "        }\n",
        "\n",
        "    #model_inputs = tokenizer(inputs, text_target=targets, padding=\"max_length\", max_length=32, truncation=True)\n",
        "    # model_inputs[\"labels\"] = [[-100 if token == tokenizer.pad_token_id else token for token in labels] for labels in model_inputs[\"labels\"]]\n",
        "    return model_inputs\n",
        "\n",
        "\n",
        "tokenized_sentences = dataset.map(preprocess_function, batched=True)\n",
        "print(max_len, max_enc)#, avg_enc/(231266+8594+879))"
      ]
    },
    {
      "cell_type": "code",
      "execution_count": 11,
      "metadata": {
        "id": "WPgzdNzTlPHs"
      },
      "outputs": [
        {
          "name": "stdout",
          "output_type": "stream",
          "text": [
            "{'translation': {'en': 'The marshmallow has to be on top.', 'zh': '棉花糖必须放在最上面'}, 'input_ids': [274, 123, 80, 48, 473, 169, 85, 38, 140, 55, 23, 29, 107, 207, 198, 308, 49, 163, 41, 404, 279, 269, 102], 'attention_mask': [1, 1, 1, 1, 1, 1, 1, 1, 1, 1, 1, 1, 1, 1, 1, 1, 1, 1, 1, 1, 1, 1, 1], 'labels': [101, 1996, 9409, 9067, 8261, 2038, 2000, 2022, 2006, 2327, 1012, 102, 0, 0, 0, 0, 0, 0, 0, 0, 0, 0, 0, 0, 0, 0, 0, 0, 0, 0, 0, 0], 'length': 10, 'complexity': 9.0}\n",
            "6965\n",
            "16029 6785 2110 613 7939 1611\n"
          ]
        }
      ],
      "source": [
        "# print(max(enc_lens), sum(enc_lens)/float(len(enc_lens)))\n",
        "import pandas as pd\n",
        "# s = pd.Series(enc_lens)\n",
        "# s.describe()\n",
        "\n",
        "# print(len(input_lens))\n",
        "# t = str(''.join(input_stroke_numbers[0])).split(' ')\n",
        "# print(t)\n",
        "# print(len(t[0]))\n",
        "# print(len(t))\n",
        "# print(input_stroke_numbers[0])\n",
        "print(tokenized_sentences[\"test\"][2])\n",
        "print(tot_hasa)\n",
        "# input_lens_pd = pd.Series(input_lens)\n",
        "# input_lens_pd.describe()\n",
        "# input_lens_pd.to_csv('input_lens.csv')\n",
        "print(ta_freq, gte_freq, ooa_freq, oha_freq, erd_freq, oeeeaiet_freq)"
      ]
    },
    {
      "cell_type": "code",
      "execution_count": 12,
      "metadata": {},
      "outputs": [],
      "source": [
        "# input_lens_pd = pd.read_csv('input_lens.csv')\n",
        "# import matplotlib.pyplot as plt\n",
        "# from scipy.stats import norm\n",
        "\n",
        "\n",
        "# mean = input_lens_pd.mean()[1]\n",
        "# std_dev = input_lens_pd.std()[1]\n",
        "\n",
        "# lower_bound = mean - 3 * std_dev  # Adjust as needed\n",
        "# upper_bound = mean + 3 * std_dev  # Adjust as needed\n",
        "\n",
        "# print(mean,std_dev)\n",
        "\n",
        "\n",
        "# percentiles = np.percentile(input_lens_pd.iloc[:, 1], [33, 50, 66])\n",
        "# per = input_lens_pd.iloc[:,1].quantile([0.33, 0.5, 0.66])"
      ]
    },
    {
      "cell_type": "code",
      "execution_count": 13,
      "metadata": {},
      "outputs": [],
      "source": [
        "# # Step 2: Create Box Plot\n",
        "# import seaborn as sns\n",
        "# sns.set_context(\"poster\")\n",
        "\n",
        "# plt.figure(figsize=(8, 6))  # Adjust the figure size as needed\n",
        "# percentile_labels = ['33%', '50%', '66%']\n",
        "# percentiles = per\n",
        "\n",
        "# # Create the box plot\n",
        "# plt.boxplot(input_lens_pd.iloc[:, 1], vert=False, showfliers=False)\n",
        "# for i, percentile in enumerate(percentiles.values.flatten()):\n",
        "#     plt.scatter(percentile, 1, color='orange', zorder=3)\n",
        "#     plt.text(percentile, 1, f'{int(percentile)}', fontsize=14, verticalalignment='bottom')\n",
        "# plt.title('Box Plot of #Words')\n",
        "# plt.xlabel('Number of Words')\n",
        "# plt.grid(True)\n",
        "# plt.show()"
      ]
    },
    {
      "cell_type": "code",
      "execution_count": 14,
      "metadata": {},
      "outputs": [],
      "source": [
        "# input_stroke_pd = pd.read_csv('input_stroke_numbers.csv', header=None)\n",
        "# print(input_stroke_pd.shape)"
      ]
    },
    {
      "cell_type": "code",
      "execution_count": 15,
      "metadata": {},
      "outputs": [],
      "source": [
        "# import math\n",
        "# data = input_stroke_pd.iloc[1:, 1:]\n",
        "# print(data.iloc[0,38])\n",
        "# averages = []\n",
        "# for index, row in data.iterrows():\n",
        "#     values = []\n",
        "#     for col in range(len(row)):\n",
        "#         num_strokes = data.iloc[index-1,col]\n",
        "#         if math.isnan(num_strokes):\n",
        "#             break\n",
        "#         values.append(num_strokes)\n",
        "#     values_np = np.asarray(values)\n",
        "#     averages.append(np.average(values_np))\n",
        "\n",
        "# # Convert the list of averages to a DataFrame\n",
        "# averages_df = pd.DataFrame(averages)\n",
        "# print(averages_df)"
      ]
    },
    {
      "cell_type": "code",
      "execution_count": 16,
      "metadata": {},
      "outputs": [],
      "source": [
        "# plt.figure(figsize=(8, 6))  # Adjust the figure size as needed\n",
        "# percentile_labels = ['33%', '50%', '66%']\n",
        "# percentiles = averages_df.quantile([0.15, 0.5, 0.85])\n",
        "\n",
        "# # Create the box plot\n",
        "# plt.boxplot(averages, vert=False, showfliers=False)\n",
        "# for i, percentile in enumerate(percentiles.values.flatten()):\n",
        "#     plt.scatter(percentile, 1, color='orange', zorder=3)\n",
        "#     plt.text(percentile, 1, f'{percentile:.1f}', fontsize=14, verticalalignment='bottom')\n",
        "# plt.title('Box Plot of Word Complexity')\n",
        "# plt.xlabel('Average complexity of sentence')\n",
        "# plt.grid(True)\n",
        "# plt.show()\n",
        "# # averages_df.describe()"
      ]
    },
    {
      "cell_type": "code",
      "execution_count": 17,
      "metadata": {},
      "outputs": [
        {
          "data": {
            "image/png": "[encoded data removed]",
            "text/plain": [
              "<Figure size 800x600 with 1 Axes>"
            ]
          },
          "metadata": {},
          "output_type": "display_data"
        },
        {
          "data": {
            "text/plain": [
              "count    9428.000000\n",
              "mean       61.660161\n",
              "std        45.619698\n",
              "min         1.000000\n",
              "25%        30.000000\n",
              "50%        50.000000\n",
              "75%        80.000000\n",
              "max       535.000000\n",
              "dtype: float64"
            ]
          },
          "execution_count": 17,
          "metadata": {},
          "output_type": "execute_result"
        }
      ],
      "source": [
        "s500 = pd.Series(enc_lens)\n",
        "s1000 = pd.Series(enc_lens1000)\n",
        "s5000 = pd.Series(enc_lens5000)\n",
        "s10000 = pd.Series(enc_lens10000)\n",
        "\n",
        "import matplotlib.pyplot as plt\n",
        "\n",
        "plt.figure(figsize=(8, 6))  # Adjust the figure size as needed\n",
        "percentile_labels = ['25%', '50%', '75%']\n",
        "percentiles500 = s500.quantile([0.25, 0.5, 0.75])\n",
        "percentiles1000 = s1000.quantile([0.25, 0.5, 0.75])\n",
        "percentiles5000 = s5000.quantile([0.25, 0.5, 0.75])\n",
        "percentiles10000 = s10000.quantile([0.25, 0.5, 0.75])\n",
        "percentiles = [percentiles500,percentiles1000,percentiles5000,percentiles10000]\n",
        "\n",
        "boxplotdata = {\"BPE500\": enc_lens, \"BPE1000\": enc_lens1000, \"BPE5000\": enc_lens5000, \"BPE10000\": enc_lens10000}\n",
        "\n",
        "# Create the box plot\n",
        "plt.boxplot(boxplotdata.values(), labels=boxplotdata.keys(), vert=False, showfliers=False)\n",
        "for j in range(len(percentiles)):\n",
        "  for i, percentile in enumerate(percentiles[j].values.flatten()):\n",
        "      plt.scatter(percentile, j+1, color='orange', zorder=3)\n",
        "      plt.text(percentile, j+1, f'{int(percentile)}', fontsize=14, verticalalignment='bottom')\n",
        "plt.title('Box Plot of Token Lengths')\n",
        "plt.xlabel('Number of tokens')\n",
        "plt.grid(True)\n",
        "plt.show()\n",
        "\n",
        "s500.describe()\n",
        "# s1000.describe()\n",
        "# s5000.describe()\n",
        "# s10000.describe()\n",
        "\n",
        "# s.describe()"
      ]
    },
    {
      "cell_type": "code",
      "execution_count": 18,
      "metadata": {},
      "outputs": [],
      "source": [
        "# s500 = pd.Series(com500)\n",
        "# s1000 = pd.Series(com1000)\n",
        "# s5000 = pd.Series(com5000)\n",
        "# s10000 = pd.Series(com10000)\n",
        "\n",
        "# import matplotlib.pyplot as plt\n",
        "\n",
        "# plt.figure(figsize=(8, 6))  # Adjust the figure size as needed\n",
        "# percentile_labels = ['25%', '50%', '75%']\n",
        "# percentiles500 = s500.quantile([0.25, 0.5, 0.75])\n",
        "# percentiles1000 = s1000.quantile([0.25, 0.5, 0.75])\n",
        "# percentiles5000 = s5000.quantile([0.25, 0.5, 0.75])\n",
        "# percentiles10000 = s10000.quantile([0.25, 0.5, 0.75])\n",
        "# percentiles = [percentiles500,percentiles1000,percentiles5000,percentiles10000]\n",
        "\n",
        "# boxplotdata = {\"BPE500\": com500, \"BPE1000\": com1000, \"BPE5000\": com5000, \"BPE10000\": com10000}\n",
        "\n",
        "# # Create the box plot\n",
        "# plt.boxplot(boxplotdata.values(), labels=boxplotdata.keys(), vert=False, showfliers=False)\n",
        "# for j in range(len(percentiles)):\n",
        "#   for i, percentile in enumerate(percentiles[j].values.flatten()):\n",
        "#       plt.scatter(percentile, j+1, color='orange', zorder=3)\n",
        "#       plt.text(percentile, j+1, f'{percentile:.1f}', fontsize=9, verticalalignment='bottom')\n",
        "# plt.title('Box Plot of Average Number of Strokes')\n",
        "# plt.xlabel('Average Number of Strokes per word')\n",
        "# plt.grid(True)\n",
        "# plt.show()"
      ]
    },
    {
      "cell_type": "code",
      "execution_count": 19,
      "metadata": {},
      "outputs": [],
      "source": [
        "# input_stroke_numbers_np = pd.DataFrame(input_stroke_numbers)\n",
        "# input_stroke_numbers_pd = pd.DataFrame(input_stroke_numbers_np)\n",
        "\n",
        "# input_stroke_numbers_pd.describe()"
      ]
    },
    {
      "cell_type": "code",
      "execution_count": 20,
      "metadata": {},
      "outputs": [],
      "source": [
        "# input_stroke_numbers_np.to_csv('input_stroke_numbers.csv')"
      ]
    },
    {
      "cell_type": "code",
      "execution_count": 21,
      "metadata": {
        "colab": {
          "base_uri": "https://localhost:8080/"
        },
        "id": "KZ6BTWrdN0DZ",
        "outputId": "d5757201-6b6c-47e6-f28f-db80f895ef75"
      },
      "outputs": [
        {
          "name": "stdout",
          "output_type": "stream",
          "text": [
            "{'translation': {'en': \"Thank you so much, Chris. And it's truly a great honor to have the opportunity to come to this stage twice; I'm extremely grateful.\", 'zh': '非常谢谢，克里斯。的确非常荣幸 能有第二次站在这个台上的机会，我真是非常感激。'}, 'input_ids': [663, 871, 192, 208, 38, 142, 192, 208, 38, 142, 0, 457, 738, 319, 0, 82, 402, 60, 165, 663, 871, 843, 91, 794, 534, 208, 341, 35, 345, 554, 163, 552, 327, 449, 279, 82, 565, 250, 0, 28, 352, 579, 166, 663, 871, 38, 47, 29, 85, 113, 69, 62, 966, 0, 3, 3, 3, 3], 'attention_mask': [1, 1, 1, 1, 1, 1, 1, 1, 1, 1, 1, 1, 1, 1, 1, 1, 1, 1, 1, 1, 1, 1, 1, 1, 1, 1, 1, 1, 1, 1, 1, 1, 1, 1, 1, 1, 1, 1, 1, 1, 1, 1, 1, 1, 1, 1, 1, 1, 1, 1, 1, 1, 1, 1, 0, 0, 0, 0], 'labels': [101, 4067, 2017, 2061, 2172, 1010, 3782, 1012, 1998, 2009, 1005, 1055, 5621, 1037, 2307, 3932, 2000, 2031, 1996, 4495, 2000, 2272, 2000, 2023, 2754, 3807, 1025, 1045, 1005, 1049, 5186, 102], 'length': 38, 'complexity': 9.131578947368421}\n"
          ]
        }
      ],
      "source": [
        "print(tokenized_sentences['train'][0])"
      ]
    },
    {
      "cell_type": "code",
      "execution_count": 22,
      "metadata": {
        "id": "lkGIsZGLierT"
      },
      "outputs": [],
      "source": [
        "import random\n",
        "class Encoder(torch.nn.Module):\n",
        "  def __init__(self, input_size, embedding_size, hidden_size, num_layers, dropout):\n",
        "    super().__init__()\n",
        "    self.hidden_size = hidden_size\n",
        "    self.embedding_size = embedding_size\n",
        "    self.num_layers = num_layers\n",
        "\n",
        "    self.embedding = torch.nn.Embedding(input_size, embedding_size)\n",
        "    self.LSTM = torch.nn.LSTM(embedding_size, hidden_size, num_layers=num_layers, dropout=dropout)\n",
        "    self.dropout = torch.nn.Dropout(dropout)\n",
        "\n",
        "  def forward(self, input_seq):\n",
        "    word_embeddings = self.embedding(input_seq)\n",
        "    word_embeddings = self.dropout(word_embeddings)\n",
        "    outputs, (hidden,cell) = self.LSTM(word_embeddings)\n",
        "    # print(\"Encoder\", word_embeddings.shape, outputs.shape, hidden.shape, cell.shape)\n",
        "    return outputs, hidden, cell\n",
        "  \n",
        "class DotAttention(torch.nn.Module):\n",
        "    def __init__(self, hidden_size):\n",
        "      super(DotAttention, self).__init__()\n",
        "      # self.hidden_size = hidden_size\n",
        "      # self.attn = torch.nn.Linear(self.hidden_size * 2, hidden_size)\n",
        "      # self.v = torch.nn.Linear(hidden_size, 1, bias=False)\n",
        "\n",
        "    def forward(self, hidden, encoder_outputs):\n",
        "      seq_len = encoder_outputs.shape[0]\n",
        "      # print(\"seq_len\", seq_len, encoder_outputs.shape, hidden.shape)\n",
        "      # hidden = hidden.repeat(seq_len, 1, 1)\n",
        "      # print(hidden.shape, encoder_outputs.shape)\n",
        "      enc_out_tr = torch.transpose(encoder_outputs,0,1)\n",
        "      attention_weights = torch.bmm(enc_out_tr, hidden.unsqueeze(2))\n",
        "      attention_weights = torch.softmax(attention_weights.squeeze(2), dim=1)\n",
        "      context = torch.bmm(enc_out_tr.transpose(1,2), attention_weights.unsqueeze(2)).squeeze(2)\n",
        "      # energy = torch.tanh(self.attn(torch.cat((hidden, encoder_outputs), dim=2)))\n",
        "      # attention = torch.softmax(self.v(energy), dim=0)\n",
        "      # context = torch.sum(attention * encoder_outputs, dim=0)\n",
        "      # print(\"context\", context.shape, attention_weights.shape)\n",
        "      # assert False\n",
        "      return context\n",
        "  \n",
        "# class Attention(torch.nn.Module):\n",
        "#   def __init__(self, hidden_size):\n",
        "#       super(Attention, self).__init__()\n",
        "#       self.hidden_size = hidden_size\n",
        "#       self.attn = torch.nn.Linear(self.hidden_size * 2, hidden_size)\n",
        "#       self.v = torch.nn.Linear(hidden_size, 1, bias=False)\n",
        "\n",
        "#   def forward(self, hidden, encoder_outputs):\n",
        "#       seq_len = encoder_outputs.shape[0]\n",
        "#       hidden = hidden.repeat(seq_len, 1, 1)\n",
        "#       # print(hidden.shape, encoder_outputs.shape)\n",
        "#       energy = torch.tanh(self.attn(torch.cat((hidden, encoder_outputs), dim=2)))\n",
        "#       attention = torch.softmax(self.v(energy), dim=0)\n",
        "#       context = torch.sum(attention * encoder_outputs, dim=0)\n",
        "#       return context\n",
        "\n",
        "class Decoder(torch.nn.Module):\n",
        "  def __init__(self, output_size, embedding_size, hidden_size, num_layers, dropout):\n",
        "    super().__init__()\n",
        "\n",
        "    self.hidden_size = hidden_size\n",
        "    self.embedding_size = embedding_size\n",
        "    self.num_layers = num_layers\n",
        "    self.output_size = output_size\n",
        "\n",
        "    self.attention = DotAttention(hidden_size)\n",
        "    self.embedding = torch.nn.Embedding(output_size, embedding_size)\n",
        "    #For attention\n",
        "    self.LSTM = torch.nn.LSTM(embedding_size + hidden_size, hidden_size, num_layers=num_layers, dropout=dropout)\n",
        "    # self.LSTM = torch.nn.LSTM(embedding_size, hidden_size, num_layers=num_layers, dropout=dropout)\n",
        "    self.out = torch.nn.Linear(hidden_size, output_size)\n",
        "    self.dropout = torch.nn.Dropout(dropout)\n",
        "\n",
        "  def forward(self, input, encoder_outputs, hidden, cell):\n",
        "    input = input.unsqueeze(0)\n",
        "    word_embeddings = self.embedding(input)\n",
        "    word_embeddings = self.dropout(word_embeddings)\n",
        "    query = hidden[-1]#.permute(1,0,2)\n",
        "    context = self.attention(query, encoder_outputs)\n",
        "    context = context.unsqueeze(0)\n",
        "    word_embeddings = torch.cat((word_embeddings, context), dim=2)\n",
        "    outputs, (hidden,cell) = self.LSTM(word_embeddings,(hidden, cell))\n",
        "\n",
        "    outputs = self.out(outputs.squeeze(0))\n",
        "    return outputs, hidden, cell\n",
        "\n",
        "class EncoderDecoder(torch.nn.Module):\n",
        "  def __init__(self,encoder,decoder,device):\n",
        "    super().__init__()\n",
        "\n",
        "    self.encoder = encoder\n",
        "    self.decoder = decoder\n",
        "    self.device = device\n",
        "  def forward(self,input,target_output,teacher_forcing_ratio=0.5):\n",
        "    ##This is why we have to transpose it everytime\n",
        "    batch_size = target_output.shape[1]\n",
        "    target_len = target_output.shape[0]\n",
        "    target_vocab_size = self.decoder.output_size\n",
        "    \n",
        "    #This too\n",
        "    outputs = torch.zeros(target_len, batch_size, target_vocab_size).to(self.device)\n",
        "    encoder_outputs, hidden, cell = self.encoder(input)\n",
        "\n",
        "    target_in = target_output[0,:]\n",
        "    # outputs[0] = target_in\n",
        "\n",
        "    #Attention mechanism\n",
        "    #Find a way to cut off after [SEP]\n",
        "    #Change bert-base-uncased since it has too big of a vocab size\n",
        "\n",
        "    for t in range(1, target_len):\n",
        "            #insert input token embedding, previous hidden and previous cell states\n",
        "            #receive output tensor (predictions) and new hidden and cell states\n",
        "            output, hidden, cell = self.decoder(target_in, encoder_outputs, hidden, cell)\n",
        "            #place predictions in a tensor holding predictions for each token\n",
        "            outputs[t] = output\n",
        "            #decide if we are going to use teacher forcing or not\n",
        "            teacher_force = random.random() < teacher_forcing_ratio\n",
        "            #get the highest predicted token from our predictions\n",
        "            top1 = output.argmax(1)\n",
        "            #if teacher forcing, use actual next token as next input\n",
        "            #if not, use predicted token\n",
        "            target_in = target_output[t] if teacher_force else top1\n",
        "    return outputs"
      ]
    },
    {
      "cell_type": "code",
      "execution_count": 23,
      "metadata": {
        "colab": {
          "base_uri": "https://localhost:8080/"
        },
        "id": "JlN-S1ucsZVF",
        "outputId": "6f27ab30-15c7-4957-a58e-5d19b3972daf"
      },
      "outputs": [
        {
          "name": "stdout",
          "output_type": "stream",
          "text": [
            "1000 30522\n"
          ]
        }
      ],
      "source": [
        "print(bpe_tokenizer.vocab_size, tokenizer.vocab_size)"
      ]
    },
    {
      "cell_type": "code",
      "execution_count": 24,
      "metadata": {
        "id": "zh9ukYt_qlID"
      },
      "outputs": [],
      "source": [
        "#HYPERPARAMS\n",
        "BATCH_SIZE = 128 #128\n",
        "INPUT_DIM = bpe_tokenizer.vocab_size\n",
        "OUTPUT_DIM = tokenizer.vocab_size\n",
        "ENC_EMB_DIM = 256\n",
        "DEC_EMB_DIM = 256\n",
        "HID_DIM = 512\n",
        "N_LAYERS = 2\n",
        "ENC_DROPOUT = 0.2\n",
        "DEC_DROPOUT = 0.2\n",
        "N_EPOCHS = 50\n",
        "CLIP = 1\n",
        "EVAL_STEPS = 500\n",
        "MLM_PROB = 0.15"
      ]
    },
    {
      "cell_type": "code",
      "execution_count": 25,
      "metadata": {
        "id": "FykMiDFfpVft"
      },
      "outputs": [
        {
          "name": "stdout",
          "output_type": "stream",
          "text": [
            "cuda\n"
          ]
        }
      ],
      "source": [
        "device = torch.device('cuda' if torch.cuda.is_available() else 'cpu')\n",
        "print(device)\n",
        "pt_dataset = tokenized_sentences.with_format(\"torch\",columns=[\"input_ids\",\"labels\", \"length\", \"complexity\"],device = device)\n",
        "train_dataloader = torch.utils.data.DataLoader(pt_dataset[\"train\"], batch_size=BATCH_SIZE)\n",
        "valid_dataloader = torch.utils.data.DataLoader(pt_dataset[\"validation\"], batch_size=BATCH_SIZE)\n",
        "test_dataloader = torch.utils.data.DataLoader(pt_dataset[\"test\"], batch_size=BATCH_SIZE)\n"
      ]
    },
    {
      "cell_type": "code",
      "execution_count": 26,
      "metadata": {
        "colab": {
          "base_uri": "https://localhost:8080/"
        },
        "id": "icgicXEVphTU",
        "outputId": "b783102b-c8a7-4072-fe17-d5837cf899b6"
      },
      "outputs": [
        {
          "name": "stdout",
          "output_type": "stream",
          "text": [
            "tensor([ 101, 4067, 2017, 2061, 2172, 1010, 3782, 1012, 1998, 2009, 1005, 1055,\n",
            "        5621, 1037, 2307, 3932, 2000, 2031, 1996, 4495, 2000, 2272, 2000, 2023,\n",
            "        2754, 3807, 1025, 1045, 1005, 1049, 5186,  102], device='cuda:0')\n"
          ]
        }
      ],
      "source": [
        "print(pt_dataset['train'][0]['labels'])"
      ]
    },
    {
      "cell_type": "code",
      "execution_count": 27,
      "metadata": {
        "colab": {
          "base_uri": "https://localhost:8080/",
          "height": 49,
          "referenced_widgets": [
            "5838977f295549679bc6031b17cdc163",
            "71249197ae10431f853866a5ad3c7b22",
            "38acca18a3c14020a3ba86c27436834e",
            "87f2d1fd73cc46689730b01c53902844",
            "da1d59c6c2e7493ea2006c67e3801058",
            "929c877427794ef68d1a6d96eecb1e13",
            "ada780a496994d27a64c47f6c525df3e",
            "4f59f817745d4eb780c4bb98bf1f6202",
            "7d2ed8c4c5af4f12a449e39f29db4b52",
            "3ba8c812fb56474b8e7902a994ab97a1",
            "15f6af81e08f47899fd01174b9474413"
          ]
        },
        "id": "0DAYxP2UwvgJ",
        "outputId": "cebfc4f4-1534-4d6b-bf32-ec96cf088acc"
      },
      "outputs": [],
      "source": [
        "metric = evaluate.load(\"sacrebleu\")\n",
        "def postprocess_text(preds, labels):\n",
        "    preds = [pred.strip() for pred in preds]\n",
        "    labels = [[label.strip()] for label in labels]\n",
        "\n",
        "    return preds, labels\n",
        "\n",
        "\n",
        "def compute_metrics(eval_preds):\n",
        "    preds, labels = eval_preds\n",
        "    if isinstance(preds, tuple):\n",
        "        preds = preds[0]\n",
        "    decoded_preds = tokenizer.batch_decode(preds, skip_special_tokens=True)\n",
        "\n",
        "    # labels = np.where(labels != -100, labels, tokenizer.pad_token_id)\n",
        "    decoded_labels = tokenizer.batch_decode(labels, skip_special_tokens=True)\n",
        "\n",
        "    decoded_preds, decoded_labels = postprocess_text(decoded_preds, decoded_labels)\n",
        "    # print(decoded_preds,decoded_labels)\n",
        "\n",
        "    result = metric.compute(predictions=decoded_preds, references=decoded_labels)\n",
        "    result = {\"bleu\": result[\"score\"]}\n",
        "\n",
        "    prediction_lens = [np.count_nonzero(pred != tokenizer.pad_token_id) for pred in preds]\n",
        "    result[\"gen_len\"] = np.mean(prediction_lens)\n",
        "    result = {k: round(v, 4) for k, v in result.items()}\n",
        "    return result"
      ]
    },
    {
      "cell_type": "code",
      "execution_count": 28,
      "metadata": {
        "id": "FGZatb03uhzo"
      },
      "outputs": [],
      "source": [
        "import time\n",
        "import math\n",
        "\n",
        "def train_fn(model, iterator, optimizer, criterion, clip, device, eval_steps):\n",
        "    model.train()\n",
        "    epoch_loss = 0\n",
        "    eval_it = 0\n",
        "    with tqdm(total=len(iterator), position=0, leave=True) as pbar:\n",
        "      for batch in iterator:\n",
        "          eval_it = (eval_it + 1) % eval_steps\n",
        "          src = batch[\"input_ids\"].to(device)\n",
        "          trg = batch[\"labels\"].to(device)\n",
        "          \n",
        "          src = torch.transpose(src,0,1)\n",
        "          trg = torch.transpose(trg,0,1)\n",
        "\n",
        "          optimizer.zero_grad()\n",
        "          # try:\n",
        "          output = model(src, trg)\n",
        "          if eval_it >= eval_steps - 1:\n",
        "            org_out = torch.transpose(output,0,1)\n",
        "            org_trg = torch.transpose(trg,0,1)\n",
        "            amax = torch.argmax(org_out,dim=-1)\n",
        "            result = compute_metrics((amax.detach().cpu(),org_trg.detach().cpu()))\n",
        "            print(result)\n",
        "          src = src.to(device)\n",
        "          trg = trg.to(device)\n",
        "          # except Exception as e:\n",
        "          #   print(e)\n",
        "          output_dim = output.shape[-1]\n",
        "\n",
        "          #removing the [1:]\n",
        "          output = output[1:].reshape(-1, output_dim)\n",
        "          trg = trg[1:].reshape(-1)\n",
        "          loss = criterion(output, trg)\n",
        "\n",
        "          \n",
        "          loss.backward()\n",
        "\n",
        "          torch.nn.utils.clip_grad_norm_(model.parameters(), clip)\n",
        "          optimizer.step()\n",
        "\n",
        "          epoch_loss += loss.item()\n",
        "          pbar.update(1)\n",
        "    return epoch_loss / len(iterator)\n",
        "\n",
        "def evaluate_fn(model, iterator, criterion, device, compute_bleu=True):\n",
        "    model.eval()\n",
        "    epoch_loss = 0\n",
        "    bleu = 0\n",
        "    with torch.no_grad():\n",
        "        with tqdm(total=len(iterator), position=0, leave=True) as pbar:\n",
        "          for batch in iterator:\n",
        "              src = batch[\"input_ids\"].to(device)\n",
        "              trg = batch[\"labels\"].to(device)\n",
        "              src = torch.transpose(src,0,1)\n",
        "              trg = torch.transpose(trg,0,1)\n",
        "\n",
        "              output = model(src, trg, 0)\n",
        "              if compute_bleu:\n",
        "                org_out = torch.transpose(output,0,1)\n",
        "                org_trg = torch.transpose(trg,0,1)\n",
        "                amax = torch.argmax(org_out,dim=-1)\n",
        "                result = compute_metrics((amax.detach().cpu(),org_trg.detach().cpu()))\n",
        "                bleu += result['bleu']\n",
        "                # print(result)\n",
        "              src = src.to(device)\n",
        "              trg = trg.to(device)\n",
        "\n",
        "              output_dim = output.shape[-1]\n",
        "\n",
        "              output = output[1:].reshape(-1, output_dim)\n",
        "              trg = trg[1:].reshape(-1)\n",
        "\n",
        "              loss = criterion(output, trg)\n",
        "              epoch_loss += loss.item()\n",
        "              pbar.update(1)\n",
        "              \n",
        "\n",
        "    return (epoch_loss / len(iterator), bleu / len(iterator))\n",
        "\n",
        "def epoch_time(start_time, end_time):\n",
        "    elapsed_time = end_time - start_time\n",
        "    elapsed_mins = int(elapsed_time / 60)\n",
        "    elapsed_secs = int(elapsed_time - (elapsed_mins * 60))\n",
        "    return elapsed_mins, elapsed_secs\n",
        "\n",
        "def init_weights(m):\n",
        "    for name, param in m.named_parameters():\n",
        "        torch.nn.init.uniform_(param.data, -0.08, 0.08)"
      ]
    },
    {
      "cell_type": "code",
      "execution_count": 29,
      "metadata": {},
      "outputs": [],
      "source": [
        "def train_mlm_fn(model, iterator, optimizer, criterion, clip, device, eval_steps, mlm_prob=0):\n",
        "    model.train()\n",
        "    epoch_loss = 0\n",
        "    eval_it = 0\n",
        "    with tqdm(total=len(iterator), position=0, leave=True) as pbar:\n",
        "      for batch in iterator:\n",
        "          eval_it = (eval_it + 1) % eval_steps\n",
        "          src = batch[\"input_ids\"].to(device)\n",
        "          trg = batch[\"labels\"].to(device)\n",
        "          \n",
        "          src = torch.transpose(src,0,1)\n",
        "          trg = torch.transpose(trg,0,1)\n",
        "\n",
        "          optimizer.zero_grad()\n",
        "\n",
        "          if mlm_prob > 0:\n",
        "             mask = torch.rand(src.shape) < mlm_prob\n",
        "             masked_src = src.clone().to(device)\n",
        "             #CHANGE TO MASK TOKEN\n",
        "             masked_src[mask] = 4\n",
        "\n",
        "          # print(src[:,0], masked_src[:,0])\n",
        "          # assert False\n",
        "\n",
        "          # try:\n",
        "          output = model(masked_src, trg)\n",
        "          if eval_it >= eval_steps - 1:\n",
        "            org_out = torch.transpose(output,0,1)\n",
        "            org_trg = torch.transpose(trg,0,1)\n",
        "            amax = torch.argmax(org_out,dim=-1)\n",
        "            result = compute_metrics((amax.detach().cpu(),org_trg.detach().cpu()))\n",
        "            print(result)\n",
        "          src = src.to(device)\n",
        "          trg = trg.to(device)\n",
        "          # except Exception as e:\n",
        "          #   print(e)\n",
        "          output_dim = output.shape[-1]\n",
        "\n",
        "          #removing the [1:]\n",
        "          output = output[1:].reshape(-1, output_dim)\n",
        "          trg = trg[1:].reshape(-1)\n",
        "          loss = criterion(output, trg)\n",
        "\n",
        "          \n",
        "          loss.backward()\n",
        "\n",
        "          torch.nn.utils.clip_grad_norm_(model.parameters(), clip)\n",
        "          optimizer.step()\n",
        "\n",
        "          epoch_loss += loss.item()\n",
        "          pbar.update(1)\n",
        "    return epoch_loss / len(iterator)"
      ]
    },
    {
      "cell_type": "code",
      "execution_count": 30,
      "metadata": {
        "id": "HEfRIlmpySjG"
      },
      "outputs": [],
      "source": [
        "# t = pt_dataset['train'][0]['labels']\n",
        "# decoded_preds = tokenizer.batch_decode(t, skip_special_tokens=True)\n",
        "# labels = np.where(t != -100, t, tokenizer.pad_token_id)\n",
        "# decoded_labels = tokenizer.batch_decode(labels, skip_special_tokens=True)\n",
        "# print(postprocess_text(decoded_preds,decoded_labels))\n",
        "# print(compute_metrics((t,t)))"
      ]
    },
    {
      "cell_type": "code",
      "execution_count": 31,
      "metadata": {
        "id": "9E2FJL3WuXKx"
      },
      "outputs": [],
      "source": [
        "enc = Encoder(INPUT_DIM, ENC_EMB_DIM, HID_DIM, N_LAYERS, ENC_DROPOUT)\n",
        "dec = Decoder(OUTPUT_DIM, DEC_EMB_DIM, HID_DIM, N_LAYERS, DEC_DROPOUT)\n",
        "model = EncoderDecoder(enc, dec, device).to(device)\n",
        "model.apply(init_weights)\n",
        "optimizer = torch.optim.Adam(model.parameters())\n",
        "\n",
        "#TODO IGNORE INDEX CHANGE TO PAD INDEX\n",
        "criterion = torch.nn.CrossEntropyLoss(ignore_index = 0)"
      ]
    },
    {
      "cell_type": "code",
      "execution_count": 131,
      "metadata": {},
      "outputs": [
        {
          "data": {
            "text/plain": [
              "<All keys matched successfully>"
            ]
          },
          "execution_count": 131,
          "metadata": {},
          "output_type": "execute_result"
        }
      ],
      "source": [
        "enc.load_state_dict(torch.load('enc1000mlm.pth'))\n",
        "dec.load_state_dict(torch.load('dec1000mlm.pth'))\n",
        "model.load_state_dict(torch.load('encdec1000mlm.pth'))"
      ]
    },
    {
      "cell_type": "code",
      "execution_count": 33,
      "metadata": {
        "colab": {
          "base_uri": "https://localhost:8080/",
          "height": 349
        },
        "id": "7zIzbCEX1t4O",
        "outputId": "41d5995c-7db9-453b-a97d-42ff760defe6"
      },
      "outputs": [
        {
          "name": "stderr",
          "output_type": "stream",
          "text": [
            " 28%|██▊       | 498/1807 [03:02<07:56,  2.75it/s]"
          ]
        },
        {
          "name": "stdout",
          "output_type": "stream",
          "text": [
            "{'bleu': 0.2024, 'gen_len': 31.0}\n"
          ]
        },
        {
          "name": "stderr",
          "output_type": "stream",
          "text": [
            " 55%|█████▌    | 998/1807 [06:04<04:55,  2.74it/s]"
          ]
        },
        {
          "name": "stdout",
          "output_type": "stream",
          "text": [
            "{'bleu': 0.1941, 'gen_len': 31.0}\n"
          ]
        },
        {
          "name": "stderr",
          "output_type": "stream",
          "text": [
            " 83%|████████▎ | 1498/1807 [09:06<01:51,  2.77it/s]"
          ]
        },
        {
          "name": "stdout",
          "output_type": "stream",
          "text": [
            "{'bleu': 0.4014, 'gen_len': 31.0}\n"
          ]
        },
        {
          "name": "stderr",
          "output_type": "stream",
          "text": [
            "100%|██████████| 1807/1807 [10:57<00:00,  2.75it/s]\n",
            "100%|██████████| 7/7 [00:02<00:00,  3.29it/s]\n"
          ]
        },
        {
          "name": "stdout",
          "output_type": "stream",
          "text": [
            "Epoch: 01 | Time: 10m 59s\n",
            "\tTrain Loss: 5.802 | Train PPL: 330.808\n",
            "\t Val. Loss: 6.130 |  Val. PPL: 459.297\n",
            "bleu 0.4701571428571429\n"
          ]
        },
        {
          "name": "stderr",
          "output_type": "stream",
          "text": [
            " 28%|██▊       | 498/1807 [03:00<07:57,  2.74it/s]"
          ]
        },
        {
          "name": "stdout",
          "output_type": "stream",
          "text": [
            "{'bleu': 0.7484, 'gen_len': 31.0}\n"
          ]
        },
        {
          "name": "stderr",
          "output_type": "stream",
          "text": [
            " 55%|█████▌    | 998/1807 [06:02<04:57,  2.72it/s]"
          ]
        },
        {
          "name": "stdout",
          "output_type": "stream",
          "text": [
            "{'bleu': 1.7276, 'gen_len': 31.0}\n"
          ]
        },
        {
          "name": "stderr",
          "output_type": "stream",
          "text": [
            " 83%|████████▎ | 1498/1807 [09:04<01:53,  2.73it/s]"
          ]
        },
        {
          "name": "stdout",
          "output_type": "stream",
          "text": [
            "{'bleu': 1.058, 'gen_len': 31.0}\n"
          ]
        },
        {
          "name": "stderr",
          "output_type": "stream",
          "text": [
            "100%|██████████| 1807/1807 [10:56<00:00,  2.75it/s]\n",
            "100%|██████████| 7/7 [00:02<00:00,  3.29it/s]\n"
          ]
        },
        {
          "name": "stdout",
          "output_type": "stream",
          "text": [
            "Epoch: 02 | Time: 10m 58s\n",
            "\tTrain Loss: 5.237 | Train PPL: 188.077\n",
            "\t Val. Loss: 5.991 |  Val. PPL: 399.947\n",
            "bleu 1.441857142857143\n"
          ]
        },
        {
          "name": "stderr",
          "output_type": "stream",
          "text": [
            " 28%|██▊       | 498/1807 [03:01<07:55,  2.76it/s]"
          ]
        },
        {
          "name": "stdout",
          "output_type": "stream",
          "text": [
            "{'bleu': 0.5769, 'gen_len': 31.0}\n"
          ]
        },
        {
          "name": "stderr",
          "output_type": "stream",
          "text": [
            " 55%|█████▌    | 998/1807 [05:57<04:46,  2.82it/s]"
          ]
        },
        {
          "name": "stdout",
          "output_type": "stream",
          "text": [
            "{'bleu': 2.2624, 'gen_len': 31.0}\n"
          ]
        },
        {
          "name": "stderr",
          "output_type": "stream",
          "text": [
            " 83%|████████▎ | 1498/1807 [08:52<01:48,  2.85it/s]"
          ]
        },
        {
          "name": "stdout",
          "output_type": "stream",
          "text": [
            "{'bleu': 1.1921, 'gen_len': 31.0}\n"
          ]
        },
        {
          "name": "stderr",
          "output_type": "stream",
          "text": [
            "100%|██████████| 1807/1807 [10:42<00:00,  2.81it/s]\n",
            "100%|██████████| 7/7 [00:02<00:00,  3.34it/s]\n"
          ]
        },
        {
          "name": "stdout",
          "output_type": "stream",
          "text": [
            "Epoch: 03 | Time: 10m 44s\n",
            "\tTrain Loss: 4.990 | Train PPL: 146.901\n",
            "\t Val. Loss: 5.862 |  Val. PPL: 351.280\n",
            "bleu 2.085457142857143\n"
          ]
        },
        {
          "name": "stderr",
          "output_type": "stream",
          "text": [
            " 28%|██▊       | 498/1807 [03:01<07:55,  2.75it/s]"
          ]
        },
        {
          "name": "stdout",
          "output_type": "stream",
          "text": [
            "{'bleu': 1.189, 'gen_len': 31.0}\n"
          ]
        },
        {
          "name": "stderr",
          "output_type": "stream",
          "text": [
            " 55%|█████▌    | 998/1807 [06:03<04:57,  2.72it/s]"
          ]
        },
        {
          "name": "stdout",
          "output_type": "stream",
          "text": [
            "{'bleu': 3.0537, 'gen_len': 31.0}\n"
          ]
        },
        {
          "name": "stderr",
          "output_type": "stream",
          "text": [
            " 83%|████████▎ | 1498/1807 [09:05<01:52,  2.75it/s]"
          ]
        },
        {
          "name": "stdout",
          "output_type": "stream",
          "text": [
            "{'bleu': 2.2848, 'gen_len': 31.0}\n"
          ]
        },
        {
          "name": "stderr",
          "output_type": "stream",
          "text": [
            "100%|██████████| 1807/1807 [10:57<00:00,  2.75it/s]\n",
            "100%|██████████| 7/7 [00:02<00:00,  3.27it/s]\n"
          ]
        },
        {
          "name": "stdout",
          "output_type": "stream",
          "text": [
            "Epoch: 04 | Time: 10m 59s\n",
            "\tTrain Loss: 4.801 | Train PPL: 121.591\n",
            "\t Val. Loss: 5.788 |  Val. PPL: 326.503\n",
            "bleu 2.709857142857143\n"
          ]
        },
        {
          "name": "stderr",
          "output_type": "stream",
          "text": [
            " 28%|██▊       | 498/1807 [03:01<07:59,  2.73it/s]"
          ]
        },
        {
          "name": "stdout",
          "output_type": "stream",
          "text": [
            "{'bleu': 1.3158, 'gen_len': 31.0}\n"
          ]
        },
        {
          "name": "stderr",
          "output_type": "stream",
          "text": [
            " 55%|█████▌    | 998/1807 [06:02<04:51,  2.77it/s]"
          ]
        },
        {
          "name": "stdout",
          "output_type": "stream",
          "text": [
            "{'bleu': 3.5587, 'gen_len': 31.0}\n"
          ]
        },
        {
          "name": "stderr",
          "output_type": "stream",
          "text": [
            " 83%|████████▎ | 1498/1807 [09:02<01:53,  2.73it/s]"
          ]
        },
        {
          "name": "stdout",
          "output_type": "stream",
          "text": [
            "{'bleu': 2.9216, 'gen_len': 31.0}\n"
          ]
        },
        {
          "name": "stderr",
          "output_type": "stream",
          "text": [
            "100%|██████████| 1807/1807 [10:54<00:00,  2.76it/s]\n",
            "100%|██████████| 7/7 [00:02<00:00,  3.27it/s]\n"
          ]
        },
        {
          "name": "stdout",
          "output_type": "stream",
          "text": [
            "Epoch: 05 | Time: 10m 57s\n",
            "\tTrain Loss: 4.660 | Train PPL: 105.617\n",
            "\t Val. Loss: 5.820 |  Val. PPL: 336.940\n",
            "bleu 3.215385714285714\n"
          ]
        },
        {
          "name": "stderr",
          "output_type": "stream",
          "text": [
            " 28%|██▊       | 498/1807 [03:01<07:58,  2.73it/s]"
          ]
        },
        {
          "name": "stdout",
          "output_type": "stream",
          "text": [
            "{'bleu': 1.0556, 'gen_len': 31.0}\n"
          ]
        },
        {
          "name": "stderr",
          "output_type": "stream",
          "text": [
            " 55%|█████▌    | 998/1807 [06:03<04:54,  2.74it/s]"
          ]
        },
        {
          "name": "stdout",
          "output_type": "stream",
          "text": [
            "{'bleu': 3.8261, 'gen_len': 31.0}\n"
          ]
        },
        {
          "name": "stderr",
          "output_type": "stream",
          "text": [
            " 83%|████████▎ | 1498/1807 [09:05<01:53,  2.73it/s]"
          ]
        },
        {
          "name": "stdout",
          "output_type": "stream",
          "text": [
            "{'bleu': 3.2662, 'gen_len': 31.0}\n"
          ]
        },
        {
          "name": "stderr",
          "output_type": "stream",
          "text": [
            "100%|██████████| 1807/1807 [10:57<00:00,  2.75it/s]\n",
            "100%|██████████| 7/7 [00:02<00:00,  3.29it/s]\n"
          ]
        },
        {
          "name": "stdout",
          "output_type": "stream",
          "text": [
            "Epoch: 06 | Time: 10m 59s\n",
            "\tTrain Loss: 4.526 | Train PPL:  92.408\n",
            "\t Val. Loss: 5.789 |  Val. PPL: 326.782\n",
            "bleu 3.3639000000000006\n"
          ]
        },
        {
          "name": "stderr",
          "output_type": "stream",
          "text": [
            " 28%|██▊       | 498/1807 [03:00<07:53,  2.77it/s]"
          ]
        },
        {
          "name": "stdout",
          "output_type": "stream",
          "text": [
            "{'bleu': 1.9283, 'gen_len': 31.0}\n"
          ]
        },
        {
          "name": "stderr",
          "output_type": "stream",
          "text": [
            " 55%|█████▌    | 998/1807 [06:00<04:52,  2.77it/s]"
          ]
        },
        {
          "name": "stdout",
          "output_type": "stream",
          "text": [
            "{'bleu': 5.1745, 'gen_len': 31.0}\n"
          ]
        },
        {
          "name": "stderr",
          "output_type": "stream",
          "text": [
            " 83%|████████▎ | 1498/1807 [09:02<01:52,  2.74it/s]"
          ]
        },
        {
          "name": "stdout",
          "output_type": "stream",
          "text": [
            "{'bleu': 3.0023, 'gen_len': 31.0}\n"
          ]
        },
        {
          "name": "stderr",
          "output_type": "stream",
          "text": [
            "100%|██████████| 1807/1807 [10:54<00:00,  2.76it/s]\n",
            "100%|██████████| 7/7 [00:02<00:00,  3.28it/s]\n"
          ]
        },
        {
          "name": "stdout",
          "output_type": "stream",
          "text": [
            "Epoch: 07 | Time: 10m 56s\n",
            "\tTrain Loss: 4.420 | Train PPL:  83.080\n",
            "\t Val. Loss: 5.698 |  Val. PPL: 298.238\n",
            "bleu 3.6918571428571427\n"
          ]
        },
        {
          "name": "stderr",
          "output_type": "stream",
          "text": [
            " 28%|██▊       | 498/1807 [03:01<07:56,  2.75it/s]"
          ]
        },
        {
          "name": "stdout",
          "output_type": "stream",
          "text": [
            "{'bleu': 2.9595, 'gen_len': 31.0}\n"
          ]
        },
        {
          "name": "stderr",
          "output_type": "stream",
          "text": [
            " 55%|█████▌    | 998/1807 [06:03<04:56,  2.73it/s]"
          ]
        },
        {
          "name": "stdout",
          "output_type": "stream",
          "text": [
            "{'bleu': 4.8396, 'gen_len': 31.0}\n"
          ]
        },
        {
          "name": "stderr",
          "output_type": "stream",
          "text": [
            " 83%|████████▎ | 1498/1807 [09:05<01:53,  2.72it/s]"
          ]
        },
        {
          "name": "stdout",
          "output_type": "stream",
          "text": [
            "{'bleu': 3.6001, 'gen_len': 31.0}\n"
          ]
        },
        {
          "name": "stderr",
          "output_type": "stream",
          "text": [
            "100%|██████████| 1807/1807 [10:58<00:00,  2.75it/s]\n",
            "100%|██████████| 7/7 [00:02<00:00,  3.24it/s]\n"
          ]
        },
        {
          "name": "stdout",
          "output_type": "stream",
          "text": [
            "Epoch: 08 | Time: 11m 0s\n",
            "\tTrain Loss: 4.327 | Train PPL:  75.693\n",
            "\t Val. Loss: 5.733 |  Val. PPL: 309.023\n",
            "bleu 4.153314285714285\n"
          ]
        },
        {
          "name": "stderr",
          "output_type": "stream",
          "text": [
            " 28%|██▊       | 498/1807 [02:59<07:57,  2.74it/s]"
          ]
        },
        {
          "name": "stdout",
          "output_type": "stream",
          "text": [
            "{'bleu': 3.4714, 'gen_len': 31.0}\n"
          ]
        },
        {
          "name": "stderr",
          "output_type": "stream",
          "text": [
            " 55%|█████▌    | 998/1807 [06:00<04:56,  2.73it/s]"
          ]
        },
        {
          "name": "stdout",
          "output_type": "stream",
          "text": [
            "{'bleu': 4.9521, 'gen_len': 31.0}\n"
          ]
        },
        {
          "name": "stderr",
          "output_type": "stream",
          "text": [
            " 83%|████████▎ | 1498/1807 [09:02<01:52,  2.74it/s]"
          ]
        },
        {
          "name": "stdout",
          "output_type": "stream",
          "text": [
            "{'bleu': 4.1788, 'gen_len': 31.0}\n"
          ]
        },
        {
          "name": "stderr",
          "output_type": "stream",
          "text": [
            "100%|██████████| 1807/1807 [10:54<00:00,  2.76it/s]\n",
            "100%|██████████| 7/7 [00:02<00:00,  3.25it/s]\n"
          ]
        },
        {
          "name": "stdout",
          "output_type": "stream",
          "text": [
            "Epoch: 09 | Time: 10m 57s\n",
            "\tTrain Loss: 4.250 | Train PPL:  70.097\n",
            "\t Val. Loss: 5.752 |  Val. PPL: 314.811\n",
            "bleu 4.205157142857143\n"
          ]
        },
        {
          "name": "stderr",
          "output_type": "stream",
          "text": [
            " 28%|██▊       | 498/1807 [03:01<07:55,  2.75it/s]"
          ]
        },
        {
          "name": "stdout",
          "output_type": "stream",
          "text": [
            "{'bleu': 2.3574, 'gen_len': 31.0}\n"
          ]
        },
        {
          "name": "stderr",
          "output_type": "stream",
          "text": [
            " 55%|█████▌    | 998/1807 [06:03<04:56,  2.73it/s]"
          ]
        },
        {
          "name": "stdout",
          "output_type": "stream",
          "text": [
            "{'bleu': 5.4587, 'gen_len': 31.0}\n"
          ]
        },
        {
          "name": "stderr",
          "output_type": "stream",
          "text": [
            " 83%|████████▎ | 1498/1807 [09:05<01:53,  2.73it/s]"
          ]
        },
        {
          "name": "stdout",
          "output_type": "stream",
          "text": [
            "{'bleu': 3.5697, 'gen_len': 31.0}\n"
          ]
        },
        {
          "name": "stderr",
          "output_type": "stream",
          "text": [
            "100%|██████████| 1807/1807 [10:56<00:00,  2.75it/s]\n",
            "100%|██████████| 7/7 [00:02<00:00,  3.28it/s]\n"
          ]
        },
        {
          "name": "stdout",
          "output_type": "stream",
          "text": [
            "Epoch: 10 | Time: 10m 58s\n",
            "\tTrain Loss: 4.176 | Train PPL:  65.120\n",
            "\t Val. Loss: 5.740 |  Val. PPL: 311.163\n",
            "bleu 4.4111\n"
          ]
        },
        {
          "name": "stderr",
          "output_type": "stream",
          "text": [
            " 28%|██▊       | 498/1807 [02:59<07:58,  2.74it/s]"
          ]
        },
        {
          "name": "stdout",
          "output_type": "stream",
          "text": [
            "{'bleu': 3.231, 'gen_len': 31.0}\n"
          ]
        },
        {
          "name": "stderr",
          "output_type": "stream",
          "text": [
            " 55%|█████▌    | 998/1807 [06:02<05:06,  2.64it/s]"
          ]
        },
        {
          "name": "stdout",
          "output_type": "stream",
          "text": [
            "{'bleu': 6.0132, 'gen_len': 31.0}\n"
          ]
        },
        {
          "name": "stderr",
          "output_type": "stream",
          "text": [
            " 83%|████████▎ | 1498/1807 [09:04<01:53,  2.73it/s]"
          ]
        },
        {
          "name": "stdout",
          "output_type": "stream",
          "text": [
            "{'bleu': 4.0997, 'gen_len': 31.0}\n"
          ]
        },
        {
          "name": "stderr",
          "output_type": "stream",
          "text": [
            "100%|██████████| 1807/1807 [10:56<00:00,  2.75it/s]\n",
            "100%|██████████| 7/7 [00:02<00:00,  3.28it/s]\n"
          ]
        },
        {
          "name": "stdout",
          "output_type": "stream",
          "text": [
            "Epoch: 11 | Time: 10m 58s\n",
            "\tTrain Loss: 4.121 | Train PPL:  61.634\n",
            "\t Val. Loss: 5.704 |  Val. PPL: 300.001\n",
            "bleu 4.327042857142857\n"
          ]
        },
        {
          "name": "stderr",
          "output_type": "stream",
          "text": [
            " 28%|██▊       | 498/1807 [03:01<08:00,  2.72it/s]"
          ]
        },
        {
          "name": "stdout",
          "output_type": "stream",
          "text": [
            "{'bleu': 2.9974, 'gen_len': 31.0}\n"
          ]
        },
        {
          "name": "stderr",
          "output_type": "stream",
          "text": [
            " 55%|█████▌    | 998/1807 [06:03<04:54,  2.74it/s]"
          ]
        },
        {
          "name": "stdout",
          "output_type": "stream",
          "text": [
            "{'bleu': 5.5536, 'gen_len': 31.0}\n"
          ]
        },
        {
          "name": "stderr",
          "output_type": "stream",
          "text": [
            " 83%|████████▎ | 1498/1807 [09:03<01:51,  2.76it/s]"
          ]
        },
        {
          "name": "stdout",
          "output_type": "stream",
          "text": [
            "{'bleu': 4.0419, 'gen_len': 31.0}\n"
          ]
        },
        {
          "name": "stderr",
          "output_type": "stream",
          "text": [
            "100%|██████████| 1807/1807 [10:54<00:00,  2.76it/s]\n",
            "100%|██████████| 7/7 [00:02<00:00,  3.31it/s]\n"
          ]
        },
        {
          "name": "stdout",
          "output_type": "stream",
          "text": [
            "Epoch: 12 | Time: 10m 56s\n",
            "\tTrain Loss: 4.057 | Train PPL:  57.786\n",
            "\t Val. Loss: 5.719 |  Val. PPL: 304.579\n",
            "bleu 4.5960857142857146\n"
          ]
        },
        {
          "name": "stderr",
          "output_type": "stream",
          "text": [
            " 28%|██▊       | 498/1807 [03:01<07:57,  2.74it/s]"
          ]
        },
        {
          "name": "stdout",
          "output_type": "stream",
          "text": [
            "{'bleu': 3.6525, 'gen_len': 31.0}\n"
          ]
        },
        {
          "name": "stderr",
          "output_type": "stream",
          "text": [
            " 55%|█████▌    | 998/1807 [06:03<04:55,  2.74it/s]"
          ]
        },
        {
          "name": "stdout",
          "output_type": "stream",
          "text": [
            "{'bleu': 6.272, 'gen_len': 31.0}\n"
          ]
        },
        {
          "name": "stderr",
          "output_type": "stream",
          "text": [
            " 83%|████████▎ | 1498/1807 [09:05<01:53,  2.72it/s]"
          ]
        },
        {
          "name": "stdout",
          "output_type": "stream",
          "text": [
            "{'bleu': 4.7153, 'gen_len': 31.0}\n"
          ]
        },
        {
          "name": "stderr",
          "output_type": "stream",
          "text": [
            "100%|██████████| 1807/1807 [10:57<00:00,  2.75it/s]\n",
            "100%|██████████| 7/7 [00:02<00:00,  3.27it/s]\n"
          ]
        },
        {
          "name": "stdout",
          "output_type": "stream",
          "text": [
            "Epoch: 13 | Time: 10m 59s\n",
            "\tTrain Loss: 4.015 | Train PPL:  55.440\n",
            "\t Val. Loss: 5.741 |  Val. PPL: 311.467\n",
            "bleu 5.044785714285714\n"
          ]
        },
        {
          "name": "stderr",
          "output_type": "stream",
          "text": [
            " 28%|██▊       | 498/1807 [03:01<08:00,  2.73it/s]"
          ]
        },
        {
          "name": "stdout",
          "output_type": "stream",
          "text": [
            "{'bleu': 3.1224, 'gen_len': 31.0}\n"
          ]
        },
        {
          "name": "stderr",
          "output_type": "stream",
          "text": [
            " 55%|█████▌    | 998/1807 [06:02<04:55,  2.74it/s]"
          ]
        },
        {
          "name": "stdout",
          "output_type": "stream",
          "text": [
            "{'bleu': 6.8278, 'gen_len': 31.0}\n"
          ]
        },
        {
          "name": "stderr",
          "output_type": "stream",
          "text": [
            " 83%|████████▎ | 1498/1807 [09:02<01:53,  2.73it/s]"
          ]
        },
        {
          "name": "stdout",
          "output_type": "stream",
          "text": [
            "{'bleu': 3.881, 'gen_len': 31.0}\n"
          ]
        },
        {
          "name": "stderr",
          "output_type": "stream",
          "text": [
            "100%|██████████| 1807/1807 [10:54<00:00,  2.76it/s]\n",
            "100%|██████████| 7/7 [00:02<00:00,  3.29it/s]\n"
          ]
        },
        {
          "name": "stdout",
          "output_type": "stream",
          "text": [
            "Epoch: 14 | Time: 10m 56s\n",
            "\tTrain Loss: 3.960 | Train PPL:  52.480\n",
            "\t Val. Loss: 5.721 |  Val. PPL: 305.208\n",
            "bleu 5.028099999999999\n"
          ]
        },
        {
          "name": "stderr",
          "output_type": "stream",
          "text": [
            " 28%|██▊       | 498/1807 [03:01<08:03,  2.71it/s]"
          ]
        },
        {
          "name": "stdout",
          "output_type": "stream",
          "text": [
            "{'bleu': 2.9933, 'gen_len': 31.0}\n"
          ]
        },
        {
          "name": "stderr",
          "output_type": "stream",
          "text": [
            " 55%|█████▌    | 998/1807 [06:03<04:53,  2.76it/s]"
          ]
        },
        {
          "name": "stdout",
          "output_type": "stream",
          "text": [
            "{'bleu': 6.1698, 'gen_len': 31.0}\n"
          ]
        },
        {
          "name": "stderr",
          "output_type": "stream",
          "text": [
            " 83%|████████▎ | 1498/1807 [09:05<01:52,  2.74it/s]"
          ]
        },
        {
          "name": "stdout",
          "output_type": "stream",
          "text": [
            "{'bleu': 4.927, 'gen_len': 31.0}\n"
          ]
        },
        {
          "name": "stderr",
          "output_type": "stream",
          "text": [
            "100%|██████████| 1807/1807 [10:58<00:00,  2.75it/s]\n",
            "100%|██████████| 7/7 [00:02<00:00,  3.25it/s]\n"
          ]
        },
        {
          "name": "stdout",
          "output_type": "stream",
          "text": [
            "Epoch: 15 | Time: 11m 0s\n",
            "\tTrain Loss: 3.916 | Train PPL:  50.209\n",
            "\t Val. Loss: 5.726 |  Val. PPL: 306.638\n",
            "bleu 5.149571428571429\n"
          ]
        },
        {
          "name": "stderr",
          "output_type": "stream",
          "text": [
            " 28%|██▊       | 498/1807 [03:01<07:54,  2.76it/s]"
          ]
        },
        {
          "name": "stdout",
          "output_type": "stream",
          "text": [
            "{'bleu': 4.3566, 'gen_len': 31.0}\n"
          ]
        },
        {
          "name": "stderr",
          "output_type": "stream",
          "text": [
            " 55%|█████▌    | 998/1807 [06:00<04:50,  2.78it/s]"
          ]
        },
        {
          "name": "stdout",
          "output_type": "stream",
          "text": [
            "{'bleu': 6.1134, 'gen_len': 31.0}\n"
          ]
        },
        {
          "name": "stderr",
          "output_type": "stream",
          "text": [
            " 83%|████████▎ | 1498/1807 [09:02<01:52,  2.75it/s]"
          ]
        },
        {
          "name": "stdout",
          "output_type": "stream",
          "text": [
            "{'bleu': 4.8098, 'gen_len': 31.0}\n"
          ]
        },
        {
          "name": "stderr",
          "output_type": "stream",
          "text": [
            "100%|██████████| 1807/1807 [10:54<00:00,  2.76it/s]\n",
            "100%|██████████| 7/7 [00:02<00:00,  3.29it/s]\n"
          ]
        },
        {
          "name": "stdout",
          "output_type": "stream",
          "text": [
            "Epoch: 16 | Time: 10m 57s\n",
            "\tTrain Loss: 3.877 | Train PPL:  48.267\n",
            "\t Val. Loss: 5.791 |  Val. PPL: 327.484\n",
            "bleu 5.336114285714286\n"
          ]
        },
        {
          "name": "stderr",
          "output_type": "stream",
          "text": [
            " 28%|██▊       | 498/1807 [03:01<08:02,  2.71it/s]"
          ]
        },
        {
          "name": "stdout",
          "output_type": "stream",
          "text": [
            "{'bleu': 2.96, 'gen_len': 31.0}\n"
          ]
        },
        {
          "name": "stderr",
          "output_type": "stream",
          "text": [
            " 55%|█████▌    | 998/1807 [06:03<04:55,  2.74it/s]"
          ]
        },
        {
          "name": "stdout",
          "output_type": "stream",
          "text": [
            "{'bleu': 5.6129, 'gen_len': 31.0}\n"
          ]
        },
        {
          "name": "stderr",
          "output_type": "stream",
          "text": [
            " 83%|████████▎ | 1498/1807 [09:05<01:52,  2.74it/s]"
          ]
        },
        {
          "name": "stdout",
          "output_type": "stream",
          "text": [
            "{'bleu': 5.7593, 'gen_len': 31.0}\n"
          ]
        },
        {
          "name": "stderr",
          "output_type": "stream",
          "text": [
            "100%|██████████| 1807/1807 [10:58<00:00,  2.75it/s]\n",
            "100%|██████████| 7/7 [00:02<00:00,  3.25it/s]\n"
          ]
        },
        {
          "name": "stdout",
          "output_type": "stream",
          "text": [
            "Epoch: 17 | Time: 11m 0s\n",
            "\tTrain Loss: 3.834 | Train PPL:  46.268\n",
            "\t Val. Loss: 5.803 |  Val. PPL: 331.292\n",
            "bleu 5.5184428571428565\n"
          ]
        },
        {
          "name": "stderr",
          "output_type": "stream",
          "text": [
            " 28%|██▊       | 498/1807 [02:59<07:51,  2.78it/s]"
          ]
        },
        {
          "name": "stdout",
          "output_type": "stream",
          "text": [
            "{'bleu': 3.9959, 'gen_len': 31.0}\n"
          ]
        },
        {
          "name": "stderr",
          "output_type": "stream",
          "text": [
            " 55%|█████▌    | 998/1807 [05:59<04:54,  2.75it/s]"
          ]
        },
        {
          "name": "stdout",
          "output_type": "stream",
          "text": [
            "{'bleu': 6.9587, 'gen_len': 31.0}\n"
          ]
        },
        {
          "name": "stderr",
          "output_type": "stream",
          "text": [
            " 83%|████████▎ | 1498/1807 [09:01<01:53,  2.73it/s]"
          ]
        },
        {
          "name": "stdout",
          "output_type": "stream",
          "text": [
            "{'bleu': 5.4816, 'gen_len': 31.0}\n"
          ]
        },
        {
          "name": "stderr",
          "output_type": "stream",
          "text": [
            "100%|██████████| 1807/1807 [10:54<00:00,  2.76it/s]\n",
            "100%|██████████| 7/7 [00:02<00:00,  3.29it/s]\n"
          ]
        },
        {
          "name": "stdout",
          "output_type": "stream",
          "text": [
            "Epoch: 18 | Time: 10m 56s\n",
            "\tTrain Loss: 3.810 | Train PPL:  45.147\n",
            "\t Val. Loss: 5.734 |  Val. PPL: 309.062\n",
            "bleu 5.276714285714285\n"
          ]
        },
        {
          "name": "stderr",
          "output_type": "stream",
          "text": [
            " 28%|██▊       | 498/1807 [03:01<07:58,  2.73it/s]"
          ]
        },
        {
          "name": "stdout",
          "output_type": "stream",
          "text": [
            "{'bleu': 4.2454, 'gen_len': 31.0}\n"
          ]
        },
        {
          "name": "stderr",
          "output_type": "stream",
          "text": [
            " 55%|█████▌    | 998/1807 [06:02<04:57,  2.72it/s]"
          ]
        },
        {
          "name": "stdout",
          "output_type": "stream",
          "text": [
            "{'bleu': 7.076, 'gen_len': 31.0}\n"
          ]
        },
        {
          "name": "stderr",
          "output_type": "stream",
          "text": [
            " 83%|████████▎ | 1498/1807 [09:04<01:52,  2.75it/s]"
          ]
        },
        {
          "name": "stdout",
          "output_type": "stream",
          "text": [
            "{'bleu': 6.2821, 'gen_len': 31.0}\n"
          ]
        },
        {
          "name": "stderr",
          "output_type": "stream",
          "text": [
            "100%|██████████| 1807/1807 [10:57<00:00,  2.75it/s]\n",
            "100%|██████████| 7/7 [00:02<00:00,  3.27it/s]\n"
          ]
        },
        {
          "name": "stdout",
          "output_type": "stream",
          "text": [
            "Epoch: 19 | Time: 10m 59s\n",
            "\tTrain Loss: 3.769 | Train PPL:  43.337\n",
            "\t Val. Loss: 5.733 |  Val. PPL: 308.823\n",
            "bleu 5.581985714285714\n"
          ]
        },
        {
          "name": "stderr",
          "output_type": "stream",
          "text": [
            " 28%|██▊       | 498/1807 [02:58<07:50,  2.78it/s]"
          ]
        },
        {
          "name": "stdout",
          "output_type": "stream",
          "text": [
            "{'bleu': 4.7181, 'gen_len': 31.0}\n"
          ]
        },
        {
          "name": "stderr",
          "output_type": "stream",
          "text": [
            " 55%|█████▌    | 998/1807 [06:00<04:55,  2.74it/s]"
          ]
        },
        {
          "name": "stdout",
          "output_type": "stream",
          "text": [
            "{'bleu': 6.5804, 'gen_len': 31.0}\n"
          ]
        },
        {
          "name": "stderr",
          "output_type": "stream",
          "text": [
            " 83%|████████▎ | 1498/1807 [09:02<01:53,  2.73it/s]"
          ]
        },
        {
          "name": "stdout",
          "output_type": "stream",
          "text": [
            "{'bleu': 6.2289, 'gen_len': 31.0}\n"
          ]
        },
        {
          "name": "stderr",
          "output_type": "stream",
          "text": [
            "100%|██████████| 1807/1807 [10:55<00:00,  2.76it/s]\n",
            "100%|██████████| 7/7 [00:02<00:00,  3.23it/s]\n"
          ]
        },
        {
          "name": "stdout",
          "output_type": "stream",
          "text": [
            "Epoch: 20 | Time: 10m 57s\n",
            "\tTrain Loss: 3.746 | Train PPL:  42.346\n",
            "\t Val. Loss: 5.731 |  Val. PPL: 308.375\n",
            "bleu 5.281071428571429\n"
          ]
        },
        {
          "name": "stderr",
          "output_type": "stream",
          "text": [
            " 28%|██▊       | 498/1807 [03:01<07:56,  2.75it/s]"
          ]
        },
        {
          "name": "stdout",
          "output_type": "stream",
          "text": [
            "{'bleu': 4.5384, 'gen_len': 31.0}\n"
          ]
        },
        {
          "name": "stderr",
          "output_type": "stream",
          "text": [
            " 55%|█████▌    | 998/1807 [06:03<04:55,  2.73it/s]"
          ]
        },
        {
          "name": "stdout",
          "output_type": "stream",
          "text": [
            "{'bleu': 7.2407, 'gen_len': 31.0}\n"
          ]
        },
        {
          "name": "stderr",
          "output_type": "stream",
          "text": [
            " 83%|████████▎ | 1498/1807 [09:04<01:50,  2.79it/s]"
          ]
        },
        {
          "name": "stdout",
          "output_type": "stream",
          "text": [
            "{'bleu': 6.3885, 'gen_len': 31.0}\n"
          ]
        },
        {
          "name": "stderr",
          "output_type": "stream",
          "text": [
            "100%|██████████| 1807/1807 [10:55<00:00,  2.76it/s]\n",
            "100%|██████████| 7/7 [00:02<00:00,  3.27it/s]\n"
          ]
        },
        {
          "name": "stdout",
          "output_type": "stream",
          "text": [
            "Epoch: 21 | Time: 10m 57s\n",
            "\tTrain Loss: 3.706 | Train PPL:  40.696\n",
            "\t Val. Loss: 5.825 |  Val. PPL: 338.530\n",
            "bleu 5.732085714285715\n"
          ]
        },
        {
          "name": "stderr",
          "output_type": "stream",
          "text": [
            " 28%|██▊       | 498/1807 [02:59<07:59,  2.73it/s]"
          ]
        },
        {
          "name": "stdout",
          "output_type": "stream",
          "text": [
            "{'bleu': 4.1733, 'gen_len': 31.0}\n"
          ]
        },
        {
          "name": "stderr",
          "output_type": "stream",
          "text": [
            " 55%|█████▌    | 998/1807 [06:01<04:55,  2.74it/s]"
          ]
        },
        {
          "name": "stdout",
          "output_type": "stream",
          "text": [
            "{'bleu': 6.6715, 'gen_len': 31.0}\n"
          ]
        },
        {
          "name": "stderr",
          "output_type": "stream",
          "text": [
            " 83%|████████▎ | 1498/1807 [09:04<01:53,  2.73it/s]"
          ]
        },
        {
          "name": "stdout",
          "output_type": "stream",
          "text": [
            "{'bleu': 7.2913, 'gen_len': 31.0}\n"
          ]
        },
        {
          "name": "stderr",
          "output_type": "stream",
          "text": [
            "100%|██████████| 1807/1807 [10:56<00:00,  2.75it/s]\n",
            "100%|██████████| 7/7 [00:02<00:00,  3.29it/s]\n"
          ]
        },
        {
          "name": "stdout",
          "output_type": "stream",
          "text": [
            "Epoch: 22 | Time: 10m 58s\n",
            "\tTrain Loss: 3.684 | Train PPL:  39.802\n",
            "\t Val. Loss: 5.846 |  Val. PPL: 345.953\n",
            "bleu 5.798157142857143\n"
          ]
        },
        {
          "name": "stderr",
          "output_type": "stream",
          "text": [
            " 28%|██▊       | 498/1807 [03:01<07:57,  2.74it/s]"
          ]
        },
        {
          "name": "stdout",
          "output_type": "stream",
          "text": [
            "{'bleu': 3.315, 'gen_len': 31.0}\n"
          ]
        },
        {
          "name": "stderr",
          "output_type": "stream",
          "text": [
            " 55%|█████▌    | 998/1807 [06:03<04:55,  2.73it/s]"
          ]
        },
        {
          "name": "stdout",
          "output_type": "stream",
          "text": [
            "{'bleu': 9.097, 'gen_len': 31.0}\n"
          ]
        },
        {
          "name": "stderr",
          "output_type": "stream",
          "text": [
            " 83%|████████▎ | 1498/1807 [09:03<01:51,  2.77it/s]"
          ]
        },
        {
          "name": "stdout",
          "output_type": "stream",
          "text": [
            "{'bleu': 6.559, 'gen_len': 31.0}\n"
          ]
        },
        {
          "name": "stderr",
          "output_type": "stream",
          "text": [
            "100%|██████████| 1807/1807 [10:54<00:00,  2.76it/s]\n",
            "100%|██████████| 7/7 [00:02<00:00,  3.24it/s]\n"
          ]
        },
        {
          "name": "stdout",
          "output_type": "stream",
          "text": [
            "Epoch: 23 | Time: 10m 57s\n",
            "\tTrain Loss: 3.662 | Train PPL:  38.954\n",
            "\t Val. Loss: 5.885 |  Val. PPL: 359.681\n",
            "bleu 6.0558\n"
          ]
        },
        {
          "name": "stderr",
          "output_type": "stream",
          "text": [
            " 28%|██▊       | 498/1807 [03:01<08:00,  2.72it/s]"
          ]
        },
        {
          "name": "stdout",
          "output_type": "stream",
          "text": [
            "{'bleu': 4.1729, 'gen_len': 31.0}\n"
          ]
        },
        {
          "name": "stderr",
          "output_type": "stream",
          "text": [
            " 55%|█████▌    | 998/1807 [06:03<04:55,  2.73it/s]"
          ]
        },
        {
          "name": "stdout",
          "output_type": "stream",
          "text": [
            "{'bleu': 7.509, 'gen_len': 31.0}\n"
          ]
        },
        {
          "name": "stderr",
          "output_type": "stream",
          "text": [
            " 83%|████████▎ | 1498/1807 [09:05<01:52,  2.75it/s]"
          ]
        },
        {
          "name": "stdout",
          "output_type": "stream",
          "text": [
            "{'bleu': 6.8335, 'gen_len': 31.0}\n"
          ]
        },
        {
          "name": "stderr",
          "output_type": "stream",
          "text": [
            "100%|██████████| 1807/1807 [10:58<00:00,  2.75it/s]\n",
            "100%|██████████| 7/7 [00:02<00:00,  3.27it/s]\n"
          ]
        },
        {
          "name": "stdout",
          "output_type": "stream",
          "text": [
            "Epoch: 24 | Time: 11m 0s\n",
            "\tTrain Loss: 3.630 | Train PPL:  37.715\n",
            "\t Val. Loss: 5.791 |  Val. PPL: 327.295\n",
            "bleu 5.7966\n"
          ]
        },
        {
          "name": "stderr",
          "output_type": "stream",
          "text": [
            " 28%|██▊       | 498/1807 [03:01<08:00,  2.72it/s]"
          ]
        },
        {
          "name": "stdout",
          "output_type": "stream",
          "text": [
            "{'bleu': 4.371, 'gen_len': 31.0}\n"
          ]
        },
        {
          "name": "stderr",
          "output_type": "stream",
          "text": [
            " 55%|█████▌    | 998/1807 [06:02<04:53,  2.76it/s]"
          ]
        },
        {
          "name": "stdout",
          "output_type": "stream",
          "text": [
            "{'bleu': 6.9844, 'gen_len': 31.0}\n"
          ]
        },
        {
          "name": "stderr",
          "output_type": "stream",
          "text": [
            " 83%|████████▎ | 1498/1807 [09:02<01:54,  2.71it/s]"
          ]
        },
        {
          "name": "stdout",
          "output_type": "stream",
          "text": [
            "{'bleu': 5.9455, 'gen_len': 31.0}\n"
          ]
        },
        {
          "name": "stderr",
          "output_type": "stream",
          "text": [
            "100%|██████████| 1807/1807 [10:54<00:00,  2.76it/s]\n",
            "100%|██████████| 7/7 [00:02<00:00,  2.96it/s]\n"
          ]
        },
        {
          "name": "stdout",
          "output_type": "stream",
          "text": [
            "Epoch: 25 | Time: 10m 57s\n",
            "\tTrain Loss: 3.608 | Train PPL:  36.897\n",
            "\t Val. Loss: 5.829 |  Val. PPL: 339.965\n",
            "bleu 5.554257142857144\n"
          ]
        },
        {
          "name": "stderr",
          "output_type": "stream",
          "text": [
            " 28%|██▊       | 498/1807 [03:01<07:57,  2.74it/s]"
          ]
        },
        {
          "name": "stdout",
          "output_type": "stream",
          "text": [
            "{'bleu': 5.4234, 'gen_len': 31.0}\n"
          ]
        },
        {
          "name": "stderr",
          "output_type": "stream",
          "text": [
            " 55%|█████▌    | 998/1807 [06:03<04:52,  2.76it/s]"
          ]
        },
        {
          "name": "stdout",
          "output_type": "stream",
          "text": [
            "{'bleu': 8.433, 'gen_len': 31.0}\n"
          ]
        },
        {
          "name": "stderr",
          "output_type": "stream",
          "text": [
            " 83%|████████▎ | 1498/1807 [09:05<01:52,  2.74it/s]"
          ]
        },
        {
          "name": "stdout",
          "output_type": "stream",
          "text": [
            "{'bleu': 6.2165, 'gen_len': 31.0}\n"
          ]
        },
        {
          "name": "stderr",
          "output_type": "stream",
          "text": [
            "100%|██████████| 1807/1807 [10:57<00:00,  2.75it/s]\n",
            "100%|██████████| 7/7 [00:02<00:00,  3.28it/s]\n"
          ]
        },
        {
          "name": "stdout",
          "output_type": "stream",
          "text": [
            "Epoch: 26 | Time: 10m 59s\n",
            "\tTrain Loss: 3.589 | Train PPL:  36.202\n",
            "\t Val. Loss: 5.865 |  Val. PPL: 352.599\n",
            "bleu 5.9227\n"
          ]
        },
        {
          "name": "stderr",
          "output_type": "stream",
          "text": [
            " 28%|██▊       | 498/1807 [03:00<07:51,  2.78it/s]"
          ]
        },
        {
          "name": "stdout",
          "output_type": "stream",
          "text": [
            "{'bleu': 5.0929, 'gen_len': 31.0}\n"
          ]
        },
        {
          "name": "stderr",
          "output_type": "stream",
          "text": [
            " 55%|█████▌    | 998/1807 [06:00<04:52,  2.77it/s]"
          ]
        },
        {
          "name": "stdout",
          "output_type": "stream",
          "text": [
            "{'bleu': 8.2962, 'gen_len': 31.0}\n"
          ]
        },
        {
          "name": "stderr",
          "output_type": "stream",
          "text": [
            " 83%|████████▎ | 1498/1807 [09:02<01:53,  2.73it/s]"
          ]
        },
        {
          "name": "stdout",
          "output_type": "stream",
          "text": [
            "{'bleu': 8.0965, 'gen_len': 31.0}\n"
          ]
        },
        {
          "name": "stderr",
          "output_type": "stream",
          "text": [
            "100%|██████████| 1807/1807 [10:55<00:00,  2.76it/s]\n",
            "100%|██████████| 7/7 [00:02<00:00,  3.28it/s]\n"
          ]
        },
        {
          "name": "stdout",
          "output_type": "stream",
          "text": [
            "Epoch: 27 | Time: 10m 57s\n",
            "\tTrain Loss: 3.573 | Train PPL:  35.636\n",
            "\t Val. Loss: 5.774 |  Val. PPL: 321.780\n",
            "bleu 5.372142857142856\n"
          ]
        },
        {
          "name": "stderr",
          "output_type": "stream",
          "text": [
            " 28%|██▊       | 498/1807 [03:01<07:57,  2.74it/s]"
          ]
        },
        {
          "name": "stdout",
          "output_type": "stream",
          "text": [
            "{'bleu': 3.9357, 'gen_len': 31.0}\n"
          ]
        },
        {
          "name": "stderr",
          "output_type": "stream",
          "text": [
            " 55%|█████▌    | 998/1807 [06:03<04:54,  2.75it/s]"
          ]
        },
        {
          "name": "stdout",
          "output_type": "stream",
          "text": [
            "{'bleu': 7.9995, 'gen_len': 31.0}\n"
          ]
        },
        {
          "name": "stderr",
          "output_type": "stream",
          "text": [
            " 83%|████████▎ | 1499/1807 [09:05<02:05,  2.46it/s]"
          ]
        },
        {
          "name": "stdout",
          "output_type": "stream",
          "text": [
            "{'bleu': 9.1883, 'gen_len': 31.0}\n"
          ]
        },
        {
          "name": "stderr",
          "output_type": "stream",
          "text": [
            "100%|██████████| 1807/1807 [10:57<00:00,  2.75it/s]\n",
            "100%|██████████| 7/7 [00:02<00:00,  3.28it/s]\n"
          ]
        },
        {
          "name": "stdout",
          "output_type": "stream",
          "text": [
            "Epoch: 28 | Time: 11m 0s\n",
            "\tTrain Loss: 3.548 | Train PPL:  34.732\n",
            "\t Val. Loss: 5.861 |  Val. PPL: 350.978\n",
            "bleu 5.802300000000001\n"
          ]
        },
        {
          "name": "stderr",
          "output_type": "stream",
          "text": [
            " 28%|██▊       | 498/1807 [02:59<07:52,  2.77it/s]"
          ]
        },
        {
          "name": "stdout",
          "output_type": "stream",
          "text": [
            "{'bleu': 4.9236, 'gen_len': 31.0}\n"
          ]
        },
        {
          "name": "stderr",
          "output_type": "stream",
          "text": [
            " 55%|█████▌    | 998/1807 [05:59<04:57,  2.72it/s]"
          ]
        },
        {
          "name": "stdout",
          "output_type": "stream",
          "text": [
            "{'bleu': 7.2191, 'gen_len': 31.0}\n"
          ]
        },
        {
          "name": "stderr",
          "output_type": "stream",
          "text": [
            " 83%|████████▎ | 1498/1807 [09:02<01:52,  2.74it/s]"
          ]
        },
        {
          "name": "stdout",
          "output_type": "stream",
          "text": [
            "{'bleu': 9.6467, 'gen_len': 31.0}\n"
          ]
        },
        {
          "name": "stderr",
          "output_type": "stream",
          "text": [
            "100%|██████████| 1807/1807 [10:54<00:00,  2.76it/s]\n",
            "100%|██████████| 7/7 [00:02<00:00,  3.23it/s]\n"
          ]
        },
        {
          "name": "stdout",
          "output_type": "stream",
          "text": [
            "Epoch: 29 | Time: 10m 56s\n",
            "\tTrain Loss: 3.532 | Train PPL:  34.189\n",
            "\t Val. Loss: 5.892 |  Val. PPL: 361.949\n",
            "bleu 6.036842857142858\n"
          ]
        },
        {
          "name": "stderr",
          "output_type": "stream",
          "text": [
            " 28%|██▊       | 498/1807 [03:01<07:58,  2.74it/s]"
          ]
        },
        {
          "name": "stdout",
          "output_type": "stream",
          "text": [
            "{'bleu': 5.1517, 'gen_len': 31.0}\n"
          ]
        },
        {
          "name": "stderr",
          "output_type": "stream",
          "text": [
            " 55%|█████▌    | 998/1807 [06:03<04:58,  2.71it/s]"
          ]
        },
        {
          "name": "stdout",
          "output_type": "stream",
          "text": [
            "{'bleu': 7.97, 'gen_len': 31.0}\n"
          ]
        },
        {
          "name": "stderr",
          "output_type": "stream",
          "text": [
            " 83%|████████▎ | 1498/1807 [09:05<01:52,  2.74it/s]"
          ]
        },
        {
          "name": "stdout",
          "output_type": "stream",
          "text": [
            "{'bleu': 7.9261, 'gen_len': 31.0}\n"
          ]
        },
        {
          "name": "stderr",
          "output_type": "stream",
          "text": [
            "100%|██████████| 1807/1807 [10:56<00:00,  2.75it/s]\n",
            "100%|██████████| 7/7 [00:02<00:00,  3.27it/s]\n"
          ]
        },
        {
          "name": "stdout",
          "output_type": "stream",
          "text": [
            "Epoch: 30 | Time: 10m 58s\n",
            "\tTrain Loss: 3.510 | Train PPL:  33.450\n",
            "\t Val. Loss: 5.926 |  Val. PPL: 374.489\n",
            "bleu 6.246071428571428\n"
          ]
        },
        {
          "name": "stderr",
          "output_type": "stream",
          "text": [
            " 28%|██▊       | 498/1807 [02:59<07:57,  2.74it/s]"
          ]
        },
        {
          "name": "stdout",
          "output_type": "stream",
          "text": [
            "{'bleu': 4.767, 'gen_len': 31.0}\n"
          ]
        },
        {
          "name": "stderr",
          "output_type": "stream",
          "text": [
            " 55%|█████▌    | 998/1807 [06:01<04:59,  2.70it/s]"
          ]
        },
        {
          "name": "stdout",
          "output_type": "stream",
          "text": [
            "{'bleu': 8.4777, 'gen_len': 31.0}\n"
          ]
        },
        {
          "name": "stderr",
          "output_type": "stream",
          "text": [
            " 83%|████████▎ | 1498/1807 [09:03<01:53,  2.73it/s]"
          ]
        },
        {
          "name": "stdout",
          "output_type": "stream",
          "text": [
            "{'bleu': 10.29, 'gen_len': 31.0}\n"
          ]
        },
        {
          "name": "stderr",
          "output_type": "stream",
          "text": [
            "100%|██████████| 1807/1807 [10:55<00:00,  2.75it/s]\n",
            "100%|██████████| 7/7 [00:02<00:00,  3.22it/s]\n"
          ]
        },
        {
          "name": "stdout",
          "output_type": "stream",
          "text": [
            "Epoch: 31 | Time: 10m 58s\n",
            "\tTrain Loss: 3.500 | Train PPL:  33.114\n",
            "\t Val. Loss: 5.838 |  Val. PPL: 343.205\n",
            "bleu 5.698628571428571\n"
          ]
        },
        {
          "name": "stderr",
          "output_type": "stream",
          "text": [
            " 28%|██▊       | 498/1807 [03:01<08:01,  2.72it/s]"
          ]
        },
        {
          "name": "stdout",
          "output_type": "stream",
          "text": [
            "{'bleu': 5.3478, 'gen_len': 31.0}\n"
          ]
        },
        {
          "name": "stderr",
          "output_type": "stream",
          "text": [
            " 55%|█████▌    | 998/1807 [06:03<04:56,  2.73it/s]"
          ]
        },
        {
          "name": "stdout",
          "output_type": "stream",
          "text": [
            "{'bleu': 7.8337, 'gen_len': 31.0}\n"
          ]
        },
        {
          "name": "stderr",
          "output_type": "stream",
          "text": [
            " 83%|████████▎ | 1498/1807 [09:04<01:51,  2.77it/s]"
          ]
        },
        {
          "name": "stdout",
          "output_type": "stream",
          "text": [
            "{'bleu': 8.7673, 'gen_len': 31.0}\n"
          ]
        },
        {
          "name": "stderr",
          "output_type": "stream",
          "text": [
            "100%|██████████| 1807/1807 [10:55<00:00,  2.76it/s]\n",
            "100%|██████████| 7/7 [00:02<00:00,  3.29it/s]\n"
          ]
        },
        {
          "name": "stdout",
          "output_type": "stream",
          "text": [
            "Epoch: 32 | Time: 10m 57s\n",
            "\tTrain Loss: 3.478 | Train PPL:  32.401\n",
            "\t Val. Loss: 5.892 |  Val. PPL: 362.133\n",
            "bleu 5.864185714285715\n"
          ]
        },
        {
          "name": "stderr",
          "output_type": "stream",
          "text": [
            " 28%|██▊       | 498/1807 [03:00<08:00,  2.73it/s]"
          ]
        },
        {
          "name": "stdout",
          "output_type": "stream",
          "text": [
            "{'bleu': 5.9079, 'gen_len': 31.0}\n"
          ]
        },
        {
          "name": "stderr",
          "output_type": "stream",
          "text": [
            " 55%|█████▌    | 998/1807 [06:03<04:55,  2.74it/s]"
          ]
        },
        {
          "name": "stdout",
          "output_type": "stream",
          "text": [
            "{'bleu': 8.2706, 'gen_len': 31.0}\n"
          ]
        },
        {
          "name": "stderr",
          "output_type": "stream",
          "text": [
            " 83%|████████▎ | 1498/1807 [09:05<01:53,  2.73it/s]"
          ]
        },
        {
          "name": "stdout",
          "output_type": "stream",
          "text": [
            "{'bleu': 8.469, 'gen_len': 31.0}\n"
          ]
        },
        {
          "name": "stderr",
          "output_type": "stream",
          "text": [
            "100%|██████████| 1807/1807 [10:57<00:00,  2.75it/s]\n",
            "100%|██████████| 7/7 [00:02<00:00,  3.25it/s]\n"
          ]
        },
        {
          "name": "stdout",
          "output_type": "stream",
          "text": [
            "Epoch: 33 | Time: 10m 59s\n",
            "\tTrain Loss: 3.462 | Train PPL:  31.877\n",
            "\t Val. Loss: 5.922 |  Val. PPL: 373.077\n",
            "bleu 5.823485714285714\n"
          ]
        },
        {
          "name": "stderr",
          "output_type": "stream",
          "text": [
            " 28%|██▊       | 498/1807 [03:01<07:57,  2.74it/s]"
          ]
        },
        {
          "name": "stdout",
          "output_type": "stream",
          "text": [
            "{'bleu': 5.7738, 'gen_len': 31.0}\n"
          ]
        },
        {
          "name": "stderr",
          "output_type": "stream",
          "text": [
            " 55%|█████▌    | 999/1807 [06:03<05:24,  2.49it/s]"
          ]
        },
        {
          "name": "stdout",
          "output_type": "stream",
          "text": [
            "{'bleu': 8.3081, 'gen_len': 31.0}\n"
          ]
        },
        {
          "name": "stderr",
          "output_type": "stream",
          "text": [
            " 83%|████████▎ | 1498/1807 [09:03<01:51,  2.76it/s]"
          ]
        },
        {
          "name": "stdout",
          "output_type": "stream",
          "text": [
            "{'bleu': 7.9781, 'gen_len': 31.0}\n"
          ]
        },
        {
          "name": "stderr",
          "output_type": "stream",
          "text": [
            "100%|██████████| 1807/1807 [10:55<00:00,  2.76it/s]\n",
            "100%|██████████| 7/7 [00:02<00:00,  3.25it/s]\n"
          ]
        },
        {
          "name": "stdout",
          "output_type": "stream",
          "text": [
            "Epoch: 34 | Time: 10m 57s\n",
            "\tTrain Loss: 3.450 | Train PPL:  31.508\n",
            "\t Val. Loss: 5.929 |  Val. PPL: 375.891\n",
            "bleu 6.037871428571428\n"
          ]
        },
        {
          "name": "stderr",
          "output_type": "stream",
          "text": [
            " 28%|██▊       | 498/1807 [03:01<07:58,  2.74it/s]"
          ]
        },
        {
          "name": "stdout",
          "output_type": "stream",
          "text": [
            "{'bleu': 6.263, 'gen_len': 31.0}\n"
          ]
        },
        {
          "name": "stderr",
          "output_type": "stream",
          "text": [
            " 55%|█████▌    | 998/1807 [06:03<04:55,  2.74it/s]"
          ]
        },
        {
          "name": "stdout",
          "output_type": "stream",
          "text": [
            "{'bleu': 9.7887, 'gen_len': 31.0}\n"
          ]
        },
        {
          "name": "stderr",
          "output_type": "stream",
          "text": [
            " 83%|████████▎ | 1498/1807 [09:05<01:53,  2.73it/s]"
          ]
        },
        {
          "name": "stdout",
          "output_type": "stream",
          "text": [
            "{'bleu': 10.0261, 'gen_len': 31.0}\n"
          ]
        },
        {
          "name": "stderr",
          "output_type": "stream",
          "text": [
            "100%|██████████| 1807/1807 [10:57<00:00,  2.75it/s]\n",
            "100%|██████████| 7/7 [00:02<00:00,  3.23it/s]\n"
          ]
        },
        {
          "name": "stdout",
          "output_type": "stream",
          "text": [
            "Epoch: 35 | Time: 11m 0s\n",
            "\tTrain Loss: 3.438 | Train PPL:  31.122\n",
            "\t Val. Loss: 5.969 |  Val. PPL: 391.036\n",
            "bleu 6.0065285714285706\n"
          ]
        },
        {
          "name": "stderr",
          "output_type": "stream",
          "text": [
            " 28%|██▊       | 498/1807 [03:01<07:57,  2.74it/s]"
          ]
        },
        {
          "name": "stdout",
          "output_type": "stream",
          "text": [
            "{'bleu': 6.3093, 'gen_len': 31.0}\n"
          ]
        },
        {
          "name": "stderr",
          "output_type": "stream",
          "text": [
            " 55%|█████▌    | 998/1807 [06:01<04:51,  2.78it/s]"
          ]
        },
        {
          "name": "stdout",
          "output_type": "stream",
          "text": [
            "{'bleu': 8.9036, 'gen_len': 31.0}\n"
          ]
        },
        {
          "name": "stderr",
          "output_type": "stream",
          "text": [
            " 83%|████████▎ | 1498/1807 [09:02<01:53,  2.73it/s]"
          ]
        },
        {
          "name": "stdout",
          "output_type": "stream",
          "text": [
            "{'bleu': 8.8831, 'gen_len': 31.0}\n"
          ]
        },
        {
          "name": "stderr",
          "output_type": "stream",
          "text": [
            "100%|██████████| 1807/1807 [10:54<00:00,  2.76it/s]\n",
            "100%|██████████| 7/7 [00:02<00:00,  3.28it/s]\n"
          ]
        },
        {
          "name": "stdout",
          "output_type": "stream",
          "text": [
            "Epoch: 36 | Time: 10m 57s\n",
            "\tTrain Loss: 3.422 | Train PPL:  30.618\n",
            "\t Val. Loss: 5.954 |  Val. PPL: 385.163\n",
            "bleu 5.920757142857142\n"
          ]
        },
        {
          "name": "stderr",
          "output_type": "stream",
          "text": [
            " 28%|██▊       | 498/1807 [03:01<07:58,  2.74it/s]"
          ]
        },
        {
          "name": "stdout",
          "output_type": "stream",
          "text": [
            "{'bleu': 6.0857, 'gen_len': 31.0}\n"
          ]
        },
        {
          "name": "stderr",
          "output_type": "stream",
          "text": [
            " 55%|█████▌    | 998/1807 [06:03<04:56,  2.73it/s]"
          ]
        },
        {
          "name": "stdout",
          "output_type": "stream",
          "text": [
            "{'bleu': 9.4321, 'gen_len': 31.0}\n"
          ]
        },
        {
          "name": "stderr",
          "output_type": "stream",
          "text": [
            " 83%|████████▎ | 1498/1807 [09:05<01:52,  2.74it/s]"
          ]
        },
        {
          "name": "stdout",
          "output_type": "stream",
          "text": [
            "{'bleu': 9.0531, 'gen_len': 31.0}\n"
          ]
        },
        {
          "name": "stderr",
          "output_type": "stream",
          "text": [
            "100%|██████████| 1807/1807 [10:57<00:00,  2.75it/s]\n",
            "100%|██████████| 7/7 [00:02<00:00,  3.24it/s]\n"
          ]
        },
        {
          "name": "stdout",
          "output_type": "stream",
          "text": [
            "Epoch: 37 | Time: 11m 0s\n",
            "\tTrain Loss: 3.410 | Train PPL:  30.278\n",
            "\t Val. Loss: 5.964 |  Val. PPL: 389.292\n",
            "bleu 5.992642857142857\n"
          ]
        },
        {
          "name": "stderr",
          "output_type": "stream",
          "text": [
            " 28%|██▊       | 498/1807 [02:59<07:53,  2.76it/s]"
          ]
        },
        {
          "name": "stdout",
          "output_type": "stream",
          "text": [
            "{'bleu': 5.9638, 'gen_len': 31.0}\n"
          ]
        },
        {
          "name": "stderr",
          "output_type": "stream",
          "text": [
            " 55%|█████▌    | 998/1807 [06:00<04:55,  2.74it/s]"
          ]
        },
        {
          "name": "stdout",
          "output_type": "stream",
          "text": [
            "{'bleu': 9.0632, 'gen_len': 31.0}\n"
          ]
        },
        {
          "name": "stderr",
          "output_type": "stream",
          "text": [
            " 83%|████████▎ | 1498/1807 [09:02<01:52,  2.74it/s]"
          ]
        },
        {
          "name": "stdout",
          "output_type": "stream",
          "text": [
            "{'bleu': 8.8486, 'gen_len': 31.0}\n"
          ]
        },
        {
          "name": "stderr",
          "output_type": "stream",
          "text": [
            "100%|██████████| 1807/1807 [10:54<00:00,  2.76it/s]\n",
            "100%|██████████| 7/7 [00:02<00:00,  3.28it/s]\n"
          ]
        },
        {
          "name": "stdout",
          "output_type": "stream",
          "text": [
            "Epoch: 38 | Time: 10m 56s\n",
            "\tTrain Loss: 3.392 | Train PPL:  29.712\n",
            "\t Val. Loss: 6.021 |  Val. PPL: 412.032\n",
            "bleu 5.936014285714286\n"
          ]
        },
        {
          "name": "stderr",
          "output_type": "stream",
          "text": [
            " 28%|██▊       | 498/1807 [03:01<07:57,  2.74it/s]"
          ]
        },
        {
          "name": "stdout",
          "output_type": "stream",
          "text": [
            "{'bleu': 5.8256, 'gen_len': 31.0}\n"
          ]
        },
        {
          "name": "stderr",
          "output_type": "stream",
          "text": [
            " 55%|█████▌    | 998/1807 [06:03<04:57,  2.72it/s]"
          ]
        },
        {
          "name": "stdout",
          "output_type": "stream",
          "text": [
            "{'bleu': 8.9442, 'gen_len': 31.0}\n"
          ]
        },
        {
          "name": "stderr",
          "output_type": "stream",
          "text": [
            " 83%|████████▎ | 1498/1807 [09:03<01:51,  2.78it/s]"
          ]
        },
        {
          "name": "stdout",
          "output_type": "stream",
          "text": [
            "{'bleu': 10.6942, 'gen_len': 31.0}\n"
          ]
        },
        {
          "name": "stderr",
          "output_type": "stream",
          "text": [
            "100%|██████████| 1807/1807 [10:54<00:00,  2.76it/s]\n",
            "100%|██████████| 7/7 [00:02<00:00,  3.28it/s]\n"
          ]
        },
        {
          "name": "stdout",
          "output_type": "stream",
          "text": [
            "Epoch: 39 | Time: 10m 56s\n",
            "\tTrain Loss: 3.383 | Train PPL:  29.450\n",
            "\t Val. Loss: 5.958 |  Val. PPL: 386.658\n",
            "bleu 5.830114285714286\n"
          ]
        },
        {
          "name": "stderr",
          "output_type": "stream",
          "text": [
            " 28%|██▊       | 498/1807 [02:59<07:50,  2.78it/s]"
          ]
        },
        {
          "name": "stdout",
          "output_type": "stream",
          "text": [
            "{'bleu': 7.1204, 'gen_len': 31.0}\n"
          ]
        },
        {
          "name": "stderr",
          "output_type": "stream",
          "text": [
            " 55%|█████▌    | 998/1807 [06:00<04:58,  2.71it/s]"
          ]
        },
        {
          "name": "stdout",
          "output_type": "stream",
          "text": [
            "{'bleu': 7.6829, 'gen_len': 31.0}\n"
          ]
        },
        {
          "name": "stderr",
          "output_type": "stream",
          "text": [
            " 83%|████████▎ | 1498/1807 [09:01<01:51,  2.76it/s]"
          ]
        },
        {
          "name": "stdout",
          "output_type": "stream",
          "text": [
            "{'bleu': 8.6624, 'gen_len': 31.0}\n"
          ]
        },
        {
          "name": "stderr",
          "output_type": "stream",
          "text": [
            "100%|██████████| 1807/1807 [10:52<00:00,  2.77it/s]\n",
            "100%|██████████| 7/7 [00:02<00:00,  3.29it/s]\n"
          ]
        },
        {
          "name": "stdout",
          "output_type": "stream",
          "text": [
            "Epoch: 40 | Time: 10m 54s\n",
            "\tTrain Loss: 3.360 | Train PPL:  28.787\n",
            "\t Val. Loss: 6.004 |  Val. PPL: 405.212\n",
            "bleu 6.314814285714286\n"
          ]
        },
        {
          "name": "stderr",
          "output_type": "stream",
          "text": [
            " 28%|██▊       | 498/1807 [03:01<08:00,  2.72it/s]"
          ]
        },
        {
          "name": "stdout",
          "output_type": "stream",
          "text": [
            "{'bleu': 7.3964, 'gen_len': 31.0}\n"
          ]
        },
        {
          "name": "stderr",
          "output_type": "stream",
          "text": [
            " 55%|█████▌    | 998/1807 [06:01<04:52,  2.76it/s]"
          ]
        },
        {
          "name": "stdout",
          "output_type": "stream",
          "text": [
            "{'bleu': 7.0961, 'gen_len': 31.0}\n"
          ]
        },
        {
          "name": "stderr",
          "output_type": "stream",
          "text": [
            " 83%|████████▎ | 1498/1807 [09:01<01:50,  2.79it/s]"
          ]
        },
        {
          "name": "stdout",
          "output_type": "stream",
          "text": [
            "{'bleu': 9.2543, 'gen_len': 31.0}\n"
          ]
        },
        {
          "name": "stderr",
          "output_type": "stream",
          "text": [
            "100%|██████████| 1807/1807 [10:52<00:00,  2.77it/s]\n",
            "100%|██████████| 7/7 [00:02<00:00,  3.26it/s]\n"
          ]
        },
        {
          "name": "stdout",
          "output_type": "stream",
          "text": [
            "Epoch: 41 | Time: 10m 54s\n",
            "\tTrain Loss: 3.355 | Train PPL:  28.652\n",
            "\t Val. Loss: 6.008 |  Val. PPL: 406.695\n",
            "bleu 6.307671428571429\n"
          ]
        },
        {
          "name": "stderr",
          "output_type": "stream",
          "text": [
            " 28%|██▊       | 498/1807 [02:59<07:59,  2.73it/s]"
          ]
        },
        {
          "name": "stdout",
          "output_type": "stream",
          "text": [
            "{'bleu': 7.5494, 'gen_len': 31.0}\n"
          ]
        },
        {
          "name": "stderr",
          "output_type": "stream",
          "text": [
            " 55%|█████▌    | 998/1807 [06:01<04:52,  2.77it/s]"
          ]
        },
        {
          "name": "stdout",
          "output_type": "stream",
          "text": [
            "{'bleu': 8.1548, 'gen_len': 31.0}\n"
          ]
        },
        {
          "name": "stderr",
          "output_type": "stream",
          "text": [
            " 83%|████████▎ | 1498/1807 [09:01<01:51,  2.78it/s]"
          ]
        },
        {
          "name": "stdout",
          "output_type": "stream",
          "text": [
            "{'bleu': 8.9684, 'gen_len': 31.0}\n"
          ]
        },
        {
          "name": "stderr",
          "output_type": "stream",
          "text": [
            "100%|██████████| 1807/1807 [10:53<00:00,  2.76it/s]\n",
            "100%|██████████| 7/7 [00:02<00:00,  3.23it/s]\n"
          ]
        },
        {
          "name": "stdout",
          "output_type": "stream",
          "text": [
            "Epoch: 42 | Time: 10m 55s\n",
            "\tTrain Loss: 3.348 | Train PPL:  28.438\n",
            "\t Val. Loss: 6.036 |  Val. PPL: 418.340\n",
            "bleu 6.182585714285714\n"
          ]
        },
        {
          "name": "stderr",
          "output_type": "stream",
          "text": [
            " 28%|██▊       | 498/1807 [03:00<07:49,  2.79it/s]"
          ]
        },
        {
          "name": "stdout",
          "output_type": "stream",
          "text": [
            "{'bleu': 6.5973, 'gen_len': 31.0}\n"
          ]
        },
        {
          "name": "stderr",
          "output_type": "stream",
          "text": [
            " 55%|█████▌    | 998/1807 [06:00<04:51,  2.77it/s]"
          ]
        },
        {
          "name": "stdout",
          "output_type": "stream",
          "text": [
            "{'bleu': 8.4166, 'gen_len': 31.0}\n"
          ]
        },
        {
          "name": "stderr",
          "output_type": "stream",
          "text": [
            " 83%|████████▎ | 1498/1807 [09:00<01:51,  2.78it/s]"
          ]
        },
        {
          "name": "stdout",
          "output_type": "stream",
          "text": [
            "{'bleu': 11.3261, 'gen_len': 31.0}\n"
          ]
        },
        {
          "name": "stderr",
          "output_type": "stream",
          "text": [
            "100%|██████████| 1807/1807 [10:51<00:00,  2.77it/s]\n",
            "100%|██████████| 7/7 [00:02<00:00,  3.29it/s]\n"
          ]
        },
        {
          "name": "stdout",
          "output_type": "stream",
          "text": [
            "Epoch: 43 | Time: 10m 53s\n",
            "\tTrain Loss: 3.337 | Train PPL:  28.127\n",
            "\t Val. Loss: 6.035 |  Val. PPL: 417.630\n",
            "bleu 6.081928571428572\n"
          ]
        },
        {
          "name": "stderr",
          "output_type": "stream",
          "text": [
            " 28%|██▊       | 498/1807 [03:01<07:57,  2.74it/s]"
          ]
        },
        {
          "name": "stdout",
          "output_type": "stream",
          "text": [
            "{'bleu': 6.6323, 'gen_len': 31.0}\n"
          ]
        },
        {
          "name": "stderr",
          "output_type": "stream",
          "text": [
            " 55%|█████▌    | 998/1807 [06:01<04:51,  2.78it/s]"
          ]
        },
        {
          "name": "stdout",
          "output_type": "stream",
          "text": [
            "{'bleu': 9.5125, 'gen_len': 31.0}\n"
          ]
        },
        {
          "name": "stderr",
          "output_type": "stream",
          "text": [
            " 83%|████████▎ | 1498/1807 [09:01<01:53,  2.73it/s]"
          ]
        },
        {
          "name": "stdout",
          "output_type": "stream",
          "text": [
            "{'bleu': 9.0314, 'gen_len': 31.0}\n"
          ]
        },
        {
          "name": "stderr",
          "output_type": "stream",
          "text": [
            "100%|██████████| 1807/1807 [10:54<00:00,  2.76it/s]\n",
            "100%|██████████| 7/7 [00:02<00:00,  3.27it/s]\n"
          ]
        },
        {
          "name": "stdout",
          "output_type": "stream",
          "text": [
            "Epoch: 44 | Time: 10m 56s\n",
            "\tTrain Loss: 3.327 | Train PPL:  27.855\n",
            "\t Val. Loss: 6.017 |  Val. PPL: 410.466\n",
            "bleu 6.181171428571429\n"
          ]
        },
        {
          "name": "stderr",
          "output_type": "stream",
          "text": [
            " 28%|██▊       | 498/1807 [02:59<07:50,  2.78it/s]"
          ]
        },
        {
          "name": "stdout",
          "output_type": "stream",
          "text": [
            "{'bleu': 5.8935, 'gen_len': 31.0}\n"
          ]
        },
        {
          "name": "stderr",
          "output_type": "stream",
          "text": [
            " 55%|█████▌    | 998/1807 [05:58<04:50,  2.78it/s]"
          ]
        },
        {
          "name": "stdout",
          "output_type": "stream",
          "text": [
            "{'bleu': 9.5794, 'gen_len': 31.0}\n"
          ]
        },
        {
          "name": "stderr",
          "output_type": "stream",
          "text": [
            " 83%|████████▎ | 1498/1807 [08:59<01:53,  2.72it/s]"
          ]
        },
        {
          "name": "stdout",
          "output_type": "stream",
          "text": [
            "{'bleu': 9.9662, 'gen_len': 31.0}\n"
          ]
        },
        {
          "name": "stderr",
          "output_type": "stream",
          "text": [
            "100%|██████████| 1807/1807 [10:51<00:00,  2.77it/s]\n",
            "100%|██████████| 7/7 [00:02<00:00,  3.23it/s]\n"
          ]
        },
        {
          "name": "stdout",
          "output_type": "stream",
          "text": [
            "Epoch: 45 | Time: 10m 53s\n",
            "\tTrain Loss: 3.310 | Train PPL:  27.385\n",
            "\t Val. Loss: 6.038 |  Val. PPL: 418.888\n",
            "bleu 6.2757571428571435\n"
          ]
        },
        {
          "name": "stderr",
          "output_type": "stream",
          "text": [
            " 28%|██▊       | 498/1807 [02:59<07:52,  2.77it/s]"
          ]
        },
        {
          "name": "stdout",
          "output_type": "stream",
          "text": [
            "{'bleu': 5.9607, 'gen_len': 31.0}\n"
          ]
        },
        {
          "name": "stderr",
          "output_type": "stream",
          "text": [
            " 55%|█████▌    | 998/1807 [06:00<04:53,  2.75it/s]"
          ]
        },
        {
          "name": "stdout",
          "output_type": "stream",
          "text": [
            "{'bleu': 9.9546, 'gen_len': 31.0}\n"
          ]
        },
        {
          "name": "stderr",
          "output_type": "stream",
          "text": [
            " 83%|████████▎ | 1498/1807 [09:02<01:52,  2.74it/s]"
          ]
        },
        {
          "name": "stdout",
          "output_type": "stream",
          "text": [
            "{'bleu': 9.4668, 'gen_len': 31.0}\n"
          ]
        },
        {
          "name": "stderr",
          "output_type": "stream",
          "text": [
            "100%|██████████| 1807/1807 [10:53<00:00,  2.77it/s]\n",
            "100%|██████████| 7/7 [00:02<00:00,  3.29it/s]\n"
          ]
        },
        {
          "name": "stdout",
          "output_type": "stream",
          "text": [
            "Epoch: 46 | Time: 10m 55s\n",
            "\tTrain Loss: 3.295 | Train PPL:  26.965\n",
            "\t Val. Loss: 6.039 |  Val. PPL: 419.292\n",
            "bleu 6.099385714285715\n"
          ]
        },
        {
          "name": "stderr",
          "output_type": "stream",
          "text": [
            " 28%|██▊       | 498/1807 [02:58<07:51,  2.78it/s]"
          ]
        },
        {
          "name": "stdout",
          "output_type": "stream",
          "text": [
            "{'bleu': 7.4832, 'gen_len': 31.0}\n"
          ]
        },
        {
          "name": "stderr",
          "output_type": "stream",
          "text": [
            " 55%|█████▌    | 998/1807 [05:58<04:50,  2.78it/s]"
          ]
        },
        {
          "name": "stdout",
          "output_type": "stream",
          "text": [
            "{'bleu': 9.2149, 'gen_len': 31.0}\n"
          ]
        },
        {
          "name": "stderr",
          "output_type": "stream",
          "text": [
            " 83%|████████▎ | 1498/1807 [09:00<01:52,  2.74it/s]"
          ]
        },
        {
          "name": "stdout",
          "output_type": "stream",
          "text": [
            "{'bleu': 10.3219, 'gen_len': 31.0}\n"
          ]
        },
        {
          "name": "stderr",
          "output_type": "stream",
          "text": [
            "100%|██████████| 1807/1807 [10:52<00:00,  2.77it/s]\n",
            "100%|██████████| 7/7 [00:02<00:00,  3.25it/s]\n"
          ]
        },
        {
          "name": "stdout",
          "output_type": "stream",
          "text": [
            "Epoch: 47 | Time: 10m 54s\n",
            "\tTrain Loss: 3.289 | Train PPL:  26.816\n",
            "\t Val. Loss: 6.035 |  Val. PPL: 417.631\n",
            "bleu 6.184971428571428\n"
          ]
        },
        {
          "name": "stderr",
          "output_type": "stream",
          "text": [
            " 28%|██▊       | 498/1807 [02:59<07:50,  2.79it/s]"
          ]
        },
        {
          "name": "stdout",
          "output_type": "stream",
          "text": [
            "{'bleu': 8.1699, 'gen_len': 31.0}\n"
          ]
        },
        {
          "name": "stderr",
          "output_type": "stream",
          "text": [
            " 55%|█████▌    | 998/1807 [06:00<04:56,  2.73it/s]"
          ]
        },
        {
          "name": "stdout",
          "output_type": "stream",
          "text": [
            "{'bleu': 9.672, 'gen_len': 31.0}\n"
          ]
        },
        {
          "name": "stderr",
          "output_type": "stream",
          "text": [
            " 83%|████████▎ | 1498/1807 [09:01<01:51,  2.76it/s]"
          ]
        },
        {
          "name": "stdout",
          "output_type": "stream",
          "text": [
            "{'bleu': 8.9198, 'gen_len': 31.0}\n"
          ]
        },
        {
          "name": "stderr",
          "output_type": "stream",
          "text": [
            "100%|██████████| 1807/1807 [10:52<00:00,  2.77it/s]\n",
            "100%|██████████| 7/7 [00:02<00:00,  3.26it/s]\n"
          ]
        },
        {
          "name": "stdout",
          "output_type": "stream",
          "text": [
            "Epoch: 48 | Time: 10m 54s\n",
            "\tTrain Loss: 3.272 | Train PPL:  26.365\n",
            "\t Val. Loss: 6.117 |  Val. PPL: 453.459\n",
            "bleu 6.126414285714286\n"
          ]
        },
        {
          "name": "stderr",
          "output_type": "stream",
          "text": [
            " 28%|██▊       | 498/1807 [02:59<07:50,  2.78it/s]"
          ]
        },
        {
          "name": "stdout",
          "output_type": "stream",
          "text": [
            "{'bleu': 7.6418, 'gen_len': 31.0}\n"
          ]
        },
        {
          "name": "stderr",
          "output_type": "stream",
          "text": [
            " 55%|█████▌    | 998/1807 [05:59<04:54,  2.75it/s]"
          ]
        },
        {
          "name": "stdout",
          "output_type": "stream",
          "text": [
            "{'bleu': 10.1301, 'gen_len': 31.0}\n"
          ]
        },
        {
          "name": "stderr",
          "output_type": "stream",
          "text": [
            " 83%|████████▎ | 1498/1807 [09:01<01:51,  2.78it/s]"
          ]
        },
        {
          "name": "stdout",
          "output_type": "stream",
          "text": [
            "{'bleu': 9.5298, 'gen_len': 31.0}\n"
          ]
        },
        {
          "name": "stderr",
          "output_type": "stream",
          "text": [
            "100%|██████████| 1807/1807 [10:52<00:00,  2.77it/s]\n",
            "100%|██████████| 7/7 [00:02<00:00,  3.29it/s]\n"
          ]
        },
        {
          "name": "stdout",
          "output_type": "stream",
          "text": [
            "Epoch: 49 | Time: 10m 54s\n",
            "\tTrain Loss: 3.269 | Train PPL:  26.298\n",
            "\t Val. Loss: 6.076 |  Val. PPL: 435.313\n",
            "bleu 5.933199999999999\n"
          ]
        },
        {
          "name": "stderr",
          "output_type": "stream",
          "text": [
            " 28%|██▊       | 498/1807 [02:59<07:56,  2.74it/s]"
          ]
        },
        {
          "name": "stdout",
          "output_type": "stream",
          "text": [
            "{'bleu': 8.5536, 'gen_len': 31.0}\n"
          ]
        },
        {
          "name": "stderr",
          "output_type": "stream",
          "text": [
            " 55%|█████▌    | 998/1807 [06:01<04:51,  2.78it/s]"
          ]
        },
        {
          "name": "stdout",
          "output_type": "stream",
          "text": [
            "{'bleu': 9.9637, 'gen_len': 31.0}\n"
          ]
        },
        {
          "name": "stderr",
          "output_type": "stream",
          "text": [
            " 83%|████████▎ | 1498/1807 [09:01<01:51,  2.78it/s]"
          ]
        },
        {
          "name": "stdout",
          "output_type": "stream",
          "text": [
            "{'bleu': 9.9147, 'gen_len': 31.0}\n"
          ]
        },
        {
          "name": "stderr",
          "output_type": "stream",
          "text": [
            "100%|██████████| 1807/1807 [10:52<00:00,  2.77it/s]\n",
            "100%|██████████| 7/7 [00:02<00:00,  3.30it/s]"
          ]
        },
        {
          "name": "stdout",
          "output_type": "stream",
          "text": [
            "Epoch: 50 | Time: 10m 54s\n",
            "\tTrain Loss: 3.268 | Train PPL:  26.246\n",
            "\t Val. Loss: 6.101 |  Val. PPL: 446.176\n",
            "bleu 6.312757142857143\n"
          ]
        },
        {
          "name": "stderr",
          "output_type": "stream",
          "text": [
            "\n"
          ]
        }
      ],
      "source": [
        "# best_valid_loss = float('inf')\n",
        "#ADD TQDM\n",
        "train_losses = []\n",
        "val_losses = []\n",
        "val_bleus = []\n",
        "for epoch in range(N_EPOCHS):\n",
        "\n",
        "    start_time = time.time()\n",
        "\n",
        "    # train_loss = train_fn(model, iter(train_dataloader), optimizer, criterion, CLIP,device,EVAL_STEPS)\n",
        "    train_loss = train_mlm_fn(model, iter(train_dataloader), optimizer, criterion, CLIP,device,EVAL_STEPS, MLM_PROB)\n",
        "    valid_loss, bleu = evaluate_fn(model, iter(valid_dataloader), criterion,device)\n",
        "\n",
        "    train_losses.append(train_loss)\n",
        "    val_losses.append(valid_loss)\n",
        "    val_bleus.append(bleu)\n",
        "\n",
        "    end_time = time.time()\n",
        "\n",
        "    epoch_mins, epoch_secs = epoch_time(start_time, end_time)\n",
        "\n",
        "    # if valid_loss < best_valid_loss:\n",
        "    #     best_valid_loss = valid_loss\n",
        "    #     torch.save(model.state_dict(), '/content/drive/MyDrive/CS4248 NLP/rnn-model.pt')\n",
        "\n",
        "    print(f'Epoch: {epoch+1:02} | Time: {epoch_mins}m {epoch_secs}s')\n",
        "    print(f'\\tTrain Loss: {train_loss:.3f} | Train PPL: {math.exp(train_loss):7.3f}')\n",
        "    print(f'\\t Val. Loss: {valid_loss:.3f} |  Val. PPL: {math.exp(valid_loss):7.3f}')\n",
        "    print(\"bleu\", bleu)"
      ]
    },
    {
      "cell_type": "code",
      "execution_count": 34,
      "metadata": {},
      "outputs": [
        {
          "data": {
            "image/png": "[encoded data removed]",
            "text/plain": [
              "<Figure size 640x480 with 1 Axes>"
            ]
          },
          "metadata": {},
          "output_type": "display_data"
        }
      ],
      "source": [
        "# train_losses = []\n",
        "# val_losses = []\n",
        "# val_bleus = []\n",
        "from matplotlib import pyplot as plt\n",
        "x = list(range(1, len(train_losses) + 1))\n",
        "plt.figure()\n",
        "\n",
        "plt.plot(x,train_losses, lw=3)\n",
        "plt.plot(x,val_losses,lw=3)\n",
        "plt.plot(x,val_bleus,lw=3)\n",
        "\n",
        "font_axes = {'family':'serif','color':'black','size':16}\n",
        "\n",
        "plt.gca().set_xticks(x)\n",
        "plt.xticks(fontsize=14)\n",
        "plt.yticks(fontsize=14)\n",
        "\n",
        "plt.xlabel(\"Epoch\", fontdict=font_axes)\n",
        "plt.ylabel(\"Loss/Bleu\", fontdict=font_axes)\n",
        "plt.legend(['Train Loss', 'Valid Loss', 'Valid BLEU'], loc='lower left', fontsize=16)\n",
        "plt.tight_layout()\n",
        "plt.show()"
      ]
    },
    {
      "cell_type": "code",
      "execution_count": 35,
      "metadata": {},
      "outputs": [
        {
          "name": "stdout",
          "output_type": "stream",
          "text": [
            "[5.80153733561167, 5.236849253390069, 4.989759910944488, 4.8006601312507495, 4.659820189446986, 4.5262183544051275, 4.4198054289646285, 4.32669158923936, 4.2498828648333395, 4.176232959792703, 4.121214342302028, 4.056750690336708, 4.015308961725789, 3.9604373112790943, 3.916204035842887, 3.876753839789403, 3.834451650741949, 3.8099341608901414, 3.7690156730552635, 3.7458713557354706, 3.706139663338463, 3.6839250588060812, 3.6623731279610663, 3.630053156307539, 3.6081329417215504, 3.589103131777157, 3.573351732722685, 3.5476575920313977, 3.5318928984033513, 3.5100377402915175, 3.4999552438057253, 3.478189977942479, 3.461875557437679, 3.450244014937375, 3.4379181665284366, 3.421593295848363, 3.4104076426663843, 3.391555803021345, 3.382706762217789, 3.3599401455791074, 3.3552248434395042, 3.347743156804653, 3.3367465675767773, 3.3269983285292777, 3.3100019864239085, 3.2945371675570496, 3.2889943976526306, 3.272050185828956, 3.2694787890725063, 3.267526874373351]\n",
            "[6.129696028573172, 5.991331100463867, 5.8615826198032925, 5.788440499986921, 5.8199037824358255, 5.789294310978481, 5.697892597743443, 5.733416557312012, 5.751973492758615, 5.740315777914865, 5.703785760062082, 5.718931198120117, 5.741292817252023, 5.720994336264474, 5.725668770926339, 5.791440418788365, 5.802999837057931, 5.733543123517718, 5.732766832624163, 5.731317179543631, 5.824611527579171, 5.84630400793893, 5.885218756539481, 5.790860857282366, 5.828843116760254, 5.86533226285662, 5.773868083953857, 5.860722950526646, 5.891502244131906, 5.925561359950474, 5.83832733971732, 5.892012323651995, 5.921784809657505, 5.929299695151193, 5.968798909868513, 5.953666414533343, 5.964329106467111, 6.021101747240339, 5.957540648324149, 6.004409313201904, 6.008062975747245, 6.036295141492571, 6.034595353262765, 6.0172938619341165, 6.037603514535086, 6.038568428584507, 6.03459780556815, 6.116905008043561, 6.076065880911691, 6.100714002336774]\n",
            "[0.4701571428571429, 1.441857142857143, 2.085457142857143, 2.709857142857143, 3.215385714285714, 3.3639000000000006, 3.6918571428571427, 4.153314285714285, 4.205157142857143, 4.4111, 4.327042857142857, 4.5960857142857146, 5.044785714285714, 5.028099999999999, 5.149571428571429, 5.336114285714286, 5.5184428571428565, 5.276714285714285, 5.581985714285714, 5.281071428571429, 5.732085714285715, 5.798157142857143, 6.0558, 5.7966, 5.554257142857144, 5.9227, 5.372142857142856, 5.802300000000001, 6.036842857142858, 6.246071428571428, 5.698628571428571, 5.864185714285715, 5.823485714285714, 6.037871428571428, 6.0065285714285706, 5.920757142857142, 5.992642857142857, 5.936014285714286, 5.830114285714286, 6.314814285714286, 6.307671428571429, 6.182585714285714, 6.081928571428572, 6.181171428571429, 6.2757571428571435, 6.099385714285715, 6.184971428571428, 6.126414285714286, 5.933199999999999, 6.312757142857143]\n"
          ]
        }
      ],
      "source": [
        "print(train_losses)\n",
        "print(val_losses)\n",
        "print(val_bleus)"
      ]
    },
    {
      "cell_type": "code",
      "execution_count": 50,
      "metadata": {},
      "outputs": [],
      "source": [
        "input_aw = pt_dataset['test'][0:128]['input_ids']\n",
        "trg_aw = pt_dataset['test'][0:128]['labels']\n",
        "input_aw = torch.transpose(input_aw,0,1)\n",
        "trg_aw = torch.transpose(trg_aw,0,1)\n"
      ]
    },
    {
      "cell_type": "code",
      "execution_count": 51,
      "metadata": {},
      "outputs": [
        {
          "name": "stdout",
          "output_type": "stream",
          "text": [
            "torch.Size([128, 32, 30522])\n"
          ]
        }
      ],
      "source": [
        "output = model(input_aw, trg_aw, 0)\n",
        "# output_dim = output.shape[-1]\n",
        "#TODO MAKE SURE EVERYTHING LOOKS FINE, PRINT STUFF OUT AND ALL\n",
        "# output = output[1:].reshape(-1, output_dim)\n",
        "# decoded_preds = tokenizer.batch_decode(output, skip_special_tokens=True)\n",
        "trg_aw = torch.transpose(trg_aw,0,1)\n",
        "output = torch.transpose(output,0,1)\n",
        "decoded_labels = tokenizer.batch_decode(trg_aw, skip_special_tokens=True)\n",
        "# print(compute_metrics((output,trg_aw)))\n",
        "print(output.shape)"
      ]
    },
    {
      "cell_type": "code",
      "execution_count": 52,
      "metadata": {},
      "outputs": [
        {
          "name": "stdout",
          "output_type": "stream",
          "text": [
            "torch.Size([128, 32]) torch.Size([128, 32, 30522]) torch.Size([128, 32])\n"
          ]
        }
      ],
      "source": [
        "output_dim = output.shape[-1]\n",
        "test_o = output[1:].reshape(-1, output_dim)\n",
        "test_t = trg_aw.reshape(-1)\n",
        "# amax = np.argmax(output,axis=-1)\n",
        "amax = torch.argmax(output,dim=-1)\n",
        "print(trg_aw.shape, output.shape, amax.shape)"
      ]
    },
    {
      "cell_type": "code",
      "execution_count": 53,
      "metadata": {},
      "outputs": [
        {
          "name": "stdout",
          "output_type": "stream",
          "text": [
            "tensor([  101,  2061,  1010,  5373,  1010,  2087,  2111,  4088,  2011, 16865,\n",
            "         2075,  3209,  2000,  1996,  4708,  1012,   102,     0,     0,     0,\n",
            "            0,     0,     0,     0,     0,     0,     0,     0,     0,     0,\n",
            "            0,     0], device='cuda:0')\n",
            "tensor([   0, 1998, 1010, 2111, 5373, 2411, 1996, 2111, 2000, 2000, 2079, 2009,\n",
            "        1012,  102, 1012,  102,  102,  102,  102,  102,  102,  102,  102,  102,\n",
            "         102,  102,  102,  102,  102,  102,  102,  102], device='cuda:0')\n"
          ]
        }
      ],
      "source": [
        "print(trg_aw[7])\n",
        "print(amax[7])"
      ]
    },
    {
      "cell_type": "code",
      "execution_count": 54,
      "metadata": {},
      "outputs": [],
      "source": [
        "decoded_preds = tokenizer.batch_decode(amax, skip_special_tokens=True)"
      ]
    },
    {
      "cell_type": "code",
      "execution_count": 60,
      "metadata": {},
      "outputs": [
        {
          "name": "stdout",
          "output_type": "stream",
          "text": [
            "and then time time,,,, they scan them and they read it and and then it spaghetti spaghetti.\n",
            "then they spend some time planning, organizing, they sketch and they lay out spaghetti.\n"
          ]
        }
      ],
      "source": [
        "print(decoded_preds[9])\n",
        "print(decoded_labels[9])"
      ]
    },
    {
      "cell_type": "code",
      "execution_count": 61,
      "metadata": {},
      "outputs": [
        {
          "name": "stdout",
          "output_type": "stream",
          "text": [
            "{'bleu': 6.6216, 'gen_len': 31.0}\n"
          ]
        }
      ],
      "source": [
        "print(compute_metrics((amax[9:10].detach().cpu(),trg_aw[9:10].detach().cpu())))"
      ]
    },
    {
      "cell_type": "code",
      "execution_count": 33,
      "metadata": {},
      "outputs": [
        {
          "name": "stderr",
          "output_type": "stream",
          "text": [
            "100%|██████████| 67/67 [00:21<00:00,  3.10it/s]"
          ]
        },
        {
          "name": "stdout",
          "output_type": "stream",
          "text": [
            "Test BLEU: 9.006747761194033\n"
          ]
        },
        {
          "name": "stderr",
          "output_type": "stream",
          "text": [
            "\n"
          ]
        }
      ],
      "source": [
        "# # test_dataloader2 = torch.utils.data.DataLoader(pt_dataset[\"test\"], batch_size=128)\n",
        "\n",
        "# _, bleu = evaluate_fn(model, iter(test_dataloader), criterion,device)\n",
        "# print(\"Test BLEU:\", bleu)"
      ]
    },
    {
      "cell_type": "code",
      "execution_count": 82,
      "metadata": {},
      "outputs": [
        {
          "name": "stderr",
          "output_type": "stream",
          "text": [
            "100%|██████████| 67/67 [00:19<00:00,  3.52it/s]\n"
          ]
        }
      ],
      "source": [
        "# def compute_metrics(eval_preds):\n",
        "#     preds, labels = eval_preds\n",
        "#     if isinstance(preds, tuple):\n",
        "#         preds = preds[0]\n",
        "#     decoded_preds = tokenizer.batch_decode(preds, skip_special_tokens=True)\n",
        "\n",
        "#     # labels = np.where(labels != -100, labels, tokenizer.pad_token_id)\n",
        "#     decoded_labels = tokenizer.batch_decode(labels, skip_special_tokens=True)\n",
        "\n",
        "#     decoded_preds, decoded_labels = postprocess_text(decoded_preds, decoded_labels)\n",
        "#     # print(decoded_preds,decoded_labels)\n",
        "\n",
        "#     result = metric.compute(predictions=decoded_preds, references=decoded_labels)\n",
        "#     result = {\"bleu\": result[\"score\"]}\n",
        "\n",
        "#     prediction_lens = [np.count_nonzero(pred != tokenizer.pad_token_id) for pred in preds]\n",
        "#     result[\"gen_len\"] = np.mean(prediction_lens)\n",
        "#     result = {k: round(v, 4) for k, v in result.items()}\n",
        "#     return result\n",
        "all_preds = []\n",
        "all_labels = []\n",
        "def evaluate_bleu(model, iterator, criterion, device, compute_bleu=True):\n",
        "    model.eval()\n",
        "    epoch_loss = 0\n",
        "    bleu = 0\n",
        "    with torch.no_grad():\n",
        "        with tqdm(total=len(iterator), position=0, leave=True) as pbar:\n",
        "          for batch in iterator:\n",
        "              src = batch[\"input_ids\"].to(device)\n",
        "              trg = batch[\"labels\"].to(device)\n",
        "              lengths = batch[\"length\"]\n",
        "              complexity = batch[\"complexity\"]\n",
        "              # print(batch[\"complexity\"])\n",
        "              # assert False\n",
        "\n",
        "\n",
        "              mask = torch.logical_and(complexity >= 7.5, complexity < 9.6)\n",
        "\n",
        "              # filter_indices = complexity > 9.6#torch.nonzero(mask).squeeze()\n",
        "              # src = src[filter_indices]\n",
        "              # trg = trg[filter_indices]\n",
        "\n",
        "\n",
        "              # print(batch[\"length\"][filter_indices])\n",
        "              # assert False\n",
        "\n",
        "              src = torch.transpose(src,0,1)\n",
        "              trg = torch.transpose(trg,0,1)\n",
        "\n",
        "              output = model(src, trg, 0)\n",
        "              if compute_bleu:\n",
        "                org_out = torch.transpose(output,0,1)\n",
        "                org_trg = torch.transpose(trg,0,1)\n",
        "                amax = torch.argmax(org_out,dim=-1)\n",
        "                preds = amax.detach().cpu()\n",
        "                labels = org_trg.detach().cpu()\n",
        "                if isinstance(preds, tuple):\n",
        "                   preds = preds[0]\n",
        "                decoded_preds = tokenizer.batch_decode(preds,skip_special_tokens=True)\n",
        "                decoded_labels = tokenizer.batch_decode(labels,skip_special_tokens=True)\n",
        "                decoded_preds, decoded_labels = postprocess_text(decoded_preds, decoded_labels)\n",
        "                all_labels.extend(decoded_labels)\n",
        "                all_preds.extend(decoded_preds)\n",
        "                # result = compute_metrics((amax.detach().cpu(),org_trg.detach().cpu()))\n",
        "                # bleu += result['bleu']\n",
        "                # print(result)\n",
        "              src = src.to(device)\n",
        "              trg = trg.to(device)\n",
        "\n",
        "              output_dim = output.shape[-1]\n",
        "\n",
        "              output = output[1:].reshape(-1, output_dim)\n",
        "              trg = trg[1:].reshape(-1)\n",
        "\n",
        "              loss = criterion(output, trg)\n",
        "              epoch_loss += loss.item()\n",
        "              pbar.update(1)\n",
        "              \n",
        "\n",
        "    return (epoch_loss / len(iterator), bleu / len(iterator))\n",
        "# test_dataloader2 = torch.utils.data.DataLoader(pt_dataset[\"test\"], batch_size=64)\n",
        "_, bleu = evaluate_bleu(model, iter(test_dataloader), criterion,device)"
      ]
    },
    {
      "cell_type": "code",
      "execution_count": 83,
      "metadata": {},
      "outputs": [
        {
          "name": "stdout",
          "output_type": "stream",
          "text": [
            "['several years ago here at ted, peter skillman introduced a design challenge called the marshmallow challenge.'] a few years ago, in the,, a design a challenge called \" \" \" \" \" \". \" \" \" \" \" 8549 8549\n",
            "{'score': 9.341681541095966, 'counts': [57420, 18546, 7203, 3005], 'totals': [141939, 133390, 124841, 116297], 'precisions': [40.45399784414432, 13.90359097383612, 5.769739108145561, 2.583901562379081], 'bp': 0.9762137388611822, 'sys_len': 141939, 'ref_len': 145356}\n"
          ]
        }
      ],
      "source": [
        "print(all_labels[0], all_preds[0], len(all_labels), len(all_preds))\n",
        "result = metric.compute(predictions=all_preds, references=all_labels)\n",
        "print(result)"
      ]
    },
    {
      "cell_type": "code",
      "execution_count": 129,
      "metadata": {},
      "outputs": [
        {
          "name": "stderr",
          "output_type": "stream",
          "text": [
            "100%|██████████| 7/7 [00:02<00:00,  2.91it/s]"
          ]
        },
        {
          "name": "stdout",
          "output_type": "stream",
          "text": [
            "Valid BLEU: 3.5523\n"
          ]
        },
        {
          "name": "stderr",
          "output_type": "stream",
          "text": [
            "\n"
          ]
        }
      ],
      "source": [
        "# valid_dataloader2 = torch.utils.data.DataLoader(pt_dataset[\"validation\"], batch_size=128)\n",
        "# _, bleu = evaluate_fn(model, iter(valid_dataloader2), criterion,device)\n",
        "# print(\"Valid BLEU:\", bleu)"
      ]
    },
    {
      "cell_type": "code",
      "execution_count": 134,
      "metadata": {},
      "outputs": [
        {
          "name": "stdout",
          "output_type": "stream",
          "text": [
            "ta...\n",
            "ta...\n",
            "{'input_ids': [45, 0, 0, 0, 3, 3, 3, 3, 3, 3, 3, 3, 3, 3, 3, 3, 3, 3, 3, 3, 3, 3, 3, 3, 3, 3, 3, 3, 3, 3, 3, 3, 3, 3, 3, 3, 3, 3, 3, 3, 3, 3, 3, 3, 3, 3, 3, 3, 3, 3, 3, 3, 3, 3, 3, 3, 3, 3], 'token_type_ids': [0, 0, 0, 0, 0, 0, 0, 0, 0, 0, 0, 0, 0, 0, 0, 0, 0, 0, 0, 0, 0, 0, 0, 0, 0, 0, 0, 0, 0, 0, 0, 0, 0, 0, 0, 0, 0, 0, 0, 0, 0, 0, 0, 0, 0, 0, 0, 0, 0, 0, 0, 0, 0, 0, 0, 0, 0, 0], 'attention_mask': [1, 1, 1, 1, 0, 0, 0, 0, 0, 0, 0, 0, 0, 0, 0, 0, 0, 0, 0, 0, 0, 0, 0, 0, 0, 0, 0, 0, 0, 0, 0, 0, 0, 0, 0, 0, 0, 0, 0, 0, 0, 0, 0, 0, 0, 0, 0, 0, 0, 0, 0, 0, 0, 0, 0, 0, 0, 0]}\n",
            "torch.Size([58, 1])\n",
            "torch.Size([58, 1]) torch.Size([58, 1])\n",
            "torch.Size([58, 1, 30522])\n",
            "torch.Size([1, 58])\n",
            "['you.']\n"
          ]
        }
      ],
      "source": [
        "def translate_sentence(\n",
        "    sentence,\n",
        "    model,\n",
        "    device,\n",
        "    max_output_length=25,\n",
        "    inda=0,\n",
        "    rad=False,\n",
        "):\n",
        "    model.eval()\n",
        "    with torch.no_grad():\n",
        "        trad = converter.convert(sentence)\n",
        "        print(trad)\n",
        "        stroke = ' '.join([zh2letter[char] for char in trad if (len(zh2letter[char]) > 0)])\n",
        "        if rad:\n",
        "            stroke = sentence\n",
        "        print(stroke)\n",
        "        # stroke = trad\n",
        "\n",
        "        ids = bpe_tokenizer(stroke,padding='max_length', max_length=INPUT_MAX_LEN, truncation=True)\n",
        "        print(ids)\n",
        "        src = torch.LongTensor(ids[\"input_ids\"]).unsqueeze(-1).to(device)\n",
        "\n",
        "\n",
        "        src = torch.where(src==0, torch.tensor(4), src)\n",
        "\n",
        "\n",
        "        print(src.shape)\n",
        "        # src = torch.transpose(src,0,1)\n",
        "        trg = torch.zeros_like(src).to(device)\n",
        "        print(src.shape, trg.shape)\n",
        "        output = model(src, trg, 0)\n",
        "        # enc_out = model.encoder.embedding(src)#, _, _ = model.encoder(src)\n",
        "        enc_out, hidden, cell = model.encoder(src)\n",
        "        print(output.shape)\n",
        "        # encoded_hidden, cell = model.encoder(src)\n",
        "        # for i in range(max_output_length):\n",
        "        org_out = torch.transpose(output,0,1)\n",
        "        amax = torch.argmax(org_out,dim=-1)\n",
        "        preds = amax.detach().cpu()\n",
        "        print(preds.shape)\n",
        "        decoded_preds = tokenizer.batch_decode(preds,skip_special_tokens=True)\n",
        "        print(decoded_preds)\n",
        "        word1 = enc_out[inda].flatten()\n",
        "        # word2 = enc_out[1].flatten()\n",
        "        # cos_sim = torch.nn.functional.cosine_similarity(word1,word2,dim=0)\n",
        "        # print(\"Similarity\",cos_sim,word2.shape,word1.shape)\n",
        "    return word1, enc_out, hidden, cell\n",
        "\n",
        "sentence = \"ta...\"\n",
        "# tok = bpe_tokenizer(sentence)\n",
        "# print(tok['in'])\n",
        "a,aa,aahid, aacell = translate_sentence(sentence, model=model, device=device, inda=0, rad=True)"
      ]
    },
    {
      "cell_type": "code",
      "execution_count": 125,
      "metadata": {},
      "outputs": [
        {
          "name": "stdout",
          "output_type": "stream",
          "text": [
            "言\n",
            "oeeeaie0\n",
            "{'input_ids': [121, 5, 3, 3, 3, 3, 3, 3, 3, 3, 3, 3, 3, 3, 3, 3, 3, 3, 3, 3, 3, 3, 3, 3, 3, 3, 3, 3, 3, 3, 3, 3, 3, 3, 3, 3, 3, 3, 3, 3, 3, 3, 3, 3, 3, 3, 3, 3, 3, 3, 3, 3, 3, 3, 3, 3, 3, 3], 'token_type_ids': [0, 0, 0, 0, 0, 0, 0, 0, 0, 0, 0, 0, 0, 0, 0, 0, 0, 0, 0, 0, 0, 0, 0, 0, 0, 0, 0, 0, 0, 0, 0, 0, 0, 0, 0, 0, 0, 0, 0, 0, 0, 0, 0, 0, 0, 0, 0, 0, 0, 0, 0, 0, 0, 0, 0, 0, 0, 0], 'attention_mask': [1, 1, 0, 0, 0, 0, 0, 0, 0, 0, 0, 0, 0, 0, 0, 0, 0, 0, 0, 0, 0, 0, 0, 0, 0, 0, 0, 0, 0, 0, 0, 0, 0, 0, 0, 0, 0, 0, 0, 0, 0, 0, 0, 0, 0, 0, 0, 0, 0, 0, 0, 0, 0, 0, 0, 0, 0, 0]}\n",
            "torch.Size([58, 1])\n",
            "torch.Size([58, 1]) torch.Size([58, 1])\n",
            "torch.Size([58, 1, 30522])\n",
            "torch.Size([1, 58])\n",
            "['talk..']\n",
            "tensor(1., device='cuda:0')\n"
          ]
        }
      ],
      "source": [
        "sentence = \"言\"\n",
        "b, bb, bbhid, bbcell = translate_sentence(sentence, model=model, device=device,inda=0)\n",
        "cos_sim = torch.nn.functional.cosine_similarity(a,b,dim=0)\n",
        "print(cos_sim)"
      ]
    },
    {
      "cell_type": "code",
      "execution_count": 230,
      "metadata": {},
      "outputs": [
        {
          "name": "stdout",
          "output_type": "stream",
          "text": [
            "ta\n",
            "ta\n",
            "{'input_ids': [45, 3, 3, 3, 3, 3, 3, 3, 3, 3, 3, 3, 3, 3, 3, 3, 3, 3, 3, 3, 3, 3, 3, 3, 3, 3, 3, 3, 3, 3, 3, 3, 3, 3, 3, 3, 3, 3, 3, 3, 3, 3, 3, 3, 3, 3, 3, 3, 3, 3, 3, 3, 3, 3, 3, 3, 3, 3, 3, 3, 3, 3, 3, 3, 3, 3, 3, 3, 3, 3, 3, 3, 3, 3, 3, 3, 3, 3, 3, 3, 3, 3, 3, 3], 'token_type_ids': [0, 0, 0, 0, 0, 0, 0, 0, 0, 0, 0, 0, 0, 0, 0, 0, 0, 0, 0, 0, 0, 0, 0, 0, 0, 0, 0, 0, 0, 0, 0, 0, 0, 0, 0, 0, 0, 0, 0, 0, 0, 0, 0, 0, 0, 0, 0, 0, 0, 0, 0, 0, 0, 0, 0, 0, 0, 0, 0, 0, 0, 0, 0, 0, 0, 0, 0, 0, 0, 0, 0, 0, 0, 0, 0, 0, 0, 0, 0, 0, 0, 0, 0, 0], 'attention_mask': [1, 0, 0, 0, 0, 0, 0, 0, 0, 0, 0, 0, 0, 0, 0, 0, 0, 0, 0, 0, 0, 0, 0, 0, 0, 0, 0, 0, 0, 0, 0, 0, 0, 0, 0, 0, 0, 0, 0, 0, 0, 0, 0, 0, 0, 0, 0, 0, 0, 0, 0, 0, 0, 0, 0, 0, 0, 0, 0, 0, 0, 0, 0, 0, 0, 0, 0, 0, 0, 0, 0, 0, 0, 0, 0, 0, 0, 0, 0, 0, 0, 0, 0, 0]}\n",
            "torch.Size([84, 1])\n",
            "torch.Size([84, 1]) torch.Size([84, 1])\n",
            "torch.Size([84, 1, 30522])\n",
            "torch.Size([1, 84])\n",
            "['js : yeah..egans.eganegansegan d']\n"
          ]
        }
      ],
      "source": [
        "sentence = \"ta\"\n",
        "c, cc, cchid, cccell = translate_sentence(sentence, model=model, device=device,inda=0, rad=True)"
      ]
    },
    {
      "cell_type": "code",
      "execution_count": 231,
      "metadata": {},
      "outputs": [
        {
          "name": "stdout",
          "output_type": "stream",
          "text": [
            "gte\n",
            "gte\n",
            "{'input_ids': [128, 3, 3, 3, 3, 3, 3, 3, 3, 3, 3, 3, 3, 3, 3, 3, 3, 3, 3, 3, 3, 3, 3, 3, 3, 3, 3, 3, 3, 3, 3, 3, 3, 3, 3, 3, 3, 3, 3, 3, 3, 3, 3, 3, 3, 3, 3, 3, 3, 3, 3, 3, 3, 3, 3, 3, 3, 3, 3, 3, 3, 3, 3, 3, 3, 3, 3, 3, 3, 3, 3, 3, 3, 3, 3, 3, 3, 3, 3, 3, 3, 3, 3, 3], 'token_type_ids': [0, 0, 0, 0, 0, 0, 0, 0, 0, 0, 0, 0, 0, 0, 0, 0, 0, 0, 0, 0, 0, 0, 0, 0, 0, 0, 0, 0, 0, 0, 0, 0, 0, 0, 0, 0, 0, 0, 0, 0, 0, 0, 0, 0, 0, 0, 0, 0, 0, 0, 0, 0, 0, 0, 0, 0, 0, 0, 0, 0, 0, 0, 0, 0, 0, 0, 0, 0, 0, 0, 0, 0, 0, 0, 0, 0, 0, 0, 0, 0, 0, 0, 0, 0], 'attention_mask': [1, 0, 0, 0, 0, 0, 0, 0, 0, 0, 0, 0, 0, 0, 0, 0, 0, 0, 0, 0, 0, 0, 0, 0, 0, 0, 0, 0, 0, 0, 0, 0, 0, 0, 0, 0, 0, 0, 0, 0, 0, 0, 0, 0, 0, 0, 0, 0, 0, 0, 0, 0, 0, 0, 0, 0, 0, 0, 0, 0, 0, 0, 0, 0, 0, 0, 0, 0, 0, 0, 0, 0, 0, 0, 0, 0, 0, 0, 0, 0, 0, 0, 0, 0]}\n",
            "torch.Size([84, 1])\n",
            "torch.Size([84, 1]) torch.Size([84, 1])\n",
            "torch.Size([84, 1, 30522])\n",
            "torch.Size([1, 84])\n",
            "['ok.....']\n"
          ]
        }
      ],
      "source": [
        "sentence = \"gte\"\n",
        "d, dd, ddhid, ddcell = translate_sentence(sentence, model=model, device=device,inda=0, rad=True)"
      ]
    },
    {
      "cell_type": "code",
      "execution_count": 236,
      "metadata": {},
      "outputs": [
        {
          "name": "stdout",
          "output_type": "stream",
          "text": [
            "tensor(0.4484, device='cuda:0')\n"
          ]
        }
      ],
      "source": [
        "e = a - c + d\n",
        "ee = aa - cc + dd\n",
        "eehid = aahid - cchid + ddhid\n",
        "eecell = aacell - cccell + ddcell\n",
        "cos_sim = torch.nn.functional.cosine_similarity(e,b,dim=0)\n",
        "print(cos_sim)"
      ]
    },
    {
      "cell_type": "code",
      "execution_count": 157,
      "metadata": {},
      "outputs": [
        {
          "name": "stdout",
          "output_type": "stream",
          "text": [
            "Cosine Similarity: -0.1402246206998825\n"
          ]
        }
      ],
      "source": [
        "# import torch\n",
        "# import torch.nn.functional as F\n",
        "\n",
        "# tensor1 = torch.randn(1, 512) \n",
        "# tensor2 = -torch.randn(1, 512) \n",
        "# similarity_score = F.cosine_similarity(tensor1.flatten(), tensor2.flatten(), dim=0)\n",
        "# print(\"Cosine Similarity:\", similarity_score.item())"
      ]
    },
    {
      "cell_type": "code",
      "execution_count": 237,
      "metadata": {},
      "outputs": [
        {
          "name": "stdout",
          "output_type": "stream",
          "text": [
            "EncoderDecoder(\n",
            "  (encoder): Encoder(\n",
            "    (embedding): Embedding(500, 256)\n",
            "    (LSTM): LSTM(256, 512, num_layers=2, dropout=0.2)\n",
            "    (dropout): Dropout(p=0.2, inplace=False)\n",
            "  )\n",
            "  (decoder): Decoder(\n",
            "    (attention): DotAttention()\n",
            "    (embedding): Embedding(30522, 256)\n",
            "    (LSTM): LSTM(768, 512, num_layers=2, dropout=0.2)\n",
            "    (out): Linear(in_features=512, out_features=30522, bias=True)\n",
            "    (dropout): Dropout(p=0.2, inplace=False)\n",
            "  )\n",
            ")\n"
          ]
        }
      ],
      "source": [
        "print(model)"
      ]
    },
    {
      "cell_type": "code",
      "execution_count": 88,
      "metadata": {},
      "outputs": [],
      "source": [
        "# torch.save(model.state_dict(), 'encdec1000mlm.pth')\n",
        "# torch.save(enc.state_dict(),'enc1000mlm.pth')\n",
        "# torch.save(dec.state_dict(), 'dec1000mlm.pth')"
      ]
    },
    {
      "cell_type": "code",
      "execution_count": null,
      "metadata": {
        "id": "rcfTiGuppH2F"
      },
      "outputs": [],
      "source": [
        "import time\n",
        "import math\n",
        "\n",
        "def train(model, iterator, optimizer, criterion, clip):\n",
        "    model.train()\n",
        "    epoch_loss = 0\n",
        "    for batch in iterator:\n",
        "        src = batch[\"input\"]\n",
        "        trg = batch[\"target\"]\n",
        "        src = torch.transpose(src,0,1)\n",
        "        trg = torch.transpose(trg,0,1)\n",
        "\n",
        "        optimizer.zero_grad()\n",
        "        output = model(src, trg)\n",
        "        output_dim = output.shape[-1]\n",
        "\n",
        "        output = output[1:].reshape(-1, output_dim)\n",
        "        trg = trg[1:].reshape(-1)\n",
        "        loss = criterion(output, trg)\n",
        "\n",
        "        loss.backward()\n",
        "\n",
        "        torch.nn.utils.clip_grad_norm_(model.parameters(), clip)\n",
        "        optimizer.step()\n",
        "\n",
        "        epoch_loss += loss.item()\n",
        "\n",
        "    return epoch_loss / len(iterator)\n",
        "\n",
        "def train_mlm(model, iterator, optimizer, criterion, clip, mlm_prob):\n",
        "    model.train()\n",
        "    epoch_loss = 0\n",
        "    for batch in iterator:\n",
        "        src = batch[\"input\"]\n",
        "        trg = batch[\"target\"]\n",
        "        src = torch.transpose(src,0,1)\n",
        "        trg = torch.transpose(trg,0,1)\n",
        "\n",
        "        optimizer.zero_grad()\n",
        "        \n",
        "\n",
        "        output = model(src, trg)\n",
        "        output_dim = output.shape[-1]\n",
        "\n",
        "        output = output[1:].reshape(-1, output_dim)\n",
        "        trg = trg[1:].reshape(-1)\n",
        "        loss = criterion(output, trg)\n",
        "\n",
        "        loss.backward()\n",
        "\n",
        "        torch.nn.utils.clip_grad_norm_(model.parameters(), clip)\n",
        "        optimizer.step()\n",
        "\n",
        "        epoch_loss += loss.item()\n",
        "\n",
        "    return epoch_loss / len(iterator)\n",
        "\n",
        "def evaluate(model, iterator, criterion):\n",
        "    model.eval()\n",
        "    epoch_loss = 0\n",
        "    with torch.no_grad():\n",
        "        for batch in iterator:\n",
        "            src = batch[\"input\"]\n",
        "            trg = batch[\"target\"]\n",
        "            src = torch.transpose(src,0,1)\n",
        "            trg = torch.transpose(trg,0,1)\n",
        "\n",
        "            output = model(src, trg, 0)\n",
        "            output_dim = output.shape[-1]\n",
        "\n",
        "            output = output[1:].reshape(-1, output_dim)\n",
        "            trg = trg[1:].reshape(-1)\n",
        "\n",
        "            loss = criterion(output, trg)\n",
        "            epoch_loss += loss.item()\n",
        "\n",
        "    return epoch_loss / len(iterator)\n",
        "\n",
        "def epoch_time(start_time, end_time):\n",
        "    elapsed_time = end_time - start_time\n",
        "    elapsed_mins = int(elapsed_time / 60)\n",
        "    elapsed_secs = int(elapsed_time - (elapsed_mins * 60))\n",
        "    return elapsed_mins, elapsed_secs\n",
        "\n",
        "def init_weights(m):\n",
        "    for name, param in m.named_parameters():\n",
        "        torch.nn.init.uniform_(param.data, -0.08, 0.08)\n",
        "\n",
        "device = torch.device('cuda' if torch.cuda.is_available() else 'cpu')\n",
        "pt_dataset = tokenized_sentences.with_format(\"torch\",columns=[\"input\",\"target\"],device = device)\n",
        "pt_dataset = pt_dataset.train_test_split(test_size=0.2)\n",
        "train_dataloader = torch.utils.data.DataLoader(pt_dataset[\"train\"], batch_size=10)\n",
        "valid_dataloader = torch.utils.data.DataLoader(pt_dataset[\"test\"], batch_size=10)\n",
        "\n",
        "#parameters\n",
        "\n",
        "enc = Encoder(INPUT_DIM, ENC_EMB_DIM, HID_DIM, N_LAYERS, ENC_DROPOUT)\n",
        "dec = Decoder(OUTPUT_DIM, DEC_EMB_DIM, HID_DIM, N_LAYERS, DEC_DROPOUT)\n",
        "model = EncoderDecoder(enc, dec, device).to(device)\n",
        "model.apply(init_weights)\n",
        "optimizer = torch.optim.Adam(model.parameters())\n",
        "criterion = torch.nn.CrossEntropyLoss(ignore_index = 2)\n",
        "\n",
        "best_valid_loss = float('inf')\n",
        "N_EPOCHS = 10\n",
        "CLIP = 1\n",
        "for epoch in range(N_EPOCHS):\n",
        "\n",
        "    start_time = time.time()\n",
        "\n",
        "    train_loss = train(model, iter(train_dataloader), optimizer, criterion, CLIP)\n",
        "    valid_loss = evaluate(model, iter(valid_dataloader), criterion)\n",
        "\n",
        "    end_time = time.time()\n",
        "\n",
        "    epoch_mins, epoch_secs = epoch_time(start_time, end_time)\n",
        "\n",
        "    if valid_loss < best_valid_loss:\n",
        "        best_valid_loss = valid_loss\n",
        "        torch.save(model.state_dict(), '/content/drive/MyDrive/CS4248 NLP/rnn-model.pt')\n",
        "\n",
        "    print(f'Epoch: {epoch+1:02} | Time: {epoch_mins}m {epoch_secs}s')\n",
        "    print(f'\\tTrain Loss: {train_loss:.3f} | Train PPL: {math.exp(train_loss):7.3f}')\n",
        "    print(f'\\t Val. Loss: {valid_loss:.3f} |  Val. PPL: {math.exp(valid_loss):7.3f}')"
      ]
    },
    {
      "cell_type": "code",
      "execution_count": null,
      "metadata": {
        "colab": {
          "base_uri": "https://localhost:8080/",
          "height": 223,
          "referenced_widgets": [
            "c1d99977761c4880aa016608edd774cc",
            "292889d6ed284d02a5001fcc2baafd3e",
            "394afa901cb5416d964ddd62f91374f0",
            "6c323730275e4b459c639505d0a5fdb2",
            "7fe42adc26da49aa8c10acf1d791e96d",
            "a5497630ac6b4ee7af2877d383da2e6d",
            "629e553d2e654a85b411c769dd1761fa",
            "a69aa7c1494d44f7b46e1b7096cec20b",
            "d83efb0c1a534706a5e62c2a02353ea5",
            "01302abf54bd440ab788a25a53da3eed",
            "0f7a9aedbd2a4a0b85656664d1033c42",
            "377d52fe7092431885ebd45172bb5e77",
            "c4b24a83e91f4bc6b3dd25ee514a5ec8",
            "d669d087238c4ddab866cefbd213b199",
            "b3b4a59dee3b4bb4ba4af9fd8b5de3d5",
            "f460800953d4426a8ed76751bad8f063",
            "3c59cbe2503f4f4fa7fa02ce867c3541",
            "24f5b4649a224a4f9451076b6887c421",
            "87539231695842c99c417def40a11bbb",
            "19d4f1d1bdf84d5c8b3cc8f2da15e311",
            "4a7020ab92c448c28b4c8a35eedea92c",
            "84a0cae81c294daf83b4d8981eef7665"
          ]
        },
        "id": "I7DEzVZe7xkJ",
        "outputId": "e6e05dff-db8d-40d8-f552-e326fa8a4616"
      },
      "outputs": [
        {
          "data": {
            "application/vnd.jupyter.widget-view+json": {
              "model_id": "c1d99977761c4880aa016608edd774cc",
              "version_major": 2,
              "version_minor": 0
            },
            "text/plain": [
              "Downloading builder script:   0%|          | 0.00/8.15k [00:00<?, ?B/s]"
            ]
          },
          "metadata": {},
          "output_type": "display_data"
        },
        {
          "name": "stderr",
          "output_type": "stream",
          "text": [
            "Some weights of RobertaModel were not initialized from the model checkpoint at ./strokeBERT900 and are newly initialized: ['roberta.pooler.dense.bias', 'roberta.pooler.dense.weight']\n",
            "You should probably TRAIN this model on a down-stream task to be able to use it for predictions and inference.\n"
          ]
        },
        {
          "data": {
            "application/vnd.jupyter.widget-view+json": {
              "model_id": "377d52fe7092431885ebd45172bb5e77",
              "version_major": 2,
              "version_minor": 0
            },
            "text/plain": [
              "model.safetensors:   0%|          | 0.00/714M [00:00<?, ?B/s]"
            ]
          },
          "metadata": {},
          "output_type": "display_data"
        },
        {
          "name": "stderr",
          "output_type": "stream",
          "text": [
            "Some weights of BertLMHeadModel were not initialized from the model checkpoint at google-bert/bert-base-multilingual-cased and are newly initialized: ['bert.encoder.layer.0.crossattention.output.LayerNorm.bias', 'bert.encoder.layer.0.crossattention.output.LayerNorm.weight', 'bert.encoder.layer.0.crossattention.output.dense.bias', 'bert.encoder.layer.0.crossattention.output.dense.weight', 'bert.encoder.layer.0.crossattention.self.key.bias', 'bert.encoder.layer.0.crossattention.self.key.weight', 'bert.encoder.layer.0.crossattention.self.query.bias', 'bert.encoder.layer.0.crossattention.self.query.weight', 'bert.encoder.layer.0.crossattention.self.value.bias', 'bert.encoder.layer.0.crossattention.self.value.weight', 'bert.encoder.layer.1.crossattention.output.LayerNorm.bias', 'bert.encoder.layer.1.crossattention.output.LayerNorm.weight', 'bert.encoder.layer.1.crossattention.output.dense.bias', 'bert.encoder.layer.1.crossattention.output.dense.weight', 'bert.encoder.layer.1.crossattention.self.key.bias', 'bert.encoder.layer.1.crossattention.self.key.weight', 'bert.encoder.layer.1.crossattention.self.query.bias', 'bert.encoder.layer.1.crossattention.self.query.weight', 'bert.encoder.layer.1.crossattention.self.value.bias', 'bert.encoder.layer.1.crossattention.self.value.weight', 'bert.encoder.layer.10.crossattention.output.LayerNorm.bias', 'bert.encoder.layer.10.crossattention.output.LayerNorm.weight', 'bert.encoder.layer.10.crossattention.output.dense.bias', 'bert.encoder.layer.10.crossattention.output.dense.weight', 'bert.encoder.layer.10.crossattention.self.key.bias', 'bert.encoder.layer.10.crossattention.self.key.weight', 'bert.encoder.layer.10.crossattention.self.query.bias', 'bert.encoder.layer.10.crossattention.self.query.weight', 'bert.encoder.layer.10.crossattention.self.value.bias', 'bert.encoder.layer.10.crossattention.self.value.weight', 'bert.encoder.layer.11.crossattention.output.LayerNorm.bias', 'bert.encoder.layer.11.crossattention.output.LayerNorm.weight', 'bert.encoder.layer.11.crossattention.output.dense.bias', 'bert.encoder.layer.11.crossattention.output.dense.weight', 'bert.encoder.layer.11.crossattention.self.key.bias', 'bert.encoder.layer.11.crossattention.self.key.weight', 'bert.encoder.layer.11.crossattention.self.query.bias', 'bert.encoder.layer.11.crossattention.self.query.weight', 'bert.encoder.layer.11.crossattention.self.value.bias', 'bert.encoder.layer.11.crossattention.self.value.weight', 'bert.encoder.layer.2.crossattention.output.LayerNorm.bias', 'bert.encoder.layer.2.crossattention.output.LayerNorm.weight', 'bert.encoder.layer.2.crossattention.output.dense.bias', 'bert.encoder.layer.2.crossattention.output.dense.weight', 'bert.encoder.layer.2.crossattention.self.key.bias', 'bert.encoder.layer.2.crossattention.self.key.weight', 'bert.encoder.layer.2.crossattention.self.query.bias', 'bert.encoder.layer.2.crossattention.self.query.weight', 'bert.encoder.layer.2.crossattention.self.value.bias', 'bert.encoder.layer.2.crossattention.self.value.weight', 'bert.encoder.layer.3.crossattention.output.LayerNorm.bias', 'bert.encoder.layer.3.crossattention.output.LayerNorm.weight', 'bert.encoder.layer.3.crossattention.output.dense.bias', 'bert.encoder.layer.3.crossattention.output.dense.weight', 'bert.encoder.layer.3.crossattention.self.key.bias', 'bert.encoder.layer.3.crossattention.self.key.weight', 'bert.encoder.layer.3.crossattention.self.query.bias', 'bert.encoder.layer.3.crossattention.self.query.weight', 'bert.encoder.layer.3.crossattention.self.value.bias', 'bert.encoder.layer.3.crossattention.self.value.weight', 'bert.encoder.layer.4.crossattention.output.LayerNorm.bias', 'bert.encoder.layer.4.crossattention.output.LayerNorm.weight', 'bert.encoder.layer.4.crossattention.output.dense.bias', 'bert.encoder.layer.4.crossattention.output.dense.weight', 'bert.encoder.layer.4.crossattention.self.key.bias', 'bert.encoder.layer.4.crossattention.self.key.weight', 'bert.encoder.layer.4.crossattention.self.query.bias', 'bert.encoder.layer.4.crossattention.self.query.weight', 'bert.encoder.layer.4.crossattention.self.value.bias', 'bert.encoder.layer.4.crossattention.self.value.weight', 'bert.encoder.layer.5.crossattention.output.LayerNorm.bias', 'bert.encoder.layer.5.crossattention.output.LayerNorm.weight', 'bert.encoder.layer.5.crossattention.output.dense.bias', 'bert.encoder.layer.5.crossattention.output.dense.weight', 'bert.encoder.layer.5.crossattention.self.key.bias', 'bert.encoder.layer.5.crossattention.self.key.weight', 'bert.encoder.layer.5.crossattention.self.query.bias', 'bert.encoder.layer.5.crossattention.self.query.weight', 'bert.encoder.layer.5.crossattention.self.value.bias', 'bert.encoder.layer.5.crossattention.self.value.weight', 'bert.encoder.layer.6.crossattention.output.LayerNorm.bias', 'bert.encoder.layer.6.crossattention.output.LayerNorm.weight', 'bert.encoder.layer.6.crossattention.output.dense.bias', 'bert.encoder.layer.6.crossattention.output.dense.weight', 'bert.encoder.layer.6.crossattention.self.key.bias', 'bert.encoder.layer.6.crossattention.self.key.weight', 'bert.encoder.layer.6.crossattention.self.query.bias', 'bert.encoder.layer.6.crossattention.self.query.weight', 'bert.encoder.layer.6.crossattention.self.value.bias', 'bert.encoder.layer.6.crossattention.self.value.weight', 'bert.encoder.layer.7.crossattention.output.LayerNorm.bias', 'bert.encoder.layer.7.crossattention.output.LayerNorm.weight', 'bert.encoder.layer.7.crossattention.output.dense.bias', 'bert.encoder.layer.7.crossattention.output.dense.weight', 'bert.encoder.layer.7.crossattention.self.key.bias', 'bert.encoder.layer.7.crossattention.self.key.weight', 'bert.encoder.layer.7.crossattention.self.query.bias', 'bert.encoder.layer.7.crossattention.self.query.weight', 'bert.encoder.layer.7.crossattention.self.value.bias', 'bert.encoder.layer.7.crossattention.self.value.weight', 'bert.encoder.layer.8.crossattention.output.LayerNorm.bias', 'bert.encoder.layer.8.crossattention.output.LayerNorm.weight', 'bert.encoder.layer.8.crossattention.output.dense.bias', 'bert.encoder.layer.8.crossattention.output.dense.weight', 'bert.encoder.layer.8.crossattention.self.key.bias', 'bert.encoder.layer.8.crossattention.self.key.weight', 'bert.encoder.layer.8.crossattention.self.query.bias', 'bert.encoder.layer.8.crossattention.self.query.weight', 'bert.encoder.layer.8.crossattention.self.value.bias', 'bert.encoder.layer.8.crossattention.self.value.weight', 'bert.encoder.layer.9.crossattention.output.LayerNorm.bias', 'bert.encoder.layer.9.crossattention.output.LayerNorm.weight', 'bert.encoder.layer.9.crossattention.output.dense.bias', 'bert.encoder.layer.9.crossattention.output.dense.weight', 'bert.encoder.layer.9.crossattention.self.key.bias', 'bert.encoder.layer.9.crossattention.self.key.weight', 'bert.encoder.layer.9.crossattention.self.query.bias', 'bert.encoder.layer.9.crossattention.self.query.weight', 'bert.encoder.layer.9.crossattention.self.value.bias', 'bert.encoder.layer.9.crossattention.self.value.weight']\n",
            "You should probably TRAIN this model on a down-stream task to be able to use it for predictions and inference.\n",
            "/usr/local/lib/python3.10/dist-packages/accelerate/accelerator.py:432: FutureWarning: Passing the following arguments to `Accelerator` is deprecated and will be removed in version 1.0 of Accelerate: dict_keys(['dispatch_batches', 'split_batches', 'even_batches', 'use_seedable_sampler']). Please pass an `accelerate.DataLoaderConfiguration` instead: \n",
            "dataloader_config = DataLoaderConfiguration(dispatch_batches=None, split_batches=False, even_batches=True, use_seedable_sampler=True)\n",
            "  warnings.warn(\n"
          ]
        }
      ],
      "source": [
        "# source_lang = \"en\"\n",
        "# target_lang = \"zh\"\n",
        "\n",
        "# def preprocess_function(examples):\n",
        "#     inputs = [example[source_lang] for example in examples[\"translation\"]]\n",
        "#     targets = [example[target_lang] for example in examples[\"translation\"]]\n",
        "#     model_inputs = tokenizer(inputs, text_target=targets, padding=\"max_length\", max_length=32, truncation=True)\n",
        "#     model_inputs[\"labels\"] = [[-100 if token == tokenizer.pad_token_id else token for token in labels] for labels in model_inputs[\"labels\"]]\n",
        "#     return model_inputs\n",
        "\n",
        "metric = evaluate.load(\"sacrebleu\")\n",
        "def postprocess_text(preds, labels):\n",
        "    preds = [pred.strip() for pred in preds]\n",
        "    labels = [[label.strip()] for label in labels]\n",
        "\n",
        "    return preds, labels\n",
        "\n",
        "\n",
        "def compute_metrics(eval_preds):\n",
        "    preds, labels = eval_preds\n",
        "    if isinstance(preds, tuple):\n",
        "        preds = preds[0]\n",
        "    decoded_preds = tokenizer.batch_decode(preds, skip_special_tokens=True)\n",
        "\n",
        "    labels = np.where(labels != -100, labels, tokenizer.pad_token_id)\n",
        "    decoded_labels = tokenizer.batch_decode(labels, skip_special_tokens=True)\n",
        "\n",
        "    decoded_preds, decoded_labels = postprocess_text(decoded_preds, decoded_labels)\n",
        "\n",
        "    result = metric.compute(predictions=decoded_preds, references=decoded_labels)\n",
        "    result = {\"bleu\": result[\"score\"]}\n",
        "\n",
        "    prediction_lens = [np.count_nonzero(pred != tokenizer.pad_token_id) for pred in preds]\n",
        "    result[\"gen_len\"] = np.mean(prediction_lens)\n",
        "    result = {k: round(v, 4) for k, v in result.items()}\n",
        "    return result\n",
        "\n",
        "# download prepare the data\n",
        "# dataset = load_dataset(\"iwslt2017\", \"iwslt2017-zh-en\", cache_dir=\"./cache\") # optional\n",
        "# checkpoint = \"google-bert/bert-base-multilingual-cased\"\n",
        "# tokenizer = BertTokenizer.from_pretrained(checkpoint)\n",
        "# tokenizer.bos_token = tokenizer.cls_token\n",
        "# tokenizer.eos_token = tokenizer.sep_token\n",
        "\n",
        "# tokenized_sentences = dataset.map(preprocess_function, batched=True)\n",
        "\n",
        "# download the model\n",
        "model = EncoderDecoderModel.from_encoder_decoder_pretrained('./strokeBERT900',checkpoint)#checkpoint, checkpoint)\n",
        "# set special tokens\n",
        "model.config.bos_token_id = tokenizer.bos_token_id\n",
        "model.config.decoder_start_token_id = tokenizer.cls_token_id\n",
        "model.config.eos_token_id = tokenizer.eos_token_id\n",
        "model.config.pad_token_id = tokenizer.pad_token_id\n",
        "\n",
        "\n",
        "model.config.decoder_start_token_id = tokenizer.cls_token_id\n",
        "model.config.eos_token_id = tokenizer.sep_token_id\n",
        "model.config.pad_token_id = tokenizer.pad_token_id\n",
        "model.config.vocab_size = model.config.encoder.vocab_size\n",
        "model.config.max_length = 128\n",
        "model.config.min_length = 8\n",
        "model.config.no_repeat_ngram_size = 3\n",
        "model.config.early_stopping = True\n",
        "model.config.length_penalty = 2.0\n",
        "model.config.num_beams = 4\n",
        "\n",
        "\n",
        "dt = datetime.datetime.now(datetime.timezone.utc)\n",
        "dt = dt.replace(microsecond=0, tzinfo=None)\n",
        "\n",
        "# set the wandb project where this run will be logged\n",
        "os.environ[\"WANDB_PROJECT\"]=\"BerTranslate\"\n",
        "# save your trained model checkpoint to wandb\n",
        "os.environ[\"WANDB_LOG_MODEL\"]=\"true\"\n",
        "# turn off watch to log faster\n",
        "os.environ[\"WANDB_WATCH\"]=\"false\"\n",
        "os.environ[\"PYTORCH_CUDA_ALLOC_CONF\"] = \"max_split_size_mb:32\"\n",
        "os.environ[\"WANDB_NAME\"] = str(dt)\n",
        "\n",
        "# pass \"wandb\" to the 'report_to' parameter to turn on wandb logging\n",
        "training_args = TrainingArguments(\n",
        "    output_dir='wandb_bert2bert',\n",
        "    report_to=\"wandb\",\n",
        "    logging_steps=5,\n",
        "    per_device_train_batch_size=16,\n",
        "    per_device_eval_batch_size=16,\n",
        "    evaluation_strategy=\"steps\",\n",
        "    eval_steps=2000,\n",
        "    # max_steps = 100,\n",
        "    # save_steps = 100,\n",
        "    num_train_epochs=1,\n",
        "    learning_rate=2e-5,\n",
        "    weight_decay=0.005,\n",
        "    predict_with_generate=True,\n",
        ")\n",
        "\n",
        "# define the trainer and start training\n",
        "trainer = Trainer(\n",
        "    model=model,\n",
        "    args=training_args,\n",
        "    train_dataset=tokenized_sentences[\"train\"],\n",
        "    eval_dataset=tokenized_sentences[\"validation\"],\n",
        "    compute_metrics=compute_metrics,\n",
        ")\n",
        "\n",
        "#trainer.model.config.decoder_start_token_id = tokenizer.bos_token_id\n",
        "# trainer.train()\n",
        "\n",
        "# # [optional] finish the wandb run, necessary in notebooks\n",
        "# wandb.finish()"
      ]
    },
    {
      "cell_type": "code",
      "execution_count": null,
      "metadata": {
        "colab": {
          "base_uri": "https://localhost:8080/",
          "height": 868
        },
        "id": "P1tSaMgM8b3-",
        "outputId": "185bfcfe-cff0-45b2-e2b7-d678b185448b"
      },
      "outputs": [
        {
          "data": {
            "application/javascript": "\n        window._wandbApiKey = new Promise((resolve, reject) => {\n            function loadScript(url) {\n            return new Promise(function(resolve, reject) {\n                let newScript = document.createElement(\"script\");\n                newScript.onerror = reject;\n                newScript.onload = resolve;\n                document.body.appendChild(newScript);\n                newScript.src = url;\n            });\n            }\n            loadScript(\"https://cdn.jsdelivr.net/npm/postmate/build/postmate.min.js\").then(() => {\n            const iframe = document.createElement('iframe')\n            iframe.style.cssText = \"width:0;height:0;border:none\"\n            document.body.appendChild(iframe)\n            const handshake = new Postmate({\n                container: iframe,\n                url: 'https://wandb.ai/authorize'\n            });\n            const timeout = setTimeout(() => reject(\"Couldn't auto authenticate\"), 5000)\n            handshake.then(function(child) {\n                child.on('authorize', data => {\n                    clearTimeout(timeout)\n                    resolve(data)\n                });\n            });\n            })\n        });\n    ",
            "text/plain": [
              "<IPython.core.display.Javascript object>"
            ]
          },
          "metadata": {},
          "output_type": "display_data"
        },
        {
          "name": "stderr",
          "output_type": "stream",
          "text": [
            "\u001b[34m\u001b[1mwandb\u001b[0m: Logging into wandb.ai. (Learn how to deploy a W&B server locally: https://wandb.me/wandb-server)\n",
            "\u001b[34m\u001b[1mwandb\u001b[0m: You can find your API key in your browser here: https://wandb.ai/authorize\n",
            "wandb: Paste an API key from your profile and hit enter, or press ctrl+c to quit:\u001b[34m\u001b[1mwandb\u001b[0m: Appending key for api.wandb.ai to your netrc file: /root/.netrc\n"
          ]
        },
        {
          "data": {
            "text/html": [
              "Tracking run with wandb version 0.16.5"
            ],
            "text/plain": [
              "<IPython.core.display.HTML object>"
            ]
          },
          "metadata": {},
          "output_type": "display_data"
        },
        {
          "data": {
            "text/html": [
              "Run data is saved locally in <code>/content/drive/MyDrive/Colab Notebooks/CS4248/wandb/run-20240331_113315-fwqwu73k</code>"
            ],
            "text/plain": [
              "<IPython.core.display.HTML object>"
            ]
          },
          "metadata": {},
          "output_type": "display_data"
        },
        {
          "data": {
            "text/html": [
              "Syncing run <strong><a href='https://wandb.ai/team-name-carefully/BerTranslate/runs/fwqwu73k/workspace' target=\"_blank\">2024-03-31 11:28:36</a></strong> to <a href='https://wandb.ai/team-name-carefully/BerTranslate' target=\"_blank\">Weights & Biases</a> (<a href='https://wandb.me/run' target=\"_blank\">docs</a>)<br/>"
            ],
            "text/plain": [
              "<IPython.core.display.HTML object>"
            ]
          },
          "metadata": {},
          "output_type": "display_data"
        },
        {
          "data": {
            "text/html": [
              " View project at <a href='https://wandb.ai/team-name-carefully/BerTranslate' target=\"_blank\">https://wandb.ai/team-name-carefully/BerTranslate</a>"
            ],
            "text/plain": [
              "<IPython.core.display.HTML object>"
            ]
          },
          "metadata": {},
          "output_type": "display_data"
        },
        {
          "data": {
            "text/html": [
              " View run at <a href='https://wandb.ai/team-name-carefully/BerTranslate/runs/fwqwu73k/workspace' target=\"_blank\">https://wandb.ai/team-name-carefully/BerTranslate/runs/fwqwu73k/workspace</a>"
            ],
            "text/plain": [
              "<IPython.core.display.HTML object>"
            ]
          },
          "metadata": {},
          "output_type": "display_data"
        },
        {
          "name": "stderr",
          "output_type": "stream",
          "text": [
            "/usr/local/lib/python3.10/dist-packages/transformers/models/encoder_decoder/modeling_encoder_decoder.py:616: UserWarning: To copy construct from a tensor, it is recommended to use sourceTensor.clone().detach() or sourceTensor.clone().detach().requires_grad_(True), rather than tensor.new_tensor(sourceTensor).\n",
            "  decoder_attention_mask = decoder_input_ids.new_tensor(decoder_input_ids != self.config.pad_token_id)\n",
            "/usr/local/lib/python3.10/dist-packages/transformers/models/encoder_decoder/modeling_encoder_decoder.py:636: FutureWarning: Version v4.12.0 introduces a better way to train encoder-decoder models by computing the loss inside the encoder-decoder framework rather than in the decoder itself. You may observe training discrepancies if fine-tuning a model trained with versions anterior to 4.12.0. The decoder_input_ids are now created based on the labels, no need to pass them yourself anymore.\n",
            "  warnings.warn(DEPRECATION_WARNING, FutureWarning)\n"
          ]
        },
        {
          "data": {
            "text/html": [
              "\n",
              "    <div>\n",
              "      \n",
              "      <progress value='672' max='14455' style='width:300px; height:20px; vertical-align: middle;'></progress>\n",
              "      [  672/14455 21:25 < 7:20:52, 0.52 it/s, Epoch 0.05/1]\n",
              "    </div>\n",
              "    <table border=\"1\" class=\"dataframe\">\n",
              "  <thead>\n",
              " <tr style=\"text-align: left;\">\n",
              "      <th>Step</th>\n",
              "      <th>Training Loss</th>\n",
              "      <th>Validation Loss</th>\n",
              "    </tr>\n",
              "  </thead>\n",
              "  <tbody>\n",
              "  </tbody>\n",
              "</table><p>"
            ],
            "text/plain": [
              "<IPython.core.display.HTML object>"
            ]
          },
          "metadata": {},
          "output_type": "display_data"
        },
        {
          "name": "stderr",
          "output_type": "stream",
          "text": [
            "Checkpoint destination directory wandb_bert2bert/checkpoint-500 already exists and is non-empty. Saving will proceed but saved results may be invalid.\n",
            "Some non-default generation parameters are set in the model config. These should go into a GenerationConfig file (https://huggingface.co/docs/transformers/generation_strategies#save-a-custom-decoding-strategy-with-your-model) instead. This warning will be raised to an exception in v4.41.\n",
            "Non-default generation parameters: {'max_length': 128, 'min_length': 8, 'early_stopping': True, 'num_beams': 4, 'length_penalty': 2.0, 'no_repeat_ngram_size': 3}\n",
            "Your generation config was originally created from the model config, but the model config has changed since then. Unless you pass the `generation_config` argument to this model's `generate` calls, they will revert to the legacy behavior where the base `generate` parameterization is loaded from the model config instead. To avoid this behavior and this warning, we recommend you to overwrite the generation config model attribute before calling the model's `save_pretrained`, preferably also removing any generation kwargs from the model config. This warning will be raised to an exception in v4.41.\n",
            "Removed shared tensor {'decoder.cls.predictions.decoder.bias', 'decoder.cls.predictions.decoder.weight'} while saving. This should be OK, but check by verifying that you don't receive any warning while reloading\n",
            "/usr/local/lib/python3.10/dist-packages/transformers/models/encoder_decoder/modeling_encoder_decoder.py:616: UserWarning: To copy construct from a tensor, it is recommended to use sourceTensor.clone().detach() or sourceTensor.clone().detach().requires_grad_(True), rather than tensor.new_tensor(sourceTensor).\n",
            "  decoder_attention_mask = decoder_input_ids.new_tensor(decoder_input_ids != self.config.pad_token_id)\n",
            "/usr/local/lib/python3.10/dist-packages/transformers/models/encoder_decoder/modeling_encoder_decoder.py:636: FutureWarning: Version v4.12.0 introduces a better way to train encoder-decoder models by computing the loss inside the encoder-decoder framework rather than in the decoder itself. You may observe training discrepancies if fine-tuning a model trained with versions anterior to 4.12.0. The decoder_input_ids are now created based on the labels, no need to pass them yourself anymore.\n",
            "  warnings.warn(DEPRECATION_WARNING, FutureWarning)\n"
          ]
        },
        {
          "data": {
            "text/html": [
              "\n",
              "    <div>\n",
              "      \n",
              "      <progress value='2001' max='14455' style='width:300px; height:20px; vertical-align: middle;'></progress>\n",
              "      [ 2001/14455 1:03:59 < 6:38:40, 0.52 it/s, Epoch 0.14/1]\n",
              "    </div>\n",
              "    <table border=\"1\" class=\"dataframe\">\n",
              "  <thead>\n",
              " <tr style=\"text-align: left;\">\n",
              "      <th>Step</th>\n",
              "      <th>Training Loss</th>\n",
              "      <th>Validation Loss</th>\n",
              "    </tr>\n",
              "  </thead>\n",
              "  <tbody>\n",
              "  </tbody>\n",
              "</table><p>\n",
              "    <div>\n",
              "      \n",
              "      <progress value='48' max='55' style='width:300px; height:20px; vertical-align: middle;'></progress>\n",
              "      [48/55 06:01 < 00:53, 0.13 it/s]\n",
              "    </div>\n",
              "    "
            ],
            "text/plain": [
              "<IPython.core.display.HTML object>"
            ]
          },
          "metadata": {},
          "output_type": "display_data"
        },
        {
          "name": "stderr",
          "output_type": "stream",
          "text": [
            "Checkpoint destination directory wandb_bert2bert/checkpoint-1000 already exists and is non-empty. Saving will proceed but saved results may be invalid.\n",
            "Some non-default generation parameters are set in the model config. These should go into a GenerationConfig file (https://huggingface.co/docs/transformers/generation_strategies#save-a-custom-decoding-strategy-with-your-model) instead. This warning will be raised to an exception in v4.41.\n",
            "Non-default generation parameters: {'max_length': 128, 'min_length': 8, 'early_stopping': True, 'num_beams': 4, 'length_penalty': 2.0, 'no_repeat_ngram_size': 3}\n",
            "Your generation config was originally created from the model config, but the model config has changed since then. Unless you pass the `generation_config` argument to this model's `generate` calls, they will revert to the legacy behavior where the base `generate` parameterization is loaded from the model config instead. To avoid this behavior and this warning, we recommend you to overwrite the generation config model attribute before calling the model's `save_pretrained`, preferably also removing any generation kwargs from the model config. This warning will be raised to an exception in v4.41.\n",
            "/usr/local/lib/python3.10/dist-packages/transformers/models/encoder_decoder/modeling_encoder_decoder.py:616: UserWarning: To copy construct from a tensor, it is recommended to use sourceTensor.clone().detach() or sourceTensor.clone().detach().requires_grad_(True), rather than tensor.new_tensor(sourceTensor).\n",
            "  decoder_attention_mask = decoder_input_ids.new_tensor(decoder_input_ids != self.config.pad_token_id)\n",
            "/usr/local/lib/python3.10/dist-packages/transformers/models/encoder_decoder/modeling_encoder_decoder.py:636: FutureWarning: Version v4.12.0 introduces a better way to train encoder-decoder models by computing the loss inside the encoder-decoder framework rather than in the decoder itself. You may observe training discrepancies if fine-tuning a model trained with versions anterior to 4.12.0. The decoder_input_ids are now created based on the labels, no need to pass them yourself anymore.\n",
            "  warnings.warn(DEPRECATION_WARNING, FutureWarning)\n",
            "Checkpoint destination directory wandb_bert2bert/checkpoint-1500 already exists and is non-empty. Saving will proceed but saved results may be invalid.\n",
            "Some non-default generation parameters are set in the model config. These should go into a GenerationConfig file (https://huggingface.co/docs/transformers/generation_strategies#save-a-custom-decoding-strategy-with-your-model) instead. This warning will be raised to an exception in v4.41.\n",
            "Non-default generation parameters: {'max_length': 128, 'min_length': 8, 'early_stopping': True, 'num_beams': 4, 'length_penalty': 2.0, 'no_repeat_ngram_size': 3}\n",
            "Your generation config was originally created from the model config, but the model config has changed since then. Unless you pass the `generation_config` argument to this model's `generate` calls, they will revert to the legacy behavior where the base `generate` parameterization is loaded from the model config instead. To avoid this behavior and this warning, we recommend you to overwrite the generation config model attribute before calling the model's `save_pretrained`, preferably also removing any generation kwargs from the model config. This warning will be raised to an exception in v4.41.\n",
            "/usr/local/lib/python3.10/dist-packages/transformers/models/encoder_decoder/modeling_encoder_decoder.py:616: UserWarning: To copy construct from a tensor, it is recommended to use sourceTensor.clone().detach() or sourceTensor.clone().detach().requires_grad_(True), rather than tensor.new_tensor(sourceTensor).\n",
            "  decoder_attention_mask = decoder_input_ids.new_tensor(decoder_input_ids != self.config.pad_token_id)\n",
            "/usr/local/lib/python3.10/dist-packages/transformers/models/encoder_decoder/modeling_encoder_decoder.py:636: FutureWarning: Version v4.12.0 introduces a better way to train encoder-decoder models by computing the loss inside the encoder-decoder framework rather than in the decoder itself. You may observe training discrepancies if fine-tuning a model trained with versions anterior to 4.12.0. The decoder_input_ids are now created based on the labels, no need to pass them yourself anymore.\n",
            "  warnings.warn(DEPRECATION_WARNING, FutureWarning)\n",
            "/usr/local/lib/python3.10/dist-packages/transformers/generation/utils.py:1339: UserWarning: You have modified the pretrained model configuration to control generation. This is a deprecated strategy to control generation and will be removed soon, in a future version. Please use and modify the model generation configuration (see https://huggingface.co/docs/transformers/generation_strategies#default-text-generation-configuration )\n",
            "  warnings.warn(\n"
          ]
        }
      ],
      "source": [
        "trainer.train()\n",
        "\n",
        "# [optional] finish the wandb run, necessary in notebooks\n",
        "wandb.finish()"
      ]
    },
    {
      "cell_type": "code",
      "execution_count": null,
      "metadata": {
        "colab": {
          "base_uri": "https://localhost:8080/",
          "height": 315
        },
        "id": "diopFF_G2DqC",
        "outputId": "3365dea3-2065-4ef4-8f35-0c8c8e0d2647"
      },
      "outputs": [
        {
          "name": "stderr",
          "output_type": "stream",
          "text": [
            "/usr/local/lib/python3.10/dist-packages/transformers/models/encoder_decoder/modeling_encoder_decoder.py:616: UserWarning: To copy construct from a tensor, it is recommended to use sourceTensor.clone().detach() or sourceTensor.clone().detach().requires_grad_(True), rather than tensor.new_tensor(sourceTensor).\n",
            "  decoder_attention_mask = decoder_input_ids.new_tensor(decoder_input_ids != self.config.pad_token_id)\n",
            "/usr/local/lib/python3.10/dist-packages/transformers/models/encoder_decoder/modeling_encoder_decoder.py:636: FutureWarning: Version v4.12.0 introduces a better way to train encoder-decoder models by computing the loss inside the encoder-decoder framework rather than in the decoder itself. You may observe training discrepancies if fine-tuning a model trained with versions anterior to 4.12.0. The decoder_input_ids are now created based on the labels, no need to pass them yourself anymore.\n",
            "  warnings.warn(DEPRECATION_WARNING, FutureWarning)\n"
          ]
        },
        {
          "data": {
            "text/html": [],
            "text/plain": [
              "<IPython.core.display.HTML object>"
            ]
          },
          "metadata": {},
          "output_type": "display_data"
        },
        {
          "name": "stdout",
          "output_type": "stream",
          "text": [
            "[  101   101   101  3976  2206  4380  2072  2102  2179 10064  3976  2206\n",
            "  2206  5718  2072  2102 10064   100   100   100  3976  2206  5718 10064\n",
            "  7700  4380  2102  2179  1882   100   100  2080  4380  2072  2246 10064\n",
            "  3976  5718 10064  3976  4380  4380  2102  2102  2179  5718 10064  2243\n",
            "  4380  4380  3976  2206 10064  2262  2206  2206  4380  4461  4461  2594\n",
            "  2594  2594 10064  7700  4577  5718  1882   102     0     0     0     0\n",
            "     0     0     0     0     0     0     0     0     0     0     0     0\n",
            "     0     0     0     0     0     0     0     0     0     0     0     0\n",
            "     0     0     0     0     0     0     0     0     0     0     0     0\n",
            "     0     0     0     0     0     0     0     0     0     0     0     0\n",
            "     0     0     0     0     0     0     0     0     0     0     0     0\n",
            "     0     0     0     0     0     0     0     0     0     0]\n"
          ]
        }
      ],
      "source": [
        "predictions = trainer.predict(tokenized_sentences[\"validation\"])\n",
        "# print(predictions.predictions[0])\n",
        "decoded_predictions = tokenizer.batch_decode(predictions.predictions, skip_special_tokens=True)"
      ]
    },
    {
      "cell_type": "code",
      "execution_count": null,
      "metadata": {
        "colab": {
          "base_uri": "https://localhost:8080/"
        },
        "id": "sER87K2W3eEu",
        "outputId": "6ebc7ccc-db31-42f8-e93e-74a4216a39d9"
      },
      "outputs": [
        {
          "name": "stdout",
          "output_type": "stream",
          "text": [
            "{'translation': {'en': 'Last year I showed these two slides so that  demonstrate that the arctic ice cap,  which for most of the last three million years  has been the size of the lower 48 states,  has shrunk by 40 percent.', 'zh': '去年我给各位展示了两个 关于北极冰帽的演示 在过去三百万年中 其面积由相当于美国南方48州面积总和 缩减了40%'}, 'input_ids': [101, 14812, 10924, 146, 27463, 11762, 10551, 92010, 10107, 10380, 10189, 98343, 10189, 10105, 27068, 13275, 24642, 13337, 117, 10319, 10142, 10992, 10108, 10105, 12469, 11003, 12473, 10855, 10393, 10590, 10105, 15851, 10108, 10105, 18165, 11300, 16316, 117, 10393, 48201, 110034, 10155, 10533, 22362, 119, 102, 0, 0, 0, 0, 0, 0, 0, 0, 0, 0, 0, 0, 0, 0, 0, 0, 0, 0, 0, 0, 0, 0, 0, 0, 0, 0, 0, 0, 0, 0, 0, 0, 0, 0, 0, 0, 0, 0, 0, 0, 0, 0, 0, 0, 0, 0, 0, 0, 0, 0, 0, 0, 0, 0, 0, 0, 0, 0, 0, 0, 0, 0, 0, 0, 0, 0, 0, 0, 0, 0, 0, 0, 0, 0, 0, 0, 0, 0, 0, 0, 0, 0], 'token_type_ids': [0, 0, 0, 0, 0, 0, 0, 0, 0, 0, 0, 0, 0, 0, 0, 0, 0, 0, 0, 0, 0, 0, 0, 0, 0, 0, 0, 0, 0, 0, 0, 0, 0, 0, 0, 0, 0, 0, 0, 0, 0, 0, 0, 0, 0, 0, 0, 0, 0, 0, 0, 0, 0, 0, 0, 0, 0, 0, 0, 0, 0, 0, 0, 0, 0, 0, 0, 0, 0, 0, 0, 0, 0, 0, 0, 0, 0, 0, 0, 0, 0, 0, 0, 0, 0, 0, 0, 0, 0, 0, 0, 0, 0, 0, 0, 0, 0, 0, 0, 0, 0, 0, 0, 0, 0, 0, 0, 0, 0, 0, 0, 0, 0, 0, 0, 0, 0, 0, 0, 0, 0, 0, 0, 0, 0, 0, 0, 0], 'attention_mask': [1, 1, 1, 1, 1, 1, 1, 1, 1, 1, 1, 1, 1, 1, 1, 1, 1, 1, 1, 1, 1, 1, 1, 1, 1, 1, 1, 1, 1, 1, 1, 1, 1, 1, 1, 1, 1, 1, 1, 1, 1, 1, 1, 1, 1, 1, 0, 0, 0, 0, 0, 0, 0, 0, 0, 0, 0, 0, 0, 0, 0, 0, 0, 0, 0, 0, 0, 0, 0, 0, 0, 0, 0, 0, 0, 0, 0, 0, 0, 0, 0, 0, 0, 0, 0, 0, 0, 0, 0, 0, 0, 0, 0, 0, 0, 0, 0, 0, 0, 0, 0, 0, 0, 0, 0, 0, 0, 0, 0, 0, 0, 0, 0, 0, 0, 0, 0, 0, 0, 0, 0, 0, 0, 0, 0, 0, 0, 0], 'labels': [101, 2724, 3642, 3976, 6342, 2768, 2246, 3495, 5898, 2146, 2098, 2102, 2457, 2151, 2650, 4513, 2492, 3627, 5718, 5162, 5898, 3031, 7693, 2724, 2077, 5716, 2075, 3642, 2104, 2460, 8335, 5963, 5611, 5760, 3740, 2151, 6417, 3014, 2682, 4335, 11300, 3580, 8335, 5963, 3828, 2833, 6385, 2508, 2146, 10533, 110, 102, 0, 0, 0, 0, 0, 0, 0, 0, 0, 0, 0, 0, 0, 0, 0, 0, 0, 0, 0, 0, 0, 0, 0, 0, 0, 0, 0, 0, 0, 0, 0, 0, 0, 0, 0, 0, 0, 0, 0, 0, 0, 0, 0, 0, 0, 0, 0, 0, 0, 0, 0, 0, 0, 0, 0, 0, 0, 0, 0, 0, 0, 0, 0, 0, 0, 0, 0, 0, 0, 0, 0, 0, 0, 0, 0, 0]}\n"
          ]
        }
      ],
      "source": [
        "print(decoded_predictions[0])\n",
        "print(tokenized_sentences[\"validation\"][0])\n"
      ]
    },
    {
      "cell_type": "code",
      "execution_count": null,
      "metadata": {
        "colab": {
          "base_uri": "https://localhost:8080/",
          "height": 244
        },
        "id": "cEC0m2YW4cMU",
        "outputId": "30f0855e-2e69-42e7-f562-08d2a752416e"
      },
      "outputs": [
        {
          "name": "stdout",
          "output_type": "stream",
          "text": [
            "{'translation': {'zh': 'tnoh eetn0 terduto oodtshn etasee toeeaotdeutoeuto hr'}, 'input_ids': [476, 228, 5, 81, 404, 123, 380, 471, 471, 88, 3, 3, 3, 3, 3, 3, 3, 3, 3, 3, 3, 3, 3, 3, 3, 3, 3, 3, 3, 3, 3, 3], 'token_type_ids': [0, 0, 0, 0, 0, 0, 0, 0, 0, 0, 0, 0, 0, 0, 0, 0, 0, 0, 0, 0, 0, 0, 0, 0, 0, 0, 0, 0, 0, 0, 0, 0], 'attention_mask': [1, 1, 1, 1, 1, 1, 1, 1, 1, 1, 0, 0, 0, 0, 0, 0, 0, 0, 0, 0, 0, 0, 0, 0, 0, 0, 0, 0, 0, 0, 0, 0]}\n"
          ]
        },
        {
          "data": {
            "text/html": [
              "\n",
              "    <div>\n",
              "      \n",
              "      <progress value='6001' max='14455' style='width:300px; height:20px; vertical-align: middle;'></progress>\n",
              "      [ 6001/14455 55:08 < 1:17:42, 1.81 it/s, Epoch 0.42/1]\n",
              "    </div>\n",
              "    <table border=\"1\" class=\"dataframe\">\n",
              "  <thead>\n",
              " <tr style=\"text-align: left;\">\n",
              "      <th>Step</th>\n",
              "      <th>Training Loss</th>\n",
              "      <th>Validation Loss</th>\n",
              "      <th>Bleu</th>\n",
              "      <th>Gen Len</th>\n",
              "    </tr>\n",
              "  </thead>\n",
              "  <tbody>\n",
              "    <tr>\n",
              "      <td>2000</td>\n",
              "      <td>3.790500</td>\n",
              "      <td>3.745813</td>\n",
              "      <td>1.277500</td>\n",
              "      <td>27.782700</td>\n",
              "    </tr>\n",
              "    <tr>\n",
              "      <td>4000</td>\n",
              "      <td>3.510200</td>\n",
              "      <td>3.577406</td>\n",
              "      <td>1.924900</td>\n",
              "      <td>26.358400</td>\n",
              "    </tr>\n",
              "    <tr>\n",
              "      <td>6000</td>\n",
              "      <td>3.532400</td>\n",
              "      <td>3.490778</td>\n",
              "      <td>2.363100</td>\n",
              "      <td>27.688300</td>\n",
              "    </tr>\n",
              "  </tbody>\n",
              "</table><p>\n",
              "    <div>\n",
              "      \n",
              "      <progress value='1' max='1' style='width:300px; height:20px; vertical-align: middle;'></progress>\n",
              "      [1/1 : < :]\n",
              "    </div>\n",
              "    "
            ],
            "text/plain": [
              "<IPython.core.display.HTML object>"
            ]
          },
          "metadata": {},
          "output_type": "display_data"
        },
        {
          "name": "stdout",
          "output_type": "stream",
          "text": [
            "I didn't have any money.\n"
          ]
        }
      ],
      "source": [
        "\n",
        "custom_input = \"今天我没有钱了\"\n",
        "input_trad = converter.convert(custom_input)\n",
        "custom_input = ' '.join([zh2letter[char] for char in input_trad])\n",
        "# ' '.join([zh2letter[char] for char in text if len(zh2letter[char]) > 0]) for text in inputs\n",
        "\n",
        "encoded_custom_input = bpe_tokenizer(custom_input, padding=\"max_length\", max_length=32, truncation=True)\n",
        "custom_input = {\n",
        "    \"translation\": {\n",
        "        \"zh\": custom_input\n",
        "    },\n",
        "    \"input_ids\": encoded_custom_input[\"input_ids\"],\n",
        "    \"token_type_ids\": encoded_custom_input[\"token_type_ids\"],\n",
        "    \"attention_mask\": encoded_custom_input[\"attention_mask\"]\n",
        "\n",
        "}\n",
        "print(custom_input)\n",
        "\n",
        "custom_predictions = trainer.predict([custom_input])\n",
        "\n",
        "# print(custom_predictions.predictions[0])\n",
        "\n",
        "# Decode the custom predictions\n",
        "decoded_custom_predictions = tokenizer.batch_decode(custom_predictions.predictions, skip_special_tokens=True)\n",
        "\n",
        "# Print the decoded custom predictions\n",
        "print(decoded_custom_predictions[0])\n",
        "# print(custom_input.map())"
      ]
    },
    {
      "cell_type": "code",
      "execution_count": null,
      "metadata": {
        "colab": {
          "base_uri": "https://localhost:8080/"
        },
        "id": "S7q7v5vXbDGx",
        "outputId": "33c9fa55-1afe-480d-f5d8-ae47f0613fba"
      },
      "outputs": [
        {
          "name": "stderr",
          "output_type": "stream",
          "text": [
            "Some non-default generation parameters are set in the model config. These should go into a GenerationConfig file (https://huggingface.co/docs/transformers/generation_strategies#save-a-custom-decoding-strategy-with-your-model) instead. This warning will be raised to an exception in v4.41.\n",
            "Non-default generation parameters: {'max_length': 32, 'min_length': 8, 'early_stopping': True, 'num_beams': 4, 'length_penalty': 2.0, 'no_repeat_ngram_size': 3}\n"
          ]
        }
      ],
      "source": [
        "trainer.save_model('bert2bert')"
      ]
    }
  ],
  "metadata": {
    "accelerator": "GPU",
    "colab": {
      "gpuType": "T4",
      "provenance": []
    },
    "kernelspec": {
      "display_name": "Python 3",
      "name": "python3"
    },
    "language_info": {
      "codemirror_mode": {
        "name": "ipython",
        "version": 3
      },
      "file_extension": ".py",
      "mimetype": "text/x-python",
      "name": "python",
      "nbconvert_exporter": "python",
      "pygments_lexer": "ipython3",
      "version": "3.10.11"
    },
    "widgets": {
      "application/vnd.jupyter.widget-state+json": {
        "01302abf54bd440ab788a25a53da3eed": {
          "model_module": "@jupyter-widgets/base",
          "model_module_version": "1.2.0",
          "model_name": "LayoutModel",
          "state": {
            "_model_module": "@jupyter-widgets/base",
            "_model_module_version": "1.2.0",
            "_model_name": "LayoutModel",
            "_view_count": null,
            "_view_module": "@jupyter-widgets/base",
            "_view_module_version": "1.2.0",
            "_view_name": "LayoutView",
            "align_content": null,
            "align_items": null,
            "align_self": null,
            "border": null,
            "bottom": null,
            "display": null,
            "flex": null,
            "flex_flow": null,
            "grid_area": null,
            "grid_auto_columns": null,
            "grid_auto_flow": null,
            "grid_auto_rows": null,
            "grid_column": null,
            "grid_gap": null,
            "grid_row": null,
            "grid_template_areas": null,
            "grid_template_columns": null,
            "grid_template_rows": null,
            "height": null,
            "justify_content": null,
            "justify_items": null,
            "left": null,
            "margin": null,
            "max_height": null,
            "max_width": null,
            "min_height": null,
            "min_width": null,
            "object_fit": null,
            "object_position": null,
            "order": null,
            "overflow": null,
            "overflow_x": null,
            "overflow_y": null,
            "padding": null,
            "right": null,
            "top": null,
            "visibility": null,
            "width": null
          }
        },
        "03521f17508342e8ab81fef6402fbb7c": {
          "model_module": "@jupyter-widgets/controls",
          "model_module_version": "1.5.0",
          "model_name": "DescriptionStyleModel",
          "state": {
            "_model_module": "@jupyter-widgets/controls",
            "_model_module_version": "1.5.0",
            "_model_name": "DescriptionStyleModel",
            "_view_count": null,
            "_view_module": "@jupyter-widgets/base",
            "_view_module_version": "1.2.0",
            "_view_name": "StyleView",
            "description_width": ""
          }
        },
        "04f5a8dcc52046ddbdfdf071f6f79d99": {
          "model_module": "@jupyter-widgets/controls",
          "model_module_version": "1.5.0",
          "model_name": "HTMLModel",
          "state": {
            "_dom_classes": [],
            "_model_module": "@jupyter-widgets/controls",
            "_model_module_version": "1.5.0",
            "_model_name": "HTMLModel",
            "_view_count": null,
            "_view_module": "@jupyter-widgets/controls",
            "_view_module_version": "1.5.0",
            "_view_name": "HTMLView",
            "description": "",
            "description_tooltip": null,
            "layout": "IPY_MODEL_941884fbfe96455ebc2a19f30e94a9dd",
            "placeholder": "​",
            "style": "IPY_MODEL_e2d0bfeb40ec4a8c8d9aeedcaf207963",
            "value": " 232k/232k [00:00&lt;00:00, 3.75MB/s]"
          }
        },
        "070ffbf9ae234554afa72db591076d81": {
          "model_module": "@jupyter-widgets/controls",
          "model_module_version": "1.5.0",
          "model_name": "FloatProgressModel",
          "state": {
            "_dom_classes": [],
            "_model_module": "@jupyter-widgets/controls",
            "_model_module_version": "1.5.0",
            "_model_name": "FloatProgressModel",
            "_view_count": null,
            "_view_module": "@jupyter-widgets/controls",
            "_view_module_version": "1.5.0",
            "_view_name": "ProgressView",
            "bar_style": "success",
            "description": "",
            "description_tooltip": null,
            "layout": "IPY_MODEL_8436eec4fef24c20960a6ef24bf8f2cf",
            "max": 879,
            "min": 0,
            "orientation": "horizontal",
            "style": "IPY_MODEL_d7d5285be46d4b1aaad7b7e9fde90e0d",
            "value": 879
          }
        },
        "0a3e276f15f54c24b01ecf886a1298c3": {
          "model_module": "@jupyter-widgets/base",
          "model_module_version": "1.2.0",
          "model_name": "LayoutModel",
          "state": {
            "_model_module": "@jupyter-widgets/base",
            "_model_module_version": "1.2.0",
            "_model_name": "LayoutModel",
            "_view_count": null,
            "_view_module": "@jupyter-widgets/base",
            "_view_module_version": "1.2.0",
            "_view_name": "LayoutView",
            "align_content": null,
            "align_items": null,
            "align_self": null,
            "border": null,
            "bottom": null,
            "display": null,
            "flex": null,
            "flex_flow": null,
            "grid_area": null,
            "grid_auto_columns": null,
            "grid_auto_flow": null,
            "grid_auto_rows": null,
            "grid_column": null,
            "grid_gap": null,
            "grid_row": null,
            "grid_template_areas": null,
            "grid_template_columns": null,
            "grid_template_rows": null,
            "height": null,
            "justify_content": null,
            "justify_items": null,
            "left": null,
            "margin": null,
            "max_height": null,
            "max_width": null,
            "min_height": null,
            "min_width": null,
            "object_fit": null,
            "object_position": null,
            "order": null,
            "overflow": null,
            "overflow_x": null,
            "overflow_y": null,
            "padding": null,
            "right": null,
            "top": null,
            "visibility": null,
            "width": null
          }
        },
        "0f7a9aedbd2a4a0b85656664d1033c42": {
          "model_module": "@jupyter-widgets/controls",
          "model_module_version": "1.5.0",
          "model_name": "DescriptionStyleModel",
          "state": {
            "_model_module": "@jupyter-widgets/controls",
            "_model_module_version": "1.5.0",
            "_model_name": "DescriptionStyleModel",
            "_view_count": null,
            "_view_module": "@jupyter-widgets/base",
            "_view_module_version": "1.2.0",
            "_view_name": "StyleView",
            "description_width": ""
          }
        },
        "0fa670dc7847442da2c0ece9c30762c2": {
          "model_module": "@jupyter-widgets/controls",
          "model_module_version": "1.5.0",
          "model_name": "FloatProgressModel",
          "state": {
            "_dom_classes": [],
            "_model_module": "@jupyter-widgets/controls",
            "_model_module_version": "1.5.0",
            "_model_name": "FloatProgressModel",
            "_view_count": null,
            "_view_module": "@jupyter-widgets/controls",
            "_view_module_version": "1.5.0",
            "_view_name": "ProgressView",
            "bar_style": "success",
            "description": "",
            "description_tooltip": null,
            "layout": "IPY_MODEL_0a3e276f15f54c24b01ecf886a1298c3",
            "max": 466062,
            "min": 0,
            "orientation": "horizontal",
            "style": "IPY_MODEL_77fcd79c4d0f4bd3a457e84bfbd08df6",
            "value": 466062
          }
        },
        "103ec7894ff74c869ff2d760062aeebf": {
          "model_module": "@jupyter-widgets/controls",
          "model_module_version": "1.5.0",
          "model_name": "DescriptionStyleModel",
          "state": {
            "_model_module": "@jupyter-widgets/controls",
            "_model_module_version": "1.5.0",
            "_model_name": "DescriptionStyleModel",
            "_view_count": null,
            "_view_module": "@jupyter-widgets/base",
            "_view_module_version": "1.2.0",
            "_view_name": "StyleView",
            "description_width": ""
          }
        },
        "1547d06f11da44cf965b94ec6f774812": {
          "model_module": "@jupyter-widgets/controls",
          "model_module_version": "1.5.0",
          "model_name": "DescriptionStyleModel",
          "state": {
            "_model_module": "@jupyter-widgets/controls",
            "_model_module_version": "1.5.0",
            "_model_name": "DescriptionStyleModel",
            "_view_count": null,
            "_view_module": "@jupyter-widgets/base",
            "_view_module_version": "1.2.0",
            "_view_name": "StyleView",
            "description_width": ""
          }
        },
        "15f6af81e08f47899fd01174b9474413": {
          "model_module": "@jupyter-widgets/controls",
          "model_module_version": "1.5.0",
          "model_name": "DescriptionStyleModel",
          "state": {
            "_model_module": "@jupyter-widgets/controls",
            "_model_module_version": "1.5.0",
            "_model_name": "DescriptionStyleModel",
            "_view_count": null,
            "_view_module": "@jupyter-widgets/base",
            "_view_module_version": "1.2.0",
            "_view_name": "StyleView",
            "description_width": ""
          }
        },
        "163a7ecc66ff400b9760d9403e68ae39": {
          "model_module": "@jupyter-widgets/controls",
          "model_module_version": "1.5.0",
          "model_name": "DescriptionStyleModel",
          "state": {
            "_model_module": "@jupyter-widgets/controls",
            "_model_module_version": "1.5.0",
            "_model_name": "DescriptionStyleModel",
            "_view_count": null,
            "_view_module": "@jupyter-widgets/base",
            "_view_module_version": "1.2.0",
            "_view_name": "StyleView",
            "description_width": ""
          }
        },
        "18cd883d7b8a4929929c1ba5c5222762": {
          "model_module": "@jupyter-widgets/base",
          "model_module_version": "1.2.0",
          "model_name": "LayoutModel",
          "state": {
            "_model_module": "@jupyter-widgets/base",
            "_model_module_version": "1.2.0",
            "_model_name": "LayoutModel",
            "_view_count": null,
            "_view_module": "@jupyter-widgets/base",
            "_view_module_version": "1.2.0",
            "_view_name": "LayoutView",
            "align_content": null,
            "align_items": null,
            "align_self": null,
            "border": null,
            "bottom": null,
            "display": null,
            "flex": null,
            "flex_flow": null,
            "grid_area": null,
            "grid_auto_columns": null,
            "grid_auto_flow": null,
            "grid_auto_rows": null,
            "grid_column": null,
            "grid_gap": null,
            "grid_row": null,
            "grid_template_areas": null,
            "grid_template_columns": null,
            "grid_template_rows": null,
            "height": null,
            "justify_content": null,
            "justify_items": null,
            "left": null,
            "margin": null,
            "max_height": null,
            "max_width": null,
            "min_height": null,
            "min_width": null,
            "object_fit": null,
            "object_position": null,
            "order": null,
            "overflow": null,
            "overflow_x": null,
            "overflow_y": null,
            "padding": null,
            "right": null,
            "top": null,
            "visibility": null,
            "width": null
          }
        },
        "19c3694fece746c2934f72201cefb506": {
          "model_module": "@jupyter-widgets/base",
          "model_module_version": "1.2.0",
          "model_name": "LayoutModel",
          "state": {
            "_model_module": "@jupyter-widgets/base",
            "_model_module_version": "1.2.0",
            "_model_name": "LayoutModel",
            "_view_count": null,
            "_view_module": "@jupyter-widgets/base",
            "_view_module_version": "1.2.0",
            "_view_name": "LayoutView",
            "align_content": null,
            "align_items": null,
            "align_self": null,
            "border": null,
            "bottom": null,
            "display": null,
            "flex": null,
            "flex_flow": null,
            "grid_area": null,
            "grid_auto_columns": null,
            "grid_auto_flow": null,
            "grid_auto_rows": null,
            "grid_column": null,
            "grid_gap": null,
            "grid_row": null,
            "grid_template_areas": null,
            "grid_template_columns": null,
            "grid_template_rows": null,
            "height": null,
            "justify_content": null,
            "justify_items": null,
            "left": null,
            "margin": null,
            "max_height": null,
            "max_width": null,
            "min_height": null,
            "min_width": null,
            "object_fit": null,
            "object_position": null,
            "order": null,
            "overflow": null,
            "overflow_x": null,
            "overflow_y": null,
            "padding": null,
            "right": null,
            "top": null,
            "visibility": null,
            "width": null
          }
        },
        "19d4f1d1bdf84d5c8b3cc8f2da15e311": {
          "model_module": "@jupyter-widgets/controls",
          "model_module_version": "1.5.0",
          "model_name": "ProgressStyleModel",
          "state": {
            "_model_module": "@jupyter-widgets/controls",
            "_model_module_version": "1.5.0",
            "_model_name": "ProgressStyleModel",
            "_view_count": null,
            "_view_module": "@jupyter-widgets/base",
            "_view_module_version": "1.2.0",
            "_view_name": "StyleView",
            "bar_color": null,
            "description_width": ""
          }
        },
        "1b62268cc52b404dafb5b0f7cc2b8e4d": {
          "model_module": "@jupyter-widgets/controls",
          "model_module_version": "1.5.0",
          "model_name": "ProgressStyleModel",
          "state": {
            "_model_module": "@jupyter-widgets/controls",
            "_model_module_version": "1.5.0",
            "_model_name": "ProgressStyleModel",
            "_view_count": null,
            "_view_module": "@jupyter-widgets/base",
            "_view_module_version": "1.2.0",
            "_view_name": "StyleView",
            "bar_color": null,
            "description_width": ""
          }
        },
        "22586e2a368148e9846d1555b532bf2d": {
          "model_module": "@jupyter-widgets/controls",
          "model_module_version": "1.5.0",
          "model_name": "DescriptionStyleModel",
          "state": {
            "_model_module": "@jupyter-widgets/controls",
            "_model_module_version": "1.5.0",
            "_model_name": "DescriptionStyleModel",
            "_view_count": null,
            "_view_module": "@jupyter-widgets/base",
            "_view_module_version": "1.2.0",
            "_view_name": "StyleView",
            "description_width": ""
          }
        },
        "24f5b4649a224a4f9451076b6887c421": {
          "model_module": "@jupyter-widgets/controls",
          "model_module_version": "1.5.0",
          "model_name": "DescriptionStyleModel",
          "state": {
            "_model_module": "@jupyter-widgets/controls",
            "_model_module_version": "1.5.0",
            "_model_name": "DescriptionStyleModel",
            "_view_count": null,
            "_view_module": "@jupyter-widgets/base",
            "_view_module_version": "1.2.0",
            "_view_name": "StyleView",
            "description_width": ""
          }
        },
        "292889d6ed284d02a5001fcc2baafd3e": {
          "model_module": "@jupyter-widgets/controls",
          "model_module_version": "1.5.0",
          "model_name": "HTMLModel",
          "state": {
            "_dom_classes": [],
            "_model_module": "@jupyter-widgets/controls",
            "_model_module_version": "1.5.0",
            "_model_name": "HTMLModel",
            "_view_count": null,
            "_view_module": "@jupyter-widgets/controls",
            "_view_module_version": "1.5.0",
            "_view_name": "HTMLView",
            "description": "",
            "description_tooltip": null,
            "layout": "IPY_MODEL_a5497630ac6b4ee7af2877d383da2e6d",
            "placeholder": "​",
            "style": "IPY_MODEL_629e553d2e654a85b411c769dd1761fa",
            "value": "Downloading builder script: 100%"
          }
        },
        "2e0b2e5aac4e4318b2793051b7cb8b40": {
          "model_module": "@jupyter-widgets/base",
          "model_module_version": "1.2.0",
          "model_name": "LayoutModel",
          "state": {
            "_model_module": "@jupyter-widgets/base",
            "_model_module_version": "1.2.0",
            "_model_name": "LayoutModel",
            "_view_count": null,
            "_view_module": "@jupyter-widgets/base",
            "_view_module_version": "1.2.0",
            "_view_name": "LayoutView",
            "align_content": null,
            "align_items": null,
            "align_self": null,
            "border": null,
            "bottom": null,
            "display": null,
            "flex": null,
            "flex_flow": null,
            "grid_area": null,
            "grid_auto_columns": null,
            "grid_auto_flow": null,
            "grid_auto_rows": null,
            "grid_column": null,
            "grid_gap": null,
            "grid_row": null,
            "grid_template_areas": null,
            "grid_template_columns": null,
            "grid_template_rows": null,
            "height": null,
            "justify_content": null,
            "justify_items": null,
            "left": null,
            "margin": null,
            "max_height": null,
            "max_width": null,
            "min_height": null,
            "min_width": null,
            "object_fit": null,
            "object_position": null,
            "order": null,
            "overflow": null,
            "overflow_x": null,
            "overflow_y": null,
            "padding": null,
            "right": null,
            "top": null,
            "visibility": null,
            "width": null
          }
        },
        "3378ad69b01e443582398e5f60b6cf1e": {
          "model_module": "@jupyter-widgets/base",
          "model_module_version": "1.2.0",
          "model_name": "LayoutModel",
          "state": {
            "_model_module": "@jupyter-widgets/base",
            "_model_module_version": "1.2.0",
            "_model_name": "LayoutModel",
            "_view_count": null,
            "_view_module": "@jupyter-widgets/base",
            "_view_module_version": "1.2.0",
            "_view_name": "LayoutView",
            "align_content": null,
            "align_items": null,
            "align_self": null,
            "border": null,
            "bottom": null,
            "display": null,
            "flex": null,
            "flex_flow": null,
            "grid_area": null,
            "grid_auto_columns": null,
            "grid_auto_flow": null,
            "grid_auto_rows": null,
            "grid_column": null,
            "grid_gap": null,
            "grid_row": null,
            "grid_template_areas": null,
            "grid_template_columns": null,
            "grid_template_rows": null,
            "height": null,
            "justify_content": null,
            "justify_items": null,
            "left": null,
            "margin": null,
            "max_height": null,
            "max_width": null,
            "min_height": null,
            "min_width": null,
            "object_fit": null,
            "object_position": null,
            "order": null,
            "overflow": null,
            "overflow_x": null,
            "overflow_y": null,
            "padding": null,
            "right": null,
            "top": null,
            "visibility": null,
            "width": null
          }
        },
        "339c90a79422479f98645e22f52178b3": {
          "model_module": "@jupyter-widgets/controls",
          "model_module_version": "1.5.0",
          "model_name": "HTMLModel",
          "state": {
            "_dom_classes": [],
            "_model_module": "@jupyter-widgets/controls",
            "_model_module_version": "1.5.0",
            "_model_name": "HTMLModel",
            "_view_count": null,
            "_view_module": "@jupyter-widgets/controls",
            "_view_module_version": "1.5.0",
            "_view_name": "HTMLView",
            "description": "",
            "description_tooltip": null,
            "layout": "IPY_MODEL_654c67ee10614263b9ba8ce4bbcff748",
            "placeholder": "​",
            "style": "IPY_MODEL_3b4faa9969194c73bb55c4a2c3013af2",
            "value": " 8549/8549 [00:06&lt;00:00, 1353.61 examples/s]"
          }
        },
        "35561d2c18d0404ba420e5b86d4503a5": {
          "model_module": "@jupyter-widgets/controls",
          "model_module_version": "1.5.0",
          "model_name": "HBoxModel",
          "state": {
            "_dom_classes": [],
            "_model_module": "@jupyter-widgets/controls",
            "_model_module_version": "1.5.0",
            "_model_name": "HBoxModel",
            "_view_count": null,
            "_view_module": "@jupyter-widgets/controls",
            "_view_module_version": "1.5.0",
            "_view_name": "HBoxView",
            "box_style": "",
            "children": [
              "IPY_MODEL_3eb1d995feee4861bd56f6ff475db4c7",
              "IPY_MODEL_fb56946b691f4599a1fe42fac7135dd1",
              "IPY_MODEL_aed5e637da404676a0c50d9a26b4b5da"
            ],
            "layout": "IPY_MODEL_cf9dcd0a718e4f00a86d976c76f168cd"
          }
        },
        "377d52fe7092431885ebd45172bb5e77": {
          "model_module": "@jupyter-widgets/controls",
          "model_module_version": "1.5.0",
          "model_name": "HBoxModel",
          "state": {
            "_dom_classes": [],
            "_model_module": "@jupyter-widgets/controls",
            "_model_module_version": "1.5.0",
            "_model_name": "HBoxModel",
            "_view_count": null,
            "_view_module": "@jupyter-widgets/controls",
            "_view_module_version": "1.5.0",
            "_view_name": "HBoxView",
            "box_style": "",
            "children": [
              "IPY_MODEL_c4b24a83e91f4bc6b3dd25ee514a5ec8",
              "IPY_MODEL_d669d087238c4ddab866cefbd213b199",
              "IPY_MODEL_b3b4a59dee3b4bb4ba4af9fd8b5de3d5"
            ],
            "layout": "IPY_MODEL_f460800953d4426a8ed76751bad8f063"
          }
        },
        "38acca18a3c14020a3ba86c27436834e": {
          "model_module": "@jupyter-widgets/controls",
          "model_module_version": "1.5.0",
          "model_name": "FloatProgressModel",
          "state": {
            "_dom_classes": [],
            "_model_module": "@jupyter-widgets/controls",
            "_model_module_version": "1.5.0",
            "_model_name": "FloatProgressModel",
            "_view_count": null,
            "_view_module": "@jupyter-widgets/controls",
            "_view_module_version": "1.5.0",
            "_view_name": "ProgressView",
            "bar_style": "success",
            "description": "",
            "description_tooltip": null,
            "layout": "IPY_MODEL_4f59f817745d4eb780c4bb98bf1f6202",
            "max": 8146,
            "min": 0,
            "orientation": "horizontal",
            "style": "IPY_MODEL_7d2ed8c4c5af4f12a449e39f29db4b52",
            "value": 8146
          }
        },
        "394afa901cb5416d964ddd62f91374f0": {
          "model_module": "@jupyter-widgets/controls",
          "model_module_version": "1.5.0",
          "model_name": "FloatProgressModel",
          "state": {
            "_dom_classes": [],
            "_model_module": "@jupyter-widgets/controls",
            "_model_module_version": "1.5.0",
            "_model_name": "FloatProgressModel",
            "_view_count": null,
            "_view_module": "@jupyter-widgets/controls",
            "_view_module_version": "1.5.0",
            "_view_name": "ProgressView",
            "bar_style": "success",
            "description": "",
            "description_tooltip": null,
            "layout": "IPY_MODEL_a69aa7c1494d44f7b46e1b7096cec20b",
            "max": 8146,
            "min": 0,
            "orientation": "horizontal",
            "style": "IPY_MODEL_d83efb0c1a534706a5e62c2a02353ea5",
            "value": 8146
          }
        },
        "3b4faa9969194c73bb55c4a2c3013af2": {
          "model_module": "@jupyter-widgets/controls",
          "model_module_version": "1.5.0",
          "model_name": "DescriptionStyleModel",
          "state": {
            "_model_module": "@jupyter-widgets/controls",
            "_model_module_version": "1.5.0",
            "_model_name": "DescriptionStyleModel",
            "_view_count": null,
            "_view_module": "@jupyter-widgets/base",
            "_view_module_version": "1.2.0",
            "_view_name": "StyleView",
            "description_width": ""
          }
        },
        "3b54589e91ae44e6a7c0e15f71b91437": {
          "model_module": "@jupyter-widgets/controls",
          "model_module_version": "1.5.0",
          "model_name": "HTMLModel",
          "state": {
            "_dom_classes": [],
            "_model_module": "@jupyter-widgets/controls",
            "_model_module_version": "1.5.0",
            "_model_name": "HTMLModel",
            "_view_count": null,
            "_view_module": "@jupyter-widgets/controls",
            "_view_module_version": "1.5.0",
            "_view_name": "HTMLView",
            "description": "",
            "description_tooltip": null,
            "layout": "IPY_MODEL_59ae9179f7074124965aa4a252d7e4aa",
            "placeholder": "​",
            "style": "IPY_MODEL_424722bf5aa1410dbaed4adfb054f641",
            "value": "vocab.txt: 100%"
          }
        },
        "3ba8c812fb56474b8e7902a994ab97a1": {
          "model_module": "@jupyter-widgets/base",
          "model_module_version": "1.2.0",
          "model_name": "LayoutModel",
          "state": {
            "_model_module": "@jupyter-widgets/base",
            "_model_module_version": "1.2.0",
            "_model_name": "LayoutModel",
            "_view_count": null,
            "_view_module": "@jupyter-widgets/base",
            "_view_module_version": "1.2.0",
            "_view_name": "LayoutView",
            "align_content": null,
            "align_items": null,
            "align_self": null,
            "border": null,
            "bottom": null,
            "display": null,
            "flex": null,
            "flex_flow": null,
            "grid_area": null,
            "grid_auto_columns": null,
            "grid_auto_flow": null,
            "grid_auto_rows": null,
            "grid_column": null,
            "grid_gap": null,
            "grid_row": null,
            "grid_template_areas": null,
            "grid_template_columns": null,
            "grid_template_rows": null,
            "height": null,
            "justify_content": null,
            "justify_items": null,
            "left": null,
            "margin": null,
            "max_height": null,
            "max_width": null,
            "min_height": null,
            "min_width": null,
            "object_fit": null,
            "object_position": null,
            "order": null,
            "overflow": null,
            "overflow_x": null,
            "overflow_y": null,
            "padding": null,
            "right": null,
            "top": null,
            "visibility": null,
            "width": null
          }
        },
        "3c59cbe2503f4f4fa7fa02ce867c3541": {
          "model_module": "@jupyter-widgets/base",
          "model_module_version": "1.2.0",
          "model_name": "LayoutModel",
          "state": {
            "_model_module": "@jupyter-widgets/base",
            "_model_module_version": "1.2.0",
            "_model_name": "LayoutModel",
            "_view_count": null,
            "_view_module": "@jupyter-widgets/base",
            "_view_module_version": "1.2.0",
            "_view_name": "LayoutView",
            "align_content": null,
            "align_items": null,
            "align_self": null,
            "border": null,
            "bottom": null,
            "display": null,
            "flex": null,
            "flex_flow": null,
            "grid_area": null,
            "grid_auto_columns": null,
            "grid_auto_flow": null,
            "grid_auto_rows": null,
            "grid_column": null,
            "grid_gap": null,
            "grid_row": null,
            "grid_template_areas": null,
            "grid_template_columns": null,
            "grid_template_rows": null,
            "height": null,
            "justify_content": null,
            "justify_items": null,
            "left": null,
            "margin": null,
            "max_height": null,
            "max_width": null,
            "min_height": null,
            "min_width": null,
            "object_fit": null,
            "object_position": null,
            "order": null,
            "overflow": null,
            "overflow_x": null,
            "overflow_y": null,
            "padding": null,
            "right": null,
            "top": null,
            "visibility": null,
            "width": null
          }
        },
        "3e16b6c308e841ff938f0dedf325ba1d": {
          "model_module": "@jupyter-widgets/controls",
          "model_module_version": "1.5.0",
          "model_name": "DescriptionStyleModel",
          "state": {
            "_model_module": "@jupyter-widgets/controls",
            "_model_module_version": "1.5.0",
            "_model_name": "DescriptionStyleModel",
            "_view_count": null,
            "_view_module": "@jupyter-widgets/base",
            "_view_module_version": "1.2.0",
            "_view_name": "StyleView",
            "description_width": ""
          }
        },
        "3eb1d995feee4861bd56f6ff475db4c7": {
          "model_module": "@jupyter-widgets/controls",
          "model_module_version": "1.5.0",
          "model_name": "HTMLModel",
          "state": {
            "_dom_classes": [],
            "_model_module": "@jupyter-widgets/controls",
            "_model_module_version": "1.5.0",
            "_model_name": "HTMLModel",
            "_view_count": null,
            "_view_module": "@jupyter-widgets/controls",
            "_view_module_version": "1.5.0",
            "_view_name": "HTMLView",
            "description": "",
            "description_tooltip": null,
            "layout": "IPY_MODEL_3378ad69b01e443582398e5f60b6cf1e",
            "placeholder": "​",
            "style": "IPY_MODEL_1547d06f11da44cf965b94ec6f774812",
            "value": "config.json: 100%"
          }
        },
        "424722bf5aa1410dbaed4adfb054f641": {
          "model_module": "@jupyter-widgets/controls",
          "model_module_version": "1.5.0",
          "model_name": "DescriptionStyleModel",
          "state": {
            "_model_module": "@jupyter-widgets/controls",
            "_model_module_version": "1.5.0",
            "_model_name": "DescriptionStyleModel",
            "_view_count": null,
            "_view_module": "@jupyter-widgets/base",
            "_view_module_version": "1.2.0",
            "_view_name": "StyleView",
            "description_width": ""
          }
        },
        "4622dc6623104ff384bd7860f0dae885": {
          "model_module": "@jupyter-widgets/controls",
          "model_module_version": "1.5.0",
          "model_name": "HBoxModel",
          "state": {
            "_dom_classes": [],
            "_model_module": "@jupyter-widgets/controls",
            "_model_module_version": "1.5.0",
            "_model_name": "HBoxModel",
            "_view_count": null,
            "_view_module": "@jupyter-widgets/controls",
            "_view_module_version": "1.5.0",
            "_view_name": "HBoxView",
            "box_style": "",
            "children": [
              "IPY_MODEL_3b54589e91ae44e6a7c0e15f71b91437",
              "IPY_MODEL_95bd7099a06041f3b6e7b0334f1a7d22",
              "IPY_MODEL_04f5a8dcc52046ddbdfdf071f6f79d99"
            ],
            "layout": "IPY_MODEL_8ddcb285a2cc4ff6b90f8b7c889191d8"
          }
        },
        "4897c1d05d4a4c4a91742959aa2deb87": {
          "model_module": "@jupyter-widgets/controls",
          "model_module_version": "1.5.0",
          "model_name": "HTMLModel",
          "state": {
            "_dom_classes": [],
            "_model_module": "@jupyter-widgets/controls",
            "_model_module_version": "1.5.0",
            "_model_name": "HTMLModel",
            "_view_count": null,
            "_view_module": "@jupyter-widgets/controls",
            "_view_module_version": "1.5.0",
            "_view_name": "HTMLView",
            "description": "",
            "description_tooltip": null,
            "layout": "IPY_MODEL_18cd883d7b8a4929929c1ba5c5222762",
            "placeholder": "​",
            "style": "IPY_MODEL_103ec7894ff74c869ff2d760062aeebf",
            "value": "tokenizer_config.json: 100%"
          }
        },
        "496949cc34ee41b1a5eb0c5741da6749": {
          "model_module": "@jupyter-widgets/controls",
          "model_module_version": "1.5.0",
          "model_name": "FloatProgressModel",
          "state": {
            "_dom_classes": [],
            "_model_module": "@jupyter-widgets/controls",
            "_model_module_version": "1.5.0",
            "_model_name": "FloatProgressModel",
            "_view_count": null,
            "_view_module": "@jupyter-widgets/controls",
            "_view_module_version": "1.5.0",
            "_view_name": "ProgressView",
            "bar_style": "success",
            "description": "",
            "description_tooltip": null,
            "layout": "IPY_MODEL_a4472159492345309fad4f3553fc0cf9",
            "max": 48,
            "min": 0,
            "orientation": "horizontal",
            "style": "IPY_MODEL_4a8d7ee4bd5646ab8197a481b6c0933e",
            "value": 48
          }
        },
        "4a7020ab92c448c28b4c8a35eedea92c": {
          "model_module": "@jupyter-widgets/base",
          "model_module_version": "1.2.0",
          "model_name": "LayoutModel",
          "state": {
            "_model_module": "@jupyter-widgets/base",
            "_model_module_version": "1.2.0",
            "_model_name": "LayoutModel",
            "_view_count": null,
            "_view_module": "@jupyter-widgets/base",
            "_view_module_version": "1.2.0",
            "_view_name": "LayoutView",
            "align_content": null,
            "align_items": null,
            "align_self": null,
            "border": null,
            "bottom": null,
            "display": null,
            "flex": null,
            "flex_flow": null,
            "grid_area": null,
            "grid_auto_columns": null,
            "grid_auto_flow": null,
            "grid_auto_rows": null,
            "grid_column": null,
            "grid_gap": null,
            "grid_row": null,
            "grid_template_areas": null,
            "grid_template_columns": null,
            "grid_template_rows": null,
            "height": null,
            "justify_content": null,
            "justify_items": null,
            "left": null,
            "margin": null,
            "max_height": null,
            "max_width": null,
            "min_height": null,
            "min_width": null,
            "object_fit": null,
            "object_position": null,
            "order": null,
            "overflow": null,
            "overflow_x": null,
            "overflow_y": null,
            "padding": null,
            "right": null,
            "top": null,
            "visibility": null,
            "width": null
          }
        },
        "4a8d7ee4bd5646ab8197a481b6c0933e": {
          "model_module": "@jupyter-widgets/controls",
          "model_module_version": "1.5.0",
          "model_name": "ProgressStyleModel",
          "state": {
            "_model_module": "@jupyter-widgets/controls",
            "_model_module_version": "1.5.0",
            "_model_name": "ProgressStyleModel",
            "_view_count": null,
            "_view_module": "@jupyter-widgets/base",
            "_view_module_version": "1.2.0",
            "_view_name": "StyleView",
            "bar_color": null,
            "description_width": ""
          }
        },
        "4def0ff89a9b44bca06d67449366b0ed": {
          "model_module": "@jupyter-widgets/base",
          "model_module_version": "1.2.0",
          "model_name": "LayoutModel",
          "state": {
            "_model_module": "@jupyter-widgets/base",
            "_model_module_version": "1.2.0",
            "_model_name": "LayoutModel",
            "_view_count": null,
            "_view_module": "@jupyter-widgets/base",
            "_view_module_version": "1.2.0",
            "_view_name": "LayoutView",
            "align_content": null,
            "align_items": null,
            "align_self": null,
            "border": null,
            "bottom": null,
            "display": null,
            "flex": null,
            "flex_flow": null,
            "grid_area": null,
            "grid_auto_columns": null,
            "grid_auto_flow": null,
            "grid_auto_rows": null,
            "grid_column": null,
            "grid_gap": null,
            "grid_row": null,
            "grid_template_areas": null,
            "grid_template_columns": null,
            "grid_template_rows": null,
            "height": null,
            "justify_content": null,
            "justify_items": null,
            "left": null,
            "margin": null,
            "max_height": null,
            "max_width": null,
            "min_height": null,
            "min_width": null,
            "object_fit": null,
            "object_position": null,
            "order": null,
            "overflow": null,
            "overflow_x": null,
            "overflow_y": null,
            "padding": null,
            "right": null,
            "top": null,
            "visibility": null,
            "width": null
          }
        },
        "4f59f817745d4eb780c4bb98bf1f6202": {
          "model_module": "@jupyter-widgets/base",
          "model_module_version": "1.2.0",
          "model_name": "LayoutModel",
          "state": {
            "_model_module": "@jupyter-widgets/base",
            "_model_module_version": "1.2.0",
            "_model_name": "LayoutModel",
            "_view_count": null,
            "_view_module": "@jupyter-widgets/base",
            "_view_module_version": "1.2.0",
            "_view_name": "LayoutView",
            "align_content": null,
            "align_items": null,
            "align_self": null,
            "border": null,
            "bottom": null,
            "display": null,
            "flex": null,
            "flex_flow": null,
            "grid_area": null,
            "grid_auto_columns": null,
            "grid_auto_flow": null,
            "grid_auto_rows": null,
            "grid_column": null,
            "grid_gap": null,
            "grid_row": null,
            "grid_template_areas": null,
            "grid_template_columns": null,
            "grid_template_rows": null,
            "height": null,
            "justify_content": null,
            "justify_items": null,
            "left": null,
            "margin": null,
            "max_height": null,
            "max_width": null,
            "min_height": null,
            "min_width": null,
            "object_fit": null,
            "object_position": null,
            "order": null,
            "overflow": null,
            "overflow_x": null,
            "overflow_y": null,
            "padding": null,
            "right": null,
            "top": null,
            "visibility": null,
            "width": null
          }
        },
        "511cf6eed565449195925224eed00981": {
          "model_module": "@jupyter-widgets/controls",
          "model_module_version": "1.5.0",
          "model_name": "HTMLModel",
          "state": {
            "_dom_classes": [],
            "_model_module": "@jupyter-widgets/controls",
            "_model_module_version": "1.5.0",
            "_model_name": "HTMLModel",
            "_view_count": null,
            "_view_module": "@jupyter-widgets/controls",
            "_view_module_version": "1.5.0",
            "_view_name": "HTMLView",
            "description": "",
            "description_tooltip": null,
            "layout": "IPY_MODEL_f06b690169a147ba94a0e0e71c936e33",
            "placeholder": "​",
            "style": "IPY_MODEL_163a7ecc66ff400b9760d9403e68ae39",
            "value": "Map: 100%"
          }
        },
        "54a5c501f4874be7911eeb164b130503": {
          "model_module": "@jupyter-widgets/base",
          "model_module_version": "1.2.0",
          "model_name": "LayoutModel",
          "state": {
            "_model_module": "@jupyter-widgets/base",
            "_model_module_version": "1.2.0",
            "_model_name": "LayoutModel",
            "_view_count": null,
            "_view_module": "@jupyter-widgets/base",
            "_view_module_version": "1.2.0",
            "_view_name": "LayoutView",
            "align_content": null,
            "align_items": null,
            "align_self": null,
            "border": null,
            "bottom": null,
            "display": null,
            "flex": null,
            "flex_flow": null,
            "grid_area": null,
            "grid_auto_columns": null,
            "grid_auto_flow": null,
            "grid_auto_rows": null,
            "grid_column": null,
            "grid_gap": null,
            "grid_row": null,
            "grid_template_areas": null,
            "grid_template_columns": null,
            "grid_template_rows": null,
            "height": null,
            "justify_content": null,
            "justify_items": null,
            "left": null,
            "margin": null,
            "max_height": null,
            "max_width": null,
            "min_height": null,
            "min_width": null,
            "object_fit": null,
            "object_position": null,
            "order": null,
            "overflow": null,
            "overflow_x": null,
            "overflow_y": null,
            "padding": null,
            "right": null,
            "top": null,
            "visibility": null,
            "width": null
          }
        },
        "5838977f295549679bc6031b17cdc163": {
          "model_module": "@jupyter-widgets/controls",
          "model_module_version": "1.5.0",
          "model_name": "HBoxModel",
          "state": {
            "_dom_classes": [],
            "_model_module": "@jupyter-widgets/controls",
            "_model_module_version": "1.5.0",
            "_model_name": "HBoxModel",
            "_view_count": null,
            "_view_module": "@jupyter-widgets/controls",
            "_view_module_version": "1.5.0",
            "_view_name": "HBoxView",
            "box_style": "",
            "children": [
              "IPY_MODEL_71249197ae10431f853866a5ad3c7b22",
              "IPY_MODEL_38acca18a3c14020a3ba86c27436834e",
              "IPY_MODEL_87f2d1fd73cc46689730b01c53902844"
            ],
            "layout": "IPY_MODEL_da1d59c6c2e7493ea2006c67e3801058"
          }
        },
        "59ae9179f7074124965aa4a252d7e4aa": {
          "model_module": "@jupyter-widgets/base",
          "model_module_version": "1.2.0",
          "model_name": "LayoutModel",
          "state": {
            "_model_module": "@jupyter-widgets/base",
            "_model_module_version": "1.2.0",
            "_model_name": "LayoutModel",
            "_view_count": null,
            "_view_module": "@jupyter-widgets/base",
            "_view_module_version": "1.2.0",
            "_view_name": "LayoutView",
            "align_content": null,
            "align_items": null,
            "align_self": null,
            "border": null,
            "bottom": null,
            "display": null,
            "flex": null,
            "flex_flow": null,
            "grid_area": null,
            "grid_auto_columns": null,
            "grid_auto_flow": null,
            "grid_auto_rows": null,
            "grid_column": null,
            "grid_gap": null,
            "grid_row": null,
            "grid_template_areas": null,
            "grid_template_columns": null,
            "grid_template_rows": null,
            "height": null,
            "justify_content": null,
            "justify_items": null,
            "left": null,
            "margin": null,
            "max_height": null,
            "max_width": null,
            "min_height": null,
            "min_width": null,
            "object_fit": null,
            "object_position": null,
            "order": null,
            "overflow": null,
            "overflow_x": null,
            "overflow_y": null,
            "padding": null,
            "right": null,
            "top": null,
            "visibility": null,
            "width": null
          }
        },
        "5b81e8fb629a410ebf3faee33bf07b8e": {
          "model_module": "@jupyter-widgets/controls",
          "model_module_version": "1.5.0",
          "model_name": "HTMLModel",
          "state": {
            "_dom_classes": [],
            "_model_module": "@jupyter-widgets/controls",
            "_model_module_version": "1.5.0",
            "_model_name": "HTMLModel",
            "_view_count": null,
            "_view_module": "@jupyter-widgets/controls",
            "_view_module_version": "1.5.0",
            "_view_name": "HTMLView",
            "description": "",
            "description_tooltip": null,
            "layout": "IPY_MODEL_2e0b2e5aac4e4318b2793051b7cb8b40",
            "placeholder": "​",
            "style": "IPY_MODEL_22586e2a368148e9846d1555b532bf2d",
            "value": "tokenizer.json: 100%"
          }
        },
        "629e553d2e654a85b411c769dd1761fa": {
          "model_module": "@jupyter-widgets/controls",
          "model_module_version": "1.5.0",
          "model_name": "DescriptionStyleModel",
          "state": {
            "_model_module": "@jupyter-widgets/controls",
            "_model_module_version": "1.5.0",
            "_model_name": "DescriptionStyleModel",
            "_view_count": null,
            "_view_module": "@jupyter-widgets/base",
            "_view_module_version": "1.2.0",
            "_view_name": "StyleView",
            "description_width": ""
          }
        },
        "654c67ee10614263b9ba8ce4bbcff748": {
          "model_module": "@jupyter-widgets/base",
          "model_module_version": "1.2.0",
          "model_name": "LayoutModel",
          "state": {
            "_model_module": "@jupyter-widgets/base",
            "_model_module_version": "1.2.0",
            "_model_name": "LayoutModel",
            "_view_count": null,
            "_view_module": "@jupyter-widgets/base",
            "_view_module_version": "1.2.0",
            "_view_name": "LayoutView",
            "align_content": null,
            "align_items": null,
            "align_self": null,
            "border": null,
            "bottom": null,
            "display": null,
            "flex": null,
            "flex_flow": null,
            "grid_area": null,
            "grid_auto_columns": null,
            "grid_auto_flow": null,
            "grid_auto_rows": null,
            "grid_column": null,
            "grid_gap": null,
            "grid_row": null,
            "grid_template_areas": null,
            "grid_template_columns": null,
            "grid_template_rows": null,
            "height": null,
            "justify_content": null,
            "justify_items": null,
            "left": null,
            "margin": null,
            "max_height": null,
            "max_width": null,
            "min_height": null,
            "min_width": null,
            "object_fit": null,
            "object_position": null,
            "order": null,
            "overflow": null,
            "overflow_x": null,
            "overflow_y": null,
            "padding": null,
            "right": null,
            "top": null,
            "visibility": null,
            "width": null
          }
        },
        "66bf2573e99a4e7ca8d1cfdfb53a4513": {
          "model_module": "@jupyter-widgets/base",
          "model_module_version": "1.2.0",
          "model_name": "LayoutModel",
          "state": {
            "_model_module": "@jupyter-widgets/base",
            "_model_module_version": "1.2.0",
            "_model_name": "LayoutModel",
            "_view_count": null,
            "_view_module": "@jupyter-widgets/base",
            "_view_module_version": "1.2.0",
            "_view_name": "LayoutView",
            "align_content": null,
            "align_items": null,
            "align_self": null,
            "border": null,
            "bottom": null,
            "display": null,
            "flex": null,
            "flex_flow": null,
            "grid_area": null,
            "grid_auto_columns": null,
            "grid_auto_flow": null,
            "grid_auto_rows": null,
            "grid_column": null,
            "grid_gap": null,
            "grid_row": null,
            "grid_template_areas": null,
            "grid_template_columns": null,
            "grid_template_rows": null,
            "height": null,
            "justify_content": null,
            "justify_items": null,
            "left": null,
            "margin": null,
            "max_height": null,
            "max_width": null,
            "min_height": null,
            "min_width": null,
            "object_fit": null,
            "object_position": null,
            "order": null,
            "overflow": null,
            "overflow_x": null,
            "overflow_y": null,
            "padding": null,
            "right": null,
            "top": null,
            "visibility": null,
            "width": null
          }
        },
        "6c323730275e4b459c639505d0a5fdb2": {
          "model_module": "@jupyter-widgets/controls",
          "model_module_version": "1.5.0",
          "model_name": "HTMLModel",
          "state": {
            "_dom_classes": [],
            "_model_module": "@jupyter-widgets/controls",
            "_model_module_version": "1.5.0",
            "_model_name": "HTMLModel",
            "_view_count": null,
            "_view_module": "@jupyter-widgets/controls",
            "_view_module_version": "1.5.0",
            "_view_name": "HTMLView",
            "description": "",
            "description_tooltip": null,
            "layout": "IPY_MODEL_01302abf54bd440ab788a25a53da3eed",
            "placeholder": "​",
            "style": "IPY_MODEL_0f7a9aedbd2a4a0b85656664d1033c42",
            "value": " 8.15k/8.15k [00:00&lt;00:00, 206kB/s]"
          }
        },
        "7116a40bf46443bfab057a5d586795d4": {
          "model_module": "@jupyter-widgets/controls",
          "model_module_version": "1.5.0",
          "model_name": "HTMLModel",
          "state": {
            "_dom_classes": [],
            "_model_module": "@jupyter-widgets/controls",
            "_model_module_version": "1.5.0",
            "_model_name": "HTMLModel",
            "_view_count": null,
            "_view_module": "@jupyter-widgets/controls",
            "_view_module_version": "1.5.0",
            "_view_name": "HTMLView",
            "description": "",
            "description_tooltip": null,
            "layout": "IPY_MODEL_66bf2573e99a4e7ca8d1cfdfb53a4513",
            "placeholder": "​",
            "style": "IPY_MODEL_3e16b6c308e841ff938f0dedf325ba1d",
            "value": " 879/879 [00:01&lt;00:00, 637.09 examples/s]"
          }
        },
        "71249197ae10431f853866a5ad3c7b22": {
          "model_module": "@jupyter-widgets/controls",
          "model_module_version": "1.5.0",
          "model_name": "HTMLModel",
          "state": {
            "_dom_classes": [],
            "_model_module": "@jupyter-widgets/controls",
            "_model_module_version": "1.5.0",
            "_model_name": "HTMLModel",
            "_view_count": null,
            "_view_module": "@jupyter-widgets/controls",
            "_view_module_version": "1.5.0",
            "_view_name": "HTMLView",
            "description": "",
            "description_tooltip": null,
            "layout": "IPY_MODEL_929c877427794ef68d1a6d96eecb1e13",
            "placeholder": "​",
            "style": "IPY_MODEL_ada780a496994d27a64c47f6c525df3e",
            "value": "Downloading builder script: 100%"
          }
        },
        "76ee25dbecc94a24800e45880825ea52": {
          "model_module": "@jupyter-widgets/base",
          "model_module_version": "1.2.0",
          "model_name": "LayoutModel",
          "state": {
            "_model_module": "@jupyter-widgets/base",
            "_model_module_version": "1.2.0",
            "_model_name": "LayoutModel",
            "_view_count": null,
            "_view_module": "@jupyter-widgets/base",
            "_view_module_version": "1.2.0",
            "_view_name": "LayoutView",
            "align_content": null,
            "align_items": null,
            "align_self": null,
            "border": null,
            "bottom": null,
            "display": null,
            "flex": null,
            "flex_flow": null,
            "grid_area": null,
            "grid_auto_columns": null,
            "grid_auto_flow": null,
            "grid_auto_rows": null,
            "grid_column": null,
            "grid_gap": null,
            "grid_row": null,
            "grid_template_areas": null,
            "grid_template_columns": null,
            "grid_template_rows": null,
            "height": null,
            "justify_content": null,
            "justify_items": null,
            "left": null,
            "margin": null,
            "max_height": null,
            "max_width": null,
            "min_height": null,
            "min_width": null,
            "object_fit": null,
            "object_position": null,
            "order": null,
            "overflow": null,
            "overflow_x": null,
            "overflow_y": null,
            "padding": null,
            "right": null,
            "top": null,
            "visibility": null,
            "width": null
          }
        },
        "77be1f24d4284b5dac19527215b30da6": {
          "model_module": "@jupyter-widgets/controls",
          "model_module_version": "1.5.0",
          "model_name": "HBoxModel",
          "state": {
            "_dom_classes": [],
            "_model_module": "@jupyter-widgets/controls",
            "_model_module_version": "1.5.0",
            "_model_name": "HBoxModel",
            "_view_count": null,
            "_view_module": "@jupyter-widgets/controls",
            "_view_module_version": "1.5.0",
            "_view_name": "HBoxView",
            "box_style": "",
            "children": [
              "IPY_MODEL_4897c1d05d4a4c4a91742959aa2deb87",
              "IPY_MODEL_496949cc34ee41b1a5eb0c5741da6749",
              "IPY_MODEL_8572083e7861496c8d334a50588048bb"
            ],
            "layout": "IPY_MODEL_b22d5b931c6949cdac8b5b0e1dd2686b"
          }
        },
        "77fcd79c4d0f4bd3a457e84bfbd08df6": {
          "model_module": "@jupyter-widgets/controls",
          "model_module_version": "1.5.0",
          "model_name": "ProgressStyleModel",
          "state": {
            "_model_module": "@jupyter-widgets/controls",
            "_model_module_version": "1.5.0",
            "_model_name": "ProgressStyleModel",
            "_view_count": null,
            "_view_module": "@jupyter-widgets/base",
            "_view_module_version": "1.2.0",
            "_view_name": "StyleView",
            "bar_color": null,
            "description_width": ""
          }
        },
        "7d2ed8c4c5af4f12a449e39f29db4b52": {
          "model_module": "@jupyter-widgets/controls",
          "model_module_version": "1.5.0",
          "model_name": "ProgressStyleModel",
          "state": {
            "_model_module": "@jupyter-widgets/controls",
            "_model_module_version": "1.5.0",
            "_model_name": "ProgressStyleModel",
            "_view_count": null,
            "_view_module": "@jupyter-widgets/base",
            "_view_module_version": "1.2.0",
            "_view_name": "StyleView",
            "bar_color": null,
            "description_width": ""
          }
        },
        "7e8eead00d0546e3b52870c1af4cf5be": {
          "model_module": "@jupyter-widgets/base",
          "model_module_version": "1.2.0",
          "model_name": "LayoutModel",
          "state": {
            "_model_module": "@jupyter-widgets/base",
            "_model_module_version": "1.2.0",
            "_model_name": "LayoutModel",
            "_view_count": null,
            "_view_module": "@jupyter-widgets/base",
            "_view_module_version": "1.2.0",
            "_view_name": "LayoutView",
            "align_content": null,
            "align_items": null,
            "align_self": null,
            "border": null,
            "bottom": null,
            "display": null,
            "flex": null,
            "flex_flow": null,
            "grid_area": null,
            "grid_auto_columns": null,
            "grid_auto_flow": null,
            "grid_auto_rows": null,
            "grid_column": null,
            "grid_gap": null,
            "grid_row": null,
            "grid_template_areas": null,
            "grid_template_columns": null,
            "grid_template_rows": null,
            "height": null,
            "justify_content": null,
            "justify_items": null,
            "left": null,
            "margin": null,
            "max_height": null,
            "max_width": null,
            "min_height": null,
            "min_width": null,
            "object_fit": null,
            "object_position": null,
            "order": null,
            "overflow": null,
            "overflow_x": null,
            "overflow_y": null,
            "padding": null,
            "right": null,
            "top": null,
            "visibility": null,
            "width": null
          }
        },
        "7fe42adc26da49aa8c10acf1d791e96d": {
          "model_module": "@jupyter-widgets/base",
          "model_module_version": "1.2.0",
          "model_name": "LayoutModel",
          "state": {
            "_model_module": "@jupyter-widgets/base",
            "_model_module_version": "1.2.0",
            "_model_name": "LayoutModel",
            "_view_count": null,
            "_view_module": "@jupyter-widgets/base",
            "_view_module_version": "1.2.0",
            "_view_name": "LayoutView",
            "align_content": null,
            "align_items": null,
            "align_self": null,
            "border": null,
            "bottom": null,
            "display": null,
            "flex": null,
            "flex_flow": null,
            "grid_area": null,
            "grid_auto_columns": null,
            "grid_auto_flow": null,
            "grid_auto_rows": null,
            "grid_column": null,
            "grid_gap": null,
            "grid_row": null,
            "grid_template_areas": null,
            "grid_template_columns": null,
            "grid_template_rows": null,
            "height": null,
            "justify_content": null,
            "justify_items": null,
            "left": null,
            "margin": null,
            "max_height": null,
            "max_width": null,
            "min_height": null,
            "min_width": null,
            "object_fit": null,
            "object_position": null,
            "order": null,
            "overflow": null,
            "overflow_x": null,
            "overflow_y": null,
            "padding": null,
            "right": null,
            "top": null,
            "visibility": null,
            "width": null
          }
        },
        "8436eec4fef24c20960a6ef24bf8f2cf": {
          "model_module": "@jupyter-widgets/base",
          "model_module_version": "1.2.0",
          "model_name": "LayoutModel",
          "state": {
            "_model_module": "@jupyter-widgets/base",
            "_model_module_version": "1.2.0",
            "_model_name": "LayoutModel",
            "_view_count": null,
            "_view_module": "@jupyter-widgets/base",
            "_view_module_version": "1.2.0",
            "_view_name": "LayoutView",
            "align_content": null,
            "align_items": null,
            "align_self": null,
            "border": null,
            "bottom": null,
            "display": null,
            "flex": null,
            "flex_flow": null,
            "grid_area": null,
            "grid_auto_columns": null,
            "grid_auto_flow": null,
            "grid_auto_rows": null,
            "grid_column": null,
            "grid_gap": null,
            "grid_row": null,
            "grid_template_areas": null,
            "grid_template_columns": null,
            "grid_template_rows": null,
            "height": null,
            "justify_content": null,
            "justify_items": null,
            "left": null,
            "margin": null,
            "max_height": null,
            "max_width": null,
            "min_height": null,
            "min_width": null,
            "object_fit": null,
            "object_position": null,
            "order": null,
            "overflow": null,
            "overflow_x": null,
            "overflow_y": null,
            "padding": null,
            "right": null,
            "top": null,
            "visibility": null,
            "width": null
          }
        },
        "84a0cae81c294daf83b4d8981eef7665": {
          "model_module": "@jupyter-widgets/controls",
          "model_module_version": "1.5.0",
          "model_name": "DescriptionStyleModel",
          "state": {
            "_model_module": "@jupyter-widgets/controls",
            "_model_module_version": "1.5.0",
            "_model_name": "DescriptionStyleModel",
            "_view_count": null,
            "_view_module": "@jupyter-widgets/base",
            "_view_module_version": "1.2.0",
            "_view_name": "StyleView",
            "description_width": ""
          }
        },
        "8572083e7861496c8d334a50588048bb": {
          "model_module": "@jupyter-widgets/controls",
          "model_module_version": "1.5.0",
          "model_name": "HTMLModel",
          "state": {
            "_dom_classes": [],
            "_model_module": "@jupyter-widgets/controls",
            "_model_module_version": "1.5.0",
            "_model_name": "HTMLModel",
            "_view_count": null,
            "_view_module": "@jupyter-widgets/controls",
            "_view_module_version": "1.5.0",
            "_view_name": "HTMLView",
            "description": "",
            "description_tooltip": null,
            "layout": "IPY_MODEL_7e8eead00d0546e3b52870c1af4cf5be",
            "placeholder": "​",
            "style": "IPY_MODEL_a31f8ed173944ba09d47c2345cba95c4",
            "value": " 48.0/48.0 [00:00&lt;00:00, 1.87kB/s]"
          }
        },
        "871e53ddaacb4bf59b707aff91ce154b": {
          "model_module": "@jupyter-widgets/controls",
          "model_module_version": "1.5.0",
          "model_name": "HTMLModel",
          "state": {
            "_dom_classes": [],
            "_model_module": "@jupyter-widgets/controls",
            "_model_module_version": "1.5.0",
            "_model_name": "HTMLModel",
            "_view_count": null,
            "_view_module": "@jupyter-widgets/controls",
            "_view_module_version": "1.5.0",
            "_view_name": "HTMLView",
            "description": "",
            "description_tooltip": null,
            "layout": "IPY_MODEL_d639dc9c1c9248939e03ba3c4769307d",
            "placeholder": "​",
            "style": "IPY_MODEL_03521f17508342e8ab81fef6402fbb7c",
            "value": "Map: 100%"
          }
        },
        "87539231695842c99c417def40a11bbb": {
          "model_module": "@jupyter-widgets/base",
          "model_module_version": "1.2.0",
          "model_name": "LayoutModel",
          "state": {
            "_model_module": "@jupyter-widgets/base",
            "_model_module_version": "1.2.0",
            "_model_name": "LayoutModel",
            "_view_count": null,
            "_view_module": "@jupyter-widgets/base",
            "_view_module_version": "1.2.0",
            "_view_name": "LayoutView",
            "align_content": null,
            "align_items": null,
            "align_self": null,
            "border": null,
            "bottom": null,
            "display": null,
            "flex": null,
            "flex_flow": null,
            "grid_area": null,
            "grid_auto_columns": null,
            "grid_auto_flow": null,
            "grid_auto_rows": null,
            "grid_column": null,
            "grid_gap": null,
            "grid_row": null,
            "grid_template_areas": null,
            "grid_template_columns": null,
            "grid_template_rows": null,
            "height": null,
            "justify_content": null,
            "justify_items": null,
            "left": null,
            "margin": null,
            "max_height": null,
            "max_width": null,
            "min_height": null,
            "min_width": null,
            "object_fit": null,
            "object_position": null,
            "order": null,
            "overflow": null,
            "overflow_x": null,
            "overflow_y": null,
            "padding": null,
            "right": null,
            "top": null,
            "visibility": null,
            "width": null
          }
        },
        "87f2d1fd73cc46689730b01c53902844": {
          "model_module": "@jupyter-widgets/controls",
          "model_module_version": "1.5.0",
          "model_name": "HTMLModel",
          "state": {
            "_dom_classes": [],
            "_model_module": "@jupyter-widgets/controls",
            "_model_module_version": "1.5.0",
            "_model_name": "HTMLModel",
            "_view_count": null,
            "_view_module": "@jupyter-widgets/controls",
            "_view_module_version": "1.5.0",
            "_view_name": "HTMLView",
            "description": "",
            "description_tooltip": null,
            "layout": "IPY_MODEL_3ba8c812fb56474b8e7902a994ab97a1",
            "placeholder": "​",
            "style": "IPY_MODEL_15f6af81e08f47899fd01174b9474413",
            "value": " 8.15k/8.15k [00:00&lt;00:00, 538kB/s]"
          }
        },
        "88b3ccf176414ea0bc74dc7917ed94a9": {
          "model_module": "@jupyter-widgets/controls",
          "model_module_version": "1.5.0",
          "model_name": "ProgressStyleModel",
          "state": {
            "_model_module": "@jupyter-widgets/controls",
            "_model_module_version": "1.5.0",
            "_model_name": "ProgressStyleModel",
            "_view_count": null,
            "_view_module": "@jupyter-widgets/base",
            "_view_module_version": "1.2.0",
            "_view_name": "StyleView",
            "bar_color": null,
            "description_width": ""
          }
        },
        "8ddcb285a2cc4ff6b90f8b7c889191d8": {
          "model_module": "@jupyter-widgets/base",
          "model_module_version": "1.2.0",
          "model_name": "LayoutModel",
          "state": {
            "_model_module": "@jupyter-widgets/base",
            "_model_module_version": "1.2.0",
            "_model_name": "LayoutModel",
            "_view_count": null,
            "_view_module": "@jupyter-widgets/base",
            "_view_module_version": "1.2.0",
            "_view_name": "LayoutView",
            "align_content": null,
            "align_items": null,
            "align_self": null,
            "border": null,
            "bottom": null,
            "display": null,
            "flex": null,
            "flex_flow": null,
            "grid_area": null,
            "grid_auto_columns": null,
            "grid_auto_flow": null,
            "grid_auto_rows": null,
            "grid_column": null,
            "grid_gap": null,
            "grid_row": null,
            "grid_template_areas": null,
            "grid_template_columns": null,
            "grid_template_rows": null,
            "height": null,
            "justify_content": null,
            "justify_items": null,
            "left": null,
            "margin": null,
            "max_height": null,
            "max_width": null,
            "min_height": null,
            "min_width": null,
            "object_fit": null,
            "object_position": null,
            "order": null,
            "overflow": null,
            "overflow_x": null,
            "overflow_y": null,
            "padding": null,
            "right": null,
            "top": null,
            "visibility": null,
            "width": null
          }
        },
        "8fd765d67e3840429da107e775a11f5b": {
          "model_module": "@jupyter-widgets/base",
          "model_module_version": "1.2.0",
          "model_name": "LayoutModel",
          "state": {
            "_model_module": "@jupyter-widgets/base",
            "_model_module_version": "1.2.0",
            "_model_name": "LayoutModel",
            "_view_count": null,
            "_view_module": "@jupyter-widgets/base",
            "_view_module_version": "1.2.0",
            "_view_name": "LayoutView",
            "align_content": null,
            "align_items": null,
            "align_self": null,
            "border": null,
            "bottom": null,
            "display": null,
            "flex": null,
            "flex_flow": null,
            "grid_area": null,
            "grid_auto_columns": null,
            "grid_auto_flow": null,
            "grid_auto_rows": null,
            "grid_column": null,
            "grid_gap": null,
            "grid_row": null,
            "grid_template_areas": null,
            "grid_template_columns": null,
            "grid_template_rows": null,
            "height": null,
            "justify_content": null,
            "justify_items": null,
            "left": null,
            "margin": null,
            "max_height": null,
            "max_width": null,
            "min_height": null,
            "min_width": null,
            "object_fit": null,
            "object_position": null,
            "order": null,
            "overflow": null,
            "overflow_x": null,
            "overflow_y": null,
            "padding": null,
            "right": null,
            "top": null,
            "visibility": null,
            "width": null
          }
        },
        "929c877427794ef68d1a6d96eecb1e13": {
          "model_module": "@jupyter-widgets/base",
          "model_module_version": "1.2.0",
          "model_name": "LayoutModel",
          "state": {
            "_model_module": "@jupyter-widgets/base",
            "_model_module_version": "1.2.0",
            "_model_name": "LayoutModel",
            "_view_count": null,
            "_view_module": "@jupyter-widgets/base",
            "_view_module_version": "1.2.0",
            "_view_name": "LayoutView",
            "align_content": null,
            "align_items": null,
            "align_self": null,
            "border": null,
            "bottom": null,
            "display": null,
            "flex": null,
            "flex_flow": null,
            "grid_area": null,
            "grid_auto_columns": null,
            "grid_auto_flow": null,
            "grid_auto_rows": null,
            "grid_column": null,
            "grid_gap": null,
            "grid_row": null,
            "grid_template_areas": null,
            "grid_template_columns": null,
            "grid_template_rows": null,
            "height": null,
            "justify_content": null,
            "justify_items": null,
            "left": null,
            "margin": null,
            "max_height": null,
            "max_width": null,
            "min_height": null,
            "min_width": null,
            "object_fit": null,
            "object_position": null,
            "order": null,
            "overflow": null,
            "overflow_x": null,
            "overflow_y": null,
            "padding": null,
            "right": null,
            "top": null,
            "visibility": null,
            "width": null
          }
        },
        "941884fbfe96455ebc2a19f30e94a9dd": {
          "model_module": "@jupyter-widgets/base",
          "model_module_version": "1.2.0",
          "model_name": "LayoutModel",
          "state": {
            "_model_module": "@jupyter-widgets/base",
            "_model_module_version": "1.2.0",
            "_model_name": "LayoutModel",
            "_view_count": null,
            "_view_module": "@jupyter-widgets/base",
            "_view_module_version": "1.2.0",
            "_view_name": "LayoutView",
            "align_content": null,
            "align_items": null,
            "align_self": null,
            "border": null,
            "bottom": null,
            "display": null,
            "flex": null,
            "flex_flow": null,
            "grid_area": null,
            "grid_auto_columns": null,
            "grid_auto_flow": null,
            "grid_auto_rows": null,
            "grid_column": null,
            "grid_gap": null,
            "grid_row": null,
            "grid_template_areas": null,
            "grid_template_columns": null,
            "grid_template_rows": null,
            "height": null,
            "justify_content": null,
            "justify_items": null,
            "left": null,
            "margin": null,
            "max_height": null,
            "max_width": null,
            "min_height": null,
            "min_width": null,
            "object_fit": null,
            "object_position": null,
            "order": null,
            "overflow": null,
            "overflow_x": null,
            "overflow_y": null,
            "padding": null,
            "right": null,
            "top": null,
            "visibility": null,
            "width": null
          }
        },
        "95bd7099a06041f3b6e7b0334f1a7d22": {
          "model_module": "@jupyter-widgets/controls",
          "model_module_version": "1.5.0",
          "model_name": "FloatProgressModel",
          "state": {
            "_dom_classes": [],
            "_model_module": "@jupyter-widgets/controls",
            "_model_module_version": "1.5.0",
            "_model_name": "FloatProgressModel",
            "_view_count": null,
            "_view_module": "@jupyter-widgets/controls",
            "_view_module_version": "1.5.0",
            "_view_name": "ProgressView",
            "bar_style": "success",
            "description": "",
            "description_tooltip": null,
            "layout": "IPY_MODEL_a7721a668c124a53a471fc6a271fa351",
            "max": 231508,
            "min": 0,
            "orientation": "horizontal",
            "style": "IPY_MODEL_a1bb8844b6464df9822f82186e0a2ffb",
            "value": 231508
          }
        },
        "95fba17d31804fb682d53fd7226cb13b": {
          "model_module": "@jupyter-widgets/controls",
          "model_module_version": "1.5.0",
          "model_name": "HBoxModel",
          "state": {
            "_dom_classes": [],
            "_model_module": "@jupyter-widgets/controls",
            "_model_module_version": "1.5.0",
            "_model_name": "HBoxModel",
            "_view_count": null,
            "_view_module": "@jupyter-widgets/controls",
            "_view_module_version": "1.5.0",
            "_view_name": "HBoxView",
            "box_style": "",
            "children": [
              "IPY_MODEL_871e53ddaacb4bf59b707aff91ce154b",
              "IPY_MODEL_070ffbf9ae234554afa72db591076d81",
              "IPY_MODEL_7116a40bf46443bfab057a5d586795d4"
            ],
            "layout": "IPY_MODEL_eb27c8ac0cef4fd39c0e380e97fa0d05"
          }
        },
        "a1bb8844b6464df9822f82186e0a2ffb": {
          "model_module": "@jupyter-widgets/controls",
          "model_module_version": "1.5.0",
          "model_name": "ProgressStyleModel",
          "state": {
            "_model_module": "@jupyter-widgets/controls",
            "_model_module_version": "1.5.0",
            "_model_name": "ProgressStyleModel",
            "_view_count": null,
            "_view_module": "@jupyter-widgets/base",
            "_view_module_version": "1.2.0",
            "_view_name": "StyleView",
            "bar_color": null,
            "description_width": ""
          }
        },
        "a31f8ed173944ba09d47c2345cba95c4": {
          "model_module": "@jupyter-widgets/controls",
          "model_module_version": "1.5.0",
          "model_name": "DescriptionStyleModel",
          "state": {
            "_model_module": "@jupyter-widgets/controls",
            "_model_module_version": "1.5.0",
            "_model_name": "DescriptionStyleModel",
            "_view_count": null,
            "_view_module": "@jupyter-widgets/base",
            "_view_module_version": "1.2.0",
            "_view_name": "StyleView",
            "description_width": ""
          }
        },
        "a4472159492345309fad4f3553fc0cf9": {
          "model_module": "@jupyter-widgets/base",
          "model_module_version": "1.2.0",
          "model_name": "LayoutModel",
          "state": {
            "_model_module": "@jupyter-widgets/base",
            "_model_module_version": "1.2.0",
            "_model_name": "LayoutModel",
            "_view_count": null,
            "_view_module": "@jupyter-widgets/base",
            "_view_module_version": "1.2.0",
            "_view_name": "LayoutView",
            "align_content": null,
            "align_items": null,
            "align_self": null,
            "border": null,
            "bottom": null,
            "display": null,
            "flex": null,
            "flex_flow": null,
            "grid_area": null,
            "grid_auto_columns": null,
            "grid_auto_flow": null,
            "grid_auto_rows": null,
            "grid_column": null,
            "grid_gap": null,
            "grid_row": null,
            "grid_template_areas": null,
            "grid_template_columns": null,
            "grid_template_rows": null,
            "height": null,
            "justify_content": null,
            "justify_items": null,
            "left": null,
            "margin": null,
            "max_height": null,
            "max_width": null,
            "min_height": null,
            "min_width": null,
            "object_fit": null,
            "object_position": null,
            "order": null,
            "overflow": null,
            "overflow_x": null,
            "overflow_y": null,
            "padding": null,
            "right": null,
            "top": null,
            "visibility": null,
            "width": null
          }
        },
        "a5497630ac6b4ee7af2877d383da2e6d": {
          "model_module": "@jupyter-widgets/base",
          "model_module_version": "1.2.0",
          "model_name": "LayoutModel",
          "state": {
            "_model_module": "@jupyter-widgets/base",
            "_model_module_version": "1.2.0",
            "_model_name": "LayoutModel",
            "_view_count": null,
            "_view_module": "@jupyter-widgets/base",
            "_view_module_version": "1.2.0",
            "_view_name": "LayoutView",
            "align_content": null,
            "align_items": null,
            "align_self": null,
            "border": null,
            "bottom": null,
            "display": null,
            "flex": null,
            "flex_flow": null,
            "grid_area": null,
            "grid_auto_columns": null,
            "grid_auto_flow": null,
            "grid_auto_rows": null,
            "grid_column": null,
            "grid_gap": null,
            "grid_row": null,
            "grid_template_areas": null,
            "grid_template_columns": null,
            "grid_template_rows": null,
            "height": null,
            "justify_content": null,
            "justify_items": null,
            "left": null,
            "margin": null,
            "max_height": null,
            "max_width": null,
            "min_height": null,
            "min_width": null,
            "object_fit": null,
            "object_position": null,
            "order": null,
            "overflow": null,
            "overflow_x": null,
            "overflow_y": null,
            "padding": null,
            "right": null,
            "top": null,
            "visibility": null,
            "width": null
          }
        },
        "a69aa7c1494d44f7b46e1b7096cec20b": {
          "model_module": "@jupyter-widgets/base",
          "model_module_version": "1.2.0",
          "model_name": "LayoutModel",
          "state": {
            "_model_module": "@jupyter-widgets/base",
            "_model_module_version": "1.2.0",
            "_model_name": "LayoutModel",
            "_view_count": null,
            "_view_module": "@jupyter-widgets/base",
            "_view_module_version": "1.2.0",
            "_view_name": "LayoutView",
            "align_content": null,
            "align_items": null,
            "align_self": null,
            "border": null,
            "bottom": null,
            "display": null,
            "flex": null,
            "flex_flow": null,
            "grid_area": null,
            "grid_auto_columns": null,
            "grid_auto_flow": null,
            "grid_auto_rows": null,
            "grid_column": null,
            "grid_gap": null,
            "grid_row": null,
            "grid_template_areas": null,
            "grid_template_columns": null,
            "grid_template_rows": null,
            "height": null,
            "justify_content": null,
            "justify_items": null,
            "left": null,
            "margin": null,
            "max_height": null,
            "max_width": null,
            "min_height": null,
            "min_width": null,
            "object_fit": null,
            "object_position": null,
            "order": null,
            "overflow": null,
            "overflow_x": null,
            "overflow_y": null,
            "padding": null,
            "right": null,
            "top": null,
            "visibility": null,
            "width": null
          }
        },
        "a7721a668c124a53a471fc6a271fa351": {
          "model_module": "@jupyter-widgets/base",
          "model_module_version": "1.2.0",
          "model_name": "LayoutModel",
          "state": {
            "_model_module": "@jupyter-widgets/base",
            "_model_module_version": "1.2.0",
            "_model_name": "LayoutModel",
            "_view_count": null,
            "_view_module": "@jupyter-widgets/base",
            "_view_module_version": "1.2.0",
            "_view_name": "LayoutView",
            "align_content": null,
            "align_items": null,
            "align_self": null,
            "border": null,
            "bottom": null,
            "display": null,
            "flex": null,
            "flex_flow": null,
            "grid_area": null,
            "grid_auto_columns": null,
            "grid_auto_flow": null,
            "grid_auto_rows": null,
            "grid_column": null,
            "grid_gap": null,
            "grid_row": null,
            "grid_template_areas": null,
            "grid_template_columns": null,
            "grid_template_rows": null,
            "height": null,
            "justify_content": null,
            "justify_items": null,
            "left": null,
            "margin": null,
            "max_height": null,
            "max_width": null,
            "min_height": null,
            "min_width": null,
            "object_fit": null,
            "object_position": null,
            "order": null,
            "overflow": null,
            "overflow_x": null,
            "overflow_y": null,
            "padding": null,
            "right": null,
            "top": null,
            "visibility": null,
            "width": null
          }
        },
        "ada780a496994d27a64c47f6c525df3e": {
          "model_module": "@jupyter-widgets/controls",
          "model_module_version": "1.5.0",
          "model_name": "DescriptionStyleModel",
          "state": {
            "_model_module": "@jupyter-widgets/controls",
            "_model_module_version": "1.5.0",
            "_model_name": "DescriptionStyleModel",
            "_view_count": null,
            "_view_module": "@jupyter-widgets/base",
            "_view_module_version": "1.2.0",
            "_view_name": "StyleView",
            "description_width": ""
          }
        },
        "aed5e637da404676a0c50d9a26b4b5da": {
          "model_module": "@jupyter-widgets/controls",
          "model_module_version": "1.5.0",
          "model_name": "HTMLModel",
          "state": {
            "_dom_classes": [],
            "_model_module": "@jupyter-widgets/controls",
            "_model_module_version": "1.5.0",
            "_model_name": "HTMLModel",
            "_view_count": null,
            "_view_module": "@jupyter-widgets/controls",
            "_view_module_version": "1.5.0",
            "_view_name": "HTMLView",
            "description": "",
            "description_tooltip": null,
            "layout": "IPY_MODEL_76ee25dbecc94a24800e45880825ea52",
            "placeholder": "​",
            "style": "IPY_MODEL_f589db2996fc4d7b83c30861a09d3dbe",
            "value": " 570/570 [00:00&lt;00:00, 11.2kB/s]"
          }
        },
        "b22d5b931c6949cdac8b5b0e1dd2686b": {
          "model_module": "@jupyter-widgets/base",
          "model_module_version": "1.2.0",
          "model_name": "LayoutModel",
          "state": {
            "_model_module": "@jupyter-widgets/base",
            "_model_module_version": "1.2.0",
            "_model_name": "LayoutModel",
            "_view_count": null,
            "_view_module": "@jupyter-widgets/base",
            "_view_module_version": "1.2.0",
            "_view_name": "LayoutView",
            "align_content": null,
            "align_items": null,
            "align_self": null,
            "border": null,
            "bottom": null,
            "display": null,
            "flex": null,
            "flex_flow": null,
            "grid_area": null,
            "grid_auto_columns": null,
            "grid_auto_flow": null,
            "grid_auto_rows": null,
            "grid_column": null,
            "grid_gap": null,
            "grid_row": null,
            "grid_template_areas": null,
            "grid_template_columns": null,
            "grid_template_rows": null,
            "height": null,
            "justify_content": null,
            "justify_items": null,
            "left": null,
            "margin": null,
            "max_height": null,
            "max_width": null,
            "min_height": null,
            "min_width": null,
            "object_fit": null,
            "object_position": null,
            "order": null,
            "overflow": null,
            "overflow_x": null,
            "overflow_y": null,
            "padding": null,
            "right": null,
            "top": null,
            "visibility": null,
            "width": null
          }
        },
        "b3b4a59dee3b4bb4ba4af9fd8b5de3d5": {
          "model_module": "@jupyter-widgets/controls",
          "model_module_version": "1.5.0",
          "model_name": "HTMLModel",
          "state": {
            "_dom_classes": [],
            "_model_module": "@jupyter-widgets/controls",
            "_model_module_version": "1.5.0",
            "_model_name": "HTMLModel",
            "_view_count": null,
            "_view_module": "@jupyter-widgets/controls",
            "_view_module_version": "1.5.0",
            "_view_name": "HTMLView",
            "description": "",
            "description_tooltip": null,
            "layout": "IPY_MODEL_4a7020ab92c448c28b4c8a35eedea92c",
            "placeholder": "​",
            "style": "IPY_MODEL_84a0cae81c294daf83b4d8981eef7665",
            "value": " 714M/714M [00:05&lt;00:00, 191MB/s]"
          }
        },
        "b80e75f0e14c4c7a891e6565f3df9038": {
          "model_module": "@jupyter-widgets/controls",
          "model_module_version": "1.5.0",
          "model_name": "DescriptionStyleModel",
          "state": {
            "_model_module": "@jupyter-widgets/controls",
            "_model_module_version": "1.5.0",
            "_model_name": "DescriptionStyleModel",
            "_view_count": null,
            "_view_module": "@jupyter-widgets/base",
            "_view_module_version": "1.2.0",
            "_view_name": "StyleView",
            "description_width": ""
          }
        },
        "bfa14cf9463e4aebb0d7cf15e4f2b765": {
          "model_module": "@jupyter-widgets/controls",
          "model_module_version": "1.5.0",
          "model_name": "HBoxModel",
          "state": {
            "_dom_classes": [],
            "_model_module": "@jupyter-widgets/controls",
            "_model_module_version": "1.5.0",
            "_model_name": "HBoxModel",
            "_view_count": null,
            "_view_module": "@jupyter-widgets/controls",
            "_view_module_version": "1.5.0",
            "_view_name": "HBoxView",
            "box_style": "",
            "children": [
              "IPY_MODEL_5b81e8fb629a410ebf3faee33bf07b8e",
              "IPY_MODEL_0fa670dc7847442da2c0ece9c30762c2",
              "IPY_MODEL_db183b833f7a4a05a1cda79f4a10c3f4"
            ],
            "layout": "IPY_MODEL_8fd765d67e3840429da107e775a11f5b"
          }
        },
        "c1d99977761c4880aa016608edd774cc": {
          "model_module": "@jupyter-widgets/controls",
          "model_module_version": "1.5.0",
          "model_name": "HBoxModel",
          "state": {
            "_dom_classes": [],
            "_model_module": "@jupyter-widgets/controls",
            "_model_module_version": "1.5.0",
            "_model_name": "HBoxModel",
            "_view_count": null,
            "_view_module": "@jupyter-widgets/controls",
            "_view_module_version": "1.5.0",
            "_view_name": "HBoxView",
            "box_style": "",
            "children": [
              "IPY_MODEL_292889d6ed284d02a5001fcc2baafd3e",
              "IPY_MODEL_394afa901cb5416d964ddd62f91374f0",
              "IPY_MODEL_6c323730275e4b459c639505d0a5fdb2"
            ],
            "layout": "IPY_MODEL_7fe42adc26da49aa8c10acf1d791e96d"
          }
        },
        "c32dbe9ea7eb4051bcf17be4db2f6dae": {
          "model_module": "@jupyter-widgets/controls",
          "model_module_version": "1.5.0",
          "model_name": "HBoxModel",
          "state": {
            "_dom_classes": [],
            "_model_module": "@jupyter-widgets/controls",
            "_model_module_version": "1.5.0",
            "_model_name": "HBoxModel",
            "_view_count": null,
            "_view_module": "@jupyter-widgets/controls",
            "_view_module_version": "1.5.0",
            "_view_name": "HBoxView",
            "box_style": "",
            "children": [
              "IPY_MODEL_511cf6eed565449195925224eed00981",
              "IPY_MODEL_ecbcc73b98dd499dae102559d9cfcdd0",
              "IPY_MODEL_339c90a79422479f98645e22f52178b3"
            ],
            "layout": "IPY_MODEL_ef402dda64e94c91839dfe171607c058"
          }
        },
        "c4b24a83e91f4bc6b3dd25ee514a5ec8": {
          "model_module": "@jupyter-widgets/controls",
          "model_module_version": "1.5.0",
          "model_name": "HTMLModel",
          "state": {
            "_dom_classes": [],
            "_model_module": "@jupyter-widgets/controls",
            "_model_module_version": "1.5.0",
            "_model_name": "HTMLModel",
            "_view_count": null,
            "_view_module": "@jupyter-widgets/controls",
            "_view_module_version": "1.5.0",
            "_view_name": "HTMLView",
            "description": "",
            "description_tooltip": null,
            "layout": "IPY_MODEL_3c59cbe2503f4f4fa7fa02ce867c3541",
            "placeholder": "​",
            "style": "IPY_MODEL_24f5b4649a224a4f9451076b6887c421",
            "value": "model.safetensors: 100%"
          }
        },
        "cf9dcd0a718e4f00a86d976c76f168cd": {
          "model_module": "@jupyter-widgets/base",
          "model_module_version": "1.2.0",
          "model_name": "LayoutModel",
          "state": {
            "_model_module": "@jupyter-widgets/base",
            "_model_module_version": "1.2.0",
            "_model_name": "LayoutModel",
            "_view_count": null,
            "_view_module": "@jupyter-widgets/base",
            "_view_module_version": "1.2.0",
            "_view_name": "LayoutView",
            "align_content": null,
            "align_items": null,
            "align_self": null,
            "border": null,
            "bottom": null,
            "display": null,
            "flex": null,
            "flex_flow": null,
            "grid_area": null,
            "grid_auto_columns": null,
            "grid_auto_flow": null,
            "grid_auto_rows": null,
            "grid_column": null,
            "grid_gap": null,
            "grid_row": null,
            "grid_template_areas": null,
            "grid_template_columns": null,
            "grid_template_rows": null,
            "height": null,
            "justify_content": null,
            "justify_items": null,
            "left": null,
            "margin": null,
            "max_height": null,
            "max_width": null,
            "min_height": null,
            "min_width": null,
            "object_fit": null,
            "object_position": null,
            "order": null,
            "overflow": null,
            "overflow_x": null,
            "overflow_y": null,
            "padding": null,
            "right": null,
            "top": null,
            "visibility": null,
            "width": null
          }
        },
        "d639dc9c1c9248939e03ba3c4769307d": {
          "model_module": "@jupyter-widgets/base",
          "model_module_version": "1.2.0",
          "model_name": "LayoutModel",
          "state": {
            "_model_module": "@jupyter-widgets/base",
            "_model_module_version": "1.2.0",
            "_model_name": "LayoutModel",
            "_view_count": null,
            "_view_module": "@jupyter-widgets/base",
            "_view_module_version": "1.2.0",
            "_view_name": "LayoutView",
            "align_content": null,
            "align_items": null,
            "align_self": null,
            "border": null,
            "bottom": null,
            "display": null,
            "flex": null,
            "flex_flow": null,
            "grid_area": null,
            "grid_auto_columns": null,
            "grid_auto_flow": null,
            "grid_auto_rows": null,
            "grid_column": null,
            "grid_gap": null,
            "grid_row": null,
            "grid_template_areas": null,
            "grid_template_columns": null,
            "grid_template_rows": null,
            "height": null,
            "justify_content": null,
            "justify_items": null,
            "left": null,
            "margin": null,
            "max_height": null,
            "max_width": null,
            "min_height": null,
            "min_width": null,
            "object_fit": null,
            "object_position": null,
            "order": null,
            "overflow": null,
            "overflow_x": null,
            "overflow_y": null,
            "padding": null,
            "right": null,
            "top": null,
            "visibility": null,
            "width": null
          }
        },
        "d669d087238c4ddab866cefbd213b199": {
          "model_module": "@jupyter-widgets/controls",
          "model_module_version": "1.5.0",
          "model_name": "FloatProgressModel",
          "state": {
            "_dom_classes": [],
            "_model_module": "@jupyter-widgets/controls",
            "_model_module_version": "1.5.0",
            "_model_name": "FloatProgressModel",
            "_view_count": null,
            "_view_module": "@jupyter-widgets/controls",
            "_view_module_version": "1.5.0",
            "_view_name": "ProgressView",
            "bar_style": "success",
            "description": "",
            "description_tooltip": null,
            "layout": "IPY_MODEL_87539231695842c99c417def40a11bbb",
            "max": 714290682,
            "min": 0,
            "orientation": "horizontal",
            "style": "IPY_MODEL_19d4f1d1bdf84d5c8b3cc8f2da15e311",
            "value": 714290682
          }
        },
        "d7d5285be46d4b1aaad7b7e9fde90e0d": {
          "model_module": "@jupyter-widgets/controls",
          "model_module_version": "1.5.0",
          "model_name": "ProgressStyleModel",
          "state": {
            "_model_module": "@jupyter-widgets/controls",
            "_model_module_version": "1.5.0",
            "_model_name": "ProgressStyleModel",
            "_view_count": null,
            "_view_module": "@jupyter-widgets/base",
            "_view_module_version": "1.2.0",
            "_view_name": "StyleView",
            "bar_color": null,
            "description_width": ""
          }
        },
        "d83efb0c1a534706a5e62c2a02353ea5": {
          "model_module": "@jupyter-widgets/controls",
          "model_module_version": "1.5.0",
          "model_name": "ProgressStyleModel",
          "state": {
            "_model_module": "@jupyter-widgets/controls",
            "_model_module_version": "1.5.0",
            "_model_name": "ProgressStyleModel",
            "_view_count": null,
            "_view_module": "@jupyter-widgets/base",
            "_view_module_version": "1.2.0",
            "_view_name": "StyleView",
            "bar_color": null,
            "description_width": ""
          }
        },
        "da1d59c6c2e7493ea2006c67e3801058": {
          "model_module": "@jupyter-widgets/base",
          "model_module_version": "1.2.0",
          "model_name": "LayoutModel",
          "state": {
            "_model_module": "@jupyter-widgets/base",
            "_model_module_version": "1.2.0",
            "_model_name": "LayoutModel",
            "_view_count": null,
            "_view_module": "@jupyter-widgets/base",
            "_view_module_version": "1.2.0",
            "_view_name": "LayoutView",
            "align_content": null,
            "align_items": null,
            "align_self": null,
            "border": null,
            "bottom": null,
            "display": null,
            "flex": null,
            "flex_flow": null,
            "grid_area": null,
            "grid_auto_columns": null,
            "grid_auto_flow": null,
            "grid_auto_rows": null,
            "grid_column": null,
            "grid_gap": null,
            "grid_row": null,
            "grid_template_areas": null,
            "grid_template_columns": null,
            "grid_template_rows": null,
            "height": null,
            "justify_content": null,
            "justify_items": null,
            "left": null,
            "margin": null,
            "max_height": null,
            "max_width": null,
            "min_height": null,
            "min_width": null,
            "object_fit": null,
            "object_position": null,
            "order": null,
            "overflow": null,
            "overflow_x": null,
            "overflow_y": null,
            "padding": null,
            "right": null,
            "top": null,
            "visibility": null,
            "width": null
          }
        },
        "db183b833f7a4a05a1cda79f4a10c3f4": {
          "model_module": "@jupyter-widgets/controls",
          "model_module_version": "1.5.0",
          "model_name": "HTMLModel",
          "state": {
            "_dom_classes": [],
            "_model_module": "@jupyter-widgets/controls",
            "_model_module_version": "1.5.0",
            "_model_name": "HTMLModel",
            "_view_count": null,
            "_view_module": "@jupyter-widgets/controls",
            "_view_module_version": "1.5.0",
            "_view_name": "HTMLView",
            "description": "",
            "description_tooltip": null,
            "layout": "IPY_MODEL_54a5c501f4874be7911eeb164b130503",
            "placeholder": "​",
            "style": "IPY_MODEL_b80e75f0e14c4c7a891e6565f3df9038",
            "value": " 466k/466k [00:00&lt;00:00, 11.5MB/s]"
          }
        },
        "e2d0bfeb40ec4a8c8d9aeedcaf207963": {
          "model_module": "@jupyter-widgets/controls",
          "model_module_version": "1.5.0",
          "model_name": "DescriptionStyleModel",
          "state": {
            "_model_module": "@jupyter-widgets/controls",
            "_model_module_version": "1.5.0",
            "_model_name": "DescriptionStyleModel",
            "_view_count": null,
            "_view_module": "@jupyter-widgets/base",
            "_view_module_version": "1.2.0",
            "_view_name": "StyleView",
            "description_width": ""
          }
        },
        "eb27c8ac0cef4fd39c0e380e97fa0d05": {
          "model_module": "@jupyter-widgets/base",
          "model_module_version": "1.2.0",
          "model_name": "LayoutModel",
          "state": {
            "_model_module": "@jupyter-widgets/base",
            "_model_module_version": "1.2.0",
            "_model_name": "LayoutModel",
            "_view_count": null,
            "_view_module": "@jupyter-widgets/base",
            "_view_module_version": "1.2.0",
            "_view_name": "LayoutView",
            "align_content": null,
            "align_items": null,
            "align_self": null,
            "border": null,
            "bottom": null,
            "display": null,
            "flex": null,
            "flex_flow": null,
            "grid_area": null,
            "grid_auto_columns": null,
            "grid_auto_flow": null,
            "grid_auto_rows": null,
            "grid_column": null,
            "grid_gap": null,
            "grid_row": null,
            "grid_template_areas": null,
            "grid_template_columns": null,
            "grid_template_rows": null,
            "height": null,
            "justify_content": null,
            "justify_items": null,
            "left": null,
            "margin": null,
            "max_height": null,
            "max_width": null,
            "min_height": null,
            "min_width": null,
            "object_fit": null,
            "object_position": null,
            "order": null,
            "overflow": null,
            "overflow_x": null,
            "overflow_y": null,
            "padding": null,
            "right": null,
            "top": null,
            "visibility": null,
            "width": null
          }
        },
        "ecbcc73b98dd499dae102559d9cfcdd0": {
          "model_module": "@jupyter-widgets/controls",
          "model_module_version": "1.5.0",
          "model_name": "FloatProgressModel",
          "state": {
            "_dom_classes": [],
            "_model_module": "@jupyter-widgets/controls",
            "_model_module_version": "1.5.0",
            "_model_name": "FloatProgressModel",
            "_view_count": null,
            "_view_module": "@jupyter-widgets/controls",
            "_view_module_version": "1.5.0",
            "_view_name": "ProgressView",
            "bar_style": "success",
            "description": "",
            "description_tooltip": null,
            "layout": "IPY_MODEL_4def0ff89a9b44bca06d67449366b0ed",
            "max": 8549,
            "min": 0,
            "orientation": "horizontal",
            "style": "IPY_MODEL_88b3ccf176414ea0bc74dc7917ed94a9",
            "value": 8549
          }
        },
        "ef402dda64e94c91839dfe171607c058": {
          "model_module": "@jupyter-widgets/base",
          "model_module_version": "1.2.0",
          "model_name": "LayoutModel",
          "state": {
            "_model_module": "@jupyter-widgets/base",
            "_model_module_version": "1.2.0",
            "_model_name": "LayoutModel",
            "_view_count": null,
            "_view_module": "@jupyter-widgets/base",
            "_view_module_version": "1.2.0",
            "_view_name": "LayoutView",
            "align_content": null,
            "align_items": null,
            "align_self": null,
            "border": null,
            "bottom": null,
            "display": null,
            "flex": null,
            "flex_flow": null,
            "grid_area": null,
            "grid_auto_columns": null,
            "grid_auto_flow": null,
            "grid_auto_rows": null,
            "grid_column": null,
            "grid_gap": null,
            "grid_row": null,
            "grid_template_areas": null,
            "grid_template_columns": null,
            "grid_template_rows": null,
            "height": null,
            "justify_content": null,
            "justify_items": null,
            "left": null,
            "margin": null,
            "max_height": null,
            "max_width": null,
            "min_height": null,
            "min_width": null,
            "object_fit": null,
            "object_position": null,
            "order": null,
            "overflow": null,
            "overflow_x": null,
            "overflow_y": null,
            "padding": null,
            "right": null,
            "top": null,
            "visibility": null,
            "width": null
          }
        },
        "f06b690169a147ba94a0e0e71c936e33": {
          "model_module": "@jupyter-widgets/base",
          "model_module_version": "1.2.0",
          "model_name": "LayoutModel",
          "state": {
            "_model_module": "@jupyter-widgets/base",
            "_model_module_version": "1.2.0",
            "_model_name": "LayoutModel",
            "_view_count": null,
            "_view_module": "@jupyter-widgets/base",
            "_view_module_version": "1.2.0",
            "_view_name": "LayoutView",
            "align_content": null,
            "align_items": null,
            "align_self": null,
            "border": null,
            "bottom": null,
            "display": null,
            "flex": null,
            "flex_flow": null,
            "grid_area": null,
            "grid_auto_columns": null,
            "grid_auto_flow": null,
            "grid_auto_rows": null,
            "grid_column": null,
            "grid_gap": null,
            "grid_row": null,
            "grid_template_areas": null,
            "grid_template_columns": null,
            "grid_template_rows": null,
            "height": null,
            "justify_content": null,
            "justify_items": null,
            "left": null,
            "margin": null,
            "max_height": null,
            "max_width": null,
            "min_height": null,
            "min_width": null,
            "object_fit": null,
            "object_position": null,
            "order": null,
            "overflow": null,
            "overflow_x": null,
            "overflow_y": null,
            "padding": null,
            "right": null,
            "top": null,
            "visibility": null,
            "width": null
          }
        },
        "f460800953d4426a8ed76751bad8f063": {
          "model_module": "@jupyter-widgets/base",
          "model_module_version": "1.2.0",
          "model_name": "LayoutModel",
          "state": {
            "_model_module": "@jupyter-widgets/base",
            "_model_module_version": "1.2.0",
            "_model_name": "LayoutModel",
            "_view_count": null,
            "_view_module": "@jupyter-widgets/base",
            "_view_module_version": "1.2.0",
            "_view_name": "LayoutView",
            "align_content": null,
            "align_items": null,
            "align_self": null,
            "border": null,
            "bottom": null,
            "display": null,
            "flex": null,
            "flex_flow": null,
            "grid_area": null,
            "grid_auto_columns": null,
            "grid_auto_flow": null,
            "grid_auto_rows": null,
            "grid_column": null,
            "grid_gap": null,
            "grid_row": null,
            "grid_template_areas": null,
            "grid_template_columns": null,
            "grid_template_rows": null,
            "height": null,
            "justify_content": null,
            "justify_items": null,
            "left": null,
            "margin": null,
            "max_height": null,
            "max_width": null,
            "min_height": null,
            "min_width": null,
            "object_fit": null,
            "object_position": null,
            "order": null,
            "overflow": null,
            "overflow_x": null,
            "overflow_y": null,
            "padding": null,
            "right": null,
            "top": null,
            "visibility": null,
            "width": null
          }
        },
        "f589db2996fc4d7b83c30861a09d3dbe": {
          "model_module": "@jupyter-widgets/controls",
          "model_module_version": "1.5.0",
          "model_name": "DescriptionStyleModel",
          "state": {
            "_model_module": "@jupyter-widgets/controls",
            "_model_module_version": "1.5.0",
            "_model_name": "DescriptionStyleModel",
            "_view_count": null,
            "_view_module": "@jupyter-widgets/base",
            "_view_module_version": "1.2.0",
            "_view_name": "StyleView",
            "description_width": ""
          }
        },
        "fb56946b691f4599a1fe42fac7135dd1": {
          "model_module": "@jupyter-widgets/controls",
          "model_module_version": "1.5.0",
          "model_name": "FloatProgressModel",
          "state": {
            "_dom_classes": [],
            "_model_module": "@jupyter-widgets/controls",
            "_model_module_version": "1.5.0",
            "_model_name": "FloatProgressModel",
            "_view_count": null,
            "_view_module": "@jupyter-widgets/controls",
            "_view_module_version": "1.5.0",
            "_view_name": "ProgressView",
            "bar_style": "success",
            "description": "",
            "description_tooltip": null,
            "layout": "IPY_MODEL_19c3694fece746c2934f72201cefb506",
            "max": 570,
            "min": 0,
            "orientation": "horizontal",
            "style": "IPY_MODEL_1b62268cc52b404dafb5b0f7cc2b8e4d",
            "value": 570
          }
        }
      }
    }
  },
  "nbformat": 4,
  "nbformat_minor": 0
}
